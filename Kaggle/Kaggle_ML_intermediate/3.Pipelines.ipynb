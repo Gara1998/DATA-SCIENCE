{
 "cells": [
  {
   "cell_type": "markdown",
   "metadata": {},
   "source": [
    "# PIPELINES"
   ]
  },
  {
   "cell_type": "code",
   "execution_count": 9,
   "metadata": {},
   "outputs": [],
   "source": [
    "import pandas as pd \n",
    "import numpy as np \n",
    "\n",
    "from sklearn.model_selection import train_test_split\n",
    "from sklearn.preprocessing import OneHotEncoder\n",
    "from sklearn.compose import ColumnTransformer\n",
    "from sklearn.pipeline import Pipeline\n",
    "from sklearn.impute import SimpleImputer\n",
    "from sklearn.ensemble import RandomForestRegressor\n",
    "from sklearn.metrics import mean_absolute_error, mean_absolute_percentage_error\n"
   ]
  },
  {
   "cell_type": "code",
   "execution_count": 2,
   "metadata": {},
   "outputs": [],
   "source": [
    "data=pd.read_csv('./melb_data.csv')\n",
    "\n",
    "#Variables predictoras y variable objetivo\n",
    "y=data['Price']\n",
    "X=data.drop(['Price'],axis=1)"
   ]
  },
  {
   "cell_type": "code",
   "execution_count": 10,
   "metadata": {},
   "outputs": [],
   "source": [
    "X_train_full,X_valid_full, y_train,y_valid=train_test_split(X,y,test_size=0.20,random_state=0)\n",
    "\n",
    "low_cardinality=[c for c in X_train_full.columns if X_train_full[c].nunique()<10 and X_train_full[c].dtype=='object']\n",
    "numericals=[c for c in X_train_full.columns if X_train_full[c].dtype in ['int64','float64']]\n",
    "\n",
    "mis_columnas=low_cardinality+numericals\n",
    "X_train=X_train_full[mis_columnas]\n",
    "X_valid=X_valid_full[mis_columnas]"
   ]
  },
  {
   "cell_type": "markdown",
   "metadata": {},
   "source": [
    "## STEP 1: Preprocessing\n",
    "\n",
    "we use the ColumnTransformer class to bundle together different preprocessing steps. The code below:\n",
    "\n",
    "- Imputes missing values in numerical data, and\n",
    "- Imputes missing values and applies a one-hot encoding to categorical data."
   ]
  },
  {
   "cell_type": "code",
   "execution_count": 6,
   "metadata": {},
   "outputs": [],
   "source": [
    "#Preprocesando valores numericos (simpleimputes los sustituye por la media de la columna donde se encuentra)\n",
    "numerical_imputer=SimpleImputer(strategy='constant')\n",
    "\n",
    "#Valores categoricos.\n",
    "categorical=Pipeline(steps=[\n",
    "    ('imputer',SimpleImputer(strategy='most_frequent')), #Rellena los valores faltantes con el mas repetido\n",
    "    ('onehot',OneHotEncoder(handle_unknown='ignore'))\n",
    "])\n",
    "\n",
    "#Juntamos todo\n",
    "preprocesor=ColumnTransformer(transformers=[\n",
    "    ('num',numerical_imputer,numericals),\n",
    "    ('cat',categorical,low_cardinality)\n",
    "])"
   ]
  },
  {
   "cell_type": "markdown",
   "metadata": {},
   "source": [
    "## STEP 2: Define the model"
   ]
  },
  {
   "cell_type": "code",
   "execution_count": 8,
   "metadata": {},
   "outputs": [],
   "source": [
    "model=RandomForestRegressor(n_estimators=100,random_state=0)"
   ]
  },
  {
   "cell_type": "markdown",
   "metadata": {},
   "source": [
    "## STEP 3: Create and evaluate the pipeline"
   ]
  },
  {
   "cell_type": "code",
   "execution_count": 11,
   "metadata": {},
   "outputs": [
    {
     "data": {
      "text/plain": [
       "(160679.18917034855, 0.14862435619286685)"
      ]
     },
     "execution_count": 11,
     "metadata": {},
     "output_type": "execute_result"
    }
   ],
   "source": [
    "my_pipeline=Pipeline(steps=[\n",
    "    ('preprocesor',preprocesor),\n",
    "    ('model',model)\n",
    "])\n",
    "\n",
    "#Entrenamiento\n",
    "my_pipeline.fit(X_train,y_train)\n",
    "\n",
    "#test\n",
    "y_pred=my_pipeline.predict(X_valid)\n",
    "\n",
    "mean_absolute_error(y_valid,y_pred), mean_absolute_percentage_error(y_valid,y_pred)"
   ]
  }
 ],
 "metadata": {
  "kernelspec": {
   "display_name": "Python 3",
   "language": "python",
   "name": "python3"
  },
  "language_info": {
   "codemirror_mode": {
    "name": "ipython",
    "version": 3
   },
   "file_extension": ".py",
   "mimetype": "text/x-python",
   "name": "python",
   "nbconvert_exporter": "python",
   "pygments_lexer": "ipython3",
   "version": "3.11.5"
  }
 },
 "nbformat": 4,
 "nbformat_minor": 2
}
