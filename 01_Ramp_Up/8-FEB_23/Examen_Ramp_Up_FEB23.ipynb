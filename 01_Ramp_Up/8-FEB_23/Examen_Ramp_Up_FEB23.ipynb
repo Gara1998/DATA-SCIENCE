{
  "cells": [
    {
      "attachments": {},
      "cell_type": "markdown",
      "metadata": {
        "id": "AY6Q1wDJUobm"
      },
      "source": [
        "<h1><center>Examen de Problemas Ramp Up</center></h1>\n",
        "\n",
        "<h3>Ejercicio 1</h3>\n",
        "\n",
        "Diseñar una función que reciba un diccionario con la compra realizada ({‘Pan’: 2,‘Yogur’: 6}) y calcule el importe total de la compra teniendo en cuenta los descuentos (porcentaje en formato unitario) impuesto por el comercio. A continuación, tenéis disponible la información sobre los productos que tiene el comercio, además de sus precios y descuentos (porcentaje en formato unitario) respectivamente. \n",
        "\n",
        "| **Producto** | **Precio** | **Descuento** |\n",
        "|:--------------:|:------------:|:---------------:|\n",
        "|Pan | 1.20 | 0.10 |\n",
        "|Yogur | 0.30 | 0.00 |\n",
        "|Lejia | 2.80 | 0.15 |\n",
        "|Leche | 0.87 | 0.05 |\n",
        "|Huevo | 0.17 | 0.20 |\n",
        "|Harina | 1.03 | 0.05 |\n",
        "|Detergente | 3.15 | 0.10 |\n",
        "|Gel | 4.19 | 0.00 |\n",
        "\n",
        "* Ejemplo:\n",
        "    * input: {‘Pan’: 2,‘Yogur’: 6}.\n",
        "    * output: 3,96."
      ]
    },
    {
      "cell_type": "code",
      "execution_count": 10,
      "metadata": {
        "id": "WKlXTg5XUobq"
      },
      "outputs": [],
      "source": [
        "def lista_compra(compra):\n",
        "\n",
        "    precio = {'Pan': 1.2, 'Yogur': 0.3, 'Lejia': 2.8, 'Leche': 0.87, 'Huevo': 0.17, 'Harina': 1.03, 'Detergente': 3.15, 'Gel': 4.19}\n",
        "    descuento = {'Pan': 0.1, 'Yogur': 0.0, 'Lejia': 0.15, 'Leche': 0.05, 'Huevo': 0.20, 'Harina': 0.05, 'Detergente': 0.10, 'Gel': 0.0}\n",
        "    contador = 0\n",
        "    \n",
        "    for key, value in compra.items():\n",
        "\n",
        "        contador += value*(precio[key]*(1-descuento[key]))\n",
        "    \n",
        "    return contador"
      ]
    },
    {
      "cell_type": "code",
      "execution_count": 12,
      "metadata": {
        "id": "jtlPOhtKUobu"
      },
      "outputs": [
        {
          "data": {
            "text/plain": [
              "2.88"
            ]
          },
          "execution_count": 12,
          "metadata": {},
          "output_type": "execute_result"
        }
      ],
      "source": [
        "comp = {'Pan': 1, 'Yogur': 6}\n",
        "lista_compra(comp)"
      ]
    },
    {
      "attachments": {},
      "cell_type": "markdown",
      "metadata": {
        "id": "LaFJoGKaUobv"
      },
      "source": [
        "<h3>Ejercicio 2</h3>\n",
        "\n",
        "Desarrollar una función que reciba una lista de números enteros positivos y devuelva una lista de listas, en la que cada sublista será un par de números que representen el números de cifras pares e impares que presenta cada número.\n",
        "\n",
        "* Ejemplo:\n",
        "    * input: [124, 8771].\n",
        "    * output: [[2,1], [1,3]]."
      ]
    },
    {
      "cell_type": "code",
      "execution_count": 13,
      "metadata": {
        "id": "XGfS0MjtUobv"
      },
      "outputs": [],
      "source": [
        "def pares_impares(lst_num):\n",
        "\n",
        "    n =len(lst_num)\n",
        "    results = []\n",
        "\n",
        "    for i in range(n):\n",
        "\n",
        "        temp_lst = [0,0]\n",
        "        temp_num = str(lst_num[i])\n",
        "        \n",
        "        for dig in temp_num:\n",
        "\n",
        "            if int(dig)%2==0:\n",
        "                temp_lst[0]+=1\n",
        "            else:\n",
        "                temp_lst[1]+=1\n",
        "        \n",
        "        results.append(temp_lst)\n",
        "\n",
        "    return results\n"
      ]
    },
    {
      "cell_type": "code",
      "execution_count": 14,
      "metadata": {
        "id": "w5SpKpg3Uobv"
      },
      "outputs": [
        {
          "data": {
            "text/plain": [
              "[[2, 1], [1, 3]]"
            ]
          },
          "execution_count": 14,
          "metadata": {},
          "output_type": "execute_result"
        }
      ],
      "source": [
        "lst_example = [124, 8771]\n",
        "pares_impares(lst_example)"
      ]
    },
    {
      "attachments": {},
      "cell_type": "markdown",
      "metadata": {},
      "source": [
        "<h3>Ejercicio 3</h3>\n",
        "\n",
        "Diseñar una función que reciba un diccionario sobre las prendas (claves) y sus respectivos precios (valores) de una tienda y devuelve un diccionario con el top 3 (las tres prendas más caras).\n",
        "\n",
        "* Ejemplo:\n",
        "    * input: {'camisa': 45.50, 'pantalones':35, 'camiseta': 41.30, 'abrigo':55, 'calcetines': 24}.\n",
        "    * output: {'abrigo':55,'camisa': 45.50, 'camiseta': 41.30}."
      ]
    },
    {
      "cell_type": "code",
      "execution_count": 1,
      "metadata": {},
      "outputs": [],
      "source": [
        "def prendas_caras(dict_prendas):\n",
        "\n",
        "    prendas = list(dict_prendas.keys())\n",
        "    precios = list(dict_prendas.values())\n",
        "\n",
        "    while len(dict_prendas)>3:\n",
        "\n",
        "        ind = precios.index(min(precios))\n",
        "        dict_prendas.pop(prendas[ind])\n",
        "\n",
        "        prendas.pop(ind)\n",
        "        precios.pop(ind)\n",
        "\n",
        "    return dict_prendas"
      ]
    },
    {
      "cell_type": "code",
      "execution_count": 2,
      "metadata": {},
      "outputs": [
        {
          "data": {
            "text/plain": [
              "{'camisa': 45.5, 'camiseta': 41.3, 'abrigo': 55}"
            ]
          },
          "execution_count": 2,
          "metadata": {},
          "output_type": "execute_result"
        }
      ],
      "source": [
        "dict_example = {'camisa': 45.50, 'pantalones':35, 'camiseta': 41.30, 'abrigo':55, 'calcetines': 24}\n",
        "prendas_caras(dict_example)"
      ]
    },
    {
      "attachments": {},
      "cell_type": "markdown",
      "metadata": {},
      "source": [
        "<h3>Ejercicio 4</h3>\n",
        "\n",
        "Desarrollar una función que reciba una lista de números enteros positivos y devuelva una lista formada por dos listas, en la que una sublista represente el grupo de números pares y la otra sublista represente el grupo de los números impares.\n",
        "\n",
        "* Ejemplo:\n",
        "    * input: [13, 5, 2, 71, 40].\n",
        "    * output: [[13, 5, 71], [2, 40]]."
      ]
    },
    {
      "cell_type": "code",
      "execution_count": 19,
      "metadata": {},
      "outputs": [],
      "source": [
        "def paimp(lst_num):\n",
        "\n",
        "    pares=[]\n",
        "    impares=[]\n",
        "\n",
        "    for num in lst_num:\n",
        "\n",
        "        if num%2==0:\n",
        "            pares.append(num)\n",
        "\n",
        "        else:\n",
        "            impares.append(num)\n",
        "\n",
        "    return [impares, pares]"
      ]
    },
    {
      "cell_type": "code",
      "execution_count": 20,
      "metadata": {},
      "outputs": [
        {
          "data": {
            "text/plain": [
              "[[13, 5, 71], [2, 40]]"
            ]
          },
          "execution_count": 20,
          "metadata": {},
          "output_type": "execute_result"
        }
      ],
      "source": [
        "lst_example = [13,5,2,71,40]\n",
        "\n",
        "paimp(lst_example)"
      ]
    }
  ],
  "metadata": {
    "colab": {
      "provenance": []
    },
    "kernelspec": {
      "display_name": "Python 3 (ipykernel)",
      "language": "python",
      "name": "python3"
    },
    "language_info": {
      "codemirror_mode": {
        "name": "ipython",
        "version": 3
      },
      "file_extension": ".py",
      "mimetype": "text/x-python",
      "name": "python",
      "nbconvert_exporter": "python",
      "pygments_lexer": "ipython3",
      "version": "3.11.5"
    }
  },
  "nbformat": 4,
  "nbformat_minor": 0
}
