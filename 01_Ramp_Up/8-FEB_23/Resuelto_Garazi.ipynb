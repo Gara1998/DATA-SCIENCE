{
 "cells": [
  {
   "cell_type": "markdown",
   "metadata": {},
   "source": [
    "<h1><center>Examen de Problemas Ramp Up</center></h1>\n",
    "\n",
    "<h3>Ejercicio 1</h3>\n",
    "\n",
    "Diseñar una función que reciba un diccionario con la compra realizada ({‘Pan’: 2,‘Yogur’: 6}) y calcule el importe total de la compra teniendo en cuenta los descuentos (porcentaje en formato unitario) impuesto por el comercio. A continuación, tenéis disponible la información sobre los productos que tiene el comercio, además de sus precios y descuentos (porcentaje en formato unitario) respectivamente. \n",
    "\n",
    "| **Producto** | **Precio** | **Descuento** |\n",
    "|:--------------:|:------------:|:---------------:|\n",
    "|Pan | 1.20 | 0.10 |\n",
    "|Yogur | 0.30 | 0.00 |\n",
    "|Lejia | 2.80 | 0.15 |\n",
    "|Leche | 0.87 | 0.05 |\n",
    "|Huevo | 0.17 | 0.20 |\n",
    "|Harina | 1.03 | 0.05 |\n",
    "|Detergente | 3.15 | 0.10 |\n",
    "|Gel | 4.19 | 0.00 |\n",
    "\n",
    "* Ejemplo:\n",
    "    * input: {‘Pan’: 2,‘Yogur’: 6}.\n",
    "    * output: 3,96."
   ]
  },
  {
   "cell_type": "code",
   "execution_count": 2,
   "metadata": {},
   "outputs": [
    {
     "data": {
      "text/plain": [
       "3.96"
      ]
     },
     "execution_count": 2,
     "metadata": {},
     "output_type": "execute_result"
    }
   ],
   "source": [
    "def compra(productos:dict):\n",
    "    precio={'Pan':1.20,'Yogur':0.30,'Lejia':2.80,'Leche':0.87,'Huevo':0.17,'Harina':1.03,'Detergente':3.15,'Gel':4.19}\n",
    "    descuento_eur={'Pan':0.10,'Yogur':0,'Lejia':0.15,'Leche':0.05,'Huevo':0.20,'Harina':0.05,'Detergente':0.10,'Gel':0}\n",
    "\n",
    "    total=0\n",
    "    for produc,cantidad in productos.items():\n",
    "        #total+=cantidad*(precio[produc]-precio[produc]*descuento_eur[produc])\n",
    "        total+=cantidad*precio[produc]*(1-descuento_eur[produc])\n",
    "    return total\n",
    "\n",
    "compra({'Pan': 2,'Yogur': 6})"
   ]
  },
  {
   "cell_type": "code",
   "execution_count": 3,
   "metadata": {},
   "outputs": [
    {
     "data": {
      "text/plain": [
       "3.96"
      ]
     },
     "execution_count": 3,
     "metadata": {},
     "output_type": "execute_result"
    }
   ],
   "source": [
    "#Podemos resumir aun mas el ejercicio creando un diccionario (mas complicado para entender)\n",
    "def compra(productos:dict):\n",
    "    datos={'Pan':[1.20,0.10],'Yogur':[0.30,0],'Lejia':[2.80,0.15],'Leche':[0.87,0.05],'Huevo':[0.17,0.20],'Harina':[1.03,0.05],'Detergente':[3.15,0.10],'Gel':[4.19,0]}\n",
    "    \n",
    "    cont=0\n",
    "    for produc,cantidad in productos.items():\n",
    "        cont+=cantidad*datos[produc][0]*(1-datos[produc][1])\n",
    "    return cont\n",
    "\n",
    "compra({'Pan': 2,'Yogur': 6})"
   ]
  },
  {
   "cell_type": "markdown",
   "metadata": {},
   "source": [
    "<h3>Ejercicio 2</h3>\n",
    "\n",
    "Desarrollar una función que reciba una lista de números enteros positivos y devuelva una lista de listas, en la que cada sublista será un par de números que representen el números de cifras pares e impares que presenta cada número.\n",
    "\n",
    "* Ejemplo:\n",
    "    * input: [124, 8771].\n",
    "    * output: [[2,1], [1,3]]."
   ]
  },
  {
   "cell_type": "code",
   "execution_count": 8,
   "metadata": {},
   "outputs": [
    {
     "data": {
      "text/plain": [
       "[[2, 1], [1, 3]]"
      ]
     },
     "execution_count": 8,
     "metadata": {},
     "output_type": "execute_result"
    }
   ],
   "source": [
    "def ejer_2(lista1):\n",
    "    sol=[]\n",
    "\n",
    "    for numero in lista1:\n",
    "        if numero<0 or type(numero)!=int:\n",
    "            return 'ERROR: la lista entrante debera estar formado unicamente por numeros enteros positivos'\n",
    "        else:\n",
    "            par=0\n",
    "            impar=0\n",
    "            for x in str(numero):\n",
    "                if int(x)%2==0:\n",
    "                    par+=1\n",
    "                else:\n",
    "                    impar+=1\n",
    "            sol.append([par,impar])\n",
    "    return sol\n",
    "    \n",
    "\n",
    "ejer_2([124,8771])"
   ]
  },
  {
   "cell_type": "markdown",
   "metadata": {},
   "source": [
    "<h3>Ejercicio 3</h3>\n",
    "\n",
    "Diseñar una función que reciba un diccionario sobre las prendas (claves) y sus respectivos precios (valores) de una tienda y devuelve un diccionario con el top 3 (las tres prendas más caras).\n",
    "\n",
    "* Ejemplo:\n",
    "    * input: {'camisa': 45.50, 'pantalones':35, 'camiseta': 41.30, 'abrigo':55, 'calcetines': 24}.\n",
    "    * output: {'abrigo':55,'camisa': 45.50, 'camiseta': 41.30}."
   ]
  },
  {
   "cell_type": "code",
   "execution_count": 20,
   "metadata": {},
   "outputs": [
    {
     "data": {
      "text/plain": [
       "{'camisa': 45.5, 'camiseta': 41.3, 'abrigo': 55}"
      ]
     },
     "execution_count": 20,
     "metadata": {},
     "output_type": "execute_result"
    }
   ],
   "source": [
    "def ejer_3(entrada:dict):\n",
    "    sol={}\n",
    "    maximos=[]\n",
    "\n",
    "    #Los diccionarios no son ordemables. Primero conseguire una lista con los precios (valores)\n",
    "    precios=list(entrada.values())\n",
    "\n",
    "    for i in range (0,3): #Queremos que esta accion se repita 3 veces. Para obtener el top 3. \n",
    "        guardar=max(precios)\n",
    "        maximos.append(guardar)\n",
    "        precios.remove(guardar)\n",
    "\n",
    "    #Una vez obtenido los 3 precios maximos, creamos el diccionario final relacionando los precios con la prenda \n",
    "    for precio, valor in entrada.items():\n",
    "        if valor in maximos:\n",
    "            sol[precio]=valor\n",
    "        else:\n",
    "            continue\n",
    "\n",
    "    return sol\n",
    "\n",
    "ejer_3({'camisa': 45.50, 'pantalones':35, 'camiseta': 41.30, 'abrigo':55, 'calcetines': 24})\n"
   ]
  },
  {
   "cell_type": "code",
   "execution_count": 1,
   "metadata": {},
   "outputs": [
    {
     "data": {
      "text/plain": [
       "{'camisa': 45.5, 'camiseta': 41.3, 'abrigo': 55}"
      ]
     },
     "execution_count": 1,
     "metadata": {},
     "output_type": "execute_result"
    }
   ],
   "source": [
    "def prendas_caras(dict_prendas):\n",
    "\n",
    "    prendas = list(dict_prendas.keys())\n",
    "    precios = list(dict_prendas.values())\n",
    "\n",
    "    while len(dict_prendas)>3:\n",
    "\n",
    "        ind = precios.index(min(precios))\n",
    "        dict_prendas.pop(prendas[ind])\n",
    "\n",
    "        prendas.pop(ind)\n",
    "        precios.pop(ind)\n",
    "\n",
    "    return dict_prendas\n",
    "\n",
    "dict_example = {'camisa': 45.50, 'pantalones':35, 'camiseta': 41.30, 'abrigo':55, 'calcetines': 24}\n",
    "prendas_caras(dict_example)"
   ]
  },
  {
   "cell_type": "code",
   "execution_count": 4,
   "metadata": {},
   "outputs": [
    {
     "name": "stdout",
     "output_type": "stream",
     "text": [
      "{'abrigo': 55, 'camisa': 45.5, 'camiseta': 41.3}\n"
     ]
    }
   ],
   "source": [
    "def top_3(prendas):\n",
    "  precios = list(prendas.values())\n",
    "  precios.sort(reverse=True)\n",
    "  top3 = {}\n",
    "  \n",
    "  for precio in precios[:3]:\n",
    "    for prenda, precio_prenda in prendas.items():\n",
    "      if precio == precio_prenda:\n",
    "        top3[prenda] = precio\n",
    "  return top3\n",
    "\n",
    "print(top_3({'camisa': 45.50, 'pantalones':35, 'camiseta': 41.30, 'abrigo':55, 'calcetines': 24}))"
   ]
  },
  {
   "cell_type": "markdown",
   "metadata": {},
   "source": [
    "<h3>Ejercicio 4</h3>\n",
    "\n",
    "Desarrollar una función que reciba una lista de números enteros positivos y devuelva una lista formada por dos listas, en la que una sublista represente el grupo de números pares y la otra sublista represente el grupo de los números impares.\n",
    "\n",
    "* Ejemplo:\n",
    "    * input: [13, 5, 2, 71, 40].\n",
    "    * output: [[13, 5, 71], [2, 40]]."
   ]
  },
  {
   "cell_type": "code",
   "execution_count": 22,
   "metadata": {},
   "outputs": [
    {
     "data": {
      "text/plain": [
       "[[13, 5, 71], [2, 40]]"
      ]
     },
     "execution_count": 22,
     "metadata": {},
     "output_type": "execute_result"
    }
   ],
   "source": [
    "def ejer_4(lista4):\n",
    "    par=[]\n",
    "    impar=[]\n",
    "\n",
    "    for x in lista4:\n",
    "        if x%2==0:\n",
    "            par.append(x)\n",
    "        else:\n",
    "            impar.append(x)\n",
    "    \n",
    "    sol=[impar,par]\n",
    "    return sol\n",
    "\n",
    "ejer_4([13, 5, 2, 71, 40])\n"
   ]
  }
 ],
 "metadata": {
  "kernelspec": {
   "display_name": "Python 3",
   "language": "python",
   "name": "python3"
  },
  "language_info": {
   "codemirror_mode": {
    "name": "ipython",
    "version": 3
   },
   "file_extension": ".py",
   "mimetype": "text/x-python",
   "name": "python",
   "nbconvert_exporter": "python",
   "pygments_lexer": "ipython3",
   "version": "3.11.5"
  },
  "orig_nbformat": 4
 },
 "nbformat": 4,
 "nbformat_minor": 2
}
