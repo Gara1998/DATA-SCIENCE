{
 "cells": [
  {
   "cell_type": "markdown",
   "metadata": {},
   "source": [
    "![imagen](./img/ejercicios.png)"
   ]
  },
  {
   "cell_type": "markdown",
   "metadata": {},
   "source": [
    "# Ejercicios Python Basics I"
   ]
  },
  {
   "cell_type": "markdown",
   "metadata": {},
   "source": [
    "## Ejercicio 1\n",
    "1. Escribe el nombre de la calle de tu domicilio en una variable\n",
    "2. Escribe el numero de la calle en otra\n",
    "3. Ciudad en una tercera\n",
    "4. Codigo postal en la cuarta variable\n",
    "5. Crea una quinta variable que concatene todas ellas\n",
    "6. Imprímela por pantalla\n",
    "7. Imprime las 4 variables concatenadas por pantalla sin utilizar la quinta variable"
   ]
  },
  {
   "cell_type": "code",
   "execution_count": 5,
   "metadata": {},
   "outputs": [
    {
     "name": "stdout",
     "output_type": "stream",
     "text": [
      "Solatxi 5 Zeberio 48499\n",
      "Solatxi 5 Zeberio 48499\n"
     ]
    }
   ],
   "source": [
    "calle=\"Solatxi \"\n",
    "numero=\"5 \"\n",
    "ciudad=\"Zeberio \"\n",
    "cp=\"48499\"\n",
    "direccion=calle+numero+ciudad+cp\n",
    "print(direccion)\n",
    "print(calle+numero+ciudad+cp)"
   ]
  },
  {
   "cell_type": "code",
   "execution_count": 15,
   "metadata": {},
   "outputs": [
    {
     "name": "stdout",
     "output_type": "stream",
     "text": [
      "solatzi 5  zeberio 48499\n"
     ]
    }
   ],
   "source": [
    "print(calle,numero,ciudad,cp)"
   ]
  },
  {
   "cell_type": "markdown",
   "metadata": {},
   "source": [
    "## Ejercicio 2\n",
    "Repite el ejercicio 1, pero pidiendo estos datos al usuario en vez de declararlos, imprimiendo a continuación la dirección completa"
   ]
  },
  {
   "cell_type": "code",
   "execution_count": 16,
   "metadata": {},
   "outputs": [
    {
     "name": "stdout",
     "output_type": "stream",
     "text": [
      "solatxi 3 zeberio 48499\n",
      "solatxi 3 zeberio 48499\n"
     ]
    }
   ],
   "source": [
    "calle=input(\"calle donde vives:\")\n",
    "num=input(\"numero:\")\n",
    "ciudad=input(\"ciudad:\")\n",
    "cp=input(\"codigo postal:\")\n",
    "print(calle+\" \"+num+\" \"+ciudad+\" \"+cp)\n",
    "print(calle,num,ciudad,cp) #Mejor"
   ]
  },
  {
   "cell_type": "code",
   "execution_count": 8,
   "metadata": {},
   "outputs": [
    {
     "name": "stdout",
     "output_type": "stream",
     "text": [
      "solatxi 5 zeberio 48499\n"
     ]
    }
   ],
   "source": [
    "direccion=input(\"Escribe la calle el numero la ciudad y el codido postal de donde vives:\")\n",
    "print(direccion)"
   ]
  },
  {
   "cell_type": "markdown",
   "metadata": {},
   "source": [
    "## Ejercicio 3\n",
    "¿Qué variables están mal escritas y por qué? Realiza primero tu hipótesis y luego ejecuta las variables para comprobarlo. En ese orden :)\n",
    "\n",
    "\n",
    "1. mi_variable = \"Economía\" \n",
    "2. otra_var = \"Ejercicio \n",
    "3. True = \"Ejercicio\" \n",
    "4. mi variab1e = \"Alpha\" \n",
    "5. import = 40 \n",
    "6. 81mi_variable = \"Agua\" \n",
    "7. mi_variable10 = 6 "
   ]
  },
  {
   "cell_type": "markdown",
   "metadata": {},
   "source": [
    "1. Bien\n",
    "2. Mal\n",
    "3. Mal\n",
    "4. Mal\n",
    "5. Mal\n",
    "6. Mal\n",
    "7. Bien"
   ]
  },
  {
   "cell_type": "markdown",
   "metadata": {},
   "source": [
    "1. Correcto\n",
    "2. Mal, falta cerrar string\n",
    "3. Palabra reservada True\n",
    "4. Espacio en el nombre de la variable\n",
    "5. import = 40 Mal porque es una palabra reservada\n",
    "6. Nombre variable no empieza por número\n",
    "7. Ok"
   ]
  },
  {
   "cell_type": "markdown",
   "metadata": {},
   "source": [
    "## Ejercicio 4\n",
    "Realiza un conversor de grados Celsius a Fahrenheit. El conversor tiene que recibir el input del usuario y devolver la conversión.\n",
    "\n",
    "La conversión de grados sigue la siguiente fórmula: F = C × (9 / 5) + 32 "
   ]
  },
  {
   "cell_type": "code",
   "execution_count": 13,
   "metadata": {},
   "outputs": [
    {
     "name": "stdout",
     "output_type": "stream",
     "text": [
      "68.9\n"
     ]
    }
   ],
   "source": [
    "celsius=float(input(\"Introduce un valor en grados y te devolvere su valor en Fahrenheit\"))\n",
    "F=celsius*9/5+32\n",
    "print(F)\n"
   ]
  },
  {
   "cell_type": "markdown",
   "metadata": {},
   "source": [
    "## Ejercicio 5\n",
    "Comenta  el Ejercicio 4. Pon un comentario multilinea y haz comentarios de cada linea de código"
   ]
  },
  {
   "cell_type": "code",
   "execution_count": 17,
   "metadata": {},
   "outputs": [
    {
     "data": {
      "text/plain": [
       "'\\nmultilinea\\n'"
      ]
     },
     "execution_count": 17,
     "metadata": {},
     "output_type": "execute_result"
    }
   ],
   "source": [
    "'''\n",
    "multilinea\n",
    "''' "
   ]
  },
  {
   "cell_type": "code",
   "execution_count": 14,
   "metadata": {},
   "outputs": [
    {
     "name": "stdout",
     "output_type": "stream",
     "text": [
      "35.6\n"
     ]
    }
   ],
   "source": [
    "#En la primera linea del codigo el usuario introduce un str, lo convertimos en numero flotante\n",
    "celsius=float(input(\"Introduce un valor en grados y te devolvere su valor en Fahrenheit\"))\n",
    "#En la segunda linea hacemos la conversion de grados a F\n",
    "F=celsius*9/5+32\n",
    "#En la ultima imprimimos el resultado\n",
    "print(F)"
   ]
  }
 ],
 "metadata": {
  "kernelspec": {
   "display_name": "Python 3",
   "language": "python",
   "name": "python3"
  },
  "language_info": {
   "codemirror_mode": {
    "name": "ipython",
    "version": 3
   },
   "file_extension": ".py",
   "mimetype": "text/x-python",
   "name": "python",
   "nbconvert_exporter": "python",
   "pygments_lexer": "ipython3",
   "version": "3.11.5"
  },
  "nbTranslate": {
   "displayLangs": [
    "*"
   ],
   "hotkey": "alt-t",
   "langInMainMenu": true,
   "sourceLang": "en",
   "targetLang": "fr",
   "useGoogleTranslate": true
  },
  "varInspector": {
   "cols": {
    "lenName": 16,
    "lenType": 16,
    "lenVar": 40
   },
   "kernels_config": {
    "python": {
     "delete_cmd_postfix": "",
     "delete_cmd_prefix": "del ",
     "library": "var_list.py",
     "varRefreshCmd": "print(var_dic_list())"
    },
    "r": {
     "delete_cmd_postfix": ") ",
     "delete_cmd_prefix": "rm(",
     "library": "var_list.r",
     "varRefreshCmd": "cat(var_dic_list()) "
    }
   },
   "types_to_exclude": [
    "module",
    "function",
    "builtin_function_or_method",
    "instance",
    "_Feature"
   ],
   "window_display": false
  },
  "vscode": {
   "interpreter": {
    "hash": "abc9fc88bc0e5c548c5da0f33af674c000293e7a58ee42428ace4cfa52bc0e99"
   }
  }
 },
 "nbformat": 4,
 "nbformat_minor": 4
}
