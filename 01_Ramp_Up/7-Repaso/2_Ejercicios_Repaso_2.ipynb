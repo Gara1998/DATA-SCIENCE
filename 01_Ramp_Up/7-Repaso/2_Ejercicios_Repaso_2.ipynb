{
 "cells": [
  {
   "attachments": {},
   "cell_type": "markdown",
   "metadata": {},
   "source": [
    "### Ejercicio 1 \n",
    "Desarrolla una función que reciba dos palabras cualesquiera y devuelva el número de letras que tienen en común."
   ]
  },
  {
   "cell_type": "code",
   "execution_count": 1,
   "metadata": {},
   "outputs": [],
   "source": [
    "#OPCION 1\n",
    "def ejer_1(pal1,pal2):\n",
    "    l1=len(pal1)\n",
    "    l2=len(pal2)\n",
    "    m=min(l1,l2) #Vamos a comparar la palabra con menos letras para reducir el coste\n",
    "\n",
    "    lista=[]\n",
    "    if m==l1: #Palabra corta pal1\n",
    "        for x in pal1:\n",
    "            if x in pal2 and x not in lista:\n",
    "                lista.append(x)\n",
    "    else:\n",
    "        for x in pal2:\n",
    "            if x in pal1 and x not in lista:\n",
    "                lista.append(x)\n",
    "            \n",
    "    return len(lista)\n"
   ]
  },
  {
   "cell_type": "code",
   "execution_count": 2,
   "metadata": {},
   "outputs": [
    {
     "data": {
      "text/plain": [
       "2"
      ]
     },
     "execution_count": 2,
     "metadata": {},
     "output_type": "execute_result"
    }
   ],
   "source": [
    "pal1 = 'camara' \n",
    "pal2 = 'vaca'\n",
    "\n",
    "ejer_1(pal1, pal2)"
   ]
  },
  {
   "cell_type": "code",
   "execution_count": 3,
   "metadata": {},
   "outputs": [],
   "source": [
    "#OPCION 2\n",
    "def ejer_1_2(pal1,pal2):\n",
    "    l1=len(pal1)\n",
    "    l2=len(pal2)\n",
    "    m=min(l1,l2)\n",
    "\n",
    "    lista=[]\n",
    "    if m==l1:\n",
    "        for i in range(l1):\n",
    "            if pal1[i] in pal2 and pal1[i] not in lista:\n",
    "                lista.append(pal1[i])\n",
    "    else:\n",
    "        for i in range(l2):\n",
    "            if pal2[i] in pal1 and pal2[i] not in lista:\n",
    "                lista.append(pal2[i])\n",
    "\n",
    "    return len(lista)"
   ]
  },
  {
   "cell_type": "code",
   "execution_count": 4,
   "metadata": {
    "scrolled": true
   },
   "outputs": [
    {
     "data": {
      "text/plain": [
       "2"
      ]
     },
     "execution_count": 4,
     "metadata": {},
     "output_type": "execute_result"
    }
   ],
   "source": [
    "pal1 = 'camara' \n",
    "pal2 = 'vaca'\n",
    "\n",
    "ejer_1_2(pal1, pal2)"
   ]
  },
  {
   "cell_type": "code",
   "execution_count": 5,
   "metadata": {},
   "outputs": [],
   "source": [
    "#OPCION 3: hasiendo uso de sets\n",
    "def ejer_1_3(pal1,pal2):\n",
    "    set1=set(pal1)\n",
    "    set2=set(pal2)\n",
    "    comun=(set1&set2) #INTERSECCION\n",
    "\n",
    "    return len(comun)\n",
    "    "
   ]
  },
  {
   "cell_type": "code",
   "execution_count": 6,
   "metadata": {},
   "outputs": [
    {
     "data": {
      "text/plain": [
       "2"
      ]
     },
     "execution_count": 6,
     "metadata": {},
     "output_type": "execute_result"
    }
   ],
   "source": [
    "pal1 = 'camara' \n",
    "pal2 = 'vaca'\n",
    "\n",
    "ejer_1_3(pal1, pal2)"
   ]
  },
  {
   "attachments": {},
   "cell_type": "markdown",
   "metadata": {},
   "source": [
    "### Ejercicio 2\n",
    "Un número primo es aquel número que solo es divisible por 1 y por si mismo (2,3,5,7,11,13,...). Define una función que pida al usuario un número natural mayor que 2 y devuelva si se trata de un número primo o no."
   ]
  },
  {
   "cell_type": "code",
   "execution_count": 7,
   "metadata": {},
   "outputs": [],
   "source": [
    "def primo(numero):\n",
    "\n",
    "    if numero<2 or type(numero)!=int:\n",
    "        return 'ERROR: debes introducir un numero natural mayor que 2'\n",
    "    else:\n",
    "        for i in range(2,numero): #i=2,3,4,...,numero-1 (no queremos comprobar si es divisible por 1 ni por el mismo ya que siempre sera)\n",
    "            if numero%i==0:\n",
    "                return 'NO es primo'\n",
    "        else:\n",
    "            return 'Numero primo'\n"
   ]
  },
  {
   "cell_type": "code",
   "execution_count": 8,
   "metadata": {},
   "outputs": [
    {
     "ename": "KeyboardInterrupt",
     "evalue": "Interrupted by user",
     "output_type": "error",
     "traceback": [
      "\u001b[1;31m---------------------------------------------------------------------------\u001b[0m",
      "\u001b[1;31mKeyboardInterrupt\u001b[0m                         Traceback (most recent call last)",
      "\u001b[1;32mc:\\Users\\Bridgeschool37\\Desktop\\Data\\01_Ramp_Up\\7-Repaso\\2_Ejercicios_Repaso_2.ipynb Celda 10\u001b[0m line \u001b[0;36m1\n\u001b[1;32m----> <a href='vscode-notebook-cell:/c%3A/Users/Bridgeschool37/Desktop/Data/01_Ramp_Up/7-Repaso/2_Ejercicios_Repaso_2.ipynb#X12sZmlsZQ%3D%3D?line=0'>1</a>\u001b[0m n\u001b[39m=\u001b[39m\u001b[39mint\u001b[39m(\u001b[39minput\u001b[39;49m(\u001b[39m'\u001b[39;49m\u001b[39mIntroduce un numero natural mayor que 2\u001b[39;49m\u001b[39m'\u001b[39;49m))\n\u001b[0;32m      <a href='vscode-notebook-cell:/c%3A/Users/Bridgeschool37/Desktop/Data/01_Ramp_Up/7-Repaso/2_Ejercicios_Repaso_2.ipynb#X12sZmlsZQ%3D%3D?line=1'>2</a>\u001b[0m primo(n)\n",
      "File \u001b[1;32m~\\AppData\\Roaming\\Python\\Python311\\site-packages\\ipykernel\\kernelbase.py:1202\u001b[0m, in \u001b[0;36mKernel.raw_input\u001b[1;34m(self, prompt)\u001b[0m\n\u001b[0;32m   1200\u001b[0m     msg \u001b[39m=\u001b[39m \u001b[39m\"\u001b[39m\u001b[39mraw_input was called, but this frontend does not support input requests.\u001b[39m\u001b[39m\"\u001b[39m\n\u001b[0;32m   1201\u001b[0m     \u001b[39mraise\u001b[39;00m StdinNotImplementedError(msg)\n\u001b[1;32m-> 1202\u001b[0m \u001b[39mreturn\u001b[39;00m \u001b[39mself\u001b[39;49m\u001b[39m.\u001b[39;49m_input_request(\n\u001b[0;32m   1203\u001b[0m     \u001b[39mstr\u001b[39;49m(prompt),\n\u001b[0;32m   1204\u001b[0m     \u001b[39mself\u001b[39;49m\u001b[39m.\u001b[39;49m_parent_ident[\u001b[39m\"\u001b[39;49m\u001b[39mshell\u001b[39;49m\u001b[39m\"\u001b[39;49m],\n\u001b[0;32m   1205\u001b[0m     \u001b[39mself\u001b[39;49m\u001b[39m.\u001b[39;49mget_parent(\u001b[39m\"\u001b[39;49m\u001b[39mshell\u001b[39;49m\u001b[39m\"\u001b[39;49m),\n\u001b[0;32m   1206\u001b[0m     password\u001b[39m=\u001b[39;49m\u001b[39mFalse\u001b[39;49;00m,\n\u001b[0;32m   1207\u001b[0m )\n",
      "File \u001b[1;32m~\\AppData\\Roaming\\Python\\Python311\\site-packages\\ipykernel\\kernelbase.py:1245\u001b[0m, in \u001b[0;36mKernel._input_request\u001b[1;34m(self, prompt, ident, parent, password)\u001b[0m\n\u001b[0;32m   1242\u001b[0m \u001b[39mexcept\u001b[39;00m \u001b[39mKeyboardInterrupt\u001b[39;00m:\n\u001b[0;32m   1243\u001b[0m     \u001b[39m# re-raise KeyboardInterrupt, to truncate traceback\u001b[39;00m\n\u001b[0;32m   1244\u001b[0m     msg \u001b[39m=\u001b[39m \u001b[39m\"\u001b[39m\u001b[39mInterrupted by user\u001b[39m\u001b[39m\"\u001b[39m\n\u001b[1;32m-> 1245\u001b[0m     \u001b[39mraise\u001b[39;00m \u001b[39mKeyboardInterrupt\u001b[39;00m(msg) \u001b[39mfrom\u001b[39;00m \u001b[39mNone\u001b[39;00m\n\u001b[0;32m   1246\u001b[0m \u001b[39mexcept\u001b[39;00m \u001b[39mException\u001b[39;00m:\n\u001b[0;32m   1247\u001b[0m     \u001b[39mself\u001b[39m\u001b[39m.\u001b[39mlog\u001b[39m.\u001b[39mwarning(\u001b[39m\"\u001b[39m\u001b[39mInvalid Message:\u001b[39m\u001b[39m\"\u001b[39m, exc_info\u001b[39m=\u001b[39m\u001b[39mTrue\u001b[39;00m)\n",
      "\u001b[1;31mKeyboardInterrupt\u001b[0m: Interrupted by user"
     ]
    }
   ],
   "source": [
    "n=int(input('Introduce un numero natural mayor que 2'))\n",
    "primo(n)"
   ]
  },
  {
   "attachments": {},
   "cell_type": "markdown",
   "metadata": {},
   "source": [
    "### Ejercicio 3\n",
    "Desarrollar una función en la que se vaya pidiendo números reales al usuario (uno por uno) y una vez el usuario ingrese la palabra ***terminar***, la función devuelva el valor máximo y mínimo de los números ingresados por el usuario.\n"
   ]
  },
  {
   "cell_type": "code",
   "execution_count": null,
   "metadata": {},
   "outputs": [],
   "source": [
    "def reales():\n",
    "    lista=[]\n",
    "\n",
    "    entrada=input('Introduce un numero real o \"Terminar\" en el caso que quieras acabar')\n",
    "\n",
    "    if entrada=='Terminar':\n",
    "        return 'No se han introducido numeros reales'\n",
    "    \n",
    "    else:\n",
    "        while True:\n",
    "            entrada=input('Introduce un numero real o \"Terminar\" en el caso que quieras acabar')\n",
    "            if entrada=='Terminar':\n",
    "                break\n",
    "            else:\n",
    "                lista.append(entrada)\n",
    "\n",
    "        maximo=max(lista)\n",
    "        minimo=min(lista)\n",
    "\n",
    "    print(lista)\n",
    "    return 'Maximo: {} , Minimo: {}'.format(maximo,minimo)"
   ]
  },
  {
   "cell_type": "code",
   "execution_count": null,
   "metadata": {},
   "outputs": [
    {
     "name": "stdout",
     "output_type": "stream",
     "text": [
      "['3', '4', '5', '6']\n"
     ]
    },
    {
     "data": {
      "text/plain": [
       "'Maximo: 6 , Minimo:3 '"
      ]
     },
     "execution_count": 14,
     "metadata": {},
     "output_type": "execute_result"
    }
   ],
   "source": [
    "reales()"
   ]
  },
  {
   "attachments": {},
   "cell_type": "markdown",
   "metadata": {},
   "source": [
    "### Ejercicio 4\n",
    "Desarrollar una función que reciba como entrada una lista de palabras y devuelva la longitud de la palabra más corta y la palabra más larga."
   ]
  },
  {
   "cell_type": "code",
   "execution_count": 9,
   "metadata": {},
   "outputs": [],
   "source": [
    "def ejer_4(lista):\n",
    "    corta=lista[0]\n",
    "    larga=lista[0]\n",
    "\n",
    "    for x in lista:\n",
    "        if len(x)<len(corta):\n",
    "            corta=x\n",
    "        elif len(x)>len(larga):\n",
    "            larga=x\n",
    "\n",
    "    return 'Longitud de la palabra corta: {} y de la larga: {}'.format(len(corta),len(larga))"
   ]
  },
  {
   "cell_type": "code",
   "execution_count": 10,
   "metadata": {},
   "outputs": [
    {
     "data": {
      "text/plain": [
       "'Longitud de la palabra corta: 4 y de la larga: 11'"
      ]
     },
     "execution_count": 10,
     "metadata": {},
     "output_type": "execute_result"
    }
   ],
   "source": [
    "ejer_4(['coche', 'melocoton', 'moto', 'albaricoque'])"
   ]
  },
  {
   "attachments": {},
   "cell_type": "markdown",
   "metadata": {},
   "source": [
    "### Ejercicio 5 \n",
    "Definir una función que reciba una cadena de caracteres y devuelva un diccionario cuyas claves sean las cinco vocales y sus valores sean sus frecuencias dentro de la cadena respectivamente."
   ]
  },
  {
   "cell_type": "code",
   "execution_count": 11,
   "metadata": {},
   "outputs": [],
   "source": [
    "#Cadena de caracteres hace referencia a un STRING\n",
    "def ejer_5(cadena):\n",
    "    vocales=['a','e','i','o','u']\n",
    "    dict={'a':0,'e':0,'i':0,'o':0,'u':0} #Contador a cero\n",
    "\n",
    "    for x in cadena.lower():\n",
    "        if x in vocales:\n",
    "            dict[x]+=1\n",
    "\n",
    "    return dict\n"
   ]
  },
  {
   "cell_type": "code",
   "execution_count": null,
   "metadata": {},
   "outputs": [],
   "source": [
    "   # for x in vocales:\n",
    "        #if x in cadena.lower(): #KONTUZ: MODU HONETAN BATEKIN BAKARRIK GERATZEN DA. errepikatuak kontuan hartu gabe.\n",
    "            #dict[x]+=1"
   ]
  },
  {
   "cell_type": "code",
   "execution_count": 12,
   "metadata": {},
   "outputs": [
    {
     "data": {
      "text/plain": [
       "{'a': 4, 'e': 3, 'i': 2, 'o': 2, 'u': 2}"
      ]
     },
     "execution_count": 12,
     "metadata": {},
     "output_type": "execute_result"
    }
   ],
   "source": [
    "ejer_5('Buenos dias ¿Que tal? Me llamo David.')"
   ]
  },
  {
   "attachments": {},
   "cell_type": "markdown",
   "metadata": {},
   "source": [
    "### Ejercicio 6\n",
    "Definir un programa que pida al usuario dos palabras y devuelva ***True*** si las palabras riman y ***False*** si las palabras no riman."
   ]
  },
  {
   "cell_type": "code",
   "execution_count": null,
   "metadata": {},
   "outputs": [],
   "source": [
    "def rima(pal1, pal2):\n",
    "    \n",
    "    n = len(pal1)\n",
    "    m = len(pal2)\n",
    "    p = min(m,n)\n",
    "    \n",
    "    for i in range(2,p):\n",
    "        \n",
    "        if pal1[-i:]==pal2[-i:]:\n",
    "            return True\n",
    "        \n",
    "    return False"
   ]
  },
  {
   "attachments": {},
   "cell_type": "markdown",
   "metadata": {},
   "source": [
    "### Ejercicio 7\n",
    "Desarrollar una función que reciba una lista de números y devuelva una lista de listas (lista = [$\\text{sublista}_{1}$,$\\text{sublista}_{2}$,$\\text{sublista}_{3}$]), en la que cada sublista contendrá determinados números.\n",
    "\n",
    "* sublista1: los números que tengan de 1-6 cifras.\n",
    "* sublista2: los números que tengan de 7-12 cifras.\n",
    "* sublista3: los números que tengan m´as de 12 cifras.\n",
    "\n",
    "**Nota**: cuidado cuando tengamos un número negativo o con decimales.\n"
   ]
  },
  {
   "cell_type": "code",
   "execution_count": 41,
   "metadata": {},
   "outputs": [],
   "source": [
    "def ejer_7(lista):\n",
    "    sub1=[]\n",
    "    sub2=[]\n",
    "    sub3=[]\n",
    "\n",
    "    for x in lista:\n",
    "        \n",
    "        num=str(x)\n",
    "\n",
    "        if '-' in num or '.' in num:\n",
    "            num=num.replace('-','') #si solo tenemos uno de los dos al que no le hace caso es como si no estuviera esa orden\n",
    "            num=num.replace('.','')\n",
    "\n",
    "        if len(num)>=1 and len(num)<=6:\n",
    "            sub1.append(x)\n",
    "        elif len(num)>=7 and len(num)<=12:\n",
    "            sub2.append(x)\n",
    "        elif len(num)>12:\n",
    "            sub3.append(x)\n",
    "\n",
    "    sol=[sub1,sub2,sub3]\n",
    "    return sol"
   ]
  },
  {
   "cell_type": "code",
   "execution_count": null,
   "metadata": {},
   "outputs": [],
   "source": [
    "#Otra manera de hacerlo\n",
    "def numeros(list_num):\n",
    "    \n",
    "    cifras1 = []\n",
    "    cifras2 = []\n",
    "    cifras3 = []\n",
    "    n = len(list_num)\n",
    "    \n",
    "    for i in range(n):\n",
    "        \n",
    "        temp_num = str(list_num[i]).split('-')[-1].split('.')\n",
    "        cif = 0\n",
    "        m = len(temp_num)\n",
    "        \n",
    "        for j in range(m):\n",
    "            \n",
    "            cif += len(temp_num[j])\n",
    "            \n",
    "        if cif<=6:\n",
    "            cifras1.append(list_num[i])\n",
    "        \n",
    "        elif cif<=12:\n",
    "            cifras2.append(list_num[i])\n",
    "        \n",
    "        else:\n",
    "            cifras3.append(list_num[i])\n",
    "    \n",
    "    cifras = [cifras1, cifras2, cifras3]\n",
    "        \n",
    "    return cifras"
   ]
  },
  {
   "cell_type": "code",
   "execution_count": 45,
   "metadata": {},
   "outputs": [
    {
     "data": {
      "text/plain": [
       "[[-24],\n",
       " [-3435.435, 35454.334232, 7889890, 687806.56545, 56676.353],\n",
       " [8936476273924030925794934248]]"
      ]
     },
     "execution_count": 45,
     "metadata": {},
     "output_type": "execute_result"
    }
   ],
   "source": [
    "ejer_7([-3435.435, 35454.334232, 7889890, 687806.56545, -24, 56676.353, 8936476273924030925794934248])"
   ]
  },
  {
   "cell_type": "code",
   "execution_count": 40,
   "metadata": {},
   "outputs": [
    {
     "data": {
      "text/plain": [
       "'137'"
      ]
     },
     "execution_count": 40,
     "metadata": {},
     "output_type": "execute_result"
    }
   ],
   "source": [
    "#PRUEBA\n",
    "x=-13.7\n",
    "num=str(x)\n",
    "if '-' in num or '.' in num:\n",
    "    num=num.replace('-','')\n",
    "    num=num.replace('.','')\n",
    "\n",
    "num"
   ]
  }
 ],
 "metadata": {
  "kernelspec": {
   "display_name": "Python 3",
   "language": "python",
   "name": "python3"
  },
  "language_info": {
   "codemirror_mode": {
    "name": "ipython",
    "version": 3
   },
   "file_extension": ".py",
   "mimetype": "text/x-python",
   "name": "python",
   "nbconvert_exporter": "python",
   "pygments_lexer": "ipython3",
   "version": "3.11.5"
  },
  "vscode": {
   "interpreter": {
    "hash": "abc9fc88bc0e5c548c5da0f33af674c000293e7a58ee42428ace4cfa52bc0e99"
   }
  }
 },
 "nbformat": 4,
 "nbformat_minor": 2
}
