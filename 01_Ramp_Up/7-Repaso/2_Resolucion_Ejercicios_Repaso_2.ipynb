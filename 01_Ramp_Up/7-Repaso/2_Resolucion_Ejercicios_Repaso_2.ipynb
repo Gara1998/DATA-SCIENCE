{
 "cells": [
  {
   "cell_type": "code",
   "execution_count": null,
   "metadata": {},
   "outputs": [],
   "source": [
    "import pandas as pd\n",
    "import mysql.connector"
   ]
  },
  {
   "cell_type": "markdown",
   "metadata": {},
   "source": [
    "<h1><center>Ejercicios de Fundamentos de Programación y BBDD</center></h1>\n",
    "<h3><center>Repaso</center></h3>\n",
    "\n",
    "<h3>1. Completa los siguientes apartados.</h3>\n",
    "\n",
    "1. <font color=\"blue\">Desarrolla una función que reciba dos palabras cualesquiera y devuelva el número de letras que tienen en común.</font>"
   ]
  },
  {
   "cell_type": "code",
   "execution_count": 1,
   "metadata": {},
   "outputs": [],
   "source": [
    "def n_letras(pal1,pal2):\n",
    "    \n",
    "    n = len(pal1)\n",
    "    m = len(pal2)\n",
    "    p = min(m,n) #para optimizar: nos quedamos con la longitud minima\n",
    "    \n",
    "    let_list = []\n",
    "    \n",
    "    if p == n: \n",
    "        \n",
    "        for i in range(p):\n",
    "            \n",
    "            if pal1[i] in pal2 and pal1[i] not in let_list:\n",
    "                let_list.append(pal1[i])\n",
    "    \n",
    "    else:\n",
    "        \n",
    "        for i in range(p):\n",
    "            \n",
    "            if pal2[i] in pal1 and pal2[i] not in let_list:\n",
    "                let_list.append(pal2[i])\n",
    "    \n",
    "    let_cont = len(let_list)\n",
    "    \n",
    "    return let_cont\n",
    "\n",
    "#tambien podemos hacer calculando la interseccion de dos sets"
   ]
  },
  {
   "cell_type": "code",
   "execution_count": 5,
   "metadata": {},
   "outputs": [],
   "source": [
    "def n_letras(pal1,pal2):\n",
    "    set1=set(pal1)\n",
    "    set2=set(pal2)\n",
    "    return len(list(set1&set2))"
   ]
  },
  {
   "cell_type": "code",
   "execution_count": 6,
   "metadata": {
    "scrolled": true
   },
   "outputs": [
    {
     "data": {
      "text/plain": [
       "2"
      ]
     },
     "execution_count": 6,
     "metadata": {},
     "output_type": "execute_result"
    }
   ],
   "source": [
    "pal1 = 'camara' \n",
    "pal2 = 'vaca'\n",
    "\n",
    "n_letras(pal1, pal2)"
   ]
  },
  {
   "cell_type": "markdown",
   "metadata": {},
   "source": [
    "2. <font color=\"blue\">Un número primo es aquel número que solo es divisible por 1 y por si mismo (2,3,5,7,11,13,...). Define una función que pida al usuario un número natural mayor que 2 y devuelva si se trata de un número primo o no.</font>"
   ]
  },
  {
   "cell_type": "code",
   "execution_count": null,
   "metadata": {},
   "outputs": [],
   "source": [
    "def primo(n):\n",
    "    \n",
    "    for i in range(2,n): #de 2 a n-1\n",
    "        \n",
    "        if n%i==0:\n",
    "            return 'No es primo'\n",
    "        \n",
    "    return 'Es primo'"
   ]
  },
  {
   "cell_type": "code",
   "execution_count": null,
   "metadata": {},
   "outputs": [],
   "source": [
    "n = int(input('Introduce un número entero mayor que 2, '))\n",
    "\n",
    "primo(n)"
   ]
  },
  {
   "cell_type": "markdown",
   "metadata": {},
   "source": [
    "3. <font color=\"blue\">Definir una función que dada una dirección de archivo (’***Archivos/Nombres.txt***’),\n",
    "lea linea por linea los nombres que se encuentran y devuelva una lista con los nombres\n",
    "sin repetir y en orden alfabéico.</font>"
   ]
  },
  {
   "cell_type": "code",
   "execution_count": null,
   "metadata": {},
   "outputs": [],
   "source": [
    "def nombres(direct):\n",
    "    \n",
    "    name_list = []\n",
    "    \n",
    "    archivo = open(direct)\n",
    "    filas = archivo.readlines()\n",
    "    \n",
    "    n= len(filas)\n",
    "    \n",
    "    for i in range(n):\n",
    "        \n",
    "        name_clean = filas[i][:-1]\n",
    "        \n",
    "        if name_clean not in name_list:\n",
    "            name_list.append(name_clean)\n",
    "    \n",
    "    archivo.close()\n",
    "    \n",
    "    name_list.sort()\n",
    "    \n",
    "    return name_list"
   ]
  },
  {
   "cell_type": "code",
   "execution_count": null,
   "metadata": {},
   "outputs": [],
   "source": [
    "direct = 'Archivos/Nombres.txt'\n",
    "\n",
    "nombres(direct)"
   ]
  },
  {
   "cell_type": "markdown",
   "metadata": {},
   "source": [
    "4. <font color=\"blue\">Desarrollar una función en la que se vaya pidiendo números reales al usuario (uno\n",
    "por uno) y una vez el usuario ingrese la palabra ***terminar***, la función devuelva el valor máximo y mínimo de los números ingresados por el usuario.</font>\n"
   ]
  },
  {
   "cell_type": "code",
   "execution_count": 1,
   "metadata": {},
   "outputs": [],
   "source": [
    "def max_min():\n",
    "    \n",
    "    n = input('Introduce un número real, ')\n",
    "    \n",
    "    if n == 'terminar':\n",
    "        return 'No se han introducido números reales.'\n",
    "    \n",
    "    n = float(n)\n",
    "    \n",
    "    n_max = n\n",
    "    n_min = n\n",
    "    \n",
    "    while True:\n",
    "        \n",
    "        n = input('Introduce un número real, ')\n",
    "        \n",
    "        if n=='terminar':\n",
    "\n",
    "            result = 'El valor máximo introducido es '+ str(n_max)+', el valor mínimo introducido es ' + str(n_min) + '.'        \n",
    "    \n",
    "            return result\n",
    "        \n",
    "        else:\n",
    "            \n",
    "            n = float(n)\n",
    "            if n>n_max: \n",
    "                n_max = n\n",
    "                \n",
    "            elif n<n_min:\n",
    "                n_min = n\n",
    "            \n",
    "    #result = 'El valor máximo introducido es '+ str(n_max)+', el valor mínimo introducido es ' + str(n_min) + '.'        \n",
    "    \n",
    "    #return result"
   ]
  },
  {
   "cell_type": "code",
   "execution_count": 2,
   "metadata": {},
   "outputs": [
    {
     "ename": "ValueError",
     "evalue": "could not convert string to float: 'tERMINAR'",
     "output_type": "error",
     "traceback": [
      "\u001b[1;31m---------------------------------------------------------------------------\u001b[0m",
      "\u001b[1;31mValueError\u001b[0m                                Traceback (most recent call last)",
      "\u001b[1;32mc:\\Users\\Bridgeschool37\\Desktop\\Data\\01_Ramp_Up\\7-Repaso\\2_Resolucion_Ejercicios_Repaso_2.ipynb Celda 14\u001b[0m line \u001b[0;36m1\n\u001b[1;32m----> <a href='vscode-notebook-cell:/c%3A/Users/Bridgeschool37/Desktop/Data/01_Ramp_Up/7-Repaso/2_Resolucion_Ejercicios_Repaso_2.ipynb#X16sZmlsZQ%3D%3D?line=0'>1</a>\u001b[0m max_min()\n",
      "\u001b[1;32mc:\\Users\\Bridgeschool37\\Desktop\\Data\\01_Ramp_Up\\7-Repaso\\2_Resolucion_Ejercicios_Repaso_2.ipynb Celda 14\u001b[0m line \u001b[0;36m2\n\u001b[0;32m     <a href='vscode-notebook-cell:/c%3A/Users/Bridgeschool37/Desktop/Data/01_Ramp_Up/7-Repaso/2_Resolucion_Ejercicios_Repaso_2.ipynb#X16sZmlsZQ%3D%3D?line=20'>21</a>\u001b[0m     \u001b[39mreturn\u001b[39;00m result\n\u001b[0;32m     <a href='vscode-notebook-cell:/c%3A/Users/Bridgeschool37/Desktop/Data/01_Ramp_Up/7-Repaso/2_Resolucion_Ejercicios_Repaso_2.ipynb#X16sZmlsZQ%3D%3D?line=22'>23</a>\u001b[0m \u001b[39melse\u001b[39;00m:\n\u001b[1;32m---> <a href='vscode-notebook-cell:/c%3A/Users/Bridgeschool37/Desktop/Data/01_Ramp_Up/7-Repaso/2_Resolucion_Ejercicios_Repaso_2.ipynb#X16sZmlsZQ%3D%3D?line=24'>25</a>\u001b[0m     n \u001b[39m=\u001b[39m \u001b[39mfloat\u001b[39;49m(n)\n\u001b[0;32m     <a href='vscode-notebook-cell:/c%3A/Users/Bridgeschool37/Desktop/Data/01_Ramp_Up/7-Repaso/2_Resolucion_Ejercicios_Repaso_2.ipynb#X16sZmlsZQ%3D%3D?line=25'>26</a>\u001b[0m     \u001b[39mif\u001b[39;00m n\u001b[39m>\u001b[39mn_max: \n\u001b[0;32m     <a href='vscode-notebook-cell:/c%3A/Users/Bridgeschool37/Desktop/Data/01_Ramp_Up/7-Repaso/2_Resolucion_Ejercicios_Repaso_2.ipynb#X16sZmlsZQ%3D%3D?line=26'>27</a>\u001b[0m         n_max \u001b[39m=\u001b[39m n\n",
      "\u001b[1;31mValueError\u001b[0m: could not convert string to float: 'tERMINAR'"
     ]
    }
   ],
   "source": [
    "max_min()"
   ]
  },
  {
   "cell_type": "markdown",
   "metadata": {},
   "source": [
    "5. <font color=\"blue\">Desarrollar una función que reciba como entrada una lista de palabras y devuelva la longitud de la palabra más larga y la palabra más larga.</font>"
   ]
  },
  {
   "cell_type": "code",
   "execution_count": 3,
   "metadata": {},
   "outputs": [],
   "source": [
    "def palabras(list_pal):\n",
    "    \n",
    "    long_pal = 0\n",
    "    n = len(list_pal)\n",
    "    \n",
    "    for i in range(n):\n",
    "        \n",
    "        m = len(list_pal[i])\n",
    "        if m>long_pal:\n",
    "            \n",
    "            long_pal = m\n",
    "            pal = list_pal[i]\n",
    "            \n",
    "    return long_pal, pal"
   ]
  },
  {
   "cell_type": "code",
   "execution_count": 4,
   "metadata": {},
   "outputs": [
    {
     "data": {
      "text/plain": [
       "(11, 'albaricoque')"
      ]
     },
     "execution_count": 4,
     "metadata": {},
     "output_type": "execute_result"
    }
   ],
   "source": [
    "list_pal = ['coche', 'melocoton', 'moto', 'albaricoque']\n",
    "\n",
    "palabras(list_pal)"
   ]
  },
  {
   "cell_type": "markdown",
   "metadata": {},
   "source": [
    "6. <font color=\"blue\">Definir una función que reciba una cadena de caracteres y devuelva un diccionario cuyas claves sean las cinco vocales y sus valores sean sus frecuencias dentro de la cadena respectivamente.</font>"
   ]
  },
  {
   "cell_type": "code",
   "execution_count": 5,
   "metadata": {},
   "outputs": [],
   "source": [
    "def freq_voc(cad):\n",
    "    \n",
    "    vocal_dict = {'a':0, 'e':0, 'i':0, 'o':0, 'u':0}\n",
    "    n = len(cad)\n",
    "    \n",
    "    for i in range(n):\n",
    "        \n",
    "        if cad[i]=='a':\n",
    "            vocal_dict['a'] += 1\n",
    "        \n",
    "        elif cad[i]=='e':\n",
    "            vocal_dict['e'] += 1\n",
    "        \n",
    "        elif cad[i]=='i':\n",
    "            vocal_dict['i'] += 1\n",
    "        \n",
    "        elif cad[i]=='o':\n",
    "            vocal_dict['o'] += 1\n",
    "        \n",
    "        elif cad[i]=='u':\n",
    "            vocal_dict['u'] += 1\n",
    "    \n",
    "    return vocal_dict\n",
    "\n",
    "\n",
    "def freq_voc2(cad):\n",
    "    \n",
    "    vocal_dict = {'a':0, 'e':0, 'i':0, 'o':0, 'u':0}\n",
    "    n = len(cad)\n",
    "    \n",
    "    for i in range(n):\n",
    "        \n",
    "        if cad[i] in vocal_dict.keys():\n",
    "            vocal_dict[cad[i]] += 1\n",
    "        \n",
    "    return vocal_dict"
   ]
  },
  {
   "cell_type": "code",
   "execution_count": 6,
   "metadata": {},
   "outputs": [
    {
     "data": {
      "text/plain": [
       "{'a': 4, 'e': 3, 'i': 2, 'o': 2, 'u': 2}"
      ]
     },
     "execution_count": 6,
     "metadata": {},
     "output_type": "execute_result"
    }
   ],
   "source": [
    "cad = 'Buenos dias ¿Que tal? Me llamo David.'\n",
    "\n",
    "freq_voc2(cad)"
   ]
  },
  {
   "cell_type": "markdown",
   "metadata": {},
   "source": [
    "7. <font color=\"blue\">Definir un programa que pida al usuario dos palabras y devuelva ***True*** si las palabras riman y ***False*** si las palabras no riman.</font>"
   ]
  },
  {
   "cell_type": "code",
   "execution_count": 3,
   "metadata": {},
   "outputs": [],
   "source": [
    "def rima(pal1, pal2):\n",
    "    \n",
    "    n = len(pal1)\n",
    "    m = len(pal2)\n",
    "    p = min(m,n)\n",
    "    \n",
    "    for i in range(2,p):\n",
    "        \n",
    "        if pal1[-i:]==pal2[-i:]:\n",
    "            return True\n",
    "        \n",
    "    return False"
   ]
  },
  {
   "cell_type": "code",
   "execution_count": 4,
   "metadata": {},
   "outputs": [
    {
     "data": {
      "text/plain": [
       "False"
      ]
     },
     "execution_count": 4,
     "metadata": {},
     "output_type": "execute_result"
    }
   ],
   "source": [
    "pal1 = 'camion'\n",
    "pal2 = 'pan'\n",
    "\n",
    "rima(pal1, pal2)"
   ]
  },
  {
   "cell_type": "markdown",
   "metadata": {},
   "source": [
    "8. <font color=\"blue\">Desarrollar una función que reciba una lista de números y devuelva una lista de listas (lista = [$\\text{sublista}_{1}$,$\\text{sublista}_{2}$,$\\text{sublista}_{3}$]), en la que cada sublista contendrá determinados números.</font>\n",
    "\n",
    "* <font color=\"blue\">sublista1: los números que tengan de 1-6 cifras.</font>\n",
    "* <font color=\"blue\">sublista2: los números que tengan de 7-12 cifras.</font>\n",
    "* <font color=\"blue\">sublista3: los números que tengan más de 12 cifras.</font>\n",
    "\n",
    "<font color=\"blue\">**Nota**: cuidado cuando tengamos un número negativo o con decimales.</font>\n"
   ]
  },
  {
   "cell_type": "code",
   "execution_count": 1,
   "metadata": {},
   "outputs": [],
   "source": [
    "def numeros(list_num):\n",
    "    \n",
    "    cifras1 = []\n",
    "    cifras2 = []\n",
    "    cifras3 = []\n",
    "    n = len(list_num)\n",
    "    \n",
    "    for i in range(n):\n",
    "        \n",
    "        temp_num = str(list_num[i]).split('-')[-1].split('.')\n",
    "        cif = 0\n",
    "        m = len(temp_num)\n",
    "        \n",
    "        for j in range(m):\n",
    "            \n",
    "            cif += len(temp_num[j])\n",
    "            \n",
    "        if cif<=6:\n",
    "            cifras1.append(list_num[i])\n",
    "        \n",
    "        elif cif<=12:\n",
    "            cifras2.append(list_num[i])\n",
    "        \n",
    "        else:\n",
    "            cifras3.append(list_num[i])\n",
    "    \n",
    "    cifras = [cifras1, cifras2, cifras3]\n",
    "        \n",
    "    return cifras"
   ]
  },
  {
   "cell_type": "code",
   "execution_count": 2,
   "metadata": {},
   "outputs": [
    {
     "data": {
      "text/plain": [
       "[[-24, 89364],\n",
       " [-3435.435, 35454.334232, 7889890, 687806.56545, 56676.353],\n",
       " [32988345876578326492384]]"
      ]
     },
     "execution_count": 2,
     "metadata": {},
     "output_type": "execute_result"
    }
   ],
   "source": [
    "list_num = [-3435.435, 35454.334232, 7889890, 687806.56545, -24, 56676.353, 89364, 32988345876578326492384]\n",
    "\n",
    "numeros(list_num)"
   ]
  },
  {
   "cell_type": "markdown",
   "metadata": {},
   "source": [
    "9. <font color='blue'>Introduce la siguiente información en un **DataFrame** y realiza las operaciones que se indican.</font>\n",
    "\n",
    "\n",
    "|   | **Animal** | **Edad** | **Prioridad** | **Visitas** |\n",
    "|:-:|:----------:|:--------:|:-------------:|:-----------:|\n",
    "| a | gato       | 2.5      | Si            | 7           |\n",
    "| b | gato       | 3.0      | Si            | 4           |\n",
    "| c | lagarto    | 0.5      | No            | 3           |\n",
    "| d | perro      | NaN      | Si            | 6           |\n",
    "| e | gato       | 2.0      | No            | 1           |\n",
    "| f | perro      | 5.0      | No            | 2           |\n",
    "| g | lagarto    | 4.5      | No            | 5           |\n",
    "| h | gato       | NaN      | Si            | 3           |\n",
    "| i | perro      | 7.0      | No            | 1           |\n",
    "| j | perro      | 3.0      | No            | 6           |\n",
    "\n",
    "* <font color='blue'>Crea el ***DataFrame*** con la información mostrada.</font>\n",
    "* <font color='blue'>Mostrar por pantalla el número de filas y de columnas del ***DataFrame***.</font>\n",
    "* <font color='blue'>Se quiere aplicar una promoción sobre aquellas mascotas que han estado más de 4 veces en la clínica veterinaria. Por lo tanto, hay que crear una nueva columna llamada ’***Promo***’ en la que aparezca ***True*** si la mascota accede a la promoción y ***False*** cuando no acceda a la promoción.</font>\n",
    "* <font color='blue'>Mostrar por pantalla aquellas mascotas que sean perros y accedan a la promoción.</font>\n",
    "* <font color='blue'>Mostrar por pantalla la información relativa a la promoción sobre los gatos mayores de 2 años que hayan asistido a la clínica.</font>\n",
    "* <font color='blue'>Mostrar por pantalla el número de mascotas con prioridad y el número de mascotas que no tienen prioridad.</font>\n",
    "* <font color='blue'>Calcular la media de edad de los lagartos.</font>\n",
    "* <font color='blue'>Calcula el número de animales de cada tipo.</font>\n"
   ]
  },
  {
   "cell_type": "code",
   "execution_count": null,
   "metadata": {},
   "outputs": [],
   "source": [
    "import numpy as np\n",
    "\n",
    "info = {'Animal':['gato', 'gato','lagarto','perro','gato','perro','lagarto','gato','perro','perro'],\n",
    "       'Edad':[2.5, 3.0, 0.5, np.nan, 2.0, 5.0, 4.5, np.nan, 7.0, 3.0],\n",
    "       'Prioridad':['Si', 'Si', 'No', 'Si', 'No', 'No', 'No', 'Si', 'No', 'No'],\n",
    "       'Visitas':[7, 4, 3, 6, 1, 2, 5, 3, 1, 6]}\n",
    "\n",
    "df_animales = pd.DataFrame(info, index=['a', 'b', 'c', 'd', 'e', 'f', 'g', 'h', 'i', 'j'])"
   ]
  },
  {
   "cell_type": "code",
   "execution_count": null,
   "metadata": {},
   "outputs": [],
   "source": [
    "df_animales.shape"
   ]
  },
  {
   "cell_type": "code",
   "execution_count": null,
   "metadata": {},
   "outputs": [],
   "source": [
    "df_animales['Promo'] = df_animales['Visitas']>4\n",
    "\n",
    "df_animales.head()"
   ]
  },
  {
   "cell_type": "code",
   "execution_count": null,
   "metadata": {},
   "outputs": [],
   "source": [
    "print(df_animales[(df_animales['Animal']=='perro') & (df_animales['Promo']==True)])"
   ]
  },
  {
   "cell_type": "code",
   "execution_count": null,
   "metadata": {},
   "outputs": [],
   "source": [
    "print(df_animales[(df_animales['Animal']=='gato') & (df_animales['Edad']>2)]['Promo'])"
   ]
  },
  {
   "cell_type": "code",
   "execution_count": null,
   "metadata": {},
   "outputs": [],
   "source": [
    "print(sum(df_animales['Prioridad']=='Si'), sum(df_animales['Prioridad']=='No'))"
   ]
  },
  {
   "cell_type": "code",
   "execution_count": null,
   "metadata": {},
   "outputs": [],
   "source": [
    "print(df_animales[(df_animales['Animal']=='lagarto')]['Edad'].mean())\n",
    "\n",
    "print(sum(df_animales[(df_animales['Animal']=='lagarto')]['Edad'])/len(df_animales[(df_animales['Animal']=='lagarto')]['Edad']))"
   ]
  },
  {
   "cell_type": "code",
   "execution_count": null,
   "metadata": {},
   "outputs": [],
   "source": [
    "df_animales['Animal'].value_counts()"
   ]
  },
  {
   "cell_type": "code",
   "execution_count": null,
   "metadata": {},
   "outputs": [],
   "source": [
    "df_animales[df_animales['Animal']=='gato'][['Edad','Prioridad']]"
   ]
  },
  {
   "cell_type": "code",
   "execution_count": null,
   "metadata": {},
   "outputs": [],
   "source": []
  },
  {
   "cell_type": "markdown",
   "metadata": {},
   "source": [
    "10. <font color='blue'>Realiza las operaciones que se indican.</font>\n",
    "\n",
    "* <font color='blue'>Crea un ***DataFrame*** con la información del IBEX 35 (***IBEX.csv***).</font>\n",
    "* <font color='blue'>Mostrar por pantalla el número de filas y columnas.</font>\n",
    "* <font color='blue'>Mostrar por pantalla una muestra de 7 registros.</font>\n",
    "* <font color='blue'>Mostrar por pantalla la primera y última fecha.</font>\n",
    "* <font color='blue'>Crear una nueva variable, ***Diferencia***, que represente el resultado de calcular la diferencia entre el valor de apertura y el valor de cierre.</font>\n",
    "* <font color='blue'>Calcula la media de la variable ***Diferencia***.</font>\n",
    "* <font color='blue'>Calcula el número de veces que la variable ***Diferencia*** ha tomado valores positivos.</font>\n",
    "* <font color='blue'>Calcula el número de veces que la variable ***Diferencia*** ha tomado valores negativos.</font>\n",
    "* <font color='blue'>Muestra por pantalla el valor del IBEX 35 el primer día laborable de 2022 y el último día de 2022.</font>\n",
    "* <font color='blue'>¿Existen diferencias entre el valor de cierre y el valor de cierre ajustado?</font>\n",
    "* <font color='blue'>Crea un archivo excel con el ***DataFrame*** creado, ***IBEX35.xlsx***.</font>"
   ]
  },
  {
   "cell_type": "code",
   "execution_count": null,
   "metadata": {},
   "outputs": [],
   "source": [
    "df_IBEX = pd.read_csv('Datos/IBEX.csv')\n",
    "\n",
    "df_IBEX.head()"
   ]
  },
  {
   "cell_type": "code",
   "execution_count": null,
   "metadata": {},
   "outputs": [],
   "source": [
    "df_IBEX.shape"
   ]
  },
  {
   "cell_type": "code",
   "execution_count": null,
   "metadata": {},
   "outputs": [],
   "source": [
    "df_IBEX.head(7)"
   ]
  },
  {
   "cell_type": "code",
   "execution_count": null,
   "metadata": {},
   "outputs": [],
   "source": [
    "df_IBEX.loc[[0,(df_IBEX.shape[0]-1)],['Date']]"
   ]
  },
  {
   "cell_type": "code",
   "execution_count": null,
   "metadata": {},
   "outputs": [],
   "source": [
    "df_IBEX['Diferencia'] = df_IBEX['Open'] - df_IBEX['Close']\n",
    "\n",
    "df_IBEX.head()"
   ]
  },
  {
   "cell_type": "code",
   "execution_count": null,
   "metadata": {},
   "outputs": [],
   "source": [
    "df_IBEX['Diferencia'].mean()"
   ]
  },
  {
   "cell_type": "code",
   "execution_count": null,
   "metadata": {},
   "outputs": [],
   "source": [
    "sum(df_IBEX['Diferencia']>0)"
   ]
  },
  {
   "cell_type": "code",
   "execution_count": null,
   "metadata": {},
   "outputs": [],
   "source": [
    "sum(df_IBEX['Diferencia']<0)"
   ]
  },
  {
   "cell_type": "code",
   "execution_count": null,
   "metadata": {},
   "outputs": [],
   "source": [
    "df_IBEX[(df_IBEX['Date']=='2022-01-03') | (df_IBEX['Date']=='2022-11-04')]"
   ]
  },
  {
   "cell_type": "code",
   "execution_count": null,
   "metadata": {},
   "outputs": [],
   "source": [
    "sum(df_IBEX['Close'] - df_IBEX['Adj Close']) # No hay diferencias"
   ]
  },
  {
   "cell_type": "code",
   "execution_count": null,
   "metadata": {},
   "outputs": [],
   "source": [
    "df_IBEX.to_excel('IBEX35.xlsx')"
   ]
  },
  {
   "cell_type": "markdown",
   "metadata": {},
   "source": [
    "11. <font color='blue'>Completa las siguientes tareas.</font>\n",
    "\n",
    "* <font color='blue'>Crear una tabla con la información del IBEX 35 en tu BBDD MySQL.</font>\n",
    "* <font color='blue'>Realiza una query que muestre los valores de la variable ***Máximo***.</font>\n",
    "* <font color='blue'>Realiza una query que muestre los valores de la variable ***Fecha*** y ***Máximo*** en orden ascendente (respecto a ***Máximo***).</font>"
   ]
  },
  {
   "cell_type": "code",
   "execution_count": null,
   "metadata": {},
   "outputs": [],
   "source": [
    "usuario = \"xabier.garitano\" # Cada uno tiene que introducir su nombre de usuario.\n",
    "contrasena = \"MU0Asfabrik\" # La contraseña es la misma para todos los alumnos.\n",
    "ruta = \"165.22.92.63\"\n",
    "database_name = 'xabier.garitano'\n",
    "\n",
    "conn = mysql.connector.connect(user=usuario, password=contrasena, host=ruta, auth_plugin='mysql_native_password')\n",
    "\n",
    "cur = conn.cursor() # creamos un cursor que utilizaremos para ejecutar sentencias SQL\n",
    "cur.execute('SHOW DATABASES') # ejecutamos mediante el métido execute()\n",
    "print(cur.fetchall())\n",
    "conn.close()"
   ]
  },
  {
   "cell_type": "code",
   "execution_count": null,
   "metadata": {},
   "outputs": [],
   "source": [
    "conn = mysql.connector.connect(user=usuario, password=contrasena, host=ruta, database = database_name)\n",
    "cur = conn.cursor() \n",
    "\n",
    "\n",
    "try:\n",
    "    df = pd.read_csv('Datos/IBEX.csv')\n",
    "    df_list = list(df.itertuples(index=False, name=None))\n",
    "    n = df.shape[0]\n",
    "    cur.execute(f'''USE {database_name}''') \n",
    "    # RELLENA ESTA SENTENCIA\n",
    "    cur.execute(f'''CREATE TABLE IF NOT EXISTS IBEX(Date VARCHAR(15),Open FLOAT,High FLOAT,Low FLOAT,Close FLOAT,\n",
    "    Adj_Close FLOAT,Volume FLOAT)  \n",
    "                ''') \n",
    "    for i in range(n):\n",
    "        # RELLENAR\n",
    "        fila = df_list[i]\n",
    "        cur.execute('''INSERT INTO IBEX(Date,Open,High,Low,Close,Adj_Close,Volume) \n",
    "        VALUES (%s, %s, %s, %s, %s, %s,%s)''',\n",
    "        fila) \n",
    "        conn.commit() \n",
    "except mysql.connector.Error as err:\n",
    "    print(err)\n",
    "    conn.rollback() \n",
    "finally:\n",
    "    conn.close()"
   ]
  },
  {
   "cell_type": "code",
   "execution_count": null,
   "metadata": {},
   "outputs": [],
   "source": [
    "sql = 'SELECT High FROM IBEX'\n",
    "\n",
    "conn = mysql.connector.connect(user=usuario, password=contrasena, host=ruta, database = database_name)\n",
    "resultado = pd.read_sql(sql, conn)\n",
    "conn.close()\n",
    "\n",
    "resultado"
   ]
  },
  {
   "cell_type": "code",
   "execution_count": null,
   "metadata": {},
   "outputs": [],
   "source": [
    "sql = 'SELECT Date, High FROM IBEX ORDER BY High ASC'\n",
    "\n",
    "conn = mysql.connector.connect(user=usuario, password=contrasena, host=ruta, database = database_name)\n",
    "resultado = pd.read_sql(sql, conn)\n",
    "conn.close()\n",
    "\n",
    "resultado"
   ]
  },
  {
   "cell_type": "markdown",
   "metadata": {},
   "source": [
    "12. <font color='blue'>Completa las siguientes tareas.</font>\n",
    "\n",
    "* <font color='blue'>Crear una tabla con la información de los pasajeros del titanic en tu BBDD MySQL.</font>\n",
    "* <font color='blue'>Realiza una query que muestre la cantidad de pasajeros por cada clase.</font>\n",
    "* <font color='blue'>Realiza una query que muestre la cantidad de pasajeros que sobrevivieron.</font>\n",
    "* <font color='blue'>Realiza una query que muestre los distintos valores que toma la variable ***Embarked***.</font>"
   ]
  },
  {
   "cell_type": "code",
   "execution_count": null,
   "metadata": {},
   "outputs": [],
   "source": [
    "usuario = \"xabier.garitano\" # Cada uno tiene que introducir su nombre de usuario.\n",
    "contrasena = \"MU0Asfabrik\" # La contraseña es la misma para todos los alumnos.\n",
    "ruta = \"165.22.92.63\"\n",
    "database_name = 'xabier.garitano'\n",
    "\n",
    "conn = mysql.connector.connect(user=usuario, password=contrasena, host=ruta, auth_plugin='mysql_native_password')\n",
    "\n",
    "cur = conn.cursor() # creamos un cursor que utilizaremos para ejecutar sentencias SQL\n",
    "cur.execute('SHOW DATABASES') # ejecutamos mediante el métido execute()\n",
    "print(cur.fetchall())\n",
    "conn.close()"
   ]
  },
  {
   "cell_type": "code",
   "execution_count": null,
   "metadata": {},
   "outputs": [],
   "source": [
    "conn = mysql.connector.connect(user=usuario, password=contrasena, host=ruta, database = database_name, auth_plugin='mysql_native_password')\n",
    "\n",
    "cur = conn.cursor() # creamos un cursor que utilizaremos para ejecutar sentencias SQL\n",
    "cur.execute('DROP TABLE titanic') # ejecutamos mediante el métido execute()\n",
    "print(cur.fetchall())\n",
    "conn.close()"
   ]
  },
  {
   "cell_type": "code",
   "execution_count": null,
   "metadata": {},
   "outputs": [],
   "source": [
    "conn = mysql.connector.connect(user=usuario, password=contrasena, host=ruta, database = database_name)\n",
    "cur = conn.cursor() \n",
    "\n",
    "\n",
    "try:\n",
    "    df = pd.read_csv('Datos/titanic.csv')\n",
    "    del df['Name']\n",
    "    print(df.head())\n",
    "    df_list = list(df.itertuples(index=False, name=None))\n",
    "    n = df.shape[0]\n",
    "    print(n)\n",
    "    cur.execute(f'''USE {database_name}''') \n",
    "    # RELLENA ESTA SENTENCIA\n",
    "    cur.execute(f'''CREATE TABLE IF NOT EXISTS titanic(PassengerId VARCHAR(5), Survived VARCHAR(5), Pclass VARCHAR(1), \n",
    "    Sex VARCHAR(15), Age INT, SibSp INT, Parch INT, Ticket VARCHAR(50), Fare FLOAT, Cabin VARCHAR(15), \n",
    "    Embarked VARCHAR(5)) ''') \n",
    "    for i in range(n):\n",
    "        # RELLENAR\n",
    "        fila = df_list[i]\n",
    "        cur.execute('''INSERT INTO titanic(PassengerId, Survived, Pclass, Sex, Age, SibSp, Parch, Ticket, Fare, Cabin, Embarked) \n",
    "        VALUES (%s, %s, %s, %s, %s, %s, %s, %s, %s, %s, %s)''',\n",
    "        fila) \n",
    "        conn.commit() \n",
    "except mysql.connector.Error as err:\n",
    "    print(err)\n",
    "    conn.rollback() \n",
    "finally:\n",
    "    conn.close()"
   ]
  },
  {
   "cell_type": "code",
   "execution_count": null,
   "metadata": {},
   "outputs": [],
   "source": [
    "sql = 'SELECT COUNT(*) FROM titanic WHERE Pclass=1'\n",
    "\n",
    "conn = mysql.connector.connect(user=usuario, password=contrasena, host=ruta, database = database_name)\n",
    "resultado = pd.read_sql(sql, conn)\n",
    "conn.close()\n",
    "\n",
    "resultado"
   ]
  },
  {
   "cell_type": "code",
   "execution_count": null,
   "metadata": {},
   "outputs": [],
   "source": [
    "sql = 'SELECT COUNT(*) FROM titanic WHERE Pclass=2'\n",
    "\n",
    "conn = mysql.connector.connect(user=usuario, password=contrasena, host=ruta, database = database_name)\n",
    "resultado = pd.read_sql(sql, conn)\n",
    "conn.close()\n",
    "\n",
    "resultado"
   ]
  },
  {
   "cell_type": "code",
   "execution_count": null,
   "metadata": {},
   "outputs": [],
   "source": [
    "sql = 'SELECT COUNT(*) FROM titanic WHERE Pclass=3'\n",
    "\n",
    "conn = mysql.connector.connect(user=usuario, password=contrasena, host=ruta, database = database_name)\n",
    "resultado = pd.read_sql(sql, conn)\n",
    "conn.close()\n",
    "\n",
    "resultado"
   ]
  },
  {
   "cell_type": "code",
   "execution_count": null,
   "metadata": {},
   "outputs": [],
   "source": [
    "sql = 'SELECT COUNT(*) FROM titanic WHERE Survived=1'\n",
    "\n",
    "conn = mysql.connector.connect(user=usuario, password=contrasena, host=ruta, database = database_name)\n",
    "resultado = pd.read_sql(sql, conn)\n",
    "conn.close()\n",
    "\n",
    "resultado"
   ]
  },
  {
   "cell_type": "code",
   "execution_count": null,
   "metadata": {},
   "outputs": [],
   "source": [
    "sql = 'SELECT DISTINCT(Embarked) FROM titanic'\n",
    "\n",
    "conn = mysql.connector.connect(user=usuario, password=contrasena, host=ruta, database = database_name)\n",
    "resultado = pd.read_sql(sql, conn)\n",
    "conn.close()\n",
    "\n",
    "resultado"
   ]
  },
  {
   "cell_type": "code",
   "execution_count": null,
   "metadata": {},
   "outputs": [],
   "source": []
  }
 ],
 "metadata": {
  "kernelspec": {
   "display_name": "Python 3",
   "language": "python",
   "name": "python3"
  },
  "language_info": {
   "codemirror_mode": {
    "name": "ipython",
    "version": 3
   },
   "file_extension": ".py",
   "mimetype": "text/x-python",
   "name": "python",
   "nbconvert_exporter": "python",
   "pygments_lexer": "ipython3",
   "version": "3.11.5"
  },
  "vscode": {
   "interpreter": {
    "hash": "abc9fc88bc0e5c548c5da0f33af674c000293e7a58ee42428ace4cfa52bc0e99"
   }
  }
 },
 "nbformat": 4,
 "nbformat_minor": 2
}
