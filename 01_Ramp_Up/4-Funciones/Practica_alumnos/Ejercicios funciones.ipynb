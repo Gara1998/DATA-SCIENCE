{
 "cells": [
  {
   "cell_type": "markdown",
   "metadata": {},
   "source": [
    "![imagen](./img/ejercicios.png)"
   ]
  },
  {
   "cell_type": "markdown",
   "metadata": {},
   "source": [
    "# Ejercicios funciones\n",
    "## Ejercicio 1\n",
    "Escribe una función que convierta números del 1 al 7 en nombres de los dias de la semana. La función constará de un único argumento numérico y una salida de tipo string"
   ]
  },
  {
   "cell_type": "code",
   "execution_count": 5,
   "metadata": {},
   "outputs": [
    {
     "name": "stdout",
     "output_type": "stream",
     "text": [
      "Lunes\n",
      "ERROR: valor inadecuado\n"
     ]
    }
   ],
   "source": [
    "def semana(numero):\n",
    "    dic_dias={1:'Lunes',2:'Martes',3:'Miercoles',4:'Jueves',5:'Viernes',6:'Sabado',7:'Domingo'}\n",
    "\n",
    "    if numero<1 or numero>7:\n",
    "        return 'ERROR: valor inadecuado'\n",
    "    else:\n",
    "        for numero in dic_dias:\n",
    "            return dic_dias[numero]\n",
    "\n",
    "print(semana(4))\n",
    "print(semana(9))"
   ]
  },
  {
   "cell_type": "code",
   "execution_count": 2,
   "metadata": {},
   "outputs": [
    {
     "data": {
      "text/plain": [
       "'Martes'"
      ]
     },
     "execution_count": 2,
     "metadata": {},
     "output_type": "execute_result"
    }
   ],
   "source": [
    "#Se puede hacer asi tambien pero es bastante chapuza\n",
    "def semana(numero):\n",
    "    if numero<1 or numero>7:\n",
    "        print('ERROR: el valor numerico debe estar entre 1 y 7')\n",
    "    elif numero==1:\n",
    "        return 'Lunes'\n",
    "    elif numero==2:\n",
    "        return 'Martes'\n",
    "    elif numero==3:\n",
    "        return 'Miercoles'\n",
    "    elif numero==4:\n",
    "        return 'Jueves'\n",
    "    elif numero==5:\n",
    "        return 'Viernes'\n",
    "    elif numero==6:\n",
    "        return 'Sabado'\n",
    "    else:\n",
    "        return 'Domingo'\n",
    "    \n",
    "semana(2)"
   ]
  },
  {
   "cell_type": "markdown",
   "metadata": {},
   "source": [
    "## Ejercicio 2\n",
    "En el ejercicio 8 de flujos de control, creábamos una pirámide invertida de números desde el 5. Crea una función que replique el comportamiento de la pirámide, y utiliza un único parámetro de entrada de la función para determinar el número de filas de la pirámide."
   ]
  },
  {
   "cell_type": "code",
   "execution_count": 75,
   "metadata": {},
   "outputs": [
    {
     "name": "stdout",
     "output_type": "stream",
     "text": [
      "5 4 3 2 1\n",
      "4 3 2 1\n",
      "3 2 1\n",
      "2 1\n"
     ]
    }
   ],
   "source": [
    "#Esto no es lo que se pedia \n",
    "def piramide(num_filas):\n",
    "    str='5 4 3 2 1' #len(str)=9\n",
    "    filas=1\n",
    "     \n",
    "    for i in range(0,9,2): #i=0,2,4,6,8\n",
    "        if filas>num_filas:\n",
    "            return\n",
    "        else:\n",
    "            print(str[i:]) #Desde el valor i hasta el final del str definido\n",
    "            filas+=1\n",
    "\n",
    "piramide(4)\n"
   ]
  },
  {
   "cell_type": "code",
   "execution_count": 3,
   "metadata": {},
   "outputs": [
    {
     "name": "stdout",
     "output_type": "stream",
     "text": [
      "12 11 10 9 8 7 6 5 4 3 2 1\n",
      " 11 10 9 8 7 6 5 4 3 2 1\n",
      "1 10 9 8 7 6 5 4 3 2 1\n",
      "10 9 8 7 6 5 4 3 2 1\n",
      " 9 8 7 6 5 4 3 2 1\n",
      " 8 7 6 5 4 3 2 1\n",
      " 7 6 5 4 3 2 1\n",
      " 6 5 4 3 2 1\n",
      " 5 4 3 2 1\n",
      " 4 3 2 1\n",
      " 3 2 1\n",
      " 2 1\n",
      " 1\n"
     ]
    }
   ],
   "source": [
    "#NO ESTA BIEN: CON NUMEROS DE MAS DE UN DECIMAL DA MAL\n",
    "def piramide(filas):\n",
    "    conc=''\n",
    "\n",
    "    conc=' '.join(map(str,list(range(filas,0,-1))))\n",
    "    \n",
    "    for x in range(0,len(conc),2):\n",
    "        print(conc[x:])\n",
    "\n",
    "piramide(12)"
   ]
  },
  {
   "cell_type": "markdown",
   "metadata": {},
   "source": [
    "## Ejercicio 3\n",
    "Escribe una función que compare dos números. La función tiene dos argumentos y hay tres salidas posibles: que sean iguales, que el primero sea  mayor que el segundo, o que el segundo sea mayor que el primero"
   ]
  },
  {
   "cell_type": "code",
   "execution_count": 37,
   "metadata": {},
   "outputs": [
    {
     "data": {
      "text/plain": [
       "'19.7 es mayor que 2'"
      ]
     },
     "execution_count": 37,
     "metadata": {},
     "output_type": "execute_result"
    }
   ],
   "source": [
    "def comparacion(a,b):\n",
    "    if a==b:\n",
    "        return 'Los numeros introducidos son guales'\n",
    "    elif a<b:\n",
    "        return str(b)+' es mayor que '+str(a)\n",
    "    else:\n",
    "        return str(a)+' es mayor que '+str(b)\n",
    "    \n",
    "comparacion(2,19.7)"
   ]
  },
  {
   "cell_type": "code",
   "execution_count": 4,
   "metadata": {},
   "outputs": [
    {
     "data": {
      "text/plain": [
       "'20 es mayor que 19.7 '"
      ]
     },
     "execution_count": 4,
     "metadata": {},
     "output_type": "execute_result"
    }
   ],
   "source": [
    "def comparacion(a,b):\n",
    "    if a==b:\n",
    "        return 'Los numeros introducidos son guales'\n",
    "    elif a<b:\n",
    "        return '{} es mayor que {}'.format(b,a)\n",
    "    else:\n",
    "        return f'{a} es mayor que {b} '\n",
    "    \n",
    "comparacion(20,19.7)"
   ]
  },
  {
   "cell_type": "markdown",
   "metadata": {},
   "source": [
    "## Ejercicio 4\n",
    "Escribe una función que sea un contador de letras. En el primer argumento tienes que introducir un texto, y el segundo que sea una letra que contar. La función tiene que devolver un entero con el número de veces que aparece esa letra, tanto mayuscula, como minúscula"
   ]
  },
  {
   "cell_type": "code",
   "execution_count": 47,
   "metadata": {},
   "outputs": [
    {
     "data": {
      "text/plain": [
       "3"
      ]
     },
     "execution_count": 47,
     "metadata": {},
     "output_type": "execute_result"
    }
   ],
   "source": [
    "def contador(texto:str,letra:str):\n",
    "    return texto.lower().count(letra.lower())\n",
    "    \n",
    "contador('Hoy es domingo','O')"
   ]
  },
  {
   "cell_type": "code",
   "execution_count": 5,
   "metadata": {},
   "outputs": [
    {
     "data": {
      "text/plain": [
       "3"
      ]
     },
     "execution_count": 5,
     "metadata": {},
     "output_type": "execute_result"
    }
   ],
   "source": [
    "#Para no modificar el texto original\n",
    "def contador(texto:str,letra:str):\n",
    "    texto_copia=texto\n",
    "    letra_copia=letra\n",
    "    return texto_copia.lower().count(letra_copia.lower())\n",
    "    \n",
    "contador('Hoy es domingo','O')"
   ]
  },
  {
   "cell_type": "code",
   "execution_count": 54,
   "metadata": {},
   "outputs": [
    {
     "data": {
      "text/plain": [
       "3"
      ]
     },
     "execution_count": 54,
     "metadata": {},
     "output_type": "execute_result"
    }
   ],
   "source": [
    "def contador(texto:str,letra:str):\n",
    "    cont=0\n",
    "    for i in texto.lower():\n",
    "        if i==letra.lower():\n",
    "            cont+=1\n",
    "    return cont\n",
    "\n",
    "contador('Hoy es domingo','O')"
   ]
  },
  {
   "cell_type": "markdown",
   "metadata": {},
   "source": [
    "## Ejercicio 5\n",
    "Escribe una función que tenga un único argumento, un string. La salida de la función tiene que ser un diccionario con el conteo de todas las letras de ese string, siendo la clave la letra y el valor el conteo."
   ]
  },
  {
   "cell_type": "code",
   "execution_count": 55,
   "metadata": {},
   "outputs": [
    {
     "data": {
      "text/plain": [
       "{'H': 1,\n",
       " 'o': 3,\n",
       " 'y': 1,\n",
       " ' ': 2,\n",
       " 'e': 1,\n",
       " 's': 1,\n",
       " 'd': 1,\n",
       " 'm': 1,\n",
       " 'i': 1,\n",
       " 'n': 1,\n",
       " 'g': 1}"
      ]
     },
     "execution_count": 55,
     "metadata": {},
     "output_type": "execute_result"
    }
   ],
   "source": [
    "def contador_2(frase):\n",
    "    sol={}\n",
    "    for i in frase:\n",
    "        cuantos=frase.lower().count(i.lower())\n",
    "        sol[i]=cuantos\n",
    "    return sol\n",
    "\n",
    "contador_2('Hoy es domingo')"
   ]
  },
  {
   "cell_type": "markdown",
   "metadata": {},
   "source": [
    "## Ejercicio 6\n",
    "Escribir una función que añada o elimine elementos en una lista. La función necesita los siguientes argumentos:\n",
    "* lista: la lista donde se añadirán o eliminarán los elementos\n",
    "* comando: \"add\" o \"remove\"\n",
    "* elemento: Por defecto es None.\n",
    "\n",
    "Tendrá como salida la lista"
   ]
  },
  {
   "cell_type": "code",
   "execution_count": 82,
   "metadata": {},
   "outputs": [
    {
     "data": {
      "text/plain": [
       "[23, 'prueba', 29]"
      ]
     },
     "execution_count": 82,
     "metadata": {},
     "output_type": "execute_result"
    }
   ],
   "source": [
    "def editar(lista:list,elemento=None,añadir=True):\n",
    "    if elemento==None:\n",
    "        return lista\n",
    "    else:\n",
    "        if añadir==True:\n",
    "            lista.append(elemento)\n",
    "        else:\n",
    "            if elemento in lista:\n",
    "                lista.remove(elemento)\n",
    "            else:\n",
    "                print('El elemento que desea borrar no esta en la lista')\n",
    "        return lista\n",
    "    \n",
    "editar([23,'prueba',[1,2],29],[1,2],añadir=False)"
   ]
  },
  {
   "cell_type": "code",
   "execution_count": 10,
   "metadata": {},
   "outputs": [
    {
     "data": {
      "text/plain": [
       "[23, 'prueba', [1, 2], 29]"
      ]
     },
     "execution_count": 10,
     "metadata": {},
     "output_type": "execute_result"
    }
   ],
   "source": [
    "def editar(lista:list,comando,elemento=None):\n",
    "    if elemento==None:\n",
    "        return lista\n",
    "    else:\n",
    "        if comando=='add':\n",
    "            lista.append(elemento)\n",
    "        elif comando=='remove':\n",
    "            if elemento in lista:\n",
    "                lista.remove(elemento)\n",
    "            else:\n",
    "                print('El elemento que desea borrar no esta en la lista')\n",
    "        return lista\n",
    "    \n",
    "editar([23,'prueba',[1,2],29],[1,2],'add')"
   ]
  },
  {
   "cell_type": "markdown",
   "metadata": {},
   "source": [
    "## Ejercicio 7\n",
    "Crea una función que reciba un número arbitrario de palabras, y devuelva una frase completa, separando las palabras con espacios."
   ]
  },
  {
   "cell_type": "code",
   "execution_count": 11,
   "metadata": {},
   "outputs": [
    {
     "name": "stdout",
     "output_type": "stream",
     "text": [
      "<class 'tuple'>\n"
     ]
    },
    {
     "data": {
      "text/plain": [
       "'Hola 89 k True'"
      ]
     },
     "execution_count": 11,
     "metadata": {},
     "output_type": "execute_result"
    }
   ],
   "source": [
    "#En el caso de que todos los input sean strings\n",
    "def frase(*palabras):\n",
    "    #print(type(palabras)) en realidad es una tupla\n",
    "    return ' '.join(palabras)\n",
    "\n",
    "frase('Hola', '89','k','True')"
   ]
  },
  {
   "cell_type": "code",
   "execution_count": 12,
   "metadata": {},
   "outputs": [
    {
     "data": {
      "text/plain": [
       "' Hola tengo 25 años '"
      ]
     },
     "execution_count": 12,
     "metadata": {},
     "output_type": "execute_result"
    }
   ],
   "source": [
    "def frase_2(*palabras):\n",
    "    resul=' '\n",
    "    for i in palabras:\n",
    "        resul+=str(i)+' '\n",
    "\n",
    "    return resul\n",
    "\n",
    "frase_2('Hola', 'tengo', 25, 'años')"
   ]
  },
  {
   "cell_type": "markdown",
   "metadata": {},
   "source": [
    "## Ejercicio 8\n",
    "Escribe un programa que obtenga el enésimo número de la [serie de Fibonacci](https://es.wikipedia.org/wiki/Sucesi%C3%B3n_de_Fibonacci). Tienes que crear una función recursiva con un único argumento.\n",
    "\n",
    "```Python\n",
    "fibonacci(2) = 1\n",
    "fibonacci(4) = 3\n",
    "fibonacci(5) = 5\n",
    "fibonacci(8) = 21\n",
    "```"
   ]
  },
  {
   "attachments": {},
   "cell_type": "markdown",
   "metadata": {},
   "source": [
    "$$Fibonacci = [1 ,1, 2, 3, 5, 8, 13, 21, 34, ...]$$"
   ]
  },
  {
   "cell_type": "code",
   "execution_count": 86,
   "metadata": {},
   "outputs": [
    {
     "data": {
      "text/plain": [
       "55"
      ]
     },
     "execution_count": 86,
     "metadata": {},
     "output_type": "execute_result"
    }
   ],
   "source": [
    "#Usando el bucle while, sin usar recursividad\n",
    "def fibbo(orden):\n",
    "    a=0 #elemento 0 de la serie\n",
    "    b=1 #primer elemento de la serie\n",
    "    cont=1\n",
    "\n",
    "    while cont<=orden:\n",
    "        a,b=b,a+b\n",
    "        cont+=1\n",
    "        if cont==orden:\n",
    "            return b\n",
    "    \n",
    "fibbo(10)"
   ]
  },
  {
   "cell_type": "code",
   "execution_count": 13,
   "metadata": {},
   "outputs": [
    {
     "data": {
      "text/plain": [
       "21"
      ]
     },
     "execution_count": 13,
     "metadata": {},
     "output_type": "execute_result"
    }
   ],
   "source": [
    "#Podemos calcular la serie fibbonaci mediante una funcion recursiva\n",
    "def fibbo_2(orden):\n",
    "    a=0 #elemento 0 de la serie\n",
    "    b=1 #primer y segundo elemento de la serie\n",
    "\n",
    "    if orden==0 or orden==1:\n",
    "        return orden\n",
    "    elif orden==2:\n",
    "        return b\n",
    "    else:\n",
    "        return fibbo_2(orden-2)+fibbo_2(orden-1)\n",
    "\n",
    "fibbo_2(8)\n"
   ]
  },
  {
   "cell_type": "markdown",
   "metadata": {},
   "source": [
    "## Ejercicio 9\n",
    "Define en una única celda las siguientes funciones:\n",
    "* Función que calcule el área de un cuadrado\n",
    "* Función que calcule el area de un triángulo\n",
    "* Función que calcule el área de un círculo\n",
    "\n",
    "En otra celda, calcular el area de:\n",
    "* Dos círculos de radio 10 + un triángulo de base 3 y altura 7\n",
    "* Un cuadrado de lado = 10 + 3 círculos (uno de radio = 4 y los otros dos de radio = 6) + 5 triángulos de base = 2 + altura = 4"
   ]
  },
  {
   "cell_type": "code",
   "execution_count": 20,
   "metadata": {},
   "outputs": [],
   "source": [
    "import math \n",
    "\n",
    "def s_cuadrado(lado):\n",
    "    return lado*2\n",
    "\n",
    "def s_triangulo(base,altura):\n",
    "    return base*altura/2\n",
    "\n",
    "def s_circulo(r):\n",
    "    return math.pi*r**2"
   ]
  },
  {
   "cell_type": "code",
   "execution_count": 22,
   "metadata": {},
   "outputs": [
    {
     "name": "stdout",
     "output_type": "stream",
     "text": [
      "638.8185307179587\n",
      "316.46015351590177\n"
     ]
    }
   ],
   "source": [
    "total_1=2*s_circulo(10)+s_triangulo(3,7)\n",
    "total_2=s_cuadrado(10)+s_circulo(4)+2*s_circulo(6)+5*s_triangulo(2,4)\n",
    "print(total_1)\n",
    "print(total_2)"
   ]
  }
 ],
 "metadata": {
  "kernelspec": {
   "display_name": "Python 3",
   "language": "python",
   "name": "python3"
  },
  "language_info": {
   "codemirror_mode": {
    "name": "ipython",
    "version": 3
   },
   "file_extension": ".py",
   "mimetype": "text/x-python",
   "name": "python",
   "nbconvert_exporter": "python",
   "pygments_lexer": "ipython3",
   "version": "3.11.5"
  },
  "vscode": {
   "interpreter": {
    "hash": "abc9fc88bc0e5c548c5da0f33af674c000293e7a58ee42428ace4cfa52bc0e99"
   }
  }
 },
 "nbformat": 4,
 "nbformat_minor": 4
}
