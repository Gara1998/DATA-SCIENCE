{
 "cells": [
  {
   "cell_type": "markdown",
   "metadata": {},
   "source": [
    "## Pruebas"
   ]
  },
  {
   "cell_type": "code",
   "execution_count": 47,
   "metadata": {},
   "outputs": [],
   "source": [
    "import numpy as np\n",
    "import pandas as pd\n",
    "from sklearn.neighbors import NearestNeighbors"
   ]
  },
  {
   "cell_type": "code",
   "execution_count": 32,
   "metadata": {},
   "outputs": [],
   "source": [
    "usuarios=pd.read_csv('Tabla_perfiles.csv')\n",
    "ofertas=pd.read_csv('Tabla_ofertas.csv')"
   ]
  },
  {
   "cell_type": "code",
   "execution_count": 33,
   "metadata": {},
   "outputs": [
    {
     "name": "stdout",
     "output_type": "stream",
     "text": [
      "<class 'pandas.core.frame.DataFrame'>\n",
      "RangeIndex: 652 entries, 0 to 651\n",
      "Data columns (total 4 columns):\n",
      " #   Column        Non-Null Count  Dtype \n",
      "---  ------        --------------  ----- \n",
      " 0   Id_Usuario    652 non-null    object\n",
      " 1   Id_categoria  652 non-null    object\n",
      " 2   Titulo        652 non-null    object\n",
      " 3   Nivel         652 non-null    int64 \n",
      "dtypes: int64(1), object(3)\n",
      "memory usage: 20.5+ KB\n"
     ]
    }
   ],
   "source": [
    "usuarios.info()"
   ]
  },
  {
   "cell_type": "code",
   "execution_count": 34,
   "metadata": {},
   "outputs": [
    {
     "name": "stdout",
     "output_type": "stream",
     "text": [
      "<class 'pandas.core.frame.DataFrame'>\n",
      "RangeIndex: 698 entries, 0 to 697\n",
      "Data columns (total 4 columns):\n",
      " #   Column        Non-Null Count  Dtype \n",
      "---  ------        --------------  ----- \n",
      " 0   Id_offer      698 non-null    object\n",
      " 1   Id_categoria  698 non-null    object\n",
      " 2   Titulo        698 non-null    object\n",
      " 3   Nivel         698 non-null    int64 \n",
      "dtypes: int64(1), object(3)\n",
      "memory usage: 21.9+ KB\n"
     ]
    }
   ],
   "source": [
    "ofertas.info()"
   ]
  },
  {
   "cell_type": "code",
   "execution_count": 35,
   "metadata": {},
   "outputs": [
    {
     "data": {
      "text/html": [
       "<div>\n",
       "<style scoped>\n",
       "    .dataframe tbody tr th:only-of-type {\n",
       "        vertical-align: middle;\n",
       "    }\n",
       "\n",
       "    .dataframe tbody tr th {\n",
       "        vertical-align: top;\n",
       "    }\n",
       "\n",
       "    .dataframe thead th {\n",
       "        text-align: right;\n",
       "    }\n",
       "</style>\n",
       "<table border=\"1\" class=\"dataframe\">\n",
       "  <thead>\n",
       "    <tr style=\"text-align: right;\">\n",
       "      <th></th>\n",
       "      <th>Id_Usuario</th>\n",
       "      <th>Id_categoria</th>\n",
       "      <th>Titulo</th>\n",
       "      <th>Nivel</th>\n",
       "    </tr>\n",
       "  </thead>\n",
       "  <tbody>\n",
       "    <tr>\n",
       "      <th>0</th>\n",
       "      <td>U0001</td>\n",
       "      <td>DOBLE301</td>\n",
       "      <td>Doble Grado en Ingeniería de Materiales + Inge...</td>\n",
       "      <td>2</td>\n",
       "    </tr>\n",
       "    <tr>\n",
       "      <th>1</th>\n",
       "      <td>U0001</td>\n",
       "      <td>ING010</td>\n",
       "      <td>Grado en Bioingeniería</td>\n",
       "      <td>2</td>\n",
       "    </tr>\n",
       "    <tr>\n",
       "      <th>2</th>\n",
       "      <td>U0001</td>\n",
       "      <td>IDIOMA004</td>\n",
       "      <td>Aleman</td>\n",
       "      <td>6</td>\n",
       "    </tr>\n",
       "    <tr>\n",
       "      <th>3</th>\n",
       "      <td>U0001</td>\n",
       "      <td>IDIOMA007</td>\n",
       "      <td>Árabe</td>\n",
       "      <td>6</td>\n",
       "    </tr>\n",
       "    <tr>\n",
       "      <th>4</th>\n",
       "      <td>U0001</td>\n",
       "      <td>HAB006</td>\n",
       "      <td>Toma de decisiones</td>\n",
       "      <td>1</td>\n",
       "    </tr>\n",
       "  </tbody>\n",
       "</table>\n",
       "</div>"
      ],
      "text/plain": [
       "  Id_Usuario Id_categoria                                             Titulo  \\\n",
       "0      U0001     DOBLE301  Doble Grado en Ingeniería de Materiales + Inge...   \n",
       "1      U0001       ING010                             Grado en Bioingeniería   \n",
       "2      U0001    IDIOMA004                                             Aleman   \n",
       "3      U0001    IDIOMA007                                              Árabe   \n",
       "4      U0001       HAB006                                 Toma de decisiones   \n",
       "\n",
       "   Nivel  \n",
       "0      2  \n",
       "1      2  \n",
       "2      6  \n",
       "3      6  \n",
       "4      1  "
      ]
     },
     "execution_count": 35,
     "metadata": {},
     "output_type": "execute_result"
    }
   ],
   "source": [
    "usuarios.head()"
   ]
  },
  {
   "cell_type": "code",
   "execution_count": 36,
   "metadata": {},
   "outputs": [
    {
     "data": {
      "text/html": [
       "<div>\n",
       "<style scoped>\n",
       "    .dataframe tbody tr th:only-of-type {\n",
       "        vertical-align: middle;\n",
       "    }\n",
       "\n",
       "    .dataframe tbody tr th {\n",
       "        vertical-align: top;\n",
       "    }\n",
       "\n",
       "    .dataframe thead th {\n",
       "        text-align: right;\n",
       "    }\n",
       "</style>\n",
       "<table border=\"1\" class=\"dataframe\">\n",
       "  <thead>\n",
       "    <tr style=\"text-align: right;\">\n",
       "      <th></th>\n",
       "      <th>Id_offer</th>\n",
       "      <th>Id_categoria</th>\n",
       "      <th>Titulo</th>\n",
       "      <th>Nivel</th>\n",
       "    </tr>\n",
       "  </thead>\n",
       "  <tbody>\n",
       "    <tr>\n",
       "      <th>0</th>\n",
       "      <td>OFF0001</td>\n",
       "      <td>DOBLE316</td>\n",
       "      <td>Doble Grado en Ingeniería Eléctrica + Ingenier...</td>\n",
       "      <td>2</td>\n",
       "    </tr>\n",
       "    <tr>\n",
       "      <th>1</th>\n",
       "      <td>OFF0001</td>\n",
       "      <td>ELE02B</td>\n",
       "      <td>Título Profesional Básico en Instalaciones Ele...</td>\n",
       "      <td>2</td>\n",
       "    </tr>\n",
       "    <tr>\n",
       "      <th>2</th>\n",
       "      <td>OFF0001</td>\n",
       "      <td>IDIOMA007</td>\n",
       "      <td>Árabe</td>\n",
       "      <td>1</td>\n",
       "    </tr>\n",
       "    <tr>\n",
       "      <th>3</th>\n",
       "      <td>OFF0001</td>\n",
       "      <td>IDIOMA007</td>\n",
       "      <td>Árabe</td>\n",
       "      <td>5</td>\n",
       "    </tr>\n",
       "    <tr>\n",
       "      <th>4</th>\n",
       "      <td>OFF0001</td>\n",
       "      <td>HAB012</td>\n",
       "      <td>Negociación</td>\n",
       "      <td>1</td>\n",
       "    </tr>\n",
       "  </tbody>\n",
       "</table>\n",
       "</div>"
      ],
      "text/plain": [
       "  Id_offer Id_categoria                                             Titulo  \\\n",
       "0  OFF0001     DOBLE316  Doble Grado en Ingeniería Eléctrica + Ingenier...   \n",
       "1  OFF0001       ELE02B  Título Profesional Básico en Instalaciones Ele...   \n",
       "2  OFF0001    IDIOMA007                                              Árabe   \n",
       "3  OFF0001    IDIOMA007                                              Árabe   \n",
       "4  OFF0001       HAB012                                        Negociación   \n",
       "\n",
       "   Nivel  \n",
       "0      2  \n",
       "1      2  \n",
       "2      1  \n",
       "3      5  \n",
       "4      1  "
      ]
     },
     "execution_count": 36,
     "metadata": {},
     "output_type": "execute_result"
    }
   ],
   "source": [
    "ofertas.head()"
   ]
  },
  {
   "cell_type": "code",
   "execution_count": 37,
   "metadata": {},
   "outputs": [
    {
     "data": {
      "text/plain": [
       "Index(['Id_Usuario', 'Id_categoria', 'Titulo', 'Nivel'], dtype='object')"
      ]
     },
     "execution_count": 37,
     "metadata": {},
     "output_type": "execute_result"
    }
   ],
   "source": [
    "usuarios.keys()"
   ]
  },
  {
   "cell_type": "code",
   "execution_count": 38,
   "metadata": {},
   "outputs": [
    {
     "data": {
      "text/plain": [
       "Index(['Id_offer', 'Id_categoria', 'Titulo', 'Nivel'], dtype='object')"
      ]
     },
     "execution_count": 38,
     "metadata": {},
     "output_type": "execute_result"
    }
   ],
   "source": [
    "ofertas.keys()"
   ]
  },
  {
   "cell_type": "code",
   "execution_count": 39,
   "metadata": {},
   "outputs": [],
   "source": [
    "#Si tenemos una tabla con tres columnas: id/skill/valor\n",
    "def tabla_usuarios(tabla):\n",
    "    df=tabla.pivot_table(index='Id_Usuario', columns='Id_categoria', values='Nivel')\n",
    "    df=df.fillna(0)\n",
    "    return df"
   ]
  },
  {
   "cell_type": "code",
   "execution_count": 40,
   "metadata": {},
   "outputs": [],
   "source": [
    "def tabla_ofertas(tabla):\n",
    "    df=tabla.pivot_table(index='Id_offer', columns='Id_categoria', values='Nivel')\n",
    "    df=df.fillna(0)\n",
    "    return df"
   ]
  },
  {
   "cell_type": "code",
   "execution_count": 41,
   "metadata": {},
   "outputs": [],
   "source": [
    "df_usuarios=tabla_usuarios(usuarios)"
   ]
  },
  {
   "cell_type": "code",
   "execution_count": 42,
   "metadata": {},
   "outputs": [],
   "source": [
    "df_ofertas=tabla_ofertas(ofertas)"
   ]
  },
  {
   "cell_type": "code",
   "execution_count": 43,
   "metadata": {},
   "outputs": [
    {
     "data": {
      "text/plain": [
       "Index(['ADGG0408', 'ADGN0108', 'AFD087_3', 'AFDA0111', 'AFDA0611', 'AGAJ0108',\n",
       "       'AGAN0211', 'AGAR0108', 'AGAR0110', 'AGAR0208',\n",
       "       ...\n",
       "       'SOCIALES133', 'SOCIALES140', 'SOCIALES148', 'SOCIALES151',\n",
       "       'SOCIALES152', 'SOCIALES164', 'SOCIALES170', 'SOCIALES183', 'SSC02',\n",
       "       'VICI'],\n",
       "      dtype='object', name='Id_categoria', length=194)"
      ]
     },
     "execution_count": 43,
     "metadata": {},
     "output_type": "execute_result"
    }
   ],
   "source": [
    "df_usuarios.keys()"
   ]
  },
  {
   "cell_type": "code",
   "execution_count": 44,
   "metadata": {},
   "outputs": [],
   "source": [
    "caracteristicas_usuarios = df_usuarios.keys()\n",
    "caracteristicas_ofertas = df_ofertas.keys()"
   ]
  },
  {
   "cell_type": "code",
   "execution_count": 45,
   "metadata": {},
   "outputs": [
    {
     "data": {
      "text/plain": [
       "100"
      ]
     },
     "execution_count": 45,
     "metadata": {},
     "output_type": "execute_result"
    }
   ],
   "source": [
    "len(df_usuarios) #numero de filas"
   ]
  },
  {
   "cell_type": "code",
   "execution_count": 46,
   "metadata": {},
   "outputs": [
    {
     "data": {
      "text/plain": [
       "'# Calculamos las columnas que no estan en ambos dataframes\\ncolumnas_faltantes_usuarios = list(set(caracteristicas_ofertas) - set(caracteristicas_usuarios))\\ncolumnas_faltantes_ofertas = list(set(caracteristicas_usuarios) - set(caracteristicas_ofertas))\\n\\n#Los dos dataframes tienen que tener la misma extructura\\nusuarios_faltantes=pd.DataFrame(0, index=range(len(df_usuarios)), columns=columnas_faltantes_usuarios)\\nofertas_faltantes=pd.DataFrame(0, index=range(len(df_ofertas)), columns=columnas_faltantes_ofertas)\\n\\ndf_usuarios_final = pd.concat([df_usuarios, usuarios_faltantes], axis=1)\\ndf_ofertas_final=pd.concat([df_ofertas, ofertas_faltantes], axis=1)'"
      ]
     },
     "execution_count": 46,
     "metadata": {},
     "output_type": "execute_result"
    }
   ],
   "source": [
    "'''# Calculamos las columnas que no estan en ambos dataframes\n",
    "columnas_faltantes_usuarios = list(set(caracteristicas_ofertas) - set(caracteristicas_usuarios))\n",
    "columnas_faltantes_ofertas = list(set(caracteristicas_usuarios) - set(caracteristicas_ofertas))\n",
    "\n",
    "#Los dos dataframes tienen que tener la misma extructura\n",
    "usuarios_faltantes=pd.DataFrame(0, index=range(len(df_usuarios)), columns=columnas_faltantes_usuarios)\n",
    "ofertas_faltantes=pd.DataFrame(0, index=range(len(df_ofertas)), columns=columnas_faltantes_ofertas)\n",
    "\n",
    "df_usuarios_final = pd.concat([df_usuarios, usuarios_faltantes], axis=1)\n",
    "df_ofertas_final=pd.concat([df_ofertas, ofertas_faltantes], axis=1)'''\n"
   ]
  },
  {
   "cell_type": "code",
   "execution_count": 48,
   "metadata": {},
   "outputs": [],
   "source": [
    "#Funcion que mira las columnas que no estan en la tabla1 y si en la tabla2\n",
    "#lo mismo que en la celda anterior pero con una funcion\n",
    "def completar_tablas(tabla1,tabla2):\n",
    "    caracteristicas_1 = tabla1.keys()\n",
    "    caracteristicas_2 = tabla2.keys()\n",
    "    columnas_faltantes=list(set(caracteristicas_2) - set(caracteristicas_1))\n",
    "\n",
    "    df_faltantes=pd.DataFrame(0, index=tabla1.index, columns=columnas_faltantes)\n",
    "    df_final=pd.concat([tabla1,df_faltantes],axis=1).sort_index(axis=1)\n",
    "\n",
    "    return df_final\n",
    "\n",
    "df_usuarios_final=completar_tablas(df_usuarios, df_ofertas) #tabla de usuarios\n",
    "df_ofertas_final=completar_tablas(df_ofertas, df_usuarios)"
   ]
  },
  {
   "cell_type": "markdown",
   "metadata": {},
   "source": [
    "Modelo KNN\n",
    "\n",
    "No hacer mucho caso a esto, no da buen resultado"
   ]
  },
  {
   "cell_type": "code",
   "execution_count": 226,
   "metadata": {},
   "outputs": [
    {
     "data": {
      "text/plain": [
       "Index(['ADGG0408', 'ADGN0108', 'AFD087_3', 'AFDA0111', 'AFDA0611', 'AGAJ0108',\n",
       "       'AGAN0211', 'AGAR0108', 'AGAR0110', 'AGAR0208',\n",
       "       ...\n",
       "       'DOBLE494', 'SOCIALES046', 'SSC01', 'TCP', 'ING119', 'DOBLE088',\n",
       "       'CSALUD003', 'AGAR0111', 'TCPN', 'DOBLE333'],\n",
       "      dtype='object', length=320)"
      ]
     },
     "execution_count": 226,
     "metadata": {},
     "output_type": "execute_result"
    }
   ],
   "source": [
    "df_usuarios_final.keys()"
   ]
  },
  {
   "cell_type": "code",
   "execution_count": 181,
   "metadata": {},
   "outputs": [
    {
     "data": {
      "text/html": [
       "<style>#sk-container-id-2 {color: black;}#sk-container-id-2 pre{padding: 0;}#sk-container-id-2 div.sk-toggleable {background-color: white;}#sk-container-id-2 label.sk-toggleable__label {cursor: pointer;display: block;width: 100%;margin-bottom: 0;padding: 0.3em;box-sizing: border-box;text-align: center;}#sk-container-id-2 label.sk-toggleable__label-arrow:before {content: \"▸\";float: left;margin-right: 0.25em;color: #696969;}#sk-container-id-2 label.sk-toggleable__label-arrow:hover:before {color: black;}#sk-container-id-2 div.sk-estimator:hover label.sk-toggleable__label-arrow:before {color: black;}#sk-container-id-2 div.sk-toggleable__content {max-height: 0;max-width: 0;overflow: hidden;text-align: left;background-color: #f0f8ff;}#sk-container-id-2 div.sk-toggleable__content pre {margin: 0.2em;color: black;border-radius: 0.25em;background-color: #f0f8ff;}#sk-container-id-2 input.sk-toggleable__control:checked~div.sk-toggleable__content {max-height: 200px;max-width: 100%;overflow: auto;}#sk-container-id-2 input.sk-toggleable__control:checked~label.sk-toggleable__label-arrow:before {content: \"▾\";}#sk-container-id-2 div.sk-estimator input.sk-toggleable__control:checked~label.sk-toggleable__label {background-color: #d4ebff;}#sk-container-id-2 div.sk-label input.sk-toggleable__control:checked~label.sk-toggleable__label {background-color: #d4ebff;}#sk-container-id-2 input.sk-hidden--visually {border: 0;clip: rect(1px 1px 1px 1px);clip: rect(1px, 1px, 1px, 1px);height: 1px;margin: -1px;overflow: hidden;padding: 0;position: absolute;width: 1px;}#sk-container-id-2 div.sk-estimator {font-family: monospace;background-color: #f0f8ff;border: 1px dotted black;border-radius: 0.25em;box-sizing: border-box;margin-bottom: 0.5em;}#sk-container-id-2 div.sk-estimator:hover {background-color: #d4ebff;}#sk-container-id-2 div.sk-parallel-item::after {content: \"\";width: 100%;border-bottom: 1px solid gray;flex-grow: 1;}#sk-container-id-2 div.sk-label:hover label.sk-toggleable__label {background-color: #d4ebff;}#sk-container-id-2 div.sk-serial::before {content: \"\";position: absolute;border-left: 1px solid gray;box-sizing: border-box;top: 0;bottom: 0;left: 50%;z-index: 0;}#sk-container-id-2 div.sk-serial {display: flex;flex-direction: column;align-items: center;background-color: white;padding-right: 0.2em;padding-left: 0.2em;position: relative;}#sk-container-id-2 div.sk-item {position: relative;z-index: 1;}#sk-container-id-2 div.sk-parallel {display: flex;align-items: stretch;justify-content: center;background-color: white;position: relative;}#sk-container-id-2 div.sk-item::before, #sk-container-id-2 div.sk-parallel-item::before {content: \"\";position: absolute;border-left: 1px solid gray;box-sizing: border-box;top: 0;bottom: 0;left: 50%;z-index: -1;}#sk-container-id-2 div.sk-parallel-item {display: flex;flex-direction: column;z-index: 1;position: relative;background-color: white;}#sk-container-id-2 div.sk-parallel-item:first-child::after {align-self: flex-end;width: 50%;}#sk-container-id-2 div.sk-parallel-item:last-child::after {align-self: flex-start;width: 50%;}#sk-container-id-2 div.sk-parallel-item:only-child::after {width: 0;}#sk-container-id-2 div.sk-dashed-wrapped {border: 1px dashed gray;margin: 0 0.4em 0.5em 0.4em;box-sizing: border-box;padding-bottom: 0.4em;background-color: white;}#sk-container-id-2 div.sk-label label {font-family: monospace;font-weight: bold;display: inline-block;line-height: 1.2em;}#sk-container-id-2 div.sk-label-container {text-align: center;}#sk-container-id-2 div.sk-container {/* jupyter's `normalize.less` sets `[hidden] { display: none; }` but bootstrap.min.css set `[hidden] { display: none !important; }` so we also need the `!important` here to be able to override the default hidden behavior on the sphinx rendered scikit-learn.org. See: https://github.com/scikit-learn/scikit-learn/issues/21755 */display: inline-block !important;position: relative;}#sk-container-id-2 div.sk-text-repr-fallback {display: none;}</style><div id=\"sk-container-id-2\" class=\"sk-top-container\"><div class=\"sk-text-repr-fallback\"><pre>NearestNeighbors()</pre><b>In a Jupyter environment, please rerun this cell to show the HTML representation or trust the notebook. <br />On GitHub, the HTML representation is unable to render, please try loading this page with nbviewer.org.</b></div><div class=\"sk-container\" hidden><div class=\"sk-item\"><div class=\"sk-estimator sk-toggleable\"><input class=\"sk-toggleable__control sk-hidden--visually\" id=\"sk-estimator-id-2\" type=\"checkbox\" checked><label for=\"sk-estimator-id-2\" class=\"sk-toggleable__label sk-toggleable__label-arrow\">NearestNeighbors</label><div class=\"sk-toggleable__content\"><pre>NearestNeighbors()</pre></div></div></div></div></div>"
      ],
      "text/plain": [
       "NearestNeighbors()"
      ]
     },
     "execution_count": 181,
     "metadata": {},
     "output_type": "execute_result"
    }
   ],
   "source": [
    "caracteristicas_usuarios = df_usuarios_final.keys()\n",
    "caracteristicas_ofertas = df_ofertas_final.keys()\n",
    "\n",
    "#Modelo de KNN \n",
    "knn_modelo = NearestNeighbors(n_neighbors=5, algorithm='auto')\n",
    "knn_modelo.fit(df_ofertas_final[caracteristicas_ofertas])\n",
    "\n",
    "primer_estudiante = df_usuarios_final.iloc[0][caracteristicas_usuarios].values.reshape(1, -1)  # Convertimos a una matriz de una fila\n",
    "distancias, indices = knn_modelo.kneighbors(primer_estudiante)\n",
    "\n",
    "ofertas_recomendadas = df_ofertas_final.iloc[indices[0]]\n",
    "ofertas_recomendadas.index"
   ]
  },
  {
   "cell_type": "code",
   "execution_count": 208,
   "metadata": {},
   "outputs": [
    {
     "name": "stdout",
     "output_type": "stream",
     "text": [
      "ADGG0408    NaN\n",
      "ADGN0108    NaN\n",
      "AFD087_3    NaN\n",
      "AFDA0111    NaN\n",
      "AFDA0611    NaN\n",
      "             ..\n",
      "DOBLE088    NaN\n",
      "CSALUD003   NaN\n",
      "AGAR0111    NaN\n",
      "TCPN        NaN\n",
      "DOBLE333    NaN\n",
      "Length: 320, dtype: float64\n"
     ]
    }
   ],
   "source": [
    "# Calcula la matriz de correlación entre df1 y df2\n",
    "matriz_correlacion = df_usuarios_final.corrwith(df_ofertas_final)\n",
    "\n",
    "# Visualiza la matriz de correlación\n",
    "print(matriz_correlacion)"
   ]
  },
  {
   "cell_type": "code",
   "execution_count": 209,
   "metadata": {},
   "outputs": [
    {
     "data": {
      "text/plain": [
       "Index(['ADGG0408', 'ADGN0108', 'AFD087_3', 'AFDA0111', 'AFDA0611', 'AGAJ0108',\n",
       "       'AGAN0211', 'AGAR0108', 'AGAR0110', 'AGAR0208',\n",
       "       ...\n",
       "       'DOBLE494', 'SOCIALES046', 'SSC01', 'TCP', 'ING119', 'DOBLE088',\n",
       "       'CSALUD003', 'AGAR0111', 'TCPN', 'DOBLE333'],\n",
       "      dtype='object', length=320)"
      ]
     },
     "execution_count": 209,
     "metadata": {},
     "output_type": "execute_result"
    }
   ],
   "source": [
    "df_usuarios_final.keys()"
   ]
  },
  {
   "cell_type": "markdown",
   "metadata": {},
   "source": [
    "OTRA OPCION QUE NO SEA KNN:"
   ]
  },
  {
   "cell_type": "code",
   "execution_count": 18,
   "metadata": {},
   "outputs": [
    {
     "data": {
      "text/plain": [
       "3"
      ]
     },
     "execution_count": 18,
     "metadata": {},
     "output_type": "execute_result"
    }
   ],
   "source": [
    "#Cuenta cuantas habilidades coinciden de un usuario y una oferta en concetro\n",
    "columnas= df_usuarios_final.keys()\n",
    "\n",
    "primer_usu=df_usuarios_final.iloc[0]\n",
    "primera_oferta = df_ofertas_final.iloc[4]\n",
    "\n",
    "contador=0 \n",
    "\n",
    "for i in primer_usu.index:\n",
    "    if (primera_oferta.index == i).any() and primera_oferta[i] != 0 and primer_usu[i]!=0:\n",
    "        contador += 1\n",
    "\n",
    "contador"
   ]
  },
  {
   "cell_type": "code",
   "execution_count": 19,
   "metadata": {},
   "outputs": [
    {
     "data": {
      "text/plain": [
       "['OFF0005', 'OFF0007']"
      ]
     },
     "execution_count": 19,
     "metadata": {},
     "output_type": "execute_result"
    }
   ],
   "source": [
    "#Comparamos un usuario con todas las ofertas\n",
    "#sacamos los trabajos donde coindicen dos habilidades o mas\n",
    "primer_usu=df_usuarios_final.iloc[0]\n",
    "lista_ofertas=[]\n",
    "\n",
    "for j in range(len(df_ofertas_final)):\n",
    "    oferta_j = df_ofertas_final.iloc[j]\n",
    "\n",
    "    contador=0\n",
    "    for i in primer_usu.index:\n",
    "        if (oferta_j.index == i).any() and oferta_j[i] != 0 and primer_usu[i]!=0:\n",
    "            contador += 1\n",
    "\n",
    "    if contador>2:\n",
    "        lista_ofertas.append(oferta_j.name)\n",
    "\n",
    "lista_ofertas"
   ]
  },
  {
   "cell_type": "code",
   "execution_count": 49,
   "metadata": {},
   "outputs": [
    {
     "data": {
      "text/plain": [
       "['OFF00101']"
      ]
     },
     "execution_count": 49,
     "metadata": {},
     "output_type": "execute_result"
    }
   ],
   "source": [
    "#Escojiendo un usuario nos devuelve las ofertas donde coinciden dos o mas habilidades\n",
    "def recomendaciones(usuario):\n",
    "    lista_ofertas=[]\n",
    "\n",
    "    for j in range(len(df_ofertas_final)):\n",
    "        oferta_j = df_ofertas_final.iloc[j]\n",
    "\n",
    "        contador=0\n",
    "        for i in usuario.index:\n",
    "            if (oferta_j.index == i).any() and oferta_j[i] != 0 and usuario[i]!=0:\n",
    "                contador += 1\n",
    "\n",
    "        if contador>4:\n",
    "            lista_ofertas.append(oferta_j.name)\n",
    "\n",
    "    return lista_ofertas\n",
    "        \n",
    "recomendaciones(df_usuarios_final.iloc[0])\n"
   ]
  },
  {
   "cell_type": "markdown",
   "metadata": {},
   "source": [
    "Ahora quiero hacerlo al reves: para cada oferta quiero que recomiende usuarios adecuados."
   ]
  },
  {
   "cell_type": "code",
   "execution_count": 29,
   "metadata": {},
   "outputs": [
    {
     "data": {
      "text/plain": [
       "['U0012', 'U0077']"
      ]
     },
     "execution_count": 29,
     "metadata": {},
     "output_type": "execute_result"
    }
   ],
   "source": [
    "#a las ofertas se le recomiendan usuarios\n",
    "def recomendacion_usuario(oferta):\n",
    "    lista_usuarios=[]\n",
    "\n",
    "    for j in range(len(df_usuarios_final)):\n",
    "        usuario_j = df_usuarios_final.iloc[j]\n",
    "\n",
    "        contador=0\n",
    "        for i in oferta.index:\n",
    "            if (usuario_j.index == i).any() and usuario_j[i] != 0 and oferta[i]!=0:\n",
    "                contador += 1\n",
    "\n",
    "        if contador>2:\n",
    "            lista_usuarios.append(usuario_j.name)\n",
    "\n",
    "    return lista_usuarios\n",
    "        \n",
    "recomendacion_usuario(df_ofertas_final.iloc[22])\n"
   ]
  },
  {
   "cell_type": "markdown",
   "metadata": {},
   "source": [
    "Los grados y fps "
   ]
  }
 ],
 "metadata": {
  "kernelspec": {
   "display_name": "Python 3",
   "language": "python",
   "name": "python3"
  },
  "language_info": {
   "codemirror_mode": {
    "name": "ipython",
    "version": 3
   },
   "file_extension": ".py",
   "mimetype": "text/x-python",
   "name": "python",
   "nbconvert_exporter": "python",
   "pygments_lexer": "ipython3",
   "version": "3.11.5"
  }
 },
 "nbformat": 4,
 "nbformat_minor": 2
}
