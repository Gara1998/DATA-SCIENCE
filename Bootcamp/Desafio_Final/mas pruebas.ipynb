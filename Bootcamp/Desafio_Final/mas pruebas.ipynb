{
 "cells": [
  {
   "cell_type": "code",
   "execution_count": 2,
   "metadata": {},
   "outputs": [],
   "source": [
    "#Librerias necesarias\n",
    "import numpy as np\n",
    "import pandas as pd\n",
    "from sklearn.metrics.pairwise import cosine_similarity\n",
    "\n",
    "#Funciones para transponer tablas\n",
    "def tabla_usuarios(tabla):\n",
    "    df=tabla.pivot_table(index='Id_Usuario', columns='Id_categoria', values='Nivel')\n",
    "    df=df.fillna(0)\n",
    "    return df\n",
    "\n",
    "def tabla_ofertas(tabla):\n",
    "    df=tabla.pivot_table(index='Id_offer', columns='Id_categoria', values='Nivel')\n",
    "    df=df.fillna(0)\n",
    "    return df\n",
    "\n",
    "#Funciones para que la estructura de ambas tablas sea la misma\n",
    "#Tabla de usuarios: completar_tablas(df_usuarios, df_ofertas) \n",
    "#Tabla de ofertas: completar_tablas(df_ofertas, df_usuarios)\n",
    "def completar_tablas(tabla1,tabla2):\n",
    "    caracteristicas_1 = tabla1.keys()\n",
    "    caracteristicas_2 = tabla2.keys()\n",
    "    columnas_faltantes=list(set(caracteristicas_2) - set(caracteristicas_1))\n",
    "    df_faltantes=pd.DataFrame(0, index=tabla1.index, columns=columnas_faltantes)\n",
    "    df_final=pd.concat([tabla1,df_faltantes],axis=1).sort_index(axis=1)\n",
    "    return df_final\n",
    "\n",
    "usuarios=pd.read_csv('Tabla_perfiles.csv')\n",
    "ofertas=pd.read_csv('Tabla_ofertas.csv')\n",
    "df_usuarios=tabla_usuarios(usuarios)\n",
    "df_ofertas=tabla_ofertas(ofertas)\n",
    "df_usuarios_final=completar_tablas(df_usuarios, df_ofertas) \n",
    "df_ofertas_final=completar_tablas(df_ofertas, df_usuarios)\n",
    "\n",
    "\n",
    "#Damos distintos pesos a los estudios y a las habilidades/idiomas\n",
    "columnas_estudios = [col for col in df_usuarios_final.columns if not col.startswith('HAB') and not col.startswith('IDIOMA')]\n",
    "columnas_idiomas= [col for col in df_usuarios_final.columns if  col.startswith('IDIOMA')]\n",
    "columnas_habilidades= [col for col in df_usuarios_final.columns if  col.startswith('HAB')]\n",
    "df_usuarios_final[columnas_estudios]=df_usuarios_final[columnas_estudios]*0.85\n",
    "df_usuarios_final[columnas_idiomas]=df_usuarios_final[columnas_idiomas]*0.1\n",
    "df_usuarios_final[columnas_habilidades]=df_usuarios_final[columnas_habilidades]*0.05\n",
    "\n",
    "columnas_estudios = [col for col in df_ofertas_final.columns if not col.startswith('HAB') and not col.startswith('IDIOMA')]\n",
    "columnas_idiomas= [col for col in df_ofertas_final.columns if  col.startswith('IDIOMA')]\n",
    "columnas_habilidades= [col for col in df_ofertas_final.columns if  col.startswith('HAB')]\n",
    "df_ofertas_final[columnas_estudios]=df_ofertas_final[columnas_estudios]*0.85\n",
    "df_ofertas_final[columnas_idiomas]=df_ofertas_final[columnas_idiomas]*0.1\n",
    "df_ofertas_final[columnas_habilidades]=df_ofertas_final[columnas_habilidades]*0.05\n",
    "\n",
    "\n",
    "# Calcula la similitud del coseno entre los estudiantes y las ofertas\n",
    "similitud_cos = cosine_similarity(df_usuarios_final,df_ofertas_final)\n",
    "df_similitud_cos = pd.DataFrame(similitud_cos, index=df_usuarios_final.index, columns=df_ofertas_final.index)"
   ]
  },
  {
   "cell_type": "code",
   "execution_count": 7,
   "metadata": {},
   "outputs": [],
   "source": [
    "#Crear archivos para cada usuario, que guarda el valor de relacion que tiene cada oferta.\n",
    "for i in range(len(df_similitud_cos)):\n",
    "    nombre_archivo=df_similitud_cos.iloc[i].name\n",
    "    serie_filtrada=df_similitud_cos.iloc[i].sort_values(ascending=False)\n",
    "    contenido_archivo=serie_filtrada[serie_filtrada > 0.75]\n",
    "    contenido_archivo.to_csv(nombre_archivo + '.csv', header=False)\n",
    "\n",
    "#Crear archivos para cada oferta, que guarda el valor de relacion que tiene cada usuario.\n",
    "for j in range(len(df_similitud_cos)):\n",
    "    nombre_archivo=df_similitud_cos.iloc[:, j].name\n",
    "    serie_filtrada=df_similitud_cos.iloc[:, j].sort_values(ascending=False)\n",
    "    contenido_archivo=serie_filtrada[serie_filtrada > 0.75]\n",
    "    contenido_archivo.to_csv(nombre_archivo + '.csv', header=False)\n",
    "\n",
    "\n"
   ]
  },
  {
   "cell_type": "code",
   "execution_count": null,
   "metadata": {},
   "outputs": [],
   "source": [
    "nombre_archivo=df_similitud_cos.iloc[0].name\n",
    "contenido_archivo=df_similitud_cos.iloc[0].sort_values(ascending=False)\n"
   ]
  },
  {
   "cell_type": "code",
   "execution_count": 4,
   "metadata": {},
   "outputs": [
    {
     "data": {
      "text/plain": [
       "Id_offer\n",
       "OFF0060    0.197115\n",
       "OFF0096    0.185072\n",
       "OFF0034    0.176723\n",
       "OFF0098    0.160865\n",
       "OFF0052    0.159536\n",
       "             ...   \n",
       "OFF0002    0.000000\n",
       "OFF0024    0.000000\n",
       "OFF0022    0.000000\n",
       "OFF0077    0.000000\n",
       "OFF0001    0.000000\n",
       "Name: U0001, Length: 100, dtype: float64"
      ]
     },
     "execution_count": 4,
     "metadata": {},
     "output_type": "execute_result"
    }
   ],
   "source": [
    "df_similitud_cos.iloc[0].sort_values(ascending=False)"
   ]
  },
  {
   "cell_type": "code",
   "execution_count": 6,
   "metadata": {},
   "outputs": [
    {
     "data": {
      "text/plain": [
       "Id_offer\n",
       "OFF0060    0.197115\n",
       "OFF0096    0.185072\n",
       "Name: U0001, dtype: float64"
      ]
     },
     "execution_count": 6,
     "metadata": {},
     "output_type": "execute_result"
    }
   ],
   "source": [
    "serie_filtrada = df_similitud_cos.iloc[0].sort_values(ascending=False)\n",
    "contenido_archivo=serie_filtrada[serie_filtrada > 0.75]\n"
   ]
  }
 ],
 "metadata": {
  "kernelspec": {
   "display_name": "Python 3",
   "language": "python",
   "name": "python3"
  },
  "language_info": {
   "codemirror_mode": {
    "name": "ipython",
    "version": 3
   },
   "file_extension": ".py",
   "mimetype": "text/x-python",
   "name": "python",
   "nbconvert_exporter": "python",
   "pygments_lexer": "ipython3",
   "version": "3.11.5"
  }
 },
 "nbformat": 4,
 "nbformat_minor": 2
}
