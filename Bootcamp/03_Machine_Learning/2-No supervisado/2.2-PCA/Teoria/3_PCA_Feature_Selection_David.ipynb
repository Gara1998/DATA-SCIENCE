{
 "cells": [
  {
   "attachments": {},
   "cell_type": "markdown",
   "metadata": {},
   "source": [
    "# *PCA* - Selección de variables\n",
    "\n",
    "¿Por qué es necesario seleccionar variables? Para algunos, esta idea puede parecer contraintuitiva, pero hay al menos dos razones importantes para deshacerse de las variables sin importancia. La primera es evidente para cualquier ingeniero: cuantos más datos, mayor complejidad computacional. Mientras trabajemos con conjuntos de datos de juguete, el tamaño de los datos no es un problema, pero, para sistemas de producción con carga real, cientos de variables adicionales serán bastante tangibles. La segunda razón es que algunos algoritmos toman el ruido (variables no informativas) como una señal y sobreajustan.\n",
    "\n",
    "### Enfoques estadísticos\n",
    "\n",
    "El candidato más obvio para ser eliminado es un rasgo cuyo valor permanece inalterado, es decir, que no contiene información alguna. Si nos basamos en este pensamiento, es razonable decir que las variables con baja varianza son peores que las que tienen alta varianza. Por lo tanto, se puede considerar la posibilidad de cortar las variables con una varianza inferior a un determinado umbral.\n",
    "\n",
    "#### Basado en estadísticos no supervisados"
   ]
  },
  {
   "cell_type": "code",
   "execution_count": 1,
   "metadata": {},
   "outputs": [],
   "source": [
    "import numpy as np"
   ]
  },
  {
   "cell_type": "code",
   "execution_count": 4,
   "metadata": {
    "ExecuteTime": {
     "end_time": "2020-11-19T10:10:17.058096Z",
     "start_time": "2020-11-19T10:10:13.843481Z"
    }
   },
   "outputs": [
    {
     "data": {
      "text/plain": [
       "(100, 20)"
      ]
     },
     "execution_count": 4,
     "metadata": {},
     "output_type": "execute_result"
    }
   ],
   "source": [
    "from sklearn.datasets import make_classification\n",
    "\n",
    "x_data_generated, y_data_generated = make_classification(random_state=2)\n",
    "x_data_generated.shape"
   ]
  },
  {
   "cell_type": "code",
   "execution_count": 7,
   "metadata": {},
   "outputs": [
    {
     "data": {
      "text/plain": [
       "array([[-0.26623674,  1.578341  ,  0.24767631, ..., -0.17070155,\n",
       "         0.76586746, -2.1686185 ],\n",
       "       [ 0.09555698, -1.27596128,  1.80296332, ...,  2.08668273,\n",
       "         1.14709994, -0.34462367],\n",
       "       [-0.35182698,  0.27494148, -0.74571462, ...,  1.64794463,\n",
       "        -0.29432324,  1.09170863],\n",
       "       ...,\n",
       "       [ 0.40029749,  2.02639356,  0.65403659, ...,  0.49918436,\n",
       "         0.28925254, -0.97133221],\n",
       "       [-1.45445982, -1.49524981,  0.10112055, ...,  0.60795344,\n",
       "         0.3665932 , -0.52274185],\n",
       "       [ 0.58261383,  1.54721615,  0.45369511, ...,  0.81343367,\n",
       "        -0.6826236 , -1.01466268]])"
      ]
     },
     "execution_count": 7,
     "metadata": {},
     "output_type": "execute_result"
    }
   ],
   "source": [
    "x_data_generated"
   ]
  },
  {
   "cell_type": "code",
   "execution_count": 3,
   "metadata": {
    "ExecuteTime": {
     "end_time": "2020-11-19T10:10:17.825065Z",
     "start_time": "2020-11-19T10:10:17.818065Z"
    }
   },
   "outputs": [
    {
     "data": {
      "text/plain": [
       "(100, 20)"
      ]
     },
     "execution_count": 3,
     "metadata": {},
     "output_type": "execute_result"
    }
   ],
   "source": [
    "from sklearn.feature_selection import VarianceThreshold\n",
    "\n",
    "primer_filtro = VarianceThreshold(.7).fit_transform(x_data_generated)\n",
    "primer_filtro.shape"
   ]
  },
  {
   "cell_type": "code",
   "execution_count": 5,
   "metadata": {
    "ExecuteTime": {
     "end_time": "2020-11-19T10:10:18.837626Z",
     "start_time": "2020-11-19T10:10:18.833589Z"
    }
   },
   "outputs": [
    {
     "data": {
      "text/plain": [
       "(100, 15)"
      ]
     },
     "execution_count": 5,
     "metadata": {},
     "output_type": "execute_result"
    }
   ],
   "source": [
    "primer_filtro = VarianceThreshold(.8).fit_transform(x_data_generated)\n",
    "primer_filtro.shape"
   ]
  },
  {
   "cell_type": "code",
   "execution_count": 6,
   "metadata": {},
   "outputs": [
    {
     "data": {
      "text/plain": [
       "(100, 14)"
      ]
     },
     "execution_count": 6,
     "metadata": {},
     "output_type": "execute_result"
    }
   ],
   "source": [
    "primer_filtro = VarianceThreshold(.9).fit_transform(x_data_generated)\n",
    "primer_filtro.shape"
   ]
  },
  {
   "cell_type": "code",
   "execution_count": 8,
   "metadata": {
    "ExecuteTime": {
     "end_time": "2020-11-19T10:10:20.212419Z",
     "start_time": "2020-11-19T10:10:20.207432Z"
    }
   },
   "outputs": [
    {
     "data": {
      "text/plain": [
       "(100, 11)"
      ]
     },
     "execution_count": 8,
     "metadata": {},
     "output_type": "execute_result"
    }
   ],
   "source": [
    "primer_filtro = VarianceThreshold(.99).fit_transform(x_data_generated)\n",
    "primer_filtro.shape"
   ]
  },
  {
   "attachments": {},
   "cell_type": "markdown",
   "metadata": {},
   "source": [
    "#### Basado en estadísticos supervisados"
   ]
  },
  {
   "cell_type": "code",
   "execution_count": 9,
   "metadata": {
    "ExecuteTime": {
     "end_time": "2020-11-19T10:10:22.132032Z",
     "start_time": "2020-11-19T10:10:22.121062Z"
    }
   },
   "outputs": [],
   "source": [
    "from sklearn.feature_selection import SelectKBest, f_classif\n",
    "from sklearn.linear_model import LogisticRegression\n",
    "from sklearn.model_selection import cross_val_score\n",
    "\n",
    "x_data_kbest = SelectKBest(k=5).fit_transform(x_data_generated, y_data_generated)"
   ]
  },
  {
   "cell_type": "code",
   "execution_count": 10,
   "metadata": {},
   "outputs": [
    {
     "data": {
      "text/plain": [
       "(100, 5)"
      ]
     },
     "execution_count": 10,
     "metadata": {},
     "output_type": "execute_result"
    }
   ],
   "source": [
    "x_data_kbest.shape"
   ]
  },
  {
   "cell_type": "code",
   "execution_count": 15,
   "metadata": {},
   "outputs": [
    {
     "data": {
      "text/plain": [
       "array([[ 1.57834100e+00,  2.47676311e-01, -3.45241965e-01,\n",
       "        -6.65180166e-01, -2.16861850e+00],\n",
       "       [-1.27596128e+00,  1.80296332e+00,  1.34925462e-01,\n",
       "        -2.00207923e+00, -3.44623671e-01],\n",
       "       [ 2.74941481e-01, -7.45714619e-01, -9.86960466e-01,\n",
       "         4.74160853e-01,  1.09170863e+00],\n",
       "       [-5.23734452e-01,  1.29923235e+00,  7.66115904e-01,\n",
       "         2.87208202e-01, -3.30675843e-01],\n",
       "       [ 8.93236350e-01,  3.98552513e-02, -2.40422605e+00,\n",
       "        -1.63761438e+00, -3.64615003e-01],\n",
       "       [-1.99613730e+00,  3.58726197e-01, -7.41051372e-01,\n",
       "         6.96073116e-02, -6.30963268e-01],\n",
       "       [-1.96974881e-01, -4.23717994e-01,  8.43393007e-01,\n",
       "         7.61485079e-01, -2.03445123e+00],\n",
       "       [ 2.01310838e+00, -1.77461266e+00, -1.03476441e-01,\n",
       "         2.14527121e-01, -1.20007711e+00],\n",
       "       [-1.48220209e+00,  7.88966244e-01, -6.69310440e-02,\n",
       "         5.92806797e-01,  8.70840765e-01],\n",
       "       [-1.62013098e-01, -4.69369039e-01,  2.67248091e-01,\n",
       "         1.12188660e+00, -1.67870974e+00],\n",
       "       [ 8.19329029e-01, -6.03728608e-02, -7.22288055e-01,\n",
       "         6.57551247e-01,  2.16246241e+00],\n",
       "       [-1.22749872e-01, -5.22615473e-01,  7.12798709e-02,\n",
       "        -1.20838276e-01, -3.63224518e-01],\n",
       "       [-7.28738723e-01,  1.04351509e+00, -1.33858888e+00,\n",
       "         2.14467809e+00, -3.12270670e-01],\n",
       "       [ 6.44147647e-01, -1.02178423e-01,  2.75751090e-01,\n",
       "         5.75856506e-02,  4.11975689e-01],\n",
       "       [ 2.83215694e-01, -4.51568021e-01, -2.02559359e+00,\n",
       "         1.82599446e+00, -2.50545813e+00],\n",
       "       [-1.61433565e+00, -9.63797259e-01, -4.24250858e-01,\n",
       "        -1.38816848e+00,  4.05289456e-01],\n",
       "       [ 9.05803616e-01,  5.47296981e-02, -8.67125505e-01,\n",
       "        -1.40669958e+00,  1.57689018e+00],\n",
       "       [-1.03015177e+00,  1.07076857e+00, -5.82070757e-01,\n",
       "        -6.29079151e-01,  1.89693224e+00],\n",
       "       [ 1.05668674e-01, -3.36407852e-01,  4.06987749e-01,\n",
       "        -1.39344202e+00, -6.12751558e-01],\n",
       "       [-1.91506183e+00,  9.14764192e-01,  6.69971470e-02,\n",
       "         4.87577809e-01,  1.76218443e-01],\n",
       "       [ 9.66280431e-01,  5.56710638e-02, -3.81164620e-01,\n",
       "        -1.95037909e-01,  1.80914499e+00],\n",
       "       [ 8.31270822e-01, -1.11463422e+00,  5.21806971e-01,\n",
       "         1.47334365e+00, -2.09375707e-01],\n",
       "       [ 2.29945065e+00,  7.48015937e-01, -7.94177964e-01,\n",
       "         5.92992793e-01, -7.00278087e-01],\n",
       "       [-1.31368329e+00,  1.74080739e+00,  1.94168696e-01,\n",
       "        -2.32897001e-01,  7.47598942e-01],\n",
       "       [ 8.59560829e-01, -1.02868127e-01, -1.33622687e+00,\n",
       "        -6.34541150e-01,  2.30711528e+00],\n",
       "       [ 8.28599368e-01, -1.45117811e-01,  5.09069885e-02,\n",
       "        -1.07756418e-02,  8.75688930e-01],\n",
       "       [-4.04886488e-01,  1.66896466e-01, -6.27642287e-01,\n",
       "        -1.70604106e+00,  1.94295564e+00],\n",
       "       [-9.64588174e-01,  1.64427576e+00,  3.16096597e+00,\n",
       "        -6.77360492e-01, -2.63388077e-01],\n",
       "       [ 2.61646798e-01, -1.27988188e+00, -4.03748423e-01,\n",
       "        -4.07456423e-01, -8.36932455e-01],\n",
       "       [-2.26908897e-01, -5.45100359e-01,  2.58003025e-01,\n",
       "         1.99611078e+00,  1.07436141e+00],\n",
       "       [ 4.97768917e-01, -1.66064421e-01,  3.64108618e-01,\n",
       "        -4.77771387e-02, -3.45308255e-01],\n",
       "       [-1.21515653e-01, -4.67835239e-01, -1.02918255e-01,\n",
       "        -1.18210537e+00,  9.09282937e-01],\n",
       "       [-1.55027380e+00,  1.31289288e-01, -1.11049256e+00,\n",
       "         5.58712720e-01, -1.07133422e+00],\n",
       "       [ 1.46973643e+00,  4.49167463e-01, -1.29222381e+00,\n",
       "         3.11603984e-01, -5.92966711e-01],\n",
       "       [-5.19336180e-01,  8.42360467e-01, -1.17315562e+00,\n",
       "        -5.78472626e-02,  4.16021749e-01],\n",
       "       [-3.50266886e-01, -1.32392694e+00,  6.15304213e-01,\n",
       "        -1.31116809e+00,  3.27543724e-01],\n",
       "       [-1.39769853e+00, -9.30208877e-03, -3.89118791e-01,\n",
       "        -1.07958393e+00, -1.23473846e-01],\n",
       "       [ 1.25659963e+00,  1.45851313e-01,  1.64787517e+00,\n",
       "        -5.01512485e-01,  1.40452975e+00],\n",
       "       [-1.05300170e+00,  8.50436579e-01,  3.11697707e-01,\n",
       "         5.35558351e-01,  6.61264168e-02],\n",
       "       [ 9.08041912e-01, -2.30758001e-01, -9.44298276e-01,\n",
       "         8.30878534e-01, -7.96181395e-01],\n",
       "       [ 6.16858038e-01, -1.03149160e+00, -6.59016404e-01,\n",
       "         5.57027918e-02,  7.77865153e-01],\n",
       "       [ 1.86116695e+00, -1.73344403e+00, -9.43725883e-01,\n",
       "        -1.17758569e-01,  1.12984841e+00],\n",
       "       [ 2.75112251e-01, -4.92820808e-01,  2.33543799e+00,\n",
       "         4.20162940e-01, -6.04131869e-01],\n",
       "       [ 3.64690677e-01, -3.84064828e-01, -3.75202983e-02,\n",
       "         4.19309510e-02,  5.44911801e-01],\n",
       "       [-1.15553531e+00,  7.38280843e-01,  2.06871088e+00,\n",
       "        -3.06709811e-01,  3.21505928e-01],\n",
       "       [ 2.00647901e-01,  5.57937436e-01, -1.35479764e-01,\n",
       "         1.59088487e-01,  5.72509465e-02],\n",
       "       [-8.82502327e-01,  2.13594072e-01,  6.35647888e-01,\n",
       "        -5.28352987e-01, -1.63540643e+00],\n",
       "       [-7.68880831e-01,  1.14547072e+00, -4.92994911e-01,\n",
       "        -7.08194380e-01,  5.21109431e-01],\n",
       "       [ 1.62929103e+00, -1.60650746e+00,  3.20775413e-01,\n",
       "        -6.48219920e-02, -1.61617560e+00],\n",
       "       [ 1.22555367e-01, -7.10918125e-01,  1.63545167e+00,\n",
       "        -1.83235847e+00, -8.75052799e-01],\n",
       "       [ 5.18040451e-01, -3.24907115e-01, -1.73561386e-01,\n",
       "         7.32650013e-01, -1.27955688e+00],\n",
       "       [-1.87394596e+00,  5.28356920e-01, -1.01107475e+00,\n",
       "        -3.28244493e-01, -1.06440306e+00],\n",
       "       [ 1.55779979e+00, -1.69319275e+00, -7.33425066e-01,\n",
       "        -1.22620283e-02,  5.14029098e-01],\n",
       "       [-1.31390902e+00,  1.00033928e+00,  2.36040923e-01,\n",
       "         1.17645419e+00, -9.10065643e-01],\n",
       "       [ 1.91412422e-01, -1.32082950e-01, -2.76666363e-01,\n",
       "        -1.02298822e+00,  4.14103748e-01],\n",
       "       [ 3.60738183e-01, -7.99011445e-01, -1.88090941e-01,\n",
       "         5.98217003e-01,  1.33329378e-01],\n",
       "       [-9.50919710e-01,  3.64383885e-01, -5.80383038e-01,\n",
       "        -1.25144841e+00, -6.57768362e-01],\n",
       "       [-4.26347588e-01,  8.26673937e-01,  3.09846277e-01,\n",
       "        -1.31682403e-01,  8.37615794e-01],\n",
       "       [-1.30096921e+00,  7.74940716e-01,  1.51647092e-01,\n",
       "        -4.47283718e-01, -1.92074773e+00],\n",
       "       [-1.11011325e+00,  1.71797774e+00,  1.54538683e+00,\n",
       "         1.37617991e-01, -2.08703629e-01],\n",
       "       [-1.25432739e+00,  1.93662278e+00, -6.52931145e-01,\n",
       "        -1.43714343e+00, -1.74996844e-01],\n",
       "       [-2.77223738e-02, -6.19925412e-01, -8.74857974e-01,\n",
       "        -8.03987770e-01,  1.46947905e+00],\n",
       "       [-1.20417129e+00,  1.05181825e+00, -1.41686742e+00,\n",
       "        -6.96114123e-01,  4.09261661e-01],\n",
       "       [-1.77281270e+00,  4.02286861e-01, -1.25657282e+00,\n",
       "         2.01997788e-01, -1.93203970e-01],\n",
       "       [ 5.48313848e-01, -9.49067340e-01,  1.84395665e+00,\n",
       "        -1.77091213e+00, -6.10449608e-01],\n",
       "       [ 1.13062527e+00, -1.37620697e+00, -2.95375555e+00,\n",
       "         1.10427594e+00, -5.35452560e-02],\n",
       "       [-7.70850741e-02,  5.31295774e-01,  3.43212732e-01,\n",
       "        -2.08780746e+00, -5.64493432e-01],\n",
       "       [ 4.11748708e-01, -9.14881526e-01, -1.60231424e+00,\n",
       "        -6.38824780e-01, -4.49673148e-01],\n",
       "       [ 2.13686845e+00, -1.95832361e+00, -6.26927027e-01,\n",
       "        -9.62698535e-01,  9.92358985e-01],\n",
       "       [-6.60384797e-01, -1.93709583e+00, -8.76099244e-01,\n",
       "         4.96796978e-01,  7.52270165e-01],\n",
       "       [ 9.76571370e-01, -1.32030080e+00, -5.26465922e-01,\n",
       "        -2.37564393e-01, -5.15621728e-01],\n",
       "       [-4.71425834e-01,  7.72196453e-01, -7.81073374e-02,\n",
       "        -2.51543946e+00, -1.50104009e+00],\n",
       "       [ 1.17978709e+00, -1.50470461e+00,  1.43387829e+00,\n",
       "        -1.72090499e+00,  1.18697146e+00],\n",
       "       [-1.28898248e-01, -8.17936376e-01,  6.49636178e-01,\n",
       "        -1.66040484e+00,  1.91567888e+00],\n",
       "       [ 2.30594099e-02, -1.38029687e-01,  2.67964423e+00,\n",
       "         1.98021995e+00,  2.42874291e-01],\n",
       "       [ 6.39850830e-01, -1.05099431e+00, -1.41107743e-01,\n",
       "         9.83320232e-01,  1.99396630e+00],\n",
       "       [-1.24282612e+00,  6.97524028e-01, -4.15141970e-01,\n",
       "         8.20371036e-01, -1.78770604e+00],\n",
       "       [-8.41149999e-01,  8.24935208e-01,  9.10917515e-01,\n",
       "         1.39116243e+00, -2.51957930e+00],\n",
       "       [ 1.37884046e+00, -2.23515116e+00,  6.97773876e-01,\n",
       "         2.74699957e-01, -4.80685376e-01],\n",
       "       [ 8.19450338e-01, -5.38642802e-03, -1.32891514e+00,\n",
       "         9.35916150e-01,  2.60369967e+00],\n",
       "       [-3.22312681e+00,  8.48277314e-01,  8.75010653e-01,\n",
       "        -4.39585186e-01, -1.73188201e-01],\n",
       "       [-6.53000313e-01, -3.80428960e-01, -1.59890490e+00,\n",
       "         1.32660382e-01,  1.00723561e+00],\n",
       "       [ 5.92781097e-01,  3.83112233e-01,  1.74283681e-01,\n",
       "        -5.90224602e-01, -4.46904271e-01],\n",
       "       [ 6.61762132e-01, -8.77431642e-01, -7.12704604e-01,\n",
       "        -7.29382636e-01,  1.86979861e+00],\n",
       "       [ 5.60215944e-01, -1.06469391e-01, -1.70753905e+00,\n",
       "        -2.22734129e+00, -1.91663052e+00],\n",
       "       [ 2.22531661e+00, -2.04483517e+00,  1.65815263e+00,\n",
       "         6.58224105e-02,  8.16667130e-01],\n",
       "       [ 3.21089766e-01, -2.73660822e-01, -1.25920702e+00,\n",
       "        -6.16844470e-01, -1.46267835e+00],\n",
       "       [ 4.77983401e-01, -9.47903044e-01, -1.36992192e+00,\n",
       "         4.63754268e-01,  2.04129752e+00],\n",
       "       [-2.68809126e-01,  9.78941879e-01,  1.23403468e+00,\n",
       "        -1.39291883e-01, -2.20644541e-03],\n",
       "       [-1.27904259e+00, -6.51179421e-01, -9.46168637e-01,\n",
       "        -8.60216899e-01,  1.27932051e+00],\n",
       "       [ 6.83885375e-01, -2.83930250e-01, -1.13040409e+00,\n",
       "        -1.02716908e+00, -4.95002423e-01],\n",
       "       [-1.39599098e+00,  1.56622243e+00,  7.67625083e-01,\n",
       "         5.65779713e-03, -7.98348729e-01],\n",
       "       [-1.92561729e+00,  2.15773738e+00,  1.35631416e-01,\n",
       "        -1.97330948e-01,  2.91234010e-01],\n",
       "       [-2.40927380e+00,  9.67517416e-01, -1.58729558e+00,\n",
       "        -3.28424621e-01, -2.52668207e-01],\n",
       "       [ 3.70993008e-01, -8.61647854e-01,  3.26817200e-01,\n",
       "        -1.14894528e-01,  4.55429861e-01],\n",
       "       [ 5.98700255e-01, -1.03855762e+00, -1.89263523e+00,\n",
       "        -1.76909654e+00,  1.15066247e-01],\n",
       "       [ 2.64093495e+00,  8.84916989e-01, -7.58511523e-01,\n",
       "         5.60022058e-01, -7.30028118e-01],\n",
       "       [ 2.02639356e+00,  6.54036586e-01,  2.03664994e+00,\n",
       "         9.90152682e-01, -9.71332206e-01],\n",
       "       [-1.49524981e+00,  1.01120546e-01,  8.12153853e-01,\n",
       "        -5.17912383e-01, -5.22741853e-01],\n",
       "       [ 1.54721615e+00,  4.53695114e-01, -1.48177155e+00,\n",
       "         1.24628173e+00, -1.01466268e+00]])"
      ]
     },
     "execution_count": 15,
     "metadata": {},
     "output_type": "execute_result"
    }
   ],
   "source": [
    "x_data_kbest"
   ]
  },
  {
   "cell_type": "code",
   "execution_count": 17,
   "metadata": {},
   "outputs": [],
   "source": [
    "logit = LogisticRegression(random_state=42)"
   ]
  },
  {
   "cell_type": "code",
   "execution_count": 18,
   "metadata": {
    "ExecuteTime": {
     "end_time": "2020-11-19T10:10:25.414124Z",
     "start_time": "2020-11-19T10:10:25.386181Z"
    }
   },
   "outputs": [
    {
     "data": {
      "text/plain": [
       "0.8800000000000001"
      ]
     },
     "execution_count": 18,
     "metadata": {},
     "output_type": "execute_result"
    }
   ],
   "source": [
    "coss_val_res = cross_val_score(logit, x_data_generated, y_data_generated, cv=5)\n",
    "np.mean(coss_val_res)"
   ]
  },
  {
   "cell_type": "code",
   "execution_count": 19,
   "metadata": {
    "ExecuteTime": {
     "end_time": "2020-11-19T10:10:25.923503Z",
     "start_time": "2020-11-19T10:10:25.907511Z"
    }
   },
   "outputs": [
    {
     "data": {
      "text/plain": [
       "0.86"
      ]
     },
     "execution_count": 19,
     "metadata": {},
     "output_type": "execute_result"
    }
   ],
   "source": [
    "coss_val_res = cross_val_score(logit, x_data_kbest, y_data_generated, cv=5)\n",
    "np.mean(coss_val_res)"
   ]
  },
  {
   "cell_type": "code",
   "execution_count": 20,
   "metadata": {
    "ExecuteTime": {
     "end_time": "2020-11-19T10:10:26.516993Z",
     "start_time": "2020-11-19T10:10:26.500038Z"
    }
   },
   "outputs": [
    {
     "data": {
      "text/plain": [
       "0.89"
      ]
     },
     "execution_count": 20,
     "metadata": {},
     "output_type": "execute_result"
    }
   ],
   "source": [
    "x_data_varth = VarianceThreshold(.85).fit_transform(x_data_generated)\n",
    "coss_val_res = cross_val_score(logit, x_data_varth, y_data_generated, cv=5)\n",
    "np.mean(coss_val_res)"
   ]
  },
  {
   "attachments": {},
   "cell_type": "markdown",
   "metadata": {},
   "source": [
    "Podemos ver que las variables seleccionadas han mejorado la calidad del clasificador. Por supuesto, este ejemplo es puramente artificial; sin embargo, merece la pena utilizarlo para problemas reales.\n",
    "\n",
    "#### Supervisado wrapper"
   ]
  },
  {
   "cell_type": "code",
   "execution_count": 25,
   "metadata": {
    "ExecuteTime": {
     "end_time": "2020-11-19T10:36:46.595134Z",
     "start_time": "2020-11-19T10:36:36.919545Z"
    }
   },
   "outputs": [],
   "source": [
    "from sklearn.svm import SVC\n",
    "from sklearn.feature_selection import RFE\n",
    "from sklearn.datasets import load_digits\n",
    "import matplotlib.pyplot as plt\n",
    "\n",
    "digits = load_digits()\n",
    "X = digits.images.reshape((len(digits.images)), -1)\n",
    "y = digits.target"
   ]
  },
  {
   "cell_type": "code",
   "execution_count": 22,
   "metadata": {},
   "outputs": [
    {
     "data": {
      "text/plain": [
       "(1797, 64)"
      ]
     },
     "execution_count": 22,
     "metadata": {},
     "output_type": "execute_result"
    }
   ],
   "source": [
    "X.shape"
   ]
  },
  {
   "cell_type": "code",
   "execution_count": 23,
   "metadata": {
    "ExecuteTime": {
     "end_time": "2020-11-19T10:42:05.336475Z",
     "start_time": "2020-11-19T10:41:59.409990Z"
    }
   },
   "outputs": [
    {
     "data": {
      "text/html": [
       "<style>#sk-container-id-1 {color: black;}#sk-container-id-1 pre{padding: 0;}#sk-container-id-1 div.sk-toggleable {background-color: white;}#sk-container-id-1 label.sk-toggleable__label {cursor: pointer;display: block;width: 100%;margin-bottom: 0;padding: 0.3em;box-sizing: border-box;text-align: center;}#sk-container-id-1 label.sk-toggleable__label-arrow:before {content: \"▸\";float: left;margin-right: 0.25em;color: #696969;}#sk-container-id-1 label.sk-toggleable__label-arrow:hover:before {color: black;}#sk-container-id-1 div.sk-estimator:hover label.sk-toggleable__label-arrow:before {color: black;}#sk-container-id-1 div.sk-toggleable__content {max-height: 0;max-width: 0;overflow: hidden;text-align: left;background-color: #f0f8ff;}#sk-container-id-1 div.sk-toggleable__content pre {margin: 0.2em;color: black;border-radius: 0.25em;background-color: #f0f8ff;}#sk-container-id-1 input.sk-toggleable__control:checked~div.sk-toggleable__content {max-height: 200px;max-width: 100%;overflow: auto;}#sk-container-id-1 input.sk-toggleable__control:checked~label.sk-toggleable__label-arrow:before {content: \"▾\";}#sk-container-id-1 div.sk-estimator input.sk-toggleable__control:checked~label.sk-toggleable__label {background-color: #d4ebff;}#sk-container-id-1 div.sk-label input.sk-toggleable__control:checked~label.sk-toggleable__label {background-color: #d4ebff;}#sk-container-id-1 input.sk-hidden--visually {border: 0;clip: rect(1px 1px 1px 1px);clip: rect(1px, 1px, 1px, 1px);height: 1px;margin: -1px;overflow: hidden;padding: 0;position: absolute;width: 1px;}#sk-container-id-1 div.sk-estimator {font-family: monospace;background-color: #f0f8ff;border: 1px dotted black;border-radius: 0.25em;box-sizing: border-box;margin-bottom: 0.5em;}#sk-container-id-1 div.sk-estimator:hover {background-color: #d4ebff;}#sk-container-id-1 div.sk-parallel-item::after {content: \"\";width: 100%;border-bottom: 1px solid gray;flex-grow: 1;}#sk-container-id-1 div.sk-label:hover label.sk-toggleable__label {background-color: #d4ebff;}#sk-container-id-1 div.sk-serial::before {content: \"\";position: absolute;border-left: 1px solid gray;box-sizing: border-box;top: 0;bottom: 0;left: 50%;z-index: 0;}#sk-container-id-1 div.sk-serial {display: flex;flex-direction: column;align-items: center;background-color: white;padding-right: 0.2em;padding-left: 0.2em;position: relative;}#sk-container-id-1 div.sk-item {position: relative;z-index: 1;}#sk-container-id-1 div.sk-parallel {display: flex;align-items: stretch;justify-content: center;background-color: white;position: relative;}#sk-container-id-1 div.sk-item::before, #sk-container-id-1 div.sk-parallel-item::before {content: \"\";position: absolute;border-left: 1px solid gray;box-sizing: border-box;top: 0;bottom: 0;left: 50%;z-index: -1;}#sk-container-id-1 div.sk-parallel-item {display: flex;flex-direction: column;z-index: 1;position: relative;background-color: white;}#sk-container-id-1 div.sk-parallel-item:first-child::after {align-self: flex-end;width: 50%;}#sk-container-id-1 div.sk-parallel-item:last-child::after {align-self: flex-start;width: 50%;}#sk-container-id-1 div.sk-parallel-item:only-child::after {width: 0;}#sk-container-id-1 div.sk-dashed-wrapped {border: 1px dashed gray;margin: 0 0.4em 0.5em 0.4em;box-sizing: border-box;padding-bottom: 0.4em;background-color: white;}#sk-container-id-1 div.sk-label label {font-family: monospace;font-weight: bold;display: inline-block;line-height: 1.2em;}#sk-container-id-1 div.sk-label-container {text-align: center;}#sk-container-id-1 div.sk-container {/* jupyter's `normalize.less` sets `[hidden] { display: none; }` but bootstrap.min.css set `[hidden] { display: none !important; }` so we also need the `!important` here to be able to override the default hidden behavior on the sphinx rendered scikit-learn.org. See: https://github.com/scikit-learn/scikit-learn/issues/21755 */display: inline-block !important;position: relative;}#sk-container-id-1 div.sk-text-repr-fallback {display: none;}</style><div id=\"sk-container-id-1\" class=\"sk-top-container\"><div class=\"sk-text-repr-fallback\"><pre>RFE(estimator=SVC(C=1, kernel=&#x27;linear&#x27;), n_features_to_select=10)</pre><b>In a Jupyter environment, please rerun this cell to show the HTML representation or trust the notebook. <br />On GitHub, the HTML representation is unable to render, please try loading this page with nbviewer.org.</b></div><div class=\"sk-container\" hidden><div class=\"sk-item sk-dashed-wrapped\"><div class=\"sk-label-container\"><div class=\"sk-label sk-toggleable\"><input class=\"sk-toggleable__control sk-hidden--visually\" id=\"sk-estimator-id-1\" type=\"checkbox\" ><label for=\"sk-estimator-id-1\" class=\"sk-toggleable__label sk-toggleable__label-arrow\">RFE</label><div class=\"sk-toggleable__content\"><pre>RFE(estimator=SVC(C=1, kernel=&#x27;linear&#x27;), n_features_to_select=10)</pre></div></div></div><div class=\"sk-parallel\"><div class=\"sk-parallel-item\"><div class=\"sk-item\"><div class=\"sk-label-container\"><div class=\"sk-label sk-toggleable\"><input class=\"sk-toggleable__control sk-hidden--visually\" id=\"sk-estimator-id-2\" type=\"checkbox\" ><label for=\"sk-estimator-id-2\" class=\"sk-toggleable__label sk-toggleable__label-arrow\">estimator: SVC</label><div class=\"sk-toggleable__content\"><pre>SVC(C=1, kernel=&#x27;linear&#x27;)</pre></div></div></div><div class=\"sk-serial\"><div class=\"sk-item\"><div class=\"sk-estimator sk-toggleable\"><input class=\"sk-toggleable__control sk-hidden--visually\" id=\"sk-estimator-id-3\" type=\"checkbox\" ><label for=\"sk-estimator-id-3\" class=\"sk-toggleable__label sk-toggleable__label-arrow\">SVC</label><div class=\"sk-toggleable__content\"><pre>SVC(C=1, kernel=&#x27;linear&#x27;)</pre></div></div></div></div></div></div></div></div></div></div>"
      ],
      "text/plain": [
       "RFE(estimator=SVC(C=1, kernel='linear'), n_features_to_select=10)"
      ]
     },
     "execution_count": 23,
     "metadata": {},
     "output_type": "execute_result"
    }
   ],
   "source": [
    "svc = SVC(kernel=\"linear\", C=1)\n",
    "rfe = RFE(estimator=svc, n_features_to_select=10, step=1)\n",
    "rfe.fit(X, y)"
   ]
  },
  {
   "cell_type": "code",
   "execution_count": 24,
   "metadata": {},
   "outputs": [
    {
     "data": {
      "image/png": "[encoded data removed]",
      "text/plain": [
       "<Figure size 480x480 with 2 Axes>"
      ]
     },
     "metadata": {},
     "output_type": "display_data"
    }
   ],
   "source": [
    "ranking = rfe.ranking_.reshape(digits.images[0].shape)\n",
    "\n",
    "plt.matshow(ranking, cmap='binary')\n",
    "plt.colorbar();"
   ]
  }
 ],
 "metadata": {
  "kernelspec": {
   "display_name": "base",
   "language": "python",
   "name": "python3"
  },
  "language_info": {
   "codemirror_mode": {
    "name": "ipython",
    "version": 3
   },
   "file_extension": ".py",
   "mimetype": "text/x-python",
   "name": "python",
   "nbconvert_exporter": "python",
   "pygments_lexer": "ipython3",
   "version": "3.11.5"
  },
  "nbTranslate": {
   "displayLangs": [
    "*"
   ],
   "hotkey": "alt-t",
   "langInMainMenu": true,
   "sourceLang": "en",
   "targetLang": "fr",
   "useGoogleTranslate": true
  },
  "toc": {
   "nav_menu": {},
   "number_sections": true,
   "sideBar": true,
   "skip_h1_title": false,
   "title_cell": "Table of Contents",
   "title_sidebar": "Contents",
   "toc_cell": false,
   "toc_position": {},
   "toc_section_display": true,
   "toc_window_display": false
  },
  "varInspector": {
   "cols": {
    "lenName": 16,
    "lenType": 16,
    "lenVar": 40
   },
   "kernels_config": {
    "python": {
     "delete_cmd_postfix": "",
     "delete_cmd_prefix": "del ",
     "library": "var_list.py",
     "varRefreshCmd": "print(var_dic_list())"
    },
    "r": {
     "delete_cmd_postfix": ") ",
     "delete_cmd_prefix": "rm(",
     "library": "var_list.r",
     "varRefreshCmd": "cat(var_dic_list()) "
    }
   },
   "types_to_exclude": [
    "module",
    "function",
    "builtin_function_or_method",
    "instance",
    "_Feature"
   ],
   "window_display": false
  },
  "vscode": {
   "interpreter": {
    "hash": "3c06e3e46abf38078fe4dac36a0085ec2b134ebbd73dd076183d243eeca6918f"
   }
  }
 },
 "nbformat": 4,
 "nbformat_minor": 4
}
