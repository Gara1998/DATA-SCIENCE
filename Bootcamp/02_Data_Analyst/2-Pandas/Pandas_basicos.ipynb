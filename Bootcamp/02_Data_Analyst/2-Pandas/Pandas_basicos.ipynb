{
 "cells": [
  {
   "cell_type": "markdown",
   "metadata": {},
   "source": [
    "# PANDAS: CONCEPTOS CLAVE"
   ]
  },
  {
   "cell_type": "code",
   "execution_count": 1,
   "metadata": {},
   "outputs": [],
   "source": [
    "import numpy as np\n",
    "import pandas as pd"
   ]
  },
  {
   "cell_type": "markdown",
   "metadata": {},
   "source": [
    "### SERIES"
   ]
  },
  {
   "cell_type": "markdown",
   "metadata": {},
   "source": [
    "##### Creacion "
   ]
  },
  {
   "cell_type": "code",
   "execution_count": 2,
   "metadata": {},
   "outputs": [
    {
     "name": "stdout",
     "output_type": "stream",
     "text": [
      "0    1.50\n",
      "1    1.60\n",
      "2    1.75\n",
      "3    1.80\n",
      "dtype: float64\n",
      "----------------------------------------------------------------------------------------------------\n",
      "0     1\n",
      "1     2\n",
      "2     3\n",
      "3     4\n",
      "4     5\n",
      "5     6\n",
      "6     7\n",
      "7     8\n",
      "8     9\n",
      "9    10\n",
      "dtype: int32\n",
      "----------------------------------------------------------------------------------------------------\n",
      "0    6\n",
      "1    3\n",
      "2    7\n",
      "3    4\n",
      "dtype: int32\n"
     ]
    }
   ],
   "source": [
    "#Podemos crear series a partir de: listas, arrays, diccionarios\n",
    "#Si no damos indices pandas da indices naturales del 0 al n-1\n",
    "serie=pd.Series([1.5,1.6,1.75,1.8])\n",
    "print(serie)\n",
    "print('-'*100)\n",
    "\n",
    "serie=pd.Series(np.arange(1,11))\n",
    "print(serie)\n",
    "print('-'*100)\n",
    "\n",
    "rng = np.random.RandomState(42) #Esto es como una semilla. Como el seed en numpy.\n",
    "ser = pd.Series(rng.randint(0, 10, 4))\n",
    "print(ser)\n",
    "\n"
   ]
  },
  {
   "cell_type": "code",
   "execution_count": 39,
   "metadata": {},
   "outputs": [
    {
     "name": "stdout",
     "output_type": "stream",
     "text": [
      "Jane     0\n",
      "Joe      1\n",
      "Susan    2\n",
      "Mike     3\n",
      "dtype: int32\n",
      "----------------------------------------------------------------------------------------------------\n",
      "2    1\n",
      "5    2\n",
      "3    3\n",
      "7    4\n",
      "dtype: int32\n",
      "----------------------------------------------------------------------------------------------------\n",
      "100    5\n",
      "200    5\n",
      "300    5\n",
      "dtype: int64\n",
      "----------------------------------------------------------------------------------------------------\n",
      "California    38332521\n",
      "Texas         26448193\n",
      "New York      19651127\n",
      "Florida       19552860\n",
      "Illinois      12882135\n",
      "dtype: int64\n",
      "----------------------------------------------------------------------------------------------------\n",
      "California    38332521\n",
      "Florida       19552860\n",
      "dtype: int64\n"
     ]
    }
   ],
   "source": [
    "#Si queremos darle valores a los indices\n",
    "serie=pd.Series(np.arange(4), index=['Jane', 'Joe', 'Susan', 'Mike'])\n",
    "print(serie)\n",
    "print('-'*100)\n",
    "\n",
    "serie=pd.Series(np.arange(1,5), index=[2,5,3,7])\n",
    "print(serie)\n",
    "print('-'*100)\n",
    "\n",
    "serie=pd.Series(5,index=[100,200,300])\n",
    "print(serie)\n",
    "print('-'*100)\n",
    "\n",
    "#A partir de diccionarios. Claves: indices, valores:valores\n",
    "population_dict = {'California': 38332521,'Texas': 26448193,'New York': 19651127,'Florida': 19552860,'Illinois': 12882135}\n",
    "serie=pd.Series(population_dict) \n",
    "print(serie)\n",
    "print('-'*100)\n",
    "\n",
    "population_dict = {'California': 38332521,'Texas': 26448193,'New York': 19651127,'Florida': 19552860,'Illinois': 12882135,}\n",
    "serie=pd.Series(population_dict, index=['California', 'Florida']) #Podemos indicar que nos imprima unicamente los indices (y valores) que queremos\n",
    "print(serie)"
   ]
  },
  {
   "cell_type": "markdown",
   "metadata": {},
   "source": [
    "##### Acceso "
   ]
  },
  {
   "cell_type": "code",
   "execution_count": 77,
   "metadata": {},
   "outputs": [
    {
     "name": "stdout",
     "output_type": "stream",
     "text": [
      "0    1.50\n",
      "1    1.60\n",
      "2    1.75\n",
      "3    1.80\n",
      "dtype: float64\n",
      "----------------------------------------------------------------------------------------------------\n",
      "[1.5  1.6  1.75 1.8 ]\n",
      "----------------------------------------------------------------------------------------------------\n",
      "RangeIndex(start=0, stop=4, step=1)\n",
      "----------------------------------------------------------------------------------------------------\n",
      "RangeIndex(start=0, stop=4, step=1)\n",
      "[0, 1, 2, 3]\n",
      "----------------------------------------------------------------------------------------------------\n",
      "1.6\n",
      "1    1.60\n",
      "2    1.75\n",
      "3    1.80\n",
      "dtype: float64\n"
     ]
    }
   ],
   "source": [
    "serie=pd.Series([1.5,1.6,1.75,1.8])\n",
    "print(serie)\n",
    "print('-'*100)\n",
    "\n",
    "print(serie.values) #Accede a los valores\n",
    "print('-'*100)\n",
    "\n",
    "\n",
    "print(serie.index) #Nos muestra como estan creados los indices\n",
    "print(list(serie.index)) #Nos da una lista con los indices\n",
    "print('-'*100)\n",
    "\n",
    "print(serie[1]) #serie[indice]=valor. El indice actua como la clave en los diccionarios\n",
    "print(serie[1:4:1]) #desde el elemento 1 al n-1 (esto no hace referencia al indice (clave) sino a la posicion real 0..n-1)\n"
   ]
  },
  {
   "cell_type": "code",
   "execution_count": 87,
   "metadata": {},
   "outputs": [
    {
     "name": "stdout",
     "output_type": "stream",
     "text": [
      "a    0.25\n",
      "b    0.50\n",
      "c    0.75\n",
      "d    1.00\n",
      "dtype: float64\n",
      "----------------------------------------------------------------------------------------------------\n",
      "Index(['a', 'b', 'c', 'd'], dtype='object')\n",
      "----------------------------------------------------------------------------------------------------\n",
      "Index(['a', 'b', 'c', 'd'], dtype='object')\n",
      "----------------------------------------------------------------------------------------------------\n",
      "[0.25 0.5  0.75 1.  ]\n",
      "----------------------------------------------------------------------------------------------------\n",
      "[('a', 0.25), ('b', 0.5), ('c', 0.75), ('d', 1.0)]\n",
      "----------------------------------------------------------------------------------------------------\n"
     ]
    }
   ],
   "source": [
    "data = pd.Series([0.25, 0.5, 0.75, 1.0], index=['a', 'b', 'c', 'd'])\n",
    "print(data)\n",
    "print('-'*100)\n",
    "\n",
    "print(data.keys()) #Clave=indice\n",
    "print('-'*100)\n",
    "\n",
    "print(data.index)\n",
    "print('-'*100)\n",
    "\n",
    "print(data.values)\n",
    "print('-'*100)\n",
    "\n",
    "print(list(data.items()))\n",
    "print('-'*100)\n"
   ]
  },
  {
   "cell_type": "code",
   "execution_count": 36,
   "metadata": {},
   "outputs": [
    {
     "name": "stdout",
     "output_type": "stream",
     "text": [
      "California    38332521\n",
      "Texas         26448193\n",
      "New York      19651127\n",
      "Florida       19552860\n",
      "Illinois      12882135\n",
      "dtype: int64\n",
      "----------------------------------------------------------------------------------------------------\n",
      "38332521\n",
      "----------------------------------------------------------------------------------------------------\n",
      "California    38332521\n",
      "Texas         26448193\n",
      "New York      19651127\n",
      "dtype: int64\n"
     ]
    }
   ],
   "source": [
    "population_dict = {'California': 38332521,'Texas': 26448193,'New York': 19651127,'Florida': 19552860,'Illinois': 12882135}\n",
    "serie=pd.Series(population_dict) \n",
    "print(serie)\n",
    "print('-'*100)\n",
    "\n",
    "print(serie['California']) #Da el valor del indice 'California'\n",
    "print('-'*100)\n",
    "print(serie['California':'New York']) #Al hacer con string coje el ultimo tambien (hasta el n)"
   ]
  },
  {
   "cell_type": "code",
   "execution_count": 57,
   "metadata": {},
   "outputs": [
    {
     "name": "stdout",
     "output_type": "stream",
     "text": [
      "0        1\n",
      "1      NaN\n",
      "2    hello\n",
      "3     None\n",
      "dtype: object\n",
      "----------------------------------------------------------------------------------------------------\n",
      "0    1\n",
      "dtype: object\n",
      "----------------------------------------------------------------------------------------------------\n",
      "1      NaN\n",
      "2    hello\n",
      "3     None\n",
      "dtype: object\n"
     ]
    }
   ],
   "source": [
    "data = pd.Series([1, np.nan, 'hello', None])\n",
    "print(data)\n",
    "print('-'*100)\n",
    "\n",
    "print(data[data==1]) #Imprime los datos de valor 1\n",
    "print('-'*100)\n",
    "\n",
    "print(data[~(data==1)]) #Imprime los datos que no son d valor 1\n"
   ]
  },
  {
   "cell_type": "markdown",
   "metadata": {},
   "source": [
    "##### Edicion "
   ]
  },
  {
   "cell_type": "code",
   "execution_count": 91,
   "metadata": {},
   "outputs": [
    {
     "name": "stdout",
     "output_type": "stream",
     "text": [
      "a    0.25\n",
      "b    0.50\n",
      "c    0.75\n",
      "d    1.00\n",
      "dtype: float64\n",
      "----------------------------------------------------------------------------------------------------\n",
      "a    0.25\n",
      "b    0.50\n",
      "c    0.75\n",
      "d    1.00\n",
      "e    1.25\n",
      "dtype: float64\n",
      "----------------------------------------------------------------------------------------------------\n",
      "a    0.25\n",
      "b    0.50\n",
      "c    0.75\n",
      "d    1.00\n",
      "e    0.00\n",
      "dtype: float64\n"
     ]
    }
   ],
   "source": [
    "data = pd.Series([0.25, 0.5, 0.75, 1.0], index=['a', 'b', 'c', 'd'])\n",
    "print(data)\n",
    "print('-'*100)\n",
    "\n",
    "data['e']=1.25\n",
    "print(data)\n",
    "print('-'*100)\n",
    "\n",
    "data['e']=0\n",
    "print(data)"
   ]
  },
  {
   "cell_type": "markdown",
   "metadata": {},
   "source": [
    "##### Seleccion de datos"
   ]
  },
  {
   "cell_type": "code",
   "execution_count": 97,
   "metadata": {},
   "outputs": [
    {
     "name": "stdout",
     "output_type": "stream",
     "text": [
      "a    0.25\n",
      "b    0.50\n",
      "c    0.75\n",
      "d    1.00\n",
      "dtype: float64\n",
      "----------------------------------------------------------------------------------------------------\n",
      "a    False\n",
      "b     True\n",
      "c     True\n",
      "d    False\n",
      "dtype: bool\n",
      "----------------------------------------------------------------------------------------------------\n",
      "b    0.50\n",
      "c    0.75\n",
      "dtype: float64\n"
     ]
    }
   ],
   "source": [
    "data = pd.Series([0.25, 0.5, 0.75, 1.0], index=['a', 'b', 'c', 'd'])\n",
    "print(data)\n",
    "print('-'*100)\n",
    "\n",
    "print((data > 0.3) & (data < 0.8))\n",
    "print('-'*100)\n",
    "\n",
    "print(data[(data > 0.3) & (data < 0.8)])"
   ]
  },
  {
   "cell_type": "markdown",
   "metadata": {},
   "source": [
    "### DATA FRAME"
   ]
  },
  {
   "cell_type": "markdown",
   "metadata": {},
   "source": [
    "##### Creacion "
   ]
  },
  {
   "cell_type": "code",
   "execution_count": 66,
   "metadata": {},
   "outputs": [
    {
     "name": "stdout",
     "output_type": "stream",
     "text": [
      "              population    area\n",
      "California    38332521.0  423967\n",
      "Carolina Sur         NaN  445698\n",
      "Florida       19552860.0  170312\n",
      "Illinois      12882135.0  149995\n",
      "New York      19651127.0  141297\n",
      "Texas         26448193.0  695662\n",
      "----------------------------------------------------------------------------------------------------\n",
      "            Population\n",
      "California    38332521\n",
      "Texas         26448193\n",
      "New York      19651127\n",
      "Florida       19552860\n",
      "Illinois      12882135\n",
      "----------------------------------------------------------------------------------------------------\n",
      "[{'a': 0, 'b': 0}, {'a': 1, 'b': 2}, {'a': 2, 'b': 4}]\n",
      "   a  b\n",
      "0  0  0\n",
      "1  1  2\n",
      "2  2  4\n",
      "----------------------------------------------------------------------------------------------------\n",
      "  nombre  edad  altura\n",
      "0   Juan    29     NaN\n",
      "1    NaN    26    1.75\n",
      "----------------------------------------------------------------------------------------------------\n"
     ]
    }
   ],
   "source": [
    "area_dict = {'Texas': 695662, 'California': 423967, 'New York': 141297,\n",
    "             'Florida': 170312, 'Illinois': 149995, 'Carolina Sur': 445698}\n",
    "area = pd.Series(area_dict)\n",
    "\n",
    "population_dict = {'California': 38332521,'Texas': 26448193,'New York': 19651127,'Florida': 19552860,'Illinois': 12882135}\n",
    "population = pd.Series(population_dict) \n",
    "\n",
    "Data_frame=pd.DataFrame({'population':population,'area':area})\n",
    "print(Data_frame)\n",
    "print('-'*100)\n",
    "\n",
    "#Podemos crear Data frame con una unica serie\n",
    "print(pd.DataFrame(data=population, columns=['Population']))\n",
    "print('-'*100)\n",
    "\n",
    "#A partir de una lista\n",
    "data = [{'a': i, 'b': 2 * i} for i in range(3)] # lista de diccionarios\n",
    "print(data)\n",
    "print(pd.DataFrame(data))\n",
    "print('-'*100)\n",
    "\n",
    "#A partir de diccionarios\n",
    "print(pd.DataFrame([{'nombre': \"Juan\", 'edad': 29}, {'edad': 26, 'altura': 1.75}]))\n",
    "print('-'*100)"
   ]
  },
  {
   "cell_type": "code",
   "execution_count": 3,
   "metadata": {},
   "outputs": [
    {
     "name": "stdout",
     "output_type": "stream",
     "text": [
      "   Columna 1  Columna 2\n",
      "a   0.543405   0.278369\n",
      "b   0.424518   0.844776\n",
      "c   0.004719   0.121569\n",
      "----------------------------------------------------------------------------------------------------\n",
      "[(0, 0., 0.) (0, 0., 0.) (0, 0., 0.)]\n",
      "   A    B    C\n",
      "0  0  0.0  0.0\n",
      "1  0  0.0  0.0\n",
      "2  0  0.0  0.0\n",
      "----------------------------------------------------------------------------------------------------\n",
      "   A  B  C  D\n",
      "0  6  9  2  6\n",
      "1  7  4  3  7\n",
      "2  7  2  5  4\n"
     ]
    }
   ],
   "source": [
    "#A partir de una matriz Numpy\n",
    "np.random.seed(100)\n",
    "x=pd.DataFrame(np.random.rand(3,2), columns=['Columna 1', 'Columna 2'], index=['a','b','c'])\n",
    "print(x)\n",
    "print('-'*100)\n",
    "\n",
    "#Podemos elegir como queremos guardar los numeros. int/float, numero de bytes...\n",
    "A = np.zeros(3, dtype=[('A', 'i8'), ('B', 'f8'), ('C', 'f8')]) #Columna y tipo\n",
    "print(A)\n",
    "print(pd.DataFrame(A))\n",
    "print('-'*100)\n",
    "\n",
    "#Aleatorio\n",
    "df = pd.DataFrame(rng.randint(0, 10, (3, 4)),columns=['A', 'B', 'C', 'D'])\n",
    "print(df)\n"
   ]
  },
  {
   "cell_type": "markdown",
   "metadata": {},
   "source": [
    "##### Acceso"
   ]
  },
  {
   "cell_type": "code",
   "execution_count": 52,
   "metadata": {},
   "outputs": [
    {
     "name": "stdout",
     "output_type": "stream",
     "text": [
      "Index(['California', 'Carolina Sur', 'Florida', 'Illinois', 'New York',\n",
      "       'Texas'],\n",
      "      dtype='object')\n",
      "----------------------------------------------------------------------------------------------------\n",
      "Index(['population', 'area'], dtype='object')\n",
      "----------------------------------------------------------------------------------------------------\n",
      "California      423967\n",
      "Carolina Sur    445698\n",
      "Florida         170312\n",
      "Illinois        149995\n",
      "New York        141297\n",
      "Texas           695662\n",
      "Name: area, dtype: int64\n",
      "----------------------------------------------------------------------------------------------------\n",
      "population    38332521.0\n",
      "area            423967.0\n",
      "Name: California, dtype: float64\n",
      "----------------------------------------------------------------------------------------------------\n",
      "423967\n",
      "----------------------------------------------------------------------------------------------------\n",
      "[[38332521.   423967.]\n",
      " [      nan   445698.]\n",
      " [19552860.   170312.]\n",
      " [12882135.   149995.]\n",
      " [19651127.   141297.]\n",
      " [26448193.   695662.]]\n"
     ]
    }
   ],
   "source": [
    "print(Data_frame.index)\n",
    "print('-'*100)\n",
    "print(Data_frame.columns)\n",
    "print('-'*100)\n",
    "\n",
    "print(Data_frame['area'])\n",
    "print('-'*100)\n",
    "\n",
    "print(Data_frame.loc['California']) #Imprime todos los datos de california\n",
    "print('-'*100)\n",
    "\n",
    "print(Data_frame.loc['California', 'area']) #Imprime la variable de la columna del indice indicado\n",
    "print('-'*100)\n",
    "\n",
    "print(Data_frame.values) #Array de los valores, sin columnas ni indices"
   ]
  },
  {
   "cell_type": "markdown",
   "metadata": {},
   "source": [
    "##### Seleccion de datos"
   ]
  },
  {
   "cell_type": "code",
   "execution_count": 109,
   "metadata": {},
   "outputs": [
    {
     "name": "stdout",
     "output_type": "stream",
     "text": [
      "              area  population\n",
      "California  423967    38332521\n",
      "Texas       695662    26448193\n",
      "New York    141297    19651127\n",
      "Florida     170312    19552860\n",
      "Illinois    149995    12882135\n",
      "----------------------------------------------------------------------------------------------------\n",
      "True\n",
      "----------------------------------------------------------------------------------------------------\n",
      "              area  population     density\n",
      "California  423967    38332521   90.413926\n",
      "Texas       695662    26448193   38.018740\n",
      "New York    141297    19651127  139.076746\n",
      "Florida     170312    19552860  114.806121\n",
      "Illinois    149995    12882135   85.883763\n",
      "----------------------------------------------------------------------------------------------------\n",
      "              California         Texas      New York       Florida  \\\n",
      "area        4.239670e+05  6.956620e+05  1.412970e+05  1.703120e+05   \n",
      "population  3.833252e+07  2.644819e+07  1.965113e+07  1.955286e+07   \n",
      "density     9.041393e+01  3.801874e+01  1.390767e+02  1.148061e+02   \n",
      "\n",
      "                Illinois  \n",
      "area        1.499950e+05  \n",
      "population  1.288214e+07  \n",
      "density     8.588376e+01  \n",
      "----------------------------------------------------------------------------------------------------\n"
     ]
    }
   ],
   "source": [
    "area = pd.Series({'California': 423967, 'Texas': 695662,\n",
    "                  'New York': 141297, 'Florida': 170312,\n",
    "                  'Illinois': 149995})\n",
    "pop = pd.Series({'California': 38332521, 'Texas': 26448193,\n",
    "                 'New York': 19651127, 'Florida': 19552860,\n",
    "                 'Illinois': 12882135})\n",
    "\n",
    "data = pd.DataFrame({'area':area, 'population':pop})\n",
    "print(data)\n",
    "print('-'*100)\n",
    "\n",
    "print(data.area is data['area']) #Se puede acceder a los nombres de columnas de las dos maneras\n",
    "print('-'*100)\n",
    "\n",
    "data['density'] = data['population'] / data['area'] #Podemos crear nueva variable en la dataframe\n",
    "print(data)\n",
    "print('-'*100)\n",
    "\n",
    "print(data.T) #Transpuesta\n",
    "print('-'*100)\n"
   ]
  },
  {
   "cell_type": "code",
   "execution_count": 110,
   "metadata": {},
   "outputs": [
    {
     "name": "stdout",
     "output_type": "stream",
     "text": [
      "            population     density\n",
      "California    38332521   90.413926\n",
      "New York      19651127  139.076746\n",
      "----------------------------------------------------------------------------------------------------\n",
      "          population     density\n",
      "Illinois    12882135   85.883763\n",
      "Florida     19552860  114.806121\n",
      "New York    19651127  139.076746\n",
      "Texas       26448193   38.018740\n"
     ]
    }
   ],
   "source": [
    "#loc:\n",
    "#iloc:\n",
    "print(data.iloc[:4:2,1:3]) #fila,columna\n",
    "print('-'*100)\n",
    "print(data.loc['Illinois':'Texas':-1, 'population':'density'])"
   ]
  },
  {
   "cell_type": "markdown",
   "metadata": {},
   "source": [
    "### INDICES"
   ]
  },
  {
   "cell_type": "markdown",
   "metadata": {},
   "source": [
    "El objeto INDEX en pandas es otro objeto como son las series y los DataFrames."
   ]
  },
  {
   "cell_type": "code",
   "execution_count": 74,
   "metadata": {},
   "outputs": [
    {
     "name": "stdout",
     "output_type": "stream",
     "text": [
      "Index([2, 3, 5, 7, 11], dtype='int64')\n",
      "----------------------------------------------------------------------------------------------------\n",
      "3\n",
      "Index([2, 5, 11], dtype='int64')\n",
      "----------------------------------------------------------------------------------------------------\n",
      "5 (5,) 1 int64\n"
     ]
    }
   ],
   "source": [
    "ejemplo=pd.Index([2, 3, 5, 7, 11]) #en 'Ejemplo' guardamos unos indices\n",
    "print(ejemplo)\n",
    "print('-'*100)\n",
    "\n",
    "print(ejemplo[1]) #Indice que esta en posicion 1 (segundo valor)\n",
    "print(ejemplo[::2]) #de principio a fijn de dos en dos\n",
    "print('-'*100)\n",
    "\n",
    "print(ejemplo.size, ejemplo.shape, ejemplo.ndim, ejemplo.dtype) #Size: numero de elementos, shape:estructura, ndim:numero de dimensiones, dtype:tipo de dato\n",
    "#NO SE PUEDEN MODIFICAR asi: ind[1]=12"
   ]
  },
  {
   "cell_type": "markdown",
   "metadata": {},
   "source": [
    "##### Relacion entre indices"
   ]
  },
  {
   "cell_type": "code",
   "execution_count": 75,
   "metadata": {},
   "outputs": [
    {
     "name": "stdout",
     "output_type": "stream",
     "text": [
      "Index([3, 5, 7], dtype='int64')\n",
      "Index([1, 2, 3, 5, 7, 9, 11], dtype='int64')\n",
      "Index([1, 2, 9, 11], dtype='int64')\n"
     ]
    }
   ],
   "source": [
    "indA = pd.Index([1, 3, 5, 7, 9])\n",
    "indB = pd.Index([2, 3, 5, 7, 11])\n",
    "\n",
    "print(indA.intersection(indB)) #Elementos en ambos conjuntos\n",
    "print(indA.union(indB)) #Union\n",
    "print(indA.symmetric_difference(indB)) #Elementos solo en un conjunto"
   ]
  },
  {
   "cell_type": "markdown",
   "metadata": {},
   "source": [
    "Diferencias entre loc y iloc"
   ]
  },
  {
   "cell_type": "markdown",
   "metadata": {},
   "source": [
    "> loc gets rows (and/or columns) with particular labels.\n",
    ">\n",
    "> iloc gets rows (and/or columns) at integer locations."
   ]
  },
  {
   "cell_type": "code",
   "execution_count": 5,
   "metadata": {},
   "outputs": [
    {
     "name": "stdout",
     "output_type": "stream",
     "text": [
      "d\n",
      "----------------------------------------------------------------------------------------------------\n",
      "a\n",
      "----------------------------------------------------------------------------------------------------\n",
      "0    d\n",
      "1    e\n",
      "dtype: object\n",
      "----------------------------------------------------------------------------------------------------\n",
      "49    a\n",
      "dtype: object\n"
     ]
    }
   ],
   "source": [
    "#https://stackoverflow.com/questions/31593201/how-are-iloc-and-loc-different\n",
    "\n",
    "s = pd.Series(list(\"abcdef\"), index=[49, 48, 47, 0, 1, 2]) \n",
    "\n",
    "print(s.loc[0])    # value at index label 0\n",
    "print('-'*100)\n",
    "\n",
    "print(s.iloc[0])   # value at index location 0\n",
    "print('-'*100)\n",
    "\n",
    "print(s.loc[0:1])  # rows at index labels between 0 and 1 (inclusive)\n",
    "print('-'*100)\n",
    "\n",
    "print(s.iloc[0:1]) # rows at index location between 0 and 1 (exclusive)\n"
   ]
  },
  {
   "cell_type": "markdown",
   "metadata": {},
   "source": [
    "### ALIENACION DE INDICES"
   ]
  },
  {
   "cell_type": "code",
   "execution_count": 20,
   "metadata": {},
   "outputs": [
    {
     "name": "stdout",
     "output_type": "stream",
     "text": [
      "Alaska              NaN\n",
      "California    90.413926\n",
      "New York            NaN\n",
      "Texas         38.018740\n",
      "dtype: float64\n",
      "----------------------------------------------------------------------------------------------------\n",
      "                 area  populacion\n",
      "Alaska      1723337.0         NaN\n",
      "California   423967.0  38332521.0\n",
      "New York          NaN  19651127.0\n",
      "Texas        695662.0  26448193.0\n",
      "----------------------------------------------------------------------------------------------------\n"
     ]
    },
    {
     "data": {
      "text/html": [
       "<div>\n",
       "<style scoped>\n",
       "    .dataframe tbody tr th:only-of-type {\n",
       "        vertical-align: middle;\n",
       "    }\n",
       "\n",
       "    .dataframe tbody tr th {\n",
       "        vertical-align: top;\n",
       "    }\n",
       "\n",
       "    .dataframe thead th {\n",
       "        text-align: right;\n",
       "    }\n",
       "</style>\n",
       "<table border=\"1\" class=\"dataframe\">\n",
       "  <thead>\n",
       "    <tr style=\"text-align: right;\">\n",
       "      <th></th>\n",
       "      <th>area</th>\n",
       "      <th>populacion</th>\n",
       "      <th>relacion_area</th>\n",
       "    </tr>\n",
       "  </thead>\n",
       "  <tbody>\n",
       "    <tr>\n",
       "      <th>Alaska</th>\n",
       "      <td>1723337.0</td>\n",
       "      <td>NaN</td>\n",
       "      <td>NaN</td>\n",
       "    </tr>\n",
       "    <tr>\n",
       "      <th>California</th>\n",
       "      <td>423967.0</td>\n",
       "      <td>38332521.0</td>\n",
       "      <td>90.413926</td>\n",
       "    </tr>\n",
       "    <tr>\n",
       "      <th>New York</th>\n",
       "      <td>NaN</td>\n",
       "      <td>19651127.0</td>\n",
       "      <td>NaN</td>\n",
       "    </tr>\n",
       "    <tr>\n",
       "      <th>Texas</th>\n",
       "      <td>695662.0</td>\n",
       "      <td>26448193.0</td>\n",
       "      <td>38.018740</td>\n",
       "    </tr>\n",
       "  </tbody>\n",
       "</table>\n",
       "</div>"
      ],
      "text/plain": [
       "                 area  populacion  relacion_area\n",
       "Alaska      1723337.0         NaN            NaN\n",
       "California   423967.0  38332521.0      90.413926\n",
       "New York          NaN  19651127.0            NaN\n",
       "Texas        695662.0  26448193.0      38.018740"
      ]
     },
     "execution_count": 20,
     "metadata": {},
     "output_type": "execute_result"
    }
   ],
   "source": [
    "area = pd.Series({'Alaska': 1723337,'Texas': 695662, 'California': 423967},name='area')\n",
    "population = pd.Series({'California': 38332521,'Texas': 26448193, 'New York': 19651127}, name='population')\n",
    "\n",
    "relacion=population/area\n",
    "print(relacion)\n",
    "print('-'*100)\n",
    "\n",
    "dataf=pd.DataFrame({'area':area,'populacion':population})\n",
    "print(dataf)\n",
    "print('-'*100)\n",
    "\n",
    "dataf['relacion_area']=dataf['populacion']/dataf['area']\n",
    "dataf"
   ]
  },
  {
   "cell_type": "markdown",
   "metadata": {},
   "source": [
    "### OPERACIONES\n",
    "\n",
    "| Python Operator | Pandas Method(s)                      |\n",
    "|-----------------|---------------------------------------|\n",
    "| ``+``           | ``add()``                             |\n",
    "| ``-``           | ``sub()``, ``subtract()``             |\n",
    "| ``*``           | ``mul()``, ``multiply()``             |\n",
    "| ``/``           | ``truediv()``, ``div()``, ``divide()``|\n",
    "| ``//``          | ``floordiv()``                        |\n",
    "| ``%``           | ``mod()``                             |\n",
    "| ``**``          | ``pow()``                             |\n"
   ]
  },
  {
   "cell_type": "markdown",
   "metadata": {},
   "source": [
    "Operaciones en filas"
   ]
  },
  {
   "cell_type": "code",
   "execution_count": 26,
   "metadata": {},
   "outputs": [
    {
     "name": "stdout",
     "output_type": "stream",
     "text": [
      "[[1 6 6 9]\n",
      " [0 6 4 7]\n",
      " [4 7 1 1]]\n",
      "----------------------------------------------------------------------------------------------------\n",
      "[[ 0  0  0  0]\n",
      " [-1  0 -2 -2]\n",
      " [ 3  1 -5 -8]]\n"
     ]
    }
   ],
   "source": [
    "semilla=np.random.RandomState(17)\n",
    "A=semilla.randint(10,size=(3,4))\n",
    "print(A)\n",
    "print('-'*100)\n",
    "\n",
    "print(A-A[0]) #La operacion por defecto es por filas"
   ]
  },
  {
   "cell_type": "code",
   "execution_count": 30,
   "metadata": {},
   "outputs": [
    {
     "name": "stdout",
     "output_type": "stream",
     "text": [
      "   Q  R  S  T\n",
      "0  1  6  6  9\n",
      "1  0  6  4  7\n",
      "2  4  7  1  1\n",
      "----------------------------------------------------------------------------------------------------\n"
     ]
    },
    {
     "data": {
      "text/html": [
       "<div>\n",
       "<style scoped>\n",
       "    .dataframe tbody tr th:only-of-type {\n",
       "        vertical-align: middle;\n",
       "    }\n",
       "\n",
       "    .dataframe tbody tr th {\n",
       "        vertical-align: top;\n",
       "    }\n",
       "\n",
       "    .dataframe thead th {\n",
       "        text-align: right;\n",
       "    }\n",
       "</style>\n",
       "<table border=\"1\" class=\"dataframe\">\n",
       "  <thead>\n",
       "    <tr style=\"text-align: right;\">\n",
       "      <th></th>\n",
       "      <th>Q</th>\n",
       "      <th>R</th>\n",
       "      <th>S</th>\n",
       "      <th>T</th>\n",
       "    </tr>\n",
       "  </thead>\n",
       "  <tbody>\n",
       "    <tr>\n",
       "      <th>0</th>\n",
       "      <td>0</td>\n",
       "      <td>0</td>\n",
       "      <td>0</td>\n",
       "      <td>0</td>\n",
       "    </tr>\n",
       "    <tr>\n",
       "      <th>1</th>\n",
       "      <td>-1</td>\n",
       "      <td>0</td>\n",
       "      <td>-2</td>\n",
       "      <td>-2</td>\n",
       "    </tr>\n",
       "    <tr>\n",
       "      <th>2</th>\n",
       "      <td>3</td>\n",
       "      <td>1</td>\n",
       "      <td>-5</td>\n",
       "      <td>-8</td>\n",
       "    </tr>\n",
       "  </tbody>\n",
       "</table>\n",
       "</div>"
      ],
      "text/plain": [
       "   Q  R  S  T\n",
       "0  0  0  0  0\n",
       "1 -1  0 -2 -2\n",
       "2  3  1 -5 -8"
      ]
     },
     "execution_count": 30,
     "metadata": {},
     "output_type": "execute_result"
    }
   ],
   "source": [
    "datafra=pd.DataFrame(A, columns=list('QRST'))\n",
    "print(datafra)\n",
    "print('-'*100)\n",
    "\n",
    "datafra-datafra.iloc[0] #Tenemos que usar iloc para acceder a los indices naturales"
   ]
  },
  {
   "cell_type": "markdown",
   "metadata": {},
   "source": [
    "Operaciones en columnas"
   ]
  },
  {
   "cell_type": "code",
   "execution_count": 37,
   "metadata": {},
   "outputs": [
    {
     "name": "stdout",
     "output_type": "stream",
     "text": [
      "   Q  R  S  T\n",
      "0  1  6  6  9\n",
      "1  0  6  4  7\n",
      "2  4  7  1  1\n",
      "----------------------------------------------------------------------------------------------------\n"
     ]
    },
    {
     "data": {
      "text/html": [
       "<div>\n",
       "<style scoped>\n",
       "    .dataframe tbody tr th:only-of-type {\n",
       "        vertical-align: middle;\n",
       "    }\n",
       "\n",
       "    .dataframe tbody tr th {\n",
       "        vertical-align: top;\n",
       "    }\n",
       "\n",
       "    .dataframe thead th {\n",
       "        text-align: right;\n",
       "    }\n",
       "</style>\n",
       "<table border=\"1\" class=\"dataframe\">\n",
       "  <thead>\n",
       "    <tr style=\"text-align: right;\">\n",
       "      <th></th>\n",
       "      <th>Q</th>\n",
       "      <th>R</th>\n",
       "      <th>S</th>\n",
       "      <th>T</th>\n",
       "    </tr>\n",
       "  </thead>\n",
       "  <tbody>\n",
       "    <tr>\n",
       "      <th>0</th>\n",
       "      <td>-5</td>\n",
       "      <td>0</td>\n",
       "      <td>0</td>\n",
       "      <td>3</td>\n",
       "    </tr>\n",
       "    <tr>\n",
       "      <th>1</th>\n",
       "      <td>-6</td>\n",
       "      <td>0</td>\n",
       "      <td>-2</td>\n",
       "      <td>1</td>\n",
       "    </tr>\n",
       "    <tr>\n",
       "      <th>2</th>\n",
       "      <td>-3</td>\n",
       "      <td>0</td>\n",
       "      <td>-6</td>\n",
       "      <td>-6</td>\n",
       "    </tr>\n",
       "  </tbody>\n",
       "</table>\n",
       "</div>"
      ],
      "text/plain": [
       "   Q  R  S  T\n",
       "0 -5  0  0  3\n",
       "1 -6  0 -2  1\n",
       "2 -3  0 -6 -6"
      ]
     },
     "execution_count": 37,
     "metadata": {},
     "output_type": "execute_result"
    }
   ],
   "source": [
    "datafra=pd.DataFrame(A, columns=list('QRST'))\n",
    "print(datafra)\n",
    "print('-'*100)\n",
    "\n",
    "#Para eliminar los valores de cierta columna al resto de las columnas\n",
    "#ASIX=0 (la operacion es columnar pero va por filas. Borrando cada elemento de la columna fila a fila)\n",
    "datafra=datafra.subtract(datafra['R'], axis=0)\n",
    "datafra"
   ]
  },
  {
   "cell_type": "code",
   "execution_count": 41,
   "metadata": {},
   "outputs": [
    {
     "name": "stdout",
     "output_type": "stream",
     "text": [
      "Q   -5\n",
      "S    0\n",
      "Name: 0, dtype: int32\n",
      "----------------------------------------------------------------------------------------------------\n"
     ]
    },
    {
     "data": {
      "text/html": [
       "<div>\n",
       "<style scoped>\n",
       "    .dataframe tbody tr th:only-of-type {\n",
       "        vertical-align: middle;\n",
       "    }\n",
       "\n",
       "    .dataframe tbody tr th {\n",
       "        vertical-align: top;\n",
       "    }\n",
       "\n",
       "    .dataframe thead th {\n",
       "        text-align: right;\n",
       "    }\n",
       "</style>\n",
       "<table border=\"1\" class=\"dataframe\">\n",
       "  <thead>\n",
       "    <tr style=\"text-align: right;\">\n",
       "      <th></th>\n",
       "      <th>Q</th>\n",
       "      <th>R</th>\n",
       "      <th>S</th>\n",
       "      <th>T</th>\n",
       "    </tr>\n",
       "  </thead>\n",
       "  <tbody>\n",
       "    <tr>\n",
       "      <th>0</th>\n",
       "      <td>0.0</td>\n",
       "      <td>NaN</td>\n",
       "      <td>0.0</td>\n",
       "      <td>NaN</td>\n",
       "    </tr>\n",
       "    <tr>\n",
       "      <th>1</th>\n",
       "      <td>-1.0</td>\n",
       "      <td>NaN</td>\n",
       "      <td>-2.0</td>\n",
       "      <td>NaN</td>\n",
       "    </tr>\n",
       "    <tr>\n",
       "      <th>2</th>\n",
       "      <td>2.0</td>\n",
       "      <td>NaN</td>\n",
       "      <td>-6.0</td>\n",
       "      <td>NaN</td>\n",
       "    </tr>\n",
       "  </tbody>\n",
       "</table>\n",
       "</div>"
      ],
      "text/plain": [
       "     Q   R    S   T\n",
       "0  0.0 NaN  0.0 NaN\n",
       "1 -1.0 NaN -2.0 NaN\n",
       "2  2.0 NaN -6.0 NaN"
      ]
     },
     "execution_count": 41,
     "metadata": {},
     "output_type": "execute_result"
    }
   ],
   "source": [
    "#Si queremos eliminar varias columnas podemos hacer lo siguiente\n",
    "ejemplo=datafra.iloc[0,::2]\n",
    "print(ejemplo)\n",
    "print('-'*100)\n",
    "\n",
    "datafra-ejemplo"
   ]
  },
  {
   "cell_type": "markdown",
   "metadata": {},
   "source": [
    "### DATOS AUSENTES\n",
    "\n",
    "|Function Name      |   NaN-safe Version  | Description                                   |\n",
    "|-------------------|---------------------|-----------------------------------------------|\n",
    "| ``np.sum``        | ``np.nansum``       | Compute sum of elements                       |\n",
    "| ``np.prod``       | ``np.nanprod``      | Compute product of elements                   |\n",
    "| ``np.mean``       | ``np.nanmean``      | Compute mean of elements                      |\n",
    "| ``np.std``        | ``np.nanstd``       | Compute standard deviation                    |\n",
    "| ``np.var``        | ``np.nanvar``       | Compute variance                              |\n",
    "| ``np.min``        | ``np.nanmin``       | Find minimum value                            |\n",
    "| ``np.max``        | ``np.nanmax``       | Find maximum value                            |\n",
    "| ``np.argmin``     | ``np.nanargmin``    | Find index of minimum value                   |\n",
    "| ``np.argmax``     | ``np.nanargmax``    | Find index of maximum value                   |\n",
    "| ``np.median``     | ``np.nanmedian``    | Compute median of elements                    |\n",
    "| ``np.percentile`` | ``np.nanpercentile``| Compute rank-based statistics of elements     |\n",
    "| ``np.any``        | N/A                 | Evaluate whether any elements are true        |\n",
    "| ``np.all``        | N/A                 | Evaluate whether all elements are true        |"
   ]
  },
  {
   "cell_type": "code",
   "execution_count": 48,
   "metadata": {},
   "outputs": [
    {
     "name": "stdout",
     "output_type": "stream",
     "text": [
      "object\n",
      "----------------------------------------------------------------------------------------------------\n",
      "float64\n",
      "----------------------------------------------------------------------------------------------------\n",
      "nan nan nan\n",
      "----------------------------------------------------------------------------------------------------\n"
     ]
    },
    {
     "data": {
      "text/plain": [
       "(8.0, 1.0, 4.0)"
      ]
     },
     "execution_count": 48,
     "metadata": {},
     "output_type": "execute_result"
    }
   ],
   "source": [
    "vals1 = np.array([1,None, 3, 4]) #al aparecer un none en un array todma por defecto todos los valores del array como string\n",
    "print(vals1.dtype)\n",
    "print('-'*100)\n",
    "\n",
    "vals2 = np.array([1,np.nan, 3, 4]) #Solucionamos el problema anterior. Los numeros los lee como numeros no como strings\n",
    "print(vals2.dtype)\n",
    "print('-'*100)\n",
    "\n",
    "#Cualquier operacion basica (los de la primera columna d la segunda tabla) con nana dara un nan\n",
    "print(vals2.sum(), vals2.min(), vals2.max())\n",
    "print('-'*100)\n",
    "\n",
    "np.nansum(vals2), np.nanmin(vals2), np.nanmax(vals2) #Para ignorar datos ausentes"
   ]
  },
  {
   "cell_type": "markdown",
   "metadata": {},
   "source": [
    "#### Detectando valores nulos\n"
   ]
  },
  {
   "cell_type": "code",
   "execution_count": 54,
   "metadata": {},
   "outputs": [
    {
     "name": "stdout",
     "output_type": "stream",
     "text": [
      "0        1\n",
      "1      NaN\n",
      "2    hello\n",
      "3     None\n",
      "dtype: object\n",
      "----------------------------------------------------------------------------------------------------\n",
      "0    False\n",
      "1     True\n",
      "2    False\n",
      "3     True\n",
      "dtype: bool\n",
      "----------------------------------------------------------------------------------------------------\n",
      "1     NaN\n",
      "3    None\n",
      "dtype: object\n",
      "----------------------------------------------------------------------------------------------------\n",
      "0     True\n",
      "1    False\n",
      "2     True\n",
      "3    False\n",
      "dtype: bool\n",
      "----------------------------------------------------------------------------------------------------\n",
      "0        1\n",
      "2    hello\n",
      "dtype: object\n",
      "----------------------------------------------------------------------------------------------------\n"
     ]
    }
   ],
   "source": [
    "data=pd.Series([1,np.nan,'hello',None])\n",
    "print(data)\n",
    "print('-'*100)\n",
    "\n",
    "print(data.isnull()) #True: cuando un valor es nulo\n",
    "print('-'*100)\n",
    "\n",
    "print(data[data.isnull()]) \n",
    "print('-'*100)\n",
    "\n",
    "print(data.notnull()) #True: Cuando un valor existe y no es nulo\n",
    "print('-'*100)\n",
    "\n",
    "print(data[data.notnull()]) #True: Cuando un valor existe y no es nulo\n",
    "print('-'*100)"
   ]
  },
  {
   "cell_type": "markdown",
   "metadata": {},
   "source": [
    "#### Eliminando valores nulos\n"
   ]
  },
  {
   "cell_type": "code",
   "execution_count": 62,
   "metadata": {},
   "outputs": [
    {
     "name": "stdout",
     "output_type": "stream",
     "text": [
      "0        1\n",
      "1      NaN\n",
      "2    hello\n",
      "3     None\n",
      "dtype: object\n",
      "----------------------------------------------------------------------------------------------------\n",
      "0        1\n",
      "1      NaN\n",
      "2    hello\n",
      "3     None\n",
      "dtype: object\n",
      "0        1\n",
      "2    hello\n",
      "dtype: object\n",
      "----------------------------------------------------------------------------------------------------\n",
      "0        1\n",
      "2    hello\n",
      "dtype: object\n"
     ]
    }
   ],
   "source": [
    "data=pd.Series([1,np.nan,'hello',None])\n",
    "print(data)\n",
    "print('-'*100)\n",
    "\n",
    "guardamos=data.dropna() #Borra los valores nulos de la serie data y guarda el resultado en guardamos\n",
    "print(data) #No se modifica la serie original.\n",
    "print(guardamos)\n",
    "print('-'*100)\n",
    "\n",
    "#Si queremos que se modifique la serie original\n",
    "data.dropna(inplace=True)\n",
    "print(data)\n"
   ]
  },
  {
   "cell_type": "markdown",
   "metadata": {},
   "source": [
    "En un Data Frame no se pueden eliminar valores individuales se borran filas o columnas completas"
   ]
  },
  {
   "cell_type": "code",
   "execution_count": 70,
   "metadata": {},
   "outputs": [
    {
     "name": "stdout",
     "output_type": "stream",
     "text": [
      "     0    1  2\n",
      "0  1.0  NaN  2\n",
      "1  2.0  3.0  5\n",
      "2  NaN  4.0  6\n",
      "----------------------------------------------------------------------------------------------------\n",
      "     0    1  2\n",
      "1  2.0  3.0  5\n",
      "----------------------------------------------------------------------------------------------------\n",
      "   2\n",
      "0  2\n",
      "1  5\n",
      "2  6\n",
      "----------------------------------------------------------------------------------------------------\n",
      "     0    1  2   3\n",
      "0  1.0  NaN  2 NaN\n",
      "1  2.0  3.0  5 NaN\n",
      "2  NaN  4.0  6 NaN\n",
      "----------------------------------------------------------------------------------------------------\n",
      "     0    1  2\n",
      "0  1.0  NaN  2\n",
      "1  2.0  3.0  5\n",
      "2  NaN  4.0  6\n",
      "----------------------------------------------------------------------------------------------------\n",
      "   2\n",
      "0  2\n",
      "1  5\n",
      "2  6\n",
      "----------------------------------------------------------------------------------------------------\n"
     ]
    }
   ],
   "source": [
    "df = pd.DataFrame([[1,      np.nan, 2],\n",
    "                   [2,      3,      5],\n",
    "                   [np.nan, 4,      6]])\n",
    "print(df)\n",
    "print('-'*100)\n",
    "\n",
    "print(df.dropna()) #.dropna(asix=0) Imprime las filas sin datos ausentes.\n",
    "print('-'*100)\n",
    "\n",
    "print(df.dropna(axis=1)) #Imprime las columnas sin datos ausentes\n",
    "print('-'*100)\n",
    "\n",
    "df[3]=np.nan\n",
    "print(df)\n",
    "print('-'*100)\n",
    "\n",
    "print(df.dropna(axis='columns', how='all')) #elimina las columnas cuyos valores (todos ellos) son ausentes\n",
    "print('-'*100)\n",
    "\n",
    "print(df.dropna(axis='columns', how='any')) #Elimina todas las columnas que tengan algun dato ausente (basta con que haya uno que elimina toda la columna)\n",
    "print('-'*100)"
   ]
  },
  {
   "cell_type": "code",
   "execution_count": 77,
   "metadata": {},
   "outputs": [
    {
     "name": "stdout",
     "output_type": "stream",
     "text": [
      "     0    1  2   3\n",
      "0  1.0  NaN  2 NaN\n",
      "1  2.0  3.0  5 NaN\n",
      "2  NaN  4.0  6 NaN\n",
      "----------------------------------------------------------------------------------------------------\n",
      "     0    1  2   3\n",
      "1  2.0  3.0  5 NaN\n",
      "----------------------------------------------------------------------------------------------------\n",
      "     0    1  2   3\n",
      "1  2.0  3.0  5 NaN\n"
     ]
    }
   ],
   "source": [
    "print(df)\n",
    "print('-'*100)\n",
    "\n",
    "print(df.dropna(axis='rows', thresh=3)) #imprime las filas con minimo tres valores NO-NULOS\n",
    "print('-'*100)\n",
    "\n",
    "print(df.dropna(axis='rows', thresh=len(df.columns)*0.75)) #imprime las filas con el 75% de los datos NONULOS\n",
    "#MIRAR LO DE SUBSET"
   ]
  },
  {
   "cell_type": "markdown",
   "metadata": {},
   "source": [
    "#### Llenandovalores nulos\n"
   ]
  },
  {
   "cell_type": "code",
   "execution_count": 85,
   "metadata": {},
   "outputs": [
    {
     "name": "stdout",
     "output_type": "stream",
     "text": [
      "a    1.0\n",
      "b    NaN\n",
      "c    2.0\n",
      "d    NaN\n",
      "e    3.0\n",
      "dtype: float64\n",
      "----------------------------------------------------------------------------------------------------\n",
      "a    1.0\n",
      "b    0.0\n",
      "c    2.0\n",
      "d    0.0\n",
      "e    3.0\n",
      "dtype: float64\n",
      "----------------------------------------------------------------------------------------------------\n",
      "a    1.0\n",
      "b    1.0\n",
      "c    2.0\n",
      "d    2.0\n",
      "e    3.0\n",
      "dtype: float64\n",
      "----------------------------------------------------------------------------------------------------\n",
      "a    1.0\n",
      "b    2.0\n",
      "c    2.0\n",
      "d    3.0\n",
      "e    3.0\n",
      "dtype: float64\n",
      "----------------------------------------------------------------------------------------------------\n"
     ]
    }
   ],
   "source": [
    "data = pd.Series([1, np.nan, 2, None, 3], index=list('abcde'))\n",
    "print(data)\n",
    "print('-'*100)\n",
    "\n",
    "print(data.fillna(0)) #Sustituimos los valores nulos con 0\n",
    "print('-'*100)\n",
    "\n",
    "print(data.ffill()) #Lee en orden la serie y si tenemos un NAN lo llena con el dato anterior\n",
    "print('-'*100)\n",
    "\n",
    "print(data.bfill()) #Si tenemos un NAN lo llena con el siguiente dato\n",
    "print('-'*100)"
   ]
  },
  {
   "cell_type": "code",
   "execution_count": 89,
   "metadata": {},
   "outputs": [
    {
     "name": "stdout",
     "output_type": "stream",
     "text": [
      "     0    1  2\n",
      "0  1.0  NaN  2\n",
      "1  2.0  3.0  5\n",
      "2  NaN  4.0  6\n",
      "----------------------------------------------------------------------------------------------------\n",
      "          0         1  2\n",
      "0  1.000000  4.333333  2\n",
      "1  2.000000  3.000000  5\n",
      "2  4.333333  4.000000  6\n",
      "----------------------------------------------------------------------------------------------------\n"
     ]
    },
    {
     "data": {
      "text/html": [
       "<div>\n",
       "<style scoped>\n",
       "    .dataframe tbody tr th:only-of-type {\n",
       "        vertical-align: middle;\n",
       "    }\n",
       "\n",
       "    .dataframe tbody tr th {\n",
       "        vertical-align: top;\n",
       "    }\n",
       "\n",
       "    .dataframe thead th {\n",
       "        text-align: right;\n",
       "    }\n",
       "</style>\n",
       "<table border=\"1\" class=\"dataframe\">\n",
       "  <thead>\n",
       "    <tr style=\"text-align: right;\">\n",
       "      <th></th>\n",
       "      <th>0</th>\n",
       "      <th>1</th>\n",
       "      <th>2</th>\n",
       "    </tr>\n",
       "  </thead>\n",
       "  <tbody>\n",
       "    <tr>\n",
       "      <th>0</th>\n",
       "      <td>1.0</td>\n",
       "      <td>2.0</td>\n",
       "      <td>2.0</td>\n",
       "    </tr>\n",
       "    <tr>\n",
       "      <th>1</th>\n",
       "      <td>2.0</td>\n",
       "      <td>3.0</td>\n",
       "      <td>5.0</td>\n",
       "    </tr>\n",
       "    <tr>\n",
       "      <th>2</th>\n",
       "      <td>4.0</td>\n",
       "      <td>4.0</td>\n",
       "      <td>6.0</td>\n",
       "    </tr>\n",
       "  </tbody>\n",
       "</table>\n",
       "</div>"
      ],
      "text/plain": [
       "     0    1    2\n",
       "0  1.0  2.0  2.0\n",
       "1  2.0  3.0  5.0\n",
       "2  4.0  4.0  6.0"
      ]
     },
     "execution_count": 89,
     "metadata": {},
     "output_type": "execute_result"
    }
   ],
   "source": [
    "df = pd.DataFrame([[1,      np.nan, 2],\n",
    "                   [2,      3,      5],\n",
    "                   [np.nan, 4,      6]])\n",
    "print(df)\n",
    "print('-'*100)\n",
    "\n",
    "print(df.fillna(df[2].mean())) #Si encuentra un NaN sustituye con la media de la columna 2)\n",
    "print('-'*100)\n",
    "\n",
    "df.bfill( axis=1)"
   ]
  }
 ],
 "metadata": {
  "kernelspec": {
   "display_name": "Python 3",
   "language": "python",
   "name": "python3"
  },
  "language_info": {
   "codemirror_mode": {
    "name": "ipython",
    "version": 3
   },
   "file_extension": ".py",
   "mimetype": "text/x-python",
   "name": "python",
   "nbconvert_exporter": "python",
   "pygments_lexer": "ipython3",
   "version": "3.11.5"
  }
 },
 "nbformat": 4,
 "nbformat_minor": 2
}
