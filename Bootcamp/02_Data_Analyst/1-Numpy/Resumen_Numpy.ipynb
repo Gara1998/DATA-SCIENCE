{
 "cells": [
  {
   "cell_type": "markdown",
   "metadata": {},
   "source": [
    "## NUMPY: CONCEPTOS CLAVE"
   ]
  },
  {
   "cell_type": "code",
   "execution_count": 2,
   "metadata": {},
   "outputs": [],
   "source": [
    "import numpy as np \n",
    "from skimage.io import imread #Para leer imagenes\n",
    "import matplotlib.pyplot as plt #Para trabajar con imagenes"
   ]
  },
  {
   "cell_type": "markdown",
   "metadata": {},
   "source": [
    "### ARRAYS\n"
   ]
  },
  {
   "cell_type": "markdown",
   "metadata": {},
   "source": [
    "#### Creacion de arrays"
   ]
  },
  {
   "cell_type": "code",
   "execution_count": 10,
   "metadata": {},
   "outputs": [
    {
     "name": "stdout",
     "output_type": "stream",
     "text": [
      "[ 1  2  3  4  5  6  7  8  9 10]\n",
      "----------------------------------------------------------------------------------------------------\n",
      "[ 0  1  2  3  4  5  6  7  8  9 10]\n",
      "----------------------------------------------------------------------------------------------------\n",
      "[ 1  2  3  4  5  6  7  8  9 10]\n",
      "----------------------------------------------------------------------------------------------------\n",
      "[ 1  2  3  4  5  6  7  8  9 10]\n",
      "----------------------------------------------------------------------------------------------------\n",
      "[ 1.  2.  3.  4.  5.  6.  7.  8.  9. 10.]\n"
     ]
    }
   ],
   "source": [
    "#Unidimensionales: vectores\n",
    "print(np.array([1,2,3,4,5,6,7,8,9,10]))\n",
    "print('-'*100)\n",
    "print(np.arange(11)) #Empieza en el 0\n",
    "print('-'*100)\n",
    "print(np.arange(start=1,stop=11,step=1))\n",
    "print('-'*100)\n",
    "print(np.arange(1,11,1))\n",
    "print('-'*100)\n",
    "print(np.arange(1,11,1,np.float64))"
   ]
  },
  {
   "cell_type": "code",
   "execution_count": 43,
   "metadata": {},
   "outputs": [
    {
     "name": "stdout",
     "output_type": "stream",
     "text": [
      "[[1, 2, 3], [4, 5, 6], [7, 8, 9]]\n",
      "----------------------------------------------------------------------------------------------------\n",
      "[[1 2 3]\n",
      " [4 5 6]\n",
      " [7 8 9]]\n",
      "----------------------------------------------------------------------------------------------------\n",
      "[[1. 0. 0.]\n",
      " [0. 1. 0.]\n",
      " [0. 0. 1.]]\n",
      "----------------------------------------------------------------------------------------------------\n",
      "[[0 0]\n",
      " [0 0]\n",
      " [0 0]]\n",
      "----------------------------------------------------------------------------------------------------\n",
      "[[1. 1. 1. 1.]\n",
      " [1. 1. 1. 1.]\n",
      " [1. 1. 1. 1.]]\n",
      "----------------------------------------------------------------------------------------------------\n",
      "[[22 22 22 22]\n",
      " [22 22 22 22]\n",
      " [22 22 22 22]]\n",
      "----------------------------------------------------------------------------------------------------\n",
      "[[ 0  1  2  3]\n",
      " [ 4  5  6  7]\n",
      " [ 8  9 10 11]\n",
      " [12 13 14 15]\n",
      " [16 17 18 19]]\n"
     ]
    }
   ],
   "source": [
    "#Multidimensionales: matrices\n",
    "print([[1,2,3],[4,5,6],[7,8,9]]) #Una lista de listas (sin usar np)\n",
    "print('-'*100)\n",
    "print(np.array([[1,2,3],[4,5,6],[7,8,9]]))\n",
    "print('-'*100)\n",
    "print(np.identity(3))\n",
    "print('-'*100)\n",
    "print(np.zeros((3,2),np.int32)) #np.int32 es opcional, si queremos especificar el tipo de dato\n",
    "print('-'*100)\n",
    "print(np.ones((3,4)))\n",
    "print('-'*100)\n",
    "print(np.full((3,4),22))\n",
    "print('-'*100)\n",
    "print(np.arange(20).reshape(5,4)) #Elementos del 0 al 20. Los coloca en una matriz 5x4"
   ]
  },
  {
   "cell_type": "markdown",
   "metadata": {},
   "source": [
    "#### Creacion de arrays aleatorios: RANDOM"
   ]
  },
  {
   "cell_type": "code",
   "execution_count": 30,
   "metadata": {},
   "outputs": [
    {
     "name": "stdout",
     "output_type": "stream",
     "text": [
      "[0.27712116 0.72478161 0.66485022 0.19625179 0.71251264]\n",
      "----------------------------------------------------------------------------------------------------\n",
      "[[0.29621982 0.57642281 0.00930396 0.61870698]\n",
      " [0.34222755 0.90796978 0.4295271  0.24612824]\n",
      " [0.22117512 0.60178088 0.36048172 0.00757937]]\n"
     ]
    }
   ],
   "source": [
    "print(np.random.rand(5)) #Crea un array de 5 elementos con los numeros aleatorios entre 0 y 1\n",
    "# np.random.rand(10)*(b-a)+a con numeros aleatorios entre a y b\n",
    "print('-'*100)\n",
    "print(np.random.rand(3,4))"
   ]
  },
  {
   "cell_type": "code",
   "execution_count": 37,
   "metadata": {},
   "outputs": [
    {
     "name": "stdout",
     "output_type": "stream",
     "text": [
      "[4 1 4 0 0]\n",
      "----------------------------------------------------------------------------------------------------\n",
      "[3 6 3 7 5]\n",
      "----------------------------------------------------------------------------------------------------\n",
      "[[9 3 9 6]\n",
      " [6 3 4 4]\n",
      " [1 2 2 1]]\n"
     ]
    }
   ],
   "source": [
    "#Numeros aleatorios enteros con randint\n",
    "print(np.random.randint(5,size=(5))) #aleatorios del 0 al 5\n",
    "print('-'*100)\n",
    "print(np.random.randint(2,8,size=(5))) #Aleatorios entre 2 y 8\n",
    "print('-'*100)\n",
    "print(np.random.randint(1,10,size=(3,4)))"
   ]
  },
  {
   "cell_type": "code",
   "execution_count": 35,
   "metadata": {},
   "outputs": [
    {
     "data": {
      "text/plain": [
       "array([[[4, 4, 6],\n",
       "        [8, 6, 6],\n",
       "        [9, 5, 1],\n",
       "        [6, 4, 1],\n",
       "        [7, 8, 3]],\n",
       "\n",
       "       [[1, 8, 7],\n",
       "        [3, 3, 6],\n",
       "        [1, 5, 9],\n",
       "        [6, 1, 3],\n",
       "        [5, 6, 1]],\n",
       "\n",
       "       [[3, 3, 3],\n",
       "        [2, 2, 2],\n",
       "        [2, 5, 5],\n",
       "        [9, 9, 7],\n",
       "        [5, 6, 4]],\n",
       "\n",
       "       [[8, 1, 2],\n",
       "        [3, 9, 9],\n",
       "        [7, 3, 1],\n",
       "        [2, 7, 7],\n",
       "        [1, 7, 8]]])"
      ]
     },
     "execution_count": 35,
     "metadata": {},
     "output_type": "execute_result"
    }
   ],
   "source": [
    "dimen_3=np.random.randint(1,10,size=(4,5,3)) #4 matrices de 5x3\n",
    "dimen_3"
   ]
  },
  {
   "cell_type": "markdown",
   "metadata": {},
   "source": [
    "**Seed**"
   ]
  },
  {
   "cell_type": "code",
   "execution_count": 42,
   "metadata": {},
   "outputs": [
    {
     "name": "stdout",
     "output_type": "stream",
     "text": [
      "[0.69646919 0.28613933 0.22685145 0.55131477 0.71946897]\n"
     ]
    }
   ],
   "source": [
    "#Si queremos guardar los numeros aleatorios ejecutados plantamos una semilla\n",
    "np.random.seed(123)\n",
    "print(np.random.rand(5)) #El resultado obtenido se guarda en la semilla seed(123)"
   ]
  },
  {
   "cell_type": "code",
   "execution_count": 41,
   "metadata": {},
   "outputs": [
    {
     "data": {
      "text/plain": [
       "array([0.69646919, 0.28613933, 0.22685145, 0.55131477, 0.71946897])"
      ]
     },
     "execution_count": 41,
     "metadata": {},
     "output_type": "execute_result"
    }
   ],
   "source": [
    "np.random.seed(123) #Si queremos obtener el resultado anterior poner esto ANTES\n",
    "np.random.rand(5)"
   ]
  },
  {
   "cell_type": "markdown",
   "metadata": {},
   "source": [
    "#### Atributos del array"
   ]
  },
  {
   "cell_type": "code",
   "execution_count": 3,
   "metadata": {},
   "outputs": [
    {
     "name": "stdout",
     "output_type": "stream",
     "text": [
      "[[1 2 3]\n",
      " [4 5 6]\n",
      " [7 8 9]]\n",
      "----------------------------------------------------------------------------------------------------\n",
      "2\n",
      "----------------------------------------------------------------------------------------------------\n",
      "(3, 3)\n",
      "----------------------------------------------------------------------------------------------------\n",
      "9\n",
      "----------------------------------------------------------------------------------------------------\n",
      "int32\n",
      "----------------------------------------------------------------------------------------------------\n",
      "4\n",
      "----------------------------------------------------------------------------------------------------\n",
      "36\n"
     ]
    }
   ],
   "source": [
    "ejemplo=np.arange(1,10).reshape(3,3)\n",
    "print(ejemplo)\n",
    "print('-'*100)\n",
    "print(ejemplo.ndim) #Numero de 'niveles'. 3x3 dos dimensiones. (se multiplican DOS cosas)\n",
    "print('-'*100)\n",
    "print(ejemplo.shape) #Tamaño de cada dimension\n",
    "print('-'*100)\n",
    "print(ejemplo.size) #Cantidad de elementos en todo el array\n",
    "print('-'*100)\n",
    "print(ejemplo.dtype)\n",
    "print('-'*100)\n",
    "print(ejemplo.itemsize) #Tamaño de bytes de cada item del array\n",
    "print('-'*100)\n",
    "print(ejemplo.nbytes) #Tamaño de bytes de todo el array"
   ]
  },
  {
   "cell_type": "code",
   "execution_count": 50,
   "metadata": {},
   "outputs": [
    {
     "name": "stdout",
     "output_type": "stream",
     "text": [
      "[[[ 1 10]\n",
      "  [ 2 20]\n",
      "  [ 3 30]]\n",
      "\n",
      " [[ 4 40]\n",
      "  [ 5 50]\n",
      "  [ 6 60]]\n",
      "\n",
      " [[ 7 70]\n",
      "  [ 8 80]\n",
      "  [ 9 90]]]\n",
      "ndim: 3\n",
      "shape: (3, 3, 2)\n",
      "size: 18\n"
     ]
    }
   ],
   "source": [
    "array_multi_3 = np.array([[[1,10], [2, 20], [3, 30]],\n",
    "                          [[4, 40], [5, 50], [6, 60]],\n",
    "                          [[7, 70], [8, 80], [9, 90]]])\n",
    "print(array_multi_3)\n",
    "\n",
    "print(\"ndim:\", array_multi_3.ndim)\n",
    "print(\"shape:\", array_multi_3.shape)\n",
    "print(\"size:\", array_multi_3.size)"
   ]
  },
  {
   "cell_type": "markdown",
   "metadata": {},
   "source": [
    "#### Subarrays"
   ]
  },
  {
   "cell_type": "markdown",
   "metadata": {},
   "source": [
    "x[ start : stop : step]\n",
    "\n",
    "Por defecto (si no ponemos algun elemento): start= 0, stop= tamaño de la dimension, step= 1"
   ]
  },
  {
   "cell_type": "code",
   "execution_count": 5,
   "metadata": {},
   "outputs": [
    {
     "name": "stdout",
     "output_type": "stream",
     "text": [
      "[0 1 2 3 4 5 6 7 8 9]\n",
      "Del primer elemento al quinto [0 1 2 3 4]\n",
      "Del primero al quinto con saltos de dos [0 2 4]\n",
      "Desde el quinto [5 6 7 8 9]\n",
      "Desde el quinto hasta el penultimo [5 6 7 8]\n",
      "Desde el quinto, al primero [5 4 3 2 1 0]\n",
      "Sacar una copia [0 1 2 3 4 5 6 7 8 9]\n",
      "Ultimos dos elementos [8 9]\n"
     ]
    }
   ],
   "source": [
    "# Array de 10 elementos\n",
    "x = np.arange(10)\n",
    "print(x)\n",
    "\n",
    "print(\"Del primer elemento al quinto\", x[0:5])\n",
    "\n",
    "print(\"Del primero al quinto con saltos de dos\", x[0:5:2])\n",
    "\n",
    "print(\"Desde el quinto\", x[5::]) #los mismo que: x[5:]\n",
    "\n",
    "print(\"Desde el quinto hasta el penultimo\", x[5:-1]) #CUIDADO VA AL N-1\n",
    "\n",
    "print(\"Desde el quinto, al primero\", x[5::-1])\n",
    "\n",
    "print(\"Sacar una copia\", x[:]) #x.copy()\n",
    "\n",
    "print(\"Ultimos dos elementos\",x[-2:])"
   ]
  },
  {
   "cell_type": "code",
   "execution_count": 13,
   "metadata": {},
   "outputs": [
    {
     "name": "stdout",
     "output_type": "stream",
     "text": [
      "[[ 1  2  3  4  5]\n",
      " [ 6  7  8  9 10]\n",
      " [11 12 13 14 15]]\n",
      "----------------------------------------------------------------------------------------------------\n",
      "[[1 2 3]\n",
      " [6 7 8]]\n",
      "----------------------------------------------------------------------------------------------------\n",
      "[[ 1  3  5]\n",
      " [ 6  8 10]\n",
      " [11 13 15]]\n",
      "----------------------------------------------------------------------------------------------------\n",
      "[[11 12 13 14 15]\n",
      " [ 6  7  8  9 10]\n",
      " [ 1  2  3  4  5]]\n"
     ]
    }
   ],
   "source": [
    "#Array de multiples dimensiones\n",
    "y=np.arange(1,16).reshape(3,5) #3 filas x 5 columnas\n",
    "print(y)\n",
    "print('-'*100)\n",
    "\n",
    "#2 primeras filas y 3 primeras columnas. y[filas,columnas]\n",
    "print(y[:2,:3])\n",
    "print('-'*100)\n",
    "\n",
    "#Todas las filas cada dos columnas\n",
    "print(y[::,::2])\n",
    "print('-'*100)\n",
    "\n",
    "#Invertir filas\n",
    "print(y[::-1,::])"
   ]
  },
  {
   "cell_type": "code",
   "execution_count": 18,
   "metadata": {},
   "outputs": [
    {
     "name": "stdout",
     "output_type": "stream",
     "text": [
      "[5 7 9]\n",
      "----------------------------------------------------------------------------------------------------\n",
      "[False False  True False False  True  True]\n"
     ]
    }
   ],
   "source": [
    "#SUBARRAYS CON BOOLEANOS\n",
    "notas=np.array([2,4,5,2,3,7,9])\n",
    "aprobados=notas[np.array(notas>=5)]\n",
    "print(aprobados)\n",
    "print('-'*100)\n",
    "\n",
    "print(np.array(notas>=5))"
   ]
  },
  {
   "cell_type": "code",
   "execution_count": 33,
   "metadata": {},
   "outputs": [
    {
     "name": "stdout",
     "output_type": "stream",
     "text": [
      "[[10 10 10]\n",
      " [20 20 20]]\n"
     ]
    }
   ],
   "source": [
    "#WHERE\n",
    "xy = np.array([[1,2,3],\n",
    "              [4,5,6]])\n",
    "\n",
    "\n",
    "print(np.where(xy < 4, 10, 20)) #si se cumple la condicion va a la primera sino a la segunda"
   ]
  },
  {
   "cell_type": "markdown",
   "metadata": {},
   "source": [
    "Interseccion entre dos arrays: np.intersect1"
   ]
  },
  {
   "cell_type": "code",
   "execution_count": null,
   "metadata": {},
   "outputs": [],
   "source": [
    "#np.intersect1d(array1, array2, assume_unique=False, return_indices=False)\n",
    "#Metodo de numpy para calcular la interseccion entre dos arrays\n",
    "#asume_unique: if true  the input arrays are both assumed to be unique\n",
    "#return_indices: If True, the indices which correspond to the intersection of the two arrays are returned"
   ]
  },
  {
   "cell_type": "markdown",
   "metadata": {},
   "source": [
    "#### Concatenado"
   ]
  },
  {
   "cell_type": "code",
   "execution_count": 20,
   "metadata": {},
   "outputs": [
    {
     "name": "stdout",
     "output_type": "stream",
     "text": [
      "[1, 2, 3, 1, 2, 3]\n",
      "----------------------------------------------------------------------------------------------------\n",
      "[2 4 6]\n"
     ]
    }
   ],
   "source": [
    "print([1,2,3]+[1,2,3]) #Se concatenan horizontalmente ya que se suman dos ELEMENTOS\n",
    "print('-'*100)\n",
    "print(np.array([1,2,3])+np.array([1,2,3])) #SUMA DE VECTORES (no es un concatenado)"
   ]
  },
  {
   "cell_type": "code",
   "execution_count": 26,
   "metadata": {},
   "outputs": [
    {
     "name": "stdout",
     "output_type": "stream",
     "text": [
      "[1 1 1 4 4 4]\n",
      "----------------------------------------------------------------------------------------------------\n",
      "[[1 1 1]\n",
      " [4 4 4]]\n",
      "----------------------------------------------------------------------------------------------------\n",
      "[1 1 1 4 4 4]\n"
     ]
    }
   ],
   "source": [
    "x=np.array([1,1,1])\n",
    "y=np.array([4,4,4])\n",
    "\n",
    "print(np.concatenate((x,y))) #Si no especificamos en vectores se hace orizontalmente \n",
    "print('-'*100)\n",
    "\n",
    "print(np.vstack([x,y])) #Concatenado vertical\n",
    "print('-'*100)\n",
    "\n",
    "print(np.hstack([x,y])) #Concatenado horizontal\n"
   ]
  },
  {
   "cell_type": "code",
   "execution_count": 32,
   "metadata": {},
   "outputs": [
    {
     "name": "stdout",
     "output_type": "stream",
     "text": [
      "[[1 2 3]\n",
      " [4 5 6]]\n",
      "----------------------------------------------------------------------------------------------------\n",
      "[[1 2 3]\n",
      " [4 5 6]\n",
      " [1 2 3]\n",
      " [4 5 6]]\n",
      "----------------------------------------------------------------------------------------------------\n",
      "[[1 2 3 1 2 3]\n",
      " [4 5 6 4 5 6]]\n",
      "----------------------------------------------------------------------------------------------------\n",
      "[[1 2 3]\n",
      " [4 5 6]\n",
      " [1 2 3]\n",
      " [4 5 6]]\n",
      "----------------------------------------------------------------------------------------------------\n",
      "[[1 2 3 1 2 3]\n",
      " [4 5 6 4 5 6]]\n"
     ]
    }
   ],
   "source": [
    "ejemplo=np.array([[1,2,3],[4,5,6]])\n",
    "print(ejemplo)\n",
    "print('-'*100)\n",
    "\n",
    "print(np.concatenate([ejemplo,ejemplo]))\n",
    "#Si no especificamos nada se toma axis=0 por defecto, concatenado vertical\n",
    "print('-'*100)\n",
    "\n",
    "print(np.concatenate([ejemplo,ejemplo],axis=1))\n",
    "print('-'*100)\n",
    "\n",
    "print(np.vstack([ejemplo,ejemplo]))\n",
    "print('-'*100)\n",
    "\n",
    "print(np.hstack([ejemplo,ejemplo]))\n",
    "\n"
   ]
  },
  {
   "cell_type": "markdown",
   "metadata": {},
   "source": [
    "#### Separado"
   ]
  },
  {
   "cell_type": "code",
   "execution_count": 7,
   "metadata": {},
   "outputs": [
    {
     "name": "stdout",
     "output_type": "stream",
     "text": [
      "[0 1 2 3 4 5 6 7 8 9]\n",
      "----------------------------------------------------------------------------------------------------\n",
      "[0 1 2 3 4]\n",
      "[5 6 7 8 9]\n"
     ]
    }
   ],
   "source": [
    "x=np.arange(10)\n",
    "print(x)\n",
    "print('-'*100)\n",
    "\n",
    "x1,x2=np.split(x,2) #Separa el array x por la mitad. Guardando la primera mitad en x1 y la segunda en x2\n",
    "print(x1)\n",
    "print(x2)\n",
    "\n"
   ]
  }
 ],
 "metadata": {
  "kernelspec": {
   "display_name": "Python 3",
   "language": "python",
   "name": "python3"
  },
  "language_info": {
   "codemirror_mode": {
    "name": "ipython",
    "version": 3
   },
   "file_extension": ".py",
   "mimetype": "text/x-python",
   "name": "python",
   "nbconvert_exporter": "python",
   "pygments_lexer": "ipython3",
   "version": "3.11.5"
  }
 },
 "nbformat": 4,
 "nbformat_minor": 2
}
