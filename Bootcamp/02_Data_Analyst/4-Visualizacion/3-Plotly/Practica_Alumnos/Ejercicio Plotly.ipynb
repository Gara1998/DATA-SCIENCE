{
 "cells": [
  {
   "attachments": {},
   "cell_type": "markdown",
   "metadata": {
    "id": "fBwh3Bypimha"
   },
   "source": [
    "# Visualización interactiva con Plotly: superstore dataset\n",
    "\n",
    "Completa el siguiente conjunto de ejercicios para solidificar sus conocimientos sibre visualización interactiva utilizando Plotly."
   ]
  },
  {
   "attachments": {},
   "cell_type": "markdown",
   "metadata": {},
   "source": [
    "## 0. Lectura de datos."
   ]
  },
  {
   "cell_type": "code",
   "execution_count": 1,
   "metadata": {},
   "outputs": [
    {
     "data": {
      "text/html": [
       "        <script type=\"text/javascript\">\n",
       "        window.PlotlyConfig = {MathJaxConfig: 'local'};\n",
       "        if (window.MathJax && window.MathJax.Hub && window.MathJax.Hub.Config) {window.MathJax.Hub.Config({SVG: {font: \"STIX-Web\"}});}\n",
       "        if (typeof require !== 'undefined') {\n",
       "        require.undef(\"plotly\");\n",
       "        requirejs.config({\n",
       "            paths: {\n",
       "                'plotly': ['https://cdn.plot.ly/plotly-2.27.0.min']\n",
       "            }\n",
       "        });\n",
       "        require(['plotly'], function(Plotly) {\n",
       "            window._Plotly = Plotly;\n",
       "        });\n",
       "        }\n",
       "        </script>\n",
       "        "
      ]
     },
     "metadata": {},
     "output_type": "display_data"
    }
   ],
   "source": [
    "import warnings\n",
    "warnings.filterwarnings(\"ignore\")\n",
    "import numpy as np\n",
    "import pandas as pd\n",
    "from plotly.offline import init_notebook_mode, iplot, plot\n",
    "import plotly as py\n",
    "init_notebook_mode(connected=True)\n",
    "import plotly.graph_objs as go\n",
    "from wordcloud import WordCloud #para graficar la nube de puntos\n",
    "import matplotlib.pyplot as plt\n",
    "import plotly.figure_factory as ff\n",
    "import os\n",
    "from datetime import datetime"
   ]
  },
  {
   "cell_type": "code",
   "execution_count": 2,
   "metadata": {},
   "outputs": [
    {
     "name": "stdout",
     "output_type": "stream",
     "text": [
      "<class 'pandas.core.frame.DataFrame'>\n",
      "RangeIndex: 9994 entries, 0 to 9993\n",
      "Data columns (total 20 columns):\n",
      " #   Column         Non-Null Count  Dtype         \n",
      "---  ------         --------------  -----         \n",
      " 0   Order ID       9994 non-null   object        \n",
      " 1   Order Date     9994 non-null   datetime64[ns]\n",
      " 2   Ship Date      9994 non-null   datetime64[ns]\n",
      " 3   Ship Mode      9994 non-null   object        \n",
      " 4   Customer ID    9994 non-null   object        \n",
      " 5   Customer Name  9994 non-null   object        \n",
      " 6   Segment        9994 non-null   object        \n",
      " 7   Country        9994 non-null   object        \n",
      " 8   City           9994 non-null   object        \n",
      " 9   State          9994 non-null   object        \n",
      " 10  Postal Code    9994 non-null   int64         \n",
      " 11  Region         9994 non-null   object        \n",
      " 12  Product ID     9994 non-null   object        \n",
      " 13  Category       9994 non-null   object        \n",
      " 14  Sub-Category   9994 non-null   object        \n",
      " 15  Product Name   9994 non-null   object        \n",
      " 16  Sales          9994 non-null   float64       \n",
      " 17  Quantity       9994 non-null   int64         \n",
      " 18  Discount       9994 non-null   float64       \n",
      " 19  Profit         9994 non-null   float64       \n",
      "dtypes: datetime64[ns](2), float64(3), int64(2), object(13)\n",
      "memory usage: 1.5+ MB\n"
     ]
    }
   ],
   "source": [
    "df=pd.read_excel('./data/Sample - Superstore.xlsx')\n",
    "df.info()"
   ]
  },
  {
   "cell_type": "code",
   "execution_count": 3,
   "metadata": {},
   "outputs": [
    {
     "data": {
      "text/html": [
       "<div>\n",
       "<style scoped>\n",
       "    .dataframe tbody tr th:only-of-type {\n",
       "        vertical-align: middle;\n",
       "    }\n",
       "\n",
       "    .dataframe tbody tr th {\n",
       "        vertical-align: top;\n",
       "    }\n",
       "\n",
       "    .dataframe thead th {\n",
       "        text-align: right;\n",
       "    }\n",
       "</style>\n",
       "<table border=\"1\" class=\"dataframe\">\n",
       "  <thead>\n",
       "    <tr style=\"text-align: right;\">\n",
       "      <th></th>\n",
       "      <th>Order ID</th>\n",
       "      <th>Order Date</th>\n",
       "      <th>Ship Date</th>\n",
       "      <th>Ship Mode</th>\n",
       "      <th>Customer ID</th>\n",
       "      <th>Customer Name</th>\n",
       "      <th>Segment</th>\n",
       "      <th>Country</th>\n",
       "      <th>City</th>\n",
       "      <th>State</th>\n",
       "      <th>Postal Code</th>\n",
       "      <th>Region</th>\n",
       "      <th>Product ID</th>\n",
       "      <th>Category</th>\n",
       "      <th>Sub-Category</th>\n",
       "      <th>Product Name</th>\n",
       "      <th>Sales</th>\n",
       "      <th>Quantity</th>\n",
       "      <th>Discount</th>\n",
       "      <th>Profit</th>\n",
       "    </tr>\n",
       "  </thead>\n",
       "  <tbody>\n",
       "    <tr>\n",
       "      <th>0</th>\n",
       "      <td>CA-2016-152156</td>\n",
       "      <td>2016-11-08</td>\n",
       "      <td>2016-11-11</td>\n",
       "      <td>Second Class</td>\n",
       "      <td>CG-12520</td>\n",
       "      <td>Claire Gute</td>\n",
       "      <td>Consumer</td>\n",
       "      <td>United States</td>\n",
       "      <td>Henderson</td>\n",
       "      <td>Kentucky</td>\n",
       "      <td>42420</td>\n",
       "      <td>South</td>\n",
       "      <td>FUR-BO-10001798</td>\n",
       "      <td>Furniture</td>\n",
       "      <td>Bookcases</td>\n",
       "      <td>Bush Somerset Collection Bookcase</td>\n",
       "      <td>261.96</td>\n",
       "      <td>2</td>\n",
       "      <td>0.0</td>\n",
       "      <td>41.9136</td>\n",
       "    </tr>\n",
       "    <tr>\n",
       "      <th>1</th>\n",
       "      <td>CA-2016-152156</td>\n",
       "      <td>2016-11-08</td>\n",
       "      <td>2016-11-11</td>\n",
       "      <td>Second Class</td>\n",
       "      <td>CG-12520</td>\n",
       "      <td>Claire Gute</td>\n",
       "      <td>Consumer</td>\n",
       "      <td>United States</td>\n",
       "      <td>Henderson</td>\n",
       "      <td>Kentucky</td>\n",
       "      <td>42420</td>\n",
       "      <td>South</td>\n",
       "      <td>FUR-CH-10000454</td>\n",
       "      <td>Furniture</td>\n",
       "      <td>Chairs</td>\n",
       "      <td>Hon Deluxe Fabric Upholstered Stacking Chairs,...</td>\n",
       "      <td>731.94</td>\n",
       "      <td>3</td>\n",
       "      <td>0.0</td>\n",
       "      <td>219.5820</td>\n",
       "    </tr>\n",
       "    <tr>\n",
       "      <th>2</th>\n",
       "      <td>CA-2016-138688</td>\n",
       "      <td>2016-06-12</td>\n",
       "      <td>2016-06-16</td>\n",
       "      <td>Second Class</td>\n",
       "      <td>DV-13045</td>\n",
       "      <td>Darrin Van Huff</td>\n",
       "      <td>Corporate</td>\n",
       "      <td>United States</td>\n",
       "      <td>Los Angeles</td>\n",
       "      <td>California</td>\n",
       "      <td>90036</td>\n",
       "      <td>West</td>\n",
       "      <td>OFF-LA-10000240</td>\n",
       "      <td>Office Supplies</td>\n",
       "      <td>Labels</td>\n",
       "      <td>Self-Adhesive Address Labels for Typewriters b...</td>\n",
       "      <td>14.62</td>\n",
       "      <td>2</td>\n",
       "      <td>0.0</td>\n",
       "      <td>6.8714</td>\n",
       "    </tr>\n",
       "  </tbody>\n",
       "</table>\n",
       "</div>"
      ],
      "text/plain": [
       "         Order ID Order Date  Ship Date     Ship Mode Customer ID  \\\n",
       "0  CA-2016-152156 2016-11-08 2016-11-11  Second Class    CG-12520   \n",
       "1  CA-2016-152156 2016-11-08 2016-11-11  Second Class    CG-12520   \n",
       "2  CA-2016-138688 2016-06-12 2016-06-16  Second Class    DV-13045   \n",
       "\n",
       "     Customer Name    Segment        Country         City       State  \\\n",
       "0      Claire Gute   Consumer  United States    Henderson    Kentucky   \n",
       "1      Claire Gute   Consumer  United States    Henderson    Kentucky   \n",
       "2  Darrin Van Huff  Corporate  United States  Los Angeles  California   \n",
       "\n",
       "   Postal Code Region       Product ID         Category Sub-Category  \\\n",
       "0        42420  South  FUR-BO-10001798        Furniture    Bookcases   \n",
       "1        42420  South  FUR-CH-10000454        Furniture       Chairs   \n",
       "2        90036   West  OFF-LA-10000240  Office Supplies       Labels   \n",
       "\n",
       "                                        Product Name   Sales  Quantity  \\\n",
       "0                  Bush Somerset Collection Bookcase  261.96         2   \n",
       "1  Hon Deluxe Fabric Upholstered Stacking Chairs,...  731.94         3   \n",
       "2  Self-Adhesive Address Labels for Typewriters b...   14.62         2   \n",
       "\n",
       "   Discount    Profit  \n",
       "0       0.0   41.9136  \n",
       "1       0.0  219.5820  \n",
       "2       0.0    6.8714  "
      ]
     },
     "execution_count": 3,
     "metadata": {},
     "output_type": "execute_result"
    }
   ],
   "source": [
    "df.head(3)"
   ]
  },
  {
   "attachments": {},
   "cell_type": "markdown",
   "metadata": {
    "id": "0vbpV0ARimho"
   },
   "source": [
    "## 1. Cree un gráfico de barras interactivo que muestre las ventas totales por estado para 2014."
   ]
  },
  {
   "cell_type": "code",
   "execution_count": 13,
   "metadata": {},
   "outputs": [
    {
     "data": {
      "application/vnd.plotly.v1+json": {
       "config": {
        "linkText": "Export to plot.ly",
        "plotlyServerURL": "https://plot.ly",
        "showLink": false
       },
       "data": [
        {
         "marker": {
          "color": "red",
          "line": {
           "color": "black",
           "width": 2
          }
         },
         "type": "bar",
         "x": [
          "Alabama",
          "Arizona",
          "Arkansas",
          "California",
          "Colorado",
          "Connecticut",
          "Delaware",
          "Florida",
          "Georgia",
          "Idaho",
          "Illinois",
          "Indiana",
          "Iowa",
          "Kansas",
          "Kentucky",
          "Louisiana",
          "Maine",
          "Maryland",
          "Massachusetts",
          "Michigan",
          "Minnesota",
          "Mississippi",
          "Missouri",
          "Montana",
          "Nebraska",
          "Nevada",
          "New Hampshire",
          "New Jersey",
          "New Mexico",
          "New York",
          "North Carolina",
          "Ohio",
          "Oklahoma",
          "Oregon",
          "Pennsylvania",
          "Rhode Island",
          "South Carolina",
          "South Dakota",
          "Tennessee",
          "Texas",
          "Utah",
          "Virginia",
          "Washington",
          "Wisconsin"
         ],
         "y": [
          5617.17,
          7743.250000000001,
          6302.6900000000005,
          88236.043,
          6502.294000000001,
          2794.02,
          4786.03,
          34248.2605,
          4540.1,
          465.216,
          16154.995,
          2936.81,
          1190.84,
          1319.79,
          8280.460000000001,
          2534.92,
          617.12,
          1701.25,
          7139.746,
          6162.411,
          15738.970000000001,
          2055.16,
          1570.82,
          424.488,
          210.01999999999998,
          2561.21,
          504.48,
          4192.28,
          650.7459999999999,
          62811.061,
          8620.741,
          13834.338,
          2639.35,
          4807.783,
          19442.451999999997,
          2169.4660000000003,
          2270.8599999999997,
          162.15,
          3012.384,
          49965.9946,
          2943.688,
          25802.05,
          29871.576,
          4847.71
         ]
        }
       ],
       "layout": {
        "height": 600,
        "template": {
         "data": {
          "bar": [
           {
            "error_x": {
             "color": "#2a3f5f"
            },
            "error_y": {
             "color": "#2a3f5f"
            },
            "marker": {
             "line": {
              "color": "#E5ECF6",
              "width": 0.5
             },
             "pattern": {
              "fillmode": "overlay",
              "size": 10,
              "solidity": 0.2
             }
            },
            "type": "bar"
           }
          ],
          "barpolar": [
           {
            "marker": {
             "line": {
              "color": "#E5ECF6",
              "width": 0.5
             },
             "pattern": {
              "fillmode": "overlay",
              "size": 10,
              "solidity": 0.2
             }
            },
            "type": "barpolar"
           }
          ],
          "carpet": [
           {
            "aaxis": {
             "endlinecolor": "#2a3f5f",
             "gridcolor": "white",
             "linecolor": "white",
             "minorgridcolor": "white",
             "startlinecolor": "#2a3f5f"
            },
            "baxis": {
             "endlinecolor": "#2a3f5f",
             "gridcolor": "white",
             "linecolor": "white",
             "minorgridcolor": "white",
             "startlinecolor": "#2a3f5f"
            },
            "type": "carpet"
           }
          ],
          "choropleth": [
           {
            "colorbar": {
             "outlinewidth": 0,
             "ticks": ""
            },
            "type": "choropleth"
           }
          ],
          "contour": [
           {
            "colorbar": {
             "outlinewidth": 0,
             "ticks": ""
            },
            "colorscale": [
             [
              0,
              "#0d0887"
             ],
             [
              0.1111111111111111,
              "#46039f"
             ],
             [
              0.2222222222222222,
              "#7201a8"
             ],
             [
              0.3333333333333333,
              "#9c179e"
             ],
             [
              0.4444444444444444,
              "#bd3786"
             ],
             [
              0.5555555555555556,
              "#d8576b"
             ],
             [
              0.6666666666666666,
              "#ed7953"
             ],
             [
              0.7777777777777778,
              "#fb9f3a"
             ],
             [
              0.8888888888888888,
              "#fdca26"
             ],
             [
              1,
              "#f0f921"
             ]
            ],
            "type": "contour"
           }
          ],
          "contourcarpet": [
           {
            "colorbar": {
             "outlinewidth": 0,
             "ticks": ""
            },
            "type": "contourcarpet"
           }
          ],
          "heatmap": [
           {
            "colorbar": {
             "outlinewidth": 0,
             "ticks": ""
            },
            "colorscale": [
             [
              0,
              "#0d0887"
             ],
             [
              0.1111111111111111,
              "#46039f"
             ],
             [
              0.2222222222222222,
              "#7201a8"
             ],
             [
              0.3333333333333333,
              "#9c179e"
             ],
             [
              0.4444444444444444,
              "#bd3786"
             ],
             [
              0.5555555555555556,
              "#d8576b"
             ],
             [
              0.6666666666666666,
              "#ed7953"
             ],
             [
              0.7777777777777778,
              "#fb9f3a"
             ],
             [
              0.8888888888888888,
              "#fdca26"
             ],
             [
              1,
              "#f0f921"
             ]
            ],
            "type": "heatmap"
           }
          ],
          "heatmapgl": [
           {
            "colorbar": {
             "outlinewidth": 0,
             "ticks": ""
            },
            "colorscale": [
             [
              0,
              "#0d0887"
             ],
             [
              0.1111111111111111,
              "#46039f"
             ],
             [
              0.2222222222222222,
              "#7201a8"
             ],
             [
              0.3333333333333333,
              "#9c179e"
             ],
             [
              0.4444444444444444,
              "#bd3786"
             ],
             [
              0.5555555555555556,
              "#d8576b"
             ],
             [
              0.6666666666666666,
              "#ed7953"
             ],
             [
              0.7777777777777778,
              "#fb9f3a"
             ],
             [
              0.8888888888888888,
              "#fdca26"
             ],
             [
              1,
              "#f0f921"
             ]
            ],
            "type": "heatmapgl"
           }
          ],
          "histogram": [
           {
            "marker": {
             "pattern": {
              "fillmode": "overlay",
              "size": 10,
              "solidity": 0.2
             }
            },
            "type": "histogram"
           }
          ],
          "histogram2d": [
           {
            "colorbar": {
             "outlinewidth": 0,
             "ticks": ""
            },
            "colorscale": [
             [
              0,
              "#0d0887"
             ],
             [
              0.1111111111111111,
              "#46039f"
             ],
             [
              0.2222222222222222,
              "#7201a8"
             ],
             [
              0.3333333333333333,
              "#9c179e"
             ],
             [
              0.4444444444444444,
              "#bd3786"
             ],
             [
              0.5555555555555556,
              "#d8576b"
             ],
             [
              0.6666666666666666,
              "#ed7953"
             ],
             [
              0.7777777777777778,
              "#fb9f3a"
             ],
             [
              0.8888888888888888,
              "#fdca26"
             ],
             [
              1,
              "#f0f921"
             ]
            ],
            "type": "histogram2d"
           }
          ],
          "histogram2dcontour": [
           {
            "colorbar": {
             "outlinewidth": 0,
             "ticks": ""
            },
            "colorscale": [
             [
              0,
              "#0d0887"
             ],
             [
              0.1111111111111111,
              "#46039f"
             ],
             [
              0.2222222222222222,
              "#7201a8"
             ],
             [
              0.3333333333333333,
              "#9c179e"
             ],
             [
              0.4444444444444444,
              "#bd3786"
             ],
             [
              0.5555555555555556,
              "#d8576b"
             ],
             [
              0.6666666666666666,
              "#ed7953"
             ],
             [
              0.7777777777777778,
              "#fb9f3a"
             ],
             [
              0.8888888888888888,
              "#fdca26"
             ],
             [
              1,
              "#f0f921"
             ]
            ],
            "type": "histogram2dcontour"
           }
          ],
          "mesh3d": [
           {
            "colorbar": {
             "outlinewidth": 0,
             "ticks": ""
            },
            "type": "mesh3d"
           }
          ],
          "parcoords": [
           {
            "line": {
             "colorbar": {
              "outlinewidth": 0,
              "ticks": ""
             }
            },
            "type": "parcoords"
           }
          ],
          "pie": [
           {
            "automargin": true,
            "type": "pie"
           }
          ],
          "scatter": [
           {
            "fillpattern": {
             "fillmode": "overlay",
             "size": 10,
             "solidity": 0.2
            },
            "type": "scatter"
           }
          ],
          "scatter3d": [
           {
            "line": {
             "colorbar": {
              "outlinewidth": 0,
              "ticks": ""
             }
            },
            "marker": {
             "colorbar": {
              "outlinewidth": 0,
              "ticks": ""
             }
            },
            "type": "scatter3d"
           }
          ],
          "scattercarpet": [
           {
            "marker": {
             "colorbar": {
              "outlinewidth": 0,
              "ticks": ""
             }
            },
            "type": "scattercarpet"
           }
          ],
          "scattergeo": [
           {
            "marker": {
             "colorbar": {
              "outlinewidth": 0,
              "ticks": ""
             }
            },
            "type": "scattergeo"
           }
          ],
          "scattergl": [
           {
            "marker": {
             "colorbar": {
              "outlinewidth": 0,
              "ticks": ""
             }
            },
            "type": "scattergl"
           }
          ],
          "scattermapbox": [
           {
            "marker": {
             "colorbar": {
              "outlinewidth": 0,
              "ticks": ""
             }
            },
            "type": "scattermapbox"
           }
          ],
          "scatterpolar": [
           {
            "marker": {
             "colorbar": {
              "outlinewidth": 0,
              "ticks": ""
             }
            },
            "type": "scatterpolar"
           }
          ],
          "scatterpolargl": [
           {
            "marker": {
             "colorbar": {
              "outlinewidth": 0,
              "ticks": ""
             }
            },
            "type": "scatterpolargl"
           }
          ],
          "scatterternary": [
           {
            "marker": {
             "colorbar": {
              "outlinewidth": 0,
              "ticks": ""
             }
            },
            "type": "scatterternary"
           }
          ],
          "surface": [
           {
            "colorbar": {
             "outlinewidth": 0,
             "ticks": ""
            },
            "colorscale": [
             [
              0,
              "#0d0887"
             ],
             [
              0.1111111111111111,
              "#46039f"
             ],
             [
              0.2222222222222222,
              "#7201a8"
             ],
             [
              0.3333333333333333,
              "#9c179e"
             ],
             [
              0.4444444444444444,
              "#bd3786"
             ],
             [
              0.5555555555555556,
              "#d8576b"
             ],
             [
              0.6666666666666666,
              "#ed7953"
             ],
             [
              0.7777777777777778,
              "#fb9f3a"
             ],
             [
              0.8888888888888888,
              "#fdca26"
             ],
             [
              1,
              "#f0f921"
             ]
            ],
            "type": "surface"
           }
          ],
          "table": [
           {
            "cells": {
             "fill": {
              "color": "#EBF0F8"
             },
             "line": {
              "color": "white"
             }
            },
            "header": {
             "fill": {
              "color": "#C8D4E3"
             },
             "line": {
              "color": "white"
             }
            },
            "type": "table"
           }
          ]
         },
         "layout": {
          "annotationdefaults": {
           "arrowcolor": "#2a3f5f",
           "arrowhead": 0,
           "arrowwidth": 1
          },
          "autotypenumbers": "strict",
          "coloraxis": {
           "colorbar": {
            "outlinewidth": 0,
            "ticks": ""
           }
          },
          "colorscale": {
           "diverging": [
            [
             0,
             "#8e0152"
            ],
            [
             0.1,
             "#c51b7d"
            ],
            [
             0.2,
             "#de77ae"
            ],
            [
             0.3,
             "#f1b6da"
            ],
            [
             0.4,
             "#fde0ef"
            ],
            [
             0.5,
             "#f7f7f7"
            ],
            [
             0.6,
             "#e6f5d0"
            ],
            [
             0.7,
             "#b8e186"
            ],
            [
             0.8,
             "#7fbc41"
            ],
            [
             0.9,
             "#4d9221"
            ],
            [
             1,
             "#276419"
            ]
           ],
           "sequential": [
            [
             0,
             "#0d0887"
            ],
            [
             0.1111111111111111,
             "#46039f"
            ],
            [
             0.2222222222222222,
             "#7201a8"
            ],
            [
             0.3333333333333333,
             "#9c179e"
            ],
            [
             0.4444444444444444,
             "#bd3786"
            ],
            [
             0.5555555555555556,
             "#d8576b"
            ],
            [
             0.6666666666666666,
             "#ed7953"
            ],
            [
             0.7777777777777778,
             "#fb9f3a"
            ],
            [
             0.8888888888888888,
             "#fdca26"
            ],
            [
             1,
             "#f0f921"
            ]
           ],
           "sequentialminus": [
            [
             0,
             "#0d0887"
            ],
            [
             0.1111111111111111,
             "#46039f"
            ],
            [
             0.2222222222222222,
             "#7201a8"
            ],
            [
             0.3333333333333333,
             "#9c179e"
            ],
            [
             0.4444444444444444,
             "#bd3786"
            ],
            [
             0.5555555555555556,
             "#d8576b"
            ],
            [
             0.6666666666666666,
             "#ed7953"
            ],
            [
             0.7777777777777778,
             "#fb9f3a"
            ],
            [
             0.8888888888888888,
             "#fdca26"
            ],
            [
             1,
             "#f0f921"
            ]
           ]
          },
          "colorway": [
           "#636efa",
           "#EF553B",
           "#00cc96",
           "#ab63fa",
           "#FFA15A",
           "#19d3f3",
           "#FF6692",
           "#B6E880",
           "#FF97FF",
           "#FECB52"
          ],
          "font": {
           "color": "#2a3f5f"
          },
          "geo": {
           "bgcolor": "white",
           "lakecolor": "white",
           "landcolor": "#E5ECF6",
           "showlakes": true,
           "showland": true,
           "subunitcolor": "white"
          },
          "hoverlabel": {
           "align": "left"
          },
          "hovermode": "closest",
          "mapbox": {
           "style": "light"
          },
          "paper_bgcolor": "white",
          "plot_bgcolor": "#E5ECF6",
          "polar": {
           "angularaxis": {
            "gridcolor": "white",
            "linecolor": "white",
            "ticks": ""
           },
           "bgcolor": "#E5ECF6",
           "radialaxis": {
            "gridcolor": "white",
            "linecolor": "white",
            "ticks": ""
           }
          },
          "scene": {
           "xaxis": {
            "backgroundcolor": "#E5ECF6",
            "gridcolor": "white",
            "gridwidth": 2,
            "linecolor": "white",
            "showbackground": true,
            "ticks": "",
            "zerolinecolor": "white"
           },
           "yaxis": {
            "backgroundcolor": "#E5ECF6",
            "gridcolor": "white",
            "gridwidth": 2,
            "linecolor": "white",
            "showbackground": true,
            "ticks": "",
            "zerolinecolor": "white"
           },
           "zaxis": {
            "backgroundcolor": "#E5ECF6",
            "gridcolor": "white",
            "gridwidth": 2,
            "linecolor": "white",
            "showbackground": true,
            "ticks": "",
            "zerolinecolor": "white"
           }
          },
          "shapedefaults": {
           "line": {
            "color": "#2a3f5f"
           }
          },
          "ternary": {
           "aaxis": {
            "gridcolor": "white",
            "linecolor": "white",
            "ticks": ""
           },
           "baxis": {
            "gridcolor": "white",
            "linecolor": "white",
            "ticks": ""
           },
           "bgcolor": "#E5ECF6",
           "caxis": {
            "gridcolor": "white",
            "linecolor": "white",
            "ticks": ""
           }
          },
          "title": {
           "x": 0.05
          },
          "xaxis": {
           "automargin": true,
           "gridcolor": "white",
           "linecolor": "white",
           "ticks": "",
           "title": {
            "standoff": 15
           },
           "zerolinecolor": "white",
           "zerolinewidth": 2
          },
          "yaxis": {
           "automargin": true,
           "gridcolor": "white",
           "linecolor": "white",
           "ticks": "",
           "title": {
            "standoff": 15
           },
           "zerolinecolor": "white",
           "zerolinewidth": 2
          }
         }
        },
        "title": {
         "text": "Ventas totales por estado (2014)",
         "x": 0.5
        },
        "width": 900,
        "xaxis": {
         "title": {
          "text": "Estado"
         }
        },
        "yaxis": {
         "title": {
          "text": "Ventas totales"
         }
        }
       }
      },
      "text/html": [
       "<div>                            <div id=\"6837b734-cd24-4b17-8dab-7571a4f36a9e\" class=\"plotly-graph-div\" style=\"height:600px; width:900px;\"></div>            <script type=\"text/javascript\">                require([\"plotly\"], function(Plotly) {                    window.PLOTLYENV=window.PLOTLYENV || {};                                    if (document.getElementById(\"6837b734-cd24-4b17-8dab-7571a4f36a9e\")) {                    Plotly.newPlot(                        \"6837b734-cd24-4b17-8dab-7571a4f36a9e\",                        [{\"marker\":{\"color\":\"red\",\"line\":{\"color\":\"black\",\"width\":2}},\"x\":[\"Alabama\",\"Arizona\",\"Arkansas\",\"California\",\"Colorado\",\"Connecticut\",\"Delaware\",\"Florida\",\"Georgia\",\"Idaho\",\"Illinois\",\"Indiana\",\"Iowa\",\"Kansas\",\"Kentucky\",\"Louisiana\",\"Maine\",\"Maryland\",\"Massachusetts\",\"Michigan\",\"Minnesota\",\"Mississippi\",\"Missouri\",\"Montana\",\"Nebraska\",\"Nevada\",\"New Hampshire\",\"New Jersey\",\"New Mexico\",\"New York\",\"North Carolina\",\"Ohio\",\"Oklahoma\",\"Oregon\",\"Pennsylvania\",\"Rhode Island\",\"South Carolina\",\"South Dakota\",\"Tennessee\",\"Texas\",\"Utah\",\"Virginia\",\"Washington\",\"Wisconsin\"],\"y\":[5617.17,7743.250000000001,6302.6900000000005,88236.043,6502.294000000001,2794.02,4786.03,34248.2605,4540.1,465.216,16154.995,2936.81,1190.84,1319.79,8280.460000000001,2534.92,617.12,1701.25,7139.746,6162.411,15738.970000000001,2055.16,1570.82,424.488,210.01999999999998,2561.21,504.48,4192.28,650.7459999999999,62811.061,8620.741,13834.338,2639.35,4807.783,19442.451999999997,2169.4660000000003,2270.8599999999997,162.15,3012.384,49965.9946,2943.688,25802.05,29871.576,4847.71],\"type\":\"bar\"}],                        {\"height\":600,\"template\":{\"data\":{\"barpolar\":[{\"marker\":{\"line\":{\"color\":\"#E5ECF6\",\"width\":0.5},\"pattern\":{\"fillmode\":\"overlay\",\"size\":10,\"solidity\":0.2}},\"type\":\"barpolar\"}],\"bar\":[{\"error_x\":{\"color\":\"#2a3f5f\"},\"error_y\":{\"color\":\"#2a3f5f\"},\"marker\":{\"line\":{\"color\":\"#E5ECF6\",\"width\":0.5},\"pattern\":{\"fillmode\":\"overlay\",\"size\":10,\"solidity\":0.2}},\"type\":\"bar\"}],\"carpet\":[{\"aaxis\":{\"endlinecolor\":\"#2a3f5f\",\"gridcolor\":\"white\",\"linecolor\":\"white\",\"minorgridcolor\":\"white\",\"startlinecolor\":\"#2a3f5f\"},\"baxis\":{\"endlinecolor\":\"#2a3f5f\",\"gridcolor\":\"white\",\"linecolor\":\"white\",\"minorgridcolor\":\"white\",\"startlinecolor\":\"#2a3f5f\"},\"type\":\"carpet\"}],\"choropleth\":[{\"colorbar\":{\"outlinewidth\":0,\"ticks\":\"\"},\"type\":\"choropleth\"}],\"contourcarpet\":[{\"colorbar\":{\"outlinewidth\":0,\"ticks\":\"\"},\"type\":\"contourcarpet\"}],\"contour\":[{\"colorbar\":{\"outlinewidth\":0,\"ticks\":\"\"},\"colorscale\":[[0.0,\"#0d0887\"],[0.1111111111111111,\"#46039f\"],[0.2222222222222222,\"#7201a8\"],[0.3333333333333333,\"#9c179e\"],[0.4444444444444444,\"#bd3786\"],[0.5555555555555556,\"#d8576b\"],[0.6666666666666666,\"#ed7953\"],[0.7777777777777778,\"#fb9f3a\"],[0.8888888888888888,\"#fdca26\"],[1.0,\"#f0f921\"]],\"type\":\"contour\"}],\"heatmapgl\":[{\"colorbar\":{\"outlinewidth\":0,\"ticks\":\"\"},\"colorscale\":[[0.0,\"#0d0887\"],[0.1111111111111111,\"#46039f\"],[0.2222222222222222,\"#7201a8\"],[0.3333333333333333,\"#9c179e\"],[0.4444444444444444,\"#bd3786\"],[0.5555555555555556,\"#d8576b\"],[0.6666666666666666,\"#ed7953\"],[0.7777777777777778,\"#fb9f3a\"],[0.8888888888888888,\"#fdca26\"],[1.0,\"#f0f921\"]],\"type\":\"heatmapgl\"}],\"heatmap\":[{\"colorbar\":{\"outlinewidth\":0,\"ticks\":\"\"},\"colorscale\":[[0.0,\"#0d0887\"],[0.1111111111111111,\"#46039f\"],[0.2222222222222222,\"#7201a8\"],[0.3333333333333333,\"#9c179e\"],[0.4444444444444444,\"#bd3786\"],[0.5555555555555556,\"#d8576b\"],[0.6666666666666666,\"#ed7953\"],[0.7777777777777778,\"#fb9f3a\"],[0.8888888888888888,\"#fdca26\"],[1.0,\"#f0f921\"]],\"type\":\"heatmap\"}],\"histogram2dcontour\":[{\"colorbar\":{\"outlinewidth\":0,\"ticks\":\"\"},\"colorscale\":[[0.0,\"#0d0887\"],[0.1111111111111111,\"#46039f\"],[0.2222222222222222,\"#7201a8\"],[0.3333333333333333,\"#9c179e\"],[0.4444444444444444,\"#bd3786\"],[0.5555555555555556,\"#d8576b\"],[0.6666666666666666,\"#ed7953\"],[0.7777777777777778,\"#fb9f3a\"],[0.8888888888888888,\"#fdca26\"],[1.0,\"#f0f921\"]],\"type\":\"histogram2dcontour\"}],\"histogram2d\":[{\"colorbar\":{\"outlinewidth\":0,\"ticks\":\"\"},\"colorscale\":[[0.0,\"#0d0887\"],[0.1111111111111111,\"#46039f\"],[0.2222222222222222,\"#7201a8\"],[0.3333333333333333,\"#9c179e\"],[0.4444444444444444,\"#bd3786\"],[0.5555555555555556,\"#d8576b\"],[0.6666666666666666,\"#ed7953\"],[0.7777777777777778,\"#fb9f3a\"],[0.8888888888888888,\"#fdca26\"],[1.0,\"#f0f921\"]],\"type\":\"histogram2d\"}],\"histogram\":[{\"marker\":{\"pattern\":{\"fillmode\":\"overlay\",\"size\":10,\"solidity\":0.2}},\"type\":\"histogram\"}],\"mesh3d\":[{\"colorbar\":{\"outlinewidth\":0,\"ticks\":\"\"},\"type\":\"mesh3d\"}],\"parcoords\":[{\"line\":{\"colorbar\":{\"outlinewidth\":0,\"ticks\":\"\"}},\"type\":\"parcoords\"}],\"pie\":[{\"automargin\":true,\"type\":\"pie\"}],\"scatter3d\":[{\"line\":{\"colorbar\":{\"outlinewidth\":0,\"ticks\":\"\"}},\"marker\":{\"colorbar\":{\"outlinewidth\":0,\"ticks\":\"\"}},\"type\":\"scatter3d\"}],\"scattercarpet\":[{\"marker\":{\"colorbar\":{\"outlinewidth\":0,\"ticks\":\"\"}},\"type\":\"scattercarpet\"}],\"scattergeo\":[{\"marker\":{\"colorbar\":{\"outlinewidth\":0,\"ticks\":\"\"}},\"type\":\"scattergeo\"}],\"scattergl\":[{\"marker\":{\"colorbar\":{\"outlinewidth\":0,\"ticks\":\"\"}},\"type\":\"scattergl\"}],\"scattermapbox\":[{\"marker\":{\"colorbar\":{\"outlinewidth\":0,\"ticks\":\"\"}},\"type\":\"scattermapbox\"}],\"scatterpolargl\":[{\"marker\":{\"colorbar\":{\"outlinewidth\":0,\"ticks\":\"\"}},\"type\":\"scatterpolargl\"}],\"scatterpolar\":[{\"marker\":{\"colorbar\":{\"outlinewidth\":0,\"ticks\":\"\"}},\"type\":\"scatterpolar\"}],\"scatter\":[{\"fillpattern\":{\"fillmode\":\"overlay\",\"size\":10,\"solidity\":0.2},\"type\":\"scatter\"}],\"scatterternary\":[{\"marker\":{\"colorbar\":{\"outlinewidth\":0,\"ticks\":\"\"}},\"type\":\"scatterternary\"}],\"surface\":[{\"colorbar\":{\"outlinewidth\":0,\"ticks\":\"\"},\"colorscale\":[[0.0,\"#0d0887\"],[0.1111111111111111,\"#46039f\"],[0.2222222222222222,\"#7201a8\"],[0.3333333333333333,\"#9c179e\"],[0.4444444444444444,\"#bd3786\"],[0.5555555555555556,\"#d8576b\"],[0.6666666666666666,\"#ed7953\"],[0.7777777777777778,\"#fb9f3a\"],[0.8888888888888888,\"#fdca26\"],[1.0,\"#f0f921\"]],\"type\":\"surface\"}],\"table\":[{\"cells\":{\"fill\":{\"color\":\"#EBF0F8\"},\"line\":{\"color\":\"white\"}},\"header\":{\"fill\":{\"color\":\"#C8D4E3\"},\"line\":{\"color\":\"white\"}},\"type\":\"table\"}]},\"layout\":{\"annotationdefaults\":{\"arrowcolor\":\"#2a3f5f\",\"arrowhead\":0,\"arrowwidth\":1},\"autotypenumbers\":\"strict\",\"coloraxis\":{\"colorbar\":{\"outlinewidth\":0,\"ticks\":\"\"}},\"colorscale\":{\"diverging\":[[0,\"#8e0152\"],[0.1,\"#c51b7d\"],[0.2,\"#de77ae\"],[0.3,\"#f1b6da\"],[0.4,\"#fde0ef\"],[0.5,\"#f7f7f7\"],[0.6,\"#e6f5d0\"],[0.7,\"#b8e186\"],[0.8,\"#7fbc41\"],[0.9,\"#4d9221\"],[1,\"#276419\"]],\"sequential\":[[0.0,\"#0d0887\"],[0.1111111111111111,\"#46039f\"],[0.2222222222222222,\"#7201a8\"],[0.3333333333333333,\"#9c179e\"],[0.4444444444444444,\"#bd3786\"],[0.5555555555555556,\"#d8576b\"],[0.6666666666666666,\"#ed7953\"],[0.7777777777777778,\"#fb9f3a\"],[0.8888888888888888,\"#fdca26\"],[1.0,\"#f0f921\"]],\"sequentialminus\":[[0.0,\"#0d0887\"],[0.1111111111111111,\"#46039f\"],[0.2222222222222222,\"#7201a8\"],[0.3333333333333333,\"#9c179e\"],[0.4444444444444444,\"#bd3786\"],[0.5555555555555556,\"#d8576b\"],[0.6666666666666666,\"#ed7953\"],[0.7777777777777778,\"#fb9f3a\"],[0.8888888888888888,\"#fdca26\"],[1.0,\"#f0f921\"]]},\"colorway\":[\"#636efa\",\"#EF553B\",\"#00cc96\",\"#ab63fa\",\"#FFA15A\",\"#19d3f3\",\"#FF6692\",\"#B6E880\",\"#FF97FF\",\"#FECB52\"],\"font\":{\"color\":\"#2a3f5f\"},\"geo\":{\"bgcolor\":\"white\",\"lakecolor\":\"white\",\"landcolor\":\"#E5ECF6\",\"showlakes\":true,\"showland\":true,\"subunitcolor\":\"white\"},\"hoverlabel\":{\"align\":\"left\"},\"hovermode\":\"closest\",\"mapbox\":{\"style\":\"light\"},\"paper_bgcolor\":\"white\",\"plot_bgcolor\":\"#E5ECF6\",\"polar\":{\"angularaxis\":{\"gridcolor\":\"white\",\"linecolor\":\"white\",\"ticks\":\"\"},\"bgcolor\":\"#E5ECF6\",\"radialaxis\":{\"gridcolor\":\"white\",\"linecolor\":\"white\",\"ticks\":\"\"}},\"scene\":{\"xaxis\":{\"backgroundcolor\":\"#E5ECF6\",\"gridcolor\":\"white\",\"gridwidth\":2,\"linecolor\":\"white\",\"showbackground\":true,\"ticks\":\"\",\"zerolinecolor\":\"white\"},\"yaxis\":{\"backgroundcolor\":\"#E5ECF6\",\"gridcolor\":\"white\",\"gridwidth\":2,\"linecolor\":\"white\",\"showbackground\":true,\"ticks\":\"\",\"zerolinecolor\":\"white\"},\"zaxis\":{\"backgroundcolor\":\"#E5ECF6\",\"gridcolor\":\"white\",\"gridwidth\":2,\"linecolor\":\"white\",\"showbackground\":true,\"ticks\":\"\",\"zerolinecolor\":\"white\"}},\"shapedefaults\":{\"line\":{\"color\":\"#2a3f5f\"}},\"ternary\":{\"aaxis\":{\"gridcolor\":\"white\",\"linecolor\":\"white\",\"ticks\":\"\"},\"baxis\":{\"gridcolor\":\"white\",\"linecolor\":\"white\",\"ticks\":\"\"},\"bgcolor\":\"#E5ECF6\",\"caxis\":{\"gridcolor\":\"white\",\"linecolor\":\"white\",\"ticks\":\"\"}},\"title\":{\"x\":0.05},\"xaxis\":{\"automargin\":true,\"gridcolor\":\"white\",\"linecolor\":\"white\",\"ticks\":\"\",\"title\":{\"standoff\":15},\"zerolinecolor\":\"white\",\"zerolinewidth\":2},\"yaxis\":{\"automargin\":true,\"gridcolor\":\"white\",\"linecolor\":\"white\",\"ticks\":\"\",\"title\":{\"standoff\":15},\"zerolinecolor\":\"white\",\"zerolinewidth\":2}}},\"title\":{\"text\":\"Ventas totales por estado (2014)\",\"x\":0.5},\"width\":900,\"xaxis\":{\"title\":{\"text\":\"Estado\"}},\"yaxis\":{\"title\":{\"text\":\"Ventas totales\"}}},                        {\"responsive\": true}                    ).then(function(){\n",
       "                            \n",
       "var gd = document.getElementById('6837b734-cd24-4b17-8dab-7571a4f36a9e');\n",
       "var x = new MutationObserver(function (mutations, observer) {{\n",
       "        var display = window.getComputedStyle(gd).display;\n",
       "        if (!display || display === 'none') {{\n",
       "            console.log([gd, 'removed!']);\n",
       "            Plotly.purge(gd);\n",
       "            observer.disconnect();\n",
       "        }}\n",
       "}});\n",
       "\n",
       "// Listen for the removal of the full notebook cells\n",
       "var notebookContainer = gd.closest('#notebook-container');\n",
       "if (notebookContainer) {{\n",
       "    x.observe(notebookContainer, {childList: true});\n",
       "}}\n",
       "\n",
       "// Listen for the clearing of the current output cell\n",
       "var outputEl = gd.closest('.output');\n",
       "if (outputEl) {{\n",
       "    x.observe(outputEl, {childList: true});\n",
       "}}\n",
       "\n",
       "                        })                };                });            </script>        </div>"
      ]
     },
     "metadata": {},
     "output_type": "display_data"
    }
   ],
   "source": [
    "#Datos del año 2014\n",
    "df_14=df[df['Ship Date'].dt.year==2014]\n",
    "\n",
    "#Un df que agrupe los estados y calcule las ventas totales\n",
    "ventas_por_estado=df_14.groupby('State', as_index=False)['Sales'].sum() #.sort_values(ascending=False)\n",
    "\n",
    "trace=go.Bar(\n",
    "            x=ventas_por_estado['State'],\n",
    "            y=ventas_por_estado['Sales'],\n",
    "            marker=dict(color='red',\n",
    "                        line=dict(color='black', width=2))\n",
    ")\n",
    "\n",
    "data=[trace]\n",
    "layout=dict(title=dict(text='Ventas totales por estado (2014)', x=0.5),\n",
    "            xaxis=dict(title='Estado'),\n",
    "            yaxis=dict(title='Ventas totales'),\n",
    "            height=600,  # Ajustar la altura\n",
    "            width=900  #anchura\n",
    "            )\n",
    "\n",
    "fig=go.Figure(data=data, layout=layout)\n",
    "\n",
    "iplot(fig)"
   ]
  },
  {
   "cell_type": "markdown",
   "metadata": {},
   "source": [
    "PRUEBAS:"
   ]
  },
  {
   "cell_type": "markdown",
   "metadata": {},
   "source": [
    "- .dt.year: Extrae el año de la fecha.\n",
    "- .dt.month: Extrae el mes de la fecha.\n",
    "- .dt.day: Extrae el día del mes de la fecha.\n",
    "- .dt.hour: Extrae la hora de la fecha.\n",
    "- .dt.minute: Extrae el minuto de la fecha.\n",
    "- .dt.second: Extrae el segundo de la fecha.\n",
    "- .dt.dayofweek: Devuelve el día de la semana como un número, donde 0 es lunes y 6 es domingo.\n",
    "- .dt.day_name(): Devuelve el nombre del día de la semana."
   ]
  },
  {
   "cell_type": "code",
   "execution_count": 16,
   "metadata": {},
   "outputs": [
    {
     "data": {
      "text/html": [
       "<div>\n",
       "<style scoped>\n",
       "    .dataframe tbody tr th:only-of-type {\n",
       "        vertical-align: middle;\n",
       "    }\n",
       "\n",
       "    .dataframe tbody tr th {\n",
       "        vertical-align: top;\n",
       "    }\n",
       "\n",
       "    .dataframe thead th {\n",
       "        text-align: right;\n",
       "    }\n",
       "</style>\n",
       "<table border=\"1\" class=\"dataframe\">\n",
       "  <thead>\n",
       "    <tr style=\"text-align: right;\">\n",
       "      <th></th>\n",
       "      <th>Order ID</th>\n",
       "      <th>Order Date</th>\n",
       "      <th>Ship Date</th>\n",
       "      <th>Ship Mode</th>\n",
       "      <th>Customer ID</th>\n",
       "      <th>Customer Name</th>\n",
       "      <th>Segment</th>\n",
       "      <th>Country</th>\n",
       "      <th>City</th>\n",
       "      <th>State</th>\n",
       "      <th>Postal Code</th>\n",
       "      <th>Region</th>\n",
       "      <th>Product ID</th>\n",
       "      <th>Category</th>\n",
       "      <th>Sub-Category</th>\n",
       "      <th>Product Name</th>\n",
       "      <th>Sales</th>\n",
       "      <th>Quantity</th>\n",
       "      <th>Discount</th>\n",
       "      <th>Profit</th>\n",
       "    </tr>\n",
       "  </thead>\n",
       "  <tbody>\n",
       "    <tr>\n",
       "      <th>5</th>\n",
       "      <td>CA-2014-115812</td>\n",
       "      <td>2014-06-09</td>\n",
       "      <td>2014-06-14</td>\n",
       "      <td>Standard Class</td>\n",
       "      <td>BH-11710</td>\n",
       "      <td>Brosina Hoffman</td>\n",
       "      <td>Consumer</td>\n",
       "      <td>United States</td>\n",
       "      <td>Los Angeles</td>\n",
       "      <td>California</td>\n",
       "      <td>90032</td>\n",
       "      <td>West</td>\n",
       "      <td>FUR-FU-10001487</td>\n",
       "      <td>Furniture</td>\n",
       "      <td>Furnishings</td>\n",
       "      <td>Eldon Expressions Wood and Plastic Desk Access...</td>\n",
       "      <td>48.86</td>\n",
       "      <td>7</td>\n",
       "      <td>0.0</td>\n",
       "      <td>14.1694</td>\n",
       "    </tr>\n",
       "    <tr>\n",
       "      <th>6</th>\n",
       "      <td>CA-2014-115812</td>\n",
       "      <td>2014-06-09</td>\n",
       "      <td>2014-06-14</td>\n",
       "      <td>Standard Class</td>\n",
       "      <td>BH-11710</td>\n",
       "      <td>Brosina Hoffman</td>\n",
       "      <td>Consumer</td>\n",
       "      <td>United States</td>\n",
       "      <td>Los Angeles</td>\n",
       "      <td>California</td>\n",
       "      <td>90032</td>\n",
       "      <td>West</td>\n",
       "      <td>OFF-AR-10002833</td>\n",
       "      <td>Office Supplies</td>\n",
       "      <td>Art</td>\n",
       "      <td>Newell 322</td>\n",
       "      <td>7.28</td>\n",
       "      <td>4</td>\n",
       "      <td>0.0</td>\n",
       "      <td>1.9656</td>\n",
       "    </tr>\n",
       "  </tbody>\n",
       "</table>\n",
       "</div>"
      ],
      "text/plain": [
       "         Order ID Order Date  Ship Date       Ship Mode Customer ID  \\\n",
       "5  CA-2014-115812 2014-06-09 2014-06-14  Standard Class    BH-11710   \n",
       "6  CA-2014-115812 2014-06-09 2014-06-14  Standard Class    BH-11710   \n",
       "\n",
       "     Customer Name   Segment        Country         City       State  \\\n",
       "5  Brosina Hoffman  Consumer  United States  Los Angeles  California   \n",
       "6  Brosina Hoffman  Consumer  United States  Los Angeles  California   \n",
       "\n",
       "   Postal Code Region       Product ID         Category Sub-Category  \\\n",
       "5        90032   West  FUR-FU-10001487        Furniture  Furnishings   \n",
       "6        90032   West  OFF-AR-10002833  Office Supplies          Art   \n",
       "\n",
       "                                        Product Name  Sales  Quantity  \\\n",
       "5  Eldon Expressions Wood and Plastic Desk Access...  48.86         7   \n",
       "6                                         Newell 322   7.28         4   \n",
       "\n",
       "   Discount   Profit  \n",
       "5       0.0  14.1694  \n",
       "6       0.0   1.9656  "
      ]
     },
     "execution_count": 16,
     "metadata": {},
     "output_type": "execute_result"
    }
   ],
   "source": [
    "df_14=df[df['Ship Date'].dt.year==2014]\n",
    "df_14.head(2)"
   ]
  },
  {
   "cell_type": "markdown",
   "metadata": {},
   "source": [
    "Queremos calcular las ventas totales por estado, por lo tanto agrupemos por estado y calculemos las ventas totales."
   ]
  },
  {
   "cell_type": "code",
   "execution_count": 21,
   "metadata": {},
   "outputs": [
    {
     "data": {
      "text/html": [
       "<div>\n",
       "<style scoped>\n",
       "    .dataframe tbody tr th:only-of-type {\n",
       "        vertical-align: middle;\n",
       "    }\n",
       "\n",
       "    .dataframe tbody tr th {\n",
       "        vertical-align: top;\n",
       "    }\n",
       "\n",
       "    .dataframe thead th {\n",
       "        text-align: right;\n",
       "    }\n",
       "</style>\n",
       "<table border=\"1\" class=\"dataframe\">\n",
       "  <thead>\n",
       "    <tr style=\"text-align: right;\">\n",
       "      <th></th>\n",
       "      <th>State</th>\n",
       "      <th>Sales</th>\n",
       "    </tr>\n",
       "  </thead>\n",
       "  <tbody>\n",
       "    <tr>\n",
       "      <th>0</th>\n",
       "      <td>Alabama</td>\n",
       "      <td>5617.170</td>\n",
       "    </tr>\n",
       "    <tr>\n",
       "      <th>1</th>\n",
       "      <td>Arizona</td>\n",
       "      <td>7743.250</td>\n",
       "    </tr>\n",
       "    <tr>\n",
       "      <th>2</th>\n",
       "      <td>Arkansas</td>\n",
       "      <td>6302.690</td>\n",
       "    </tr>\n",
       "    <tr>\n",
       "      <th>3</th>\n",
       "      <td>California</td>\n",
       "      <td>88236.043</td>\n",
       "    </tr>\n",
       "    <tr>\n",
       "      <th>4</th>\n",
       "      <td>Colorado</td>\n",
       "      <td>6502.294</td>\n",
       "    </tr>\n",
       "  </tbody>\n",
       "</table>\n",
       "</div>"
      ],
      "text/plain": [
       "        State      Sales\n",
       "0     Alabama   5617.170\n",
       "1     Arizona   7743.250\n",
       "2    Arkansas   6302.690\n",
       "3  California  88236.043\n",
       "4    Colorado   6502.294"
      ]
     },
     "execution_count": 21,
     "metadata": {},
     "output_type": "execute_result"
    }
   ],
   "source": [
    "ventas_por_estado=df_14.groupby('State', as_index=False)['Sales'].sum()\n",
    "ventas_por_estado.head()"
   ]
  },
  {
   "attachments": {},
   "cell_type": "markdown",
   "metadata": {
    "id": "ORjGPnb_imh0"
   },
   "source": [
    "## 2. Cree un gráfico de líneas interactivo que muestre las ventas y las ganancias en 2014."
   ]
  },
  {
   "cell_type": "code",
   "execution_count": 14,
   "metadata": {},
   "outputs": [
    {
     "data": {
      "text/html": [
       "<div>\n",
       "<style scoped>\n",
       "    .dataframe tbody tr th:only-of-type {\n",
       "        vertical-align: middle;\n",
       "    }\n",
       "\n",
       "    .dataframe tbody tr th {\n",
       "        vertical-align: top;\n",
       "    }\n",
       "\n",
       "    .dataframe thead th {\n",
       "        text-align: right;\n",
       "    }\n",
       "</style>\n",
       "<table border=\"1\" class=\"dataframe\">\n",
       "  <thead>\n",
       "    <tr style=\"text-align: right;\">\n",
       "      <th></th>\n",
       "      <th>Order ID</th>\n",
       "      <th>Order Date</th>\n",
       "      <th>Ship Date</th>\n",
       "      <th>Ship Mode</th>\n",
       "      <th>Customer ID</th>\n",
       "      <th>Customer Name</th>\n",
       "      <th>Segment</th>\n",
       "      <th>Country</th>\n",
       "      <th>City</th>\n",
       "      <th>State</th>\n",
       "      <th>Postal Code</th>\n",
       "      <th>Region</th>\n",
       "      <th>Product ID</th>\n",
       "      <th>Category</th>\n",
       "      <th>Sub-Category</th>\n",
       "      <th>Product Name</th>\n",
       "      <th>Sales</th>\n",
       "      <th>Quantity</th>\n",
       "      <th>Discount</th>\n",
       "      <th>Profit</th>\n",
       "    </tr>\n",
       "  </thead>\n",
       "  <tbody>\n",
       "    <tr>\n",
       "      <th>5</th>\n",
       "      <td>CA-2014-115812</td>\n",
       "      <td>2014-06-09</td>\n",
       "      <td>2014-06-14</td>\n",
       "      <td>Standard Class</td>\n",
       "      <td>BH-11710</td>\n",
       "      <td>Brosina Hoffman</td>\n",
       "      <td>Consumer</td>\n",
       "      <td>United States</td>\n",
       "      <td>Los Angeles</td>\n",
       "      <td>California</td>\n",
       "      <td>90032</td>\n",
       "      <td>West</td>\n",
       "      <td>FUR-FU-10001487</td>\n",
       "      <td>Furniture</td>\n",
       "      <td>Furnishings</td>\n",
       "      <td>Eldon Expressions Wood and Plastic Desk Access...</td>\n",
       "      <td>48.86</td>\n",
       "      <td>7</td>\n",
       "      <td>0.0</td>\n",
       "      <td>14.1694</td>\n",
       "    </tr>\n",
       "    <tr>\n",
       "      <th>6</th>\n",
       "      <td>CA-2014-115812</td>\n",
       "      <td>2014-06-09</td>\n",
       "      <td>2014-06-14</td>\n",
       "      <td>Standard Class</td>\n",
       "      <td>BH-11710</td>\n",
       "      <td>Brosina Hoffman</td>\n",
       "      <td>Consumer</td>\n",
       "      <td>United States</td>\n",
       "      <td>Los Angeles</td>\n",
       "      <td>California</td>\n",
       "      <td>90032</td>\n",
       "      <td>West</td>\n",
       "      <td>OFF-AR-10002833</td>\n",
       "      <td>Office Supplies</td>\n",
       "      <td>Art</td>\n",
       "      <td>Newell 322</td>\n",
       "      <td>7.28</td>\n",
       "      <td>4</td>\n",
       "      <td>0.0</td>\n",
       "      <td>1.9656</td>\n",
       "    </tr>\n",
       "  </tbody>\n",
       "</table>\n",
       "</div>"
      ],
      "text/plain": [
       "         Order ID Order Date  Ship Date       Ship Mode Customer ID  \\\n",
       "5  CA-2014-115812 2014-06-09 2014-06-14  Standard Class    BH-11710   \n",
       "6  CA-2014-115812 2014-06-09 2014-06-14  Standard Class    BH-11710   \n",
       "\n",
       "     Customer Name   Segment        Country         City       State  \\\n",
       "5  Brosina Hoffman  Consumer  United States  Los Angeles  California   \n",
       "6  Brosina Hoffman  Consumer  United States  Los Angeles  California   \n",
       "\n",
       "   Postal Code Region       Product ID         Category Sub-Category  \\\n",
       "5        90032   West  FUR-FU-10001487        Furniture  Furnishings   \n",
       "6        90032   West  OFF-AR-10002833  Office Supplies          Art   \n",
       "\n",
       "                                        Product Name  Sales  Quantity  \\\n",
       "5  Eldon Expressions Wood and Plastic Desk Access...  48.86         7   \n",
       "6                                         Newell 322   7.28         4   \n",
       "\n",
       "   Discount   Profit  \n",
       "5       0.0  14.1694  \n",
       "6       0.0   1.9656  "
      ]
     },
     "execution_count": 14,
     "metadata": {},
     "output_type": "execute_result"
    }
   ],
   "source": [
    "df_14=df[df['Ship Date'].dt.year==2014]\n",
    "df_14.head(2)"
   ]
  },
  {
   "cell_type": "code",
   "execution_count": 16,
   "metadata": {},
   "outputs": [
    {
     "data": {
      "text/html": [
       "<div>\n",
       "<style scoped>\n",
       "    .dataframe tbody tr th:only-of-type {\n",
       "        vertical-align: middle;\n",
       "    }\n",
       "\n",
       "    .dataframe tbody tr th {\n",
       "        vertical-align: top;\n",
       "    }\n",
       "\n",
       "    .dataframe thead th {\n",
       "        text-align: right;\n",
       "    }\n",
       "</style>\n",
       "<table border=\"1\" class=\"dataframe\">\n",
       "  <thead>\n",
       "    <tr style=\"text-align: right;\">\n",
       "      <th></th>\n",
       "      <th>2014 months</th>\n",
       "      <th>Sales</th>\n",
       "      <th>Profit</th>\n",
       "    </tr>\n",
       "  </thead>\n",
       "  <tbody>\n",
       "    <tr>\n",
       "      <th>0</th>\n",
       "      <td>January</td>\n",
       "      <td>13275.1310</td>\n",
       "      <td>2424.1125</td>\n",
       "    </tr>\n",
       "    <tr>\n",
       "      <th>1</th>\n",
       "      <td>February</td>\n",
       "      <td>5406.5280</td>\n",
       "      <td>866.1925</td>\n",
       "    </tr>\n",
       "    <tr>\n",
       "      <th>2</th>\n",
       "      <td>March</td>\n",
       "      <td>50708.3490</td>\n",
       "      <td>123.4122</td>\n",
       "    </tr>\n",
       "    <tr>\n",
       "      <th>3</th>\n",
       "      <td>April</td>\n",
       "      <td>30388.4650</td>\n",
       "      <td>3313.2568</td>\n",
       "    </tr>\n",
       "    <tr>\n",
       "      <th>4</th>\n",
       "      <td>May</td>\n",
       "      <td>22478.8800</td>\n",
       "      <td>2636.2171</td>\n",
       "    </tr>\n",
       "    <tr>\n",
       "      <th>5</th>\n",
       "      <td>June</td>\n",
       "      <td>35991.6556</td>\n",
       "      <td>5316.8660</td>\n",
       "    </tr>\n",
       "    <tr>\n",
       "      <th>6</th>\n",
       "      <td>July</td>\n",
       "      <td>32990.5940</td>\n",
       "      <td>-1047.8993</td>\n",
       "    </tr>\n",
       "    <tr>\n",
       "      <th>7</th>\n",
       "      <td>August</td>\n",
       "      <td>30245.2420</td>\n",
       "      <td>6161.5346</td>\n",
       "    </tr>\n",
       "    <tr>\n",
       "      <th>8</th>\n",
       "      <td>September</td>\n",
       "      <td>73126.6533</td>\n",
       "      <td>6835.8856</td>\n",
       "    </tr>\n",
       "    <tr>\n",
       "      <th>9</th>\n",
       "      <td>October</td>\n",
       "      <td>35741.4770</td>\n",
       "      <td>4567.7754</td>\n",
       "    </tr>\n",
       "    <tr>\n",
       "      <th>10</th>\n",
       "      <td>November</td>\n",
       "      <td>80182.1947</td>\n",
       "      <td>9415.3468</td>\n",
       "    </tr>\n",
       "    <tr>\n",
       "      <th>11</th>\n",
       "      <td>December</td>\n",
       "      <td>59848.0235</td>\n",
       "      <td>6680.0253</td>\n",
       "    </tr>\n",
       "  </tbody>\n",
       "</table>\n",
       "</div>"
      ],
      "text/plain": [
       "   2014 months       Sales     Profit\n",
       "0      January  13275.1310  2424.1125\n",
       "1     February   5406.5280   866.1925\n",
       "2        March  50708.3490   123.4122\n",
       "3        April  30388.4650  3313.2568\n",
       "4          May  22478.8800  2636.2171\n",
       "5         June  35991.6556  5316.8660\n",
       "6         July  32990.5940 -1047.8993\n",
       "7       August  30245.2420  6161.5346\n",
       "8    September  73126.6533  6835.8856\n",
       "9      October  35741.4770  4567.7754\n",
       "10    November  80182.1947  9415.3468\n",
       "11    December  59848.0235  6680.0253"
      ]
     },
     "execution_count": 16,
     "metadata": {},
     "output_type": "execute_result"
    }
   ],
   "source": [
    "#Groupby por meses\n",
    "df_14=df[df['Ship Date'].dt.year==2014]\n",
    "df_14_meses=df_14.groupby(df_14['Ship Date'].dt.month)[['Sales','Profit']].sum().reset_index()\n",
    "\n",
    "df_14_meses=df_14_meses.rename(columns={'Ship Date':'2014 months'})\n",
    "df_14_meses['2014 months']=pd.to_datetime(df_14_meses['2014 months'],format='%m').dt.strftime('%B')\n",
    "df_14_meses"
   ]
  },
  {
   "cell_type": "code",
   "execution_count": 17,
   "metadata": {},
   "outputs": [
    {
     "data": {
      "application/vnd.plotly.v1+json": {
       "config": {
        "linkText": "Export to plot.ly",
        "plotlyServerURL": "https://plot.ly",
        "showLink": false
       },
       "data": [
        {
         "marker": {
          "color": "red"
         },
         "mode": "lines+markers",
         "name": "Ventas",
         "type": "scatter",
         "x": [
          "January",
          "February",
          "March",
          "April",
          "May",
          "June",
          "July",
          "August",
          "September",
          "October",
          "November",
          "December"
         ],
         "y": [
          13275.131000000001,
          5406.528,
          50708.349,
          30388.465,
          22478.88,
          35991.6556,
          32990.594,
          30245.242000000002,
          73126.6533,
          35741.477,
          80182.19470000001,
          59848.0235
         ]
        },
        {
         "marker": {
          "color": "black"
         },
         "mode": "lines+markers",
         "name": "Ganancias",
         "type": "scatter",
         "x": [
          "January",
          "February",
          "March",
          "April",
          "May",
          "June",
          "July",
          "August",
          "September",
          "October",
          "November",
          "December"
         ],
         "y": [
          2424.1124999999997,
          866.1925,
          123.41219999999736,
          3313.2568,
          2636.2171,
          5316.865999999999,
          -1047.8993000000023,
          6161.534599999999,
          6835.885599999997,
          4567.775399999999,
          9415.346799999998,
          6680.025299999998
         ]
        }
       ],
       "layout": {
        "template": {
         "data": {
          "bar": [
           {
            "error_x": {
             "color": "#2a3f5f"
            },
            "error_y": {
             "color": "#2a3f5f"
            },
            "marker": {
             "line": {
              "color": "#E5ECF6",
              "width": 0.5
             },
             "pattern": {
              "fillmode": "overlay",
              "size": 10,
              "solidity": 0.2
             }
            },
            "type": "bar"
           }
          ],
          "barpolar": [
           {
            "marker": {
             "line": {
              "color": "#E5ECF6",
              "width": 0.5
             },
             "pattern": {
              "fillmode": "overlay",
              "size": 10,
              "solidity": 0.2
             }
            },
            "type": "barpolar"
           }
          ],
          "carpet": [
           {
            "aaxis": {
             "endlinecolor": "#2a3f5f",
             "gridcolor": "white",
             "linecolor": "white",
             "minorgridcolor": "white",
             "startlinecolor": "#2a3f5f"
            },
            "baxis": {
             "endlinecolor": "#2a3f5f",
             "gridcolor": "white",
             "linecolor": "white",
             "minorgridcolor": "white",
             "startlinecolor": "#2a3f5f"
            },
            "type": "carpet"
           }
          ],
          "choropleth": [
           {
            "colorbar": {
             "outlinewidth": 0,
             "ticks": ""
            },
            "type": "choropleth"
           }
          ],
          "contour": [
           {
            "colorbar": {
             "outlinewidth": 0,
             "ticks": ""
            },
            "colorscale": [
             [
              0,
              "#0d0887"
             ],
             [
              0.1111111111111111,
              "#46039f"
             ],
             [
              0.2222222222222222,
              "#7201a8"
             ],
             [
              0.3333333333333333,
              "#9c179e"
             ],
             [
              0.4444444444444444,
              "#bd3786"
             ],
             [
              0.5555555555555556,
              "#d8576b"
             ],
             [
              0.6666666666666666,
              "#ed7953"
             ],
             [
              0.7777777777777778,
              "#fb9f3a"
             ],
             [
              0.8888888888888888,
              "#fdca26"
             ],
             [
              1,
              "#f0f921"
             ]
            ],
            "type": "contour"
           }
          ],
          "contourcarpet": [
           {
            "colorbar": {
             "outlinewidth": 0,
             "ticks": ""
            },
            "type": "contourcarpet"
           }
          ],
          "heatmap": [
           {
            "colorbar": {
             "outlinewidth": 0,
             "ticks": ""
            },
            "colorscale": [
             [
              0,
              "#0d0887"
             ],
             [
              0.1111111111111111,
              "#46039f"
             ],
             [
              0.2222222222222222,
              "#7201a8"
             ],
             [
              0.3333333333333333,
              "#9c179e"
             ],
             [
              0.4444444444444444,
              "#bd3786"
             ],
             [
              0.5555555555555556,
              "#d8576b"
             ],
             [
              0.6666666666666666,
              "#ed7953"
             ],
             [
              0.7777777777777778,
              "#fb9f3a"
             ],
             [
              0.8888888888888888,
              "#fdca26"
             ],
             [
              1,
              "#f0f921"
             ]
            ],
            "type": "heatmap"
           }
          ],
          "heatmapgl": [
           {
            "colorbar": {
             "outlinewidth": 0,
             "ticks": ""
            },
            "colorscale": [
             [
              0,
              "#0d0887"
             ],
             [
              0.1111111111111111,
              "#46039f"
             ],
             [
              0.2222222222222222,
              "#7201a8"
             ],
             [
              0.3333333333333333,
              "#9c179e"
             ],
             [
              0.4444444444444444,
              "#bd3786"
             ],
             [
              0.5555555555555556,
              "#d8576b"
             ],
             [
              0.6666666666666666,
              "#ed7953"
             ],
             [
              0.7777777777777778,
              "#fb9f3a"
             ],
             [
              0.8888888888888888,
              "#fdca26"
             ],
             [
              1,
              "#f0f921"
             ]
            ],
            "type": "heatmapgl"
           }
          ],
          "histogram": [
           {
            "marker": {
             "pattern": {
              "fillmode": "overlay",
              "size": 10,
              "solidity": 0.2
             }
            },
            "type": "histogram"
           }
          ],
          "histogram2d": [
           {
            "colorbar": {
             "outlinewidth": 0,
             "ticks": ""
            },
            "colorscale": [
             [
              0,
              "#0d0887"
             ],
             [
              0.1111111111111111,
              "#46039f"
             ],
             [
              0.2222222222222222,
              "#7201a8"
             ],
             [
              0.3333333333333333,
              "#9c179e"
             ],
             [
              0.4444444444444444,
              "#bd3786"
             ],
             [
              0.5555555555555556,
              "#d8576b"
             ],
             [
              0.6666666666666666,
              "#ed7953"
             ],
             [
              0.7777777777777778,
              "#fb9f3a"
             ],
             [
              0.8888888888888888,
              "#fdca26"
             ],
             [
              1,
              "#f0f921"
             ]
            ],
            "type": "histogram2d"
           }
          ],
          "histogram2dcontour": [
           {
            "colorbar": {
             "outlinewidth": 0,
             "ticks": ""
            },
            "colorscale": [
             [
              0,
              "#0d0887"
             ],
             [
              0.1111111111111111,
              "#46039f"
             ],
             [
              0.2222222222222222,
              "#7201a8"
             ],
             [
              0.3333333333333333,
              "#9c179e"
             ],
             [
              0.4444444444444444,
              "#bd3786"
             ],
             [
              0.5555555555555556,
              "#d8576b"
             ],
             [
              0.6666666666666666,
              "#ed7953"
             ],
             [
              0.7777777777777778,
              "#fb9f3a"
             ],
             [
              0.8888888888888888,
              "#fdca26"
             ],
             [
              1,
              "#f0f921"
             ]
            ],
            "type": "histogram2dcontour"
           }
          ],
          "mesh3d": [
           {
            "colorbar": {
             "outlinewidth": 0,
             "ticks": ""
            },
            "type": "mesh3d"
           }
          ],
          "parcoords": [
           {
            "line": {
             "colorbar": {
              "outlinewidth": 0,
              "ticks": ""
             }
            },
            "type": "parcoords"
           }
          ],
          "pie": [
           {
            "automargin": true,
            "type": "pie"
           }
          ],
          "scatter": [
           {
            "fillpattern": {
             "fillmode": "overlay",
             "size": 10,
             "solidity": 0.2
            },
            "type": "scatter"
           }
          ],
          "scatter3d": [
           {
            "line": {
             "colorbar": {
              "outlinewidth": 0,
              "ticks": ""
             }
            },
            "marker": {
             "colorbar": {
              "outlinewidth": 0,
              "ticks": ""
             }
            },
            "type": "scatter3d"
           }
          ],
          "scattercarpet": [
           {
            "marker": {
             "colorbar": {
              "outlinewidth": 0,
              "ticks": ""
             }
            },
            "type": "scattercarpet"
           }
          ],
          "scattergeo": [
           {
            "marker": {
             "colorbar": {
              "outlinewidth": 0,
              "ticks": ""
             }
            },
            "type": "scattergeo"
           }
          ],
          "scattergl": [
           {
            "marker": {
             "colorbar": {
              "outlinewidth": 0,
              "ticks": ""
             }
            },
            "type": "scattergl"
           }
          ],
          "scattermapbox": [
           {
            "marker": {
             "colorbar": {
              "outlinewidth": 0,
              "ticks": ""
             }
            },
            "type": "scattermapbox"
           }
          ],
          "scatterpolar": [
           {
            "marker": {
             "colorbar": {
              "outlinewidth": 0,
              "ticks": ""
             }
            },
            "type": "scatterpolar"
           }
          ],
          "scatterpolargl": [
           {
            "marker": {
             "colorbar": {
              "outlinewidth": 0,
              "ticks": ""
             }
            },
            "type": "scatterpolargl"
           }
          ],
          "scatterternary": [
           {
            "marker": {
             "colorbar": {
              "outlinewidth": 0,
              "ticks": ""
             }
            },
            "type": "scatterternary"
           }
          ],
          "surface": [
           {
            "colorbar": {
             "outlinewidth": 0,
             "ticks": ""
            },
            "colorscale": [
             [
              0,
              "#0d0887"
             ],
             [
              0.1111111111111111,
              "#46039f"
             ],
             [
              0.2222222222222222,
              "#7201a8"
             ],
             [
              0.3333333333333333,
              "#9c179e"
             ],
             [
              0.4444444444444444,
              "#bd3786"
             ],
             [
              0.5555555555555556,
              "#d8576b"
             ],
             [
              0.6666666666666666,
              "#ed7953"
             ],
             [
              0.7777777777777778,
              "#fb9f3a"
             ],
             [
              0.8888888888888888,
              "#fdca26"
             ],
             [
              1,
              "#f0f921"
             ]
            ],
            "type": "surface"
           }
          ],
          "table": [
           {
            "cells": {
             "fill": {
              "color": "#EBF0F8"
             },
             "line": {
              "color": "white"
             }
            },
            "header": {
             "fill": {
              "color": "#C8D4E3"
             },
             "line": {
              "color": "white"
             }
            },
            "type": "table"
           }
          ]
         },
         "layout": {
          "annotationdefaults": {
           "arrowcolor": "#2a3f5f",
           "arrowhead": 0,
           "arrowwidth": 1
          },
          "autotypenumbers": "strict",
          "coloraxis": {
           "colorbar": {
            "outlinewidth": 0,
            "ticks": ""
           }
          },
          "colorscale": {
           "diverging": [
            [
             0,
             "#8e0152"
            ],
            [
             0.1,
             "#c51b7d"
            ],
            [
             0.2,
             "#de77ae"
            ],
            [
             0.3,
             "#f1b6da"
            ],
            [
             0.4,
             "#fde0ef"
            ],
            [
             0.5,
             "#f7f7f7"
            ],
            [
             0.6,
             "#e6f5d0"
            ],
            [
             0.7,
             "#b8e186"
            ],
            [
             0.8,
             "#7fbc41"
            ],
            [
             0.9,
             "#4d9221"
            ],
            [
             1,
             "#276419"
            ]
           ],
           "sequential": [
            [
             0,
             "#0d0887"
            ],
            [
             0.1111111111111111,
             "#46039f"
            ],
            [
             0.2222222222222222,
             "#7201a8"
            ],
            [
             0.3333333333333333,
             "#9c179e"
            ],
            [
             0.4444444444444444,
             "#bd3786"
            ],
            [
             0.5555555555555556,
             "#d8576b"
            ],
            [
             0.6666666666666666,
             "#ed7953"
            ],
            [
             0.7777777777777778,
             "#fb9f3a"
            ],
            [
             0.8888888888888888,
             "#fdca26"
            ],
            [
             1,
             "#f0f921"
            ]
           ],
           "sequentialminus": [
            [
             0,
             "#0d0887"
            ],
            [
             0.1111111111111111,
             "#46039f"
            ],
            [
             0.2222222222222222,
             "#7201a8"
            ],
            [
             0.3333333333333333,
             "#9c179e"
            ],
            [
             0.4444444444444444,
             "#bd3786"
            ],
            [
             0.5555555555555556,
             "#d8576b"
            ],
            [
             0.6666666666666666,
             "#ed7953"
            ],
            [
             0.7777777777777778,
             "#fb9f3a"
            ],
            [
             0.8888888888888888,
             "#fdca26"
            ],
            [
             1,
             "#f0f921"
            ]
           ]
          },
          "colorway": [
           "#636efa",
           "#EF553B",
           "#00cc96",
           "#ab63fa",
           "#FFA15A",
           "#19d3f3",
           "#FF6692",
           "#B6E880",
           "#FF97FF",
           "#FECB52"
          ],
          "font": {
           "color": "#2a3f5f"
          },
          "geo": {
           "bgcolor": "white",
           "lakecolor": "white",
           "landcolor": "#E5ECF6",
           "showlakes": true,
           "showland": true,
           "subunitcolor": "white"
          },
          "hoverlabel": {
           "align": "left"
          },
          "hovermode": "closest",
          "mapbox": {
           "style": "light"
          },
          "paper_bgcolor": "white",
          "plot_bgcolor": "#E5ECF6",
          "polar": {
           "angularaxis": {
            "gridcolor": "white",
            "linecolor": "white",
            "ticks": ""
           },
           "bgcolor": "#E5ECF6",
           "radialaxis": {
            "gridcolor": "white",
            "linecolor": "white",
            "ticks": ""
           }
          },
          "scene": {
           "xaxis": {
            "backgroundcolor": "#E5ECF6",
            "gridcolor": "white",
            "gridwidth": 2,
            "linecolor": "white",
            "showbackground": true,
            "ticks": "",
            "zerolinecolor": "white"
           },
           "yaxis": {
            "backgroundcolor": "#E5ECF6",
            "gridcolor": "white",
            "gridwidth": 2,
            "linecolor": "white",
            "showbackground": true,
            "ticks": "",
            "zerolinecolor": "white"
           },
           "zaxis": {
            "backgroundcolor": "#E5ECF6",
            "gridcolor": "white",
            "gridwidth": 2,
            "linecolor": "white",
            "showbackground": true,
            "ticks": "",
            "zerolinecolor": "white"
           }
          },
          "shapedefaults": {
           "line": {
            "color": "#2a3f5f"
           }
          },
          "ternary": {
           "aaxis": {
            "gridcolor": "white",
            "linecolor": "white",
            "ticks": ""
           },
           "baxis": {
            "gridcolor": "white",
            "linecolor": "white",
            "ticks": ""
           },
           "bgcolor": "#E5ECF6",
           "caxis": {
            "gridcolor": "white",
            "linecolor": "white",
            "ticks": ""
           }
          },
          "title": {
           "x": 0.05
          },
          "xaxis": {
           "automargin": true,
           "gridcolor": "white",
           "linecolor": "white",
           "ticks": "",
           "title": {
            "standoff": 15
           },
           "zerolinecolor": "white",
           "zerolinewidth": 2
          },
          "yaxis": {
           "automargin": true,
           "gridcolor": "white",
           "linecolor": "white",
           "ticks": "",
           "title": {
            "standoff": 15
           },
           "zerolinecolor": "white",
           "zerolinewidth": 2
          }
         }
        },
        "title": {
         "text": "Ventas y ganancias por meses (2014)",
         "x": 0.5
        },
        "xaxis": {
         "title": {
          "text": "meses"
         }
        }
       }
      },
      "text/html": [
       "<div>                            <div id=\"4b8d2ec7-3f32-4818-86ae-34608dbf6442\" class=\"plotly-graph-div\" style=\"height:525px; width:100%;\"></div>            <script type=\"text/javascript\">                require([\"plotly\"], function(Plotly) {                    window.PLOTLYENV=window.PLOTLYENV || {};                                    if (document.getElementById(\"4b8d2ec7-3f32-4818-86ae-34608dbf6442\")) {                    Plotly.newPlot(                        \"4b8d2ec7-3f32-4818-86ae-34608dbf6442\",                        [{\"marker\":{\"color\":\"red\"},\"mode\":\"lines+markers\",\"name\":\"Ventas\",\"x\":[\"January\",\"February\",\"March\",\"April\",\"May\",\"June\",\"July\",\"August\",\"September\",\"October\",\"November\",\"December\"],\"y\":[13275.131000000001,5406.528,50708.349,30388.465,22478.88,35991.6556,32990.594,30245.242000000002,73126.6533,35741.477,80182.19470000001,59848.0235],\"type\":\"scatter\"},{\"marker\":{\"color\":\"black\"},\"mode\":\"lines+markers\",\"name\":\"Ganancias\",\"x\":[\"January\",\"February\",\"March\",\"April\",\"May\",\"June\",\"July\",\"August\",\"September\",\"October\",\"November\",\"December\"],\"y\":[2424.1124999999997,866.1925,123.41219999999736,3313.2568,2636.2171,5316.865999999999,-1047.8993000000023,6161.534599999999,6835.885599999997,4567.775399999999,9415.346799999998,6680.025299999998],\"type\":\"scatter\"}],                        {\"template\":{\"data\":{\"barpolar\":[{\"marker\":{\"line\":{\"color\":\"#E5ECF6\",\"width\":0.5},\"pattern\":{\"fillmode\":\"overlay\",\"size\":10,\"solidity\":0.2}},\"type\":\"barpolar\"}],\"bar\":[{\"error_x\":{\"color\":\"#2a3f5f\"},\"error_y\":{\"color\":\"#2a3f5f\"},\"marker\":{\"line\":{\"color\":\"#E5ECF6\",\"width\":0.5},\"pattern\":{\"fillmode\":\"overlay\",\"size\":10,\"solidity\":0.2}},\"type\":\"bar\"}],\"carpet\":[{\"aaxis\":{\"endlinecolor\":\"#2a3f5f\",\"gridcolor\":\"white\",\"linecolor\":\"white\",\"minorgridcolor\":\"white\",\"startlinecolor\":\"#2a3f5f\"},\"baxis\":{\"endlinecolor\":\"#2a3f5f\",\"gridcolor\":\"white\",\"linecolor\":\"white\",\"minorgridcolor\":\"white\",\"startlinecolor\":\"#2a3f5f\"},\"type\":\"carpet\"}],\"choropleth\":[{\"colorbar\":{\"outlinewidth\":0,\"ticks\":\"\"},\"type\":\"choropleth\"}],\"contourcarpet\":[{\"colorbar\":{\"outlinewidth\":0,\"ticks\":\"\"},\"type\":\"contourcarpet\"}],\"contour\":[{\"colorbar\":{\"outlinewidth\":0,\"ticks\":\"\"},\"colorscale\":[[0.0,\"#0d0887\"],[0.1111111111111111,\"#46039f\"],[0.2222222222222222,\"#7201a8\"],[0.3333333333333333,\"#9c179e\"],[0.4444444444444444,\"#bd3786\"],[0.5555555555555556,\"#d8576b\"],[0.6666666666666666,\"#ed7953\"],[0.7777777777777778,\"#fb9f3a\"],[0.8888888888888888,\"#fdca26\"],[1.0,\"#f0f921\"]],\"type\":\"contour\"}],\"heatmapgl\":[{\"colorbar\":{\"outlinewidth\":0,\"ticks\":\"\"},\"colorscale\":[[0.0,\"#0d0887\"],[0.1111111111111111,\"#46039f\"],[0.2222222222222222,\"#7201a8\"],[0.3333333333333333,\"#9c179e\"],[0.4444444444444444,\"#bd3786\"],[0.5555555555555556,\"#d8576b\"],[0.6666666666666666,\"#ed7953\"],[0.7777777777777778,\"#fb9f3a\"],[0.8888888888888888,\"#fdca26\"],[1.0,\"#f0f921\"]],\"type\":\"heatmapgl\"}],\"heatmap\":[{\"colorbar\":{\"outlinewidth\":0,\"ticks\":\"\"},\"colorscale\":[[0.0,\"#0d0887\"],[0.1111111111111111,\"#46039f\"],[0.2222222222222222,\"#7201a8\"],[0.3333333333333333,\"#9c179e\"],[0.4444444444444444,\"#bd3786\"],[0.5555555555555556,\"#d8576b\"],[0.6666666666666666,\"#ed7953\"],[0.7777777777777778,\"#fb9f3a\"],[0.8888888888888888,\"#fdca26\"],[1.0,\"#f0f921\"]],\"type\":\"heatmap\"}],\"histogram2dcontour\":[{\"colorbar\":{\"outlinewidth\":0,\"ticks\":\"\"},\"colorscale\":[[0.0,\"#0d0887\"],[0.1111111111111111,\"#46039f\"],[0.2222222222222222,\"#7201a8\"],[0.3333333333333333,\"#9c179e\"],[0.4444444444444444,\"#bd3786\"],[0.5555555555555556,\"#d8576b\"],[0.6666666666666666,\"#ed7953\"],[0.7777777777777778,\"#fb9f3a\"],[0.8888888888888888,\"#fdca26\"],[1.0,\"#f0f921\"]],\"type\":\"histogram2dcontour\"}],\"histogram2d\":[{\"colorbar\":{\"outlinewidth\":0,\"ticks\":\"\"},\"colorscale\":[[0.0,\"#0d0887\"],[0.1111111111111111,\"#46039f\"],[0.2222222222222222,\"#7201a8\"],[0.3333333333333333,\"#9c179e\"],[0.4444444444444444,\"#bd3786\"],[0.5555555555555556,\"#d8576b\"],[0.6666666666666666,\"#ed7953\"],[0.7777777777777778,\"#fb9f3a\"],[0.8888888888888888,\"#fdca26\"],[1.0,\"#f0f921\"]],\"type\":\"histogram2d\"}],\"histogram\":[{\"marker\":{\"pattern\":{\"fillmode\":\"overlay\",\"size\":10,\"solidity\":0.2}},\"type\":\"histogram\"}],\"mesh3d\":[{\"colorbar\":{\"outlinewidth\":0,\"ticks\":\"\"},\"type\":\"mesh3d\"}],\"parcoords\":[{\"line\":{\"colorbar\":{\"outlinewidth\":0,\"ticks\":\"\"}},\"type\":\"parcoords\"}],\"pie\":[{\"automargin\":true,\"type\":\"pie\"}],\"scatter3d\":[{\"line\":{\"colorbar\":{\"outlinewidth\":0,\"ticks\":\"\"}},\"marker\":{\"colorbar\":{\"outlinewidth\":0,\"ticks\":\"\"}},\"type\":\"scatter3d\"}],\"scattercarpet\":[{\"marker\":{\"colorbar\":{\"outlinewidth\":0,\"ticks\":\"\"}},\"type\":\"scattercarpet\"}],\"scattergeo\":[{\"marker\":{\"colorbar\":{\"outlinewidth\":0,\"ticks\":\"\"}},\"type\":\"scattergeo\"}],\"scattergl\":[{\"marker\":{\"colorbar\":{\"outlinewidth\":0,\"ticks\":\"\"}},\"type\":\"scattergl\"}],\"scattermapbox\":[{\"marker\":{\"colorbar\":{\"outlinewidth\":0,\"ticks\":\"\"}},\"type\":\"scattermapbox\"}],\"scatterpolargl\":[{\"marker\":{\"colorbar\":{\"outlinewidth\":0,\"ticks\":\"\"}},\"type\":\"scatterpolargl\"}],\"scatterpolar\":[{\"marker\":{\"colorbar\":{\"outlinewidth\":0,\"ticks\":\"\"}},\"type\":\"scatterpolar\"}],\"scatter\":[{\"fillpattern\":{\"fillmode\":\"overlay\",\"size\":10,\"solidity\":0.2},\"type\":\"scatter\"}],\"scatterternary\":[{\"marker\":{\"colorbar\":{\"outlinewidth\":0,\"ticks\":\"\"}},\"type\":\"scatterternary\"}],\"surface\":[{\"colorbar\":{\"outlinewidth\":0,\"ticks\":\"\"},\"colorscale\":[[0.0,\"#0d0887\"],[0.1111111111111111,\"#46039f\"],[0.2222222222222222,\"#7201a8\"],[0.3333333333333333,\"#9c179e\"],[0.4444444444444444,\"#bd3786\"],[0.5555555555555556,\"#d8576b\"],[0.6666666666666666,\"#ed7953\"],[0.7777777777777778,\"#fb9f3a\"],[0.8888888888888888,\"#fdca26\"],[1.0,\"#f0f921\"]],\"type\":\"surface\"}],\"table\":[{\"cells\":{\"fill\":{\"color\":\"#EBF0F8\"},\"line\":{\"color\":\"white\"}},\"header\":{\"fill\":{\"color\":\"#C8D4E3\"},\"line\":{\"color\":\"white\"}},\"type\":\"table\"}]},\"layout\":{\"annotationdefaults\":{\"arrowcolor\":\"#2a3f5f\",\"arrowhead\":0,\"arrowwidth\":1},\"autotypenumbers\":\"strict\",\"coloraxis\":{\"colorbar\":{\"outlinewidth\":0,\"ticks\":\"\"}},\"colorscale\":{\"diverging\":[[0,\"#8e0152\"],[0.1,\"#c51b7d\"],[0.2,\"#de77ae\"],[0.3,\"#f1b6da\"],[0.4,\"#fde0ef\"],[0.5,\"#f7f7f7\"],[0.6,\"#e6f5d0\"],[0.7,\"#b8e186\"],[0.8,\"#7fbc41\"],[0.9,\"#4d9221\"],[1,\"#276419\"]],\"sequential\":[[0.0,\"#0d0887\"],[0.1111111111111111,\"#46039f\"],[0.2222222222222222,\"#7201a8\"],[0.3333333333333333,\"#9c179e\"],[0.4444444444444444,\"#bd3786\"],[0.5555555555555556,\"#d8576b\"],[0.6666666666666666,\"#ed7953\"],[0.7777777777777778,\"#fb9f3a\"],[0.8888888888888888,\"#fdca26\"],[1.0,\"#f0f921\"]],\"sequentialminus\":[[0.0,\"#0d0887\"],[0.1111111111111111,\"#46039f\"],[0.2222222222222222,\"#7201a8\"],[0.3333333333333333,\"#9c179e\"],[0.4444444444444444,\"#bd3786\"],[0.5555555555555556,\"#d8576b\"],[0.6666666666666666,\"#ed7953\"],[0.7777777777777778,\"#fb9f3a\"],[0.8888888888888888,\"#fdca26\"],[1.0,\"#f0f921\"]]},\"colorway\":[\"#636efa\",\"#EF553B\",\"#00cc96\",\"#ab63fa\",\"#FFA15A\",\"#19d3f3\",\"#FF6692\",\"#B6E880\",\"#FF97FF\",\"#FECB52\"],\"font\":{\"color\":\"#2a3f5f\"},\"geo\":{\"bgcolor\":\"white\",\"lakecolor\":\"white\",\"landcolor\":\"#E5ECF6\",\"showlakes\":true,\"showland\":true,\"subunitcolor\":\"white\"},\"hoverlabel\":{\"align\":\"left\"},\"hovermode\":\"closest\",\"mapbox\":{\"style\":\"light\"},\"paper_bgcolor\":\"white\",\"plot_bgcolor\":\"#E5ECF6\",\"polar\":{\"angularaxis\":{\"gridcolor\":\"white\",\"linecolor\":\"white\",\"ticks\":\"\"},\"bgcolor\":\"#E5ECF6\",\"radialaxis\":{\"gridcolor\":\"white\",\"linecolor\":\"white\",\"ticks\":\"\"}},\"scene\":{\"xaxis\":{\"backgroundcolor\":\"#E5ECF6\",\"gridcolor\":\"white\",\"gridwidth\":2,\"linecolor\":\"white\",\"showbackground\":true,\"ticks\":\"\",\"zerolinecolor\":\"white\"},\"yaxis\":{\"backgroundcolor\":\"#E5ECF6\",\"gridcolor\":\"white\",\"gridwidth\":2,\"linecolor\":\"white\",\"showbackground\":true,\"ticks\":\"\",\"zerolinecolor\":\"white\"},\"zaxis\":{\"backgroundcolor\":\"#E5ECF6\",\"gridcolor\":\"white\",\"gridwidth\":2,\"linecolor\":\"white\",\"showbackground\":true,\"ticks\":\"\",\"zerolinecolor\":\"white\"}},\"shapedefaults\":{\"line\":{\"color\":\"#2a3f5f\"}},\"ternary\":{\"aaxis\":{\"gridcolor\":\"white\",\"linecolor\":\"white\",\"ticks\":\"\"},\"baxis\":{\"gridcolor\":\"white\",\"linecolor\":\"white\",\"ticks\":\"\"},\"bgcolor\":\"#E5ECF6\",\"caxis\":{\"gridcolor\":\"white\",\"linecolor\":\"white\",\"ticks\":\"\"}},\"title\":{\"x\":0.05},\"xaxis\":{\"automargin\":true,\"gridcolor\":\"white\",\"linecolor\":\"white\",\"ticks\":\"\",\"title\":{\"standoff\":15},\"zerolinecolor\":\"white\",\"zerolinewidth\":2},\"yaxis\":{\"automargin\":true,\"gridcolor\":\"white\",\"linecolor\":\"white\",\"ticks\":\"\",\"title\":{\"standoff\":15},\"zerolinecolor\":\"white\",\"zerolinewidth\":2}}},\"title\":{\"text\":\"Ventas y ganancias por meses (2014)\",\"x\":0.5},\"xaxis\":{\"title\":{\"text\":\"meses\"}}},                        {\"responsive\": true}                    ).then(function(){\n",
       "                            \n",
       "var gd = document.getElementById('4b8d2ec7-3f32-4818-86ae-34608dbf6442');\n",
       "var x = new MutationObserver(function (mutations, observer) {{\n",
       "        var display = window.getComputedStyle(gd).display;\n",
       "        if (!display || display === 'none') {{\n",
       "            console.log([gd, 'removed!']);\n",
       "            Plotly.purge(gd);\n",
       "            observer.disconnect();\n",
       "        }}\n",
       "}});\n",
       "\n",
       "// Listen for the removal of the full notebook cells\n",
       "var notebookContainer = gd.closest('#notebook-container');\n",
       "if (notebookContainer) {{\n",
       "    x.observe(notebookContainer, {childList: true});\n",
       "}}\n",
       "\n",
       "// Listen for the clearing of the current output cell\n",
       "var outputEl = gd.closest('.output');\n",
       "if (outputEl) {{\n",
       "    x.observe(outputEl, {childList: true});\n",
       "}}\n",
       "\n",
       "                        })                };                });            </script>        </div>"
      ]
     },
     "metadata": {},
     "output_type": "display_data"
    }
   ],
   "source": [
    "#Groupby por meses\n",
    "df_14=df[df['Ship Date'].dt.year==2014]\n",
    "df_14_meses=df_14.groupby(df_14['Ship Date'].dt.month)[['Sales','Profit']].sum().reset_index()\n",
    "\n",
    "df_14_meses=df_14_meses.rename(columns={'Ship Date':'2014 months'})\n",
    "df_14_meses['2014 months']=pd.to_datetime(df_14_meses['2014 months'],format='%m').dt.strftime('%B')\n",
    "df_14_meses\n",
    "\n",
    "#Ventas por meses\n",
    "trace1=go.Scatter(\n",
    "                x=df_14_meses['2014 months'],\n",
    "                y=df_14_meses['Sales'],\n",
    "                name='Ventas',\n",
    "                mode='lines+markers',\n",
    "                marker=dict(color='red')\n",
    ")\n",
    "\n",
    "#Ganancias por meses\n",
    "trace2=go.Scatter(\n",
    "                x=df_14_meses['2014 months'],\n",
    "                y=df_14_meses['Profit'],\n",
    "                name='Ganancias',\n",
    "                mode='lines+markers',\n",
    "                marker=dict(color='black')\n",
    ")\n",
    "\n",
    "data=[trace1,trace2]\n",
    "layout=dict(title=dict(text='Ventas y ganancias por meses (2014)', x=0.5),\n",
    "            xaxis=dict(title='meses'))\n",
    "\n",
    "fig=go.Figure(data=data, layout=layout)\n",
    "iplot(fig)"
   ]
  },
  {
   "cell_type": "code",
   "execution_count": 21,
   "metadata": {},
   "outputs": [
    {
     "data": {
      "application/vnd.plotly.v1+json": {
       "config": {
        "linkText": "Export to plot.ly",
        "plotlyServerURL": "https://plot.ly",
        "showLink": false
       },
       "data": [
        {
         "marker": {
          "color": "red"
         },
         "mode": "lines+markers",
         "name": "Ventas",
         "type": "scatter",
         "x": [
          "2014-01-03T00:00:00",
          "2014-01-04T00:00:00",
          "2014-01-05T00:00:00",
          "2014-01-06T00:00:00",
          "2014-01-07T00:00:00",
          "2014-01-09T00:00:00",
          "2014-01-10T00:00:00",
          "2014-01-11T00:00:00",
          "2014-01-13T00:00:00",
          "2014-01-14T00:00:00",
          "2014-01-15T00:00:00",
          "2014-01-16T00:00:00",
          "2014-01-18T00:00:00",
          "2014-01-19T00:00:00",
          "2014-01-20T00:00:00",
          "2014-01-21T00:00:00",
          "2014-01-23T00:00:00",
          "2014-01-26T00:00:00",
          "2014-01-27T00:00:00",
          "2014-01-28T00:00:00",
          "2014-01-30T00:00:00",
          "2014-01-31T00:00:00",
          "2014-02-01T00:00:00",
          "2014-02-02T00:00:00",
          "2014-02-03T00:00:00",
          "2014-02-04T00:00:00",
          "2014-02-06T00:00:00",
          "2014-02-07T00:00:00",
          "2014-02-08T00:00:00",
          "2014-02-11T00:00:00",
          "2014-02-12T00:00:00",
          "2014-02-14T00:00:00",
          "2014-02-15T00:00:00",
          "2014-02-16T00:00:00",
          "2014-02-17T00:00:00",
          "2014-02-18T00:00:00",
          "2014-02-20T00:00:00",
          "2014-02-21T00:00:00",
          "2014-02-22T00:00:00",
          "2014-02-23T00:00:00",
          "2014-02-24T00:00:00",
          "2014-02-27T00:00:00",
          "2014-03-01T00:00:00",
          "2014-03-02T00:00:00",
          "2014-03-03T00:00:00",
          "2014-03-04T00:00:00",
          "2014-03-05T00:00:00",
          "2014-03-07T00:00:00",
          "2014-03-10T00:00:00",
          "2014-03-11T00:00:00",
          "2014-03-14T00:00:00",
          "2014-03-15T00:00:00",
          "2014-03-16T00:00:00",
          "2014-03-17T00:00:00",
          "2014-03-18T00:00:00",
          "2014-03-19T00:00:00",
          "2014-03-21T00:00:00",
          "2014-03-22T00:00:00",
          "2014-03-23T00:00:00",
          "2014-03-24T00:00:00",
          "2014-03-25T00:00:00",
          "2014-03-26T00:00:00",
          "2014-03-28T00:00:00",
          "2014-03-29T00:00:00",
          "2014-03-30T00:00:00",
          "2014-03-31T00:00:00",
          "2014-04-01T00:00:00",
          "2014-04-02T00:00:00",
          "2014-04-03T00:00:00",
          "2014-04-04T00:00:00",
          "2014-04-05T00:00:00",
          "2014-04-06T00:00:00",
          "2014-04-07T00:00:00",
          "2014-04-08T00:00:00",
          "2014-04-11T00:00:00",
          "2014-04-12T00:00:00",
          "2014-04-13T00:00:00",
          "2014-04-15T00:00:00",
          "2014-04-16T00:00:00",
          "2014-04-18T00:00:00",
          "2014-04-19T00:00:00",
          "2014-04-20T00:00:00",
          "2014-04-21T00:00:00",
          "2014-04-22T00:00:00",
          "2014-04-23T00:00:00",
          "2014-04-25T00:00:00",
          "2014-04-26T00:00:00",
          "2014-04-28T00:00:00",
          "2014-04-29T00:00:00",
          "2014-04-30T00:00:00",
          "2014-05-02T00:00:00",
          "2014-05-03T00:00:00",
          "2014-05-04T00:00:00",
          "2014-05-05T00:00:00",
          "2014-05-06T00:00:00",
          "2014-05-07T00:00:00",
          "2014-05-08T00:00:00",
          "2014-05-09T00:00:00",
          "2014-05-10T00:00:00",
          "2014-05-11T00:00:00",
          "2014-05-12T00:00:00",
          "2014-05-13T00:00:00",
          "2014-05-14T00:00:00",
          "2014-05-16T00:00:00",
          "2014-05-17T00:00:00",
          "2014-05-18T00:00:00",
          "2014-05-19T00:00:00",
          "2014-05-20T00:00:00",
          "2014-05-21T00:00:00",
          "2014-05-22T00:00:00",
          "2014-05-23T00:00:00",
          "2014-05-24T00:00:00",
          "2014-05-25T00:00:00",
          "2014-05-26T00:00:00",
          "2014-05-27T00:00:00",
          "2014-05-28T00:00:00",
          "2014-05-30T00:00:00",
          "2014-05-31T00:00:00",
          "2014-06-01T00:00:00",
          "2014-06-02T00:00:00",
          "2014-06-03T00:00:00",
          "2014-06-04T00:00:00",
          "2014-06-06T00:00:00",
          "2014-06-07T00:00:00",
          "2014-06-08T00:00:00",
          "2014-06-09T00:00:00",
          "2014-06-10T00:00:00",
          "2014-06-13T00:00:00",
          "2014-06-14T00:00:00",
          "2014-06-15T00:00:00",
          "2014-06-16T00:00:00",
          "2014-06-17T00:00:00",
          "2014-06-18T00:00:00",
          "2014-06-20T00:00:00",
          "2014-06-21T00:00:00",
          "2014-06-22T00:00:00",
          "2014-06-23T00:00:00",
          "2014-06-24T00:00:00",
          "2014-06-25T00:00:00",
          "2014-06-27T00:00:00",
          "2014-06-28T00:00:00",
          "2014-06-29T00:00:00",
          "2014-06-30T00:00:00",
          "2014-07-01T00:00:00",
          "2014-07-02T00:00:00",
          "2014-07-04T00:00:00",
          "2014-07-05T00:00:00",
          "2014-07-06T00:00:00",
          "2014-07-07T00:00:00",
          "2014-07-08T00:00:00",
          "2014-07-09T00:00:00",
          "2014-07-11T00:00:00",
          "2014-07-12T00:00:00",
          "2014-07-13T00:00:00",
          "2014-07-14T00:00:00",
          "2014-07-15T00:00:00",
          "2014-07-18T00:00:00",
          "2014-07-19T00:00:00",
          "2014-07-20T00:00:00",
          "2014-07-21T00:00:00",
          "2014-07-22T00:00:00",
          "2014-07-23T00:00:00",
          "2014-07-25T00:00:00",
          "2014-07-26T00:00:00",
          "2014-07-27T00:00:00",
          "2014-07-28T00:00:00",
          "2014-07-30T00:00:00",
          "2014-08-01T00:00:00",
          "2014-08-02T00:00:00",
          "2014-08-03T00:00:00",
          "2014-08-04T00:00:00",
          "2014-08-05T00:00:00",
          "2014-08-06T00:00:00",
          "2014-08-08T00:00:00",
          "2014-08-09T00:00:00",
          "2014-08-11T00:00:00",
          "2014-08-12T00:00:00",
          "2014-08-15T00:00:00",
          "2014-08-16T00:00:00",
          "2014-08-17T00:00:00",
          "2014-08-19T00:00:00",
          "2014-08-20T00:00:00",
          "2014-08-22T00:00:00",
          "2014-08-23T00:00:00",
          "2014-08-24T00:00:00",
          "2014-08-25T00:00:00",
          "2014-08-26T00:00:00",
          "2014-08-27T00:00:00",
          "2014-08-29T00:00:00",
          "2014-08-30T00:00:00",
          "2014-08-31T00:00:00",
          "2014-09-01T00:00:00",
          "2014-09-02T00:00:00",
          "2014-09-03T00:00:00",
          "2014-09-05T00:00:00",
          "2014-09-06T00:00:00",
          "2014-09-07T00:00:00",
          "2014-09-08T00:00:00",
          "2014-09-09T00:00:00",
          "2014-09-10T00:00:00",
          "2014-09-11T00:00:00",
          "2014-09-12T00:00:00",
          "2014-09-13T00:00:00",
          "2014-09-14T00:00:00",
          "2014-09-15T00:00:00",
          "2014-09-16T00:00:00",
          "2014-09-17T00:00:00",
          "2014-09-19T00:00:00",
          "2014-09-20T00:00:00",
          "2014-09-21T00:00:00",
          "2014-09-22T00:00:00",
          "2014-09-23T00:00:00",
          "2014-09-24T00:00:00",
          "2014-09-25T00:00:00",
          "2014-09-26T00:00:00",
          "2014-09-27T00:00:00",
          "2014-09-28T00:00:00",
          "2014-09-29T00:00:00",
          "2014-09-30T00:00:00",
          "2014-10-01T00:00:00",
          "2014-10-02T00:00:00",
          "2014-10-03T00:00:00",
          "2014-10-04T00:00:00",
          "2014-10-05T00:00:00",
          "2014-10-06T00:00:00",
          "2014-10-07T00:00:00",
          "2014-10-08T00:00:00",
          "2014-10-09T00:00:00",
          "2014-10-10T00:00:00",
          "2014-10-11T00:00:00",
          "2014-10-12T00:00:00",
          "2014-10-13T00:00:00",
          "2014-10-14T00:00:00",
          "2014-10-15T00:00:00",
          "2014-10-16T00:00:00",
          "2014-10-17T00:00:00",
          "2014-10-18T00:00:00",
          "2014-10-19T00:00:00",
          "2014-10-20T00:00:00",
          "2014-10-21T00:00:00",
          "2014-10-22T00:00:00",
          "2014-10-24T00:00:00",
          "2014-10-25T00:00:00",
          "2014-10-26T00:00:00",
          "2014-10-27T00:00:00",
          "2014-10-28T00:00:00",
          "2014-10-29T00:00:00",
          "2014-10-31T00:00:00",
          "2014-11-01T00:00:00",
          "2014-11-02T00:00:00",
          "2014-11-03T00:00:00",
          "2014-11-04T00:00:00",
          "2014-11-05T00:00:00",
          "2014-11-06T00:00:00",
          "2014-11-07T00:00:00",
          "2014-11-08T00:00:00",
          "2014-11-09T00:00:00",
          "2014-11-10T00:00:00",
          "2014-11-11T00:00:00",
          "2014-11-12T00:00:00",
          "2014-11-14T00:00:00",
          "2014-11-15T00:00:00",
          "2014-11-16T00:00:00",
          "2014-11-17T00:00:00",
          "2014-11-18T00:00:00",
          "2014-11-19T00:00:00",
          "2014-11-20T00:00:00",
          "2014-11-21T00:00:00",
          "2014-11-22T00:00:00",
          "2014-11-23T00:00:00",
          "2014-11-24T00:00:00",
          "2014-11-25T00:00:00",
          "2014-11-26T00:00:00",
          "2014-11-27T00:00:00",
          "2014-11-28T00:00:00",
          "2014-11-29T00:00:00",
          "2014-11-30T00:00:00",
          "2014-12-01T00:00:00",
          "2014-12-02T00:00:00",
          "2014-12-03T00:00:00",
          "2014-12-04T00:00:00",
          "2014-12-05T00:00:00",
          "2014-12-06T00:00:00",
          "2014-12-07T00:00:00",
          "2014-12-08T00:00:00",
          "2014-12-09T00:00:00",
          "2014-12-10T00:00:00",
          "2014-12-12T00:00:00",
          "2014-12-13T00:00:00",
          "2014-12-14T00:00:00",
          "2014-12-15T00:00:00",
          "2014-12-16T00:00:00",
          "2014-12-17T00:00:00",
          "2014-12-19T00:00:00",
          "2014-12-20T00:00:00",
          "2014-12-21T00:00:00",
          "2014-12-22T00:00:00",
          "2014-12-23T00:00:00",
          "2014-12-24T00:00:00",
          "2014-12-26T00:00:00",
          "2014-12-27T00:00:00",
          "2014-12-28T00:00:00",
          "2014-12-29T00:00:00",
          "2014-12-30T00:00:00",
          "2014-12-31T00:00:00"
         ],
         "y": [
          16.448,
          288.06,
          19.536,
          4407.1,
          87.158,
          40.544000000000004,
          54.83,
          9.94,
          3553.795,
          61.96,
          149.95,
          299.964,
          64.864,
          378.59400000000005,
          2673.87,
          25.248,
          46.019999999999996,
          1097.25,
          426.67,
          3.9280000000000004,
          240.5,
          290.666,
          468.90000000000003,
          211.64600000000002,
          97.11200000000001,
          134.38400000000001,
          330.512,
          180.32,
          14.56,
          2043.4,
          129.568,
          576.7259999999999,
          21.36,
          9.039999999999997,
          54.208,
          37.784,
          95.59,
          8.849999999999998,
          19.44,
          11.364,
          55.672000000000004,
          19.456000000000003,
          2203.151,
          202.38400000000001,
          1345.892,
          370.45200000000006,
          705.562,
          1561.0620000000001,
          741.9560000000001,
          918.314,
          2108.55,
          370.78200000000004,
          471.92,
          3960.358,
          28106.716,
          590.7620000000001,
          4109.816000000001,
          464.09299999999996,
          945.064,
          65.38,
          459.146,
          145.13000000000002,
          1823.8039999999999,
          890.8409999999999,
          1170.3220000000001,
          1959.552,
          119.88799999999999,
          1458.558,
          233.45,
          475.844,
          5295.098,
          1650.6899999999998,
          1021.17,
          1958.75,
          1915.24,
          1912.123,
          638.576,
          294.71999999999997,
          39.072,
          1020.532,
          205.47,
          1250.45,
          845.3599999999999,
          257.752,
          643.9799999999999,
          2379.9939999999997,
          282.56800000000004,
          2578.476,
          768.844,
          1048.74,
          506.12000000000006,
          72.632,
          187.432,
          260.977,
          254.456,
          1091.35,
          1799.9699999999998,
          394.48,
          2343.799,
          1642.8019999999997,
          734.846,
          898.3820000000001,
          310.88000000000005,
          289.28,
          91.67999999999999,
          948.9480000000001,
          91.62,
          320.10400000000004,
          4264.328,
          180.93,
          323.75800000000004,
          116.28,
          119.53999999999998,
          1325.718,
          2157.394,
          221.96800000000002,
          1924.913,
          773.7,
          5188.52,
          738.598,
          741.336,
          456.272,
          1374.0010000000002,
          281.397,
          2501.264,
          5463.008000000001,
          491.55,
          14.52,
          212.94,
          942.9739999999999,
          763.792,
          3418.5020000000004,
          139.8,
          1828.9496000000001,
          4107.443,
          1975.498,
          109.49600000000001,
          4.272,
          792.76,
          616.14,
          1645.791,
          46.67999999999999,
          739.624,
          601.0239999999999,
          79.56,
          247.40800000000002,
          1444.104,
          1038.4720000000002,
          241.194,
          763.0740000000001,
          265.521,
          2187.206,
          1960.0120000000002,
          351.216,
          292.594,
          9.510000000000002,
          273.04,
          461.326,
          2285.786,
          1961.482,
          1348.344,
          2613.184,
          8341.289999999999,
          5039.994,
          580.06,
          193.152,
          1367.84,
          228.32800000000003,
          886.28,
          477.994,
          2743.154,
          2408.7239999999997,
          262.89,
          3955.629,
          3605.6850000000004,
          451.62,
          1832.38,
          842.7819999999999,
          853.0919999999999,
          500.342,
          1439.1060000000002,
          1838.722,
          23.104000000000003,
          565.224,
          59.74,
          1451.65,
          366.81,
          2070.13,
          832.3225000000001,
          121.24,
          92.52,
          469.43600000000004,
          3254.15,
          22.08,
          296.304,
          100.36,
          3523.875,
          14228.427999999998,
          4043.5879999999997,
          1855.2279999999998,
          127.94999999999999,
          4904.66,
          1275.408,
          5023.716,
          133.436,
          33.552,
          820.523,
          9338.636999999999,
          5335.968,
          2679.652,
          1240.266,
          10662.337000000001,
          211.96,
          354.8888,
          1480.614,
          773.4399999999999,
          490.29200000000003,
          8109.07,
          987.5320000000002,
          4.71,
          598.144,
          862.683,
          728.748,
          191.9,
          494.71,
          237.35999999999999,
          147.392,
          249.36,
          2049.3860000000004,
          1381.164,
          58.53,
          2212.182,
          4525.484,
          206.724,
          194.322,
          136.068,
          3134.916,
          641.104,
          1501.1040000000003,
          1356.602,
          223.808,
          56.49,
          103.882,
          447.88000000000005,
          22.320000000000004,
          1510.5819999999999,
          2813.8120000000004,
          5362.026,
          4732.08,
          2126.37,
          2784.163,
          6693.7480000000005,
          1694.564,
          43.68,
          1449.1419999999998,
          333.576,
          1574.094,
          2002.5559999999998,
          8114.548,
          1054.7612000000001,
          1034.73,
          1780.8220000000001,
          1355.9285,
          11544.274000000001,
          3406.855,
          7226.086,
          907.5600000000001,
          1249.6219999999998,
          1103.298,
          1363.28,
          5578.606,
          4415.695,
          1705.99,
          203.65999999999997,
          2280.83,
          649.044,
          219.15400000000002,
          5624.39,
          1771.808,
          505.88,
          129.98,
          2963.6420000000003,
          1970.978,
          548.3999999999999,
          1095.12,
          1522.652,
          573.336,
          4938.4045,
          293.152,
          7641.658,
          1264.466,
          4394.187000000001,
          45.534,
          3436.76,
          6962.4400000000005,
          1933.44,
          798.9680000000001,
          942.1080000000001,
          1950.2020000000002,
          2041.414,
          2966.3880000000004,
          3732.296,
          2072.096,
          2172.6510000000003,
          5253.2699999999995
         ]
        },
        {
         "marker": {
          "color": "black"
         },
         "mode": "lines+markers",
         "name": "Ganancias",
         "type": "scatter",
         "x": [
          "2014-01-03T00:00:00",
          "2014-01-04T00:00:00",
          "2014-01-05T00:00:00",
          "2014-01-06T00:00:00",
          "2014-01-07T00:00:00",
          "2014-01-09T00:00:00",
          "2014-01-10T00:00:00",
          "2014-01-11T00:00:00",
          "2014-01-13T00:00:00",
          "2014-01-14T00:00:00",
          "2014-01-15T00:00:00",
          "2014-01-16T00:00:00",
          "2014-01-18T00:00:00",
          "2014-01-19T00:00:00",
          "2014-01-20T00:00:00",
          "2014-01-21T00:00:00",
          "2014-01-23T00:00:00",
          "2014-01-26T00:00:00",
          "2014-01-27T00:00:00",
          "2014-01-28T00:00:00",
          "2014-01-30T00:00:00",
          "2014-01-31T00:00:00",
          "2014-02-01T00:00:00",
          "2014-02-02T00:00:00",
          "2014-02-03T00:00:00",
          "2014-02-04T00:00:00",
          "2014-02-06T00:00:00",
          "2014-02-07T00:00:00",
          "2014-02-08T00:00:00",
          "2014-02-11T00:00:00",
          "2014-02-12T00:00:00",
          "2014-02-14T00:00:00",
          "2014-02-15T00:00:00",
          "2014-02-16T00:00:00",
          "2014-02-17T00:00:00",
          "2014-02-18T00:00:00",
          "2014-02-20T00:00:00",
          "2014-02-21T00:00:00",
          "2014-02-22T00:00:00",
          "2014-02-23T00:00:00",
          "2014-02-24T00:00:00",
          "2014-02-27T00:00:00",
          "2014-03-01T00:00:00",
          "2014-03-02T00:00:00",
          "2014-03-03T00:00:00",
          "2014-03-04T00:00:00",
          "2014-03-05T00:00:00",
          "2014-03-07T00:00:00",
          "2014-03-10T00:00:00",
          "2014-03-11T00:00:00",
          "2014-03-14T00:00:00",
          "2014-03-15T00:00:00",
          "2014-03-16T00:00:00",
          "2014-03-17T00:00:00",
          "2014-03-18T00:00:00",
          "2014-03-19T00:00:00",
          "2014-03-21T00:00:00",
          "2014-03-22T00:00:00",
          "2014-03-23T00:00:00",
          "2014-03-24T00:00:00",
          "2014-03-25T00:00:00",
          "2014-03-26T00:00:00",
          "2014-03-28T00:00:00",
          "2014-03-29T00:00:00",
          "2014-03-30T00:00:00",
          "2014-03-31T00:00:00",
          "2014-04-01T00:00:00",
          "2014-04-02T00:00:00",
          "2014-04-03T00:00:00",
          "2014-04-04T00:00:00",
          "2014-04-05T00:00:00",
          "2014-04-06T00:00:00",
          "2014-04-07T00:00:00",
          "2014-04-08T00:00:00",
          "2014-04-11T00:00:00",
          "2014-04-12T00:00:00",
          "2014-04-13T00:00:00",
          "2014-04-15T00:00:00",
          "2014-04-16T00:00:00",
          "2014-04-18T00:00:00",
          "2014-04-19T00:00:00",
          "2014-04-20T00:00:00",
          "2014-04-21T00:00:00",
          "2014-04-22T00:00:00",
          "2014-04-23T00:00:00",
          "2014-04-25T00:00:00",
          "2014-04-26T00:00:00",
          "2014-04-28T00:00:00",
          "2014-04-29T00:00:00",
          "2014-04-30T00:00:00",
          "2014-05-02T00:00:00",
          "2014-05-03T00:00:00",
          "2014-05-04T00:00:00",
          "2014-05-05T00:00:00",
          "2014-05-06T00:00:00",
          "2014-05-07T00:00:00",
          "2014-05-08T00:00:00",
          "2014-05-09T00:00:00",
          "2014-05-10T00:00:00",
          "2014-05-11T00:00:00",
          "2014-05-12T00:00:00",
          "2014-05-13T00:00:00",
          "2014-05-14T00:00:00",
          "2014-05-16T00:00:00",
          "2014-05-17T00:00:00",
          "2014-05-18T00:00:00",
          "2014-05-19T00:00:00",
          "2014-05-20T00:00:00",
          "2014-05-21T00:00:00",
          "2014-05-22T00:00:00",
          "2014-05-23T00:00:00",
          "2014-05-24T00:00:00",
          "2014-05-25T00:00:00",
          "2014-05-26T00:00:00",
          "2014-05-27T00:00:00",
          "2014-05-28T00:00:00",
          "2014-05-30T00:00:00",
          "2014-05-31T00:00:00",
          "2014-06-01T00:00:00",
          "2014-06-02T00:00:00",
          "2014-06-03T00:00:00",
          "2014-06-04T00:00:00",
          "2014-06-06T00:00:00",
          "2014-06-07T00:00:00",
          "2014-06-08T00:00:00",
          "2014-06-09T00:00:00",
          "2014-06-10T00:00:00",
          "2014-06-13T00:00:00",
          "2014-06-14T00:00:00",
          "2014-06-15T00:00:00",
          "2014-06-16T00:00:00",
          "2014-06-17T00:00:00",
          "2014-06-18T00:00:00",
          "2014-06-20T00:00:00",
          "2014-06-21T00:00:00",
          "2014-06-22T00:00:00",
          "2014-06-23T00:00:00",
          "2014-06-24T00:00:00",
          "2014-06-25T00:00:00",
          "2014-06-27T00:00:00",
          "2014-06-28T00:00:00",
          "2014-06-29T00:00:00",
          "2014-06-30T00:00:00",
          "2014-07-01T00:00:00",
          "2014-07-02T00:00:00",
          "2014-07-04T00:00:00",
          "2014-07-05T00:00:00",
          "2014-07-06T00:00:00",
          "2014-07-07T00:00:00",
          "2014-07-08T00:00:00",
          "2014-07-09T00:00:00",
          "2014-07-11T00:00:00",
          "2014-07-12T00:00:00",
          "2014-07-13T00:00:00",
          "2014-07-14T00:00:00",
          "2014-07-15T00:00:00",
          "2014-07-18T00:00:00",
          "2014-07-19T00:00:00",
          "2014-07-20T00:00:00",
          "2014-07-21T00:00:00",
          "2014-07-22T00:00:00",
          "2014-07-23T00:00:00",
          "2014-07-25T00:00:00",
          "2014-07-26T00:00:00",
          "2014-07-27T00:00:00",
          "2014-07-28T00:00:00",
          "2014-07-30T00:00:00",
          "2014-08-01T00:00:00",
          "2014-08-02T00:00:00",
          "2014-08-03T00:00:00",
          "2014-08-04T00:00:00",
          "2014-08-05T00:00:00",
          "2014-08-06T00:00:00",
          "2014-08-08T00:00:00",
          "2014-08-09T00:00:00",
          "2014-08-11T00:00:00",
          "2014-08-12T00:00:00",
          "2014-08-15T00:00:00",
          "2014-08-16T00:00:00",
          "2014-08-17T00:00:00",
          "2014-08-19T00:00:00",
          "2014-08-20T00:00:00",
          "2014-08-22T00:00:00",
          "2014-08-23T00:00:00",
          "2014-08-24T00:00:00",
          "2014-08-25T00:00:00",
          "2014-08-26T00:00:00",
          "2014-08-27T00:00:00",
          "2014-08-29T00:00:00",
          "2014-08-30T00:00:00",
          "2014-08-31T00:00:00",
          "2014-09-01T00:00:00",
          "2014-09-02T00:00:00",
          "2014-09-03T00:00:00",
          "2014-09-05T00:00:00",
          "2014-09-06T00:00:00",
          "2014-09-07T00:00:00",
          "2014-09-08T00:00:00",
          "2014-09-09T00:00:00",
          "2014-09-10T00:00:00",
          "2014-09-11T00:00:00",
          "2014-09-12T00:00:00",
          "2014-09-13T00:00:00",
          "2014-09-14T00:00:00",
          "2014-09-15T00:00:00",
          "2014-09-16T00:00:00",
          "2014-09-17T00:00:00",
          "2014-09-19T00:00:00",
          "2014-09-20T00:00:00",
          "2014-09-21T00:00:00",
          "2014-09-22T00:00:00",
          "2014-09-23T00:00:00",
          "2014-09-24T00:00:00",
          "2014-09-25T00:00:00",
          "2014-09-26T00:00:00",
          "2014-09-27T00:00:00",
          "2014-09-28T00:00:00",
          "2014-09-29T00:00:00",
          "2014-09-30T00:00:00",
          "2014-10-01T00:00:00",
          "2014-10-02T00:00:00",
          "2014-10-03T00:00:00",
          "2014-10-04T00:00:00",
          "2014-10-05T00:00:00",
          "2014-10-06T00:00:00",
          "2014-10-07T00:00:00",
          "2014-10-08T00:00:00",
          "2014-10-09T00:00:00",
          "2014-10-10T00:00:00",
          "2014-10-11T00:00:00",
          "2014-10-12T00:00:00",
          "2014-10-13T00:00:00",
          "2014-10-14T00:00:00",
          "2014-10-15T00:00:00",
          "2014-10-16T00:00:00",
          "2014-10-17T00:00:00",
          "2014-10-18T00:00:00",
          "2014-10-19T00:00:00",
          "2014-10-20T00:00:00",
          "2014-10-21T00:00:00",
          "2014-10-22T00:00:00",
          "2014-10-24T00:00:00",
          "2014-10-25T00:00:00",
          "2014-10-26T00:00:00",
          "2014-10-27T00:00:00",
          "2014-10-28T00:00:00",
          "2014-10-29T00:00:00",
          "2014-10-31T00:00:00",
          "2014-11-01T00:00:00",
          "2014-11-02T00:00:00",
          "2014-11-03T00:00:00",
          "2014-11-04T00:00:00",
          "2014-11-05T00:00:00",
          "2014-11-06T00:00:00",
          "2014-11-07T00:00:00",
          "2014-11-08T00:00:00",
          "2014-11-09T00:00:00",
          "2014-11-10T00:00:00",
          "2014-11-11T00:00:00",
          "2014-11-12T00:00:00",
          "2014-11-14T00:00:00",
          "2014-11-15T00:00:00",
          "2014-11-16T00:00:00",
          "2014-11-17T00:00:00",
          "2014-11-18T00:00:00",
          "2014-11-19T00:00:00",
          "2014-11-20T00:00:00",
          "2014-11-21T00:00:00",
          "2014-11-22T00:00:00",
          "2014-11-23T00:00:00",
          "2014-11-24T00:00:00",
          "2014-11-25T00:00:00",
          "2014-11-26T00:00:00",
          "2014-11-27T00:00:00",
          "2014-11-28T00:00:00",
          "2014-11-29T00:00:00",
          "2014-11-30T00:00:00",
          "2014-12-01T00:00:00",
          "2014-12-02T00:00:00",
          "2014-12-03T00:00:00",
          "2014-12-04T00:00:00",
          "2014-12-05T00:00:00",
          "2014-12-06T00:00:00",
          "2014-12-07T00:00:00",
          "2014-12-08T00:00:00",
          "2014-12-09T00:00:00",
          "2014-12-10T00:00:00",
          "2014-12-12T00:00:00",
          "2014-12-13T00:00:00",
          "2014-12-14T00:00:00",
          "2014-12-15T00:00:00",
          "2014-12-16T00:00:00",
          "2014-12-17T00:00:00",
          "2014-12-19T00:00:00",
          "2014-12-20T00:00:00",
          "2014-12-21T00:00:00",
          "2014-12-22T00:00:00",
          "2014-12-23T00:00:00",
          "2014-12-24T00:00:00",
          "2014-12-26T00:00:00",
          "2014-12-27T00:00:00",
          "2014-12-28T00:00:00",
          "2014-12-29T00:00:00",
          "2014-12-30T00:00:00",
          "2014-12-31T00:00:00"
         ],
         "y": [
          5.551199999999998,
          -65.99010000000001,
          4.884,
          1358.0523999999998,
          -71.96209999999999,
          10.917999999999996,
          22.6537,
          3.0813999999999995,
          673.6385999999999,
          -53.28560000000001,
          65.97800000000001,
          -5.933500000000016,
          6.486400000000003,
          -287.9976,
          584.3694999999999,
          4.102799999999999,
          19.2384,
          150.327,
          9.682700000000004,
          1.3256999999999999,
          11.650200000000002,
          3.4195999999999884,
          206.31600000000006,
          7.152499999999995,
          31.5614,
          51.1432,
          76.48329999999999,
          59.34880000000001,
          5.5328,
          293.52849999999995,
          -24.29400000000002,
          120.1764,
          7.209,
          -15.658000000000003,
          8.808799999999998,
          -13.846800000000002,
          35.5612,
          -13.717499999999998,
          9.3312,
          -4.522499999999998,
          18.789299999999997,
          3.404799999999998,
          -208.96140000000014,
          56.0112,
          -629.7989000000001,
          20.07779999999996,
          261.19010000000003,
          134.1538999999999,
          4.188599999999905,
          279.06100000000004,
          528.5024,
          33.59799999999998,
          29.49500000000002,
          -831.8571999999998,
          -954.7089000000022,
          68.63529999999997,
          1055.3735000000001,
          -50.93450000000001,
          126.92240000000002,
          26.275799999999997,
          96.6684,
          30.7658,
          -11.075399999999945,
          -152.7156,
          232.75289999999998,
          355.1097000000001,
          26.089599999999997,
          407.3962,
          85.6044,
          105.45209999999999,
          253.90440000000007,
          299.51519999999994,
          305.05600000000004,
          359.84810000000004,
          523.2729,
          152.65809999999996,
          -384.79419999999993,
          107.99999999999999,
          9.768,
          169.9373999999999,
          87.5664,
          -194.45280000000008,
          5.5755,
          124.78689999999999,
          -0.3052999999999848,
          332.86710000000005,
          40.74499999999999,
          292.1672000000001,
          101.68139999999991,
          276.49559999999997,
          91.95719999999999,
          28.862399999999994,
          58.5624,
          34.51309999999998,
          85.7158,
          215.8138,
          239.9960000000001,
          95.1736,
          57.82600000000002,
          -289.6088,
          -119.22550000000001,
          -242.28369999999993,
          23.31599999999999,
          20.85000000000001,
          45.839999999999996,
          -158.00399999999996,
          35.6472,
          62.05810000000001,
          1719.5087,
          46.581,
          58.050200000000004,
          56.977199999999996,
          -183.78380000000004,
          130.50859999999997,
          111.54079999999993,
          59.30879999999999,
          222.03579999999988,
          230.97269999999995,
          1576.7508999999998,
          218.36079999999995,
          96.1086,
          -6.493200000000024,
          -265.2367000000001,
          -230.33159999999998,
          193.3649999999999,
          629.0288999999998,
          240.8595,
          4.7916,
          57.4938,
          -78.241,
          76.68759999999993,
          1126.6297,
          12.232500000000009,
          -62.9594,
          849.4221,
          40.21470000000001,
          3.180299999999999,
          0.9611999999999998,
          49.71719999999997,
          76.10520000000002,
          109.762,
          8.557499999999997,
          249.55719999999997,
          75.33319999999998,
          22.150800000000004,
          83.94479999999999,
          182.79359999999997,
          222.8455,
          -34.65980000000001,
          -8.442000000000064,
          57.20779999999999,
          537.7298,
          88.45439999999992,
          4.390199999999979,
          -31.10140000000002,
          3.988200000000001,
          -21.39479999999999,
          103.20620000000002,
          162.1880999999999,
          34.12600000000003,
          229.8348,
          267.48439999999994,
          384.50839999999965,
          -3570.9710000000014,
          70.31220000000002,
          34.69839999999999,
          259.8896,
          66.475,
          248.02760000000004,
          -76.7149,
          833.4829000000001,
          504.1059000000001,
          106.6392,
          1129.1342,
          700.8937999999999,
          45.6444,
          357.593,
          118.18259999999995,
          -227.49120000000016,
          193.18359999999996,
          175.4619,
          569.8904999999999,
          4.8787,
          160.40159999999997,
          20.1332,
          118.8423,
          92.0889,
          513.7322999999999,
          -376.46949999999987,
          21.485,
          18.50399999999999,
          85.9402,
          916.2511999999999,
          -4.4639999999999995,
          21.822999999999997,
          39.630799999999994,
          -481.24629999999996,
          -1452.6877000000025,
          16.36159999999986,
          259.62080000000003,
          21.751499999999986,
          600.8836000000001,
          243.82370000000003,
          1530.7599,
          30.1722,
          12.581999999999999,
          233.5287,
          -1539.1441000000011,
          670.1013999999998,
          877.4457,
          87.47569999999996,
          4808.597500000001,
          8.478399999999993,
          -87.55940000000002,
          230.7266,
          123.10640000000001,
          64.36859999999997,
          890.2808999999997,
          119.49049999999998,
          0,
          133.76319999999998,
          -65.42790000000007,
          45.07089999999994,
          46.48299999999999,
          50.0395,
          31.85600000000001,
          60.751799999999996,
          70.00429999999997,
          169.9526,
          110.6137999999999,
          12.877099999999997,
          454.10329999999993,
          1059.3592,
          -0.9321000000000002,
          91.40880000000001,
          -36.83800000000003,
          606.1101999999998,
          124.54770000000002,
          -65.98380000000006,
          26.062299999999915,
          23.303199999999983,
          18.559199999999997,
          9.4491,
          41.59200000000001,
          7.6626,
          93.42820000000003,
          378.5485999999997,
          -48.10750000000027,
          663.3640999999997,
          286.57539999999995,
          -108.22130000000008,
          2443.392,
          -61.61160000000002,
          20.9664,
          155.48629999999997,
          25.018199999999993,
          222.6885999999999,
          436.63309999999996,
          -449.53110000000095,
          79.63399999999994,
          308.9068,
          400.0780999999999,
          137.55819999999994,
          1954.1345999999996,
          -347.52270000000004,
          1979.1982000000003,
          251.172,
          378.1698999999999,
          461.8921,
          -105.23840000000004,
          -97.3574000000001,
          148.62719999999993,
          -62.16120000000004,
          41.29599999999999,
          12.473199999999885,
          104.67719999999998,
          11.828999999999994,
          875.1448000000001,
          111.37489999999994,
          146.8304,
          62.3904,
          425.0407999999999,
          -19.019000000000013,
          201.7832,
          125.92729999999999,
          125.75129999999989,
          101.14259999999996,
          -72.10080000000005,
          8.731400000000015,
          2220.5214999999994,
          -144.73200000000003,
          415.6423999999999,
          7.192399999999999,
          356.9568999999999,
          1557.0101999999997,
          178.26479999999987,
          183.12109999999998,
          67.37939999999995,
          264.30799999999994,
          -3.5974000000001185,
          -336.3251,
          706.8573999999998,
          568.0095,
          -594.5496000000003,
          1444.5131
         ]
        }
       ],
       "layout": {
        "template": {
         "data": {
          "bar": [
           {
            "error_x": {
             "color": "#2a3f5f"
            },
            "error_y": {
             "color": "#2a3f5f"
            },
            "marker": {
             "line": {
              "color": "#E5ECF6",
              "width": 0.5
             },
             "pattern": {
              "fillmode": "overlay",
              "size": 10,
              "solidity": 0.2
             }
            },
            "type": "bar"
           }
          ],
          "barpolar": [
           {
            "marker": {
             "line": {
              "color": "#E5ECF6",
              "width": 0.5
             },
             "pattern": {
              "fillmode": "overlay",
              "size": 10,
              "solidity": 0.2
             }
            },
            "type": "barpolar"
           }
          ],
          "carpet": [
           {
            "aaxis": {
             "endlinecolor": "#2a3f5f",
             "gridcolor": "white",
             "linecolor": "white",
             "minorgridcolor": "white",
             "startlinecolor": "#2a3f5f"
            },
            "baxis": {
             "endlinecolor": "#2a3f5f",
             "gridcolor": "white",
             "linecolor": "white",
             "minorgridcolor": "white",
             "startlinecolor": "#2a3f5f"
            },
            "type": "carpet"
           }
          ],
          "choropleth": [
           {
            "colorbar": {
             "outlinewidth": 0,
             "ticks": ""
            },
            "type": "choropleth"
           }
          ],
          "contour": [
           {
            "colorbar": {
             "outlinewidth": 0,
             "ticks": ""
            },
            "colorscale": [
             [
              0,
              "#0d0887"
             ],
             [
              0.1111111111111111,
              "#46039f"
             ],
             [
              0.2222222222222222,
              "#7201a8"
             ],
             [
              0.3333333333333333,
              "#9c179e"
             ],
             [
              0.4444444444444444,
              "#bd3786"
             ],
             [
              0.5555555555555556,
              "#d8576b"
             ],
             [
              0.6666666666666666,
              "#ed7953"
             ],
             [
              0.7777777777777778,
              "#fb9f3a"
             ],
             [
              0.8888888888888888,
              "#fdca26"
             ],
             [
              1,
              "#f0f921"
             ]
            ],
            "type": "contour"
           }
          ],
          "contourcarpet": [
           {
            "colorbar": {
             "outlinewidth": 0,
             "ticks": ""
            },
            "type": "contourcarpet"
           }
          ],
          "heatmap": [
           {
            "colorbar": {
             "outlinewidth": 0,
             "ticks": ""
            },
            "colorscale": [
             [
              0,
              "#0d0887"
             ],
             [
              0.1111111111111111,
              "#46039f"
             ],
             [
              0.2222222222222222,
              "#7201a8"
             ],
             [
              0.3333333333333333,
              "#9c179e"
             ],
             [
              0.4444444444444444,
              "#bd3786"
             ],
             [
              0.5555555555555556,
              "#d8576b"
             ],
             [
              0.6666666666666666,
              "#ed7953"
             ],
             [
              0.7777777777777778,
              "#fb9f3a"
             ],
             [
              0.8888888888888888,
              "#fdca26"
             ],
             [
              1,
              "#f0f921"
             ]
            ],
            "type": "heatmap"
           }
          ],
          "heatmapgl": [
           {
            "colorbar": {
             "outlinewidth": 0,
             "ticks": ""
            },
            "colorscale": [
             [
              0,
              "#0d0887"
             ],
             [
              0.1111111111111111,
              "#46039f"
             ],
             [
              0.2222222222222222,
              "#7201a8"
             ],
             [
              0.3333333333333333,
              "#9c179e"
             ],
             [
              0.4444444444444444,
              "#bd3786"
             ],
             [
              0.5555555555555556,
              "#d8576b"
             ],
             [
              0.6666666666666666,
              "#ed7953"
             ],
             [
              0.7777777777777778,
              "#fb9f3a"
             ],
             [
              0.8888888888888888,
              "#fdca26"
             ],
             [
              1,
              "#f0f921"
             ]
            ],
            "type": "heatmapgl"
           }
          ],
          "histogram": [
           {
            "marker": {
             "pattern": {
              "fillmode": "overlay",
              "size": 10,
              "solidity": 0.2
             }
            },
            "type": "histogram"
           }
          ],
          "histogram2d": [
           {
            "colorbar": {
             "outlinewidth": 0,
             "ticks": ""
            },
            "colorscale": [
             [
              0,
              "#0d0887"
             ],
             [
              0.1111111111111111,
              "#46039f"
             ],
             [
              0.2222222222222222,
              "#7201a8"
             ],
             [
              0.3333333333333333,
              "#9c179e"
             ],
             [
              0.4444444444444444,
              "#bd3786"
             ],
             [
              0.5555555555555556,
              "#d8576b"
             ],
             [
              0.6666666666666666,
              "#ed7953"
             ],
             [
              0.7777777777777778,
              "#fb9f3a"
             ],
             [
              0.8888888888888888,
              "#fdca26"
             ],
             [
              1,
              "#f0f921"
             ]
            ],
            "type": "histogram2d"
           }
          ],
          "histogram2dcontour": [
           {
            "colorbar": {
             "outlinewidth": 0,
             "ticks": ""
            },
            "colorscale": [
             [
              0,
              "#0d0887"
             ],
             [
              0.1111111111111111,
              "#46039f"
             ],
             [
              0.2222222222222222,
              "#7201a8"
             ],
             [
              0.3333333333333333,
              "#9c179e"
             ],
             [
              0.4444444444444444,
              "#bd3786"
             ],
             [
              0.5555555555555556,
              "#d8576b"
             ],
             [
              0.6666666666666666,
              "#ed7953"
             ],
             [
              0.7777777777777778,
              "#fb9f3a"
             ],
             [
              0.8888888888888888,
              "#fdca26"
             ],
             [
              1,
              "#f0f921"
             ]
            ],
            "type": "histogram2dcontour"
           }
          ],
          "mesh3d": [
           {
            "colorbar": {
             "outlinewidth": 0,
             "ticks": ""
            },
            "type": "mesh3d"
           }
          ],
          "parcoords": [
           {
            "line": {
             "colorbar": {
              "outlinewidth": 0,
              "ticks": ""
             }
            },
            "type": "parcoords"
           }
          ],
          "pie": [
           {
            "automargin": true,
            "type": "pie"
           }
          ],
          "scatter": [
           {
            "fillpattern": {
             "fillmode": "overlay",
             "size": 10,
             "solidity": 0.2
            },
            "type": "scatter"
           }
          ],
          "scatter3d": [
           {
            "line": {
             "colorbar": {
              "outlinewidth": 0,
              "ticks": ""
             }
            },
            "marker": {
             "colorbar": {
              "outlinewidth": 0,
              "ticks": ""
             }
            },
            "type": "scatter3d"
           }
          ],
          "scattercarpet": [
           {
            "marker": {
             "colorbar": {
              "outlinewidth": 0,
              "ticks": ""
             }
            },
            "type": "scattercarpet"
           }
          ],
          "scattergeo": [
           {
            "marker": {
             "colorbar": {
              "outlinewidth": 0,
              "ticks": ""
             }
            },
            "type": "scattergeo"
           }
          ],
          "scattergl": [
           {
            "marker": {
             "colorbar": {
              "outlinewidth": 0,
              "ticks": ""
             }
            },
            "type": "scattergl"
           }
          ],
          "scattermapbox": [
           {
            "marker": {
             "colorbar": {
              "outlinewidth": 0,
              "ticks": ""
             }
            },
            "type": "scattermapbox"
           }
          ],
          "scatterpolar": [
           {
            "marker": {
             "colorbar": {
              "outlinewidth": 0,
              "ticks": ""
             }
            },
            "type": "scatterpolar"
           }
          ],
          "scatterpolargl": [
           {
            "marker": {
             "colorbar": {
              "outlinewidth": 0,
              "ticks": ""
             }
            },
            "type": "scatterpolargl"
           }
          ],
          "scatterternary": [
           {
            "marker": {
             "colorbar": {
              "outlinewidth": 0,
              "ticks": ""
             }
            },
            "type": "scatterternary"
           }
          ],
          "surface": [
           {
            "colorbar": {
             "outlinewidth": 0,
             "ticks": ""
            },
            "colorscale": [
             [
              0,
              "#0d0887"
             ],
             [
              0.1111111111111111,
              "#46039f"
             ],
             [
              0.2222222222222222,
              "#7201a8"
             ],
             [
              0.3333333333333333,
              "#9c179e"
             ],
             [
              0.4444444444444444,
              "#bd3786"
             ],
             [
              0.5555555555555556,
              "#d8576b"
             ],
             [
              0.6666666666666666,
              "#ed7953"
             ],
             [
              0.7777777777777778,
              "#fb9f3a"
             ],
             [
              0.8888888888888888,
              "#fdca26"
             ],
             [
              1,
              "#f0f921"
             ]
            ],
            "type": "surface"
           }
          ],
          "table": [
           {
            "cells": {
             "fill": {
              "color": "#EBF0F8"
             },
             "line": {
              "color": "white"
             }
            },
            "header": {
             "fill": {
              "color": "#C8D4E3"
             },
             "line": {
              "color": "white"
             }
            },
            "type": "table"
           }
          ]
         },
         "layout": {
          "annotationdefaults": {
           "arrowcolor": "#2a3f5f",
           "arrowhead": 0,
           "arrowwidth": 1
          },
          "autotypenumbers": "strict",
          "coloraxis": {
           "colorbar": {
            "outlinewidth": 0,
            "ticks": ""
           }
          },
          "colorscale": {
           "diverging": [
            [
             0,
             "#8e0152"
            ],
            [
             0.1,
             "#c51b7d"
            ],
            [
             0.2,
             "#de77ae"
            ],
            [
             0.3,
             "#f1b6da"
            ],
            [
             0.4,
             "#fde0ef"
            ],
            [
             0.5,
             "#f7f7f7"
            ],
            [
             0.6,
             "#e6f5d0"
            ],
            [
             0.7,
             "#b8e186"
            ],
            [
             0.8,
             "#7fbc41"
            ],
            [
             0.9,
             "#4d9221"
            ],
            [
             1,
             "#276419"
            ]
           ],
           "sequential": [
            [
             0,
             "#0d0887"
            ],
            [
             0.1111111111111111,
             "#46039f"
            ],
            [
             0.2222222222222222,
             "#7201a8"
            ],
            [
             0.3333333333333333,
             "#9c179e"
            ],
            [
             0.4444444444444444,
             "#bd3786"
            ],
            [
             0.5555555555555556,
             "#d8576b"
            ],
            [
             0.6666666666666666,
             "#ed7953"
            ],
            [
             0.7777777777777778,
             "#fb9f3a"
            ],
            [
             0.8888888888888888,
             "#fdca26"
            ],
            [
             1,
             "#f0f921"
            ]
           ],
           "sequentialminus": [
            [
             0,
             "#0d0887"
            ],
            [
             0.1111111111111111,
             "#46039f"
            ],
            [
             0.2222222222222222,
             "#7201a8"
            ],
            [
             0.3333333333333333,
             "#9c179e"
            ],
            [
             0.4444444444444444,
             "#bd3786"
            ],
            [
             0.5555555555555556,
             "#d8576b"
            ],
            [
             0.6666666666666666,
             "#ed7953"
            ],
            [
             0.7777777777777778,
             "#fb9f3a"
            ],
            [
             0.8888888888888888,
             "#fdca26"
            ],
            [
             1,
             "#f0f921"
            ]
           ]
          },
          "colorway": [
           "#636efa",
           "#EF553B",
           "#00cc96",
           "#ab63fa",
           "#FFA15A",
           "#19d3f3",
           "#FF6692",
           "#B6E880",
           "#FF97FF",
           "#FECB52"
          ],
          "font": {
           "color": "#2a3f5f"
          },
          "geo": {
           "bgcolor": "white",
           "lakecolor": "white",
           "landcolor": "#E5ECF6",
           "showlakes": true,
           "showland": true,
           "subunitcolor": "white"
          },
          "hoverlabel": {
           "align": "left"
          },
          "hovermode": "closest",
          "mapbox": {
           "style": "light"
          },
          "paper_bgcolor": "white",
          "plot_bgcolor": "#E5ECF6",
          "polar": {
           "angularaxis": {
            "gridcolor": "white",
            "linecolor": "white",
            "ticks": ""
           },
           "bgcolor": "#E5ECF6",
           "radialaxis": {
            "gridcolor": "white",
            "linecolor": "white",
            "ticks": ""
           }
          },
          "scene": {
           "xaxis": {
            "backgroundcolor": "#E5ECF6",
            "gridcolor": "white",
            "gridwidth": 2,
            "linecolor": "white",
            "showbackground": true,
            "ticks": "",
            "zerolinecolor": "white"
           },
           "yaxis": {
            "backgroundcolor": "#E5ECF6",
            "gridcolor": "white",
            "gridwidth": 2,
            "linecolor": "white",
            "showbackground": true,
            "ticks": "",
            "zerolinecolor": "white"
           },
           "zaxis": {
            "backgroundcolor": "#E5ECF6",
            "gridcolor": "white",
            "gridwidth": 2,
            "linecolor": "white",
            "showbackground": true,
            "ticks": "",
            "zerolinecolor": "white"
           }
          },
          "shapedefaults": {
           "line": {
            "color": "#2a3f5f"
           }
          },
          "ternary": {
           "aaxis": {
            "gridcolor": "white",
            "linecolor": "white",
            "ticks": ""
           },
           "baxis": {
            "gridcolor": "white",
            "linecolor": "white",
            "ticks": ""
           },
           "bgcolor": "#E5ECF6",
           "caxis": {
            "gridcolor": "white",
            "linecolor": "white",
            "ticks": ""
           }
          },
          "title": {
           "x": 0.05
          },
          "xaxis": {
           "automargin": true,
           "gridcolor": "white",
           "linecolor": "white",
           "ticks": "",
           "title": {
            "standoff": 15
           },
           "zerolinecolor": "white",
           "zerolinewidth": 2
          },
          "yaxis": {
           "automargin": true,
           "gridcolor": "white",
           "linecolor": "white",
           "ticks": "",
           "title": {
            "standoff": 15
           },
           "zerolinecolor": "white",
           "zerolinewidth": 2
          }
         }
        }
       }
      },
      "text/html": [
       "<div>                            <div id=\"705351da-1845-4973-ba91-c483a4c41f2f\" class=\"plotly-graph-div\" style=\"height:525px; width:100%;\"></div>            <script type=\"text/javascript\">                require([\"plotly\"], function(Plotly) {                    window.PLOTLYENV=window.PLOTLYENV || {};                                    if (document.getElementById(\"705351da-1845-4973-ba91-c483a4c41f2f\")) {                    Plotly.newPlot(                        \"705351da-1845-4973-ba91-c483a4c41f2f\",                        [{\"marker\":{\"color\":\"red\"},\"mode\":\"lines+markers\",\"name\":\"Ventas\",\"x\":[\"2014-01-03T00:00:00\",\"2014-01-04T00:00:00\",\"2014-01-05T00:00:00\",\"2014-01-06T00:00:00\",\"2014-01-07T00:00:00\",\"2014-01-09T00:00:00\",\"2014-01-10T00:00:00\",\"2014-01-11T00:00:00\",\"2014-01-13T00:00:00\",\"2014-01-14T00:00:00\",\"2014-01-15T00:00:00\",\"2014-01-16T00:00:00\",\"2014-01-18T00:00:00\",\"2014-01-19T00:00:00\",\"2014-01-20T00:00:00\",\"2014-01-21T00:00:00\",\"2014-01-23T00:00:00\",\"2014-01-26T00:00:00\",\"2014-01-27T00:00:00\",\"2014-01-28T00:00:00\",\"2014-01-30T00:00:00\",\"2014-01-31T00:00:00\",\"2014-02-01T00:00:00\",\"2014-02-02T00:00:00\",\"2014-02-03T00:00:00\",\"2014-02-04T00:00:00\",\"2014-02-06T00:00:00\",\"2014-02-07T00:00:00\",\"2014-02-08T00:00:00\",\"2014-02-11T00:00:00\",\"2014-02-12T00:00:00\",\"2014-02-14T00:00:00\",\"2014-02-15T00:00:00\",\"2014-02-16T00:00:00\",\"2014-02-17T00:00:00\",\"2014-02-18T00:00:00\",\"2014-02-20T00:00:00\",\"2014-02-21T00:00:00\",\"2014-02-22T00:00:00\",\"2014-02-23T00:00:00\",\"2014-02-24T00:00:00\",\"2014-02-27T00:00:00\",\"2014-03-01T00:00:00\",\"2014-03-02T00:00:00\",\"2014-03-03T00:00:00\",\"2014-03-04T00:00:00\",\"2014-03-05T00:00:00\",\"2014-03-07T00:00:00\",\"2014-03-10T00:00:00\",\"2014-03-11T00:00:00\",\"2014-03-14T00:00:00\",\"2014-03-15T00:00:00\",\"2014-03-16T00:00:00\",\"2014-03-17T00:00:00\",\"2014-03-18T00:00:00\",\"2014-03-19T00:00:00\",\"2014-03-21T00:00:00\",\"2014-03-22T00:00:00\",\"2014-03-23T00:00:00\",\"2014-03-24T00:00:00\",\"2014-03-25T00:00:00\",\"2014-03-26T00:00:00\",\"2014-03-28T00:00:00\",\"2014-03-29T00:00:00\",\"2014-03-30T00:00:00\",\"2014-03-31T00:00:00\",\"2014-04-01T00:00:00\",\"2014-04-02T00:00:00\",\"2014-04-03T00:00:00\",\"2014-04-04T00:00:00\",\"2014-04-05T00:00:00\",\"2014-04-06T00:00:00\",\"2014-04-07T00:00:00\",\"2014-04-08T00:00:00\",\"2014-04-11T00:00:00\",\"2014-04-12T00:00:00\",\"2014-04-13T00:00:00\",\"2014-04-15T00:00:00\",\"2014-04-16T00:00:00\",\"2014-04-18T00:00:00\",\"2014-04-19T00:00:00\",\"2014-04-20T00:00:00\",\"2014-04-21T00:00:00\",\"2014-04-22T00:00:00\",\"2014-04-23T00:00:00\",\"2014-04-25T00:00:00\",\"2014-04-26T00:00:00\",\"2014-04-28T00:00:00\",\"2014-04-29T00:00:00\",\"2014-04-30T00:00:00\",\"2014-05-02T00:00:00\",\"2014-05-03T00:00:00\",\"2014-05-04T00:00:00\",\"2014-05-05T00:00:00\",\"2014-05-06T00:00:00\",\"2014-05-07T00:00:00\",\"2014-05-08T00:00:00\",\"2014-05-09T00:00:00\",\"2014-05-10T00:00:00\",\"2014-05-11T00:00:00\",\"2014-05-12T00:00:00\",\"2014-05-13T00:00:00\",\"2014-05-14T00:00:00\",\"2014-05-16T00:00:00\",\"2014-05-17T00:00:00\",\"2014-05-18T00:00:00\",\"2014-05-19T00:00:00\",\"2014-05-20T00:00:00\",\"2014-05-21T00:00:00\",\"2014-05-22T00:00:00\",\"2014-05-23T00:00:00\",\"2014-05-24T00:00:00\",\"2014-05-25T00:00:00\",\"2014-05-26T00:00:00\",\"2014-05-27T00:00:00\",\"2014-05-28T00:00:00\",\"2014-05-30T00:00:00\",\"2014-05-31T00:00:00\",\"2014-06-01T00:00:00\",\"2014-06-02T00:00:00\",\"2014-06-03T00:00:00\",\"2014-06-04T00:00:00\",\"2014-06-06T00:00:00\",\"2014-06-07T00:00:00\",\"2014-06-08T00:00:00\",\"2014-06-09T00:00:00\",\"2014-06-10T00:00:00\",\"2014-06-13T00:00:00\",\"2014-06-14T00:00:00\",\"2014-06-15T00:00:00\",\"2014-06-16T00:00:00\",\"2014-06-17T00:00:00\",\"2014-06-18T00:00:00\",\"2014-06-20T00:00:00\",\"2014-06-21T00:00:00\",\"2014-06-22T00:00:00\",\"2014-06-23T00:00:00\",\"2014-06-24T00:00:00\",\"2014-06-25T00:00:00\",\"2014-06-27T00:00:00\",\"2014-06-28T00:00:00\",\"2014-06-29T00:00:00\",\"2014-06-30T00:00:00\",\"2014-07-01T00:00:00\",\"2014-07-02T00:00:00\",\"2014-07-04T00:00:00\",\"2014-07-05T00:00:00\",\"2014-07-06T00:00:00\",\"2014-07-07T00:00:00\",\"2014-07-08T00:00:00\",\"2014-07-09T00:00:00\",\"2014-07-11T00:00:00\",\"2014-07-12T00:00:00\",\"2014-07-13T00:00:00\",\"2014-07-14T00:00:00\",\"2014-07-15T00:00:00\",\"2014-07-18T00:00:00\",\"2014-07-19T00:00:00\",\"2014-07-20T00:00:00\",\"2014-07-21T00:00:00\",\"2014-07-22T00:00:00\",\"2014-07-23T00:00:00\",\"2014-07-25T00:00:00\",\"2014-07-26T00:00:00\",\"2014-07-27T00:00:00\",\"2014-07-28T00:00:00\",\"2014-07-30T00:00:00\",\"2014-08-01T00:00:00\",\"2014-08-02T00:00:00\",\"2014-08-03T00:00:00\",\"2014-08-04T00:00:00\",\"2014-08-05T00:00:00\",\"2014-08-06T00:00:00\",\"2014-08-08T00:00:00\",\"2014-08-09T00:00:00\",\"2014-08-11T00:00:00\",\"2014-08-12T00:00:00\",\"2014-08-15T00:00:00\",\"2014-08-16T00:00:00\",\"2014-08-17T00:00:00\",\"2014-08-19T00:00:00\",\"2014-08-20T00:00:00\",\"2014-08-22T00:00:00\",\"2014-08-23T00:00:00\",\"2014-08-24T00:00:00\",\"2014-08-25T00:00:00\",\"2014-08-26T00:00:00\",\"2014-08-27T00:00:00\",\"2014-08-29T00:00:00\",\"2014-08-30T00:00:00\",\"2014-08-31T00:00:00\",\"2014-09-01T00:00:00\",\"2014-09-02T00:00:00\",\"2014-09-03T00:00:00\",\"2014-09-05T00:00:00\",\"2014-09-06T00:00:00\",\"2014-09-07T00:00:00\",\"2014-09-08T00:00:00\",\"2014-09-09T00:00:00\",\"2014-09-10T00:00:00\",\"2014-09-11T00:00:00\",\"2014-09-12T00:00:00\",\"2014-09-13T00:00:00\",\"2014-09-14T00:00:00\",\"2014-09-15T00:00:00\",\"2014-09-16T00:00:00\",\"2014-09-17T00:00:00\",\"2014-09-19T00:00:00\",\"2014-09-20T00:00:00\",\"2014-09-21T00:00:00\",\"2014-09-22T00:00:00\",\"2014-09-23T00:00:00\",\"2014-09-24T00:00:00\",\"2014-09-25T00:00:00\",\"2014-09-26T00:00:00\",\"2014-09-27T00:00:00\",\"2014-09-28T00:00:00\",\"2014-09-29T00:00:00\",\"2014-09-30T00:00:00\",\"2014-10-01T00:00:00\",\"2014-10-02T00:00:00\",\"2014-10-03T00:00:00\",\"2014-10-04T00:00:00\",\"2014-10-05T00:00:00\",\"2014-10-06T00:00:00\",\"2014-10-07T00:00:00\",\"2014-10-08T00:00:00\",\"2014-10-09T00:00:00\",\"2014-10-10T00:00:00\",\"2014-10-11T00:00:00\",\"2014-10-12T00:00:00\",\"2014-10-13T00:00:00\",\"2014-10-14T00:00:00\",\"2014-10-15T00:00:00\",\"2014-10-16T00:00:00\",\"2014-10-17T00:00:00\",\"2014-10-18T00:00:00\",\"2014-10-19T00:00:00\",\"2014-10-20T00:00:00\",\"2014-10-21T00:00:00\",\"2014-10-22T00:00:00\",\"2014-10-24T00:00:00\",\"2014-10-25T00:00:00\",\"2014-10-26T00:00:00\",\"2014-10-27T00:00:00\",\"2014-10-28T00:00:00\",\"2014-10-29T00:00:00\",\"2014-10-31T00:00:00\",\"2014-11-01T00:00:00\",\"2014-11-02T00:00:00\",\"2014-11-03T00:00:00\",\"2014-11-04T00:00:00\",\"2014-11-05T00:00:00\",\"2014-11-06T00:00:00\",\"2014-11-07T00:00:00\",\"2014-11-08T00:00:00\",\"2014-11-09T00:00:00\",\"2014-11-10T00:00:00\",\"2014-11-11T00:00:00\",\"2014-11-12T00:00:00\",\"2014-11-14T00:00:00\",\"2014-11-15T00:00:00\",\"2014-11-16T00:00:00\",\"2014-11-17T00:00:00\",\"2014-11-18T00:00:00\",\"2014-11-19T00:00:00\",\"2014-11-20T00:00:00\",\"2014-11-21T00:00:00\",\"2014-11-22T00:00:00\",\"2014-11-23T00:00:00\",\"2014-11-24T00:00:00\",\"2014-11-25T00:00:00\",\"2014-11-26T00:00:00\",\"2014-11-27T00:00:00\",\"2014-11-28T00:00:00\",\"2014-11-29T00:00:00\",\"2014-11-30T00:00:00\",\"2014-12-01T00:00:00\",\"2014-12-02T00:00:00\",\"2014-12-03T00:00:00\",\"2014-12-04T00:00:00\",\"2014-12-05T00:00:00\",\"2014-12-06T00:00:00\",\"2014-12-07T00:00:00\",\"2014-12-08T00:00:00\",\"2014-12-09T00:00:00\",\"2014-12-10T00:00:00\",\"2014-12-12T00:00:00\",\"2014-12-13T00:00:00\",\"2014-12-14T00:00:00\",\"2014-12-15T00:00:00\",\"2014-12-16T00:00:00\",\"2014-12-17T00:00:00\",\"2014-12-19T00:00:00\",\"2014-12-20T00:00:00\",\"2014-12-21T00:00:00\",\"2014-12-22T00:00:00\",\"2014-12-23T00:00:00\",\"2014-12-24T00:00:00\",\"2014-12-26T00:00:00\",\"2014-12-27T00:00:00\",\"2014-12-28T00:00:00\",\"2014-12-29T00:00:00\",\"2014-12-30T00:00:00\",\"2014-12-31T00:00:00\"],\"y\":[16.448,288.06,19.536,4407.1,87.158,40.544000000000004,54.83,9.94,3553.795,61.96,149.95,299.964,64.864,378.59400000000005,2673.87,25.248,46.019999999999996,1097.25,426.67,3.9280000000000004,240.5,290.666,468.90000000000003,211.64600000000002,97.11200000000001,134.38400000000001,330.512,180.32,14.56,2043.4,129.568,576.7259999999999,21.36,9.039999999999997,54.208,37.784,95.59,8.849999999999998,19.44,11.364,55.672000000000004,19.456000000000003,2203.151,202.38400000000001,1345.892,370.45200000000006,705.562,1561.0620000000001,741.9560000000001,918.314,2108.55,370.78200000000004,471.92,3960.358,28106.716,590.7620000000001,4109.816000000001,464.09299999999996,945.064,65.38,459.146,145.13000000000002,1823.8039999999999,890.8409999999999,1170.3220000000001,1959.552,119.88799999999999,1458.558,233.45,475.844,5295.098,1650.6899999999998,1021.17,1958.75,1915.24,1912.123,638.576,294.71999999999997,39.072,1020.532,205.47,1250.45,845.3599999999999,257.752,643.9799999999999,2379.9939999999997,282.56800000000004,2578.476,768.844,1048.74,506.12000000000006,72.632,187.432,260.977,254.456,1091.35,1799.9699999999998,394.48,2343.799,1642.8019999999997,734.846,898.3820000000001,310.88000000000005,289.28,91.67999999999999,948.9480000000001,91.62,320.10400000000004,4264.328,180.93,323.75800000000004,116.28,119.53999999999998,1325.718,2157.394,221.96800000000002,1924.913,773.7,5188.52,738.598,741.336,456.272,1374.0010000000002,281.397,2501.264,5463.008000000001,491.55,14.52,212.94,942.9739999999999,763.792,3418.5020000000004,139.8,1828.9496000000001,4107.443,1975.498,109.49600000000001,4.272,792.76,616.14,1645.791,46.67999999999999,739.624,601.0239999999999,79.56,247.40800000000002,1444.104,1038.4720000000002,241.194,763.0740000000001,265.521,2187.206,1960.0120000000002,351.216,292.594,9.510000000000002,273.04,461.326,2285.786,1961.482,1348.344,2613.184,8341.289999999999,5039.994,580.06,193.152,1367.84,228.32800000000003,886.28,477.994,2743.154,2408.7239999999997,262.89,3955.629,3605.6850000000004,451.62,1832.38,842.7819999999999,853.0919999999999,500.342,1439.1060000000002,1838.722,23.104000000000003,565.224,59.74,1451.65,366.81,2070.13,832.3225000000001,121.24,92.52,469.43600000000004,3254.15,22.08,296.304,100.36,3523.875,14228.427999999998,4043.5879999999997,1855.2279999999998,127.94999999999999,4904.66,1275.408,5023.716,133.436,33.552,820.523,9338.636999999999,5335.968,2679.652,1240.266,10662.337000000001,211.96,354.8888,1480.614,773.4399999999999,490.29200000000003,8109.07,987.5320000000002,4.71,598.144,862.683,728.748,191.9,494.71,237.35999999999999,147.392,249.36,2049.3860000000004,1381.164,58.53,2212.182,4525.484,206.724,194.322,136.068,3134.916,641.104,1501.1040000000003,1356.602,223.808,56.49,103.882,447.88000000000005,22.320000000000004,1510.5819999999999,2813.8120000000004,5362.026,4732.08,2126.37,2784.163,6693.7480000000005,1694.564,43.68,1449.1419999999998,333.576,1574.094,2002.5559999999998,8114.548,1054.7612000000001,1034.73,1780.8220000000001,1355.9285,11544.274000000001,3406.855,7226.086,907.5600000000001,1249.6219999999998,1103.298,1363.28,5578.606,4415.695,1705.99,203.65999999999997,2280.83,649.044,219.15400000000002,5624.39,1771.808,505.88,129.98,2963.6420000000003,1970.978,548.3999999999999,1095.12,1522.652,573.336,4938.4045,293.152,7641.658,1264.466,4394.187000000001,45.534,3436.76,6962.4400000000005,1933.44,798.9680000000001,942.1080000000001,1950.2020000000002,2041.414,2966.3880000000004,3732.296,2072.096,2172.6510000000003,5253.2699999999995],\"type\":\"scatter\"},{\"marker\":{\"color\":\"black\"},\"mode\":\"lines+markers\",\"name\":\"Ganancias\",\"x\":[\"2014-01-03T00:00:00\",\"2014-01-04T00:00:00\",\"2014-01-05T00:00:00\",\"2014-01-06T00:00:00\",\"2014-01-07T00:00:00\",\"2014-01-09T00:00:00\",\"2014-01-10T00:00:00\",\"2014-01-11T00:00:00\",\"2014-01-13T00:00:00\",\"2014-01-14T00:00:00\",\"2014-01-15T00:00:00\",\"2014-01-16T00:00:00\",\"2014-01-18T00:00:00\",\"2014-01-19T00:00:00\",\"2014-01-20T00:00:00\",\"2014-01-21T00:00:00\",\"2014-01-23T00:00:00\",\"2014-01-26T00:00:00\",\"2014-01-27T00:00:00\",\"2014-01-28T00:00:00\",\"2014-01-30T00:00:00\",\"2014-01-31T00:00:00\",\"2014-02-01T00:00:00\",\"2014-02-02T00:00:00\",\"2014-02-03T00:00:00\",\"2014-02-04T00:00:00\",\"2014-02-06T00:00:00\",\"2014-02-07T00:00:00\",\"2014-02-08T00:00:00\",\"2014-02-11T00:00:00\",\"2014-02-12T00:00:00\",\"2014-02-14T00:00:00\",\"2014-02-15T00:00:00\",\"2014-02-16T00:00:00\",\"2014-02-17T00:00:00\",\"2014-02-18T00:00:00\",\"2014-02-20T00:00:00\",\"2014-02-21T00:00:00\",\"2014-02-22T00:00:00\",\"2014-02-23T00:00:00\",\"2014-02-24T00:00:00\",\"2014-02-27T00:00:00\",\"2014-03-01T00:00:00\",\"2014-03-02T00:00:00\",\"2014-03-03T00:00:00\",\"2014-03-04T00:00:00\",\"2014-03-05T00:00:00\",\"2014-03-07T00:00:00\",\"2014-03-10T00:00:00\",\"2014-03-11T00:00:00\",\"2014-03-14T00:00:00\",\"2014-03-15T00:00:00\",\"2014-03-16T00:00:00\",\"2014-03-17T00:00:00\",\"2014-03-18T00:00:00\",\"2014-03-19T00:00:00\",\"2014-03-21T00:00:00\",\"2014-03-22T00:00:00\",\"2014-03-23T00:00:00\",\"2014-03-24T00:00:00\",\"2014-03-25T00:00:00\",\"2014-03-26T00:00:00\",\"2014-03-28T00:00:00\",\"2014-03-29T00:00:00\",\"2014-03-30T00:00:00\",\"2014-03-31T00:00:00\",\"2014-04-01T00:00:00\",\"2014-04-02T00:00:00\",\"2014-04-03T00:00:00\",\"2014-04-04T00:00:00\",\"2014-04-05T00:00:00\",\"2014-04-06T00:00:00\",\"2014-04-07T00:00:00\",\"2014-04-08T00:00:00\",\"2014-04-11T00:00:00\",\"2014-04-12T00:00:00\",\"2014-04-13T00:00:00\",\"2014-04-15T00:00:00\",\"2014-04-16T00:00:00\",\"2014-04-18T00:00:00\",\"2014-04-19T00:00:00\",\"2014-04-20T00:00:00\",\"2014-04-21T00:00:00\",\"2014-04-22T00:00:00\",\"2014-04-23T00:00:00\",\"2014-04-25T00:00:00\",\"2014-04-26T00:00:00\",\"2014-04-28T00:00:00\",\"2014-04-29T00:00:00\",\"2014-04-30T00:00:00\",\"2014-05-02T00:00:00\",\"2014-05-03T00:00:00\",\"2014-05-04T00:00:00\",\"2014-05-05T00:00:00\",\"2014-05-06T00:00:00\",\"2014-05-07T00:00:00\",\"2014-05-08T00:00:00\",\"2014-05-09T00:00:00\",\"2014-05-10T00:00:00\",\"2014-05-11T00:00:00\",\"2014-05-12T00:00:00\",\"2014-05-13T00:00:00\",\"2014-05-14T00:00:00\",\"2014-05-16T00:00:00\",\"2014-05-17T00:00:00\",\"2014-05-18T00:00:00\",\"2014-05-19T00:00:00\",\"2014-05-20T00:00:00\",\"2014-05-21T00:00:00\",\"2014-05-22T00:00:00\",\"2014-05-23T00:00:00\",\"2014-05-24T00:00:00\",\"2014-05-25T00:00:00\",\"2014-05-26T00:00:00\",\"2014-05-27T00:00:00\",\"2014-05-28T00:00:00\",\"2014-05-30T00:00:00\",\"2014-05-31T00:00:00\",\"2014-06-01T00:00:00\",\"2014-06-02T00:00:00\",\"2014-06-03T00:00:00\",\"2014-06-04T00:00:00\",\"2014-06-06T00:00:00\",\"2014-06-07T00:00:00\",\"2014-06-08T00:00:00\",\"2014-06-09T00:00:00\",\"2014-06-10T00:00:00\",\"2014-06-13T00:00:00\",\"2014-06-14T00:00:00\",\"2014-06-15T00:00:00\",\"2014-06-16T00:00:00\",\"2014-06-17T00:00:00\",\"2014-06-18T00:00:00\",\"2014-06-20T00:00:00\",\"2014-06-21T00:00:00\",\"2014-06-22T00:00:00\",\"2014-06-23T00:00:00\",\"2014-06-24T00:00:00\",\"2014-06-25T00:00:00\",\"2014-06-27T00:00:00\",\"2014-06-28T00:00:00\",\"2014-06-29T00:00:00\",\"2014-06-30T00:00:00\",\"2014-07-01T00:00:00\",\"2014-07-02T00:00:00\",\"2014-07-04T00:00:00\",\"2014-07-05T00:00:00\",\"2014-07-06T00:00:00\",\"2014-07-07T00:00:00\",\"2014-07-08T00:00:00\",\"2014-07-09T00:00:00\",\"2014-07-11T00:00:00\",\"2014-07-12T00:00:00\",\"2014-07-13T00:00:00\",\"2014-07-14T00:00:00\",\"2014-07-15T00:00:00\",\"2014-07-18T00:00:00\",\"2014-07-19T00:00:00\",\"2014-07-20T00:00:00\",\"2014-07-21T00:00:00\",\"2014-07-22T00:00:00\",\"2014-07-23T00:00:00\",\"2014-07-25T00:00:00\",\"2014-07-26T00:00:00\",\"2014-07-27T00:00:00\",\"2014-07-28T00:00:00\",\"2014-07-30T00:00:00\",\"2014-08-01T00:00:00\",\"2014-08-02T00:00:00\",\"2014-08-03T00:00:00\",\"2014-08-04T00:00:00\",\"2014-08-05T00:00:00\",\"2014-08-06T00:00:00\",\"2014-08-08T00:00:00\",\"2014-08-09T00:00:00\",\"2014-08-11T00:00:00\",\"2014-08-12T00:00:00\",\"2014-08-15T00:00:00\",\"2014-08-16T00:00:00\",\"2014-08-17T00:00:00\",\"2014-08-19T00:00:00\",\"2014-08-20T00:00:00\",\"2014-08-22T00:00:00\",\"2014-08-23T00:00:00\",\"2014-08-24T00:00:00\",\"2014-08-25T00:00:00\",\"2014-08-26T00:00:00\",\"2014-08-27T00:00:00\",\"2014-08-29T00:00:00\",\"2014-08-30T00:00:00\",\"2014-08-31T00:00:00\",\"2014-09-01T00:00:00\",\"2014-09-02T00:00:00\",\"2014-09-03T00:00:00\",\"2014-09-05T00:00:00\",\"2014-09-06T00:00:00\",\"2014-09-07T00:00:00\",\"2014-09-08T00:00:00\",\"2014-09-09T00:00:00\",\"2014-09-10T00:00:00\",\"2014-09-11T00:00:00\",\"2014-09-12T00:00:00\",\"2014-09-13T00:00:00\",\"2014-09-14T00:00:00\",\"2014-09-15T00:00:00\",\"2014-09-16T00:00:00\",\"2014-09-17T00:00:00\",\"2014-09-19T00:00:00\",\"2014-09-20T00:00:00\",\"2014-09-21T00:00:00\",\"2014-09-22T00:00:00\",\"2014-09-23T00:00:00\",\"2014-09-24T00:00:00\",\"2014-09-25T00:00:00\",\"2014-09-26T00:00:00\",\"2014-09-27T00:00:00\",\"2014-09-28T00:00:00\",\"2014-09-29T00:00:00\",\"2014-09-30T00:00:00\",\"2014-10-01T00:00:00\",\"2014-10-02T00:00:00\",\"2014-10-03T00:00:00\",\"2014-10-04T00:00:00\",\"2014-10-05T00:00:00\",\"2014-10-06T00:00:00\",\"2014-10-07T00:00:00\",\"2014-10-08T00:00:00\",\"2014-10-09T00:00:00\",\"2014-10-10T00:00:00\",\"2014-10-11T00:00:00\",\"2014-10-12T00:00:00\",\"2014-10-13T00:00:00\",\"2014-10-14T00:00:00\",\"2014-10-15T00:00:00\",\"2014-10-16T00:00:00\",\"2014-10-17T00:00:00\",\"2014-10-18T00:00:00\",\"2014-10-19T00:00:00\",\"2014-10-20T00:00:00\",\"2014-10-21T00:00:00\",\"2014-10-22T00:00:00\",\"2014-10-24T00:00:00\",\"2014-10-25T00:00:00\",\"2014-10-26T00:00:00\",\"2014-10-27T00:00:00\",\"2014-10-28T00:00:00\",\"2014-10-29T00:00:00\",\"2014-10-31T00:00:00\",\"2014-11-01T00:00:00\",\"2014-11-02T00:00:00\",\"2014-11-03T00:00:00\",\"2014-11-04T00:00:00\",\"2014-11-05T00:00:00\",\"2014-11-06T00:00:00\",\"2014-11-07T00:00:00\",\"2014-11-08T00:00:00\",\"2014-11-09T00:00:00\",\"2014-11-10T00:00:00\",\"2014-11-11T00:00:00\",\"2014-11-12T00:00:00\",\"2014-11-14T00:00:00\",\"2014-11-15T00:00:00\",\"2014-11-16T00:00:00\",\"2014-11-17T00:00:00\",\"2014-11-18T00:00:00\",\"2014-11-19T00:00:00\",\"2014-11-20T00:00:00\",\"2014-11-21T00:00:00\",\"2014-11-22T00:00:00\",\"2014-11-23T00:00:00\",\"2014-11-24T00:00:00\",\"2014-11-25T00:00:00\",\"2014-11-26T00:00:00\",\"2014-11-27T00:00:00\",\"2014-11-28T00:00:00\",\"2014-11-29T00:00:00\",\"2014-11-30T00:00:00\",\"2014-12-01T00:00:00\",\"2014-12-02T00:00:00\",\"2014-12-03T00:00:00\",\"2014-12-04T00:00:00\",\"2014-12-05T00:00:00\",\"2014-12-06T00:00:00\",\"2014-12-07T00:00:00\",\"2014-12-08T00:00:00\",\"2014-12-09T00:00:00\",\"2014-12-10T00:00:00\",\"2014-12-12T00:00:00\",\"2014-12-13T00:00:00\",\"2014-12-14T00:00:00\",\"2014-12-15T00:00:00\",\"2014-12-16T00:00:00\",\"2014-12-17T00:00:00\",\"2014-12-19T00:00:00\",\"2014-12-20T00:00:00\",\"2014-12-21T00:00:00\",\"2014-12-22T00:00:00\",\"2014-12-23T00:00:00\",\"2014-12-24T00:00:00\",\"2014-12-26T00:00:00\",\"2014-12-27T00:00:00\",\"2014-12-28T00:00:00\",\"2014-12-29T00:00:00\",\"2014-12-30T00:00:00\",\"2014-12-31T00:00:00\"],\"y\":[5.551199999999998,-65.99010000000001,4.884,1358.0523999999998,-71.96209999999999,10.917999999999996,22.6537,3.0813999999999995,673.6385999999999,-53.28560000000001,65.97800000000001,-5.933500000000016,6.486400000000003,-287.9976,584.3694999999999,4.102799999999999,19.2384,150.327,9.682700000000004,1.3256999999999999,11.650200000000002,3.4195999999999884,206.31600000000006,7.152499999999995,31.5614,51.1432,76.48329999999999,59.34880000000001,5.5328,293.52849999999995,-24.29400000000002,120.1764,7.209,-15.658000000000003,8.808799999999998,-13.846800000000002,35.5612,-13.717499999999998,9.3312,-4.522499999999998,18.789299999999997,3.404799999999998,-208.96140000000014,56.0112,-629.7989000000001,20.07779999999996,261.19010000000003,134.1538999999999,4.188599999999905,279.06100000000004,528.5024,33.59799999999998,29.49500000000002,-831.8571999999998,-954.7089000000022,68.63529999999997,1055.3735000000001,-50.93450000000001,126.92240000000002,26.275799999999997,96.6684,30.7658,-11.075399999999945,-152.7156,232.75289999999998,355.1097000000001,26.089599999999997,407.3962,85.6044,105.45209999999999,253.90440000000007,299.51519999999994,305.05600000000004,359.84810000000004,523.2729,152.65809999999996,-384.79419999999993,107.99999999999999,9.768,169.9373999999999,87.5664,-194.45280000000008,5.5755,124.78689999999999,-0.3052999999999848,332.86710000000005,40.74499999999999,292.1672000000001,101.68139999999991,276.49559999999997,91.95719999999999,28.862399999999994,58.5624,34.51309999999998,85.7158,215.8138,239.9960000000001,95.1736,57.82600000000002,-289.6088,-119.22550000000001,-242.28369999999993,23.31599999999999,20.85000000000001,45.839999999999996,-158.00399999999996,35.6472,62.05810000000001,1719.5087,46.581,58.050200000000004,56.977199999999996,-183.78380000000004,130.50859999999997,111.54079999999993,59.30879999999999,222.03579999999988,230.97269999999995,1576.7508999999998,218.36079999999995,96.1086,-6.493200000000024,-265.2367000000001,-230.33159999999998,193.3649999999999,629.0288999999998,240.8595,4.7916,57.4938,-78.241,76.68759999999993,1126.6297,12.232500000000009,-62.9594,849.4221,40.21470000000001,3.180299999999999,0.9611999999999998,49.71719999999997,76.10520000000002,109.762,8.557499999999997,249.55719999999997,75.33319999999998,22.150800000000004,83.94479999999999,182.79359999999997,222.8455,-34.65980000000001,-8.442000000000064,57.20779999999999,537.7298,88.45439999999992,4.390199999999979,-31.10140000000002,3.988200000000001,-21.39479999999999,103.20620000000002,162.1880999999999,34.12600000000003,229.8348,267.48439999999994,384.50839999999965,-3570.9710000000014,70.31220000000002,34.69839999999999,259.8896,66.475,248.02760000000004,-76.7149,833.4829000000001,504.1059000000001,106.6392,1129.1342,700.8937999999999,45.6444,357.593,118.18259999999995,-227.49120000000016,193.18359999999996,175.4619,569.8904999999999,4.8787,160.40159999999997,20.1332,118.8423,92.0889,513.7322999999999,-376.46949999999987,21.485,18.50399999999999,85.9402,916.2511999999999,-4.4639999999999995,21.822999999999997,39.630799999999994,-481.24629999999996,-1452.6877000000025,16.36159999999986,259.62080000000003,21.751499999999986,600.8836000000001,243.82370000000003,1530.7599,30.1722,12.581999999999999,233.5287,-1539.1441000000011,670.1013999999998,877.4457,87.47569999999996,4808.597500000001,8.478399999999993,-87.55940000000002,230.7266,123.10640000000001,64.36859999999997,890.2808999999997,119.49049999999998,0.0,133.76319999999998,-65.42790000000007,45.07089999999994,46.48299999999999,50.0395,31.85600000000001,60.751799999999996,70.00429999999997,169.9526,110.6137999999999,12.877099999999997,454.10329999999993,1059.3592,-0.9321000000000002,91.40880000000001,-36.83800000000003,606.1101999999998,124.54770000000002,-65.98380000000006,26.062299999999915,23.303199999999983,18.559199999999997,9.4491,41.59200000000001,7.6626,93.42820000000003,378.5485999999997,-48.10750000000027,663.3640999999997,286.57539999999995,-108.22130000000008,2443.392,-61.61160000000002,20.9664,155.48629999999997,25.018199999999993,222.6885999999999,436.63309999999996,-449.53110000000095,79.63399999999994,308.9068,400.0780999999999,137.55819999999994,1954.1345999999996,-347.52270000000004,1979.1982000000003,251.172,378.1698999999999,461.8921,-105.23840000000004,-97.3574000000001,148.62719999999993,-62.16120000000004,41.29599999999999,12.473199999999885,104.67719999999998,11.828999999999994,875.1448000000001,111.37489999999994,146.8304,62.3904,425.0407999999999,-19.019000000000013,201.7832,125.92729999999999,125.75129999999989,101.14259999999996,-72.10080000000005,8.731400000000015,2220.5214999999994,-144.73200000000003,415.6423999999999,7.192399999999999,356.9568999999999,1557.0101999999997,178.26479999999987,183.12109999999998,67.37939999999995,264.30799999999994,-3.5974000000001185,-336.3251,706.8573999999998,568.0095,-594.5496000000003,1444.5131],\"type\":\"scatter\"}],                        {\"template\":{\"data\":{\"barpolar\":[{\"marker\":{\"line\":{\"color\":\"#E5ECF6\",\"width\":0.5},\"pattern\":{\"fillmode\":\"overlay\",\"size\":10,\"solidity\":0.2}},\"type\":\"barpolar\"}],\"bar\":[{\"error_x\":{\"color\":\"#2a3f5f\"},\"error_y\":{\"color\":\"#2a3f5f\"},\"marker\":{\"line\":{\"color\":\"#E5ECF6\",\"width\":0.5},\"pattern\":{\"fillmode\":\"overlay\",\"size\":10,\"solidity\":0.2}},\"type\":\"bar\"}],\"carpet\":[{\"aaxis\":{\"endlinecolor\":\"#2a3f5f\",\"gridcolor\":\"white\",\"linecolor\":\"white\",\"minorgridcolor\":\"white\",\"startlinecolor\":\"#2a3f5f\"},\"baxis\":{\"endlinecolor\":\"#2a3f5f\",\"gridcolor\":\"white\",\"linecolor\":\"white\",\"minorgridcolor\":\"white\",\"startlinecolor\":\"#2a3f5f\"},\"type\":\"carpet\"}],\"choropleth\":[{\"colorbar\":{\"outlinewidth\":0,\"ticks\":\"\"},\"type\":\"choropleth\"}],\"contourcarpet\":[{\"colorbar\":{\"outlinewidth\":0,\"ticks\":\"\"},\"type\":\"contourcarpet\"}],\"contour\":[{\"colorbar\":{\"outlinewidth\":0,\"ticks\":\"\"},\"colorscale\":[[0.0,\"#0d0887\"],[0.1111111111111111,\"#46039f\"],[0.2222222222222222,\"#7201a8\"],[0.3333333333333333,\"#9c179e\"],[0.4444444444444444,\"#bd3786\"],[0.5555555555555556,\"#d8576b\"],[0.6666666666666666,\"#ed7953\"],[0.7777777777777778,\"#fb9f3a\"],[0.8888888888888888,\"#fdca26\"],[1.0,\"#f0f921\"]],\"type\":\"contour\"}],\"heatmapgl\":[{\"colorbar\":{\"outlinewidth\":0,\"ticks\":\"\"},\"colorscale\":[[0.0,\"#0d0887\"],[0.1111111111111111,\"#46039f\"],[0.2222222222222222,\"#7201a8\"],[0.3333333333333333,\"#9c179e\"],[0.4444444444444444,\"#bd3786\"],[0.5555555555555556,\"#d8576b\"],[0.6666666666666666,\"#ed7953\"],[0.7777777777777778,\"#fb9f3a\"],[0.8888888888888888,\"#fdca26\"],[1.0,\"#f0f921\"]],\"type\":\"heatmapgl\"}],\"heatmap\":[{\"colorbar\":{\"outlinewidth\":0,\"ticks\":\"\"},\"colorscale\":[[0.0,\"#0d0887\"],[0.1111111111111111,\"#46039f\"],[0.2222222222222222,\"#7201a8\"],[0.3333333333333333,\"#9c179e\"],[0.4444444444444444,\"#bd3786\"],[0.5555555555555556,\"#d8576b\"],[0.6666666666666666,\"#ed7953\"],[0.7777777777777778,\"#fb9f3a\"],[0.8888888888888888,\"#fdca26\"],[1.0,\"#f0f921\"]],\"type\":\"heatmap\"}],\"histogram2dcontour\":[{\"colorbar\":{\"outlinewidth\":0,\"ticks\":\"\"},\"colorscale\":[[0.0,\"#0d0887\"],[0.1111111111111111,\"#46039f\"],[0.2222222222222222,\"#7201a8\"],[0.3333333333333333,\"#9c179e\"],[0.4444444444444444,\"#bd3786\"],[0.5555555555555556,\"#d8576b\"],[0.6666666666666666,\"#ed7953\"],[0.7777777777777778,\"#fb9f3a\"],[0.8888888888888888,\"#fdca26\"],[1.0,\"#f0f921\"]],\"type\":\"histogram2dcontour\"}],\"histogram2d\":[{\"colorbar\":{\"outlinewidth\":0,\"ticks\":\"\"},\"colorscale\":[[0.0,\"#0d0887\"],[0.1111111111111111,\"#46039f\"],[0.2222222222222222,\"#7201a8\"],[0.3333333333333333,\"#9c179e\"],[0.4444444444444444,\"#bd3786\"],[0.5555555555555556,\"#d8576b\"],[0.6666666666666666,\"#ed7953\"],[0.7777777777777778,\"#fb9f3a\"],[0.8888888888888888,\"#fdca26\"],[1.0,\"#f0f921\"]],\"type\":\"histogram2d\"}],\"histogram\":[{\"marker\":{\"pattern\":{\"fillmode\":\"overlay\",\"size\":10,\"solidity\":0.2}},\"type\":\"histogram\"}],\"mesh3d\":[{\"colorbar\":{\"outlinewidth\":0,\"ticks\":\"\"},\"type\":\"mesh3d\"}],\"parcoords\":[{\"line\":{\"colorbar\":{\"outlinewidth\":0,\"ticks\":\"\"}},\"type\":\"parcoords\"}],\"pie\":[{\"automargin\":true,\"type\":\"pie\"}],\"scatter3d\":[{\"line\":{\"colorbar\":{\"outlinewidth\":0,\"ticks\":\"\"}},\"marker\":{\"colorbar\":{\"outlinewidth\":0,\"ticks\":\"\"}},\"type\":\"scatter3d\"}],\"scattercarpet\":[{\"marker\":{\"colorbar\":{\"outlinewidth\":0,\"ticks\":\"\"}},\"type\":\"scattercarpet\"}],\"scattergeo\":[{\"marker\":{\"colorbar\":{\"outlinewidth\":0,\"ticks\":\"\"}},\"type\":\"scattergeo\"}],\"scattergl\":[{\"marker\":{\"colorbar\":{\"outlinewidth\":0,\"ticks\":\"\"}},\"type\":\"scattergl\"}],\"scattermapbox\":[{\"marker\":{\"colorbar\":{\"outlinewidth\":0,\"ticks\":\"\"}},\"type\":\"scattermapbox\"}],\"scatterpolargl\":[{\"marker\":{\"colorbar\":{\"outlinewidth\":0,\"ticks\":\"\"}},\"type\":\"scatterpolargl\"}],\"scatterpolar\":[{\"marker\":{\"colorbar\":{\"outlinewidth\":0,\"ticks\":\"\"}},\"type\":\"scatterpolar\"}],\"scatter\":[{\"fillpattern\":{\"fillmode\":\"overlay\",\"size\":10,\"solidity\":0.2},\"type\":\"scatter\"}],\"scatterternary\":[{\"marker\":{\"colorbar\":{\"outlinewidth\":0,\"ticks\":\"\"}},\"type\":\"scatterternary\"}],\"surface\":[{\"colorbar\":{\"outlinewidth\":0,\"ticks\":\"\"},\"colorscale\":[[0.0,\"#0d0887\"],[0.1111111111111111,\"#46039f\"],[0.2222222222222222,\"#7201a8\"],[0.3333333333333333,\"#9c179e\"],[0.4444444444444444,\"#bd3786\"],[0.5555555555555556,\"#d8576b\"],[0.6666666666666666,\"#ed7953\"],[0.7777777777777778,\"#fb9f3a\"],[0.8888888888888888,\"#fdca26\"],[1.0,\"#f0f921\"]],\"type\":\"surface\"}],\"table\":[{\"cells\":{\"fill\":{\"color\":\"#EBF0F8\"},\"line\":{\"color\":\"white\"}},\"header\":{\"fill\":{\"color\":\"#C8D4E3\"},\"line\":{\"color\":\"white\"}},\"type\":\"table\"}]},\"layout\":{\"annotationdefaults\":{\"arrowcolor\":\"#2a3f5f\",\"arrowhead\":0,\"arrowwidth\":1},\"autotypenumbers\":\"strict\",\"coloraxis\":{\"colorbar\":{\"outlinewidth\":0,\"ticks\":\"\"}},\"colorscale\":{\"diverging\":[[0,\"#8e0152\"],[0.1,\"#c51b7d\"],[0.2,\"#de77ae\"],[0.3,\"#f1b6da\"],[0.4,\"#fde0ef\"],[0.5,\"#f7f7f7\"],[0.6,\"#e6f5d0\"],[0.7,\"#b8e186\"],[0.8,\"#7fbc41\"],[0.9,\"#4d9221\"],[1,\"#276419\"]],\"sequential\":[[0.0,\"#0d0887\"],[0.1111111111111111,\"#46039f\"],[0.2222222222222222,\"#7201a8\"],[0.3333333333333333,\"#9c179e\"],[0.4444444444444444,\"#bd3786\"],[0.5555555555555556,\"#d8576b\"],[0.6666666666666666,\"#ed7953\"],[0.7777777777777778,\"#fb9f3a\"],[0.8888888888888888,\"#fdca26\"],[1.0,\"#f0f921\"]],\"sequentialminus\":[[0.0,\"#0d0887\"],[0.1111111111111111,\"#46039f\"],[0.2222222222222222,\"#7201a8\"],[0.3333333333333333,\"#9c179e\"],[0.4444444444444444,\"#bd3786\"],[0.5555555555555556,\"#d8576b\"],[0.6666666666666666,\"#ed7953\"],[0.7777777777777778,\"#fb9f3a\"],[0.8888888888888888,\"#fdca26\"],[1.0,\"#f0f921\"]]},\"colorway\":[\"#636efa\",\"#EF553B\",\"#00cc96\",\"#ab63fa\",\"#FFA15A\",\"#19d3f3\",\"#FF6692\",\"#B6E880\",\"#FF97FF\",\"#FECB52\"],\"font\":{\"color\":\"#2a3f5f\"},\"geo\":{\"bgcolor\":\"white\",\"lakecolor\":\"white\",\"landcolor\":\"#E5ECF6\",\"showlakes\":true,\"showland\":true,\"subunitcolor\":\"white\"},\"hoverlabel\":{\"align\":\"left\"},\"hovermode\":\"closest\",\"mapbox\":{\"style\":\"light\"},\"paper_bgcolor\":\"white\",\"plot_bgcolor\":\"#E5ECF6\",\"polar\":{\"angularaxis\":{\"gridcolor\":\"white\",\"linecolor\":\"white\",\"ticks\":\"\"},\"bgcolor\":\"#E5ECF6\",\"radialaxis\":{\"gridcolor\":\"white\",\"linecolor\":\"white\",\"ticks\":\"\"}},\"scene\":{\"xaxis\":{\"backgroundcolor\":\"#E5ECF6\",\"gridcolor\":\"white\",\"gridwidth\":2,\"linecolor\":\"white\",\"showbackground\":true,\"ticks\":\"\",\"zerolinecolor\":\"white\"},\"yaxis\":{\"backgroundcolor\":\"#E5ECF6\",\"gridcolor\":\"white\",\"gridwidth\":2,\"linecolor\":\"white\",\"showbackground\":true,\"ticks\":\"\",\"zerolinecolor\":\"white\"},\"zaxis\":{\"backgroundcolor\":\"#E5ECF6\",\"gridcolor\":\"white\",\"gridwidth\":2,\"linecolor\":\"white\",\"showbackground\":true,\"ticks\":\"\",\"zerolinecolor\":\"white\"}},\"shapedefaults\":{\"line\":{\"color\":\"#2a3f5f\"}},\"ternary\":{\"aaxis\":{\"gridcolor\":\"white\",\"linecolor\":\"white\",\"ticks\":\"\"},\"baxis\":{\"gridcolor\":\"white\",\"linecolor\":\"white\",\"ticks\":\"\"},\"bgcolor\":\"#E5ECF6\",\"caxis\":{\"gridcolor\":\"white\",\"linecolor\":\"white\",\"ticks\":\"\"}},\"title\":{\"x\":0.05},\"xaxis\":{\"automargin\":true,\"gridcolor\":\"white\",\"linecolor\":\"white\",\"ticks\":\"\",\"title\":{\"standoff\":15},\"zerolinecolor\":\"white\",\"zerolinewidth\":2},\"yaxis\":{\"automargin\":true,\"gridcolor\":\"white\",\"linecolor\":\"white\",\"ticks\":\"\",\"title\":{\"standoff\":15},\"zerolinecolor\":\"white\",\"zerolinewidth\":2}}}},                        {\"responsive\": true}                    ).then(function(){\n",
       "                            \n",
       "var gd = document.getElementById('705351da-1845-4973-ba91-c483a4c41f2f');\n",
       "var x = new MutationObserver(function (mutations, observer) {{\n",
       "        var display = window.getComputedStyle(gd).display;\n",
       "        if (!display || display === 'none') {{\n",
       "            console.log([gd, 'removed!']);\n",
       "            Plotly.purge(gd);\n",
       "            observer.disconnect();\n",
       "        }}\n",
       "}});\n",
       "\n",
       "// Listen for the removal of the full notebook cells\n",
       "var notebookContainer = gd.closest('#notebook-container');\n",
       "if (notebookContainer) {{\n",
       "    x.observe(notebookContainer, {childList: true});\n",
       "}}\n",
       "\n",
       "// Listen for the clearing of the current output cell\n",
       "var outputEl = gd.closest('.output');\n",
       "if (outputEl) {{\n",
       "    x.observe(outputEl, {childList: true});\n",
       "}}\n",
       "\n",
       "                        })                };                });            </script>        </div>"
      ]
     },
     "metadata": {},
     "output_type": "display_data"
    }
   ],
   "source": [
    "df_2=df[df['Order Date'].dt.year==2014].groupby('Order Date')[['Sales','Profit']].sum()\n",
    "\n",
    "trace1=go.Scatter(x=df_2.index, \n",
    "                  y=df_2['Sales'],\n",
    "                  name='Ventas',\n",
    "                  mode='lines+markers',\n",
    "                marker=dict(color='red'))\n",
    "\n",
    "trace2=go.Scatter(x=df_2.index, \n",
    "                  y=df_2['Profit'],\n",
    "                  name='Ganancias',\n",
    "                 mode='lines+markers',\n",
    "                marker=dict(color='black'))\n",
    "\n",
    "data=[trace1,trace2]\n",
    "fig=go.Figure(data=data)\n",
    "\n",
    "iplot(fig)"
   ]
  },
  {
   "attachments": {},
   "cell_type": "markdown",
   "metadata": {
    "id": "XeZgfB8Dimh3"
   },
   "source": [
    "## 3. Cree un conjunto de 3 histogramas interactivos que muestren las distribuciones de cantidad por pedido para los siguientes estados: California, Nueva York y Texas."
   ]
  },
  {
   "cell_type": "code",
   "execution_count": 102,
   "metadata": {},
   "outputs": [
    {
     "data": {
      "application/vnd.plotly.v1+json": {
       "config": {
        "linkText": "Export to plot.ly",
        "plotlyServerURL": "https://plot.ly",
        "showLink": false
       },
       "data": [
        {
         "marker": {
          "color": "black"
         },
         "name": "Texas",
         "opacity": 0.8,
         "type": "histogram",
         "x": [
          5,
          3,
          3,
          7,
          5,
          9,
          3,
          3,
          4,
          3,
          3,
          3,
          5,
          7,
          3,
          3,
          8,
          3,
          9,
          6,
          5,
          3,
          4,
          3,
          3,
          2,
          2,
          2,
          3,
          7,
          5,
          7,
          4,
          5,
          3,
          3,
          3,
          4,
          3,
          4,
          4,
          2,
          6,
          8,
          2,
          1,
          2,
          2,
          1,
          2,
          9,
          2,
          1,
          4,
          3,
          2,
          3,
          3,
          4,
          7,
          14,
          5,
          3,
          3,
          3,
          3,
          3,
          3,
          3,
          3,
          2,
          1,
          5,
          1,
          1,
          4,
          4,
          3,
          2,
          5,
          4,
          2,
          4,
          3,
          3,
          1,
          2,
          2,
          2,
          4,
          3,
          2,
          2,
          1,
          3,
          3,
          6,
          2,
          5,
          12,
          3,
          5,
          2,
          2,
          3,
          9,
          4,
          4,
          2,
          5,
          3,
          1,
          3,
          7,
          7,
          3,
          2,
          3,
          11,
          1,
          2,
          7,
          3,
          4,
          3,
          5,
          4,
          2,
          6,
          4,
          7,
          1,
          5,
          3,
          9,
          3,
          3,
          5,
          4,
          4,
          2,
          2,
          6,
          3,
          4,
          3,
          5,
          7,
          5,
          4,
          1,
          4,
          2,
          5,
          3,
          3,
          2,
          3,
          3,
          3,
          4,
          2,
          3,
          2,
          6,
          3,
          4,
          2,
          3,
          2,
          11,
          6,
          6,
          2,
          4,
          7,
          2,
          4,
          3,
          3,
          7,
          4,
          2,
          5,
          4,
          4,
          3,
          2,
          7,
          3,
          9,
          3,
          4,
          2,
          5,
          4,
          3,
          2,
          3,
          2,
          1,
          3,
          2,
          1,
          5,
          4,
          3,
          3,
          3,
          2,
          5,
          1,
          7,
          2,
          3,
          4,
          2,
          1,
          3,
          5,
          2,
          5,
          7,
          4,
          4,
          7,
          4,
          1,
          2,
          5,
          5,
          4,
          9,
          9,
          2,
          3,
          6,
          2,
          8,
          7,
          2,
          3,
          1,
          5,
          2,
          3,
          3,
          3,
          1,
          3,
          4,
          2,
          7,
          3,
          5,
          7,
          5,
          2,
          2,
          2,
          8,
          2,
          2,
          2,
          2,
          2,
          1,
          3,
          2,
          4,
          8,
          3,
          7,
          2,
          8,
          3,
          5,
          2,
          4,
          2,
          2,
          2,
          4,
          4,
          4,
          5,
          3,
          1,
          2,
          2,
          3,
          2,
          7,
          5,
          3,
          3,
          7,
          3,
          6,
          3,
          7,
          3,
          1,
          2,
          5,
          7,
          3,
          5,
          3,
          4,
          8,
          3,
          2,
          3,
          3,
          2,
          5,
          5,
          1,
          3,
          5,
          8,
          2,
          3,
          3,
          2,
          3,
          9,
          6,
          3,
          2,
          1,
          4,
          2,
          2,
          6,
          4,
          2,
          3,
          2,
          4,
          4,
          3,
          2,
          2,
          7,
          6,
          8,
          8,
          4,
          1,
          1,
          2,
          6,
          4,
          3,
          2,
          3,
          7,
          8,
          7,
          5,
          2,
          1,
          5,
          1,
          3,
          10,
          3,
          5,
          3,
          7,
          3,
          3,
          2,
          2,
          3,
          5,
          1,
          7,
          3,
          3,
          2,
          2,
          2,
          2,
          6,
          8,
          10,
          3,
          3,
          3,
          4,
          7,
          2,
          8,
          3,
          9,
          4,
          2,
          1,
          1,
          8,
          2,
          3,
          3,
          6,
          3,
          1,
          1,
          4,
          5,
          7,
          1,
          2,
          5,
          9,
          9,
          3,
          6,
          1,
          8,
          3,
          7,
          3,
          5,
          2,
          2,
          2,
          1,
          5,
          3,
          7,
          2,
          5,
          2,
          4,
          5,
          9,
          3,
          5,
          6,
          1,
          2,
          2,
          3,
          6,
          3,
          9,
          3,
          10,
          7,
          5,
          2,
          2,
          2,
          1,
          2,
          7,
          2,
          3,
          4,
          5,
          3,
          4,
          3,
          7,
          8,
          6,
          6,
          2,
          5,
          3,
          1,
          3,
          7,
          3,
          2,
          9,
          5,
          3,
          9,
          5,
          5,
          2,
          2,
          2,
          1,
          3,
          3,
          2,
          3,
          6,
          2,
          3,
          1,
          3,
          7,
          3,
          3,
          2,
          1,
          4,
          3,
          6,
          2,
          5,
          6,
          2,
          2,
          3,
          5,
          6,
          2,
          1,
          5,
          4,
          2,
          5,
          1,
          3,
          7,
          2,
          5,
          8,
          2,
          7,
          2,
          1,
          3,
          4,
          2,
          3,
          1,
          6,
          3,
          7,
          1,
          1,
          5,
          2,
          2,
          3,
          1,
          7,
          4,
          5,
          6,
          6,
          2,
          4,
          2,
          4,
          3,
          7,
          3,
          1,
          5,
          1,
          4,
          4,
          3,
          2,
          4,
          7,
          1,
          8,
          2,
          2,
          2,
          9,
          5,
          6,
          9,
          2,
          1,
          6,
          2,
          5,
          4,
          3,
          6,
          3,
          5,
          5,
          5,
          7,
          4,
          1,
          3,
          4,
          5,
          3,
          5,
          5,
          4,
          2,
          8,
          1,
          2,
          5,
          5,
          3,
          1,
          2,
          4,
          5,
          1,
          1,
          2,
          10,
          2,
          3,
          2,
          3,
          3,
          5,
          4,
          5,
          2,
          3,
          3,
          3,
          1,
          4,
          7,
          2,
          5,
          2,
          4,
          5,
          5,
          5,
          3,
          2,
          1,
          5,
          3,
          3,
          2,
          5,
          3,
          6,
          1,
          3,
          2,
          2,
          2,
          2,
          1,
          2,
          2,
          9,
          2,
          1,
          5,
          4,
          2,
          2,
          3,
          5,
          5,
          3,
          8,
          3,
          2,
          3,
          4,
          2,
          4,
          2,
          3,
          2,
          6,
          3,
          3,
          2,
          2,
          2,
          3,
          3,
          5,
          5,
          6,
          3,
          5,
          2,
          2,
          6,
          7,
          5,
          1,
          3,
          3,
          4,
          2,
          5,
          7,
          7,
          3,
          2,
          3,
          7,
          5,
          4,
          1,
          4,
          4,
          2,
          3,
          2,
          2,
          4,
          2,
          4,
          2,
          3,
          3,
          2,
          2,
          1,
          10,
          1,
          6,
          9,
          7,
          2,
          5,
          3,
          5,
          6,
          6,
          3,
          2,
          3,
          5,
          5,
          1,
          6,
          3,
          5,
          3,
          2,
          9,
          2,
          5,
          5,
          4,
          4,
          5,
          14,
          2,
          1,
          6,
          4,
          5,
          4,
          2,
          5,
          3,
          2,
          3,
          3,
          3,
          5,
          3,
          3,
          3,
          2,
          3,
          4,
          2,
          3,
          3,
          3,
          2,
          7,
          3,
          2,
          2,
          2,
          2,
          5,
          3,
          1,
          1,
          3,
          7,
          4,
          5,
          4,
          10,
          3,
          4,
          2,
          5,
          2,
          4,
          3,
          5,
          3,
          3,
          8,
          3,
          1,
          4,
          9,
          5,
          3,
          2,
          6,
          3,
          4,
          3,
          9,
          3,
          3,
          2,
          3,
          4,
          3,
          5,
          3,
          2,
          2,
          5,
          2,
          3,
          5,
          5,
          5,
          4,
          6,
          7,
          5,
          8,
          5,
          8,
          4,
          2,
          8,
          3,
          2,
          9,
          2,
          2,
          2,
          3,
          5,
          5,
          8,
          2,
          6,
          7,
          4,
          5,
          7,
          5,
          2,
          1,
          2,
          6,
          4,
          4,
          2,
          6,
          4,
          2,
          3,
          5,
          5,
          5,
          4,
          2,
          7,
          2,
          1,
          2,
          1,
          2,
          2,
          7,
          2,
          3,
          2,
          5,
          7,
          2,
          3,
          3,
          2,
          5,
          10,
          2,
          3,
          2,
          7,
          2,
          3,
          4,
          3,
          7,
          2,
          1,
          6,
          2,
          4,
          3,
          3,
          3,
          1,
          2,
          4,
          3,
          2,
          1,
          2,
          3,
          3,
          1,
          2,
          4,
          1,
          3,
          4,
          5,
          2,
          2,
          6,
          8,
          5,
          1,
          4,
          2,
          10,
          9,
          1,
          2,
          2,
          3,
          5,
          2,
          3,
          2,
          1,
          2,
          5,
          5,
          5,
          8,
          2,
          3,
          3,
          2,
          1,
          9,
          3,
          5,
          5,
          8,
          3,
          4,
          9,
          5,
          2,
          5,
          3,
          1,
          2,
          6,
          2,
          1,
          3,
          4,
          7,
          1,
          4,
          2,
          3,
          2,
          5,
          7,
          2,
          4,
          2
         ]
        },
        {
         "marker": {
          "color": "rgba(12,50,196,0.6)"
         },
         "name": "Califronia",
         "opacity": 0.8,
         "type": "histogram",
         "x": [
          2,
          7,
          4,
          6,
          3,
          5,
          9,
          4,
          2,
          3,
          4,
          2,
          3,
          2,
          2,
          6,
          3,
          4,
          5,
          1,
          3,
          2,
          1,
          3,
          2,
          3,
          3,
          1,
          4,
          2,
          3,
          6,
          14,
          3,
          3,
          3,
          7,
          7,
          4,
          6,
          1,
          3,
          2,
          7,
          8,
          7,
          4,
          6,
          3,
          2,
          2,
          1,
          13,
          2,
          4,
          7,
          3,
          3,
          2,
          1,
          5,
          2,
          6,
          1,
          1,
          2,
          4,
          2,
          3,
          3,
          4,
          7,
          3,
          5,
          3,
          5,
          7,
          1,
          9,
          1,
          13,
          2,
          8,
          5,
          4,
          1,
          2,
          3,
          2,
          4,
          6,
          7,
          5,
          6,
          3,
          2,
          5,
          5,
          8,
          4,
          2,
          9,
          3,
          2,
          3,
          2,
          1,
          3,
          2,
          2,
          2,
          4,
          5,
          3,
          7,
          3,
          14,
          4,
          2,
          4,
          2,
          3,
          5,
          8,
          5,
          3,
          5,
          4,
          2,
          7,
          1,
          5,
          3,
          3,
          2,
          10,
          4,
          3,
          4,
          9,
          3,
          3,
          4,
          1,
          2,
          2,
          2,
          4,
          5,
          1,
          2,
          2,
          2,
          7,
          4,
          3,
          4,
          4,
          2,
          2,
          2,
          6,
          2,
          2,
          4,
          3,
          12,
          6,
          7,
          3,
          3,
          2,
          2,
          2,
          4,
          2,
          2,
          4,
          2,
          2,
          2,
          3,
          5,
          3,
          4,
          5,
          2,
          3,
          12,
          1,
          4,
          2,
          4,
          7,
          3,
          1,
          9,
          2,
          5,
          4,
          3,
          1,
          3,
          3,
          2,
          1,
          2,
          2,
          3,
          2,
          4,
          1,
          2,
          1,
          1,
          3,
          5,
          4,
          4,
          8,
          3,
          4,
          4,
          9,
          8,
          2,
          1,
          2,
          6,
          12,
          3,
          3,
          1,
          6,
          4,
          5,
          3,
          5,
          1,
          2,
          2,
          2,
          7,
          3,
          2,
          3,
          2,
          6,
          8,
          5,
          4,
          3,
          8,
          3,
          5,
          3,
          1,
          2,
          5,
          2,
          4,
          3,
          3,
          2,
          5,
          5,
          14,
          2,
          3,
          3,
          4,
          4,
          7,
          3,
          7,
          3,
          3,
          5,
          2,
          2,
          4,
          6,
          2,
          8,
          9,
          7,
          2,
          3,
          4,
          2,
          6,
          3,
          5,
          3,
          1,
          2,
          3,
          5,
          3,
          5,
          1,
          4,
          3,
          2,
          2,
          2,
          7,
          5,
          3,
          2,
          2,
          3,
          3,
          3,
          1,
          3,
          2,
          7,
          5,
          6,
          2,
          2,
          1,
          5,
          14,
          2,
          3,
          2,
          5,
          8,
          2,
          9,
          2,
          2,
          4,
          6,
          3,
          9,
          5,
          5,
          7,
          7,
          7,
          3,
          2,
          3,
          2,
          3,
          5,
          2,
          1,
          4,
          3,
          3,
          2,
          1,
          4,
          3,
          3,
          2,
          3,
          5,
          8,
          3,
          6,
          3,
          4,
          5,
          7,
          2,
          2,
          4,
          6,
          5,
          2,
          4,
          6,
          3,
          5,
          2,
          13,
          3,
          4,
          3,
          9,
          3,
          4,
          3,
          5,
          3,
          7,
          3,
          6,
          2,
          1,
          3,
          3,
          5,
          4,
          3,
          4,
          2,
          1,
          7,
          3,
          1,
          6,
          1,
          3,
          3,
          2,
          3,
          1,
          13,
          2,
          4,
          4,
          1,
          4,
          2,
          2,
          1,
          7,
          2,
          2,
          2,
          1,
          3,
          2,
          5,
          5,
          6,
          3,
          3,
          3,
          2,
          7,
          2,
          1,
          3,
          7,
          2,
          1,
          3,
          5,
          2,
          5,
          6,
          2,
          2,
          3,
          6,
          7,
          5,
          1,
          3,
          1,
          5,
          4,
          9,
          4,
          4,
          2,
          2,
          2,
          2,
          6,
          9,
          7,
          10,
          5,
          3,
          8,
          5,
          2,
          3,
          2,
          1,
          8,
          2,
          5,
          2,
          5,
          7,
          4,
          3,
          6,
          3,
          2,
          1,
          2,
          4,
          5,
          8,
          3,
          6,
          4,
          6,
          3,
          4,
          1,
          1,
          3,
          1,
          2,
          3,
          6,
          2,
          13,
          2,
          5,
          3,
          1,
          4,
          3,
          9,
          5,
          7,
          3,
          2,
          5,
          2,
          2,
          6,
          3,
          11,
          2,
          2,
          3,
          5,
          5,
          2,
          1,
          5,
          3,
          2,
          4,
          2,
          14,
          4,
          7,
          3,
          3,
          6,
          5,
          3,
          3,
          1,
          3,
          5,
          4,
          3,
          7,
          3,
          4,
          1,
          8,
          2,
          7,
          4,
          2,
          3,
          2,
          5,
          2,
          2,
          2,
          1,
          9,
          1,
          7,
          3,
          14,
          5,
          4,
          4,
          2,
          2,
          5,
          2,
          1,
          4,
          5,
          7,
          4,
          3,
          3,
          2,
          2,
          8,
          2,
          10,
          2,
          2,
          2,
          2,
          8,
          2,
          3,
          2,
          2,
          5,
          4,
          5,
          2,
          5,
          3,
          9,
          2,
          3,
          1,
          4,
          8,
          1,
          2,
          8,
          5,
          8,
          5,
          9,
          6,
          3,
          1,
          2,
          7,
          3,
          8,
          5,
          6,
          3,
          5,
          5,
          1,
          3,
          2,
          3,
          5,
          2,
          9,
          3,
          4,
          4,
          4,
          3,
          9,
          3,
          5,
          5,
          3,
          2,
          2,
          6,
          2,
          2,
          9,
          2,
          4,
          2,
          2,
          2,
          8,
          7,
          4,
          2,
          3,
          2,
          9,
          1,
          2,
          5,
          1,
          2,
          2,
          2,
          7,
          6,
          2,
          6,
          5,
          2,
          8,
          4,
          4,
          4,
          5,
          2,
          2,
          6,
          7,
          2,
          4,
          4,
          2,
          2,
          1,
          1,
          2,
          2,
          1,
          5,
          12,
          2,
          1,
          1,
          2,
          8,
          2,
          2,
          1,
          5,
          1,
          4,
          2,
          3,
          3,
          5,
          2,
          4,
          2,
          5,
          3,
          3,
          2,
          5,
          2,
          2,
          2,
          6,
          6,
          7,
          6,
          1,
          3,
          4,
          2,
          2,
          2,
          6,
          5,
          1,
          5,
          4,
          2,
          9,
          1,
          7,
          2,
          4,
          3,
          2,
          6,
          8,
          14,
          5,
          5,
          2,
          3,
          3,
          3,
          3,
          9,
          4,
          5,
          1,
          3,
          11,
          5,
          4,
          5,
          4,
          6,
          3,
          3,
          9,
          6,
          5,
          7,
          3,
          2,
          3,
          3,
          5,
          2,
          2,
          3,
          7,
          8,
          5,
          7,
          7,
          3,
          1,
          4,
          2,
          7,
          2,
          5,
          9,
          2,
          5,
          3,
          8,
          2,
          4,
          3,
          3,
          2,
          9,
          1,
          3,
          4,
          3,
          2,
          7,
          4,
          3,
          3,
          4,
          2,
          3,
          3,
          2,
          3,
          3,
          6,
          6,
          2,
          4,
          4,
          2,
          5,
          3,
          5,
          3,
          3,
          4,
          3,
          2,
          2,
          6,
          2,
          5,
          2,
          1,
          3,
          5,
          2,
          5,
          4,
          2,
          2,
          5,
          7,
          2,
          12,
          3,
          2,
          3,
          3,
          3,
          9,
          6,
          2,
          2,
          5,
          7,
          2,
          3,
          3,
          1,
          1,
          3,
          4,
          3,
          2,
          2,
          3,
          3,
          3,
          3,
          3,
          5,
          3,
          2,
          2,
          7,
          5,
          6,
          3,
          3,
          7,
          2,
          2,
          3,
          2,
          3,
          3,
          8,
          6,
          3,
          5,
          3,
          6,
          1,
          3,
          4,
          3,
          2,
          5,
          4,
          1,
          5,
          3,
          2,
          3,
          7,
          7,
          2,
          7,
          6,
          3,
          3,
          3,
          2,
          1,
          3,
          3,
          3,
          4,
          3,
          3,
          4,
          1,
          2,
          10,
          3,
          3,
          4,
          5,
          2,
          4,
          2,
          3,
          3,
          3,
          3,
          4,
          9,
          5,
          2,
          4,
          1,
          5,
          3,
          5,
          2,
          2,
          2,
          7,
          3,
          1,
          1,
          1,
          2,
          2,
          3,
          3,
          4,
          1,
          5,
          1,
          2,
          3,
          3,
          2,
          2,
          3,
          4,
          3,
          1,
          8,
          3,
          4,
          9,
          5,
          4,
          3,
          5,
          5,
          6,
          5,
          4,
          2,
          3,
          1,
          3,
          8,
          2,
          2,
          2,
          4,
          4,
          2,
          3,
          2,
          2,
          2,
          2,
          2,
          7,
          3,
          3,
          3,
          5,
          5,
          3,
          3,
          2,
          2,
          5,
          1,
          7,
          1,
          3,
          2,
          2,
          3,
          2,
          6,
          5,
          4,
          5,
          4,
          7,
          4,
          2,
          3,
          2,
          4,
          5,
          6,
          3,
          4,
          3,
          2,
          6,
          2,
          5,
          1,
          2,
          2,
          3,
          6,
          3,
          3,
          2,
          5,
          12,
          5,
          5,
          1,
          3,
          4,
          1,
          3,
          1,
          3,
          5,
          6,
          5,
          3,
          5,
          3,
          6,
          8,
          3,
          3,
          3,
          3,
          1,
          2,
          4,
          2,
          2,
          4,
          4,
          2,
          5,
          6,
          4,
          12,
          2,
          1,
          3,
          7,
          6,
          3,
          2,
          5,
          9,
          2,
          5,
          3,
          2,
          2,
          4,
          4,
          2,
          5,
          3,
          6,
          3,
          5,
          5,
          2,
          5,
          1,
          2,
          6,
          2,
          2,
          2,
          3,
          2,
          1,
          2,
          4,
          3,
          7,
          7,
          3,
          5,
          4,
          1,
          3,
          4,
          3,
          3,
          4,
          7,
          1,
          1,
          3,
          1,
          3,
          1,
          4,
          4,
          7,
          1,
          2,
          1,
          2,
          2,
          4,
          2,
          3,
          2,
          1,
          5,
          4,
          4,
          4,
          4,
          5,
          4,
          7,
          5,
          2,
          3,
          2,
          7,
          2,
          9,
          9,
          2,
          3,
          3,
          3,
          3,
          3,
          5,
          1,
          9,
          3,
          4,
          5,
          4,
          1,
          2,
          3,
          3,
          3,
          12,
          2,
          4,
          1,
          5,
          4,
          4,
          5,
          5,
          4,
          3,
          4,
          9,
          2,
          4,
          3,
          6,
          3,
          1,
          2,
          4,
          3,
          7,
          7,
          3,
          4,
          3,
          3,
          6,
          3,
          3,
          5,
          8,
          2,
          7,
          3,
          1,
          3,
          3,
          3,
          3,
          5,
          3,
          3,
          8,
          1,
          1,
          3,
          2,
          3,
          6,
          5,
          2,
          1,
          4,
          2,
          4,
          2,
          3,
          4,
          4,
          2,
          2,
          6,
          10,
          4,
          4,
          2,
          5,
          1,
          9,
          3,
          2,
          1,
          1,
          9,
          5,
          5,
          5,
          3,
          6,
          4,
          8,
          3,
          3,
          3,
          3,
          3,
          5,
          6,
          5,
          4,
          4,
          5,
          1,
          3,
          2,
          2,
          5,
          2,
          8,
          2,
          7,
          7,
          6,
          4,
          7,
          2,
          3,
          5,
          10,
          2,
          1,
          2,
          5,
          5,
          1,
          8,
          3,
          3,
          5,
          3,
          7,
          4,
          6,
          3,
          3,
          2,
          6,
          4,
          6,
          8,
          1,
          2,
          7,
          6,
          4,
          4,
          2,
          2,
          3,
          2,
          3,
          3,
          8,
          5,
          2,
          3,
          3,
          3,
          9,
          4,
          3,
          2,
          1,
          6,
          5,
          1,
          2,
          5,
          1,
          2,
          5,
          1,
          5,
          5,
          2,
          4,
          4,
          3,
          2,
          5,
          11,
          8,
          3,
          2,
          5,
          3,
          2,
          9,
          2,
          9,
          3,
          3,
          5,
          1,
          3,
          4,
          5,
          7,
          3,
          4,
          3,
          7,
          1,
          5,
          2,
          3,
          4,
          5,
          2,
          1,
          3,
          2,
          3,
          5,
          2,
          7,
          2,
          3,
          3,
          1,
          4,
          5,
          2,
          1,
          4,
          5,
          3,
          9,
          7,
          3,
          2,
          2,
          7,
          6,
          1,
          2,
          9,
          3,
          1,
          2,
          4,
          1,
          4,
          3,
          10,
          3,
          3,
          5,
          3,
          3,
          5,
          2,
          2,
          11,
          3,
          3,
          2,
          4,
          2,
          3,
          7,
          4,
          6,
          3,
          3,
          7,
          7,
          7,
          6,
          2,
          7,
          5,
          2,
          3,
          7,
          2,
          4,
          2,
          3,
          4,
          9,
          2,
          9,
          7,
          4,
          2,
          3,
          2,
          4,
          7,
          1,
          7,
          5,
          3,
          3,
          3,
          11,
          3,
          7,
          1,
          3,
          5,
          3,
          5,
          5,
          3,
          2,
          3,
          8,
          3,
          6,
          5,
          5,
          2,
          3,
          4,
          2,
          2,
          8,
          2,
          8,
          4,
          1,
          2,
          6,
          2,
          3,
          4,
          4,
          3,
          3,
          3,
          2,
          1,
          2,
          2,
          6,
          3,
          6,
          3,
          3,
          3,
          2,
          9,
          4,
          3,
          2,
          4,
          3,
          3,
          4,
          7,
          3,
          1,
          5,
          5,
          4,
          3,
          3,
          2,
          4,
          2,
          4,
          5,
          3,
          6,
          4,
          6,
          4,
          3,
          2,
          1,
          4,
          2,
          2,
          3,
          1,
          3,
          3,
          3,
          2,
          2,
          2,
          8,
          5,
          3,
          3,
          3,
          3,
          2,
          2,
          2,
          2,
          2,
          4,
          2,
          2,
          5,
          2,
          3,
          8,
          3,
          2,
          2,
          2,
          3,
          2,
          3,
          9,
          3,
          8,
          2,
          10,
          4,
          5,
          4,
          5,
          3,
          1,
          4,
          1,
          5,
          12,
          6,
          7,
          1,
          3,
          5,
          2,
          9,
          5,
          3,
          2,
          3,
          6,
          2,
          2,
          3,
          3,
          2,
          7,
          7,
          6,
          3,
          5,
          2,
          3,
          11,
          2,
          2,
          2,
          4,
          3,
          3,
          7,
          3,
          3,
          4,
          4,
          7,
          5,
          6,
          7,
          3,
          3,
          7,
          1,
          6,
          4,
          5,
          2,
          6,
          2,
          5,
          2,
          8,
          3,
          4,
          3,
          5,
          3,
          2,
          4,
          9,
          6,
          3,
          4,
          2,
          5,
          3,
          2,
          1,
          6,
          6,
          2,
          3,
          2,
          4,
          4,
          5,
          2,
          2,
          2,
          2,
          2,
          2,
          3,
          3,
          2,
          3,
          2,
          7,
          2,
          3,
          2,
          5,
          3,
          4,
          3,
          2,
          5,
          5,
          4,
          3,
          3,
          2,
          1,
          5,
          2,
          3,
          7,
          3,
          5,
          5,
          4,
          2,
          7,
          2,
          5,
          2,
          5,
          1,
          4,
          3,
          3,
          3,
          3,
          6,
          5,
          2,
          2,
          2,
          1,
          2,
          2,
          5,
          5,
          4,
          4,
          3,
          2,
          3,
          3,
          2,
          6,
          2,
          5,
          2,
          11,
          3,
          2,
          9,
          9,
          3,
          3,
          3,
          4,
          7,
          8,
          5,
          2,
          5,
          2,
          3,
          3,
          1,
          2,
          7,
          5,
          5,
          5,
          3,
          3,
          2,
          5,
          5,
          5,
          3,
          2,
          2,
          4,
          2,
          2,
          7,
          3,
          4,
          4,
          6,
          3,
          2,
          5,
          7,
          5,
          7,
          1,
          5,
          2,
          4,
          1,
          3,
          2,
          1,
          3,
          3,
          3,
          3,
          3,
          4,
          2,
          1,
          1,
          5,
          2,
          5,
          6,
          1,
          8,
          3,
          2,
          3,
          5,
          7,
          4,
          3,
          9,
          9,
          3,
          4,
          7,
          3,
          1,
          6,
          1,
          2,
          5,
          3,
          1,
          2,
          1,
          2,
          2,
          4,
          6,
          8,
          2,
          3,
          4,
          5,
          1,
          6,
          3,
          5,
          3,
          7,
          8,
          2,
          7,
          2,
          5,
          6,
          5,
          3,
          3,
          2,
          2,
          3,
          6,
          3,
          2,
          3,
          1,
          6,
          6,
          8,
          3,
          6,
          1,
          3,
          4,
          2,
          2,
          3,
          2,
          3,
          5,
          3,
          2,
          3,
          3,
          4,
          9,
          2,
          2,
          2,
          8,
          9,
          2,
          6,
          5,
          9,
          2,
          3,
          3,
          2,
          3,
          3,
          7,
          3,
          5,
          4,
          2,
          9,
          3,
          6,
          8,
          2,
          1,
          6,
          6,
          2,
          3,
          4,
          3,
          2,
          3,
          3,
          3,
          2,
          3,
          2,
          8,
          2,
          6,
          5,
          3,
          5,
          2,
          2,
          5,
          5,
          6,
          7,
          3,
          3,
          4,
          3,
          4,
          5,
          2,
          1,
          3,
          8,
          2,
          4,
          5,
          5,
          5,
          2,
          4,
          2,
          2,
          3,
          2,
          7,
          3,
          3,
          5,
          3,
          2,
          3,
          3,
          3,
          5,
          2,
          4,
          7,
          2,
          14,
          9,
          5,
          2,
          1,
          3,
          2,
          5,
          7,
          2,
          2,
          7,
          4,
          14,
          1,
          2,
          2,
          4,
          2
         ]
        },
        {
         "marker": {
          "color": "red"
         },
         "name": "New York",
         "opacity": 0.5,
         "type": "histogram",
         "x": [
          7,
          5,
          6,
          5,
          5,
          2,
          2,
          4,
          1,
          1,
          7,
          2,
          1,
          4,
          6,
          8,
          3,
          5,
          6,
          4,
          3,
          3,
          5,
          2,
          1,
          2,
          6,
          4,
          1,
          1,
          2,
          1,
          4,
          4,
          6,
          2,
          4,
          5,
          2,
          3,
          2,
          8,
          4,
          2,
          3,
          1,
          3,
          3,
          3,
          6,
          3,
          3,
          4,
          1,
          3,
          5,
          5,
          2,
          2,
          5,
          3,
          5,
          4,
          6,
          2,
          7,
          4,
          7,
          3,
          2,
          2,
          9,
          1,
          3,
          7,
          10,
          2,
          8,
          5,
          3,
          2,
          4,
          2,
          4,
          5,
          8,
          1,
          6,
          2,
          3,
          8,
          2,
          3,
          3,
          2,
          3,
          7,
          2,
          7,
          9,
          3,
          4,
          4,
          2,
          3,
          2,
          10,
          2,
          2,
          7,
          3,
          5,
          2,
          5,
          3,
          8,
          4,
          7,
          3,
          3,
          1,
          5,
          2,
          2,
          3,
          2,
          4,
          3,
          3,
          7,
          3,
          6,
          5,
          3,
          2,
          7,
          7,
          3,
          2,
          3,
          5,
          5,
          2,
          3,
          2,
          2,
          3,
          4,
          2,
          8,
          1,
          2,
          7,
          1,
          3,
          5,
          2,
          3,
          3,
          4,
          6,
          1,
          3,
          7,
          7,
          2,
          4,
          3,
          1,
          1,
          4,
          3,
          2,
          2,
          2,
          4,
          3,
          4,
          6,
          9,
          13,
          2,
          3,
          3,
          2,
          4,
          3,
          2,
          3,
          8,
          3,
          5,
          4,
          2,
          4,
          1,
          2,
          2,
          2,
          4,
          7,
          2,
          6,
          3,
          7,
          2,
          4,
          1,
          6,
          3,
          6,
          7,
          1,
          4,
          5,
          3,
          2,
          9,
          2,
          2,
          3,
          2,
          5,
          3,
          3,
          4,
          13,
          2,
          1,
          5,
          4,
          2,
          9,
          2,
          2,
          5,
          5,
          4,
          8,
          4,
          2,
          3,
          1,
          1,
          8,
          3,
          6,
          2,
          4,
          1,
          3,
          7,
          4,
          2,
          5,
          2,
          2,
          2,
          1,
          1,
          8,
          3,
          6,
          5,
          3,
          2,
          3,
          4,
          4,
          5,
          5,
          3,
          2,
          4,
          2,
          1,
          3,
          3,
          9,
          2,
          3,
          5,
          2,
          7,
          3,
          4,
          5,
          5,
          8,
          4,
          1,
          1,
          1,
          1,
          1,
          1,
          4,
          5,
          1,
          7,
          4,
          5,
          3,
          1,
          2,
          4,
          4,
          7,
          4,
          3,
          7,
          4,
          1,
          7,
          9,
          4,
          2,
          2,
          5,
          7,
          5,
          6,
          3,
          3,
          8,
          8,
          1,
          6,
          3,
          5,
          2,
          1,
          1,
          3,
          4,
          4,
          7,
          2,
          1,
          2,
          8,
          7,
          1,
          2,
          7,
          3,
          3,
          1,
          4,
          4,
          8,
          5,
          1,
          4,
          3,
          3,
          4,
          11,
          2,
          6,
          9,
          2,
          3,
          3,
          4,
          1,
          1,
          4,
          3,
          2,
          5,
          11,
          3,
          5,
          2,
          4,
          5,
          4,
          3,
          1,
          1,
          1,
          3,
          2,
          3,
          4,
          1,
          5,
          2,
          11,
          3,
          1,
          3,
          3,
          6,
          4,
          2,
          3,
          3,
          5,
          2,
          2,
          2,
          3,
          2,
          5,
          1,
          3,
          3,
          2,
          1,
          5,
          3,
          3,
          3,
          11,
          6,
          5,
          2,
          3,
          3,
          3,
          3,
          4,
          3,
          3,
          5,
          4,
          2,
          3,
          7,
          5,
          2,
          14,
          3,
          7,
          2,
          4,
          5,
          3,
          2,
          10,
          3,
          3,
          3,
          4,
          1,
          1,
          3,
          4,
          9,
          3,
          2,
          3,
          3,
          3,
          2,
          6,
          6,
          2,
          9,
          3,
          3,
          3,
          2,
          2,
          1,
          7,
          2,
          4,
          2,
          5,
          8,
          7,
          2,
          3,
          3,
          10,
          3,
          2,
          2,
          3,
          3,
          2,
          3,
          3,
          3,
          3,
          2,
          3,
          4,
          3,
          3,
          3,
          1,
          2,
          6,
          7,
          4,
          7,
          2,
          2,
          2,
          2,
          9,
          2,
          3,
          7,
          2,
          3,
          3,
          3,
          3,
          3,
          3,
          9,
          2,
          2,
          2,
          5,
          7,
          6,
          2,
          5,
          4,
          2,
          3,
          11,
          1,
          3,
          2,
          7,
          5,
          2,
          5,
          3,
          2,
          3,
          9,
          4,
          3,
          3,
          4,
          2,
          2,
          1,
          3,
          3,
          1,
          4,
          3,
          3,
          1,
          3,
          3,
          6,
          3,
          5,
          3,
          3,
          2,
          5,
          2,
          6,
          5,
          4,
          2,
          3,
          3,
          1,
          3,
          7,
          9,
          9,
          7,
          4,
          2,
          1,
          3,
          9,
          7,
          4,
          3,
          5,
          6,
          8,
          1,
          3,
          1,
          3,
          3,
          2,
          2,
          1,
          2,
          5,
          1,
          3,
          5,
          5,
          6,
          2,
          4,
          1,
          8,
          5,
          3,
          2,
          2,
          1,
          5,
          4,
          5,
          6,
          2,
          5,
          1,
          4,
          1,
          2,
          1,
          13,
          3,
          6,
          5,
          2,
          3,
          2,
          6,
          2,
          3,
          2,
          3,
          2,
          5,
          4,
          3,
          3,
          6,
          5,
          2,
          5,
          5,
          6,
          7,
          1,
          3,
          3,
          3,
          2,
          7,
          3,
          3,
          9,
          3,
          5,
          10,
          3,
          9,
          4,
          3,
          2,
          3,
          4,
          3,
          4,
          9,
          4,
          4,
          1,
          2,
          2,
          4,
          5,
          7,
          2,
          4,
          6,
          5,
          3,
          2,
          2,
          4,
          2,
          5,
          2,
          1,
          2,
          2,
          2,
          5,
          2,
          5,
          4,
          3,
          6,
          2,
          3,
          3,
          3,
          2,
          9,
          2,
          4,
          2,
          1,
          3,
          2,
          11,
          2,
          5,
          3,
          3,
          4,
          3,
          6,
          14,
          3,
          2,
          3,
          6,
          6,
          9,
          3,
          8,
          4,
          3,
          4,
          1,
          1,
          3,
          4,
          5,
          4,
          2,
          4,
          5,
          1,
          2,
          1,
          1,
          2,
          2,
          4,
          3,
          3,
          2,
          2,
          6,
          4,
          1,
          2,
          5,
          5,
          3,
          2,
          5,
          3,
          1,
          7,
          2,
          6,
          4,
          5,
          3,
          5,
          3,
          3,
          4,
          3,
          10,
          4,
          9,
          2,
          4,
          14,
          3,
          6,
          3,
          3,
          1,
          5,
          1,
          3,
          2,
          3,
          2,
          4,
          9,
          3,
          4,
          7,
          1,
          7,
          12,
          2,
          5,
          4,
          3,
          5,
          7,
          3,
          3,
          4,
          3,
          2,
          5,
          2,
          1,
          7,
          6,
          4,
          2,
          3,
          2,
          3,
          3,
          3,
          3,
          2,
          3,
          2,
          3,
          6,
          2,
          5,
          9,
          6,
          2,
          2,
          4,
          2,
          2,
          5,
          2,
          3,
          3,
          3,
          3,
          3,
          8,
          3,
          2,
          2,
          2,
          5,
          2,
          3,
          8,
          2,
          2,
          3,
          3,
          1,
          5,
          5,
          2,
          3,
          2,
          2,
          3,
          2,
          6,
          2,
          3,
          4,
          2,
          3,
          2,
          4,
          6,
          3,
          6,
          3,
          4,
          3,
          3,
          6,
          2,
          3,
          2,
          5,
          9,
          1,
          3,
          2,
          2,
          3,
          4,
          6,
          4,
          3,
          2,
          3,
          1,
          3,
          1,
          2,
          2,
          5,
          3,
          4,
          3,
          5,
          3,
          3,
          1,
          3,
          3,
          2,
          4,
          5,
          5,
          8,
          1,
          3,
          2,
          1,
          1,
          4,
          5,
          7,
          3,
          5,
          2,
          4,
          3,
          2,
          3,
          2,
          8,
          5,
          9,
          6,
          2,
          6,
          9,
          6,
          4,
          5,
          2,
          3,
          4,
          2,
          2,
          2,
          3,
          2,
          3,
          3,
          7,
          8,
          7,
          2,
          1,
          2,
          5,
          4,
          5,
          3,
          2,
          3,
          4,
          2,
          3,
          3,
          2,
          6,
          2,
          2,
          2,
          2,
          7,
          13,
          2,
          2,
          3,
          2,
          4,
          2,
          2,
          4,
          3,
          5,
          2,
          2,
          4,
          6,
          2,
          2,
          4,
          3,
          2,
          6,
          2,
          3,
          3,
          3,
          2,
          2,
          4,
          1,
          3,
          9,
          2,
          2,
          7,
          1,
          3,
          4,
          3,
          2,
          4,
          2,
          3,
          11,
          6,
          4,
          2,
          1,
          3,
          5,
          1,
          7,
          1,
          3,
          7,
          6,
          3,
          4,
          8,
          2,
          2,
          4,
          2,
          5,
          3,
          1,
          7,
          2,
          6,
          4,
          5,
          2,
          2,
          6,
          1,
          9,
          2,
          6,
          9,
          1,
          6,
          5,
          2,
          3,
          6,
          2,
          2,
          2,
          2,
          1,
          2,
          5,
          9,
          1,
          7,
          2,
          9,
          14,
          7,
          2,
          2,
          3,
          1,
          5,
          5,
          1,
          2,
          2,
          3,
          6,
          3,
          3,
          6,
          3,
          1,
          4,
          4,
          3,
          1,
          4,
          3,
          3,
          13,
          3,
          2,
          2,
          1,
          1,
          2,
          3,
          2,
          3,
          2,
          5,
          7,
          3,
          1,
          2,
          7,
          2,
          1,
          1,
          3,
          1,
          8,
          2,
          4,
          3,
          5,
          4,
          7,
          5,
          4,
          2,
          10,
          4
         ]
        }
       ],
       "layout": {
        "barmode": "overlay",
        "template": {
         "data": {
          "bar": [
           {
            "error_x": {
             "color": "#2a3f5f"
            },
            "error_y": {
             "color": "#2a3f5f"
            },
            "marker": {
             "line": {
              "color": "#E5ECF6",
              "width": 0.5
             },
             "pattern": {
              "fillmode": "overlay",
              "size": 10,
              "solidity": 0.2
             }
            },
            "type": "bar"
           }
          ],
          "barpolar": [
           {
            "marker": {
             "line": {
              "color": "#E5ECF6",
              "width": 0.5
             },
             "pattern": {
              "fillmode": "overlay",
              "size": 10,
              "solidity": 0.2
             }
            },
            "type": "barpolar"
           }
          ],
          "carpet": [
           {
            "aaxis": {
             "endlinecolor": "#2a3f5f",
             "gridcolor": "white",
             "linecolor": "white",
             "minorgridcolor": "white",
             "startlinecolor": "#2a3f5f"
            },
            "baxis": {
             "endlinecolor": "#2a3f5f",
             "gridcolor": "white",
             "linecolor": "white",
             "minorgridcolor": "white",
             "startlinecolor": "#2a3f5f"
            },
            "type": "carpet"
           }
          ],
          "choropleth": [
           {
            "colorbar": {
             "outlinewidth": 0,
             "ticks": ""
            },
            "type": "choropleth"
           }
          ],
          "contour": [
           {
            "colorbar": {
             "outlinewidth": 0,
             "ticks": ""
            },
            "colorscale": [
             [
              0,
              "#0d0887"
             ],
             [
              0.1111111111111111,
              "#46039f"
             ],
             [
              0.2222222222222222,
              "#7201a8"
             ],
             [
              0.3333333333333333,
              "#9c179e"
             ],
             [
              0.4444444444444444,
              "#bd3786"
             ],
             [
              0.5555555555555556,
              "#d8576b"
             ],
             [
              0.6666666666666666,
              "#ed7953"
             ],
             [
              0.7777777777777778,
              "#fb9f3a"
             ],
             [
              0.8888888888888888,
              "#fdca26"
             ],
             [
              1,
              "#f0f921"
             ]
            ],
            "type": "contour"
           }
          ],
          "contourcarpet": [
           {
            "colorbar": {
             "outlinewidth": 0,
             "ticks": ""
            },
            "type": "contourcarpet"
           }
          ],
          "heatmap": [
           {
            "colorbar": {
             "outlinewidth": 0,
             "ticks": ""
            },
            "colorscale": [
             [
              0,
              "#0d0887"
             ],
             [
              0.1111111111111111,
              "#46039f"
             ],
             [
              0.2222222222222222,
              "#7201a8"
             ],
             [
              0.3333333333333333,
              "#9c179e"
             ],
             [
              0.4444444444444444,
              "#bd3786"
             ],
             [
              0.5555555555555556,
              "#d8576b"
             ],
             [
              0.6666666666666666,
              "#ed7953"
             ],
             [
              0.7777777777777778,
              "#fb9f3a"
             ],
             [
              0.8888888888888888,
              "#fdca26"
             ],
             [
              1,
              "#f0f921"
             ]
            ],
            "type": "heatmap"
           }
          ],
          "heatmapgl": [
           {
            "colorbar": {
             "outlinewidth": 0,
             "ticks": ""
            },
            "colorscale": [
             [
              0,
              "#0d0887"
             ],
             [
              0.1111111111111111,
              "#46039f"
             ],
             [
              0.2222222222222222,
              "#7201a8"
             ],
             [
              0.3333333333333333,
              "#9c179e"
             ],
             [
              0.4444444444444444,
              "#bd3786"
             ],
             [
              0.5555555555555556,
              "#d8576b"
             ],
             [
              0.6666666666666666,
              "#ed7953"
             ],
             [
              0.7777777777777778,
              "#fb9f3a"
             ],
             [
              0.8888888888888888,
              "#fdca26"
             ],
             [
              1,
              "#f0f921"
             ]
            ],
            "type": "heatmapgl"
           }
          ],
          "histogram": [
           {
            "marker": {
             "pattern": {
              "fillmode": "overlay",
              "size": 10,
              "solidity": 0.2
             }
            },
            "type": "histogram"
           }
          ],
          "histogram2d": [
           {
            "colorbar": {
             "outlinewidth": 0,
             "ticks": ""
            },
            "colorscale": [
             [
              0,
              "#0d0887"
             ],
             [
              0.1111111111111111,
              "#46039f"
             ],
             [
              0.2222222222222222,
              "#7201a8"
             ],
             [
              0.3333333333333333,
              "#9c179e"
             ],
             [
              0.4444444444444444,
              "#bd3786"
             ],
             [
              0.5555555555555556,
              "#d8576b"
             ],
             [
              0.6666666666666666,
              "#ed7953"
             ],
             [
              0.7777777777777778,
              "#fb9f3a"
             ],
             [
              0.8888888888888888,
              "#fdca26"
             ],
             [
              1,
              "#f0f921"
             ]
            ],
            "type": "histogram2d"
           }
          ],
          "histogram2dcontour": [
           {
            "colorbar": {
             "outlinewidth": 0,
             "ticks": ""
            },
            "colorscale": [
             [
              0,
              "#0d0887"
             ],
             [
              0.1111111111111111,
              "#46039f"
             ],
             [
              0.2222222222222222,
              "#7201a8"
             ],
             [
              0.3333333333333333,
              "#9c179e"
             ],
             [
              0.4444444444444444,
              "#bd3786"
             ],
             [
              0.5555555555555556,
              "#d8576b"
             ],
             [
              0.6666666666666666,
              "#ed7953"
             ],
             [
              0.7777777777777778,
              "#fb9f3a"
             ],
             [
              0.8888888888888888,
              "#fdca26"
             ],
             [
              1,
              "#f0f921"
             ]
            ],
            "type": "histogram2dcontour"
           }
          ],
          "mesh3d": [
           {
            "colorbar": {
             "outlinewidth": 0,
             "ticks": ""
            },
            "type": "mesh3d"
           }
          ],
          "parcoords": [
           {
            "line": {
             "colorbar": {
              "outlinewidth": 0,
              "ticks": ""
             }
            },
            "type": "parcoords"
           }
          ],
          "pie": [
           {
            "automargin": true,
            "type": "pie"
           }
          ],
          "scatter": [
           {
            "fillpattern": {
             "fillmode": "overlay",
             "size": 10,
             "solidity": 0.2
            },
            "type": "scatter"
           }
          ],
          "scatter3d": [
           {
            "line": {
             "colorbar": {
              "outlinewidth": 0,
              "ticks": ""
             }
            },
            "marker": {
             "colorbar": {
              "outlinewidth": 0,
              "ticks": ""
             }
            },
            "type": "scatter3d"
           }
          ],
          "scattercarpet": [
           {
            "marker": {
             "colorbar": {
              "outlinewidth": 0,
              "ticks": ""
             }
            },
            "type": "scattercarpet"
           }
          ],
          "scattergeo": [
           {
            "marker": {
             "colorbar": {
              "outlinewidth": 0,
              "ticks": ""
             }
            },
            "type": "scattergeo"
           }
          ],
          "scattergl": [
           {
            "marker": {
             "colorbar": {
              "outlinewidth": 0,
              "ticks": ""
             }
            },
            "type": "scattergl"
           }
          ],
          "scattermapbox": [
           {
            "marker": {
             "colorbar": {
              "outlinewidth": 0,
              "ticks": ""
             }
            },
            "type": "scattermapbox"
           }
          ],
          "scatterpolar": [
           {
            "marker": {
             "colorbar": {
              "outlinewidth": 0,
              "ticks": ""
             }
            },
            "type": "scatterpolar"
           }
          ],
          "scatterpolargl": [
           {
            "marker": {
             "colorbar": {
              "outlinewidth": 0,
              "ticks": ""
             }
            },
            "type": "scatterpolargl"
           }
          ],
          "scatterternary": [
           {
            "marker": {
             "colorbar": {
              "outlinewidth": 0,
              "ticks": ""
             }
            },
            "type": "scatterternary"
           }
          ],
          "surface": [
           {
            "colorbar": {
             "outlinewidth": 0,
             "ticks": ""
            },
            "colorscale": [
             [
              0,
              "#0d0887"
             ],
             [
              0.1111111111111111,
              "#46039f"
             ],
             [
              0.2222222222222222,
              "#7201a8"
             ],
             [
              0.3333333333333333,
              "#9c179e"
             ],
             [
              0.4444444444444444,
              "#bd3786"
             ],
             [
              0.5555555555555556,
              "#d8576b"
             ],
             [
              0.6666666666666666,
              "#ed7953"
             ],
             [
              0.7777777777777778,
              "#fb9f3a"
             ],
             [
              0.8888888888888888,
              "#fdca26"
             ],
             [
              1,
              "#f0f921"
             ]
            ],
            "type": "surface"
           }
          ],
          "table": [
           {
            "cells": {
             "fill": {
              "color": "#EBF0F8"
             },
             "line": {
              "color": "white"
             }
            },
            "header": {
             "fill": {
              "color": "#C8D4E3"
             },
             "line": {
              "color": "white"
             }
            },
            "type": "table"
           }
          ]
         },
         "layout": {
          "annotationdefaults": {
           "arrowcolor": "#2a3f5f",
           "arrowhead": 0,
           "arrowwidth": 1
          },
          "autotypenumbers": "strict",
          "coloraxis": {
           "colorbar": {
            "outlinewidth": 0,
            "ticks": ""
           }
          },
          "colorscale": {
           "diverging": [
            [
             0,
             "#8e0152"
            ],
            [
             0.1,
             "#c51b7d"
            ],
            [
             0.2,
             "#de77ae"
            ],
            [
             0.3,
             "#f1b6da"
            ],
            [
             0.4,
             "#fde0ef"
            ],
            [
             0.5,
             "#f7f7f7"
            ],
            [
             0.6,
             "#e6f5d0"
            ],
            [
             0.7,
             "#b8e186"
            ],
            [
             0.8,
             "#7fbc41"
            ],
            [
             0.9,
             "#4d9221"
            ],
            [
             1,
             "#276419"
            ]
           ],
           "sequential": [
            [
             0,
             "#0d0887"
            ],
            [
             0.1111111111111111,
             "#46039f"
            ],
            [
             0.2222222222222222,
             "#7201a8"
            ],
            [
             0.3333333333333333,
             "#9c179e"
            ],
            [
             0.4444444444444444,
             "#bd3786"
            ],
            [
             0.5555555555555556,
             "#d8576b"
            ],
            [
             0.6666666666666666,
             "#ed7953"
            ],
            [
             0.7777777777777778,
             "#fb9f3a"
            ],
            [
             0.8888888888888888,
             "#fdca26"
            ],
            [
             1,
             "#f0f921"
            ]
           ],
           "sequentialminus": [
            [
             0,
             "#0d0887"
            ],
            [
             0.1111111111111111,
             "#46039f"
            ],
            [
             0.2222222222222222,
             "#7201a8"
            ],
            [
             0.3333333333333333,
             "#9c179e"
            ],
            [
             0.4444444444444444,
             "#bd3786"
            ],
            [
             0.5555555555555556,
             "#d8576b"
            ],
            [
             0.6666666666666666,
             "#ed7953"
            ],
            [
             0.7777777777777778,
             "#fb9f3a"
            ],
            [
             0.8888888888888888,
             "#fdca26"
            ],
            [
             1,
             "#f0f921"
            ]
           ]
          },
          "colorway": [
           "#636efa",
           "#EF553B",
           "#00cc96",
           "#ab63fa",
           "#FFA15A",
           "#19d3f3",
           "#FF6692",
           "#B6E880",
           "#FF97FF",
           "#FECB52"
          ],
          "font": {
           "color": "#2a3f5f"
          },
          "geo": {
           "bgcolor": "white",
           "lakecolor": "white",
           "landcolor": "#E5ECF6",
           "showlakes": true,
           "showland": true,
           "subunitcolor": "white"
          },
          "hoverlabel": {
           "align": "left"
          },
          "hovermode": "closest",
          "mapbox": {
           "style": "light"
          },
          "paper_bgcolor": "white",
          "plot_bgcolor": "#E5ECF6",
          "polar": {
           "angularaxis": {
            "gridcolor": "white",
            "linecolor": "white",
            "ticks": ""
           },
           "bgcolor": "#E5ECF6",
           "radialaxis": {
            "gridcolor": "white",
            "linecolor": "white",
            "ticks": ""
           }
          },
          "scene": {
           "xaxis": {
            "backgroundcolor": "#E5ECF6",
            "gridcolor": "white",
            "gridwidth": 2,
            "linecolor": "white",
            "showbackground": true,
            "ticks": "",
            "zerolinecolor": "white"
           },
           "yaxis": {
            "backgroundcolor": "#E5ECF6",
            "gridcolor": "white",
            "gridwidth": 2,
            "linecolor": "white",
            "showbackground": true,
            "ticks": "",
            "zerolinecolor": "white"
           },
           "zaxis": {
            "backgroundcolor": "#E5ECF6",
            "gridcolor": "white",
            "gridwidth": 2,
            "linecolor": "white",
            "showbackground": true,
            "ticks": "",
            "zerolinecolor": "white"
           }
          },
          "shapedefaults": {
           "line": {
            "color": "#2a3f5f"
           }
          },
          "ternary": {
           "aaxis": {
            "gridcolor": "white",
            "linecolor": "white",
            "ticks": ""
           },
           "baxis": {
            "gridcolor": "white",
            "linecolor": "white",
            "ticks": ""
           },
           "bgcolor": "#E5ECF6",
           "caxis": {
            "gridcolor": "white",
            "linecolor": "white",
            "ticks": ""
           }
          },
          "title": {
           "x": 0.05
          },
          "xaxis": {
           "automargin": true,
           "gridcolor": "white",
           "linecolor": "white",
           "ticks": "",
           "title": {
            "standoff": 15
           },
           "zerolinecolor": "white",
           "zerolinewidth": 2
          },
          "yaxis": {
           "automargin": true,
           "gridcolor": "white",
           "linecolor": "white",
           "ticks": "",
           "title": {
            "standoff": 15
           },
           "zerolinecolor": "white",
           "zerolinewidth": 2
          }
         }
        },
        "title": {
         "text": "Cantidades por pedido",
         "x": 0.5
        },
        "xaxis": {
         "title": {
          "text": "Cantidades por pedido"
         }
        },
        "yaxis": {
         "title": {
          "text": "Veces"
         }
        }
       }
      },
      "text/html": [
       "<div>                            <div id=\"9afb41a9-36e0-45c9-bf2b-66931811bd38\" class=\"plotly-graph-div\" style=\"height:525px; width:100%;\"></div>            <script type=\"text/javascript\">                require([\"plotly\"], function(Plotly) {                    window.PLOTLYENV=window.PLOTLYENV || {};                                    if (document.getElementById(\"9afb41a9-36e0-45c9-bf2b-66931811bd38\")) {                    Plotly.newPlot(                        \"9afb41a9-36e0-45c9-bf2b-66931811bd38\",                        [{\"marker\":{\"color\":\"black\"},\"name\":\"Texas\",\"opacity\":0.8,\"x\":[5,3,3,7,5,9,3,3,4,3,3,3,5,7,3,3,8,3,9,6,5,3,4,3,3,2,2,2,3,7,5,7,4,5,3,3,3,4,3,4,4,2,6,8,2,1,2,2,1,2,9,2,1,4,3,2,3,3,4,7,14,5,3,3,3,3,3,3,3,3,2,1,5,1,1,4,4,3,2,5,4,2,4,3,3,1,2,2,2,4,3,2,2,1,3,3,6,2,5,12,3,5,2,2,3,9,4,4,2,5,3,1,3,7,7,3,2,3,11,1,2,7,3,4,3,5,4,2,6,4,7,1,5,3,9,3,3,5,4,4,2,2,6,3,4,3,5,7,5,4,1,4,2,5,3,3,2,3,3,3,4,2,3,2,6,3,4,2,3,2,11,6,6,2,4,7,2,4,3,3,7,4,2,5,4,4,3,2,7,3,9,3,4,2,5,4,3,2,3,2,1,3,2,1,5,4,3,3,3,2,5,1,7,2,3,4,2,1,3,5,2,5,7,4,4,7,4,1,2,5,5,4,9,9,2,3,6,2,8,7,2,3,1,5,2,3,3,3,1,3,4,2,7,3,5,7,5,2,2,2,8,2,2,2,2,2,1,3,2,4,8,3,7,2,8,3,5,2,4,2,2,2,4,4,4,5,3,1,2,2,3,2,7,5,3,3,7,3,6,3,7,3,1,2,5,7,3,5,3,4,8,3,2,3,3,2,5,5,1,3,5,8,2,3,3,2,3,9,6,3,2,1,4,2,2,6,4,2,3,2,4,4,3,2,2,7,6,8,8,4,1,1,2,6,4,3,2,3,7,8,7,5,2,1,5,1,3,10,3,5,3,7,3,3,2,2,3,5,1,7,3,3,2,2,2,2,6,8,10,3,3,3,4,7,2,8,3,9,4,2,1,1,8,2,3,3,6,3,1,1,4,5,7,1,2,5,9,9,3,6,1,8,3,7,3,5,2,2,2,1,5,3,7,2,5,2,4,5,9,3,5,6,1,2,2,3,6,3,9,3,10,7,5,2,2,2,1,2,7,2,3,4,5,3,4,3,7,8,6,6,2,5,3,1,3,7,3,2,9,5,3,9,5,5,2,2,2,1,3,3,2,3,6,2,3,1,3,7,3,3,2,1,4,3,6,2,5,6,2,2,3,5,6,2,1,5,4,2,5,1,3,7,2,5,8,2,7,2,1,3,4,2,3,1,6,3,7,1,1,5,2,2,3,1,7,4,5,6,6,2,4,2,4,3,7,3,1,5,1,4,4,3,2,4,7,1,8,2,2,2,9,5,6,9,2,1,6,2,5,4,3,6,3,5,5,5,7,4,1,3,4,5,3,5,5,4,2,8,1,2,5,5,3,1,2,4,5,1,1,2,10,2,3,2,3,3,5,4,5,2,3,3,3,1,4,7,2,5,2,4,5,5,5,3,2,1,5,3,3,2,5,3,6,1,3,2,2,2,2,1,2,2,9,2,1,5,4,2,2,3,5,5,3,8,3,2,3,4,2,4,2,3,2,6,3,3,2,2,2,3,3,5,5,6,3,5,2,2,6,7,5,1,3,3,4,2,5,7,7,3,2,3,7,5,4,1,4,4,2,3,2,2,4,2,4,2,3,3,2,2,1,10,1,6,9,7,2,5,3,5,6,6,3,2,3,5,5,1,6,3,5,3,2,9,2,5,5,4,4,5,14,2,1,6,4,5,4,2,5,3,2,3,3,3,5,3,3,3,2,3,4,2,3,3,3,2,7,3,2,2,2,2,5,3,1,1,3,7,4,5,4,10,3,4,2,5,2,4,3,5,3,3,8,3,1,4,9,5,3,2,6,3,4,3,9,3,3,2,3,4,3,5,3,2,2,5,2,3,5,5,5,4,6,7,5,8,5,8,4,2,8,3,2,9,2,2,2,3,5,5,8,2,6,7,4,5,7,5,2,1,2,6,4,4,2,6,4,2,3,5,5,5,4,2,7,2,1,2,1,2,2,7,2,3,2,5,7,2,3,3,2,5,10,2,3,2,7,2,3,4,3,7,2,1,6,2,4,3,3,3,1,2,4,3,2,1,2,3,3,1,2,4,1,3,4,5,2,2,6,8,5,1,4,2,10,9,1,2,2,3,5,2,3,2,1,2,5,5,5,8,2,3,3,2,1,9,3,5,5,8,3,4,9,5,2,5,3,1,2,6,2,1,3,4,7,1,4,2,3,2,5,7,2,4,2],\"type\":\"histogram\"},{\"marker\":{\"color\":\"rgba(12,50,196,0.6)\"},\"name\":\"Califronia\",\"opacity\":0.8,\"x\":[2,7,4,6,3,5,9,4,2,3,4,2,3,2,2,6,3,4,5,1,3,2,1,3,2,3,3,1,4,2,3,6,14,3,3,3,7,7,4,6,1,3,2,7,8,7,4,6,3,2,2,1,13,2,4,7,3,3,2,1,5,2,6,1,1,2,4,2,3,3,4,7,3,5,3,5,7,1,9,1,13,2,8,5,4,1,2,3,2,4,6,7,5,6,3,2,5,5,8,4,2,9,3,2,3,2,1,3,2,2,2,4,5,3,7,3,14,4,2,4,2,3,5,8,5,3,5,4,2,7,1,5,3,3,2,10,4,3,4,9,3,3,4,1,2,2,2,4,5,1,2,2,2,7,4,3,4,4,2,2,2,6,2,2,4,3,12,6,7,3,3,2,2,2,4,2,2,4,2,2,2,3,5,3,4,5,2,3,12,1,4,2,4,7,3,1,9,2,5,4,3,1,3,3,2,1,2,2,3,2,4,1,2,1,1,3,5,4,4,8,3,4,4,9,8,2,1,2,6,12,3,3,1,6,4,5,3,5,1,2,2,2,7,3,2,3,2,6,8,5,4,3,8,3,5,3,1,2,5,2,4,3,3,2,5,5,14,2,3,3,4,4,7,3,7,3,3,5,2,2,4,6,2,8,9,7,2,3,4,2,6,3,5,3,1,2,3,5,3,5,1,4,3,2,2,2,7,5,3,2,2,3,3,3,1,3,2,7,5,6,2,2,1,5,14,2,3,2,5,8,2,9,2,2,4,6,3,9,5,5,7,7,7,3,2,3,2,3,5,2,1,4,3,3,2,1,4,3,3,2,3,5,8,3,6,3,4,5,7,2,2,4,6,5,2,4,6,3,5,2,13,3,4,3,9,3,4,3,5,3,7,3,6,2,1,3,3,5,4,3,4,2,1,7,3,1,6,1,3,3,2,3,1,13,2,4,4,1,4,2,2,1,7,2,2,2,1,3,2,5,5,6,3,3,3,2,7,2,1,3,7,2,1,3,5,2,5,6,2,2,3,6,7,5,1,3,1,5,4,9,4,4,2,2,2,2,6,9,7,10,5,3,8,5,2,3,2,1,8,2,5,2,5,7,4,3,6,3,2,1,2,4,5,8,3,6,4,6,3,4,1,1,3,1,2,3,6,2,13,2,5,3,1,4,3,9,5,7,3,2,5,2,2,6,3,11,2,2,3,5,5,2,1,5,3,2,4,2,14,4,7,3,3,6,5,3,3,1,3,5,4,3,7,3,4,1,8,2,7,4,2,3,2,5,2,2,2,1,9,1,7,3,14,5,4,4,2,2,5,2,1,4,5,7,4,3,3,2,2,8,2,10,2,2,2,2,8,2,3,2,2,5,4,5,2,5,3,9,2,3,1,4,8,1,2,8,5,8,5,9,6,3,1,2,7,3,8,5,6,3,5,5,1,3,2,3,5,2,9,3,4,4,4,3,9,3,5,5,3,2,2,6,2,2,9,2,4,2,2,2,8,7,4,2,3,2,9,1,2,5,1,2,2,2,7,6,2,6,5,2,8,4,4,4,5,2,2,6,7,2,4,4,2,2,1,1,2,2,1,5,12,2,1,1,2,8,2,2,1,5,1,4,2,3,3,5,2,4,2,5,3,3,2,5,2,2,2,6,6,7,6,1,3,4,2,2,2,6,5,1,5,4,2,9,1,7,2,4,3,2,6,8,14,5,5,2,3,3,3,3,9,4,5,1,3,11,5,4,5,4,6,3,3,9,6,5,7,3,2,3,3,5,2,2,3,7,8,5,7,7,3,1,4,2,7,2,5,9,2,5,3,8,2,4,3,3,2,9,1,3,4,3,2,7,4,3,3,4,2,3,3,2,3,3,6,6,2,4,4,2,5,3,5,3,3,4,3,2,2,6,2,5,2,1,3,5,2,5,4,2,2,5,7,2,12,3,2,3,3,3,9,6,2,2,5,7,2,3,3,1,1,3,4,3,2,2,3,3,3,3,3,5,3,2,2,7,5,6,3,3,7,2,2,3,2,3,3,8,6,3,5,3,6,1,3,4,3,2,5,4,1,5,3,2,3,7,7,2,7,6,3,3,3,2,1,3,3,3,4,3,3,4,1,2,10,3,3,4,5,2,4,2,3,3,3,3,4,9,5,2,4,1,5,3,5,2,2,2,7,3,1,1,1,2,2,3,3,4,1,5,1,2,3,3,2,2,3,4,3,1,8,3,4,9,5,4,3,5,5,6,5,4,2,3,1,3,8,2,2,2,4,4,2,3,2,2,2,2,2,7,3,3,3,5,5,3,3,2,2,5,1,7,1,3,2,2,3,2,6,5,4,5,4,7,4,2,3,2,4,5,6,3,4,3,2,6,2,5,1,2,2,3,6,3,3,2,5,12,5,5,1,3,4,1,3,1,3,5,6,5,3,5,3,6,8,3,3,3,3,1,2,4,2,2,4,4,2,5,6,4,12,2,1,3,7,6,3,2,5,9,2,5,3,2,2,4,4,2,5,3,6,3,5,5,2,5,1,2,6,2,2,2,3,2,1,2,4,3,7,7,3,5,4,1,3,4,3,3,4,7,1,1,3,1,3,1,4,4,7,1,2,1,2,2,4,2,3,2,1,5,4,4,4,4,5,4,7,5,2,3,2,7,2,9,9,2,3,3,3,3,3,5,1,9,3,4,5,4,1,2,3,3,3,12,2,4,1,5,4,4,5,5,4,3,4,9,2,4,3,6,3,1,2,4,3,7,7,3,4,3,3,6,3,3,5,8,2,7,3,1,3,3,3,3,5,3,3,8,1,1,3,2,3,6,5,2,1,4,2,4,2,3,4,4,2,2,6,10,4,4,2,5,1,9,3,2,1,1,9,5,5,5,3,6,4,8,3,3,3,3,3,5,6,5,4,4,5,1,3,2,2,5,2,8,2,7,7,6,4,7,2,3,5,10,2,1,2,5,5,1,8,3,3,5,3,7,4,6,3,3,2,6,4,6,8,1,2,7,6,4,4,2,2,3,2,3,3,8,5,2,3,3,3,9,4,3,2,1,6,5,1,2,5,1,2,5,1,5,5,2,4,4,3,2,5,11,8,3,2,5,3,2,9,2,9,3,3,5,1,3,4,5,7,3,4,3,7,1,5,2,3,4,5,2,1,3,2,3,5,2,7,2,3,3,1,4,5,2,1,4,5,3,9,7,3,2,2,7,6,1,2,9,3,1,2,4,1,4,3,10,3,3,5,3,3,5,2,2,11,3,3,2,4,2,3,7,4,6,3,3,7,7,7,6,2,7,5,2,3,7,2,4,2,3,4,9,2,9,7,4,2,3,2,4,7,1,7,5,3,3,3,11,3,7,1,3,5,3,5,5,3,2,3,8,3,6,5,5,2,3,4,2,2,8,2,8,4,1,2,6,2,3,4,4,3,3,3,2,1,2,2,6,3,6,3,3,3,2,9,4,3,2,4,3,3,4,7,3,1,5,5,4,3,3,2,4,2,4,5,3,6,4,6,4,3,2,1,4,2,2,3,1,3,3,3,2,2,2,8,5,3,3,3,3,2,2,2,2,2,4,2,2,5,2,3,8,3,2,2,2,3,2,3,9,3,8,2,10,4,5,4,5,3,1,4,1,5,12,6,7,1,3,5,2,9,5,3,2,3,6,2,2,3,3,2,7,7,6,3,5,2,3,11,2,2,2,4,3,3,7,3,3,4,4,7,5,6,7,3,3,7,1,6,4,5,2,6,2,5,2,8,3,4,3,5,3,2,4,9,6,3,4,2,5,3,2,1,6,6,2,3,2,4,4,5,2,2,2,2,2,2,3,3,2,3,2,7,2,3,2,5,3,4,3,2,5,5,4,3,3,2,1,5,2,3,7,3,5,5,4,2,7,2,5,2,5,1,4,3,3,3,3,6,5,2,2,2,1,2,2,5,5,4,4,3,2,3,3,2,6,2,5,2,11,3,2,9,9,3,3,3,4,7,8,5,2,5,2,3,3,1,2,7,5,5,5,3,3,2,5,5,5,3,2,2,4,2,2,7,3,4,4,6,3,2,5,7,5,7,1,5,2,4,1,3,2,1,3,3,3,3,3,4,2,1,1,5,2,5,6,1,8,3,2,3,5,7,4,3,9,9,3,4,7,3,1,6,1,2,5,3,1,2,1,2,2,4,6,8,2,3,4,5,1,6,3,5,3,7,8,2,7,2,5,6,5,3,3,2,2,3,6,3,2,3,1,6,6,8,3,6,1,3,4,2,2,3,2,3,5,3,2,3,3,4,9,2,2,2,8,9,2,6,5,9,2,3,3,2,3,3,7,3,5,4,2,9,3,6,8,2,1,6,6,2,3,4,3,2,3,3,3,2,3,2,8,2,6,5,3,5,2,2,5,5,6,7,3,3,4,3,4,5,2,1,3,8,2,4,5,5,5,2,4,2,2,3,2,7,3,3,5,3,2,3,3,3,5,2,4,7,2,14,9,5,2,1,3,2,5,7,2,2,7,4,14,1,2,2,4,2],\"type\":\"histogram\"},{\"marker\":{\"color\":\"red\"},\"name\":\"New York\",\"opacity\":0.5,\"x\":[7,5,6,5,5,2,2,4,1,1,7,2,1,4,6,8,3,5,6,4,3,3,5,2,1,2,6,4,1,1,2,1,4,4,6,2,4,5,2,3,2,8,4,2,3,1,3,3,3,6,3,3,4,1,3,5,5,2,2,5,3,5,4,6,2,7,4,7,3,2,2,9,1,3,7,10,2,8,5,3,2,4,2,4,5,8,1,6,2,3,8,2,3,3,2,3,7,2,7,9,3,4,4,2,3,2,10,2,2,7,3,5,2,5,3,8,4,7,3,3,1,5,2,2,3,2,4,3,3,7,3,6,5,3,2,7,7,3,2,3,5,5,2,3,2,2,3,4,2,8,1,2,7,1,3,5,2,3,3,4,6,1,3,7,7,2,4,3,1,1,4,3,2,2,2,4,3,4,6,9,13,2,3,3,2,4,3,2,3,8,3,5,4,2,4,1,2,2,2,4,7,2,6,3,7,2,4,1,6,3,6,7,1,4,5,3,2,9,2,2,3,2,5,3,3,4,13,2,1,5,4,2,9,2,2,5,5,4,8,4,2,3,1,1,8,3,6,2,4,1,3,7,4,2,5,2,2,2,1,1,8,3,6,5,3,2,3,4,4,5,5,3,2,4,2,1,3,3,9,2,3,5,2,7,3,4,5,5,8,4,1,1,1,1,1,1,4,5,1,7,4,5,3,1,2,4,4,7,4,3,7,4,1,7,9,4,2,2,5,7,5,6,3,3,8,8,1,6,3,5,2,1,1,3,4,4,7,2,1,2,8,7,1,2,7,3,3,1,4,4,8,5,1,4,3,3,4,11,2,6,9,2,3,3,4,1,1,4,3,2,5,11,3,5,2,4,5,4,3,1,1,1,3,2,3,4,1,5,2,11,3,1,3,3,6,4,2,3,3,5,2,2,2,3,2,5,1,3,3,2,1,5,3,3,3,11,6,5,2,3,3,3,3,4,3,3,5,4,2,3,7,5,2,14,3,7,2,4,5,3,2,10,3,3,3,4,1,1,3,4,9,3,2,3,3,3,2,6,6,2,9,3,3,3,2,2,1,7,2,4,2,5,8,7,2,3,3,10,3,2,2,3,3,2,3,3,3,3,2,3,4,3,3,3,1,2,6,7,4,7,2,2,2,2,9,2,3,7,2,3,3,3,3,3,3,9,2,2,2,5,7,6,2,5,4,2,3,11,1,3,2,7,5,2,5,3,2,3,9,4,3,3,4,2,2,1,3,3,1,4,3,3,1,3,3,6,3,5,3,3,2,5,2,6,5,4,2,3,3,1,3,7,9,9,7,4,2,1,3,9,7,4,3,5,6,8,1,3,1,3,3,2,2,1,2,5,1,3,5,5,6,2,4,1,8,5,3,2,2,1,5,4,5,6,2,5,1,4,1,2,1,13,3,6,5,2,3,2,6,2,3,2,3,2,5,4,3,3,6,5,2,5,5,6,7,1,3,3,3,2,7,3,3,9,3,5,10,3,9,4,3,2,3,4,3,4,9,4,4,1,2,2,4,5,7,2,4,6,5,3,2,2,4,2,5,2,1,2,2,2,5,2,5,4,3,6,2,3,3,3,2,9,2,4,2,1,3,2,11,2,5,3,3,4,3,6,14,3,2,3,6,6,9,3,8,4,3,4,1,1,3,4,5,4,2,4,5,1,2,1,1,2,2,4,3,3,2,2,6,4,1,2,5,5,3,2,5,3,1,7,2,6,4,5,3,5,3,3,4,3,10,4,9,2,4,14,3,6,3,3,1,5,1,3,2,3,2,4,9,3,4,7,1,7,12,2,5,4,3,5,7,3,3,4,3,2,5,2,1,7,6,4,2,3,2,3,3,3,3,2,3,2,3,6,2,5,9,6,2,2,4,2,2,5,2,3,3,3,3,3,8,3,2,2,2,5,2,3,8,2,2,3,3,1,5,5,2,3,2,2,3,2,6,2,3,4,2,3,2,4,6,3,6,3,4,3,3,6,2,3,2,5,9,1,3,2,2,3,4,6,4,3,2,3,1,3,1,2,2,5,3,4,3,5,3,3,1,3,3,2,4,5,5,8,1,3,2,1,1,4,5,7,3,5,2,4,3,2,3,2,8,5,9,6,2,6,9,6,4,5,2,3,4,2,2,2,3,2,3,3,7,8,7,2,1,2,5,4,5,3,2,3,4,2,3,3,2,6,2,2,2,2,7,13,2,2,3,2,4,2,2,4,3,5,2,2,4,6,2,2,4,3,2,6,2,3,3,3,2,2,4,1,3,9,2,2,7,1,3,4,3,2,4,2,3,11,6,4,2,1,3,5,1,7,1,3,7,6,3,4,8,2,2,4,2,5,3,1,7,2,6,4,5,2,2,6,1,9,2,6,9,1,6,5,2,3,6,2,2,2,2,1,2,5,9,1,7,2,9,14,7,2,2,3,1,5,5,1,2,2,3,6,3,3,6,3,1,4,4,3,1,4,3,3,13,3,2,2,1,1,2,3,2,3,2,5,7,3,1,2,7,2,1,1,3,1,8,2,4,3,5,4,7,5,4,2,10,4],\"type\":\"histogram\"}],                        {\"barmode\":\"overlay\",\"template\":{\"data\":{\"barpolar\":[{\"marker\":{\"line\":{\"color\":\"#E5ECF6\",\"width\":0.5},\"pattern\":{\"fillmode\":\"overlay\",\"size\":10,\"solidity\":0.2}},\"type\":\"barpolar\"}],\"bar\":[{\"error_x\":{\"color\":\"#2a3f5f\"},\"error_y\":{\"color\":\"#2a3f5f\"},\"marker\":{\"line\":{\"color\":\"#E5ECF6\",\"width\":0.5},\"pattern\":{\"fillmode\":\"overlay\",\"size\":10,\"solidity\":0.2}},\"type\":\"bar\"}],\"carpet\":[{\"aaxis\":{\"endlinecolor\":\"#2a3f5f\",\"gridcolor\":\"white\",\"linecolor\":\"white\",\"minorgridcolor\":\"white\",\"startlinecolor\":\"#2a3f5f\"},\"baxis\":{\"endlinecolor\":\"#2a3f5f\",\"gridcolor\":\"white\",\"linecolor\":\"white\",\"minorgridcolor\":\"white\",\"startlinecolor\":\"#2a3f5f\"},\"type\":\"carpet\"}],\"choropleth\":[{\"colorbar\":{\"outlinewidth\":0,\"ticks\":\"\"},\"type\":\"choropleth\"}],\"contourcarpet\":[{\"colorbar\":{\"outlinewidth\":0,\"ticks\":\"\"},\"type\":\"contourcarpet\"}],\"contour\":[{\"colorbar\":{\"outlinewidth\":0,\"ticks\":\"\"},\"colorscale\":[[0.0,\"#0d0887\"],[0.1111111111111111,\"#46039f\"],[0.2222222222222222,\"#7201a8\"],[0.3333333333333333,\"#9c179e\"],[0.4444444444444444,\"#bd3786\"],[0.5555555555555556,\"#d8576b\"],[0.6666666666666666,\"#ed7953\"],[0.7777777777777778,\"#fb9f3a\"],[0.8888888888888888,\"#fdca26\"],[1.0,\"#f0f921\"]],\"type\":\"contour\"}],\"heatmapgl\":[{\"colorbar\":{\"outlinewidth\":0,\"ticks\":\"\"},\"colorscale\":[[0.0,\"#0d0887\"],[0.1111111111111111,\"#46039f\"],[0.2222222222222222,\"#7201a8\"],[0.3333333333333333,\"#9c179e\"],[0.4444444444444444,\"#bd3786\"],[0.5555555555555556,\"#d8576b\"],[0.6666666666666666,\"#ed7953\"],[0.7777777777777778,\"#fb9f3a\"],[0.8888888888888888,\"#fdca26\"],[1.0,\"#f0f921\"]],\"type\":\"heatmapgl\"}],\"heatmap\":[{\"colorbar\":{\"outlinewidth\":0,\"ticks\":\"\"},\"colorscale\":[[0.0,\"#0d0887\"],[0.1111111111111111,\"#46039f\"],[0.2222222222222222,\"#7201a8\"],[0.3333333333333333,\"#9c179e\"],[0.4444444444444444,\"#bd3786\"],[0.5555555555555556,\"#d8576b\"],[0.6666666666666666,\"#ed7953\"],[0.7777777777777778,\"#fb9f3a\"],[0.8888888888888888,\"#fdca26\"],[1.0,\"#f0f921\"]],\"type\":\"heatmap\"}],\"histogram2dcontour\":[{\"colorbar\":{\"outlinewidth\":0,\"ticks\":\"\"},\"colorscale\":[[0.0,\"#0d0887\"],[0.1111111111111111,\"#46039f\"],[0.2222222222222222,\"#7201a8\"],[0.3333333333333333,\"#9c179e\"],[0.4444444444444444,\"#bd3786\"],[0.5555555555555556,\"#d8576b\"],[0.6666666666666666,\"#ed7953\"],[0.7777777777777778,\"#fb9f3a\"],[0.8888888888888888,\"#fdca26\"],[1.0,\"#f0f921\"]],\"type\":\"histogram2dcontour\"}],\"histogram2d\":[{\"colorbar\":{\"outlinewidth\":0,\"ticks\":\"\"},\"colorscale\":[[0.0,\"#0d0887\"],[0.1111111111111111,\"#46039f\"],[0.2222222222222222,\"#7201a8\"],[0.3333333333333333,\"#9c179e\"],[0.4444444444444444,\"#bd3786\"],[0.5555555555555556,\"#d8576b\"],[0.6666666666666666,\"#ed7953\"],[0.7777777777777778,\"#fb9f3a\"],[0.8888888888888888,\"#fdca26\"],[1.0,\"#f0f921\"]],\"type\":\"histogram2d\"}],\"histogram\":[{\"marker\":{\"pattern\":{\"fillmode\":\"overlay\",\"size\":10,\"solidity\":0.2}},\"type\":\"histogram\"}],\"mesh3d\":[{\"colorbar\":{\"outlinewidth\":0,\"ticks\":\"\"},\"type\":\"mesh3d\"}],\"parcoords\":[{\"line\":{\"colorbar\":{\"outlinewidth\":0,\"ticks\":\"\"}},\"type\":\"parcoords\"}],\"pie\":[{\"automargin\":true,\"type\":\"pie\"}],\"scatter3d\":[{\"line\":{\"colorbar\":{\"outlinewidth\":0,\"ticks\":\"\"}},\"marker\":{\"colorbar\":{\"outlinewidth\":0,\"ticks\":\"\"}},\"type\":\"scatter3d\"}],\"scattercarpet\":[{\"marker\":{\"colorbar\":{\"outlinewidth\":0,\"ticks\":\"\"}},\"type\":\"scattercarpet\"}],\"scattergeo\":[{\"marker\":{\"colorbar\":{\"outlinewidth\":0,\"ticks\":\"\"}},\"type\":\"scattergeo\"}],\"scattergl\":[{\"marker\":{\"colorbar\":{\"outlinewidth\":0,\"ticks\":\"\"}},\"type\":\"scattergl\"}],\"scattermapbox\":[{\"marker\":{\"colorbar\":{\"outlinewidth\":0,\"ticks\":\"\"}},\"type\":\"scattermapbox\"}],\"scatterpolargl\":[{\"marker\":{\"colorbar\":{\"outlinewidth\":0,\"ticks\":\"\"}},\"type\":\"scatterpolargl\"}],\"scatterpolar\":[{\"marker\":{\"colorbar\":{\"outlinewidth\":0,\"ticks\":\"\"}},\"type\":\"scatterpolar\"}],\"scatter\":[{\"fillpattern\":{\"fillmode\":\"overlay\",\"size\":10,\"solidity\":0.2},\"type\":\"scatter\"}],\"scatterternary\":[{\"marker\":{\"colorbar\":{\"outlinewidth\":0,\"ticks\":\"\"}},\"type\":\"scatterternary\"}],\"surface\":[{\"colorbar\":{\"outlinewidth\":0,\"ticks\":\"\"},\"colorscale\":[[0.0,\"#0d0887\"],[0.1111111111111111,\"#46039f\"],[0.2222222222222222,\"#7201a8\"],[0.3333333333333333,\"#9c179e\"],[0.4444444444444444,\"#bd3786\"],[0.5555555555555556,\"#d8576b\"],[0.6666666666666666,\"#ed7953\"],[0.7777777777777778,\"#fb9f3a\"],[0.8888888888888888,\"#fdca26\"],[1.0,\"#f0f921\"]],\"type\":\"surface\"}],\"table\":[{\"cells\":{\"fill\":{\"color\":\"#EBF0F8\"},\"line\":{\"color\":\"white\"}},\"header\":{\"fill\":{\"color\":\"#C8D4E3\"},\"line\":{\"color\":\"white\"}},\"type\":\"table\"}]},\"layout\":{\"annotationdefaults\":{\"arrowcolor\":\"#2a3f5f\",\"arrowhead\":0,\"arrowwidth\":1},\"autotypenumbers\":\"strict\",\"coloraxis\":{\"colorbar\":{\"outlinewidth\":0,\"ticks\":\"\"}},\"colorscale\":{\"diverging\":[[0,\"#8e0152\"],[0.1,\"#c51b7d\"],[0.2,\"#de77ae\"],[0.3,\"#f1b6da\"],[0.4,\"#fde0ef\"],[0.5,\"#f7f7f7\"],[0.6,\"#e6f5d0\"],[0.7,\"#b8e186\"],[0.8,\"#7fbc41\"],[0.9,\"#4d9221\"],[1,\"#276419\"]],\"sequential\":[[0.0,\"#0d0887\"],[0.1111111111111111,\"#46039f\"],[0.2222222222222222,\"#7201a8\"],[0.3333333333333333,\"#9c179e\"],[0.4444444444444444,\"#bd3786\"],[0.5555555555555556,\"#d8576b\"],[0.6666666666666666,\"#ed7953\"],[0.7777777777777778,\"#fb9f3a\"],[0.8888888888888888,\"#fdca26\"],[1.0,\"#f0f921\"]],\"sequentialminus\":[[0.0,\"#0d0887\"],[0.1111111111111111,\"#46039f\"],[0.2222222222222222,\"#7201a8\"],[0.3333333333333333,\"#9c179e\"],[0.4444444444444444,\"#bd3786\"],[0.5555555555555556,\"#d8576b\"],[0.6666666666666666,\"#ed7953\"],[0.7777777777777778,\"#fb9f3a\"],[0.8888888888888888,\"#fdca26\"],[1.0,\"#f0f921\"]]},\"colorway\":[\"#636efa\",\"#EF553B\",\"#00cc96\",\"#ab63fa\",\"#FFA15A\",\"#19d3f3\",\"#FF6692\",\"#B6E880\",\"#FF97FF\",\"#FECB52\"],\"font\":{\"color\":\"#2a3f5f\"},\"geo\":{\"bgcolor\":\"white\",\"lakecolor\":\"white\",\"landcolor\":\"#E5ECF6\",\"showlakes\":true,\"showland\":true,\"subunitcolor\":\"white\"},\"hoverlabel\":{\"align\":\"left\"},\"hovermode\":\"closest\",\"mapbox\":{\"style\":\"light\"},\"paper_bgcolor\":\"white\",\"plot_bgcolor\":\"#E5ECF6\",\"polar\":{\"angularaxis\":{\"gridcolor\":\"white\",\"linecolor\":\"white\",\"ticks\":\"\"},\"bgcolor\":\"#E5ECF6\",\"radialaxis\":{\"gridcolor\":\"white\",\"linecolor\":\"white\",\"ticks\":\"\"}},\"scene\":{\"xaxis\":{\"backgroundcolor\":\"#E5ECF6\",\"gridcolor\":\"white\",\"gridwidth\":2,\"linecolor\":\"white\",\"showbackground\":true,\"ticks\":\"\",\"zerolinecolor\":\"white\"},\"yaxis\":{\"backgroundcolor\":\"#E5ECF6\",\"gridcolor\":\"white\",\"gridwidth\":2,\"linecolor\":\"white\",\"showbackground\":true,\"ticks\":\"\",\"zerolinecolor\":\"white\"},\"zaxis\":{\"backgroundcolor\":\"#E5ECF6\",\"gridcolor\":\"white\",\"gridwidth\":2,\"linecolor\":\"white\",\"showbackground\":true,\"ticks\":\"\",\"zerolinecolor\":\"white\"}},\"shapedefaults\":{\"line\":{\"color\":\"#2a3f5f\"}},\"ternary\":{\"aaxis\":{\"gridcolor\":\"white\",\"linecolor\":\"white\",\"ticks\":\"\"},\"baxis\":{\"gridcolor\":\"white\",\"linecolor\":\"white\",\"ticks\":\"\"},\"bgcolor\":\"#E5ECF6\",\"caxis\":{\"gridcolor\":\"white\",\"linecolor\":\"white\",\"ticks\":\"\"}},\"title\":{\"x\":0.05},\"xaxis\":{\"automargin\":true,\"gridcolor\":\"white\",\"linecolor\":\"white\",\"ticks\":\"\",\"title\":{\"standoff\":15},\"zerolinecolor\":\"white\",\"zerolinewidth\":2},\"yaxis\":{\"automargin\":true,\"gridcolor\":\"white\",\"linecolor\":\"white\",\"ticks\":\"\",\"title\":{\"standoff\":15},\"zerolinecolor\":\"white\",\"zerolinewidth\":2}}},\"title\":{\"text\":\"Cantidades por pedido\",\"x\":0.5},\"xaxis\":{\"title\":{\"text\":\"Cantidades por pedido\"}},\"yaxis\":{\"title\":{\"text\":\"Veces\"}}},                        {\"responsive\": true}                    ).then(function(){\n",
       "                            \n",
       "var gd = document.getElementById('9afb41a9-36e0-45c9-bf2b-66931811bd38');\n",
       "var x = new MutationObserver(function (mutations, observer) {{\n",
       "        var display = window.getComputedStyle(gd).display;\n",
       "        if (!display || display === 'none') {{\n",
       "            console.log([gd, 'removed!']);\n",
       "            Plotly.purge(gd);\n",
       "            observer.disconnect();\n",
       "        }}\n",
       "}});\n",
       "\n",
       "// Listen for the removal of the full notebook cells\n",
       "var notebookContainer = gd.closest('#notebook-container');\n",
       "if (notebookContainer) {{\n",
       "    x.observe(notebookContainer, {childList: true});\n",
       "}}\n",
       "\n",
       "// Listen for the clearing of the current output cell\n",
       "var outputEl = gd.closest('.output');\n",
       "if (outputEl) {{\n",
       "    x.observe(outputEl, {childList: true});\n",
       "}}\n",
       "\n",
       "                        })                };                });            </script>        </div>"
      ]
     },
     "metadata": {},
     "output_type": "display_data"
    }
   ],
   "source": [
    "texas=df[df['State']=='Texas']\n",
    "california=df[df['State']=='California']\n",
    "new_york=df[df['State']=='New York']\n",
    "\n",
    "#Texas\n",
    "trace1=go.Histogram(x=texas['Quantity'],\n",
    "                    opacity=0.8,\n",
    "                    name='Texas',\n",
    "                    marker=dict(color='black')\n",
    "                    )\n",
    "\n",
    "#Califronia\n",
    "trace2=go.Histogram(x=california['Quantity'],\n",
    "                    opacity=0.8,\n",
    "                    name='Califronia',\n",
    "                    marker=dict(color='rgba(12,50,196,0.6)')\n",
    "                    )\n",
    "\n",
    "#New York\n",
    "trace3=go.Histogram(x=new_york['Quantity'],\n",
    "                    opacity=0.5,\n",
    "                    name='New York',\n",
    "                    marker=dict(color='red')\n",
    "                    )\n",
    "\n",
    "\n",
    "data=[trace1,trace2,trace3]\n",
    "layout=dict(barmode='overlay',\n",
    "            title=dict(text='Cantidades por pedido',x=0.5),\n",
    "            xaxis=dict(title='Cantidades por pedido'),\n",
    "            yaxis=dict(title='Veces'))\n",
    "\n",
    "\n",
    "fig=go.Figure(data=data,layout=layout)\n",
    "\n",
    "iplot(fig)"
   ]
  },
  {
   "cell_type": "code",
   "execution_count": 27,
   "metadata": {},
   "outputs": [
    {
     "data": {
      "application/vnd.plotly.v1+json": {
       "config": {
        "linkText": "Export to plot.ly",
        "plotlyServerURL": "https://plot.ly",
        "showLink": false
       },
       "data": [
        {
         "marker": {
          "color": "black"
         },
         "name": "Texas",
         "opacity": 0.8,
         "type": "histogram",
         "x": [
          5,
          3,
          3,
          7,
          5,
          9,
          3,
          3,
          4,
          3,
          3,
          3,
          5,
          7,
          3,
          3,
          8,
          3,
          9,
          6,
          5,
          3,
          4,
          3,
          3,
          2,
          2,
          2,
          3,
          7,
          5,
          7,
          4,
          5,
          3,
          3,
          3,
          4,
          3,
          4,
          4,
          2,
          6,
          8,
          2,
          1,
          2,
          2,
          1,
          2,
          9,
          2,
          1,
          4,
          3,
          2,
          3,
          3,
          4,
          7,
          14,
          5,
          3,
          3,
          3,
          3,
          3,
          3,
          3,
          3,
          2,
          1,
          5,
          1,
          1,
          4,
          4,
          3,
          2,
          5,
          4,
          2,
          4,
          3,
          3,
          1,
          2,
          2,
          2,
          4,
          3,
          2,
          2,
          1,
          3,
          3,
          6,
          2,
          5,
          12,
          3,
          5,
          2,
          2,
          3,
          9,
          4,
          4,
          2,
          5,
          3,
          1,
          3,
          7,
          7,
          3,
          2,
          3,
          11,
          1,
          2,
          7,
          3,
          4,
          3,
          5,
          4,
          2,
          6,
          4,
          7,
          1,
          5,
          3,
          9,
          3,
          3,
          5,
          4,
          4,
          2,
          2,
          6,
          3,
          4,
          3,
          5,
          7,
          5,
          4,
          1,
          4,
          2,
          5,
          3,
          3,
          2,
          3,
          3,
          3,
          4,
          2,
          3,
          2,
          6,
          3,
          4,
          2,
          3,
          2,
          11,
          6,
          6,
          2,
          4,
          7,
          2,
          4,
          3,
          3,
          7,
          4,
          2,
          5,
          4,
          4,
          3,
          2,
          7,
          3,
          9,
          3,
          4,
          2,
          5,
          4,
          3,
          2,
          3,
          2,
          1,
          3,
          2,
          1,
          5,
          4,
          3,
          3,
          3,
          2,
          5,
          1,
          7,
          2,
          3,
          4,
          2,
          1,
          3,
          5,
          2,
          5,
          7,
          4,
          4,
          7,
          4,
          1,
          2,
          5,
          5,
          4,
          9,
          9,
          2,
          3,
          6,
          2,
          8,
          7,
          2,
          3,
          1,
          5,
          2,
          3,
          3,
          3,
          1,
          3,
          4,
          2,
          7,
          3,
          5,
          7,
          5,
          2,
          2,
          2,
          8,
          2,
          2,
          2,
          2,
          2,
          1,
          3,
          2,
          4,
          8,
          3,
          7,
          2,
          8,
          3,
          5,
          2,
          4,
          2,
          2,
          2,
          4,
          4,
          4,
          5,
          3,
          1,
          2,
          2,
          3,
          2,
          7,
          5,
          3,
          3,
          7,
          3,
          6,
          3,
          7,
          3,
          1,
          2,
          5,
          7,
          3,
          5,
          3,
          4,
          8,
          3,
          2,
          3,
          3,
          2,
          5,
          5,
          1,
          3,
          5,
          8,
          2,
          3,
          3,
          2,
          3,
          9,
          6,
          3,
          2,
          1,
          4,
          2,
          2,
          6,
          4,
          2,
          3,
          2,
          4,
          4,
          3,
          2,
          2,
          7,
          6,
          8,
          8,
          4,
          1,
          1,
          2,
          6,
          4,
          3,
          2,
          3,
          7,
          8,
          7,
          5,
          2,
          1,
          5,
          1,
          3,
          10,
          3,
          5,
          3,
          7,
          3,
          3,
          2,
          2,
          3,
          5,
          1,
          7,
          3,
          3,
          2,
          2,
          2,
          2,
          6,
          8,
          10,
          3,
          3,
          3,
          4,
          7,
          2,
          8,
          3,
          9,
          4,
          2,
          1,
          1,
          8,
          2,
          3,
          3,
          6,
          3,
          1,
          1,
          4,
          5,
          7,
          1,
          2,
          5,
          9,
          9,
          3,
          6,
          1,
          8,
          3,
          7,
          3,
          5,
          2,
          2,
          2,
          1,
          5,
          3,
          7,
          2,
          5,
          2,
          4,
          5,
          9,
          3,
          5,
          6,
          1,
          2,
          2,
          3,
          6,
          3,
          9,
          3,
          10,
          7,
          5,
          2,
          2,
          2,
          1,
          2,
          7,
          2,
          3,
          4,
          5,
          3,
          4,
          3,
          7,
          8,
          6,
          6,
          2,
          5,
          3,
          1,
          3,
          7,
          3,
          2,
          9,
          5,
          3,
          9,
          5,
          5,
          2,
          2,
          2,
          1,
          3,
          3,
          2,
          3,
          6,
          2,
          3,
          1,
          3,
          7,
          3,
          3,
          2,
          1,
          4,
          3,
          6,
          2,
          5,
          6,
          2,
          2,
          3,
          5,
          6,
          2,
          1,
          5,
          4,
          2,
          5,
          1,
          3,
          7,
          2,
          5,
          8,
          2,
          7,
          2,
          1,
          3,
          4,
          2,
          3,
          1,
          6,
          3,
          7,
          1,
          1,
          5,
          2,
          2,
          3,
          1,
          7,
          4,
          5,
          6,
          6,
          2,
          4,
          2,
          4,
          3,
          7,
          3,
          1,
          5,
          1,
          4,
          4,
          3,
          2,
          4,
          7,
          1,
          8,
          2,
          2,
          2,
          9,
          5,
          6,
          9,
          2,
          1,
          6,
          2,
          5,
          4,
          3,
          6,
          3,
          5,
          5,
          5,
          7,
          4,
          1,
          3,
          4,
          5,
          3,
          5,
          5,
          4,
          2,
          8,
          1,
          2,
          5,
          5,
          3,
          1,
          2,
          4,
          5,
          1,
          1,
          2,
          10,
          2,
          3,
          2,
          3,
          3,
          5,
          4,
          5,
          2,
          3,
          3,
          3,
          1,
          4,
          7,
          2,
          5,
          2,
          4,
          5,
          5,
          5,
          3,
          2,
          1,
          5,
          3,
          3,
          2,
          5,
          3,
          6,
          1,
          3,
          2,
          2,
          2,
          2,
          1,
          2,
          2,
          9,
          2,
          1,
          5,
          4,
          2,
          2,
          3,
          5,
          5,
          3,
          8,
          3,
          2,
          3,
          4,
          2,
          4,
          2,
          3,
          2,
          6,
          3,
          3,
          2,
          2,
          2,
          3,
          3,
          5,
          5,
          6,
          3,
          5,
          2,
          2,
          6,
          7,
          5,
          1,
          3,
          3,
          4,
          2,
          5,
          7,
          7,
          3,
          2,
          3,
          7,
          5,
          4,
          1,
          4,
          4,
          2,
          3,
          2,
          2,
          4,
          2,
          4,
          2,
          3,
          3,
          2,
          2,
          1,
          10,
          1,
          6,
          9,
          7,
          2,
          5,
          3,
          5,
          6,
          6,
          3,
          2,
          3,
          5,
          5,
          1,
          6,
          3,
          5,
          3,
          2,
          9,
          2,
          5,
          5,
          4,
          4,
          5,
          14,
          2,
          1,
          6,
          4,
          5,
          4,
          2,
          5,
          3,
          2,
          3,
          3,
          3,
          5,
          3,
          3,
          3,
          2,
          3,
          4,
          2,
          3,
          3,
          3,
          2,
          7,
          3,
          2,
          2,
          2,
          2,
          5,
          3,
          1,
          1,
          3,
          7,
          4,
          5,
          4,
          10,
          3,
          4,
          2,
          5,
          2,
          4,
          3,
          5,
          3,
          3,
          8,
          3,
          1,
          4,
          9,
          5,
          3,
          2,
          6,
          3,
          4,
          3,
          9,
          3,
          3,
          2,
          3,
          4,
          3,
          5,
          3,
          2,
          2,
          5,
          2,
          3,
          5,
          5,
          5,
          4,
          6,
          7,
          5,
          8,
          5,
          8,
          4,
          2,
          8,
          3,
          2,
          9,
          2,
          2,
          2,
          3,
          5,
          5,
          8,
          2,
          6,
          7,
          4,
          5,
          7,
          5,
          2,
          1,
          2,
          6,
          4,
          4,
          2,
          6,
          4,
          2,
          3,
          5,
          5,
          5,
          4,
          2,
          7,
          2,
          1,
          2,
          1,
          2,
          2,
          7,
          2,
          3,
          2,
          5,
          7,
          2,
          3,
          3,
          2,
          5,
          10,
          2,
          3,
          2,
          7,
          2,
          3,
          4,
          3,
          7,
          2,
          1,
          6,
          2,
          4,
          3,
          3,
          3,
          1,
          2,
          4,
          3,
          2,
          1,
          2,
          3,
          3,
          1,
          2,
          4,
          1,
          3,
          4,
          5,
          2,
          2,
          6,
          8,
          5,
          1,
          4,
          2,
          10,
          9,
          1,
          2,
          2,
          3,
          5,
          2,
          3,
          2,
          1,
          2,
          5,
          5,
          5,
          8,
          2,
          3,
          3,
          2,
          1,
          9,
          3,
          5,
          5,
          8,
          3,
          4,
          9,
          5,
          2,
          5,
          3,
          1,
          2,
          6,
          2,
          1,
          3,
          4,
          7,
          1,
          4,
          2,
          3,
          2,
          5,
          7,
          2,
          4,
          2
         ]
        },
        {
         "marker": {
          "color": "rgba(12,50,196,0.6)"
         },
         "name": "Califronia",
         "opacity": 0.8,
         "type": "histogram",
         "x": [
          2,
          7,
          4,
          6,
          3,
          5,
          9,
          4,
          2,
          3,
          4,
          2,
          3,
          2,
          2,
          6,
          3,
          4,
          5,
          1,
          3,
          2,
          1,
          3,
          2,
          3,
          3,
          1,
          4,
          2,
          3,
          6,
          14,
          3,
          3,
          3,
          7,
          7,
          4,
          6,
          1,
          3,
          2,
          7,
          8,
          7,
          4,
          6,
          3,
          2,
          2,
          1,
          13,
          2,
          4,
          7,
          3,
          3,
          2,
          1,
          5,
          2,
          6,
          1,
          1,
          2,
          4,
          2,
          3,
          3,
          4,
          7,
          3,
          5,
          3,
          5,
          7,
          1,
          9,
          1,
          13,
          2,
          8,
          5,
          4,
          1,
          2,
          3,
          2,
          4,
          6,
          7,
          5,
          6,
          3,
          2,
          5,
          5,
          8,
          4,
          2,
          9,
          3,
          2,
          3,
          2,
          1,
          3,
          2,
          2,
          2,
          4,
          5,
          3,
          7,
          3,
          14,
          4,
          2,
          4,
          2,
          3,
          5,
          8,
          5,
          3,
          5,
          4,
          2,
          7,
          1,
          5,
          3,
          3,
          2,
          10,
          4,
          3,
          4,
          9,
          3,
          3,
          4,
          1,
          2,
          2,
          2,
          4,
          5,
          1,
          2,
          2,
          2,
          7,
          4,
          3,
          4,
          4,
          2,
          2,
          2,
          6,
          2,
          2,
          4,
          3,
          12,
          6,
          7,
          3,
          3,
          2,
          2,
          2,
          4,
          2,
          2,
          4,
          2,
          2,
          2,
          3,
          5,
          3,
          4,
          5,
          2,
          3,
          12,
          1,
          4,
          2,
          4,
          7,
          3,
          1,
          9,
          2,
          5,
          4,
          3,
          1,
          3,
          3,
          2,
          1,
          2,
          2,
          3,
          2,
          4,
          1,
          2,
          1,
          1,
          3,
          5,
          4,
          4,
          8,
          3,
          4,
          4,
          9,
          8,
          2,
          1,
          2,
          6,
          12,
          3,
          3,
          1,
          6,
          4,
          5,
          3,
          5,
          1,
          2,
          2,
          2,
          7,
          3,
          2,
          3,
          2,
          6,
          8,
          5,
          4,
          3,
          8,
          3,
          5,
          3,
          1,
          2,
          5,
          2,
          4,
          3,
          3,
          2,
          5,
          5,
          14,
          2,
          3,
          3,
          4,
          4,
          7,
          3,
          7,
          3,
          3,
          5,
          2,
          2,
          4,
          6,
          2,
          8,
          9,
          7,
          2,
          3,
          4,
          2,
          6,
          3,
          5,
          3,
          1,
          2,
          3,
          5,
          3,
          5,
          1,
          4,
          3,
          2,
          2,
          2,
          7,
          5,
          3,
          2,
          2,
          3,
          3,
          3,
          1,
          3,
          2,
          7,
          5,
          6,
          2,
          2,
          1,
          5,
          14,
          2,
          3,
          2,
          5,
          8,
          2,
          9,
          2,
          2,
          4,
          6,
          3,
          9,
          5,
          5,
          7,
          7,
          7,
          3,
          2,
          3,
          2,
          3,
          5,
          2,
          1,
          4,
          3,
          3,
          2,
          1,
          4,
          3,
          3,
          2,
          3,
          5,
          8,
          3,
          6,
          3,
          4,
          5,
          7,
          2,
          2,
          4,
          6,
          5,
          2,
          4,
          6,
          3,
          5,
          2,
          13,
          3,
          4,
          3,
          9,
          3,
          4,
          3,
          5,
          3,
          7,
          3,
          6,
          2,
          1,
          3,
          3,
          5,
          4,
          3,
          4,
          2,
          1,
          7,
          3,
          1,
          6,
          1,
          3,
          3,
          2,
          3,
          1,
          13,
          2,
          4,
          4,
          1,
          4,
          2,
          2,
          1,
          7,
          2,
          2,
          2,
          1,
          3,
          2,
          5,
          5,
          6,
          3,
          3,
          3,
          2,
          7,
          2,
          1,
          3,
          7,
          2,
          1,
          3,
          5,
          2,
          5,
          6,
          2,
          2,
          3,
          6,
          7,
          5,
          1,
          3,
          1,
          5,
          4,
          9,
          4,
          4,
          2,
          2,
          2,
          2,
          6,
          9,
          7,
          10,
          5,
          3,
          8,
          5,
          2,
          3,
          2,
          1,
          8,
          2,
          5,
          2,
          5,
          7,
          4,
          3,
          6,
          3,
          2,
          1,
          2,
          4,
          5,
          8,
          3,
          6,
          4,
          6,
          3,
          4,
          1,
          1,
          3,
          1,
          2,
          3,
          6,
          2,
          13,
          2,
          5,
          3,
          1,
          4,
          3,
          9,
          5,
          7,
          3,
          2,
          5,
          2,
          2,
          6,
          3,
          11,
          2,
          2,
          3,
          5,
          5,
          2,
          1,
          5,
          3,
          2,
          4,
          2,
          14,
          4,
          7,
          3,
          3,
          6,
          5,
          3,
          3,
          1,
          3,
          5,
          4,
          3,
          7,
          3,
          4,
          1,
          8,
          2,
          7,
          4,
          2,
          3,
          2,
          5,
          2,
          2,
          2,
          1,
          9,
          1,
          7,
          3,
          14,
          5,
          4,
          4,
          2,
          2,
          5,
          2,
          1,
          4,
          5,
          7,
          4,
          3,
          3,
          2,
          2,
          8,
          2,
          10,
          2,
          2,
          2,
          2,
          8,
          2,
          3,
          2,
          2,
          5,
          4,
          5,
          2,
          5,
          3,
          9,
          2,
          3,
          1,
          4,
          8,
          1,
          2,
          8,
          5,
          8,
          5,
          9,
          6,
          3,
          1,
          2,
          7,
          3,
          8,
          5,
          6,
          3,
          5,
          5,
          1,
          3,
          2,
          3,
          5,
          2,
          9,
          3,
          4,
          4,
          4,
          3,
          9,
          3,
          5,
          5,
          3,
          2,
          2,
          6,
          2,
          2,
          9,
          2,
          4,
          2,
          2,
          2,
          8,
          7,
          4,
          2,
          3,
          2,
          9,
          1,
          2,
          5,
          1,
          2,
          2,
          2,
          7,
          6,
          2,
          6,
          5,
          2,
          8,
          4,
          4,
          4,
          5,
          2,
          2,
          6,
          7,
          2,
          4,
          4,
          2,
          2,
          1,
          1,
          2,
          2,
          1,
          5,
          12,
          2,
          1,
          1,
          2,
          8,
          2,
          2,
          1,
          5,
          1,
          4,
          2,
          3,
          3,
          5,
          2,
          4,
          2,
          5,
          3,
          3,
          2,
          5,
          2,
          2,
          2,
          6,
          6,
          7,
          6,
          1,
          3,
          4,
          2,
          2,
          2,
          6,
          5,
          1,
          5,
          4,
          2,
          9,
          1,
          7,
          2,
          4,
          3,
          2,
          6,
          8,
          14,
          5,
          5,
          2,
          3,
          3,
          3,
          3,
          9,
          4,
          5,
          1,
          3,
          11,
          5,
          4,
          5,
          4,
          6,
          3,
          3,
          9,
          6,
          5,
          7,
          3,
          2,
          3,
          3,
          5,
          2,
          2,
          3,
          7,
          8,
          5,
          7,
          7,
          3,
          1,
          4,
          2,
          7,
          2,
          5,
          9,
          2,
          5,
          3,
          8,
          2,
          4,
          3,
          3,
          2,
          9,
          1,
          3,
          4,
          3,
          2,
          7,
          4,
          3,
          3,
          4,
          2,
          3,
          3,
          2,
          3,
          3,
          6,
          6,
          2,
          4,
          4,
          2,
          5,
          3,
          5,
          3,
          3,
          4,
          3,
          2,
          2,
          6,
          2,
          5,
          2,
          1,
          3,
          5,
          2,
          5,
          4,
          2,
          2,
          5,
          7,
          2,
          12,
          3,
          2,
          3,
          3,
          3,
          9,
          6,
          2,
          2,
          5,
          7,
          2,
          3,
          3,
          1,
          1,
          3,
          4,
          3,
          2,
          2,
          3,
          3,
          3,
          3,
          3,
          5,
          3,
          2,
          2,
          7,
          5,
          6,
          3,
          3,
          7,
          2,
          2,
          3,
          2,
          3,
          3,
          8,
          6,
          3,
          5,
          3,
          6,
          1,
          3,
          4,
          3,
          2,
          5,
          4,
          1,
          5,
          3,
          2,
          3,
          7,
          7,
          2,
          7,
          6,
          3,
          3,
          3,
          2,
          1,
          3,
          3,
          3,
          4,
          3,
          3,
          4,
          1,
          2,
          10,
          3,
          3,
          4,
          5,
          2,
          4,
          2,
          3,
          3,
          3,
          3,
          4,
          9,
          5,
          2,
          4,
          1,
          5,
          3,
          5,
          2,
          2,
          2,
          7,
          3,
          1,
          1,
          1,
          2,
          2,
          3,
          3,
          4,
          1,
          5,
          1,
          2,
          3,
          3,
          2,
          2,
          3,
          4,
          3,
          1,
          8,
          3,
          4,
          9,
          5,
          4,
          3,
          5,
          5,
          6,
          5,
          4,
          2,
          3,
          1,
          3,
          8,
          2,
          2,
          2,
          4,
          4,
          2,
          3,
          2,
          2,
          2,
          2,
          2,
          7,
          3,
          3,
          3,
          5,
          5,
          3,
          3,
          2,
          2,
          5,
          1,
          7,
          1,
          3,
          2,
          2,
          3,
          2,
          6,
          5,
          4,
          5,
          4,
          7,
          4,
          2,
          3,
          2,
          4,
          5,
          6,
          3,
          4,
          3,
          2,
          6,
          2,
          5,
          1,
          2,
          2,
          3,
          6,
          3,
          3,
          2,
          5,
          12,
          5,
          5,
          1,
          3,
          4,
          1,
          3,
          1,
          3,
          5,
          6,
          5,
          3,
          5,
          3,
          6,
          8,
          3,
          3,
          3,
          3,
          1,
          2,
          4,
          2,
          2,
          4,
          4,
          2,
          5,
          6,
          4,
          12,
          2,
          1,
          3,
          7,
          6,
          3,
          2,
          5,
          9,
          2,
          5,
          3,
          2,
          2,
          4,
          4,
          2,
          5,
          3,
          6,
          3,
          5,
          5,
          2,
          5,
          1,
          2,
          6,
          2,
          2,
          2,
          3,
          2,
          1,
          2,
          4,
          3,
          7,
          7,
          3,
          5,
          4,
          1,
          3,
          4,
          3,
          3,
          4,
          7,
          1,
          1,
          3,
          1,
          3,
          1,
          4,
          4,
          7,
          1,
          2,
          1,
          2,
          2,
          4,
          2,
          3,
          2,
          1,
          5,
          4,
          4,
          4,
          4,
          5,
          4,
          7,
          5,
          2,
          3,
          2,
          7,
          2,
          9,
          9,
          2,
          3,
          3,
          3,
          3,
          3,
          5,
          1,
          9,
          3,
          4,
          5,
          4,
          1,
          2,
          3,
          3,
          3,
          12,
          2,
          4,
          1,
          5,
          4,
          4,
          5,
          5,
          4,
          3,
          4,
          9,
          2,
          4,
          3,
          6,
          3,
          1,
          2,
          4,
          3,
          7,
          7,
          3,
          4,
          3,
          3,
          6,
          3,
          3,
          5,
          8,
          2,
          7,
          3,
          1,
          3,
          3,
          3,
          3,
          5,
          3,
          3,
          8,
          1,
          1,
          3,
          2,
          3,
          6,
          5,
          2,
          1,
          4,
          2,
          4,
          2,
          3,
          4,
          4,
          2,
          2,
          6,
          10,
          4,
          4,
          2,
          5,
          1,
          9,
          3,
          2,
          1,
          1,
          9,
          5,
          5,
          5,
          3,
          6,
          4,
          8,
          3,
          3,
          3,
          3,
          3,
          5,
          6,
          5,
          4,
          4,
          5,
          1,
          3,
          2,
          2,
          5,
          2,
          8,
          2,
          7,
          7,
          6,
          4,
          7,
          2,
          3,
          5,
          10,
          2,
          1,
          2,
          5,
          5,
          1,
          8,
          3,
          3,
          5,
          3,
          7,
          4,
          6,
          3,
          3,
          2,
          6,
          4,
          6,
          8,
          1,
          2,
          7,
          6,
          4,
          4,
          2,
          2,
          3,
          2,
          3,
          3,
          8,
          5,
          2,
          3,
          3,
          3,
          9,
          4,
          3,
          2,
          1,
          6,
          5,
          1,
          2,
          5,
          1,
          2,
          5,
          1,
          5,
          5,
          2,
          4,
          4,
          3,
          2,
          5,
          11,
          8,
          3,
          2,
          5,
          3,
          2,
          9,
          2,
          9,
          3,
          3,
          5,
          1,
          3,
          4,
          5,
          7,
          3,
          4,
          3,
          7,
          1,
          5,
          2,
          3,
          4,
          5,
          2,
          1,
          3,
          2,
          3,
          5,
          2,
          7,
          2,
          3,
          3,
          1,
          4,
          5,
          2,
          1,
          4,
          5,
          3,
          9,
          7,
          3,
          2,
          2,
          7,
          6,
          1,
          2,
          9,
          3,
          1,
          2,
          4,
          1,
          4,
          3,
          10,
          3,
          3,
          5,
          3,
          3,
          5,
          2,
          2,
          11,
          3,
          3,
          2,
          4,
          2,
          3,
          7,
          4,
          6,
          3,
          3,
          7,
          7,
          7,
          6,
          2,
          7,
          5,
          2,
          3,
          7,
          2,
          4,
          2,
          3,
          4,
          9,
          2,
          9,
          7,
          4,
          2,
          3,
          2,
          4,
          7,
          1,
          7,
          5,
          3,
          3,
          3,
          11,
          3,
          7,
          1,
          3,
          5,
          3,
          5,
          5,
          3,
          2,
          3,
          8,
          3,
          6,
          5,
          5,
          2,
          3,
          4,
          2,
          2,
          8,
          2,
          8,
          4,
          1,
          2,
          6,
          2,
          3,
          4,
          4,
          3,
          3,
          3,
          2,
          1,
          2,
          2,
          6,
          3,
          6,
          3,
          3,
          3,
          2,
          9,
          4,
          3,
          2,
          4,
          3,
          3,
          4,
          7,
          3,
          1,
          5,
          5,
          4,
          3,
          3,
          2,
          4,
          2,
          4,
          5,
          3,
          6,
          4,
          6,
          4,
          3,
          2,
          1,
          4,
          2,
          2,
          3,
          1,
          3,
          3,
          3,
          2,
          2,
          2,
          8,
          5,
          3,
          3,
          3,
          3,
          2,
          2,
          2,
          2,
          2,
          4,
          2,
          2,
          5,
          2,
          3,
          8,
          3,
          2,
          2,
          2,
          3,
          2,
          3,
          9,
          3,
          8,
          2,
          10,
          4,
          5,
          4,
          5,
          3,
          1,
          4,
          1,
          5,
          12,
          6,
          7,
          1,
          3,
          5,
          2,
          9,
          5,
          3,
          2,
          3,
          6,
          2,
          2,
          3,
          3,
          2,
          7,
          7,
          6,
          3,
          5,
          2,
          3,
          11,
          2,
          2,
          2,
          4,
          3,
          3,
          7,
          3,
          3,
          4,
          4,
          7,
          5,
          6,
          7,
          3,
          3,
          7,
          1,
          6,
          4,
          5,
          2,
          6,
          2,
          5,
          2,
          8,
          3,
          4,
          3,
          5,
          3,
          2,
          4,
          9,
          6,
          3,
          4,
          2,
          5,
          3,
          2,
          1,
          6,
          6,
          2,
          3,
          2,
          4,
          4,
          5,
          2,
          2,
          2,
          2,
          2,
          2,
          3,
          3,
          2,
          3,
          2,
          7,
          2,
          3,
          2,
          5,
          3,
          4,
          3,
          2,
          5,
          5,
          4,
          3,
          3,
          2,
          1,
          5,
          2,
          3,
          7,
          3,
          5,
          5,
          4,
          2,
          7,
          2,
          5,
          2,
          5,
          1,
          4,
          3,
          3,
          3,
          3,
          6,
          5,
          2,
          2,
          2,
          1,
          2,
          2,
          5,
          5,
          4,
          4,
          3,
          2,
          3,
          3,
          2,
          6,
          2,
          5,
          2,
          11,
          3,
          2,
          9,
          9,
          3,
          3,
          3,
          4,
          7,
          8,
          5,
          2,
          5,
          2,
          3,
          3,
          1,
          2,
          7,
          5,
          5,
          5,
          3,
          3,
          2,
          5,
          5,
          5,
          3,
          2,
          2,
          4,
          2,
          2,
          7,
          3,
          4,
          4,
          6,
          3,
          2,
          5,
          7,
          5,
          7,
          1,
          5,
          2,
          4,
          1,
          3,
          2,
          1,
          3,
          3,
          3,
          3,
          3,
          4,
          2,
          1,
          1,
          5,
          2,
          5,
          6,
          1,
          8,
          3,
          2,
          3,
          5,
          7,
          4,
          3,
          9,
          9,
          3,
          4,
          7,
          3,
          1,
          6,
          1,
          2,
          5,
          3,
          1,
          2,
          1,
          2,
          2,
          4,
          6,
          8,
          2,
          3,
          4,
          5,
          1,
          6,
          3,
          5,
          3,
          7,
          8,
          2,
          7,
          2,
          5,
          6,
          5,
          3,
          3,
          2,
          2,
          3,
          6,
          3,
          2,
          3,
          1,
          6,
          6,
          8,
          3,
          6,
          1,
          3,
          4,
          2,
          2,
          3,
          2,
          3,
          5,
          3,
          2,
          3,
          3,
          4,
          9,
          2,
          2,
          2,
          8,
          9,
          2,
          6,
          5,
          9,
          2,
          3,
          3,
          2,
          3,
          3,
          7,
          3,
          5,
          4,
          2,
          9,
          3,
          6,
          8,
          2,
          1,
          6,
          6,
          2,
          3,
          4,
          3,
          2,
          3,
          3,
          3,
          2,
          3,
          2,
          8,
          2,
          6,
          5,
          3,
          5,
          2,
          2,
          5,
          5,
          6,
          7,
          3,
          3,
          4,
          3,
          4,
          5,
          2,
          1,
          3,
          8,
          2,
          4,
          5,
          5,
          5,
          2,
          4,
          2,
          2,
          3,
          2,
          7,
          3,
          3,
          5,
          3,
          2,
          3,
          3,
          3,
          5,
          2,
          4,
          7,
          2,
          14,
          9,
          5,
          2,
          1,
          3,
          2,
          5,
          7,
          2,
          2,
          7,
          4,
          14,
          1,
          2,
          2,
          4,
          2
         ],
         "xaxis": "x2"
        },
        {
         "marker": {
          "color": "red"
         },
         "name": "New York",
         "opacity": 0.5,
         "type": "histogram",
         "x": [
          7,
          5,
          6,
          5,
          5,
          2,
          2,
          4,
          1,
          1,
          7,
          2,
          1,
          4,
          6,
          8,
          3,
          5,
          6,
          4,
          3,
          3,
          5,
          2,
          1,
          2,
          6,
          4,
          1,
          1,
          2,
          1,
          4,
          4,
          6,
          2,
          4,
          5,
          2,
          3,
          2,
          8,
          4,
          2,
          3,
          1,
          3,
          3,
          3,
          6,
          3,
          3,
          4,
          1,
          3,
          5,
          5,
          2,
          2,
          5,
          3,
          5,
          4,
          6,
          2,
          7,
          4,
          7,
          3,
          2,
          2,
          9,
          1,
          3,
          7,
          10,
          2,
          8,
          5,
          3,
          2,
          4,
          2,
          4,
          5,
          8,
          1,
          6,
          2,
          3,
          8,
          2,
          3,
          3,
          2,
          3,
          7,
          2,
          7,
          9,
          3,
          4,
          4,
          2,
          3,
          2,
          10,
          2,
          2,
          7,
          3,
          5,
          2,
          5,
          3,
          8,
          4,
          7,
          3,
          3,
          1,
          5,
          2,
          2,
          3,
          2,
          4,
          3,
          3,
          7,
          3,
          6,
          5,
          3,
          2,
          7,
          7,
          3,
          2,
          3,
          5,
          5,
          2,
          3,
          2,
          2,
          3,
          4,
          2,
          8,
          1,
          2,
          7,
          1,
          3,
          5,
          2,
          3,
          3,
          4,
          6,
          1,
          3,
          7,
          7,
          2,
          4,
          3,
          1,
          1,
          4,
          3,
          2,
          2,
          2,
          4,
          3,
          4,
          6,
          9,
          13,
          2,
          3,
          3,
          2,
          4,
          3,
          2,
          3,
          8,
          3,
          5,
          4,
          2,
          4,
          1,
          2,
          2,
          2,
          4,
          7,
          2,
          6,
          3,
          7,
          2,
          4,
          1,
          6,
          3,
          6,
          7,
          1,
          4,
          5,
          3,
          2,
          9,
          2,
          2,
          3,
          2,
          5,
          3,
          3,
          4,
          13,
          2,
          1,
          5,
          4,
          2,
          9,
          2,
          2,
          5,
          5,
          4,
          8,
          4,
          2,
          3,
          1,
          1,
          8,
          3,
          6,
          2,
          4,
          1,
          3,
          7,
          4,
          2,
          5,
          2,
          2,
          2,
          1,
          1,
          8,
          3,
          6,
          5,
          3,
          2,
          3,
          4,
          4,
          5,
          5,
          3,
          2,
          4,
          2,
          1,
          3,
          3,
          9,
          2,
          3,
          5,
          2,
          7,
          3,
          4,
          5,
          5,
          8,
          4,
          1,
          1,
          1,
          1,
          1,
          1,
          4,
          5,
          1,
          7,
          4,
          5,
          3,
          1,
          2,
          4,
          4,
          7,
          4,
          3,
          7,
          4,
          1,
          7,
          9,
          4,
          2,
          2,
          5,
          7,
          5,
          6,
          3,
          3,
          8,
          8,
          1,
          6,
          3,
          5,
          2,
          1,
          1,
          3,
          4,
          4,
          7,
          2,
          1,
          2,
          8,
          7,
          1,
          2,
          7,
          3,
          3,
          1,
          4,
          4,
          8,
          5,
          1,
          4,
          3,
          3,
          4,
          11,
          2,
          6,
          9,
          2,
          3,
          3,
          4,
          1,
          1,
          4,
          3,
          2,
          5,
          11,
          3,
          5,
          2,
          4,
          5,
          4,
          3,
          1,
          1,
          1,
          3,
          2,
          3,
          4,
          1,
          5,
          2,
          11,
          3,
          1,
          3,
          3,
          6,
          4,
          2,
          3,
          3,
          5,
          2,
          2,
          2,
          3,
          2,
          5,
          1,
          3,
          3,
          2,
          1,
          5,
          3,
          3,
          3,
          11,
          6,
          5,
          2,
          3,
          3,
          3,
          3,
          4,
          3,
          3,
          5,
          4,
          2,
          3,
          7,
          5,
          2,
          14,
          3,
          7,
          2,
          4,
          5,
          3,
          2,
          10,
          3,
          3,
          3,
          4,
          1,
          1,
          3,
          4,
          9,
          3,
          2,
          3,
          3,
          3,
          2,
          6,
          6,
          2,
          9,
          3,
          3,
          3,
          2,
          2,
          1,
          7,
          2,
          4,
          2,
          5,
          8,
          7,
          2,
          3,
          3,
          10,
          3,
          2,
          2,
          3,
          3,
          2,
          3,
          3,
          3,
          3,
          2,
          3,
          4,
          3,
          3,
          3,
          1,
          2,
          6,
          7,
          4,
          7,
          2,
          2,
          2,
          2,
          9,
          2,
          3,
          7,
          2,
          3,
          3,
          3,
          3,
          3,
          3,
          9,
          2,
          2,
          2,
          5,
          7,
          6,
          2,
          5,
          4,
          2,
          3,
          11,
          1,
          3,
          2,
          7,
          5,
          2,
          5,
          3,
          2,
          3,
          9,
          4,
          3,
          3,
          4,
          2,
          2,
          1,
          3,
          3,
          1,
          4,
          3,
          3,
          1,
          3,
          3,
          6,
          3,
          5,
          3,
          3,
          2,
          5,
          2,
          6,
          5,
          4,
          2,
          3,
          3,
          1,
          3,
          7,
          9,
          9,
          7,
          4,
          2,
          1,
          3,
          9,
          7,
          4,
          3,
          5,
          6,
          8,
          1,
          3,
          1,
          3,
          3,
          2,
          2,
          1,
          2,
          5,
          1,
          3,
          5,
          5,
          6,
          2,
          4,
          1,
          8,
          5,
          3,
          2,
          2,
          1,
          5,
          4,
          5,
          6,
          2,
          5,
          1,
          4,
          1,
          2,
          1,
          13,
          3,
          6,
          5,
          2,
          3,
          2,
          6,
          2,
          3,
          2,
          3,
          2,
          5,
          4,
          3,
          3,
          6,
          5,
          2,
          5,
          5,
          6,
          7,
          1,
          3,
          3,
          3,
          2,
          7,
          3,
          3,
          9,
          3,
          5,
          10,
          3,
          9,
          4,
          3,
          2,
          3,
          4,
          3,
          4,
          9,
          4,
          4,
          1,
          2,
          2,
          4,
          5,
          7,
          2,
          4,
          6,
          5,
          3,
          2,
          2,
          4,
          2,
          5,
          2,
          1,
          2,
          2,
          2,
          5,
          2,
          5,
          4,
          3,
          6,
          2,
          3,
          3,
          3,
          2,
          9,
          2,
          4,
          2,
          1,
          3,
          2,
          11,
          2,
          5,
          3,
          3,
          4,
          3,
          6,
          14,
          3,
          2,
          3,
          6,
          6,
          9,
          3,
          8,
          4,
          3,
          4,
          1,
          1,
          3,
          4,
          5,
          4,
          2,
          4,
          5,
          1,
          2,
          1,
          1,
          2,
          2,
          4,
          3,
          3,
          2,
          2,
          6,
          4,
          1,
          2,
          5,
          5,
          3,
          2,
          5,
          3,
          1,
          7,
          2,
          6,
          4,
          5,
          3,
          5,
          3,
          3,
          4,
          3,
          10,
          4,
          9,
          2,
          4,
          14,
          3,
          6,
          3,
          3,
          1,
          5,
          1,
          3,
          2,
          3,
          2,
          4,
          9,
          3,
          4,
          7,
          1,
          7,
          12,
          2,
          5,
          4,
          3,
          5,
          7,
          3,
          3,
          4,
          3,
          2,
          5,
          2,
          1,
          7,
          6,
          4,
          2,
          3,
          2,
          3,
          3,
          3,
          3,
          2,
          3,
          2,
          3,
          6,
          2,
          5,
          9,
          6,
          2,
          2,
          4,
          2,
          2,
          5,
          2,
          3,
          3,
          3,
          3,
          3,
          8,
          3,
          2,
          2,
          2,
          5,
          2,
          3,
          8,
          2,
          2,
          3,
          3,
          1,
          5,
          5,
          2,
          3,
          2,
          2,
          3,
          2,
          6,
          2,
          3,
          4,
          2,
          3,
          2,
          4,
          6,
          3,
          6,
          3,
          4,
          3,
          3,
          6,
          2,
          3,
          2,
          5,
          9,
          1,
          3,
          2,
          2,
          3,
          4,
          6,
          4,
          3,
          2,
          3,
          1,
          3,
          1,
          2,
          2,
          5,
          3,
          4,
          3,
          5,
          3,
          3,
          1,
          3,
          3,
          2,
          4,
          5,
          5,
          8,
          1,
          3,
          2,
          1,
          1,
          4,
          5,
          7,
          3,
          5,
          2,
          4,
          3,
          2,
          3,
          2,
          8,
          5,
          9,
          6,
          2,
          6,
          9,
          6,
          4,
          5,
          2,
          3,
          4,
          2,
          2,
          2,
          3,
          2,
          3,
          3,
          7,
          8,
          7,
          2,
          1,
          2,
          5,
          4,
          5,
          3,
          2,
          3,
          4,
          2,
          3,
          3,
          2,
          6,
          2,
          2,
          2,
          2,
          7,
          13,
          2,
          2,
          3,
          2,
          4,
          2,
          2,
          4,
          3,
          5,
          2,
          2,
          4,
          6,
          2,
          2,
          4,
          3,
          2,
          6,
          2,
          3,
          3,
          3,
          2,
          2,
          4,
          1,
          3,
          9,
          2,
          2,
          7,
          1,
          3,
          4,
          3,
          2,
          4,
          2,
          3,
          11,
          6,
          4,
          2,
          1,
          3,
          5,
          1,
          7,
          1,
          3,
          7,
          6,
          3,
          4,
          8,
          2,
          2,
          4,
          2,
          5,
          3,
          1,
          7,
          2,
          6,
          4,
          5,
          2,
          2,
          6,
          1,
          9,
          2,
          6,
          9,
          1,
          6,
          5,
          2,
          3,
          6,
          2,
          2,
          2,
          2,
          1,
          2,
          5,
          9,
          1,
          7,
          2,
          9,
          14,
          7,
          2,
          2,
          3,
          1,
          5,
          5,
          1,
          2,
          2,
          3,
          6,
          3,
          3,
          6,
          3,
          1,
          4,
          4,
          3,
          1,
          4,
          3,
          3,
          13,
          3,
          2,
          2,
          1,
          1,
          2,
          3,
          2,
          3,
          2,
          5,
          7,
          3,
          1,
          2,
          7,
          2,
          1,
          1,
          3,
          1,
          8,
          2,
          4,
          3,
          5,
          4,
          7,
          5,
          4,
          2,
          10,
          4
         ],
         "xaxis": "x3"
        }
       ],
       "layout": {
        "barmode": "overlay",
        "template": {
         "data": {
          "bar": [
           {
            "error_x": {
             "color": "#2a3f5f"
            },
            "error_y": {
             "color": "#2a3f5f"
            },
            "marker": {
             "line": {
              "color": "#E5ECF6",
              "width": 0.5
             },
             "pattern": {
              "fillmode": "overlay",
              "size": 10,
              "solidity": 0.2
             }
            },
            "type": "bar"
           }
          ],
          "barpolar": [
           {
            "marker": {
             "line": {
              "color": "#E5ECF6",
              "width": 0.5
             },
             "pattern": {
              "fillmode": "overlay",
              "size": 10,
              "solidity": 0.2
             }
            },
            "type": "barpolar"
           }
          ],
          "carpet": [
           {
            "aaxis": {
             "endlinecolor": "#2a3f5f",
             "gridcolor": "white",
             "linecolor": "white",
             "minorgridcolor": "white",
             "startlinecolor": "#2a3f5f"
            },
            "baxis": {
             "endlinecolor": "#2a3f5f",
             "gridcolor": "white",
             "linecolor": "white",
             "minorgridcolor": "white",
             "startlinecolor": "#2a3f5f"
            },
            "type": "carpet"
           }
          ],
          "choropleth": [
           {
            "colorbar": {
             "outlinewidth": 0,
             "ticks": ""
            },
            "type": "choropleth"
           }
          ],
          "contour": [
           {
            "colorbar": {
             "outlinewidth": 0,
             "ticks": ""
            },
            "colorscale": [
             [
              0,
              "#0d0887"
             ],
             [
              0.1111111111111111,
              "#46039f"
             ],
             [
              0.2222222222222222,
              "#7201a8"
             ],
             [
              0.3333333333333333,
              "#9c179e"
             ],
             [
              0.4444444444444444,
              "#bd3786"
             ],
             [
              0.5555555555555556,
              "#d8576b"
             ],
             [
              0.6666666666666666,
              "#ed7953"
             ],
             [
              0.7777777777777778,
              "#fb9f3a"
             ],
             [
              0.8888888888888888,
              "#fdca26"
             ],
             [
              1,
              "#f0f921"
             ]
            ],
            "type": "contour"
           }
          ],
          "contourcarpet": [
           {
            "colorbar": {
             "outlinewidth": 0,
             "ticks": ""
            },
            "type": "contourcarpet"
           }
          ],
          "heatmap": [
           {
            "colorbar": {
             "outlinewidth": 0,
             "ticks": ""
            },
            "colorscale": [
             [
              0,
              "#0d0887"
             ],
             [
              0.1111111111111111,
              "#46039f"
             ],
             [
              0.2222222222222222,
              "#7201a8"
             ],
             [
              0.3333333333333333,
              "#9c179e"
             ],
             [
              0.4444444444444444,
              "#bd3786"
             ],
             [
              0.5555555555555556,
              "#d8576b"
             ],
             [
              0.6666666666666666,
              "#ed7953"
             ],
             [
              0.7777777777777778,
              "#fb9f3a"
             ],
             [
              0.8888888888888888,
              "#fdca26"
             ],
             [
              1,
              "#f0f921"
             ]
            ],
            "type": "heatmap"
           }
          ],
          "heatmapgl": [
           {
            "colorbar": {
             "outlinewidth": 0,
             "ticks": ""
            },
            "colorscale": [
             [
              0,
              "#0d0887"
             ],
             [
              0.1111111111111111,
              "#46039f"
             ],
             [
              0.2222222222222222,
              "#7201a8"
             ],
             [
              0.3333333333333333,
              "#9c179e"
             ],
             [
              0.4444444444444444,
              "#bd3786"
             ],
             [
              0.5555555555555556,
              "#d8576b"
             ],
             [
              0.6666666666666666,
              "#ed7953"
             ],
             [
              0.7777777777777778,
              "#fb9f3a"
             ],
             [
              0.8888888888888888,
              "#fdca26"
             ],
             [
              1,
              "#f0f921"
             ]
            ],
            "type": "heatmapgl"
           }
          ],
          "histogram": [
           {
            "marker": {
             "pattern": {
              "fillmode": "overlay",
              "size": 10,
              "solidity": 0.2
             }
            },
            "type": "histogram"
           }
          ],
          "histogram2d": [
           {
            "colorbar": {
             "outlinewidth": 0,
             "ticks": ""
            },
            "colorscale": [
             [
              0,
              "#0d0887"
             ],
             [
              0.1111111111111111,
              "#46039f"
             ],
             [
              0.2222222222222222,
              "#7201a8"
             ],
             [
              0.3333333333333333,
              "#9c179e"
             ],
             [
              0.4444444444444444,
              "#bd3786"
             ],
             [
              0.5555555555555556,
              "#d8576b"
             ],
             [
              0.6666666666666666,
              "#ed7953"
             ],
             [
              0.7777777777777778,
              "#fb9f3a"
             ],
             [
              0.8888888888888888,
              "#fdca26"
             ],
             [
              1,
              "#f0f921"
             ]
            ],
            "type": "histogram2d"
           }
          ],
          "histogram2dcontour": [
           {
            "colorbar": {
             "outlinewidth": 0,
             "ticks": ""
            },
            "colorscale": [
             [
              0,
              "#0d0887"
             ],
             [
              0.1111111111111111,
              "#46039f"
             ],
             [
              0.2222222222222222,
              "#7201a8"
             ],
             [
              0.3333333333333333,
              "#9c179e"
             ],
             [
              0.4444444444444444,
              "#bd3786"
             ],
             [
              0.5555555555555556,
              "#d8576b"
             ],
             [
              0.6666666666666666,
              "#ed7953"
             ],
             [
              0.7777777777777778,
              "#fb9f3a"
             ],
             [
              0.8888888888888888,
              "#fdca26"
             ],
             [
              1,
              "#f0f921"
             ]
            ],
            "type": "histogram2dcontour"
           }
          ],
          "mesh3d": [
           {
            "colorbar": {
             "outlinewidth": 0,
             "ticks": ""
            },
            "type": "mesh3d"
           }
          ],
          "parcoords": [
           {
            "line": {
             "colorbar": {
              "outlinewidth": 0,
              "ticks": ""
             }
            },
            "type": "parcoords"
           }
          ],
          "pie": [
           {
            "automargin": true,
            "type": "pie"
           }
          ],
          "scatter": [
           {
            "fillpattern": {
             "fillmode": "overlay",
             "size": 10,
             "solidity": 0.2
            },
            "type": "scatter"
           }
          ],
          "scatter3d": [
           {
            "line": {
             "colorbar": {
              "outlinewidth": 0,
              "ticks": ""
             }
            },
            "marker": {
             "colorbar": {
              "outlinewidth": 0,
              "ticks": ""
             }
            },
            "type": "scatter3d"
           }
          ],
          "scattercarpet": [
           {
            "marker": {
             "colorbar": {
              "outlinewidth": 0,
              "ticks": ""
             }
            },
            "type": "scattercarpet"
           }
          ],
          "scattergeo": [
           {
            "marker": {
             "colorbar": {
              "outlinewidth": 0,
              "ticks": ""
             }
            },
            "type": "scattergeo"
           }
          ],
          "scattergl": [
           {
            "marker": {
             "colorbar": {
              "outlinewidth": 0,
              "ticks": ""
             }
            },
            "type": "scattergl"
           }
          ],
          "scattermapbox": [
           {
            "marker": {
             "colorbar": {
              "outlinewidth": 0,
              "ticks": ""
             }
            },
            "type": "scattermapbox"
           }
          ],
          "scatterpolar": [
           {
            "marker": {
             "colorbar": {
              "outlinewidth": 0,
              "ticks": ""
             }
            },
            "type": "scatterpolar"
           }
          ],
          "scatterpolargl": [
           {
            "marker": {
             "colorbar": {
              "outlinewidth": 0,
              "ticks": ""
             }
            },
            "type": "scatterpolargl"
           }
          ],
          "scatterternary": [
           {
            "marker": {
             "colorbar": {
              "outlinewidth": 0,
              "ticks": ""
             }
            },
            "type": "scatterternary"
           }
          ],
          "surface": [
           {
            "colorbar": {
             "outlinewidth": 0,
             "ticks": ""
            },
            "colorscale": [
             [
              0,
              "#0d0887"
             ],
             [
              0.1111111111111111,
              "#46039f"
             ],
             [
              0.2222222222222222,
              "#7201a8"
             ],
             [
              0.3333333333333333,
              "#9c179e"
             ],
             [
              0.4444444444444444,
              "#bd3786"
             ],
             [
              0.5555555555555556,
              "#d8576b"
             ],
             [
              0.6666666666666666,
              "#ed7953"
             ],
             [
              0.7777777777777778,
              "#fb9f3a"
             ],
             [
              0.8888888888888888,
              "#fdca26"
             ],
             [
              1,
              "#f0f921"
             ]
            ],
            "type": "surface"
           }
          ],
          "table": [
           {
            "cells": {
             "fill": {
              "color": "#EBF0F8"
             },
             "line": {
              "color": "white"
             }
            },
            "header": {
             "fill": {
              "color": "#C8D4E3"
             },
             "line": {
              "color": "white"
             }
            },
            "type": "table"
           }
          ]
         },
         "layout": {
          "annotationdefaults": {
           "arrowcolor": "#2a3f5f",
           "arrowhead": 0,
           "arrowwidth": 1
          },
          "autotypenumbers": "strict",
          "coloraxis": {
           "colorbar": {
            "outlinewidth": 0,
            "ticks": ""
           }
          },
          "colorscale": {
           "diverging": [
            [
             0,
             "#8e0152"
            ],
            [
             0.1,
             "#c51b7d"
            ],
            [
             0.2,
             "#de77ae"
            ],
            [
             0.3,
             "#f1b6da"
            ],
            [
             0.4,
             "#fde0ef"
            ],
            [
             0.5,
             "#f7f7f7"
            ],
            [
             0.6,
             "#e6f5d0"
            ],
            [
             0.7,
             "#b8e186"
            ],
            [
             0.8,
             "#7fbc41"
            ],
            [
             0.9,
             "#4d9221"
            ],
            [
             1,
             "#276419"
            ]
           ],
           "sequential": [
            [
             0,
             "#0d0887"
            ],
            [
             0.1111111111111111,
             "#46039f"
            ],
            [
             0.2222222222222222,
             "#7201a8"
            ],
            [
             0.3333333333333333,
             "#9c179e"
            ],
            [
             0.4444444444444444,
             "#bd3786"
            ],
            [
             0.5555555555555556,
             "#d8576b"
            ],
            [
             0.6666666666666666,
             "#ed7953"
            ],
            [
             0.7777777777777778,
             "#fb9f3a"
            ],
            [
             0.8888888888888888,
             "#fdca26"
            ],
            [
             1,
             "#f0f921"
            ]
           ],
           "sequentialminus": [
            [
             0,
             "#0d0887"
            ],
            [
             0.1111111111111111,
             "#46039f"
            ],
            [
             0.2222222222222222,
             "#7201a8"
            ],
            [
             0.3333333333333333,
             "#9c179e"
            ],
            [
             0.4444444444444444,
             "#bd3786"
            ],
            [
             0.5555555555555556,
             "#d8576b"
            ],
            [
             0.6666666666666666,
             "#ed7953"
            ],
            [
             0.7777777777777778,
             "#fb9f3a"
            ],
            [
             0.8888888888888888,
             "#fdca26"
            ],
            [
             1,
             "#f0f921"
            ]
           ]
          },
          "colorway": [
           "#636efa",
           "#EF553B",
           "#00cc96",
           "#ab63fa",
           "#FFA15A",
           "#19d3f3",
           "#FF6692",
           "#B6E880",
           "#FF97FF",
           "#FECB52"
          ],
          "font": {
           "color": "#2a3f5f"
          },
          "geo": {
           "bgcolor": "white",
           "lakecolor": "white",
           "landcolor": "#E5ECF6",
           "showlakes": true,
           "showland": true,
           "subunitcolor": "white"
          },
          "hoverlabel": {
           "align": "left"
          },
          "hovermode": "closest",
          "mapbox": {
           "style": "light"
          },
          "paper_bgcolor": "white",
          "plot_bgcolor": "#E5ECF6",
          "polar": {
           "angularaxis": {
            "gridcolor": "white",
            "linecolor": "white",
            "ticks": ""
           },
           "bgcolor": "#E5ECF6",
           "radialaxis": {
            "gridcolor": "white",
            "linecolor": "white",
            "ticks": ""
           }
          },
          "scene": {
           "xaxis": {
            "backgroundcolor": "#E5ECF6",
            "gridcolor": "white",
            "gridwidth": 2,
            "linecolor": "white",
            "showbackground": true,
            "ticks": "",
            "zerolinecolor": "white"
           },
           "yaxis": {
            "backgroundcolor": "#E5ECF6",
            "gridcolor": "white",
            "gridwidth": 2,
            "linecolor": "white",
            "showbackground": true,
            "ticks": "",
            "zerolinecolor": "white"
           },
           "zaxis": {
            "backgroundcolor": "#E5ECF6",
            "gridcolor": "white",
            "gridwidth": 2,
            "linecolor": "white",
            "showbackground": true,
            "ticks": "",
            "zerolinecolor": "white"
           }
          },
          "shapedefaults": {
           "line": {
            "color": "#2a3f5f"
           }
          },
          "ternary": {
           "aaxis": {
            "gridcolor": "white",
            "linecolor": "white",
            "ticks": ""
           },
           "baxis": {
            "gridcolor": "white",
            "linecolor": "white",
            "ticks": ""
           },
           "bgcolor": "#E5ECF6",
           "caxis": {
            "gridcolor": "white",
            "linecolor": "white",
            "ticks": ""
           }
          },
          "title": {
           "x": 0.05
          },
          "xaxis": {
           "automargin": true,
           "gridcolor": "white",
           "linecolor": "white",
           "ticks": "",
           "title": {
            "standoff": 15
           },
           "zerolinecolor": "white",
           "zerolinewidth": 2
          },
          "yaxis": {
           "automargin": true,
           "gridcolor": "white",
           "linecolor": "white",
           "ticks": "",
           "title": {
            "standoff": 15
           },
           "zerolinecolor": "white",
           "zerolinewidth": 2
          }
         }
        },
        "title": {
         "text": "Cantidades por pedido",
         "x": 0.5
        },
        "xaxis": {
         "domain": [
          0,
          0.3
         ],
         "title": {
          "text": "Cantidades"
         }
        },
        "xaxis2": {
         "domain": [
          0.35,
          0.65
         ],
         "title": {
          "text": "Cantidades"
         }
        },
        "xaxis3": {
         "domain": [
          0.7,
          1
         ],
         "title": {
          "text": "Cantidades"
         }
        },
        "yaxis": {
         "title": {
          "text": "Veces"
         }
        }
       }
      },
      "text/html": [
       "<div>                            <div id=\"51d0df2b-9d46-4133-849b-f47bdc32337f\" class=\"plotly-graph-div\" style=\"height:525px; width:100%;\"></div>            <script type=\"text/javascript\">                require([\"plotly\"], function(Plotly) {                    window.PLOTLYENV=window.PLOTLYENV || {};                                    if (document.getElementById(\"51d0df2b-9d46-4133-849b-f47bdc32337f\")) {                    Plotly.newPlot(                        \"51d0df2b-9d46-4133-849b-f47bdc32337f\",                        [{\"marker\":{\"color\":\"black\"},\"name\":\"Texas\",\"opacity\":0.8,\"x\":[5,3,3,7,5,9,3,3,4,3,3,3,5,7,3,3,8,3,9,6,5,3,4,3,3,2,2,2,3,7,5,7,4,5,3,3,3,4,3,4,4,2,6,8,2,1,2,2,1,2,9,2,1,4,3,2,3,3,4,7,14,5,3,3,3,3,3,3,3,3,2,1,5,1,1,4,4,3,2,5,4,2,4,3,3,1,2,2,2,4,3,2,2,1,3,3,6,2,5,12,3,5,2,2,3,9,4,4,2,5,3,1,3,7,7,3,2,3,11,1,2,7,3,4,3,5,4,2,6,4,7,1,5,3,9,3,3,5,4,4,2,2,6,3,4,3,5,7,5,4,1,4,2,5,3,3,2,3,3,3,4,2,3,2,6,3,4,2,3,2,11,6,6,2,4,7,2,4,3,3,7,4,2,5,4,4,3,2,7,3,9,3,4,2,5,4,3,2,3,2,1,3,2,1,5,4,3,3,3,2,5,1,7,2,3,4,2,1,3,5,2,5,7,4,4,7,4,1,2,5,5,4,9,9,2,3,6,2,8,7,2,3,1,5,2,3,3,3,1,3,4,2,7,3,5,7,5,2,2,2,8,2,2,2,2,2,1,3,2,4,8,3,7,2,8,3,5,2,4,2,2,2,4,4,4,5,3,1,2,2,3,2,7,5,3,3,7,3,6,3,7,3,1,2,5,7,3,5,3,4,8,3,2,3,3,2,5,5,1,3,5,8,2,3,3,2,3,9,6,3,2,1,4,2,2,6,4,2,3,2,4,4,3,2,2,7,6,8,8,4,1,1,2,6,4,3,2,3,7,8,7,5,2,1,5,1,3,10,3,5,3,7,3,3,2,2,3,5,1,7,3,3,2,2,2,2,6,8,10,3,3,3,4,7,2,8,3,9,4,2,1,1,8,2,3,3,6,3,1,1,4,5,7,1,2,5,9,9,3,6,1,8,3,7,3,5,2,2,2,1,5,3,7,2,5,2,4,5,9,3,5,6,1,2,2,3,6,3,9,3,10,7,5,2,2,2,1,2,7,2,3,4,5,3,4,3,7,8,6,6,2,5,3,1,3,7,3,2,9,5,3,9,5,5,2,2,2,1,3,3,2,3,6,2,3,1,3,7,3,3,2,1,4,3,6,2,5,6,2,2,3,5,6,2,1,5,4,2,5,1,3,7,2,5,8,2,7,2,1,3,4,2,3,1,6,3,7,1,1,5,2,2,3,1,7,4,5,6,6,2,4,2,4,3,7,3,1,5,1,4,4,3,2,4,7,1,8,2,2,2,9,5,6,9,2,1,6,2,5,4,3,6,3,5,5,5,7,4,1,3,4,5,3,5,5,4,2,8,1,2,5,5,3,1,2,4,5,1,1,2,10,2,3,2,3,3,5,4,5,2,3,3,3,1,4,7,2,5,2,4,5,5,5,3,2,1,5,3,3,2,5,3,6,1,3,2,2,2,2,1,2,2,9,2,1,5,4,2,2,3,5,5,3,8,3,2,3,4,2,4,2,3,2,6,3,3,2,2,2,3,3,5,5,6,3,5,2,2,6,7,5,1,3,3,4,2,5,7,7,3,2,3,7,5,4,1,4,4,2,3,2,2,4,2,4,2,3,3,2,2,1,10,1,6,9,7,2,5,3,5,6,6,3,2,3,5,5,1,6,3,5,3,2,9,2,5,5,4,4,5,14,2,1,6,4,5,4,2,5,3,2,3,3,3,5,3,3,3,2,3,4,2,3,3,3,2,7,3,2,2,2,2,5,3,1,1,3,7,4,5,4,10,3,4,2,5,2,4,3,5,3,3,8,3,1,4,9,5,3,2,6,3,4,3,9,3,3,2,3,4,3,5,3,2,2,5,2,3,5,5,5,4,6,7,5,8,5,8,4,2,8,3,2,9,2,2,2,3,5,5,8,2,6,7,4,5,7,5,2,1,2,6,4,4,2,6,4,2,3,5,5,5,4,2,7,2,1,2,1,2,2,7,2,3,2,5,7,2,3,3,2,5,10,2,3,2,7,2,3,4,3,7,2,1,6,2,4,3,3,3,1,2,4,3,2,1,2,3,3,1,2,4,1,3,4,5,2,2,6,8,5,1,4,2,10,9,1,2,2,3,5,2,3,2,1,2,5,5,5,8,2,3,3,2,1,9,3,5,5,8,3,4,9,5,2,5,3,1,2,6,2,1,3,4,7,1,4,2,3,2,5,7,2,4,2],\"type\":\"histogram\"},{\"marker\":{\"color\":\"rgba(12,50,196,0.6)\"},\"name\":\"Califronia\",\"opacity\":0.8,\"x\":[2,7,4,6,3,5,9,4,2,3,4,2,3,2,2,6,3,4,5,1,3,2,1,3,2,3,3,1,4,2,3,6,14,3,3,3,7,7,4,6,1,3,2,7,8,7,4,6,3,2,2,1,13,2,4,7,3,3,2,1,5,2,6,1,1,2,4,2,3,3,4,7,3,5,3,5,7,1,9,1,13,2,8,5,4,1,2,3,2,4,6,7,5,6,3,2,5,5,8,4,2,9,3,2,3,2,1,3,2,2,2,4,5,3,7,3,14,4,2,4,2,3,5,8,5,3,5,4,2,7,1,5,3,3,2,10,4,3,4,9,3,3,4,1,2,2,2,4,5,1,2,2,2,7,4,3,4,4,2,2,2,6,2,2,4,3,12,6,7,3,3,2,2,2,4,2,2,4,2,2,2,3,5,3,4,5,2,3,12,1,4,2,4,7,3,1,9,2,5,4,3,1,3,3,2,1,2,2,3,2,4,1,2,1,1,3,5,4,4,8,3,4,4,9,8,2,1,2,6,12,3,3,1,6,4,5,3,5,1,2,2,2,7,3,2,3,2,6,8,5,4,3,8,3,5,3,1,2,5,2,4,3,3,2,5,5,14,2,3,3,4,4,7,3,7,3,3,5,2,2,4,6,2,8,9,7,2,3,4,2,6,3,5,3,1,2,3,5,3,5,1,4,3,2,2,2,7,5,3,2,2,3,3,3,1,3,2,7,5,6,2,2,1,5,14,2,3,2,5,8,2,9,2,2,4,6,3,9,5,5,7,7,7,3,2,3,2,3,5,2,1,4,3,3,2,1,4,3,3,2,3,5,8,3,6,3,4,5,7,2,2,4,6,5,2,4,6,3,5,2,13,3,4,3,9,3,4,3,5,3,7,3,6,2,1,3,3,5,4,3,4,2,1,7,3,1,6,1,3,3,2,3,1,13,2,4,4,1,4,2,2,1,7,2,2,2,1,3,2,5,5,6,3,3,3,2,7,2,1,3,7,2,1,3,5,2,5,6,2,2,3,6,7,5,1,3,1,5,4,9,4,4,2,2,2,2,6,9,7,10,5,3,8,5,2,3,2,1,8,2,5,2,5,7,4,3,6,3,2,1,2,4,5,8,3,6,4,6,3,4,1,1,3,1,2,3,6,2,13,2,5,3,1,4,3,9,5,7,3,2,5,2,2,6,3,11,2,2,3,5,5,2,1,5,3,2,4,2,14,4,7,3,3,6,5,3,3,1,3,5,4,3,7,3,4,1,8,2,7,4,2,3,2,5,2,2,2,1,9,1,7,3,14,5,4,4,2,2,5,2,1,4,5,7,4,3,3,2,2,8,2,10,2,2,2,2,8,2,3,2,2,5,4,5,2,5,3,9,2,3,1,4,8,1,2,8,5,8,5,9,6,3,1,2,7,3,8,5,6,3,5,5,1,3,2,3,5,2,9,3,4,4,4,3,9,3,5,5,3,2,2,6,2,2,9,2,4,2,2,2,8,7,4,2,3,2,9,1,2,5,1,2,2,2,7,6,2,6,5,2,8,4,4,4,5,2,2,6,7,2,4,4,2,2,1,1,2,2,1,5,12,2,1,1,2,8,2,2,1,5,1,4,2,3,3,5,2,4,2,5,3,3,2,5,2,2,2,6,6,7,6,1,3,4,2,2,2,6,5,1,5,4,2,9,1,7,2,4,3,2,6,8,14,5,5,2,3,3,3,3,9,4,5,1,3,11,5,4,5,4,6,3,3,9,6,5,7,3,2,3,3,5,2,2,3,7,8,5,7,7,3,1,4,2,7,2,5,9,2,5,3,8,2,4,3,3,2,9,1,3,4,3,2,7,4,3,3,4,2,3,3,2,3,3,6,6,2,4,4,2,5,3,5,3,3,4,3,2,2,6,2,5,2,1,3,5,2,5,4,2,2,5,7,2,12,3,2,3,3,3,9,6,2,2,5,7,2,3,3,1,1,3,4,3,2,2,3,3,3,3,3,5,3,2,2,7,5,6,3,3,7,2,2,3,2,3,3,8,6,3,5,3,6,1,3,4,3,2,5,4,1,5,3,2,3,7,7,2,7,6,3,3,3,2,1,3,3,3,4,3,3,4,1,2,10,3,3,4,5,2,4,2,3,3,3,3,4,9,5,2,4,1,5,3,5,2,2,2,7,3,1,1,1,2,2,3,3,4,1,5,1,2,3,3,2,2,3,4,3,1,8,3,4,9,5,4,3,5,5,6,5,4,2,3,1,3,8,2,2,2,4,4,2,3,2,2,2,2,2,7,3,3,3,5,5,3,3,2,2,5,1,7,1,3,2,2,3,2,6,5,4,5,4,7,4,2,3,2,4,5,6,3,4,3,2,6,2,5,1,2,2,3,6,3,3,2,5,12,5,5,1,3,4,1,3,1,3,5,6,5,3,5,3,6,8,3,3,3,3,1,2,4,2,2,4,4,2,5,6,4,12,2,1,3,7,6,3,2,5,9,2,5,3,2,2,4,4,2,5,3,6,3,5,5,2,5,1,2,6,2,2,2,3,2,1,2,4,3,7,7,3,5,4,1,3,4,3,3,4,7,1,1,3,1,3,1,4,4,7,1,2,1,2,2,4,2,3,2,1,5,4,4,4,4,5,4,7,5,2,3,2,7,2,9,9,2,3,3,3,3,3,5,1,9,3,4,5,4,1,2,3,3,3,12,2,4,1,5,4,4,5,5,4,3,4,9,2,4,3,6,3,1,2,4,3,7,7,3,4,3,3,6,3,3,5,8,2,7,3,1,3,3,3,3,5,3,3,8,1,1,3,2,3,6,5,2,1,4,2,4,2,3,4,4,2,2,6,10,4,4,2,5,1,9,3,2,1,1,9,5,5,5,3,6,4,8,3,3,3,3,3,5,6,5,4,4,5,1,3,2,2,5,2,8,2,7,7,6,4,7,2,3,5,10,2,1,2,5,5,1,8,3,3,5,3,7,4,6,3,3,2,6,4,6,8,1,2,7,6,4,4,2,2,3,2,3,3,8,5,2,3,3,3,9,4,3,2,1,6,5,1,2,5,1,2,5,1,5,5,2,4,4,3,2,5,11,8,3,2,5,3,2,9,2,9,3,3,5,1,3,4,5,7,3,4,3,7,1,5,2,3,4,5,2,1,3,2,3,5,2,7,2,3,3,1,4,5,2,1,4,5,3,9,7,3,2,2,7,6,1,2,9,3,1,2,4,1,4,3,10,3,3,5,3,3,5,2,2,11,3,3,2,4,2,3,7,4,6,3,3,7,7,7,6,2,7,5,2,3,7,2,4,2,3,4,9,2,9,7,4,2,3,2,4,7,1,7,5,3,3,3,11,3,7,1,3,5,3,5,5,3,2,3,8,3,6,5,5,2,3,4,2,2,8,2,8,4,1,2,6,2,3,4,4,3,3,3,2,1,2,2,6,3,6,3,3,3,2,9,4,3,2,4,3,3,4,7,3,1,5,5,4,3,3,2,4,2,4,5,3,6,4,6,4,3,2,1,4,2,2,3,1,3,3,3,2,2,2,8,5,3,3,3,3,2,2,2,2,2,4,2,2,5,2,3,8,3,2,2,2,3,2,3,9,3,8,2,10,4,5,4,5,3,1,4,1,5,12,6,7,1,3,5,2,9,5,3,2,3,6,2,2,3,3,2,7,7,6,3,5,2,3,11,2,2,2,4,3,3,7,3,3,4,4,7,5,6,7,3,3,7,1,6,4,5,2,6,2,5,2,8,3,4,3,5,3,2,4,9,6,3,4,2,5,3,2,1,6,6,2,3,2,4,4,5,2,2,2,2,2,2,3,3,2,3,2,7,2,3,2,5,3,4,3,2,5,5,4,3,3,2,1,5,2,3,7,3,5,5,4,2,7,2,5,2,5,1,4,3,3,3,3,6,5,2,2,2,1,2,2,5,5,4,4,3,2,3,3,2,6,2,5,2,11,3,2,9,9,3,3,3,4,7,8,5,2,5,2,3,3,1,2,7,5,5,5,3,3,2,5,5,5,3,2,2,4,2,2,7,3,4,4,6,3,2,5,7,5,7,1,5,2,4,1,3,2,1,3,3,3,3,3,4,2,1,1,5,2,5,6,1,8,3,2,3,5,7,4,3,9,9,3,4,7,3,1,6,1,2,5,3,1,2,1,2,2,4,6,8,2,3,4,5,1,6,3,5,3,7,8,2,7,2,5,6,5,3,3,2,2,3,6,3,2,3,1,6,6,8,3,6,1,3,4,2,2,3,2,3,5,3,2,3,3,4,9,2,2,2,8,9,2,6,5,9,2,3,3,2,3,3,7,3,5,4,2,9,3,6,8,2,1,6,6,2,3,4,3,2,3,3,3,2,3,2,8,2,6,5,3,5,2,2,5,5,6,7,3,3,4,3,4,5,2,1,3,8,2,4,5,5,5,2,4,2,2,3,2,7,3,3,5,3,2,3,3,3,5,2,4,7,2,14,9,5,2,1,3,2,5,7,2,2,7,4,14,1,2,2,4,2],\"xaxis\":\"x2\",\"type\":\"histogram\"},{\"marker\":{\"color\":\"red\"},\"name\":\"New York\",\"opacity\":0.5,\"x\":[7,5,6,5,5,2,2,4,1,1,7,2,1,4,6,8,3,5,6,4,3,3,5,2,1,2,6,4,1,1,2,1,4,4,6,2,4,5,2,3,2,8,4,2,3,1,3,3,3,6,3,3,4,1,3,5,5,2,2,5,3,5,4,6,2,7,4,7,3,2,2,9,1,3,7,10,2,8,5,3,2,4,2,4,5,8,1,6,2,3,8,2,3,3,2,3,7,2,7,9,3,4,4,2,3,2,10,2,2,7,3,5,2,5,3,8,4,7,3,3,1,5,2,2,3,2,4,3,3,7,3,6,5,3,2,7,7,3,2,3,5,5,2,3,2,2,3,4,2,8,1,2,7,1,3,5,2,3,3,4,6,1,3,7,7,2,4,3,1,1,4,3,2,2,2,4,3,4,6,9,13,2,3,3,2,4,3,2,3,8,3,5,4,2,4,1,2,2,2,4,7,2,6,3,7,2,4,1,6,3,6,7,1,4,5,3,2,9,2,2,3,2,5,3,3,4,13,2,1,5,4,2,9,2,2,5,5,4,8,4,2,3,1,1,8,3,6,2,4,1,3,7,4,2,5,2,2,2,1,1,8,3,6,5,3,2,3,4,4,5,5,3,2,4,2,1,3,3,9,2,3,5,2,7,3,4,5,5,8,4,1,1,1,1,1,1,4,5,1,7,4,5,3,1,2,4,4,7,4,3,7,4,1,7,9,4,2,2,5,7,5,6,3,3,8,8,1,6,3,5,2,1,1,3,4,4,7,2,1,2,8,7,1,2,7,3,3,1,4,4,8,5,1,4,3,3,4,11,2,6,9,2,3,3,4,1,1,4,3,2,5,11,3,5,2,4,5,4,3,1,1,1,3,2,3,4,1,5,2,11,3,1,3,3,6,4,2,3,3,5,2,2,2,3,2,5,1,3,3,2,1,5,3,3,3,11,6,5,2,3,3,3,3,4,3,3,5,4,2,3,7,5,2,14,3,7,2,4,5,3,2,10,3,3,3,4,1,1,3,4,9,3,2,3,3,3,2,6,6,2,9,3,3,3,2,2,1,7,2,4,2,5,8,7,2,3,3,10,3,2,2,3,3,2,3,3,3,3,2,3,4,3,3,3,1,2,6,7,4,7,2,2,2,2,9,2,3,7,2,3,3,3,3,3,3,9,2,2,2,5,7,6,2,5,4,2,3,11,1,3,2,7,5,2,5,3,2,3,9,4,3,3,4,2,2,1,3,3,1,4,3,3,1,3,3,6,3,5,3,3,2,5,2,6,5,4,2,3,3,1,3,7,9,9,7,4,2,1,3,9,7,4,3,5,6,8,1,3,1,3,3,2,2,1,2,5,1,3,5,5,6,2,4,1,8,5,3,2,2,1,5,4,5,6,2,5,1,4,1,2,1,13,3,6,5,2,3,2,6,2,3,2,3,2,5,4,3,3,6,5,2,5,5,6,7,1,3,3,3,2,7,3,3,9,3,5,10,3,9,4,3,2,3,4,3,4,9,4,4,1,2,2,4,5,7,2,4,6,5,3,2,2,4,2,5,2,1,2,2,2,5,2,5,4,3,6,2,3,3,3,2,9,2,4,2,1,3,2,11,2,5,3,3,4,3,6,14,3,2,3,6,6,9,3,8,4,3,4,1,1,3,4,5,4,2,4,5,1,2,1,1,2,2,4,3,3,2,2,6,4,1,2,5,5,3,2,5,3,1,7,2,6,4,5,3,5,3,3,4,3,10,4,9,2,4,14,3,6,3,3,1,5,1,3,2,3,2,4,9,3,4,7,1,7,12,2,5,4,3,5,7,3,3,4,3,2,5,2,1,7,6,4,2,3,2,3,3,3,3,2,3,2,3,6,2,5,9,6,2,2,4,2,2,5,2,3,3,3,3,3,8,3,2,2,2,5,2,3,8,2,2,3,3,1,5,5,2,3,2,2,3,2,6,2,3,4,2,3,2,4,6,3,6,3,4,3,3,6,2,3,2,5,9,1,3,2,2,3,4,6,4,3,2,3,1,3,1,2,2,5,3,4,3,5,3,3,1,3,3,2,4,5,5,8,1,3,2,1,1,4,5,7,3,5,2,4,3,2,3,2,8,5,9,6,2,6,9,6,4,5,2,3,4,2,2,2,3,2,3,3,7,8,7,2,1,2,5,4,5,3,2,3,4,2,3,3,2,6,2,2,2,2,7,13,2,2,3,2,4,2,2,4,3,5,2,2,4,6,2,2,4,3,2,6,2,3,3,3,2,2,4,1,3,9,2,2,7,1,3,4,3,2,4,2,3,11,6,4,2,1,3,5,1,7,1,3,7,6,3,4,8,2,2,4,2,5,3,1,7,2,6,4,5,2,2,6,1,9,2,6,9,1,6,5,2,3,6,2,2,2,2,1,2,5,9,1,7,2,9,14,7,2,2,3,1,5,5,1,2,2,3,6,3,3,6,3,1,4,4,3,1,4,3,3,13,3,2,2,1,1,2,3,2,3,2,5,7,3,1,2,7,2,1,1,3,1,8,2,4,3,5,4,7,5,4,2,10,4],\"xaxis\":\"x3\",\"type\":\"histogram\"}],                        {\"barmode\":\"overlay\",\"template\":{\"data\":{\"barpolar\":[{\"marker\":{\"line\":{\"color\":\"#E5ECF6\",\"width\":0.5},\"pattern\":{\"fillmode\":\"overlay\",\"size\":10,\"solidity\":0.2}},\"type\":\"barpolar\"}],\"bar\":[{\"error_x\":{\"color\":\"#2a3f5f\"},\"error_y\":{\"color\":\"#2a3f5f\"},\"marker\":{\"line\":{\"color\":\"#E5ECF6\",\"width\":0.5},\"pattern\":{\"fillmode\":\"overlay\",\"size\":10,\"solidity\":0.2}},\"type\":\"bar\"}],\"carpet\":[{\"aaxis\":{\"endlinecolor\":\"#2a3f5f\",\"gridcolor\":\"white\",\"linecolor\":\"white\",\"minorgridcolor\":\"white\",\"startlinecolor\":\"#2a3f5f\"},\"baxis\":{\"endlinecolor\":\"#2a3f5f\",\"gridcolor\":\"white\",\"linecolor\":\"white\",\"minorgridcolor\":\"white\",\"startlinecolor\":\"#2a3f5f\"},\"type\":\"carpet\"}],\"choropleth\":[{\"colorbar\":{\"outlinewidth\":0,\"ticks\":\"\"},\"type\":\"choropleth\"}],\"contourcarpet\":[{\"colorbar\":{\"outlinewidth\":0,\"ticks\":\"\"},\"type\":\"contourcarpet\"}],\"contour\":[{\"colorbar\":{\"outlinewidth\":0,\"ticks\":\"\"},\"colorscale\":[[0.0,\"#0d0887\"],[0.1111111111111111,\"#46039f\"],[0.2222222222222222,\"#7201a8\"],[0.3333333333333333,\"#9c179e\"],[0.4444444444444444,\"#bd3786\"],[0.5555555555555556,\"#d8576b\"],[0.6666666666666666,\"#ed7953\"],[0.7777777777777778,\"#fb9f3a\"],[0.8888888888888888,\"#fdca26\"],[1.0,\"#f0f921\"]],\"type\":\"contour\"}],\"heatmapgl\":[{\"colorbar\":{\"outlinewidth\":0,\"ticks\":\"\"},\"colorscale\":[[0.0,\"#0d0887\"],[0.1111111111111111,\"#46039f\"],[0.2222222222222222,\"#7201a8\"],[0.3333333333333333,\"#9c179e\"],[0.4444444444444444,\"#bd3786\"],[0.5555555555555556,\"#d8576b\"],[0.6666666666666666,\"#ed7953\"],[0.7777777777777778,\"#fb9f3a\"],[0.8888888888888888,\"#fdca26\"],[1.0,\"#f0f921\"]],\"type\":\"heatmapgl\"}],\"heatmap\":[{\"colorbar\":{\"outlinewidth\":0,\"ticks\":\"\"},\"colorscale\":[[0.0,\"#0d0887\"],[0.1111111111111111,\"#46039f\"],[0.2222222222222222,\"#7201a8\"],[0.3333333333333333,\"#9c179e\"],[0.4444444444444444,\"#bd3786\"],[0.5555555555555556,\"#d8576b\"],[0.6666666666666666,\"#ed7953\"],[0.7777777777777778,\"#fb9f3a\"],[0.8888888888888888,\"#fdca26\"],[1.0,\"#f0f921\"]],\"type\":\"heatmap\"}],\"histogram2dcontour\":[{\"colorbar\":{\"outlinewidth\":0,\"ticks\":\"\"},\"colorscale\":[[0.0,\"#0d0887\"],[0.1111111111111111,\"#46039f\"],[0.2222222222222222,\"#7201a8\"],[0.3333333333333333,\"#9c179e\"],[0.4444444444444444,\"#bd3786\"],[0.5555555555555556,\"#d8576b\"],[0.6666666666666666,\"#ed7953\"],[0.7777777777777778,\"#fb9f3a\"],[0.8888888888888888,\"#fdca26\"],[1.0,\"#f0f921\"]],\"type\":\"histogram2dcontour\"}],\"histogram2d\":[{\"colorbar\":{\"outlinewidth\":0,\"ticks\":\"\"},\"colorscale\":[[0.0,\"#0d0887\"],[0.1111111111111111,\"#46039f\"],[0.2222222222222222,\"#7201a8\"],[0.3333333333333333,\"#9c179e\"],[0.4444444444444444,\"#bd3786\"],[0.5555555555555556,\"#d8576b\"],[0.6666666666666666,\"#ed7953\"],[0.7777777777777778,\"#fb9f3a\"],[0.8888888888888888,\"#fdca26\"],[1.0,\"#f0f921\"]],\"type\":\"histogram2d\"}],\"histogram\":[{\"marker\":{\"pattern\":{\"fillmode\":\"overlay\",\"size\":10,\"solidity\":0.2}},\"type\":\"histogram\"}],\"mesh3d\":[{\"colorbar\":{\"outlinewidth\":0,\"ticks\":\"\"},\"type\":\"mesh3d\"}],\"parcoords\":[{\"line\":{\"colorbar\":{\"outlinewidth\":0,\"ticks\":\"\"}},\"type\":\"parcoords\"}],\"pie\":[{\"automargin\":true,\"type\":\"pie\"}],\"scatter3d\":[{\"line\":{\"colorbar\":{\"outlinewidth\":0,\"ticks\":\"\"}},\"marker\":{\"colorbar\":{\"outlinewidth\":0,\"ticks\":\"\"}},\"type\":\"scatter3d\"}],\"scattercarpet\":[{\"marker\":{\"colorbar\":{\"outlinewidth\":0,\"ticks\":\"\"}},\"type\":\"scattercarpet\"}],\"scattergeo\":[{\"marker\":{\"colorbar\":{\"outlinewidth\":0,\"ticks\":\"\"}},\"type\":\"scattergeo\"}],\"scattergl\":[{\"marker\":{\"colorbar\":{\"outlinewidth\":0,\"ticks\":\"\"}},\"type\":\"scattergl\"}],\"scattermapbox\":[{\"marker\":{\"colorbar\":{\"outlinewidth\":0,\"ticks\":\"\"}},\"type\":\"scattermapbox\"}],\"scatterpolargl\":[{\"marker\":{\"colorbar\":{\"outlinewidth\":0,\"ticks\":\"\"}},\"type\":\"scatterpolargl\"}],\"scatterpolar\":[{\"marker\":{\"colorbar\":{\"outlinewidth\":0,\"ticks\":\"\"}},\"type\":\"scatterpolar\"}],\"scatter\":[{\"fillpattern\":{\"fillmode\":\"overlay\",\"size\":10,\"solidity\":0.2},\"type\":\"scatter\"}],\"scatterternary\":[{\"marker\":{\"colorbar\":{\"outlinewidth\":0,\"ticks\":\"\"}},\"type\":\"scatterternary\"}],\"surface\":[{\"colorbar\":{\"outlinewidth\":0,\"ticks\":\"\"},\"colorscale\":[[0.0,\"#0d0887\"],[0.1111111111111111,\"#46039f\"],[0.2222222222222222,\"#7201a8\"],[0.3333333333333333,\"#9c179e\"],[0.4444444444444444,\"#bd3786\"],[0.5555555555555556,\"#d8576b\"],[0.6666666666666666,\"#ed7953\"],[0.7777777777777778,\"#fb9f3a\"],[0.8888888888888888,\"#fdca26\"],[1.0,\"#f0f921\"]],\"type\":\"surface\"}],\"table\":[{\"cells\":{\"fill\":{\"color\":\"#EBF0F8\"},\"line\":{\"color\":\"white\"}},\"header\":{\"fill\":{\"color\":\"#C8D4E3\"},\"line\":{\"color\":\"white\"}},\"type\":\"table\"}]},\"layout\":{\"annotationdefaults\":{\"arrowcolor\":\"#2a3f5f\",\"arrowhead\":0,\"arrowwidth\":1},\"autotypenumbers\":\"strict\",\"coloraxis\":{\"colorbar\":{\"outlinewidth\":0,\"ticks\":\"\"}},\"colorscale\":{\"diverging\":[[0,\"#8e0152\"],[0.1,\"#c51b7d\"],[0.2,\"#de77ae\"],[0.3,\"#f1b6da\"],[0.4,\"#fde0ef\"],[0.5,\"#f7f7f7\"],[0.6,\"#e6f5d0\"],[0.7,\"#b8e186\"],[0.8,\"#7fbc41\"],[0.9,\"#4d9221\"],[1,\"#276419\"]],\"sequential\":[[0.0,\"#0d0887\"],[0.1111111111111111,\"#46039f\"],[0.2222222222222222,\"#7201a8\"],[0.3333333333333333,\"#9c179e\"],[0.4444444444444444,\"#bd3786\"],[0.5555555555555556,\"#d8576b\"],[0.6666666666666666,\"#ed7953\"],[0.7777777777777778,\"#fb9f3a\"],[0.8888888888888888,\"#fdca26\"],[1.0,\"#f0f921\"]],\"sequentialminus\":[[0.0,\"#0d0887\"],[0.1111111111111111,\"#46039f\"],[0.2222222222222222,\"#7201a8\"],[0.3333333333333333,\"#9c179e\"],[0.4444444444444444,\"#bd3786\"],[0.5555555555555556,\"#d8576b\"],[0.6666666666666666,\"#ed7953\"],[0.7777777777777778,\"#fb9f3a\"],[0.8888888888888888,\"#fdca26\"],[1.0,\"#f0f921\"]]},\"colorway\":[\"#636efa\",\"#EF553B\",\"#00cc96\",\"#ab63fa\",\"#FFA15A\",\"#19d3f3\",\"#FF6692\",\"#B6E880\",\"#FF97FF\",\"#FECB52\"],\"font\":{\"color\":\"#2a3f5f\"},\"geo\":{\"bgcolor\":\"white\",\"lakecolor\":\"white\",\"landcolor\":\"#E5ECF6\",\"showlakes\":true,\"showland\":true,\"subunitcolor\":\"white\"},\"hoverlabel\":{\"align\":\"left\"},\"hovermode\":\"closest\",\"mapbox\":{\"style\":\"light\"},\"paper_bgcolor\":\"white\",\"plot_bgcolor\":\"#E5ECF6\",\"polar\":{\"angularaxis\":{\"gridcolor\":\"white\",\"linecolor\":\"white\",\"ticks\":\"\"},\"bgcolor\":\"#E5ECF6\",\"radialaxis\":{\"gridcolor\":\"white\",\"linecolor\":\"white\",\"ticks\":\"\"}},\"scene\":{\"xaxis\":{\"backgroundcolor\":\"#E5ECF6\",\"gridcolor\":\"white\",\"gridwidth\":2,\"linecolor\":\"white\",\"showbackground\":true,\"ticks\":\"\",\"zerolinecolor\":\"white\"},\"yaxis\":{\"backgroundcolor\":\"#E5ECF6\",\"gridcolor\":\"white\",\"gridwidth\":2,\"linecolor\":\"white\",\"showbackground\":true,\"ticks\":\"\",\"zerolinecolor\":\"white\"},\"zaxis\":{\"backgroundcolor\":\"#E5ECF6\",\"gridcolor\":\"white\",\"gridwidth\":2,\"linecolor\":\"white\",\"showbackground\":true,\"ticks\":\"\",\"zerolinecolor\":\"white\"}},\"shapedefaults\":{\"line\":{\"color\":\"#2a3f5f\"}},\"ternary\":{\"aaxis\":{\"gridcolor\":\"white\",\"linecolor\":\"white\",\"ticks\":\"\"},\"baxis\":{\"gridcolor\":\"white\",\"linecolor\":\"white\",\"ticks\":\"\"},\"bgcolor\":\"#E5ECF6\",\"caxis\":{\"gridcolor\":\"white\",\"linecolor\":\"white\",\"ticks\":\"\"}},\"title\":{\"x\":0.05},\"xaxis\":{\"automargin\":true,\"gridcolor\":\"white\",\"linecolor\":\"white\",\"ticks\":\"\",\"title\":{\"standoff\":15},\"zerolinecolor\":\"white\",\"zerolinewidth\":2},\"yaxis\":{\"automargin\":true,\"gridcolor\":\"white\",\"linecolor\":\"white\",\"ticks\":\"\",\"title\":{\"standoff\":15},\"zerolinecolor\":\"white\",\"zerolinewidth\":2}}},\"title\":{\"text\":\"Cantidades por pedido\",\"x\":0.5},\"xaxis\":{\"domain\":[0,0.3],\"title\":{\"text\":\"Cantidades\"}},\"yaxis\":{\"title\":{\"text\":\"Veces\"}},\"xaxis2\":{\"domain\":[0.35,0.65],\"title\":{\"text\":\"Cantidades\"}},\"xaxis3\":{\"domain\":[0.7,1],\"title\":{\"text\":\"Cantidades\"}}},                        {\"responsive\": true}                    ).then(function(){\n",
       "                            \n",
       "var gd = document.getElementById('51d0df2b-9d46-4133-849b-f47bdc32337f');\n",
       "var x = new MutationObserver(function (mutations, observer) {{\n",
       "        var display = window.getComputedStyle(gd).display;\n",
       "        if (!display || display === 'none') {{\n",
       "            console.log([gd, 'removed!']);\n",
       "            Plotly.purge(gd);\n",
       "            observer.disconnect();\n",
       "        }}\n",
       "}});\n",
       "\n",
       "// Listen for the removal of the full notebook cells\n",
       "var notebookContainer = gd.closest('#notebook-container');\n",
       "if (notebookContainer) {{\n",
       "    x.observe(notebookContainer, {childList: true});\n",
       "}}\n",
       "\n",
       "// Listen for the clearing of the current output cell\n",
       "var outputEl = gd.closest('.output');\n",
       "if (outputEl) {{\n",
       "    x.observe(outputEl, {childList: true});\n",
       "}}\n",
       "\n",
       "                        })                };                });            </script>        </div>"
      ]
     },
     "metadata": {},
     "output_type": "display_data"
    }
   ],
   "source": [
    "texas=df[df['State']=='Texas']\n",
    "california=df[df['State']=='California']\n",
    "new_york=df[df['State']=='New York']\n",
    "\n",
    "#Texas\n",
    "trace1=go.Histogram(x=texas['Quantity'],\n",
    "                    opacity=0.8,\n",
    "                    name='Texas',\n",
    "                    marker=dict(color='black')\n",
    "                    )\n",
    "\n",
    "#Califronia\n",
    "trace2=go.Histogram(x=california['Quantity'],\n",
    "                    opacity=0.8,\n",
    "                    name='Califronia',\n",
    "                    marker=dict(color='rgba(12,50,196,0.6)'),\n",
    "                    xaxis='x2')\n",
    "\n",
    "#New York\n",
    "trace3=go.Histogram(x=new_york['Quantity'],\n",
    "                    opacity=0.5,\n",
    "                    name='New York',\n",
    "                    marker=dict(color='red'),\n",
    "                    xaxis='x3')\n",
    "\n",
    "\n",
    "data=[trace1,trace2,trace3]\n",
    "layout=dict(barmode='overlay',\n",
    "            title=dict(text='Cantidades por pedido',x=0.5),\n",
    "            xaxis=dict(title='Cantidades', domain=[0,0.3]),\n",
    "            xaxis2=dict(title='Cantidades', domain=[0.35,0.65]),\n",
    "            xaxis3=dict(title='Cantidades', domain=[0.70,1]),\n",
    "            yaxis=dict(title='Veces'))\n",
    "\n",
    "\n",
    "fig=go.Figure(data=data,layout=layout)\n",
    "\n",
    "iplot(fig)"
   ]
  },
  {
   "attachments": {},
   "cell_type": "markdown",
   "metadata": {
    "id": "KRcREZg5imh7"
   },
   "source": [
    "## 4. Cree un gráfico de barras apiladas interactivo que muestre los ingresos por estado (barras) para cada una de las categorías de productos para California, Nueva York y Texas."
   ]
  },
  {
   "cell_type": "code",
   "execution_count": 28,
   "metadata": {},
   "outputs": [
    {
     "data": {
      "text/html": [
       "<div>\n",
       "<style scoped>\n",
       "    .dataframe tbody tr th:only-of-type {\n",
       "        vertical-align: middle;\n",
       "    }\n",
       "\n",
       "    .dataframe tbody tr th {\n",
       "        vertical-align: top;\n",
       "    }\n",
       "\n",
       "    .dataframe thead th {\n",
       "        text-align: right;\n",
       "    }\n",
       "</style>\n",
       "<table border=\"1\" class=\"dataframe\">\n",
       "  <thead>\n",
       "    <tr style=\"text-align: right;\">\n",
       "      <th></th>\n",
       "      <th>Category</th>\n",
       "      <th>Profit</th>\n",
       "    </tr>\n",
       "  </thead>\n",
       "  <tbody>\n",
       "    <tr>\n",
       "      <th>0</th>\n",
       "      <td>Furniture</td>\n",
       "      <td>-10436.1419</td>\n",
       "    </tr>\n",
       "    <tr>\n",
       "      <th>1</th>\n",
       "      <td>Office Supplies</td>\n",
       "      <td>-18584.6434</td>\n",
       "    </tr>\n",
       "    <tr>\n",
       "      <th>2</th>\n",
       "      <td>Technology</td>\n",
       "      <td>3291.4290</td>\n",
       "    </tr>\n",
       "  </tbody>\n",
       "</table>\n",
       "</div>"
      ],
      "text/plain": [
       "          Category      Profit\n",
       "0        Furniture -10436.1419\n",
       "1  Office Supplies -18584.6434\n",
       "2       Technology   3291.4290"
      ]
     },
     "execution_count": 28,
     "metadata": {},
     "output_type": "execute_result"
    }
   ],
   "source": [
    "texas=df[df['State']=='Texas'].groupby('Category', as_index=False)['Profit'].sum()\n",
    "california=df[df['State']=='California'].groupby('Category', as_index=False)['Profit'].sum()\n",
    "new_york=df[df['State']=='New York'].groupby('Category', as_index=False)['Profit'].sum()\n",
    "texas"
   ]
  },
  {
   "cell_type": "code",
   "execution_count": 32,
   "metadata": {},
   "outputs": [
    {
     "data": {
      "application/vnd.plotly.v1+json": {
       "config": {
        "linkText": "Export to plot.ly",
        "plotlyServerURL": "https://plot.ly",
        "showLink": false
       },
       "data": [
        {
         "name": "Texas",
         "type": "bar",
         "x": [
          "Furniture",
          "Office Supplies",
          "Technology"
         ],
         "y": [
          -10436.1419,
          -18584.643400000008,
          3291.428999999996
         ]
        },
        {
         "name": "California",
         "type": "bar",
         "x": [
          "Furniture",
          "Office Supplies",
          "Technology"
         ],
         "y": [
          9162.965599999996,
          37748.384699999995,
          29470.036799999994
         ]
        },
        {
         "name": "New York",
         "type": "bar",
         "x": [
          "Furniture",
          "Office Supplies",
          "Technology"
         ],
         "y": [
          5857.680099999997,
          25994.082899999998,
          42186.785599999996
         ]
        }
       ],
       "layout": {
        "template": {
         "data": {
          "bar": [
           {
            "error_x": {
             "color": "#2a3f5f"
            },
            "error_y": {
             "color": "#2a3f5f"
            },
            "marker": {
             "line": {
              "color": "#E5ECF6",
              "width": 0.5
             },
             "pattern": {
              "fillmode": "overlay",
              "size": 10,
              "solidity": 0.2
             }
            },
            "type": "bar"
           }
          ],
          "barpolar": [
           {
            "marker": {
             "line": {
              "color": "#E5ECF6",
              "width": 0.5
             },
             "pattern": {
              "fillmode": "overlay",
              "size": 10,
              "solidity": 0.2
             }
            },
            "type": "barpolar"
           }
          ],
          "carpet": [
           {
            "aaxis": {
             "endlinecolor": "#2a3f5f",
             "gridcolor": "white",
             "linecolor": "white",
             "minorgridcolor": "white",
             "startlinecolor": "#2a3f5f"
            },
            "baxis": {
             "endlinecolor": "#2a3f5f",
             "gridcolor": "white",
             "linecolor": "white",
             "minorgridcolor": "white",
             "startlinecolor": "#2a3f5f"
            },
            "type": "carpet"
           }
          ],
          "choropleth": [
           {
            "colorbar": {
             "outlinewidth": 0,
             "ticks": ""
            },
            "type": "choropleth"
           }
          ],
          "contour": [
           {
            "colorbar": {
             "outlinewidth": 0,
             "ticks": ""
            },
            "colorscale": [
             [
              0,
              "#0d0887"
             ],
             [
              0.1111111111111111,
              "#46039f"
             ],
             [
              0.2222222222222222,
              "#7201a8"
             ],
             [
              0.3333333333333333,
              "#9c179e"
             ],
             [
              0.4444444444444444,
              "#bd3786"
             ],
             [
              0.5555555555555556,
              "#d8576b"
             ],
             [
              0.6666666666666666,
              "#ed7953"
             ],
             [
              0.7777777777777778,
              "#fb9f3a"
             ],
             [
              0.8888888888888888,
              "#fdca26"
             ],
             [
              1,
              "#f0f921"
             ]
            ],
            "type": "contour"
           }
          ],
          "contourcarpet": [
           {
            "colorbar": {
             "outlinewidth": 0,
             "ticks": ""
            },
            "type": "contourcarpet"
           }
          ],
          "heatmap": [
           {
            "colorbar": {
             "outlinewidth": 0,
             "ticks": ""
            },
            "colorscale": [
             [
              0,
              "#0d0887"
             ],
             [
              0.1111111111111111,
              "#46039f"
             ],
             [
              0.2222222222222222,
              "#7201a8"
             ],
             [
              0.3333333333333333,
              "#9c179e"
             ],
             [
              0.4444444444444444,
              "#bd3786"
             ],
             [
              0.5555555555555556,
              "#d8576b"
             ],
             [
              0.6666666666666666,
              "#ed7953"
             ],
             [
              0.7777777777777778,
              "#fb9f3a"
             ],
             [
              0.8888888888888888,
              "#fdca26"
             ],
             [
              1,
              "#f0f921"
             ]
            ],
            "type": "heatmap"
           }
          ],
          "heatmapgl": [
           {
            "colorbar": {
             "outlinewidth": 0,
             "ticks": ""
            },
            "colorscale": [
             [
              0,
              "#0d0887"
             ],
             [
              0.1111111111111111,
              "#46039f"
             ],
             [
              0.2222222222222222,
              "#7201a8"
             ],
             [
              0.3333333333333333,
              "#9c179e"
             ],
             [
              0.4444444444444444,
              "#bd3786"
             ],
             [
              0.5555555555555556,
              "#d8576b"
             ],
             [
              0.6666666666666666,
              "#ed7953"
             ],
             [
              0.7777777777777778,
              "#fb9f3a"
             ],
             [
              0.8888888888888888,
              "#fdca26"
             ],
             [
              1,
              "#f0f921"
             ]
            ],
            "type": "heatmapgl"
           }
          ],
          "histogram": [
           {
            "marker": {
             "pattern": {
              "fillmode": "overlay",
              "size": 10,
              "solidity": 0.2
             }
            },
            "type": "histogram"
           }
          ],
          "histogram2d": [
           {
            "colorbar": {
             "outlinewidth": 0,
             "ticks": ""
            },
            "colorscale": [
             [
              0,
              "#0d0887"
             ],
             [
              0.1111111111111111,
              "#46039f"
             ],
             [
              0.2222222222222222,
              "#7201a8"
             ],
             [
              0.3333333333333333,
              "#9c179e"
             ],
             [
              0.4444444444444444,
              "#bd3786"
             ],
             [
              0.5555555555555556,
              "#d8576b"
             ],
             [
              0.6666666666666666,
              "#ed7953"
             ],
             [
              0.7777777777777778,
              "#fb9f3a"
             ],
             [
              0.8888888888888888,
              "#fdca26"
             ],
             [
              1,
              "#f0f921"
             ]
            ],
            "type": "histogram2d"
           }
          ],
          "histogram2dcontour": [
           {
            "colorbar": {
             "outlinewidth": 0,
             "ticks": ""
            },
            "colorscale": [
             [
              0,
              "#0d0887"
             ],
             [
              0.1111111111111111,
              "#46039f"
             ],
             [
              0.2222222222222222,
              "#7201a8"
             ],
             [
              0.3333333333333333,
              "#9c179e"
             ],
             [
              0.4444444444444444,
              "#bd3786"
             ],
             [
              0.5555555555555556,
              "#d8576b"
             ],
             [
              0.6666666666666666,
              "#ed7953"
             ],
             [
              0.7777777777777778,
              "#fb9f3a"
             ],
             [
              0.8888888888888888,
              "#fdca26"
             ],
             [
              1,
              "#f0f921"
             ]
            ],
            "type": "histogram2dcontour"
           }
          ],
          "mesh3d": [
           {
            "colorbar": {
             "outlinewidth": 0,
             "ticks": ""
            },
            "type": "mesh3d"
           }
          ],
          "parcoords": [
           {
            "line": {
             "colorbar": {
              "outlinewidth": 0,
              "ticks": ""
             }
            },
            "type": "parcoords"
           }
          ],
          "pie": [
           {
            "automargin": true,
            "type": "pie"
           }
          ],
          "scatter": [
           {
            "fillpattern": {
             "fillmode": "overlay",
             "size": 10,
             "solidity": 0.2
            },
            "type": "scatter"
           }
          ],
          "scatter3d": [
           {
            "line": {
             "colorbar": {
              "outlinewidth": 0,
              "ticks": ""
             }
            },
            "marker": {
             "colorbar": {
              "outlinewidth": 0,
              "ticks": ""
             }
            },
            "type": "scatter3d"
           }
          ],
          "scattercarpet": [
           {
            "marker": {
             "colorbar": {
              "outlinewidth": 0,
              "ticks": ""
             }
            },
            "type": "scattercarpet"
           }
          ],
          "scattergeo": [
           {
            "marker": {
             "colorbar": {
              "outlinewidth": 0,
              "ticks": ""
             }
            },
            "type": "scattergeo"
           }
          ],
          "scattergl": [
           {
            "marker": {
             "colorbar": {
              "outlinewidth": 0,
              "ticks": ""
             }
            },
            "type": "scattergl"
           }
          ],
          "scattermapbox": [
           {
            "marker": {
             "colorbar": {
              "outlinewidth": 0,
              "ticks": ""
             }
            },
            "type": "scattermapbox"
           }
          ],
          "scatterpolar": [
           {
            "marker": {
             "colorbar": {
              "outlinewidth": 0,
              "ticks": ""
             }
            },
            "type": "scatterpolar"
           }
          ],
          "scatterpolargl": [
           {
            "marker": {
             "colorbar": {
              "outlinewidth": 0,
              "ticks": ""
             }
            },
            "type": "scatterpolargl"
           }
          ],
          "scatterternary": [
           {
            "marker": {
             "colorbar": {
              "outlinewidth": 0,
              "ticks": ""
             }
            },
            "type": "scatterternary"
           }
          ],
          "surface": [
           {
            "colorbar": {
             "outlinewidth": 0,
             "ticks": ""
            },
            "colorscale": [
             [
              0,
              "#0d0887"
             ],
             [
              0.1111111111111111,
              "#46039f"
             ],
             [
              0.2222222222222222,
              "#7201a8"
             ],
             [
              0.3333333333333333,
              "#9c179e"
             ],
             [
              0.4444444444444444,
              "#bd3786"
             ],
             [
              0.5555555555555556,
              "#d8576b"
             ],
             [
              0.6666666666666666,
              "#ed7953"
             ],
             [
              0.7777777777777778,
              "#fb9f3a"
             ],
             [
              0.8888888888888888,
              "#fdca26"
             ],
             [
              1,
              "#f0f921"
             ]
            ],
            "type": "surface"
           }
          ],
          "table": [
           {
            "cells": {
             "fill": {
              "color": "#EBF0F8"
             },
             "line": {
              "color": "white"
             }
            },
            "header": {
             "fill": {
              "color": "#C8D4E3"
             },
             "line": {
              "color": "white"
             }
            },
            "type": "table"
           }
          ]
         },
         "layout": {
          "annotationdefaults": {
           "arrowcolor": "#2a3f5f",
           "arrowhead": 0,
           "arrowwidth": 1
          },
          "autotypenumbers": "strict",
          "coloraxis": {
           "colorbar": {
            "outlinewidth": 0,
            "ticks": ""
           }
          },
          "colorscale": {
           "diverging": [
            [
             0,
             "#8e0152"
            ],
            [
             0.1,
             "#c51b7d"
            ],
            [
             0.2,
             "#de77ae"
            ],
            [
             0.3,
             "#f1b6da"
            ],
            [
             0.4,
             "#fde0ef"
            ],
            [
             0.5,
             "#f7f7f7"
            ],
            [
             0.6,
             "#e6f5d0"
            ],
            [
             0.7,
             "#b8e186"
            ],
            [
             0.8,
             "#7fbc41"
            ],
            [
             0.9,
             "#4d9221"
            ],
            [
             1,
             "#276419"
            ]
           ],
           "sequential": [
            [
             0,
             "#0d0887"
            ],
            [
             0.1111111111111111,
             "#46039f"
            ],
            [
             0.2222222222222222,
             "#7201a8"
            ],
            [
             0.3333333333333333,
             "#9c179e"
            ],
            [
             0.4444444444444444,
             "#bd3786"
            ],
            [
             0.5555555555555556,
             "#d8576b"
            ],
            [
             0.6666666666666666,
             "#ed7953"
            ],
            [
             0.7777777777777778,
             "#fb9f3a"
            ],
            [
             0.8888888888888888,
             "#fdca26"
            ],
            [
             1,
             "#f0f921"
            ]
           ],
           "sequentialminus": [
            [
             0,
             "#0d0887"
            ],
            [
             0.1111111111111111,
             "#46039f"
            ],
            [
             0.2222222222222222,
             "#7201a8"
            ],
            [
             0.3333333333333333,
             "#9c179e"
            ],
            [
             0.4444444444444444,
             "#bd3786"
            ],
            [
             0.5555555555555556,
             "#d8576b"
            ],
            [
             0.6666666666666666,
             "#ed7953"
            ],
            [
             0.7777777777777778,
             "#fb9f3a"
            ],
            [
             0.8888888888888888,
             "#fdca26"
            ],
            [
             1,
             "#f0f921"
            ]
           ]
          },
          "colorway": [
           "#636efa",
           "#EF553B",
           "#00cc96",
           "#ab63fa",
           "#FFA15A",
           "#19d3f3",
           "#FF6692",
           "#B6E880",
           "#FF97FF",
           "#FECB52"
          ],
          "font": {
           "color": "#2a3f5f"
          },
          "geo": {
           "bgcolor": "white",
           "lakecolor": "white",
           "landcolor": "#E5ECF6",
           "showlakes": true,
           "showland": true,
           "subunitcolor": "white"
          },
          "hoverlabel": {
           "align": "left"
          },
          "hovermode": "closest",
          "mapbox": {
           "style": "light"
          },
          "paper_bgcolor": "white",
          "plot_bgcolor": "#E5ECF6",
          "polar": {
           "angularaxis": {
            "gridcolor": "white",
            "linecolor": "white",
            "ticks": ""
           },
           "bgcolor": "#E5ECF6",
           "radialaxis": {
            "gridcolor": "white",
            "linecolor": "white",
            "ticks": ""
           }
          },
          "scene": {
           "xaxis": {
            "backgroundcolor": "#E5ECF6",
            "gridcolor": "white",
            "gridwidth": 2,
            "linecolor": "white",
            "showbackground": true,
            "ticks": "",
            "zerolinecolor": "white"
           },
           "yaxis": {
            "backgroundcolor": "#E5ECF6",
            "gridcolor": "white",
            "gridwidth": 2,
            "linecolor": "white",
            "showbackground": true,
            "ticks": "",
            "zerolinecolor": "white"
           },
           "zaxis": {
            "backgroundcolor": "#E5ECF6",
            "gridcolor": "white",
            "gridwidth": 2,
            "linecolor": "white",
            "showbackground": true,
            "ticks": "",
            "zerolinecolor": "white"
           }
          },
          "shapedefaults": {
           "line": {
            "color": "#2a3f5f"
           }
          },
          "ternary": {
           "aaxis": {
            "gridcolor": "white",
            "linecolor": "white",
            "ticks": ""
           },
           "baxis": {
            "gridcolor": "white",
            "linecolor": "white",
            "ticks": ""
           },
           "bgcolor": "#E5ECF6",
           "caxis": {
            "gridcolor": "white",
            "linecolor": "white",
            "ticks": ""
           }
          },
          "title": {
           "x": 0.05
          },
          "xaxis": {
           "automargin": true,
           "gridcolor": "white",
           "linecolor": "white",
           "ticks": "",
           "title": {
            "standoff": 15
           },
           "zerolinecolor": "white",
           "zerolinewidth": 2
          },
          "yaxis": {
           "automargin": true,
           "gridcolor": "white",
           "linecolor": "white",
           "ticks": "",
           "title": {
            "standoff": 15
           },
           "zerolinecolor": "white",
           "zerolinewidth": 2
          }
         }
        },
        "title": {
         "text": "Ingresos por estado y categorias",
         "x": 0.5
        },
        "xaxis": {
         "title": {
          "text": "Categorias"
         }
        },
        "yaxis": {
         "title": {
          "text": "Ingresos"
         }
        }
       }
      },
      "text/html": [
       "<div>                            <div id=\"6c9787ff-a747-4f56-8e79-f755f656a6a0\" class=\"plotly-graph-div\" style=\"height:525px; width:100%;\"></div>            <script type=\"text/javascript\">                require([\"plotly\"], function(Plotly) {                    window.PLOTLYENV=window.PLOTLYENV || {};                                    if (document.getElementById(\"6c9787ff-a747-4f56-8e79-f755f656a6a0\")) {                    Plotly.newPlot(                        \"6c9787ff-a747-4f56-8e79-f755f656a6a0\",                        [{\"name\":\"Texas\",\"x\":[\"Furniture\",\"Office Supplies\",\"Technology\"],\"y\":[-10436.1419,-18584.643400000008,3291.428999999996],\"type\":\"bar\"},{\"name\":\"California\",\"x\":[\"Furniture\",\"Office Supplies\",\"Technology\"],\"y\":[9162.965599999996,37748.384699999995,29470.036799999994],\"type\":\"bar\"},{\"name\":\"New York\",\"x\":[\"Furniture\",\"Office Supplies\",\"Technology\"],\"y\":[5857.680099999997,25994.082899999998,42186.785599999996],\"type\":\"bar\"}],                        {\"template\":{\"data\":{\"barpolar\":[{\"marker\":{\"line\":{\"color\":\"#E5ECF6\",\"width\":0.5},\"pattern\":{\"fillmode\":\"overlay\",\"size\":10,\"solidity\":0.2}},\"type\":\"barpolar\"}],\"bar\":[{\"error_x\":{\"color\":\"#2a3f5f\"},\"error_y\":{\"color\":\"#2a3f5f\"},\"marker\":{\"line\":{\"color\":\"#E5ECF6\",\"width\":0.5},\"pattern\":{\"fillmode\":\"overlay\",\"size\":10,\"solidity\":0.2}},\"type\":\"bar\"}],\"carpet\":[{\"aaxis\":{\"endlinecolor\":\"#2a3f5f\",\"gridcolor\":\"white\",\"linecolor\":\"white\",\"minorgridcolor\":\"white\",\"startlinecolor\":\"#2a3f5f\"},\"baxis\":{\"endlinecolor\":\"#2a3f5f\",\"gridcolor\":\"white\",\"linecolor\":\"white\",\"minorgridcolor\":\"white\",\"startlinecolor\":\"#2a3f5f\"},\"type\":\"carpet\"}],\"choropleth\":[{\"colorbar\":{\"outlinewidth\":0,\"ticks\":\"\"},\"type\":\"choropleth\"}],\"contourcarpet\":[{\"colorbar\":{\"outlinewidth\":0,\"ticks\":\"\"},\"type\":\"contourcarpet\"}],\"contour\":[{\"colorbar\":{\"outlinewidth\":0,\"ticks\":\"\"},\"colorscale\":[[0.0,\"#0d0887\"],[0.1111111111111111,\"#46039f\"],[0.2222222222222222,\"#7201a8\"],[0.3333333333333333,\"#9c179e\"],[0.4444444444444444,\"#bd3786\"],[0.5555555555555556,\"#d8576b\"],[0.6666666666666666,\"#ed7953\"],[0.7777777777777778,\"#fb9f3a\"],[0.8888888888888888,\"#fdca26\"],[1.0,\"#f0f921\"]],\"type\":\"contour\"}],\"heatmapgl\":[{\"colorbar\":{\"outlinewidth\":0,\"ticks\":\"\"},\"colorscale\":[[0.0,\"#0d0887\"],[0.1111111111111111,\"#46039f\"],[0.2222222222222222,\"#7201a8\"],[0.3333333333333333,\"#9c179e\"],[0.4444444444444444,\"#bd3786\"],[0.5555555555555556,\"#d8576b\"],[0.6666666666666666,\"#ed7953\"],[0.7777777777777778,\"#fb9f3a\"],[0.8888888888888888,\"#fdca26\"],[1.0,\"#f0f921\"]],\"type\":\"heatmapgl\"}],\"heatmap\":[{\"colorbar\":{\"outlinewidth\":0,\"ticks\":\"\"},\"colorscale\":[[0.0,\"#0d0887\"],[0.1111111111111111,\"#46039f\"],[0.2222222222222222,\"#7201a8\"],[0.3333333333333333,\"#9c179e\"],[0.4444444444444444,\"#bd3786\"],[0.5555555555555556,\"#d8576b\"],[0.6666666666666666,\"#ed7953\"],[0.7777777777777778,\"#fb9f3a\"],[0.8888888888888888,\"#fdca26\"],[1.0,\"#f0f921\"]],\"type\":\"heatmap\"}],\"histogram2dcontour\":[{\"colorbar\":{\"outlinewidth\":0,\"ticks\":\"\"},\"colorscale\":[[0.0,\"#0d0887\"],[0.1111111111111111,\"#46039f\"],[0.2222222222222222,\"#7201a8\"],[0.3333333333333333,\"#9c179e\"],[0.4444444444444444,\"#bd3786\"],[0.5555555555555556,\"#d8576b\"],[0.6666666666666666,\"#ed7953\"],[0.7777777777777778,\"#fb9f3a\"],[0.8888888888888888,\"#fdca26\"],[1.0,\"#f0f921\"]],\"type\":\"histogram2dcontour\"}],\"histogram2d\":[{\"colorbar\":{\"outlinewidth\":0,\"ticks\":\"\"},\"colorscale\":[[0.0,\"#0d0887\"],[0.1111111111111111,\"#46039f\"],[0.2222222222222222,\"#7201a8\"],[0.3333333333333333,\"#9c179e\"],[0.4444444444444444,\"#bd3786\"],[0.5555555555555556,\"#d8576b\"],[0.6666666666666666,\"#ed7953\"],[0.7777777777777778,\"#fb9f3a\"],[0.8888888888888888,\"#fdca26\"],[1.0,\"#f0f921\"]],\"type\":\"histogram2d\"}],\"histogram\":[{\"marker\":{\"pattern\":{\"fillmode\":\"overlay\",\"size\":10,\"solidity\":0.2}},\"type\":\"histogram\"}],\"mesh3d\":[{\"colorbar\":{\"outlinewidth\":0,\"ticks\":\"\"},\"type\":\"mesh3d\"}],\"parcoords\":[{\"line\":{\"colorbar\":{\"outlinewidth\":0,\"ticks\":\"\"}},\"type\":\"parcoords\"}],\"pie\":[{\"automargin\":true,\"type\":\"pie\"}],\"scatter3d\":[{\"line\":{\"colorbar\":{\"outlinewidth\":0,\"ticks\":\"\"}},\"marker\":{\"colorbar\":{\"outlinewidth\":0,\"ticks\":\"\"}},\"type\":\"scatter3d\"}],\"scattercarpet\":[{\"marker\":{\"colorbar\":{\"outlinewidth\":0,\"ticks\":\"\"}},\"type\":\"scattercarpet\"}],\"scattergeo\":[{\"marker\":{\"colorbar\":{\"outlinewidth\":0,\"ticks\":\"\"}},\"type\":\"scattergeo\"}],\"scattergl\":[{\"marker\":{\"colorbar\":{\"outlinewidth\":0,\"ticks\":\"\"}},\"type\":\"scattergl\"}],\"scattermapbox\":[{\"marker\":{\"colorbar\":{\"outlinewidth\":0,\"ticks\":\"\"}},\"type\":\"scattermapbox\"}],\"scatterpolargl\":[{\"marker\":{\"colorbar\":{\"outlinewidth\":0,\"ticks\":\"\"}},\"type\":\"scatterpolargl\"}],\"scatterpolar\":[{\"marker\":{\"colorbar\":{\"outlinewidth\":0,\"ticks\":\"\"}},\"type\":\"scatterpolar\"}],\"scatter\":[{\"fillpattern\":{\"fillmode\":\"overlay\",\"size\":10,\"solidity\":0.2},\"type\":\"scatter\"}],\"scatterternary\":[{\"marker\":{\"colorbar\":{\"outlinewidth\":0,\"ticks\":\"\"}},\"type\":\"scatterternary\"}],\"surface\":[{\"colorbar\":{\"outlinewidth\":0,\"ticks\":\"\"},\"colorscale\":[[0.0,\"#0d0887\"],[0.1111111111111111,\"#46039f\"],[0.2222222222222222,\"#7201a8\"],[0.3333333333333333,\"#9c179e\"],[0.4444444444444444,\"#bd3786\"],[0.5555555555555556,\"#d8576b\"],[0.6666666666666666,\"#ed7953\"],[0.7777777777777778,\"#fb9f3a\"],[0.8888888888888888,\"#fdca26\"],[1.0,\"#f0f921\"]],\"type\":\"surface\"}],\"table\":[{\"cells\":{\"fill\":{\"color\":\"#EBF0F8\"},\"line\":{\"color\":\"white\"}},\"header\":{\"fill\":{\"color\":\"#C8D4E3\"},\"line\":{\"color\":\"white\"}},\"type\":\"table\"}]},\"layout\":{\"annotationdefaults\":{\"arrowcolor\":\"#2a3f5f\",\"arrowhead\":0,\"arrowwidth\":1},\"autotypenumbers\":\"strict\",\"coloraxis\":{\"colorbar\":{\"outlinewidth\":0,\"ticks\":\"\"}},\"colorscale\":{\"diverging\":[[0,\"#8e0152\"],[0.1,\"#c51b7d\"],[0.2,\"#de77ae\"],[0.3,\"#f1b6da\"],[0.4,\"#fde0ef\"],[0.5,\"#f7f7f7\"],[0.6,\"#e6f5d0\"],[0.7,\"#b8e186\"],[0.8,\"#7fbc41\"],[0.9,\"#4d9221\"],[1,\"#276419\"]],\"sequential\":[[0.0,\"#0d0887\"],[0.1111111111111111,\"#46039f\"],[0.2222222222222222,\"#7201a8\"],[0.3333333333333333,\"#9c179e\"],[0.4444444444444444,\"#bd3786\"],[0.5555555555555556,\"#d8576b\"],[0.6666666666666666,\"#ed7953\"],[0.7777777777777778,\"#fb9f3a\"],[0.8888888888888888,\"#fdca26\"],[1.0,\"#f0f921\"]],\"sequentialminus\":[[0.0,\"#0d0887\"],[0.1111111111111111,\"#46039f\"],[0.2222222222222222,\"#7201a8\"],[0.3333333333333333,\"#9c179e\"],[0.4444444444444444,\"#bd3786\"],[0.5555555555555556,\"#d8576b\"],[0.6666666666666666,\"#ed7953\"],[0.7777777777777778,\"#fb9f3a\"],[0.8888888888888888,\"#fdca26\"],[1.0,\"#f0f921\"]]},\"colorway\":[\"#636efa\",\"#EF553B\",\"#00cc96\",\"#ab63fa\",\"#FFA15A\",\"#19d3f3\",\"#FF6692\",\"#B6E880\",\"#FF97FF\",\"#FECB52\"],\"font\":{\"color\":\"#2a3f5f\"},\"geo\":{\"bgcolor\":\"white\",\"lakecolor\":\"white\",\"landcolor\":\"#E5ECF6\",\"showlakes\":true,\"showland\":true,\"subunitcolor\":\"white\"},\"hoverlabel\":{\"align\":\"left\"},\"hovermode\":\"closest\",\"mapbox\":{\"style\":\"light\"},\"paper_bgcolor\":\"white\",\"plot_bgcolor\":\"#E5ECF6\",\"polar\":{\"angularaxis\":{\"gridcolor\":\"white\",\"linecolor\":\"white\",\"ticks\":\"\"},\"bgcolor\":\"#E5ECF6\",\"radialaxis\":{\"gridcolor\":\"white\",\"linecolor\":\"white\",\"ticks\":\"\"}},\"scene\":{\"xaxis\":{\"backgroundcolor\":\"#E5ECF6\",\"gridcolor\":\"white\",\"gridwidth\":2,\"linecolor\":\"white\",\"showbackground\":true,\"ticks\":\"\",\"zerolinecolor\":\"white\"},\"yaxis\":{\"backgroundcolor\":\"#E5ECF6\",\"gridcolor\":\"white\",\"gridwidth\":2,\"linecolor\":\"white\",\"showbackground\":true,\"ticks\":\"\",\"zerolinecolor\":\"white\"},\"zaxis\":{\"backgroundcolor\":\"#E5ECF6\",\"gridcolor\":\"white\",\"gridwidth\":2,\"linecolor\":\"white\",\"showbackground\":true,\"ticks\":\"\",\"zerolinecolor\":\"white\"}},\"shapedefaults\":{\"line\":{\"color\":\"#2a3f5f\"}},\"ternary\":{\"aaxis\":{\"gridcolor\":\"white\",\"linecolor\":\"white\",\"ticks\":\"\"},\"baxis\":{\"gridcolor\":\"white\",\"linecolor\":\"white\",\"ticks\":\"\"},\"bgcolor\":\"#E5ECF6\",\"caxis\":{\"gridcolor\":\"white\",\"linecolor\":\"white\",\"ticks\":\"\"}},\"title\":{\"x\":0.05},\"xaxis\":{\"automargin\":true,\"gridcolor\":\"white\",\"linecolor\":\"white\",\"ticks\":\"\",\"title\":{\"standoff\":15},\"zerolinecolor\":\"white\",\"zerolinewidth\":2},\"yaxis\":{\"automargin\":true,\"gridcolor\":\"white\",\"linecolor\":\"white\",\"ticks\":\"\",\"title\":{\"standoff\":15},\"zerolinecolor\":\"white\",\"zerolinewidth\":2}}},\"title\":{\"text\":\"Ingresos por estado y categorias\",\"x\":0.5},\"xaxis\":{\"title\":{\"text\":\"Categorias\"}},\"yaxis\":{\"title\":{\"text\":\"Ingresos\"}}},                        {\"responsive\": true}                    ).then(function(){\n",
       "                            \n",
       "var gd = document.getElementById('6c9787ff-a747-4f56-8e79-f755f656a6a0');\n",
       "var x = new MutationObserver(function (mutations, observer) {{\n",
       "        var display = window.getComputedStyle(gd).display;\n",
       "        if (!display || display === 'none') {{\n",
       "            console.log([gd, 'removed!']);\n",
       "            Plotly.purge(gd);\n",
       "            observer.disconnect();\n",
       "        }}\n",
       "}});\n",
       "\n",
       "// Listen for the removal of the full notebook cells\n",
       "var notebookContainer = gd.closest('#notebook-container');\n",
       "if (notebookContainer) {{\n",
       "    x.observe(notebookContainer, {childList: true});\n",
       "}}\n",
       "\n",
       "// Listen for the clearing of the current output cell\n",
       "var outputEl = gd.closest('.output');\n",
       "if (outputEl) {{\n",
       "    x.observe(outputEl, {childList: true});\n",
       "}}\n",
       "\n",
       "                        })                };                });            </script>        </div>"
      ]
     },
     "metadata": {},
     "output_type": "display_data"
    }
   ],
   "source": [
    "texas=df[df['State']=='Texas'].groupby('Category', as_index=False)['Profit'].sum()\n",
    "california=df[df['State']=='California'].groupby('Category', as_index=False)['Profit'].sum()\n",
    "new_york=df[df['State']=='New York'].groupby('Category', as_index=False)['Profit'].sum()\n",
    "\n",
    "#Texas\n",
    "trace1=dict(x=texas['Category'],\n",
    "            y=texas['Profit'],\n",
    "            type='bar',\n",
    "            name='Texas')\n",
    "\n",
    "#California\n",
    "trace2=dict(x=california['Category'],\n",
    "            y=california['Profit'],\n",
    "            type='bar',\n",
    "            name='California')\n",
    "\n",
    "#NewYork\n",
    "trace3=dict(x=new_york['Category'],\n",
    "            y=new_york['Profit'],\n",
    "            type='bar',\n",
    "            name='New York')\n",
    "\n",
    "\n",
    "data=[trace1,trace2,trace3]\n",
    "layout=dict(#barmode='stack',\n",
    "            title=dict(text='Ingresos por estado y categorias',x=0.5),\n",
    "            xaxis=dict(title='Categorias'),\n",
    "            yaxis=dict(title='Ingresos'))\n",
    "\n",
    "fig=go.Figure(data=data, layout=layout)\n",
    "\n",
    "iplot(fig)"
   ]
  },
  {
   "cell_type": "code",
   "execution_count": 31,
   "metadata": {},
   "outputs": [
    {
     "data": {
      "application/vnd.plotly.v1+json": {
       "config": {
        "plotlyServerURL": "https://plot.ly"
       },
       "data": [
        {
         "alignmentgroup": "True",
         "hovertemplate": "State=California<br>Category=%{x}<br>Profit=%{y}<extra></extra>",
         "legendgroup": "California",
         "marker": {
          "color": "#636efa",
          "pattern": {
           "shape": ""
          }
         },
         "name": "California",
         "offsetgroup": "California",
         "orientation": "v",
         "showlegend": true,
         "textposition": "auto",
         "type": "bar",
         "x": [
          "Furniture",
          "Office Supplies",
          "Technology"
         ],
         "xaxis": "x",
         "y": [
          9162.965599999996,
          37748.384699999995,
          29470.036799999994
         ],
         "yaxis": "y"
        },
        {
         "alignmentgroup": "True",
         "hovertemplate": "State=New York<br>Category=%{x}<br>Profit=%{y}<extra></extra>",
         "legendgroup": "New York",
         "marker": {
          "color": "#EF553B",
          "pattern": {
           "shape": ""
          }
         },
         "name": "New York",
         "offsetgroup": "New York",
         "orientation": "v",
         "showlegend": true,
         "textposition": "auto",
         "type": "bar",
         "x": [
          "Furniture",
          "Office Supplies",
          "Technology"
         ],
         "xaxis": "x",
         "y": [
          5857.680099999997,
          25994.082899999998,
          42186.785599999996
         ],
         "yaxis": "y"
        },
        {
         "alignmentgroup": "True",
         "hovertemplate": "State=Texas<br>Category=%{x}<br>Profit=%{y}<extra></extra>",
         "legendgroup": "Texas",
         "marker": {
          "color": "#00cc96",
          "pattern": {
           "shape": ""
          }
         },
         "name": "Texas",
         "offsetgroup": "Texas",
         "orientation": "v",
         "showlegend": true,
         "textposition": "auto",
         "type": "bar",
         "x": [
          "Furniture",
          "Office Supplies",
          "Technology"
         ],
         "xaxis": "x",
         "y": [
          -10436.1419,
          -18584.643400000008,
          3291.428999999996
         ],
         "yaxis": "y"
        }
       ],
       "layout": {
        "barmode": "relative",
        "legend": {
         "title": {
          "text": "State"
         },
         "tracegroupgap": 0
        },
        "margin": {
         "t": 60
        },
        "template": {
         "data": {
          "bar": [
           {
            "error_x": {
             "color": "#2a3f5f"
            },
            "error_y": {
             "color": "#2a3f5f"
            },
            "marker": {
             "line": {
              "color": "#E5ECF6",
              "width": 0.5
             },
             "pattern": {
              "fillmode": "overlay",
              "size": 10,
              "solidity": 0.2
             }
            },
            "type": "bar"
           }
          ],
          "barpolar": [
           {
            "marker": {
             "line": {
              "color": "#E5ECF6",
              "width": 0.5
             },
             "pattern": {
              "fillmode": "overlay",
              "size": 10,
              "solidity": 0.2
             }
            },
            "type": "barpolar"
           }
          ],
          "carpet": [
           {
            "aaxis": {
             "endlinecolor": "#2a3f5f",
             "gridcolor": "white",
             "linecolor": "white",
             "minorgridcolor": "white",
             "startlinecolor": "#2a3f5f"
            },
            "baxis": {
             "endlinecolor": "#2a3f5f",
             "gridcolor": "white",
             "linecolor": "white",
             "minorgridcolor": "white",
             "startlinecolor": "#2a3f5f"
            },
            "type": "carpet"
           }
          ],
          "choropleth": [
           {
            "colorbar": {
             "outlinewidth": 0,
             "ticks": ""
            },
            "type": "choropleth"
           }
          ],
          "contour": [
           {
            "colorbar": {
             "outlinewidth": 0,
             "ticks": ""
            },
            "colorscale": [
             [
              0,
              "#0d0887"
             ],
             [
              0.1111111111111111,
              "#46039f"
             ],
             [
              0.2222222222222222,
              "#7201a8"
             ],
             [
              0.3333333333333333,
              "#9c179e"
             ],
             [
              0.4444444444444444,
              "#bd3786"
             ],
             [
              0.5555555555555556,
              "#d8576b"
             ],
             [
              0.6666666666666666,
              "#ed7953"
             ],
             [
              0.7777777777777778,
              "#fb9f3a"
             ],
             [
              0.8888888888888888,
              "#fdca26"
             ],
             [
              1,
              "#f0f921"
             ]
            ],
            "type": "contour"
           }
          ],
          "contourcarpet": [
           {
            "colorbar": {
             "outlinewidth": 0,
             "ticks": ""
            },
            "type": "contourcarpet"
           }
          ],
          "heatmap": [
           {
            "colorbar": {
             "outlinewidth": 0,
             "ticks": ""
            },
            "colorscale": [
             [
              0,
              "#0d0887"
             ],
             [
              0.1111111111111111,
              "#46039f"
             ],
             [
              0.2222222222222222,
              "#7201a8"
             ],
             [
              0.3333333333333333,
              "#9c179e"
             ],
             [
              0.4444444444444444,
              "#bd3786"
             ],
             [
              0.5555555555555556,
              "#d8576b"
             ],
             [
              0.6666666666666666,
              "#ed7953"
             ],
             [
              0.7777777777777778,
              "#fb9f3a"
             ],
             [
              0.8888888888888888,
              "#fdca26"
             ],
             [
              1,
              "#f0f921"
             ]
            ],
            "type": "heatmap"
           }
          ],
          "heatmapgl": [
           {
            "colorbar": {
             "outlinewidth": 0,
             "ticks": ""
            },
            "colorscale": [
             [
              0,
              "#0d0887"
             ],
             [
              0.1111111111111111,
              "#46039f"
             ],
             [
              0.2222222222222222,
              "#7201a8"
             ],
             [
              0.3333333333333333,
              "#9c179e"
             ],
             [
              0.4444444444444444,
              "#bd3786"
             ],
             [
              0.5555555555555556,
              "#d8576b"
             ],
             [
              0.6666666666666666,
              "#ed7953"
             ],
             [
              0.7777777777777778,
              "#fb9f3a"
             ],
             [
              0.8888888888888888,
              "#fdca26"
             ],
             [
              1,
              "#f0f921"
             ]
            ],
            "type": "heatmapgl"
           }
          ],
          "histogram": [
           {
            "marker": {
             "pattern": {
              "fillmode": "overlay",
              "size": 10,
              "solidity": 0.2
             }
            },
            "type": "histogram"
           }
          ],
          "histogram2d": [
           {
            "colorbar": {
             "outlinewidth": 0,
             "ticks": ""
            },
            "colorscale": [
             [
              0,
              "#0d0887"
             ],
             [
              0.1111111111111111,
              "#46039f"
             ],
             [
              0.2222222222222222,
              "#7201a8"
             ],
             [
              0.3333333333333333,
              "#9c179e"
             ],
             [
              0.4444444444444444,
              "#bd3786"
             ],
             [
              0.5555555555555556,
              "#d8576b"
             ],
             [
              0.6666666666666666,
              "#ed7953"
             ],
             [
              0.7777777777777778,
              "#fb9f3a"
             ],
             [
              0.8888888888888888,
              "#fdca26"
             ],
             [
              1,
              "#f0f921"
             ]
            ],
            "type": "histogram2d"
           }
          ],
          "histogram2dcontour": [
           {
            "colorbar": {
             "outlinewidth": 0,
             "ticks": ""
            },
            "colorscale": [
             [
              0,
              "#0d0887"
             ],
             [
              0.1111111111111111,
              "#46039f"
             ],
             [
              0.2222222222222222,
              "#7201a8"
             ],
             [
              0.3333333333333333,
              "#9c179e"
             ],
             [
              0.4444444444444444,
              "#bd3786"
             ],
             [
              0.5555555555555556,
              "#d8576b"
             ],
             [
              0.6666666666666666,
              "#ed7953"
             ],
             [
              0.7777777777777778,
              "#fb9f3a"
             ],
             [
              0.8888888888888888,
              "#fdca26"
             ],
             [
              1,
              "#f0f921"
             ]
            ],
            "type": "histogram2dcontour"
           }
          ],
          "mesh3d": [
           {
            "colorbar": {
             "outlinewidth": 0,
             "ticks": ""
            },
            "type": "mesh3d"
           }
          ],
          "parcoords": [
           {
            "line": {
             "colorbar": {
              "outlinewidth": 0,
              "ticks": ""
             }
            },
            "type": "parcoords"
           }
          ],
          "pie": [
           {
            "automargin": true,
            "type": "pie"
           }
          ],
          "scatter": [
           {
            "fillpattern": {
             "fillmode": "overlay",
             "size": 10,
             "solidity": 0.2
            },
            "type": "scatter"
           }
          ],
          "scatter3d": [
           {
            "line": {
             "colorbar": {
              "outlinewidth": 0,
              "ticks": ""
             }
            },
            "marker": {
             "colorbar": {
              "outlinewidth": 0,
              "ticks": ""
             }
            },
            "type": "scatter3d"
           }
          ],
          "scattercarpet": [
           {
            "marker": {
             "colorbar": {
              "outlinewidth": 0,
              "ticks": ""
             }
            },
            "type": "scattercarpet"
           }
          ],
          "scattergeo": [
           {
            "marker": {
             "colorbar": {
              "outlinewidth": 0,
              "ticks": ""
             }
            },
            "type": "scattergeo"
           }
          ],
          "scattergl": [
           {
            "marker": {
             "colorbar": {
              "outlinewidth": 0,
              "ticks": ""
             }
            },
            "type": "scattergl"
           }
          ],
          "scattermapbox": [
           {
            "marker": {
             "colorbar": {
              "outlinewidth": 0,
              "ticks": ""
             }
            },
            "type": "scattermapbox"
           }
          ],
          "scatterpolar": [
           {
            "marker": {
             "colorbar": {
              "outlinewidth": 0,
              "ticks": ""
             }
            },
            "type": "scatterpolar"
           }
          ],
          "scatterpolargl": [
           {
            "marker": {
             "colorbar": {
              "outlinewidth": 0,
              "ticks": ""
             }
            },
            "type": "scatterpolargl"
           }
          ],
          "scatterternary": [
           {
            "marker": {
             "colorbar": {
              "outlinewidth": 0,
              "ticks": ""
             }
            },
            "type": "scatterternary"
           }
          ],
          "surface": [
           {
            "colorbar": {
             "outlinewidth": 0,
             "ticks": ""
            },
            "colorscale": [
             [
              0,
              "#0d0887"
             ],
             [
              0.1111111111111111,
              "#46039f"
             ],
             [
              0.2222222222222222,
              "#7201a8"
             ],
             [
              0.3333333333333333,
              "#9c179e"
             ],
             [
              0.4444444444444444,
              "#bd3786"
             ],
             [
              0.5555555555555556,
              "#d8576b"
             ],
             [
              0.6666666666666666,
              "#ed7953"
             ],
             [
              0.7777777777777778,
              "#fb9f3a"
             ],
             [
              0.8888888888888888,
              "#fdca26"
             ],
             [
              1,
              "#f0f921"
             ]
            ],
            "type": "surface"
           }
          ],
          "table": [
           {
            "cells": {
             "fill": {
              "color": "#EBF0F8"
             },
             "line": {
              "color": "white"
             }
            },
            "header": {
             "fill": {
              "color": "#C8D4E3"
             },
             "line": {
              "color": "white"
             }
            },
            "type": "table"
           }
          ]
         },
         "layout": {
          "annotationdefaults": {
           "arrowcolor": "#2a3f5f",
           "arrowhead": 0,
           "arrowwidth": 1
          },
          "autotypenumbers": "strict",
          "coloraxis": {
           "colorbar": {
            "outlinewidth": 0,
            "ticks": ""
           }
          },
          "colorscale": {
           "diverging": [
            [
             0,
             "#8e0152"
            ],
            [
             0.1,
             "#c51b7d"
            ],
            [
             0.2,
             "#de77ae"
            ],
            [
             0.3,
             "#f1b6da"
            ],
            [
             0.4,
             "#fde0ef"
            ],
            [
             0.5,
             "#f7f7f7"
            ],
            [
             0.6,
             "#e6f5d0"
            ],
            [
             0.7,
             "#b8e186"
            ],
            [
             0.8,
             "#7fbc41"
            ],
            [
             0.9,
             "#4d9221"
            ],
            [
             1,
             "#276419"
            ]
           ],
           "sequential": [
            [
             0,
             "#0d0887"
            ],
            [
             0.1111111111111111,
             "#46039f"
            ],
            [
             0.2222222222222222,
             "#7201a8"
            ],
            [
             0.3333333333333333,
             "#9c179e"
            ],
            [
             0.4444444444444444,
             "#bd3786"
            ],
            [
             0.5555555555555556,
             "#d8576b"
            ],
            [
             0.6666666666666666,
             "#ed7953"
            ],
            [
             0.7777777777777778,
             "#fb9f3a"
            ],
            [
             0.8888888888888888,
             "#fdca26"
            ],
            [
             1,
             "#f0f921"
            ]
           ],
           "sequentialminus": [
            [
             0,
             "#0d0887"
            ],
            [
             0.1111111111111111,
             "#46039f"
            ],
            [
             0.2222222222222222,
             "#7201a8"
            ],
            [
             0.3333333333333333,
             "#9c179e"
            ],
            [
             0.4444444444444444,
             "#bd3786"
            ],
            [
             0.5555555555555556,
             "#d8576b"
            ],
            [
             0.6666666666666666,
             "#ed7953"
            ],
            [
             0.7777777777777778,
             "#fb9f3a"
            ],
            [
             0.8888888888888888,
             "#fdca26"
            ],
            [
             1,
             "#f0f921"
            ]
           ]
          },
          "colorway": [
           "#636efa",
           "#EF553B",
           "#00cc96",
           "#ab63fa",
           "#FFA15A",
           "#19d3f3",
           "#FF6692",
           "#B6E880",
           "#FF97FF",
           "#FECB52"
          ],
          "font": {
           "color": "#2a3f5f"
          },
          "geo": {
           "bgcolor": "white",
           "lakecolor": "white",
           "landcolor": "#E5ECF6",
           "showlakes": true,
           "showland": true,
           "subunitcolor": "white"
          },
          "hoverlabel": {
           "align": "left"
          },
          "hovermode": "closest",
          "mapbox": {
           "style": "light"
          },
          "paper_bgcolor": "white",
          "plot_bgcolor": "#E5ECF6",
          "polar": {
           "angularaxis": {
            "gridcolor": "white",
            "linecolor": "white",
            "ticks": ""
           },
           "bgcolor": "#E5ECF6",
           "radialaxis": {
            "gridcolor": "white",
            "linecolor": "white",
            "ticks": ""
           }
          },
          "scene": {
           "xaxis": {
            "backgroundcolor": "#E5ECF6",
            "gridcolor": "white",
            "gridwidth": 2,
            "linecolor": "white",
            "showbackground": true,
            "ticks": "",
            "zerolinecolor": "white"
           },
           "yaxis": {
            "backgroundcolor": "#E5ECF6",
            "gridcolor": "white",
            "gridwidth": 2,
            "linecolor": "white",
            "showbackground": true,
            "ticks": "",
            "zerolinecolor": "white"
           },
           "zaxis": {
            "backgroundcolor": "#E5ECF6",
            "gridcolor": "white",
            "gridwidth": 2,
            "linecolor": "white",
            "showbackground": true,
            "ticks": "",
            "zerolinecolor": "white"
           }
          },
          "shapedefaults": {
           "line": {
            "color": "#2a3f5f"
           }
          },
          "ternary": {
           "aaxis": {
            "gridcolor": "white",
            "linecolor": "white",
            "ticks": ""
           },
           "baxis": {
            "gridcolor": "white",
            "linecolor": "white",
            "ticks": ""
           },
           "bgcolor": "#E5ECF6",
           "caxis": {
            "gridcolor": "white",
            "linecolor": "white",
            "ticks": ""
           }
          },
          "title": {
           "x": 0.05
          },
          "xaxis": {
           "automargin": true,
           "gridcolor": "white",
           "linecolor": "white",
           "ticks": "",
           "title": {
            "standoff": 15
           },
           "zerolinecolor": "white",
           "zerolinewidth": 2
          },
          "yaxis": {
           "automargin": true,
           "gridcolor": "white",
           "linecolor": "white",
           "ticks": "",
           "title": {
            "standoff": 15
           },
           "zerolinecolor": "white",
           "zerolinewidth": 2
          }
         }
        },
        "xaxis": {
         "anchor": "y",
         "domain": [
          0,
          1
         ],
         "title": {
          "text": "Category"
         }
        },
        "yaxis": {
         "anchor": "x",
         "domain": [
          0,
          1
         ],
         "title": {
          "text": "Profit"
         }
        }
       }
      },
      "text/html": [
       "<div>                            <div id=\"0b58fea7-29bc-47f5-92cb-ed5744020c86\" class=\"plotly-graph-div\" style=\"height:525px; width:100%;\"></div>            <script type=\"text/javascript\">                require([\"plotly\"], function(Plotly) {                    window.PLOTLYENV=window.PLOTLYENV || {};                                    if (document.getElementById(\"0b58fea7-29bc-47f5-92cb-ed5744020c86\")) {                    Plotly.newPlot(                        \"0b58fea7-29bc-47f5-92cb-ed5744020c86\",                        [{\"alignmentgroup\":\"True\",\"hovertemplate\":\"State=California\\u003cbr\\u003eCategory=%{x}\\u003cbr\\u003eProfit=%{y}\\u003cextra\\u003e\\u003c\\u002fextra\\u003e\",\"legendgroup\":\"California\",\"marker\":{\"color\":\"#636efa\",\"pattern\":{\"shape\":\"\"}},\"name\":\"California\",\"offsetgroup\":\"California\",\"orientation\":\"v\",\"showlegend\":true,\"textposition\":\"auto\",\"x\":[\"Furniture\",\"Office Supplies\",\"Technology\"],\"xaxis\":\"x\",\"y\":[9162.965599999996,37748.384699999995,29470.036799999994],\"yaxis\":\"y\",\"type\":\"bar\"},{\"alignmentgroup\":\"True\",\"hovertemplate\":\"State=New York\\u003cbr\\u003eCategory=%{x}\\u003cbr\\u003eProfit=%{y}\\u003cextra\\u003e\\u003c\\u002fextra\\u003e\",\"legendgroup\":\"New York\",\"marker\":{\"color\":\"#EF553B\",\"pattern\":{\"shape\":\"\"}},\"name\":\"New York\",\"offsetgroup\":\"New York\",\"orientation\":\"v\",\"showlegend\":true,\"textposition\":\"auto\",\"x\":[\"Furniture\",\"Office Supplies\",\"Technology\"],\"xaxis\":\"x\",\"y\":[5857.680099999997,25994.082899999998,42186.785599999996],\"yaxis\":\"y\",\"type\":\"bar\"},{\"alignmentgroup\":\"True\",\"hovertemplate\":\"State=Texas\\u003cbr\\u003eCategory=%{x}\\u003cbr\\u003eProfit=%{y}\\u003cextra\\u003e\\u003c\\u002fextra\\u003e\",\"legendgroup\":\"Texas\",\"marker\":{\"color\":\"#00cc96\",\"pattern\":{\"shape\":\"\"}},\"name\":\"Texas\",\"offsetgroup\":\"Texas\",\"orientation\":\"v\",\"showlegend\":true,\"textposition\":\"auto\",\"x\":[\"Furniture\",\"Office Supplies\",\"Technology\"],\"xaxis\":\"x\",\"y\":[-10436.1419,-18584.643400000008,3291.428999999996],\"yaxis\":\"y\",\"type\":\"bar\"}],                        {\"template\":{\"data\":{\"histogram2dcontour\":[{\"type\":\"histogram2dcontour\",\"colorbar\":{\"outlinewidth\":0,\"ticks\":\"\"},\"colorscale\":[[0.0,\"#0d0887\"],[0.1111111111111111,\"#46039f\"],[0.2222222222222222,\"#7201a8\"],[0.3333333333333333,\"#9c179e\"],[0.4444444444444444,\"#bd3786\"],[0.5555555555555556,\"#d8576b\"],[0.6666666666666666,\"#ed7953\"],[0.7777777777777778,\"#fb9f3a\"],[0.8888888888888888,\"#fdca26\"],[1.0,\"#f0f921\"]]}],\"choropleth\":[{\"type\":\"choropleth\",\"colorbar\":{\"outlinewidth\":0,\"ticks\":\"\"}}],\"histogram2d\":[{\"type\":\"histogram2d\",\"colorbar\":{\"outlinewidth\":0,\"ticks\":\"\"},\"colorscale\":[[0.0,\"#0d0887\"],[0.1111111111111111,\"#46039f\"],[0.2222222222222222,\"#7201a8\"],[0.3333333333333333,\"#9c179e\"],[0.4444444444444444,\"#bd3786\"],[0.5555555555555556,\"#d8576b\"],[0.6666666666666666,\"#ed7953\"],[0.7777777777777778,\"#fb9f3a\"],[0.8888888888888888,\"#fdca26\"],[1.0,\"#f0f921\"]]}],\"heatmap\":[{\"type\":\"heatmap\",\"colorbar\":{\"outlinewidth\":0,\"ticks\":\"\"},\"colorscale\":[[0.0,\"#0d0887\"],[0.1111111111111111,\"#46039f\"],[0.2222222222222222,\"#7201a8\"],[0.3333333333333333,\"#9c179e\"],[0.4444444444444444,\"#bd3786\"],[0.5555555555555556,\"#d8576b\"],[0.6666666666666666,\"#ed7953\"],[0.7777777777777778,\"#fb9f3a\"],[0.8888888888888888,\"#fdca26\"],[1.0,\"#f0f921\"]]}],\"heatmapgl\":[{\"type\":\"heatmapgl\",\"colorbar\":{\"outlinewidth\":0,\"ticks\":\"\"},\"colorscale\":[[0.0,\"#0d0887\"],[0.1111111111111111,\"#46039f\"],[0.2222222222222222,\"#7201a8\"],[0.3333333333333333,\"#9c179e\"],[0.4444444444444444,\"#bd3786\"],[0.5555555555555556,\"#d8576b\"],[0.6666666666666666,\"#ed7953\"],[0.7777777777777778,\"#fb9f3a\"],[0.8888888888888888,\"#fdca26\"],[1.0,\"#f0f921\"]]}],\"contourcarpet\":[{\"type\":\"contourcarpet\",\"colorbar\":{\"outlinewidth\":0,\"ticks\":\"\"}}],\"contour\":[{\"type\":\"contour\",\"colorbar\":{\"outlinewidth\":0,\"ticks\":\"\"},\"colorscale\":[[0.0,\"#0d0887\"],[0.1111111111111111,\"#46039f\"],[0.2222222222222222,\"#7201a8\"],[0.3333333333333333,\"#9c179e\"],[0.4444444444444444,\"#bd3786\"],[0.5555555555555556,\"#d8576b\"],[0.6666666666666666,\"#ed7953\"],[0.7777777777777778,\"#fb9f3a\"],[0.8888888888888888,\"#fdca26\"],[1.0,\"#f0f921\"]]}],\"surface\":[{\"type\":\"surface\",\"colorbar\":{\"outlinewidth\":0,\"ticks\":\"\"},\"colorscale\":[[0.0,\"#0d0887\"],[0.1111111111111111,\"#46039f\"],[0.2222222222222222,\"#7201a8\"],[0.3333333333333333,\"#9c179e\"],[0.4444444444444444,\"#bd3786\"],[0.5555555555555556,\"#d8576b\"],[0.6666666666666666,\"#ed7953\"],[0.7777777777777778,\"#fb9f3a\"],[0.8888888888888888,\"#fdca26\"],[1.0,\"#f0f921\"]]}],\"mesh3d\":[{\"type\":\"mesh3d\",\"colorbar\":{\"outlinewidth\":0,\"ticks\":\"\"}}],\"scatter\":[{\"fillpattern\":{\"fillmode\":\"overlay\",\"size\":10,\"solidity\":0.2},\"type\":\"scatter\"}],\"parcoords\":[{\"type\":\"parcoords\",\"line\":{\"colorbar\":{\"outlinewidth\":0,\"ticks\":\"\"}}}],\"scatterpolargl\":[{\"type\":\"scatterpolargl\",\"marker\":{\"colorbar\":{\"outlinewidth\":0,\"ticks\":\"\"}}}],\"bar\":[{\"error_x\":{\"color\":\"#2a3f5f\"},\"error_y\":{\"color\":\"#2a3f5f\"},\"marker\":{\"line\":{\"color\":\"#E5ECF6\",\"width\":0.5},\"pattern\":{\"fillmode\":\"overlay\",\"size\":10,\"solidity\":0.2}},\"type\":\"bar\"}],\"scattergeo\":[{\"type\":\"scattergeo\",\"marker\":{\"colorbar\":{\"outlinewidth\":0,\"ticks\":\"\"}}}],\"scatterpolar\":[{\"type\":\"scatterpolar\",\"marker\":{\"colorbar\":{\"outlinewidth\":0,\"ticks\":\"\"}}}],\"histogram\":[{\"marker\":{\"pattern\":{\"fillmode\":\"overlay\",\"size\":10,\"solidity\":0.2}},\"type\":\"histogram\"}],\"scattergl\":[{\"type\":\"scattergl\",\"marker\":{\"colorbar\":{\"outlinewidth\":0,\"ticks\":\"\"}}}],\"scatter3d\":[{\"type\":\"scatter3d\",\"line\":{\"colorbar\":{\"outlinewidth\":0,\"ticks\":\"\"}},\"marker\":{\"colorbar\":{\"outlinewidth\":0,\"ticks\":\"\"}}}],\"scattermapbox\":[{\"type\":\"scattermapbox\",\"marker\":{\"colorbar\":{\"outlinewidth\":0,\"ticks\":\"\"}}}],\"scatterternary\":[{\"type\":\"scatterternary\",\"marker\":{\"colorbar\":{\"outlinewidth\":0,\"ticks\":\"\"}}}],\"scattercarpet\":[{\"type\":\"scattercarpet\",\"marker\":{\"colorbar\":{\"outlinewidth\":0,\"ticks\":\"\"}}}],\"carpet\":[{\"aaxis\":{\"endlinecolor\":\"#2a3f5f\",\"gridcolor\":\"white\",\"linecolor\":\"white\",\"minorgridcolor\":\"white\",\"startlinecolor\":\"#2a3f5f\"},\"baxis\":{\"endlinecolor\":\"#2a3f5f\",\"gridcolor\":\"white\",\"linecolor\":\"white\",\"minorgridcolor\":\"white\",\"startlinecolor\":\"#2a3f5f\"},\"type\":\"carpet\"}],\"table\":[{\"cells\":{\"fill\":{\"color\":\"#EBF0F8\"},\"line\":{\"color\":\"white\"}},\"header\":{\"fill\":{\"color\":\"#C8D4E3\"},\"line\":{\"color\":\"white\"}},\"type\":\"table\"}],\"barpolar\":[{\"marker\":{\"line\":{\"color\":\"#E5ECF6\",\"width\":0.5},\"pattern\":{\"fillmode\":\"overlay\",\"size\":10,\"solidity\":0.2}},\"type\":\"barpolar\"}],\"pie\":[{\"automargin\":true,\"type\":\"pie\"}]},\"layout\":{\"autotypenumbers\":\"strict\",\"colorway\":[\"#636efa\",\"#EF553B\",\"#00cc96\",\"#ab63fa\",\"#FFA15A\",\"#19d3f3\",\"#FF6692\",\"#B6E880\",\"#FF97FF\",\"#FECB52\"],\"font\":{\"color\":\"#2a3f5f\"},\"hovermode\":\"closest\",\"hoverlabel\":{\"align\":\"left\"},\"paper_bgcolor\":\"white\",\"plot_bgcolor\":\"#E5ECF6\",\"polar\":{\"bgcolor\":\"#E5ECF6\",\"angularaxis\":{\"gridcolor\":\"white\",\"linecolor\":\"white\",\"ticks\":\"\"},\"radialaxis\":{\"gridcolor\":\"white\",\"linecolor\":\"white\",\"ticks\":\"\"}},\"ternary\":{\"bgcolor\":\"#E5ECF6\",\"aaxis\":{\"gridcolor\":\"white\",\"linecolor\":\"white\",\"ticks\":\"\"},\"baxis\":{\"gridcolor\":\"white\",\"linecolor\":\"white\",\"ticks\":\"\"},\"caxis\":{\"gridcolor\":\"white\",\"linecolor\":\"white\",\"ticks\":\"\"}},\"coloraxis\":{\"colorbar\":{\"outlinewidth\":0,\"ticks\":\"\"}},\"colorscale\":{\"sequential\":[[0.0,\"#0d0887\"],[0.1111111111111111,\"#46039f\"],[0.2222222222222222,\"#7201a8\"],[0.3333333333333333,\"#9c179e\"],[0.4444444444444444,\"#bd3786\"],[0.5555555555555556,\"#d8576b\"],[0.6666666666666666,\"#ed7953\"],[0.7777777777777778,\"#fb9f3a\"],[0.8888888888888888,\"#fdca26\"],[1.0,\"#f0f921\"]],\"sequentialminus\":[[0.0,\"#0d0887\"],[0.1111111111111111,\"#46039f\"],[0.2222222222222222,\"#7201a8\"],[0.3333333333333333,\"#9c179e\"],[0.4444444444444444,\"#bd3786\"],[0.5555555555555556,\"#d8576b\"],[0.6666666666666666,\"#ed7953\"],[0.7777777777777778,\"#fb9f3a\"],[0.8888888888888888,\"#fdca26\"],[1.0,\"#f0f921\"]],\"diverging\":[[0,\"#8e0152\"],[0.1,\"#c51b7d\"],[0.2,\"#de77ae\"],[0.3,\"#f1b6da\"],[0.4,\"#fde0ef\"],[0.5,\"#f7f7f7\"],[0.6,\"#e6f5d0\"],[0.7,\"#b8e186\"],[0.8,\"#7fbc41\"],[0.9,\"#4d9221\"],[1,\"#276419\"]]},\"xaxis\":{\"gridcolor\":\"white\",\"linecolor\":\"white\",\"ticks\":\"\",\"title\":{\"standoff\":15},\"zerolinecolor\":\"white\",\"automargin\":true,\"zerolinewidth\":2},\"yaxis\":{\"gridcolor\":\"white\",\"linecolor\":\"white\",\"ticks\":\"\",\"title\":{\"standoff\":15},\"zerolinecolor\":\"white\",\"automargin\":true,\"zerolinewidth\":2},\"scene\":{\"xaxis\":{\"backgroundcolor\":\"#E5ECF6\",\"gridcolor\":\"white\",\"linecolor\":\"white\",\"showbackground\":true,\"ticks\":\"\",\"zerolinecolor\":\"white\",\"gridwidth\":2},\"yaxis\":{\"backgroundcolor\":\"#E5ECF6\",\"gridcolor\":\"white\",\"linecolor\":\"white\",\"showbackground\":true,\"ticks\":\"\",\"zerolinecolor\":\"white\",\"gridwidth\":2},\"zaxis\":{\"backgroundcolor\":\"#E5ECF6\",\"gridcolor\":\"white\",\"linecolor\":\"white\",\"showbackground\":true,\"ticks\":\"\",\"zerolinecolor\":\"white\",\"gridwidth\":2}},\"shapedefaults\":{\"line\":{\"color\":\"#2a3f5f\"}},\"annotationdefaults\":{\"arrowcolor\":\"#2a3f5f\",\"arrowhead\":0,\"arrowwidth\":1},\"geo\":{\"bgcolor\":\"white\",\"landcolor\":\"#E5ECF6\",\"subunitcolor\":\"white\",\"showland\":true,\"showlakes\":true,\"lakecolor\":\"white\"},\"title\":{\"x\":0.05},\"mapbox\":{\"style\":\"light\"}}},\"xaxis\":{\"anchor\":\"y\",\"domain\":[0.0,1.0],\"title\":{\"text\":\"Category\"}},\"yaxis\":{\"anchor\":\"x\",\"domain\":[0.0,1.0],\"title\":{\"text\":\"Profit\"}},\"legend\":{\"title\":{\"text\":\"State\"},\"tracegroupgap\":0},\"margin\":{\"t\":60},\"barmode\":\"relative\"},                        {\"responsive\": true}                    ).then(function(){\n",
       "                            \n",
       "var gd = document.getElementById('0b58fea7-29bc-47f5-92cb-ed5744020c86');\n",
       "var x = new MutationObserver(function (mutations, observer) {{\n",
       "        var display = window.getComputedStyle(gd).display;\n",
       "        if (!display || display === 'none') {{\n",
       "            console.log([gd, 'removed!']);\n",
       "            Plotly.purge(gd);\n",
       "            observer.disconnect();\n",
       "        }}\n",
       "}});\n",
       "\n",
       "// Listen for the removal of the full notebook cells\n",
       "var notebookContainer = gd.closest('#notebook-container');\n",
       "if (notebookContainer) {{\n",
       "    x.observe(notebookContainer, {childList: true});\n",
       "}}\n",
       "\n",
       "// Listen for the clearing of the current output cell\n",
       "var outputEl = gd.closest('.output');\n",
       "if (outputEl) {{\n",
       "    x.observe(outputEl, {childList: true});\n",
       "}}\n",
       "\n",
       "                        })                };                });            </script>        </div>"
      ]
     },
     "metadata": {},
     "output_type": "display_data"
    }
   ],
   "source": [
    "import plotly.express as px\n",
    "df_4=df[df['State'].isin(['California','New York','Texas'])].groupby(['State','Category'],as_index=False)[['Profit']].sum()\n",
    "fig=px.bar(df_4, x='Category',y='Profit',color='State')\n",
    "\n",
    "fig.show()"
   ]
  },
  {
   "attachments": {},
   "cell_type": "markdown",
   "metadata": {
    "id": "a1XDvjVAimiG"
   },
   "source": [
    "## 5. Cree un gráfico de líneas interactivo que muestre las ventas por día en California."
   ]
  },
  {
   "cell_type": "code",
   "execution_count": 33,
   "metadata": {},
   "outputs": [
    {
     "data": {
      "application/vnd.plotly.v1+json": {
       "config": {
        "linkText": "Export to plot.ly",
        "plotlyServerURL": "https://plot.ly",
        "showLink": false
       },
       "data": [
        {
         "marker": {
          "color": "black"
         },
         "mode": "lines+markers",
         "text": [
          "2014-01-08T00:00:00",
          "2014-01-18T00:00:00",
          "2014-01-25T00:00:00",
          "2014-02-02T00:00:00",
          "2014-02-06T00:00:00",
          "2014-02-08T00:00:00",
          "2014-02-18T00:00:00",
          "2014-02-24T00:00:00",
          "2014-03-07T00:00:00",
          "2014-03-15T00:00:00",
          "2014-03-18T00:00:00",
          "2014-03-21T00:00:00",
          "2014-03-24T00:00:00",
          "2014-03-26T00:00:00",
          "2014-03-29T00:00:00",
          "2014-03-30T00:00:00",
          "2014-03-31T00:00:00",
          "2014-04-04T00:00:00",
          "2014-04-05T00:00:00",
          "2014-04-06T00:00:00",
          "2014-04-08T00:00:00",
          "2014-04-09T00:00:00",
          "2014-04-10T00:00:00",
          "2014-04-12T00:00:00",
          "2014-04-15T00:00:00",
          "2014-04-17T00:00:00",
          "2014-04-18T00:00:00",
          "2014-04-21T00:00:00",
          "2014-04-23T00:00:00",
          "2014-04-25T00:00:00",
          "2014-04-26T00:00:00",
          "2014-04-30T00:00:00",
          "2014-05-03T00:00:00",
          "2014-05-10T00:00:00",
          "2014-05-11T00:00:00",
          "2014-05-15T00:00:00",
          "2014-05-17T00:00:00",
          "2014-05-19T00:00:00",
          "2014-05-20T00:00:00",
          "2014-05-23T00:00:00",
          "2014-05-25T00:00:00",
          "2014-05-27T00:00:00",
          "2014-05-30T00:00:00",
          "2014-06-01T00:00:00",
          "2014-06-14T00:00:00",
          "2014-06-16T00:00:00",
          "2014-06-17T00:00:00",
          "2014-06-23T00:00:00",
          "2014-06-28T00:00:00",
          "2014-07-03T00:00:00",
          "2014-07-11T00:00:00",
          "2014-07-12T00:00:00",
          "2014-07-13T00:00:00",
          "2014-07-14T00:00:00",
          "2014-07-16T00:00:00",
          "2014-07-17T00:00:00",
          "2014-07-22T00:00:00",
          "2014-07-23T00:00:00",
          "2014-07-24T00:00:00",
          "2014-07-25T00:00:00",
          "2014-07-27T00:00:00",
          "2014-07-28T00:00:00",
          "2014-07-29T00:00:00",
          "2014-07-30T00:00:00",
          "2014-08-03T00:00:00",
          "2014-08-09T00:00:00",
          "2014-08-11T00:00:00",
          "2014-08-14T00:00:00",
          "2014-08-15T00:00:00",
          "2014-08-16T00:00:00",
          "2014-08-19T00:00:00",
          "2014-08-21T00:00:00",
          "2014-08-27T00:00:00",
          "2014-08-29T00:00:00",
          "2014-08-30T00:00:00",
          "2014-09-01T00:00:00",
          "2014-09-05T00:00:00",
          "2014-09-09T00:00:00",
          "2014-09-12T00:00:00",
          "2014-09-13T00:00:00",
          "2014-09-14T00:00:00",
          "2014-09-16T00:00:00",
          "2014-09-19T00:00:00",
          "2014-09-21T00:00:00",
          "2014-09-24T00:00:00",
          "2014-09-25T00:00:00",
          "2014-09-26T00:00:00",
          "2014-09-27T00:00:00",
          "2014-09-28T00:00:00",
          "2014-09-29T00:00:00",
          "2014-10-01T00:00:00",
          "2014-10-03T00:00:00",
          "2014-10-06T00:00:00",
          "2014-10-08T00:00:00",
          "2014-10-10T00:00:00",
          "2014-10-13T00:00:00",
          "2014-10-14T00:00:00",
          "2014-10-15T00:00:00",
          "2014-10-16T00:00:00",
          "2014-10-17T00:00:00",
          "2014-10-19T00:00:00",
          "2014-10-22T00:00:00",
          "2014-10-24T00:00:00",
          "2014-10-26T00:00:00",
          "2014-10-28T00:00:00",
          "2014-10-29T00:00:00",
          "2014-10-31T00:00:00",
          "2014-11-02T00:00:00",
          "2014-11-03T00:00:00",
          "2014-11-04T00:00:00",
          "2014-11-06T00:00:00",
          "2014-11-08T00:00:00",
          "2014-11-10T00:00:00",
          "2014-11-11T00:00:00",
          "2014-11-12T00:00:00",
          "2014-11-13T00:00:00",
          "2014-11-14T00:00:00",
          "2014-11-16T00:00:00",
          "2014-11-17T00:00:00",
          "2014-11-18T00:00:00",
          "2014-11-19T00:00:00",
          "2014-11-22T00:00:00",
          "2014-11-25T00:00:00",
          "2014-11-26T00:00:00",
          "2014-11-27T00:00:00",
          "2014-11-28T00:00:00",
          "2014-11-29T00:00:00",
          "2014-12-01T00:00:00",
          "2014-12-05T00:00:00",
          "2014-12-06T00:00:00",
          "2014-12-07T00:00:00",
          "2014-12-08T00:00:00",
          "2014-12-10T00:00:00",
          "2014-12-14T00:00:00",
          "2014-12-15T00:00:00",
          "2014-12-16T00:00:00",
          "2014-12-17T00:00:00",
          "2014-12-19T00:00:00",
          "2014-12-21T00:00:00",
          "2014-12-23T00:00:00",
          "2014-12-26T00:00:00",
          "2014-12-27T00:00:00",
          "2014-12-29T00:00:00",
          "2014-12-30T00:00:00",
          "2014-12-31T00:00:00"
         ],
         "type": "scatter",
         "x": [
          "2014-01-08T00:00:00",
          "2014-01-18T00:00:00",
          "2014-01-25T00:00:00",
          "2014-02-02T00:00:00",
          "2014-02-06T00:00:00",
          "2014-02-08T00:00:00",
          "2014-02-18T00:00:00",
          "2014-02-24T00:00:00",
          "2014-03-07T00:00:00",
          "2014-03-15T00:00:00",
          "2014-03-18T00:00:00",
          "2014-03-21T00:00:00",
          "2014-03-24T00:00:00",
          "2014-03-26T00:00:00",
          "2014-03-29T00:00:00",
          "2014-03-30T00:00:00",
          "2014-03-31T00:00:00",
          "2014-04-04T00:00:00",
          "2014-04-05T00:00:00",
          "2014-04-06T00:00:00",
          "2014-04-08T00:00:00",
          "2014-04-09T00:00:00",
          "2014-04-10T00:00:00",
          "2014-04-12T00:00:00",
          "2014-04-15T00:00:00",
          "2014-04-17T00:00:00",
          "2014-04-18T00:00:00",
          "2014-04-21T00:00:00",
          "2014-04-23T00:00:00",
          "2014-04-25T00:00:00",
          "2014-04-26T00:00:00",
          "2014-04-30T00:00:00",
          "2014-05-03T00:00:00",
          "2014-05-10T00:00:00",
          "2014-05-11T00:00:00",
          "2014-05-15T00:00:00",
          "2014-05-17T00:00:00",
          "2014-05-19T00:00:00",
          "2014-05-20T00:00:00",
          "2014-05-23T00:00:00",
          "2014-05-25T00:00:00",
          "2014-05-27T00:00:00",
          "2014-05-30T00:00:00",
          "2014-06-01T00:00:00",
          "2014-06-14T00:00:00",
          "2014-06-16T00:00:00",
          "2014-06-17T00:00:00",
          "2014-06-23T00:00:00",
          "2014-06-28T00:00:00",
          "2014-07-03T00:00:00",
          "2014-07-11T00:00:00",
          "2014-07-12T00:00:00",
          "2014-07-13T00:00:00",
          "2014-07-14T00:00:00",
          "2014-07-16T00:00:00",
          "2014-07-17T00:00:00",
          "2014-07-22T00:00:00",
          "2014-07-23T00:00:00",
          "2014-07-24T00:00:00",
          "2014-07-25T00:00:00",
          "2014-07-27T00:00:00",
          "2014-07-28T00:00:00",
          "2014-07-29T00:00:00",
          "2014-07-30T00:00:00",
          "2014-08-03T00:00:00",
          "2014-08-09T00:00:00",
          "2014-08-11T00:00:00",
          "2014-08-14T00:00:00",
          "2014-08-15T00:00:00",
          "2014-08-16T00:00:00",
          "2014-08-19T00:00:00",
          "2014-08-21T00:00:00",
          "2014-08-27T00:00:00",
          "2014-08-29T00:00:00",
          "2014-08-30T00:00:00",
          "2014-09-01T00:00:00",
          "2014-09-05T00:00:00",
          "2014-09-09T00:00:00",
          "2014-09-12T00:00:00",
          "2014-09-13T00:00:00",
          "2014-09-14T00:00:00",
          "2014-09-16T00:00:00",
          "2014-09-19T00:00:00",
          "2014-09-21T00:00:00",
          "2014-09-24T00:00:00",
          "2014-09-25T00:00:00",
          "2014-09-26T00:00:00",
          "2014-09-27T00:00:00",
          "2014-09-28T00:00:00",
          "2014-09-29T00:00:00",
          "2014-10-01T00:00:00",
          "2014-10-03T00:00:00",
          "2014-10-06T00:00:00",
          "2014-10-08T00:00:00",
          "2014-10-10T00:00:00",
          "2014-10-13T00:00:00",
          "2014-10-14T00:00:00",
          "2014-10-15T00:00:00",
          "2014-10-16T00:00:00",
          "2014-10-17T00:00:00",
          "2014-10-19T00:00:00",
          "2014-10-22T00:00:00",
          "2014-10-24T00:00:00",
          "2014-10-26T00:00:00",
          "2014-10-28T00:00:00",
          "2014-10-29T00:00:00",
          "2014-10-31T00:00:00",
          "2014-11-02T00:00:00",
          "2014-11-03T00:00:00",
          "2014-11-04T00:00:00",
          "2014-11-06T00:00:00",
          "2014-11-08T00:00:00",
          "2014-11-10T00:00:00",
          "2014-11-11T00:00:00",
          "2014-11-12T00:00:00",
          "2014-11-13T00:00:00",
          "2014-11-14T00:00:00",
          "2014-11-16T00:00:00",
          "2014-11-17T00:00:00",
          "2014-11-18T00:00:00",
          "2014-11-19T00:00:00",
          "2014-11-22T00:00:00",
          "2014-11-25T00:00:00",
          "2014-11-26T00:00:00",
          "2014-11-27T00:00:00",
          "2014-11-28T00:00:00",
          "2014-11-29T00:00:00",
          "2014-12-01T00:00:00",
          "2014-12-05T00:00:00",
          "2014-12-06T00:00:00",
          "2014-12-07T00:00:00",
          "2014-12-08T00:00:00",
          "2014-12-10T00:00:00",
          "2014-12-14T00:00:00",
          "2014-12-15T00:00:00",
          "2014-12-16T00:00:00",
          "2014-12-17T00:00:00",
          "2014-12-19T00:00:00",
          "2014-12-21T00:00:00",
          "2014-12-23T00:00:00",
          "2014-12-26T00:00:00",
          "2014-12-27T00:00:00",
          "2014-12-29T00:00:00",
          "2014-12-30T00:00:00",
          "2014-12-31T00:00:00"
         ],
         "y": [
          19.44,
          1679.749,
          38.66,
          717.336,
          12.350000000000001,
          134.38400000000001,
          129.568,
          32.400000000000006,
          626.3520000000001,
          7.98,
          13.940000000000001,
          1198.33,
          3247.1580000000004,
          935.1519999999999,
          40.48,
          177.41000000000003,
          60.08,
          205.666,
          733.7320000000001,
          46.688,
          233.45,
          18.9,
          436.48799999999994,
          699.5419999999999,
          294.71999999999997,
          1840.0430000000001,
          39.68,
          76.14,
          323.458,
          76.44,
          48.91,
          3774.9700000000003,
          248.56800000000004,
          140.736,
          113.72,
          2005.5540000000003,
          149.97,
          287.456,
          56.400000000000006,
          232.88,
          31.84,
          926.44,
          801.53,
          1213.494,
          3714.304,
          30.46,
          14.52,
          139.8,
          447.84,
          32.400000000000006,
          180.96000000000004,
          1177.672,
          68.70400000000001,
          172.09699999999998,
          505.68600000000004,
          1057.2800000000002,
          289.036,
          602.43,
          1136.092,
          1173.6160000000002,
          9334.118,
          19.68,
          238,
          276.28,
          19.752000000000002,
          472.0440000000001,
          501.4,
          5.98,
          2049.816,
          912.656,
          505.282,
          358.696,
          49.568000000000005,
          299.42,
          176.8,
          244.76000000000002,
          53.94,
          100.36,
          181.82,
          8.608,
          75.64,
          127.94999999999999,
          5.67,
          182.94,
          15.72,
          451.28400000000005,
          95.832,
          604.9920000000001,
          730.113,
          211.96,
          831.468,
          968.3,
          99.98,
          375.882,
          146.722,
          465.48800000000006,
          160.592,
          7.64,
          36.29,
          194.322,
          13.440000000000001,
          306.112,
          321.552,
          36.36,
          49.408,
          34.272,
          1252.602,
          73.584,
          6.72,
          1007.936,
          409.30400000000003,
          101.14000000000001,
          20.04,
          3249.9300000000003,
          123.14399999999999,
          707.628,
          333.576,
          1448.71,
          10.95,
          1677.0205,
          1075.37,
          5.22,
          1037.19,
          440.782,
          371.52,
          460.092,
          1272.704,
          332.702,
          58.199999999999996,
          606.3199999999999,
          250.26,
          1426.21,
          99.22,
          4630.5105,
          240.28,
          34.68,
          1351.506,
          6.16,
          2236.058,
          694.5340000000001,
          25.73,
          1897.92,
          1896.304,
          26.95,
          107.346
         ]
        }
       ],
       "layout": {
        "height": 600,
        "template": {
         "data": {
          "bar": [
           {
            "error_x": {
             "color": "#2a3f5f"
            },
            "error_y": {
             "color": "#2a3f5f"
            },
            "marker": {
             "line": {
              "color": "#E5ECF6",
              "width": 0.5
             },
             "pattern": {
              "fillmode": "overlay",
              "size": 10,
              "solidity": 0.2
             }
            },
            "type": "bar"
           }
          ],
          "barpolar": [
           {
            "marker": {
             "line": {
              "color": "#E5ECF6",
              "width": 0.5
             },
             "pattern": {
              "fillmode": "overlay",
              "size": 10,
              "solidity": 0.2
             }
            },
            "type": "barpolar"
           }
          ],
          "carpet": [
           {
            "aaxis": {
             "endlinecolor": "#2a3f5f",
             "gridcolor": "white",
             "linecolor": "white",
             "minorgridcolor": "white",
             "startlinecolor": "#2a3f5f"
            },
            "baxis": {
             "endlinecolor": "#2a3f5f",
             "gridcolor": "white",
             "linecolor": "white",
             "minorgridcolor": "white",
             "startlinecolor": "#2a3f5f"
            },
            "type": "carpet"
           }
          ],
          "choropleth": [
           {
            "colorbar": {
             "outlinewidth": 0,
             "ticks": ""
            },
            "type": "choropleth"
           }
          ],
          "contour": [
           {
            "colorbar": {
             "outlinewidth": 0,
             "ticks": ""
            },
            "colorscale": [
             [
              0,
              "#0d0887"
             ],
             [
              0.1111111111111111,
              "#46039f"
             ],
             [
              0.2222222222222222,
              "#7201a8"
             ],
             [
              0.3333333333333333,
              "#9c179e"
             ],
             [
              0.4444444444444444,
              "#bd3786"
             ],
             [
              0.5555555555555556,
              "#d8576b"
             ],
             [
              0.6666666666666666,
              "#ed7953"
             ],
             [
              0.7777777777777778,
              "#fb9f3a"
             ],
             [
              0.8888888888888888,
              "#fdca26"
             ],
             [
              1,
              "#f0f921"
             ]
            ],
            "type": "contour"
           }
          ],
          "contourcarpet": [
           {
            "colorbar": {
             "outlinewidth": 0,
             "ticks": ""
            },
            "type": "contourcarpet"
           }
          ],
          "heatmap": [
           {
            "colorbar": {
             "outlinewidth": 0,
             "ticks": ""
            },
            "colorscale": [
             [
              0,
              "#0d0887"
             ],
             [
              0.1111111111111111,
              "#46039f"
             ],
             [
              0.2222222222222222,
              "#7201a8"
             ],
             [
              0.3333333333333333,
              "#9c179e"
             ],
             [
              0.4444444444444444,
              "#bd3786"
             ],
             [
              0.5555555555555556,
              "#d8576b"
             ],
             [
              0.6666666666666666,
              "#ed7953"
             ],
             [
              0.7777777777777778,
              "#fb9f3a"
             ],
             [
              0.8888888888888888,
              "#fdca26"
             ],
             [
              1,
              "#f0f921"
             ]
            ],
            "type": "heatmap"
           }
          ],
          "heatmapgl": [
           {
            "colorbar": {
             "outlinewidth": 0,
             "ticks": ""
            },
            "colorscale": [
             [
              0,
              "#0d0887"
             ],
             [
              0.1111111111111111,
              "#46039f"
             ],
             [
              0.2222222222222222,
              "#7201a8"
             ],
             [
              0.3333333333333333,
              "#9c179e"
             ],
             [
              0.4444444444444444,
              "#bd3786"
             ],
             [
              0.5555555555555556,
              "#d8576b"
             ],
             [
              0.6666666666666666,
              "#ed7953"
             ],
             [
              0.7777777777777778,
              "#fb9f3a"
             ],
             [
              0.8888888888888888,
              "#fdca26"
             ],
             [
              1,
              "#f0f921"
             ]
            ],
            "type": "heatmapgl"
           }
          ],
          "histogram": [
           {
            "marker": {
             "pattern": {
              "fillmode": "overlay",
              "size": 10,
              "solidity": 0.2
             }
            },
            "type": "histogram"
           }
          ],
          "histogram2d": [
           {
            "colorbar": {
             "outlinewidth": 0,
             "ticks": ""
            },
            "colorscale": [
             [
              0,
              "#0d0887"
             ],
             [
              0.1111111111111111,
              "#46039f"
             ],
             [
              0.2222222222222222,
              "#7201a8"
             ],
             [
              0.3333333333333333,
              "#9c179e"
             ],
             [
              0.4444444444444444,
              "#bd3786"
             ],
             [
              0.5555555555555556,
              "#d8576b"
             ],
             [
              0.6666666666666666,
              "#ed7953"
             ],
             [
              0.7777777777777778,
              "#fb9f3a"
             ],
             [
              0.8888888888888888,
              "#fdca26"
             ],
             [
              1,
              "#f0f921"
             ]
            ],
            "type": "histogram2d"
           }
          ],
          "histogram2dcontour": [
           {
            "colorbar": {
             "outlinewidth": 0,
             "ticks": ""
            },
            "colorscale": [
             [
              0,
              "#0d0887"
             ],
             [
              0.1111111111111111,
              "#46039f"
             ],
             [
              0.2222222222222222,
              "#7201a8"
             ],
             [
              0.3333333333333333,
              "#9c179e"
             ],
             [
              0.4444444444444444,
              "#bd3786"
             ],
             [
              0.5555555555555556,
              "#d8576b"
             ],
             [
              0.6666666666666666,
              "#ed7953"
             ],
             [
              0.7777777777777778,
              "#fb9f3a"
             ],
             [
              0.8888888888888888,
              "#fdca26"
             ],
             [
              1,
              "#f0f921"
             ]
            ],
            "type": "histogram2dcontour"
           }
          ],
          "mesh3d": [
           {
            "colorbar": {
             "outlinewidth": 0,
             "ticks": ""
            },
            "type": "mesh3d"
           }
          ],
          "parcoords": [
           {
            "line": {
             "colorbar": {
              "outlinewidth": 0,
              "ticks": ""
             }
            },
            "type": "parcoords"
           }
          ],
          "pie": [
           {
            "automargin": true,
            "type": "pie"
           }
          ],
          "scatter": [
           {
            "fillpattern": {
             "fillmode": "overlay",
             "size": 10,
             "solidity": 0.2
            },
            "type": "scatter"
           }
          ],
          "scatter3d": [
           {
            "line": {
             "colorbar": {
              "outlinewidth": 0,
              "ticks": ""
             }
            },
            "marker": {
             "colorbar": {
              "outlinewidth": 0,
              "ticks": ""
             }
            },
            "type": "scatter3d"
           }
          ],
          "scattercarpet": [
           {
            "marker": {
             "colorbar": {
              "outlinewidth": 0,
              "ticks": ""
             }
            },
            "type": "scattercarpet"
           }
          ],
          "scattergeo": [
           {
            "marker": {
             "colorbar": {
              "outlinewidth": 0,
              "ticks": ""
             }
            },
            "type": "scattergeo"
           }
          ],
          "scattergl": [
           {
            "marker": {
             "colorbar": {
              "outlinewidth": 0,
              "ticks": ""
             }
            },
            "type": "scattergl"
           }
          ],
          "scattermapbox": [
           {
            "marker": {
             "colorbar": {
              "outlinewidth": 0,
              "ticks": ""
             }
            },
            "type": "scattermapbox"
           }
          ],
          "scatterpolar": [
           {
            "marker": {
             "colorbar": {
              "outlinewidth": 0,
              "ticks": ""
             }
            },
            "type": "scatterpolar"
           }
          ],
          "scatterpolargl": [
           {
            "marker": {
             "colorbar": {
              "outlinewidth": 0,
              "ticks": ""
             }
            },
            "type": "scatterpolargl"
           }
          ],
          "scatterternary": [
           {
            "marker": {
             "colorbar": {
              "outlinewidth": 0,
              "ticks": ""
             }
            },
            "type": "scatterternary"
           }
          ],
          "surface": [
           {
            "colorbar": {
             "outlinewidth": 0,
             "ticks": ""
            },
            "colorscale": [
             [
              0,
              "#0d0887"
             ],
             [
              0.1111111111111111,
              "#46039f"
             ],
             [
              0.2222222222222222,
              "#7201a8"
             ],
             [
              0.3333333333333333,
              "#9c179e"
             ],
             [
              0.4444444444444444,
              "#bd3786"
             ],
             [
              0.5555555555555556,
              "#d8576b"
             ],
             [
              0.6666666666666666,
              "#ed7953"
             ],
             [
              0.7777777777777778,
              "#fb9f3a"
             ],
             [
              0.8888888888888888,
              "#fdca26"
             ],
             [
              1,
              "#f0f921"
             ]
            ],
            "type": "surface"
           }
          ],
          "table": [
           {
            "cells": {
             "fill": {
              "color": "#EBF0F8"
             },
             "line": {
              "color": "white"
             }
            },
            "header": {
             "fill": {
              "color": "#C8D4E3"
             },
             "line": {
              "color": "white"
             }
            },
            "type": "table"
           }
          ]
         },
         "layout": {
          "annotationdefaults": {
           "arrowcolor": "#2a3f5f",
           "arrowhead": 0,
           "arrowwidth": 1
          },
          "autotypenumbers": "strict",
          "coloraxis": {
           "colorbar": {
            "outlinewidth": 0,
            "ticks": ""
           }
          },
          "colorscale": {
           "diverging": [
            [
             0,
             "#8e0152"
            ],
            [
             0.1,
             "#c51b7d"
            ],
            [
             0.2,
             "#de77ae"
            ],
            [
             0.3,
             "#f1b6da"
            ],
            [
             0.4,
             "#fde0ef"
            ],
            [
             0.5,
             "#f7f7f7"
            ],
            [
             0.6,
             "#e6f5d0"
            ],
            [
             0.7,
             "#b8e186"
            ],
            [
             0.8,
             "#7fbc41"
            ],
            [
             0.9,
             "#4d9221"
            ],
            [
             1,
             "#276419"
            ]
           ],
           "sequential": [
            [
             0,
             "#0d0887"
            ],
            [
             0.1111111111111111,
             "#46039f"
            ],
            [
             0.2222222222222222,
             "#7201a8"
            ],
            [
             0.3333333333333333,
             "#9c179e"
            ],
            [
             0.4444444444444444,
             "#bd3786"
            ],
            [
             0.5555555555555556,
             "#d8576b"
            ],
            [
             0.6666666666666666,
             "#ed7953"
            ],
            [
             0.7777777777777778,
             "#fb9f3a"
            ],
            [
             0.8888888888888888,
             "#fdca26"
            ],
            [
             1,
             "#f0f921"
            ]
           ],
           "sequentialminus": [
            [
             0,
             "#0d0887"
            ],
            [
             0.1111111111111111,
             "#46039f"
            ],
            [
             0.2222222222222222,
             "#7201a8"
            ],
            [
             0.3333333333333333,
             "#9c179e"
            ],
            [
             0.4444444444444444,
             "#bd3786"
            ],
            [
             0.5555555555555556,
             "#d8576b"
            ],
            [
             0.6666666666666666,
             "#ed7953"
            ],
            [
             0.7777777777777778,
             "#fb9f3a"
            ],
            [
             0.8888888888888888,
             "#fdca26"
            ],
            [
             1,
             "#f0f921"
            ]
           ]
          },
          "colorway": [
           "#636efa",
           "#EF553B",
           "#00cc96",
           "#ab63fa",
           "#FFA15A",
           "#19d3f3",
           "#FF6692",
           "#B6E880",
           "#FF97FF",
           "#FECB52"
          ],
          "font": {
           "color": "#2a3f5f"
          },
          "geo": {
           "bgcolor": "white",
           "lakecolor": "white",
           "landcolor": "#E5ECF6",
           "showlakes": true,
           "showland": true,
           "subunitcolor": "white"
          },
          "hoverlabel": {
           "align": "left"
          },
          "hovermode": "closest",
          "mapbox": {
           "style": "light"
          },
          "paper_bgcolor": "white",
          "plot_bgcolor": "#E5ECF6",
          "polar": {
           "angularaxis": {
            "gridcolor": "white",
            "linecolor": "white",
            "ticks": ""
           },
           "bgcolor": "#E5ECF6",
           "radialaxis": {
            "gridcolor": "white",
            "linecolor": "white",
            "ticks": ""
           }
          },
          "scene": {
           "xaxis": {
            "backgroundcolor": "#E5ECF6",
            "gridcolor": "white",
            "gridwidth": 2,
            "linecolor": "white",
            "showbackground": true,
            "ticks": "",
            "zerolinecolor": "white"
           },
           "yaxis": {
            "backgroundcolor": "#E5ECF6",
            "gridcolor": "white",
            "gridwidth": 2,
            "linecolor": "white",
            "showbackground": true,
            "ticks": "",
            "zerolinecolor": "white"
           },
           "zaxis": {
            "backgroundcolor": "#E5ECF6",
            "gridcolor": "white",
            "gridwidth": 2,
            "linecolor": "white",
            "showbackground": true,
            "ticks": "",
            "zerolinecolor": "white"
           }
          },
          "shapedefaults": {
           "line": {
            "color": "#2a3f5f"
           }
          },
          "ternary": {
           "aaxis": {
            "gridcolor": "white",
            "linecolor": "white",
            "ticks": ""
           },
           "baxis": {
            "gridcolor": "white",
            "linecolor": "white",
            "ticks": ""
           },
           "bgcolor": "#E5ECF6",
           "caxis": {
            "gridcolor": "white",
            "linecolor": "white",
            "ticks": ""
           }
          },
          "title": {
           "x": 0.05
          },
          "xaxis": {
           "automargin": true,
           "gridcolor": "white",
           "linecolor": "white",
           "ticks": "",
           "title": {
            "standoff": 15
           },
           "zerolinecolor": "white",
           "zerolinewidth": 2
          },
          "yaxis": {
           "automargin": true,
           "gridcolor": "white",
           "linecolor": "white",
           "ticks": "",
           "title": {
            "standoff": 15
           },
           "zerolinecolor": "white",
           "zerolinewidth": 2
          }
         }
        },
        "title": {
         "text": "Ventas por día en California (2014)",
         "x": 0.5
        },
        "width": 1000,
        "xaxis": {
         "title": {
          "text": "Fecha"
         }
        },
        "yaxis": {
         "title": {
          "text": "Ventas totales"
         }
        }
       }
      },
      "text/html": [
       "<div>                            <div id=\"42ef4064-192d-4a2d-a980-7e68f9a3e03f\" class=\"plotly-graph-div\" style=\"height:600px; width:1000px;\"></div>            <script type=\"text/javascript\">                require([\"plotly\"], function(Plotly) {                    window.PLOTLYENV=window.PLOTLYENV || {};                                    if (document.getElementById(\"42ef4064-192d-4a2d-a980-7e68f9a3e03f\")) {                    Plotly.newPlot(                        \"42ef4064-192d-4a2d-a980-7e68f9a3e03f\",                        [{\"marker\":{\"color\":\"black\"},\"mode\":\"lines+markers\",\"text\":[\"2014-01-08T00:00:00\",\"2014-01-18T00:00:00\",\"2014-01-25T00:00:00\",\"2014-02-02T00:00:00\",\"2014-02-06T00:00:00\",\"2014-02-08T00:00:00\",\"2014-02-18T00:00:00\",\"2014-02-24T00:00:00\",\"2014-03-07T00:00:00\",\"2014-03-15T00:00:00\",\"2014-03-18T00:00:00\",\"2014-03-21T00:00:00\",\"2014-03-24T00:00:00\",\"2014-03-26T00:00:00\",\"2014-03-29T00:00:00\",\"2014-03-30T00:00:00\",\"2014-03-31T00:00:00\",\"2014-04-04T00:00:00\",\"2014-04-05T00:00:00\",\"2014-04-06T00:00:00\",\"2014-04-08T00:00:00\",\"2014-04-09T00:00:00\",\"2014-04-10T00:00:00\",\"2014-04-12T00:00:00\",\"2014-04-15T00:00:00\",\"2014-04-17T00:00:00\",\"2014-04-18T00:00:00\",\"2014-04-21T00:00:00\",\"2014-04-23T00:00:00\",\"2014-04-25T00:00:00\",\"2014-04-26T00:00:00\",\"2014-04-30T00:00:00\",\"2014-05-03T00:00:00\",\"2014-05-10T00:00:00\",\"2014-05-11T00:00:00\",\"2014-05-15T00:00:00\",\"2014-05-17T00:00:00\",\"2014-05-19T00:00:00\",\"2014-05-20T00:00:00\",\"2014-05-23T00:00:00\",\"2014-05-25T00:00:00\",\"2014-05-27T00:00:00\",\"2014-05-30T00:00:00\",\"2014-06-01T00:00:00\",\"2014-06-14T00:00:00\",\"2014-06-16T00:00:00\",\"2014-06-17T00:00:00\",\"2014-06-23T00:00:00\",\"2014-06-28T00:00:00\",\"2014-07-03T00:00:00\",\"2014-07-11T00:00:00\",\"2014-07-12T00:00:00\",\"2014-07-13T00:00:00\",\"2014-07-14T00:00:00\",\"2014-07-16T00:00:00\",\"2014-07-17T00:00:00\",\"2014-07-22T00:00:00\",\"2014-07-23T00:00:00\",\"2014-07-24T00:00:00\",\"2014-07-25T00:00:00\",\"2014-07-27T00:00:00\",\"2014-07-28T00:00:00\",\"2014-07-29T00:00:00\",\"2014-07-30T00:00:00\",\"2014-08-03T00:00:00\",\"2014-08-09T00:00:00\",\"2014-08-11T00:00:00\",\"2014-08-14T00:00:00\",\"2014-08-15T00:00:00\",\"2014-08-16T00:00:00\",\"2014-08-19T00:00:00\",\"2014-08-21T00:00:00\",\"2014-08-27T00:00:00\",\"2014-08-29T00:00:00\",\"2014-08-30T00:00:00\",\"2014-09-01T00:00:00\",\"2014-09-05T00:00:00\",\"2014-09-09T00:00:00\",\"2014-09-12T00:00:00\",\"2014-09-13T00:00:00\",\"2014-09-14T00:00:00\",\"2014-09-16T00:00:00\",\"2014-09-19T00:00:00\",\"2014-09-21T00:00:00\",\"2014-09-24T00:00:00\",\"2014-09-25T00:00:00\",\"2014-09-26T00:00:00\",\"2014-09-27T00:00:00\",\"2014-09-28T00:00:00\",\"2014-09-29T00:00:00\",\"2014-10-01T00:00:00\",\"2014-10-03T00:00:00\",\"2014-10-06T00:00:00\",\"2014-10-08T00:00:00\",\"2014-10-10T00:00:00\",\"2014-10-13T00:00:00\",\"2014-10-14T00:00:00\",\"2014-10-15T00:00:00\",\"2014-10-16T00:00:00\",\"2014-10-17T00:00:00\",\"2014-10-19T00:00:00\",\"2014-10-22T00:00:00\",\"2014-10-24T00:00:00\",\"2014-10-26T00:00:00\",\"2014-10-28T00:00:00\",\"2014-10-29T00:00:00\",\"2014-10-31T00:00:00\",\"2014-11-02T00:00:00\",\"2014-11-03T00:00:00\",\"2014-11-04T00:00:00\",\"2014-11-06T00:00:00\",\"2014-11-08T00:00:00\",\"2014-11-10T00:00:00\",\"2014-11-11T00:00:00\",\"2014-11-12T00:00:00\",\"2014-11-13T00:00:00\",\"2014-11-14T00:00:00\",\"2014-11-16T00:00:00\",\"2014-11-17T00:00:00\",\"2014-11-18T00:00:00\",\"2014-11-19T00:00:00\",\"2014-11-22T00:00:00\",\"2014-11-25T00:00:00\",\"2014-11-26T00:00:00\",\"2014-11-27T00:00:00\",\"2014-11-28T00:00:00\",\"2014-11-29T00:00:00\",\"2014-12-01T00:00:00\",\"2014-12-05T00:00:00\",\"2014-12-06T00:00:00\",\"2014-12-07T00:00:00\",\"2014-12-08T00:00:00\",\"2014-12-10T00:00:00\",\"2014-12-14T00:00:00\",\"2014-12-15T00:00:00\",\"2014-12-16T00:00:00\",\"2014-12-17T00:00:00\",\"2014-12-19T00:00:00\",\"2014-12-21T00:00:00\",\"2014-12-23T00:00:00\",\"2014-12-26T00:00:00\",\"2014-12-27T00:00:00\",\"2014-12-29T00:00:00\",\"2014-12-30T00:00:00\",\"2014-12-31T00:00:00\"],\"x\":[\"2014-01-08T00:00:00\",\"2014-01-18T00:00:00\",\"2014-01-25T00:00:00\",\"2014-02-02T00:00:00\",\"2014-02-06T00:00:00\",\"2014-02-08T00:00:00\",\"2014-02-18T00:00:00\",\"2014-02-24T00:00:00\",\"2014-03-07T00:00:00\",\"2014-03-15T00:00:00\",\"2014-03-18T00:00:00\",\"2014-03-21T00:00:00\",\"2014-03-24T00:00:00\",\"2014-03-26T00:00:00\",\"2014-03-29T00:00:00\",\"2014-03-30T00:00:00\",\"2014-03-31T00:00:00\",\"2014-04-04T00:00:00\",\"2014-04-05T00:00:00\",\"2014-04-06T00:00:00\",\"2014-04-08T00:00:00\",\"2014-04-09T00:00:00\",\"2014-04-10T00:00:00\",\"2014-04-12T00:00:00\",\"2014-04-15T00:00:00\",\"2014-04-17T00:00:00\",\"2014-04-18T00:00:00\",\"2014-04-21T00:00:00\",\"2014-04-23T00:00:00\",\"2014-04-25T00:00:00\",\"2014-04-26T00:00:00\",\"2014-04-30T00:00:00\",\"2014-05-03T00:00:00\",\"2014-05-10T00:00:00\",\"2014-05-11T00:00:00\",\"2014-05-15T00:00:00\",\"2014-05-17T00:00:00\",\"2014-05-19T00:00:00\",\"2014-05-20T00:00:00\",\"2014-05-23T00:00:00\",\"2014-05-25T00:00:00\",\"2014-05-27T00:00:00\",\"2014-05-30T00:00:00\",\"2014-06-01T00:00:00\",\"2014-06-14T00:00:00\",\"2014-06-16T00:00:00\",\"2014-06-17T00:00:00\",\"2014-06-23T00:00:00\",\"2014-06-28T00:00:00\",\"2014-07-03T00:00:00\",\"2014-07-11T00:00:00\",\"2014-07-12T00:00:00\",\"2014-07-13T00:00:00\",\"2014-07-14T00:00:00\",\"2014-07-16T00:00:00\",\"2014-07-17T00:00:00\",\"2014-07-22T00:00:00\",\"2014-07-23T00:00:00\",\"2014-07-24T00:00:00\",\"2014-07-25T00:00:00\",\"2014-07-27T00:00:00\",\"2014-07-28T00:00:00\",\"2014-07-29T00:00:00\",\"2014-07-30T00:00:00\",\"2014-08-03T00:00:00\",\"2014-08-09T00:00:00\",\"2014-08-11T00:00:00\",\"2014-08-14T00:00:00\",\"2014-08-15T00:00:00\",\"2014-08-16T00:00:00\",\"2014-08-19T00:00:00\",\"2014-08-21T00:00:00\",\"2014-08-27T00:00:00\",\"2014-08-29T00:00:00\",\"2014-08-30T00:00:00\",\"2014-09-01T00:00:00\",\"2014-09-05T00:00:00\",\"2014-09-09T00:00:00\",\"2014-09-12T00:00:00\",\"2014-09-13T00:00:00\",\"2014-09-14T00:00:00\",\"2014-09-16T00:00:00\",\"2014-09-19T00:00:00\",\"2014-09-21T00:00:00\",\"2014-09-24T00:00:00\",\"2014-09-25T00:00:00\",\"2014-09-26T00:00:00\",\"2014-09-27T00:00:00\",\"2014-09-28T00:00:00\",\"2014-09-29T00:00:00\",\"2014-10-01T00:00:00\",\"2014-10-03T00:00:00\",\"2014-10-06T00:00:00\",\"2014-10-08T00:00:00\",\"2014-10-10T00:00:00\",\"2014-10-13T00:00:00\",\"2014-10-14T00:00:00\",\"2014-10-15T00:00:00\",\"2014-10-16T00:00:00\",\"2014-10-17T00:00:00\",\"2014-10-19T00:00:00\",\"2014-10-22T00:00:00\",\"2014-10-24T00:00:00\",\"2014-10-26T00:00:00\",\"2014-10-28T00:00:00\",\"2014-10-29T00:00:00\",\"2014-10-31T00:00:00\",\"2014-11-02T00:00:00\",\"2014-11-03T00:00:00\",\"2014-11-04T00:00:00\",\"2014-11-06T00:00:00\",\"2014-11-08T00:00:00\",\"2014-11-10T00:00:00\",\"2014-11-11T00:00:00\",\"2014-11-12T00:00:00\",\"2014-11-13T00:00:00\",\"2014-11-14T00:00:00\",\"2014-11-16T00:00:00\",\"2014-11-17T00:00:00\",\"2014-11-18T00:00:00\",\"2014-11-19T00:00:00\",\"2014-11-22T00:00:00\",\"2014-11-25T00:00:00\",\"2014-11-26T00:00:00\",\"2014-11-27T00:00:00\",\"2014-11-28T00:00:00\",\"2014-11-29T00:00:00\",\"2014-12-01T00:00:00\",\"2014-12-05T00:00:00\",\"2014-12-06T00:00:00\",\"2014-12-07T00:00:00\",\"2014-12-08T00:00:00\",\"2014-12-10T00:00:00\",\"2014-12-14T00:00:00\",\"2014-12-15T00:00:00\",\"2014-12-16T00:00:00\",\"2014-12-17T00:00:00\",\"2014-12-19T00:00:00\",\"2014-12-21T00:00:00\",\"2014-12-23T00:00:00\",\"2014-12-26T00:00:00\",\"2014-12-27T00:00:00\",\"2014-12-29T00:00:00\",\"2014-12-30T00:00:00\",\"2014-12-31T00:00:00\"],\"y\":[19.44,1679.749,38.66,717.336,12.350000000000001,134.38400000000001,129.568,32.400000000000006,626.3520000000001,7.98,13.940000000000001,1198.33,3247.1580000000004,935.1519999999999,40.48,177.41000000000003,60.08,205.666,733.7320000000001,46.688,233.45,18.9,436.48799999999994,699.5419999999999,294.71999999999997,1840.0430000000001,39.68,76.14,323.458,76.44,48.91,3774.9700000000003,248.56800000000004,140.736,113.72,2005.5540000000003,149.97,287.456,56.400000000000006,232.88,31.84,926.44,801.53,1213.494,3714.304,30.46,14.52,139.8,447.84,32.400000000000006,180.96000000000004,1177.672,68.70400000000001,172.09699999999998,505.68600000000004,1057.2800000000002,289.036,602.43,1136.092,1173.6160000000002,9334.118,19.68,238.0,276.28,19.752000000000002,472.0440000000001,501.4,5.98,2049.816,912.656,505.282,358.696,49.568000000000005,299.42,176.8,244.76000000000002,53.94,100.36,181.82,8.608,75.64,127.94999999999999,5.67,182.94,15.72,451.28400000000005,95.832,604.9920000000001,730.113,211.96,831.468,968.3,99.98,375.882,146.722,465.48800000000006,160.592,7.64,36.29,194.322,13.440000000000001,306.112,321.552,36.36,49.408,34.272,1252.602,73.584,6.72,1007.936,409.30400000000003,101.14000000000001,20.04,3249.9300000000003,123.14399999999999,707.628,333.576,1448.71,10.95,1677.0205,1075.37,5.22,1037.19,440.782,371.52,460.092,1272.704,332.702,58.199999999999996,606.3199999999999,250.26,1426.21,99.22,4630.5105,240.28,34.68,1351.506,6.16,2236.058,694.5340000000001,25.73,1897.92,1896.304,26.95,107.346],\"type\":\"scatter\"}],                        {\"height\":600,\"template\":{\"data\":{\"barpolar\":[{\"marker\":{\"line\":{\"color\":\"#E5ECF6\",\"width\":0.5},\"pattern\":{\"fillmode\":\"overlay\",\"size\":10,\"solidity\":0.2}},\"type\":\"barpolar\"}],\"bar\":[{\"error_x\":{\"color\":\"#2a3f5f\"},\"error_y\":{\"color\":\"#2a3f5f\"},\"marker\":{\"line\":{\"color\":\"#E5ECF6\",\"width\":0.5},\"pattern\":{\"fillmode\":\"overlay\",\"size\":10,\"solidity\":0.2}},\"type\":\"bar\"}],\"carpet\":[{\"aaxis\":{\"endlinecolor\":\"#2a3f5f\",\"gridcolor\":\"white\",\"linecolor\":\"white\",\"minorgridcolor\":\"white\",\"startlinecolor\":\"#2a3f5f\"},\"baxis\":{\"endlinecolor\":\"#2a3f5f\",\"gridcolor\":\"white\",\"linecolor\":\"white\",\"minorgridcolor\":\"white\",\"startlinecolor\":\"#2a3f5f\"},\"type\":\"carpet\"}],\"choropleth\":[{\"colorbar\":{\"outlinewidth\":0,\"ticks\":\"\"},\"type\":\"choropleth\"}],\"contourcarpet\":[{\"colorbar\":{\"outlinewidth\":0,\"ticks\":\"\"},\"type\":\"contourcarpet\"}],\"contour\":[{\"colorbar\":{\"outlinewidth\":0,\"ticks\":\"\"},\"colorscale\":[[0.0,\"#0d0887\"],[0.1111111111111111,\"#46039f\"],[0.2222222222222222,\"#7201a8\"],[0.3333333333333333,\"#9c179e\"],[0.4444444444444444,\"#bd3786\"],[0.5555555555555556,\"#d8576b\"],[0.6666666666666666,\"#ed7953\"],[0.7777777777777778,\"#fb9f3a\"],[0.8888888888888888,\"#fdca26\"],[1.0,\"#f0f921\"]],\"type\":\"contour\"}],\"heatmapgl\":[{\"colorbar\":{\"outlinewidth\":0,\"ticks\":\"\"},\"colorscale\":[[0.0,\"#0d0887\"],[0.1111111111111111,\"#46039f\"],[0.2222222222222222,\"#7201a8\"],[0.3333333333333333,\"#9c179e\"],[0.4444444444444444,\"#bd3786\"],[0.5555555555555556,\"#d8576b\"],[0.6666666666666666,\"#ed7953\"],[0.7777777777777778,\"#fb9f3a\"],[0.8888888888888888,\"#fdca26\"],[1.0,\"#f0f921\"]],\"type\":\"heatmapgl\"}],\"heatmap\":[{\"colorbar\":{\"outlinewidth\":0,\"ticks\":\"\"},\"colorscale\":[[0.0,\"#0d0887\"],[0.1111111111111111,\"#46039f\"],[0.2222222222222222,\"#7201a8\"],[0.3333333333333333,\"#9c179e\"],[0.4444444444444444,\"#bd3786\"],[0.5555555555555556,\"#d8576b\"],[0.6666666666666666,\"#ed7953\"],[0.7777777777777778,\"#fb9f3a\"],[0.8888888888888888,\"#fdca26\"],[1.0,\"#f0f921\"]],\"type\":\"heatmap\"}],\"histogram2dcontour\":[{\"colorbar\":{\"outlinewidth\":0,\"ticks\":\"\"},\"colorscale\":[[0.0,\"#0d0887\"],[0.1111111111111111,\"#46039f\"],[0.2222222222222222,\"#7201a8\"],[0.3333333333333333,\"#9c179e\"],[0.4444444444444444,\"#bd3786\"],[0.5555555555555556,\"#d8576b\"],[0.6666666666666666,\"#ed7953\"],[0.7777777777777778,\"#fb9f3a\"],[0.8888888888888888,\"#fdca26\"],[1.0,\"#f0f921\"]],\"type\":\"histogram2dcontour\"}],\"histogram2d\":[{\"colorbar\":{\"outlinewidth\":0,\"ticks\":\"\"},\"colorscale\":[[0.0,\"#0d0887\"],[0.1111111111111111,\"#46039f\"],[0.2222222222222222,\"#7201a8\"],[0.3333333333333333,\"#9c179e\"],[0.4444444444444444,\"#bd3786\"],[0.5555555555555556,\"#d8576b\"],[0.6666666666666666,\"#ed7953\"],[0.7777777777777778,\"#fb9f3a\"],[0.8888888888888888,\"#fdca26\"],[1.0,\"#f0f921\"]],\"type\":\"histogram2d\"}],\"histogram\":[{\"marker\":{\"pattern\":{\"fillmode\":\"overlay\",\"size\":10,\"solidity\":0.2}},\"type\":\"histogram\"}],\"mesh3d\":[{\"colorbar\":{\"outlinewidth\":0,\"ticks\":\"\"},\"type\":\"mesh3d\"}],\"parcoords\":[{\"line\":{\"colorbar\":{\"outlinewidth\":0,\"ticks\":\"\"}},\"type\":\"parcoords\"}],\"pie\":[{\"automargin\":true,\"type\":\"pie\"}],\"scatter3d\":[{\"line\":{\"colorbar\":{\"outlinewidth\":0,\"ticks\":\"\"}},\"marker\":{\"colorbar\":{\"outlinewidth\":0,\"ticks\":\"\"}},\"type\":\"scatter3d\"}],\"scattercarpet\":[{\"marker\":{\"colorbar\":{\"outlinewidth\":0,\"ticks\":\"\"}},\"type\":\"scattercarpet\"}],\"scattergeo\":[{\"marker\":{\"colorbar\":{\"outlinewidth\":0,\"ticks\":\"\"}},\"type\":\"scattergeo\"}],\"scattergl\":[{\"marker\":{\"colorbar\":{\"outlinewidth\":0,\"ticks\":\"\"}},\"type\":\"scattergl\"}],\"scattermapbox\":[{\"marker\":{\"colorbar\":{\"outlinewidth\":0,\"ticks\":\"\"}},\"type\":\"scattermapbox\"}],\"scatterpolargl\":[{\"marker\":{\"colorbar\":{\"outlinewidth\":0,\"ticks\":\"\"}},\"type\":\"scatterpolargl\"}],\"scatterpolar\":[{\"marker\":{\"colorbar\":{\"outlinewidth\":0,\"ticks\":\"\"}},\"type\":\"scatterpolar\"}],\"scatter\":[{\"fillpattern\":{\"fillmode\":\"overlay\",\"size\":10,\"solidity\":0.2},\"type\":\"scatter\"}],\"scatterternary\":[{\"marker\":{\"colorbar\":{\"outlinewidth\":0,\"ticks\":\"\"}},\"type\":\"scatterternary\"}],\"surface\":[{\"colorbar\":{\"outlinewidth\":0,\"ticks\":\"\"},\"colorscale\":[[0.0,\"#0d0887\"],[0.1111111111111111,\"#46039f\"],[0.2222222222222222,\"#7201a8\"],[0.3333333333333333,\"#9c179e\"],[0.4444444444444444,\"#bd3786\"],[0.5555555555555556,\"#d8576b\"],[0.6666666666666666,\"#ed7953\"],[0.7777777777777778,\"#fb9f3a\"],[0.8888888888888888,\"#fdca26\"],[1.0,\"#f0f921\"]],\"type\":\"surface\"}],\"table\":[{\"cells\":{\"fill\":{\"color\":\"#EBF0F8\"},\"line\":{\"color\":\"white\"}},\"header\":{\"fill\":{\"color\":\"#C8D4E3\"},\"line\":{\"color\":\"white\"}},\"type\":\"table\"}]},\"layout\":{\"annotationdefaults\":{\"arrowcolor\":\"#2a3f5f\",\"arrowhead\":0,\"arrowwidth\":1},\"autotypenumbers\":\"strict\",\"coloraxis\":{\"colorbar\":{\"outlinewidth\":0,\"ticks\":\"\"}},\"colorscale\":{\"diverging\":[[0,\"#8e0152\"],[0.1,\"#c51b7d\"],[0.2,\"#de77ae\"],[0.3,\"#f1b6da\"],[0.4,\"#fde0ef\"],[0.5,\"#f7f7f7\"],[0.6,\"#e6f5d0\"],[0.7,\"#b8e186\"],[0.8,\"#7fbc41\"],[0.9,\"#4d9221\"],[1,\"#276419\"]],\"sequential\":[[0.0,\"#0d0887\"],[0.1111111111111111,\"#46039f\"],[0.2222222222222222,\"#7201a8\"],[0.3333333333333333,\"#9c179e\"],[0.4444444444444444,\"#bd3786\"],[0.5555555555555556,\"#d8576b\"],[0.6666666666666666,\"#ed7953\"],[0.7777777777777778,\"#fb9f3a\"],[0.8888888888888888,\"#fdca26\"],[1.0,\"#f0f921\"]],\"sequentialminus\":[[0.0,\"#0d0887\"],[0.1111111111111111,\"#46039f\"],[0.2222222222222222,\"#7201a8\"],[0.3333333333333333,\"#9c179e\"],[0.4444444444444444,\"#bd3786\"],[0.5555555555555556,\"#d8576b\"],[0.6666666666666666,\"#ed7953\"],[0.7777777777777778,\"#fb9f3a\"],[0.8888888888888888,\"#fdca26\"],[1.0,\"#f0f921\"]]},\"colorway\":[\"#636efa\",\"#EF553B\",\"#00cc96\",\"#ab63fa\",\"#FFA15A\",\"#19d3f3\",\"#FF6692\",\"#B6E880\",\"#FF97FF\",\"#FECB52\"],\"font\":{\"color\":\"#2a3f5f\"},\"geo\":{\"bgcolor\":\"white\",\"lakecolor\":\"white\",\"landcolor\":\"#E5ECF6\",\"showlakes\":true,\"showland\":true,\"subunitcolor\":\"white\"},\"hoverlabel\":{\"align\":\"left\"},\"hovermode\":\"closest\",\"mapbox\":{\"style\":\"light\"},\"paper_bgcolor\":\"white\",\"plot_bgcolor\":\"#E5ECF6\",\"polar\":{\"angularaxis\":{\"gridcolor\":\"white\",\"linecolor\":\"white\",\"ticks\":\"\"},\"bgcolor\":\"#E5ECF6\",\"radialaxis\":{\"gridcolor\":\"white\",\"linecolor\":\"white\",\"ticks\":\"\"}},\"scene\":{\"xaxis\":{\"backgroundcolor\":\"#E5ECF6\",\"gridcolor\":\"white\",\"gridwidth\":2,\"linecolor\":\"white\",\"showbackground\":true,\"ticks\":\"\",\"zerolinecolor\":\"white\"},\"yaxis\":{\"backgroundcolor\":\"#E5ECF6\",\"gridcolor\":\"white\",\"gridwidth\":2,\"linecolor\":\"white\",\"showbackground\":true,\"ticks\":\"\",\"zerolinecolor\":\"white\"},\"zaxis\":{\"backgroundcolor\":\"#E5ECF6\",\"gridcolor\":\"white\",\"gridwidth\":2,\"linecolor\":\"white\",\"showbackground\":true,\"ticks\":\"\",\"zerolinecolor\":\"white\"}},\"shapedefaults\":{\"line\":{\"color\":\"#2a3f5f\"}},\"ternary\":{\"aaxis\":{\"gridcolor\":\"white\",\"linecolor\":\"white\",\"ticks\":\"\"},\"baxis\":{\"gridcolor\":\"white\",\"linecolor\":\"white\",\"ticks\":\"\"},\"bgcolor\":\"#E5ECF6\",\"caxis\":{\"gridcolor\":\"white\",\"linecolor\":\"white\",\"ticks\":\"\"}},\"title\":{\"x\":0.05},\"xaxis\":{\"automargin\":true,\"gridcolor\":\"white\",\"linecolor\":\"white\",\"ticks\":\"\",\"title\":{\"standoff\":15},\"zerolinecolor\":\"white\",\"zerolinewidth\":2},\"yaxis\":{\"automargin\":true,\"gridcolor\":\"white\",\"linecolor\":\"white\",\"ticks\":\"\",\"title\":{\"standoff\":15},\"zerolinecolor\":\"white\",\"zerolinewidth\":2}}},\"title\":{\"text\":\"Ventas por d\\u00eda en California (2014)\",\"x\":0.5},\"width\":1000,\"xaxis\":{\"title\":{\"text\":\"Fecha\"}},\"yaxis\":{\"title\":{\"text\":\"Ventas totales\"}}},                        {\"responsive\": true}                    ).then(function(){\n",
       "                            \n",
       "var gd = document.getElementById('42ef4064-192d-4a2d-a980-7e68f9a3e03f');\n",
       "var x = new MutationObserver(function (mutations, observer) {{\n",
       "        var display = window.getComputedStyle(gd).display;\n",
       "        if (!display || display === 'none') {{\n",
       "            console.log([gd, 'removed!']);\n",
       "            Plotly.purge(gd);\n",
       "            observer.disconnect();\n",
       "        }}\n",
       "}});\n",
       "\n",
       "// Listen for the removal of the full notebook cells\n",
       "var notebookContainer = gd.closest('#notebook-container');\n",
       "if (notebookContainer) {{\n",
       "    x.observe(notebookContainer, {childList: true});\n",
       "}}\n",
       "\n",
       "// Listen for the clearing of the current output cell\n",
       "var outputEl = gd.closest('.output');\n",
       "if (outputEl) {{\n",
       "    x.observe(outputEl, {childList: true});\n",
       "}}\n",
       "\n",
       "                        })                };                });            </script>        </div>"
      ]
     },
     "metadata": {},
     "output_type": "display_data"
    }
   ],
   "source": [
    "df_14=df[df['Ship Date'].dt.year==2014] #Voy a coger de 2014\n",
    "california_14=df_14[df_14['State']=='California']\n",
    "california_dias=california_14.groupby('Ship Date', as_index=False)['Sales'].sum()\n",
    "\n",
    "trace1=go.Scatter(\n",
    "                x=california_dias['Ship Date'],\n",
    "                y=california_dias['Sales'],\n",
    "                mode='lines+markers',\n",
    "                text=california_dias['Ship Date'],\n",
    "                marker=dict(color='black')\n",
    ")\n",
    "\n",
    "data=[trace1]\n",
    "layout=dict(title=dict(text='Ventas por día en California (2014)', x=0.5),\n",
    "            xaxis=dict(title='Fecha'),\n",
    "            yaxis=dict(title='Ventas totales'),\n",
    "            height=600,  # Ajustar la altura\n",
    "            width=1000  #anchura\n",
    "            )\n",
    "\n",
    "fig=go.Figure(data=data, layout=layout)\n",
    "iplot(fig)"
   ]
  },
  {
   "cell_type": "code",
   "execution_count": 38,
   "metadata": {},
   "outputs": [
    {
     "data": {
      "application/vnd.plotly.v1+json": {
       "config": {
        "linkText": "Export to plot.ly",
        "plotlyServerURL": "https://plot.ly",
        "showLink": false
       },
       "data": [
        {
         "marker": {
          "color": "blue"
         },
         "mode": "lines+markers",
         "text": [
          "2014-01-08T00:00:00",
          "2014-01-18T00:00:00",
          "2014-01-25T00:00:00",
          "2014-02-02T00:00:00",
          "2014-02-06T00:00:00",
          "2014-02-08T00:00:00",
          "2014-02-18T00:00:00",
          "2014-02-24T00:00:00",
          "2014-03-07T00:00:00",
          "2014-03-15T00:00:00",
          "2014-03-18T00:00:00",
          "2014-03-21T00:00:00",
          "2014-03-24T00:00:00",
          "2014-03-26T00:00:00",
          "2014-03-29T00:00:00",
          "2014-03-30T00:00:00",
          "2014-03-31T00:00:00",
          "2014-04-04T00:00:00",
          "2014-04-05T00:00:00",
          "2014-04-06T00:00:00",
          "2014-04-08T00:00:00",
          "2014-04-09T00:00:00",
          "2014-04-10T00:00:00",
          "2014-04-12T00:00:00",
          "2014-04-15T00:00:00",
          "2014-04-17T00:00:00",
          "2014-04-18T00:00:00",
          "2014-04-21T00:00:00",
          "2014-04-23T00:00:00",
          "2014-04-25T00:00:00",
          "2014-04-26T00:00:00",
          "2014-04-30T00:00:00",
          "2014-05-03T00:00:00",
          "2014-05-10T00:00:00",
          "2014-05-11T00:00:00",
          "2014-05-15T00:00:00",
          "2014-05-17T00:00:00",
          "2014-05-19T00:00:00",
          "2014-05-20T00:00:00",
          "2014-05-23T00:00:00",
          "2014-05-25T00:00:00",
          "2014-05-27T00:00:00",
          "2014-05-30T00:00:00",
          "2014-06-01T00:00:00",
          "2014-06-14T00:00:00",
          "2014-06-16T00:00:00",
          "2014-06-17T00:00:00",
          "2014-06-23T00:00:00",
          "2014-06-28T00:00:00",
          "2014-07-03T00:00:00",
          "2014-07-11T00:00:00",
          "2014-07-12T00:00:00",
          "2014-07-13T00:00:00",
          "2014-07-14T00:00:00",
          "2014-07-16T00:00:00",
          "2014-07-17T00:00:00",
          "2014-07-22T00:00:00",
          "2014-07-23T00:00:00",
          "2014-07-24T00:00:00",
          "2014-07-25T00:00:00",
          "2014-07-27T00:00:00",
          "2014-07-28T00:00:00",
          "2014-07-29T00:00:00",
          "2014-07-30T00:00:00",
          "2014-08-03T00:00:00",
          "2014-08-09T00:00:00",
          "2014-08-11T00:00:00",
          "2014-08-14T00:00:00",
          "2014-08-15T00:00:00",
          "2014-08-16T00:00:00",
          "2014-08-19T00:00:00",
          "2014-08-21T00:00:00",
          "2014-08-27T00:00:00",
          "2014-08-29T00:00:00",
          "2014-08-30T00:00:00",
          "2014-09-01T00:00:00",
          "2014-09-05T00:00:00",
          "2014-09-09T00:00:00",
          "2014-09-12T00:00:00",
          "2014-09-13T00:00:00",
          "2014-09-14T00:00:00",
          "2014-09-16T00:00:00",
          "2014-09-19T00:00:00",
          "2014-09-21T00:00:00",
          "2014-09-24T00:00:00",
          "2014-09-25T00:00:00",
          "2014-09-26T00:00:00",
          "2014-09-27T00:00:00",
          "2014-09-28T00:00:00",
          "2014-09-29T00:00:00",
          "2014-10-01T00:00:00",
          "2014-10-03T00:00:00",
          "2014-10-06T00:00:00",
          "2014-10-08T00:00:00",
          "2014-10-10T00:00:00",
          "2014-10-13T00:00:00",
          "2014-10-14T00:00:00",
          "2014-10-15T00:00:00",
          "2014-10-16T00:00:00",
          "2014-10-17T00:00:00",
          "2014-10-19T00:00:00",
          "2014-10-22T00:00:00",
          "2014-10-24T00:00:00",
          "2014-10-26T00:00:00",
          "2014-10-28T00:00:00",
          "2014-10-29T00:00:00",
          "2014-10-31T00:00:00",
          "2014-11-02T00:00:00",
          "2014-11-03T00:00:00",
          "2014-11-04T00:00:00",
          "2014-11-06T00:00:00",
          "2014-11-08T00:00:00",
          "2014-11-10T00:00:00",
          "2014-11-11T00:00:00",
          "2014-11-12T00:00:00",
          "2014-11-13T00:00:00",
          "2014-11-14T00:00:00",
          "2014-11-16T00:00:00",
          "2014-11-17T00:00:00",
          "2014-11-18T00:00:00",
          "2014-11-19T00:00:00",
          "2014-11-22T00:00:00",
          "2014-11-25T00:00:00",
          "2014-11-26T00:00:00",
          "2014-11-27T00:00:00",
          "2014-11-28T00:00:00",
          "2014-11-29T00:00:00",
          "2014-12-01T00:00:00",
          "2014-12-05T00:00:00",
          "2014-12-06T00:00:00",
          "2014-12-07T00:00:00",
          "2014-12-08T00:00:00",
          "2014-12-10T00:00:00",
          "2014-12-14T00:00:00",
          "2014-12-15T00:00:00",
          "2014-12-16T00:00:00",
          "2014-12-17T00:00:00",
          "2014-12-19T00:00:00",
          "2014-12-21T00:00:00",
          "2014-12-23T00:00:00",
          "2014-12-26T00:00:00",
          "2014-12-27T00:00:00",
          "2014-12-29T00:00:00",
          "2014-12-30T00:00:00",
          "2014-12-31T00:00:00",
          "2015-01-02T00:00:00",
          "2015-01-03T00:00:00",
          "2015-01-10T00:00:00",
          "2015-01-17T00:00:00",
          "2015-01-29T00:00:00",
          "2015-02-01T00:00:00",
          "2015-02-04T00:00:00",
          "2015-02-06T00:00:00",
          "2015-02-16T00:00:00",
          "2015-02-18T00:00:00",
          "2015-02-21T00:00:00",
          "2015-02-22T00:00:00",
          "2015-02-24T00:00:00",
          "2015-03-03T00:00:00",
          "2015-03-11T00:00:00",
          "2015-03-18T00:00:00",
          "2015-03-19T00:00:00",
          "2015-03-20T00:00:00",
          "2015-03-23T00:00:00",
          "2015-03-24T00:00:00",
          "2015-03-25T00:00:00",
          "2015-03-26T00:00:00",
          "2015-03-30T00:00:00",
          "2015-03-31T00:00:00",
          "2015-04-02T00:00:00",
          "2015-04-09T00:00:00",
          "2015-04-11T00:00:00",
          "2015-04-14T00:00:00",
          "2015-04-15T00:00:00",
          "2015-04-17T00:00:00",
          "2015-04-19T00:00:00",
          "2015-04-20T00:00:00",
          "2015-04-21T00:00:00",
          "2015-04-26T00:00:00",
          "2015-04-28T00:00:00",
          "2015-05-01T00:00:00",
          "2015-05-02T00:00:00",
          "2015-05-06T00:00:00",
          "2015-05-07T00:00:00",
          "2015-05-08T00:00:00",
          "2015-05-16T00:00:00",
          "2015-05-19T00:00:00",
          "2015-05-21T00:00:00",
          "2015-05-22T00:00:00",
          "2015-05-26T00:00:00",
          "2015-05-27T00:00:00",
          "2015-06-02T00:00:00",
          "2015-06-08T00:00:00",
          "2015-06-09T00:00:00",
          "2015-06-14T00:00:00",
          "2015-06-19T00:00:00",
          "2015-06-22T00:00:00",
          "2015-06-23T00:00:00",
          "2015-06-25T00:00:00",
          "2015-06-28T00:00:00",
          "2015-06-30T00:00:00",
          "2015-07-01T00:00:00",
          "2015-07-08T00:00:00",
          "2015-07-11T00:00:00",
          "2015-07-14T00:00:00",
          "2015-07-16T00:00:00",
          "2015-07-19T00:00:00",
          "2015-07-22T00:00:00",
          "2015-07-30T00:00:00",
          "2015-07-31T00:00:00",
          "2015-08-02T00:00:00",
          "2015-08-07T00:00:00",
          "2015-08-08T00:00:00",
          "2015-08-12T00:00:00",
          "2015-08-13T00:00:00",
          "2015-08-19T00:00:00",
          "2015-08-20T00:00:00",
          "2015-08-23T00:00:00",
          "2015-08-26T00:00:00",
          "2015-08-30T00:00:00",
          "2015-08-31T00:00:00",
          "2015-09-01T00:00:00",
          "2015-09-02T00:00:00",
          "2015-09-04T00:00:00",
          "2015-09-05T00:00:00",
          "2015-09-08T00:00:00",
          "2015-09-09T00:00:00",
          "2015-09-11T00:00:00",
          "2015-09-12T00:00:00",
          "2015-09-14T00:00:00",
          "2015-09-15T00:00:00",
          "2015-09-16T00:00:00",
          "2015-09-18T00:00:00",
          "2015-09-19T00:00:00",
          "2015-09-21T00:00:00",
          "2015-09-22T00:00:00",
          "2015-09-23T00:00:00",
          "2015-09-26T00:00:00",
          "2015-09-28T00:00:00",
          "2015-09-29T00:00:00",
          "2015-10-01T00:00:00",
          "2015-10-03T00:00:00",
          "2015-10-05T00:00:00",
          "2015-10-07T00:00:00",
          "2015-10-08T00:00:00",
          "2015-10-11T00:00:00",
          "2015-10-12T00:00:00",
          "2015-10-17T00:00:00",
          "2015-10-24T00:00:00",
          "2015-10-27T00:00:00",
          "2015-10-30T00:00:00",
          "2015-10-31T00:00:00",
          "2015-11-02T00:00:00",
          "2015-11-04T00:00:00",
          "2015-11-05T00:00:00",
          "2015-11-06T00:00:00",
          "2015-11-07T00:00:00",
          "2015-11-09T00:00:00",
          "2015-11-10T00:00:00",
          "2015-11-12T00:00:00",
          "2015-11-13T00:00:00",
          "2015-11-14T00:00:00",
          "2015-11-15T00:00:00",
          "2015-11-17T00:00:00",
          "2015-11-18T00:00:00",
          "2015-11-21T00:00:00",
          "2015-11-24T00:00:00",
          "2015-11-25T00:00:00",
          "2015-11-26T00:00:00",
          "2015-11-28T00:00:00",
          "2015-11-29T00:00:00",
          "2015-11-30T00:00:00",
          "2015-12-01T00:00:00",
          "2015-12-03T00:00:00",
          "2015-12-06T00:00:00",
          "2015-12-07T00:00:00",
          "2015-12-09T00:00:00",
          "2015-12-10T00:00:00",
          "2015-12-11T00:00:00",
          "2015-12-12T00:00:00",
          "2015-12-13T00:00:00",
          "2015-12-14T00:00:00",
          "2015-12-15T00:00:00",
          "2015-12-16T00:00:00",
          "2015-12-17T00:00:00",
          "2015-12-18T00:00:00",
          "2015-12-19T00:00:00",
          "2015-12-24T00:00:00",
          "2015-12-25T00:00:00",
          "2015-12-29T00:00:00",
          "2015-12-30T00:00:00",
          "2015-12-31T00:00:00",
          "2016-01-03T00:00:00",
          "2016-01-05T00:00:00",
          "2016-01-12T00:00:00",
          "2016-01-15T00:00:00",
          "2016-01-20T00:00:00",
          "2016-01-23T00:00:00",
          "2016-01-28T00:00:00",
          "2016-01-29T00:00:00",
          "2016-01-31T00:00:00",
          "2016-02-01T00:00:00",
          "2016-02-03T00:00:00",
          "2016-02-04T00:00:00",
          "2016-02-07T00:00:00",
          "2016-02-09T00:00:00",
          "2016-02-10T00:00:00",
          "2016-02-13T00:00:00",
          "2016-02-18T00:00:00",
          "2016-02-22T00:00:00",
          "2016-02-26T00:00:00",
          "2016-03-03T00:00:00",
          "2016-03-10T00:00:00",
          "2016-03-11T00:00:00",
          "2016-03-13T00:00:00",
          "2016-03-15T00:00:00",
          "2016-03-16T00:00:00",
          "2016-03-18T00:00:00",
          "2016-03-19T00:00:00",
          "2016-03-20T00:00:00",
          "2016-03-31T00:00:00",
          "2016-04-09T00:00:00",
          "2016-04-12T00:00:00",
          "2016-04-14T00:00:00",
          "2016-04-15T00:00:00",
          "2016-04-16T00:00:00",
          "2016-04-17T00:00:00",
          "2016-04-18T00:00:00",
          "2016-04-21T00:00:00",
          "2016-04-24T00:00:00",
          "2016-04-26T00:00:00",
          "2016-04-27T00:00:00",
          "2016-05-05T00:00:00",
          "2016-05-07T00:00:00",
          "2016-05-08T00:00:00",
          "2016-05-09T00:00:00",
          "2016-05-10T00:00:00",
          "2016-05-12T00:00:00",
          "2016-05-14T00:00:00",
          "2016-05-16T00:00:00",
          "2016-05-19T00:00:00",
          "2016-05-21T00:00:00",
          "2016-05-23T00:00:00",
          "2016-05-24T00:00:00",
          "2016-05-25T00:00:00",
          "2016-05-27T00:00:00",
          "2016-05-29T00:00:00",
          "2016-05-31T00:00:00",
          "2016-06-02T00:00:00",
          "2016-06-03T00:00:00",
          "2016-06-06T00:00:00",
          "2016-06-07T00:00:00",
          "2016-06-11T00:00:00",
          "2016-06-12T00:00:00",
          "2016-06-14T00:00:00",
          "2016-06-15T00:00:00",
          "2016-06-16T00:00:00",
          "2016-06-17T00:00:00",
          "2016-06-18T00:00:00",
          "2016-06-19T00:00:00",
          "2016-06-20T00:00:00",
          "2016-06-21T00:00:00",
          "2016-06-22T00:00:00",
          "2016-06-25T00:00:00",
          "2016-06-26T00:00:00",
          "2016-06-28T00:00:00",
          "2016-06-29T00:00:00",
          "2016-07-03T00:00:00",
          "2016-07-06T00:00:00",
          "2016-07-07T00:00:00",
          "2016-07-09T00:00:00",
          "2016-07-11T00:00:00",
          "2016-07-18T00:00:00",
          "2016-07-19T00:00:00",
          "2016-07-21T00:00:00",
          "2016-07-22T00:00:00",
          "2016-07-24T00:00:00",
          "2016-07-25T00:00:00",
          "2016-07-26T00:00:00",
          "2016-07-27T00:00:00",
          "2016-07-31T00:00:00",
          "2016-08-01T00:00:00",
          "2016-08-02T00:00:00",
          "2016-08-03T00:00:00",
          "2016-08-04T00:00:00",
          "2016-08-05T00:00:00",
          "2016-08-06T00:00:00",
          "2016-08-13T00:00:00",
          "2016-08-15T00:00:00",
          "2016-08-18T00:00:00",
          "2016-08-19T00:00:00",
          "2016-08-20T00:00:00",
          "2016-08-22T00:00:00",
          "2016-08-27T00:00:00",
          "2016-08-28T00:00:00",
          "2016-08-29T00:00:00",
          "2016-09-03T00:00:00",
          "2016-09-04T00:00:00",
          "2016-09-06T00:00:00",
          "2016-09-08T00:00:00",
          "2016-09-10T00:00:00",
          "2016-09-12T00:00:00",
          "2016-09-13T00:00:00",
          "2016-09-15T00:00:00",
          "2016-09-17T00:00:00",
          "2016-09-22T00:00:00",
          "2016-09-23T00:00:00",
          "2016-09-24T00:00:00",
          "2016-09-26T00:00:00",
          "2016-09-27T00:00:00",
          "2016-09-28T00:00:00",
          "2016-09-30T00:00:00",
          "2016-10-01T00:00:00",
          "2016-10-02T00:00:00",
          "2016-10-03T00:00:00",
          "2016-10-07T00:00:00",
          "2016-10-08T00:00:00",
          "2016-10-12T00:00:00",
          "2016-10-13T00:00:00",
          "2016-10-19T00:00:00",
          "2016-10-20T00:00:00",
          "2016-10-21T00:00:00",
          "2016-10-22T00:00:00",
          "2016-10-24T00:00:00",
          "2016-10-25T00:00:00",
          "2016-10-27T00:00:00",
          "2016-10-28T00:00:00",
          "2016-10-29T00:00:00",
          "2016-10-31T00:00:00",
          "2016-11-01T00:00:00",
          "2016-11-02T00:00:00",
          "2016-11-04T00:00:00",
          "2016-11-05T00:00:00",
          "2016-11-06T00:00:00",
          "2016-11-07T00:00:00",
          "2016-11-08T00:00:00",
          "2016-11-09T00:00:00",
          "2016-11-10T00:00:00",
          "2016-11-12T00:00:00",
          "2016-11-13T00:00:00",
          "2016-11-14T00:00:00",
          "2016-11-15T00:00:00",
          "2016-11-16T00:00:00",
          "2016-11-17T00:00:00",
          "2016-11-18T00:00:00",
          "2016-11-19T00:00:00",
          "2016-11-22T00:00:00",
          "2016-11-24T00:00:00",
          "2016-11-26T00:00:00",
          "2016-11-27T00:00:00",
          "2016-11-29T00:00:00",
          "2016-11-30T00:00:00",
          "2016-12-01T00:00:00",
          "2016-12-05T00:00:00",
          "2016-12-06T00:00:00",
          "2016-12-07T00:00:00",
          "2016-12-08T00:00:00",
          "2016-12-09T00:00:00",
          "2016-12-10T00:00:00",
          "2016-12-11T00:00:00",
          "2016-12-12T00:00:00",
          "2016-12-14T00:00:00",
          "2016-12-15T00:00:00",
          "2016-12-16T00:00:00",
          "2016-12-17T00:00:00",
          "2016-12-19T00:00:00",
          "2016-12-20T00:00:00",
          "2016-12-21T00:00:00",
          "2016-12-22T00:00:00",
          "2016-12-23T00:00:00",
          "2016-12-24T00:00:00",
          "2016-12-28T00:00:00",
          "2016-12-30T00:00:00",
          "2016-12-31T00:00:00",
          "2017-01-02T00:00:00",
          "2017-01-04T00:00:00",
          "2017-01-05T00:00:00",
          "2017-01-06T00:00:00",
          "2017-01-07T00:00:00",
          "2017-01-08T00:00:00",
          "2017-01-09T00:00:00",
          "2017-01-16T00:00:00",
          "2017-01-19T00:00:00",
          "2017-01-25T00:00:00",
          "2017-01-26T00:00:00",
          "2017-01-29T00:00:00",
          "2017-01-30T00:00:00",
          "2017-01-31T00:00:00",
          "2017-02-02T00:00:00",
          "2017-02-06T00:00:00",
          "2017-02-07T00:00:00",
          "2017-02-09T00:00:00",
          "2017-02-13T00:00:00",
          "2017-02-14T00:00:00",
          "2017-02-20T00:00:00",
          "2017-02-21T00:00:00",
          "2017-02-23T00:00:00",
          "2017-02-28T00:00:00",
          "2017-03-01T00:00:00",
          "2017-03-02T00:00:00",
          "2017-03-03T00:00:00",
          "2017-03-08T00:00:00",
          "2017-03-09T00:00:00",
          "2017-03-10T00:00:00",
          "2017-03-13T00:00:00",
          "2017-03-15T00:00:00",
          "2017-03-17T00:00:00",
          "2017-03-19T00:00:00",
          "2017-03-20T00:00:00",
          "2017-03-21T00:00:00",
          "2017-03-22T00:00:00",
          "2017-03-23T00:00:00",
          "2017-03-24T00:00:00",
          "2017-03-25T00:00:00",
          "2017-03-26T00:00:00",
          "2017-03-30T00:00:00",
          "2017-03-31T00:00:00",
          "2017-04-01T00:00:00",
          "2017-04-03T00:00:00",
          "2017-04-05T00:00:00",
          "2017-04-07T00:00:00",
          "2017-04-12T00:00:00",
          "2017-04-17T00:00:00",
          "2017-04-18T00:00:00",
          "2017-04-20T00:00:00",
          "2017-04-22T00:00:00",
          "2017-04-24T00:00:00",
          "2017-04-25T00:00:00",
          "2017-04-27T00:00:00",
          "2017-04-28T00:00:00",
          "2017-04-29T00:00:00",
          "2017-05-02T00:00:00",
          "2017-05-04T00:00:00",
          "2017-05-05T00:00:00",
          "2017-05-06T00:00:00",
          "2017-05-07T00:00:00",
          "2017-05-08T00:00:00",
          "2017-05-09T00:00:00",
          "2017-05-11T00:00:00",
          "2017-05-12T00:00:00",
          "2017-05-14T00:00:00",
          "2017-05-18T00:00:00",
          "2017-05-20T00:00:00",
          "2017-05-21T00:00:00",
          "2017-05-24T00:00:00",
          "2017-05-25T00:00:00",
          "2017-05-26T00:00:00",
          "2017-05-29T00:00:00",
          "2017-05-31T00:00:00",
          "2017-06-03T00:00:00",
          "2017-06-04T00:00:00",
          "2017-06-07T00:00:00",
          "2017-06-10T00:00:00",
          "2017-06-11T00:00:00",
          "2017-06-13T00:00:00",
          "2017-06-14T00:00:00",
          "2017-06-19T00:00:00",
          "2017-06-20T00:00:00",
          "2017-06-23T00:00:00",
          "2017-06-26T00:00:00",
          "2017-06-28T00:00:00",
          "2017-06-30T00:00:00",
          "2017-07-01T00:00:00",
          "2017-07-02T00:00:00",
          "2017-07-03T00:00:00",
          "2017-07-05T00:00:00",
          "2017-07-06T00:00:00",
          "2017-07-08T00:00:00",
          "2017-07-10T00:00:00",
          "2017-07-11T00:00:00",
          "2017-07-15T00:00:00",
          "2017-07-16T00:00:00",
          "2017-07-18T00:00:00",
          "2017-07-19T00:00:00",
          "2017-07-21T00:00:00",
          "2017-07-24T00:00:00",
          "2017-07-25T00:00:00",
          "2017-07-26T00:00:00",
          "2017-08-01T00:00:00",
          "2017-08-03T00:00:00",
          "2017-08-04T00:00:00",
          "2017-08-05T00:00:00",
          "2017-08-06T00:00:00",
          "2017-08-08T00:00:00",
          "2017-08-11T00:00:00",
          "2017-08-12T00:00:00",
          "2017-08-13T00:00:00",
          "2017-08-15T00:00:00",
          "2017-08-16T00:00:00",
          "2017-08-20T00:00:00",
          "2017-08-21T00:00:00",
          "2017-08-22T00:00:00",
          "2017-08-23T00:00:00",
          "2017-08-24T00:00:00",
          "2017-08-25T00:00:00",
          "2017-08-27T00:00:00",
          "2017-08-29T00:00:00",
          "2017-09-04T00:00:00",
          "2017-09-05T00:00:00",
          "2017-09-06T00:00:00",
          "2017-09-07T00:00:00",
          "2017-09-08T00:00:00",
          "2017-09-10T00:00:00",
          "2017-09-11T00:00:00",
          "2017-09-12T00:00:00",
          "2017-09-13T00:00:00",
          "2017-09-14T00:00:00",
          "2017-09-15T00:00:00",
          "2017-09-17T00:00:00",
          "2017-09-18T00:00:00",
          "2017-09-19T00:00:00",
          "2017-09-20T00:00:00",
          "2017-09-21T00:00:00",
          "2017-09-23T00:00:00",
          "2017-09-24T00:00:00",
          "2017-09-25T00:00:00",
          "2017-09-26T00:00:00",
          "2017-09-28T00:00:00",
          "2017-09-29T00:00:00",
          "2017-09-30T00:00:00",
          "2017-10-01T00:00:00",
          "2017-10-02T00:00:00",
          "2017-10-04T00:00:00",
          "2017-10-06T00:00:00",
          "2017-10-08T00:00:00",
          "2017-10-10T00:00:00",
          "2017-10-11T00:00:00",
          "2017-10-13T00:00:00",
          "2017-10-14T00:00:00",
          "2017-10-17T00:00:00",
          "2017-10-18T00:00:00",
          "2017-10-19T00:00:00",
          "2017-10-20T00:00:00",
          "2017-10-22T00:00:00",
          "2017-10-23T00:00:00",
          "2017-10-24T00:00:00",
          "2017-10-28T00:00:00",
          "2017-10-29T00:00:00",
          "2017-11-04T00:00:00",
          "2017-11-05T00:00:00",
          "2017-11-06T00:00:00",
          "2017-11-07T00:00:00",
          "2017-11-08T00:00:00",
          "2017-11-09T00:00:00",
          "2017-11-10T00:00:00",
          "2017-11-11T00:00:00",
          "2017-11-12T00:00:00",
          "2017-11-13T00:00:00",
          "2017-11-14T00:00:00",
          "2017-11-15T00:00:00",
          "2017-11-16T00:00:00",
          "2017-11-17T00:00:00",
          "2017-11-19T00:00:00",
          "2017-11-20T00:00:00",
          "2017-11-21T00:00:00",
          "2017-11-22T00:00:00",
          "2017-11-24T00:00:00",
          "2017-11-25T00:00:00",
          "2017-11-27T00:00:00",
          "2017-11-29T00:00:00",
          "2017-11-30T00:00:00",
          "2017-12-01T00:00:00",
          "2017-12-02T00:00:00",
          "2017-12-03T00:00:00",
          "2017-12-05T00:00:00",
          "2017-12-06T00:00:00",
          "2017-12-07T00:00:00",
          "2017-12-08T00:00:00",
          "2017-12-09T00:00:00",
          "2017-12-10T00:00:00",
          "2017-12-11T00:00:00",
          "2017-12-12T00:00:00",
          "2017-12-13T00:00:00",
          "2017-12-14T00:00:00",
          "2017-12-17T00:00:00",
          "2017-12-18T00:00:00",
          "2017-12-19T00:00:00",
          "2017-12-20T00:00:00",
          "2017-12-21T00:00:00",
          "2017-12-23T00:00:00",
          "2017-12-24T00:00:00",
          "2017-12-25T00:00:00",
          "2017-12-27T00:00:00",
          "2017-12-29T00:00:00",
          "2017-12-31T00:00:00",
          "2018-01-02T00:00:00",
          "2018-01-03T00:00:00",
          "2018-01-05T00:00:00"
         ],
         "type": "scatter",
         "x": [
          "2014-01-08T00:00:00",
          "2014-01-18T00:00:00",
          "2014-01-25T00:00:00",
          "2014-02-02T00:00:00",
          "2014-02-06T00:00:00",
          "2014-02-08T00:00:00",
          "2014-02-18T00:00:00",
          "2014-02-24T00:00:00",
          "2014-03-07T00:00:00",
          "2014-03-15T00:00:00",
          "2014-03-18T00:00:00",
          "2014-03-21T00:00:00",
          "2014-03-24T00:00:00",
          "2014-03-26T00:00:00",
          "2014-03-29T00:00:00",
          "2014-03-30T00:00:00",
          "2014-03-31T00:00:00",
          "2014-04-04T00:00:00",
          "2014-04-05T00:00:00",
          "2014-04-06T00:00:00",
          "2014-04-08T00:00:00",
          "2014-04-09T00:00:00",
          "2014-04-10T00:00:00",
          "2014-04-12T00:00:00",
          "2014-04-15T00:00:00",
          "2014-04-17T00:00:00",
          "2014-04-18T00:00:00",
          "2014-04-21T00:00:00",
          "2014-04-23T00:00:00",
          "2014-04-25T00:00:00",
          "2014-04-26T00:00:00",
          "2014-04-30T00:00:00",
          "2014-05-03T00:00:00",
          "2014-05-10T00:00:00",
          "2014-05-11T00:00:00",
          "2014-05-15T00:00:00",
          "2014-05-17T00:00:00",
          "2014-05-19T00:00:00",
          "2014-05-20T00:00:00",
          "2014-05-23T00:00:00",
          "2014-05-25T00:00:00",
          "2014-05-27T00:00:00",
          "2014-05-30T00:00:00",
          "2014-06-01T00:00:00",
          "2014-06-14T00:00:00",
          "2014-06-16T00:00:00",
          "2014-06-17T00:00:00",
          "2014-06-23T00:00:00",
          "2014-06-28T00:00:00",
          "2014-07-03T00:00:00",
          "2014-07-11T00:00:00",
          "2014-07-12T00:00:00",
          "2014-07-13T00:00:00",
          "2014-07-14T00:00:00",
          "2014-07-16T00:00:00",
          "2014-07-17T00:00:00",
          "2014-07-22T00:00:00",
          "2014-07-23T00:00:00",
          "2014-07-24T00:00:00",
          "2014-07-25T00:00:00",
          "2014-07-27T00:00:00",
          "2014-07-28T00:00:00",
          "2014-07-29T00:00:00",
          "2014-07-30T00:00:00",
          "2014-08-03T00:00:00",
          "2014-08-09T00:00:00",
          "2014-08-11T00:00:00",
          "2014-08-14T00:00:00",
          "2014-08-15T00:00:00",
          "2014-08-16T00:00:00",
          "2014-08-19T00:00:00",
          "2014-08-21T00:00:00",
          "2014-08-27T00:00:00",
          "2014-08-29T00:00:00",
          "2014-08-30T00:00:00",
          "2014-09-01T00:00:00",
          "2014-09-05T00:00:00",
          "2014-09-09T00:00:00",
          "2014-09-12T00:00:00",
          "2014-09-13T00:00:00",
          "2014-09-14T00:00:00",
          "2014-09-16T00:00:00",
          "2014-09-19T00:00:00",
          "2014-09-21T00:00:00",
          "2014-09-24T00:00:00",
          "2014-09-25T00:00:00",
          "2014-09-26T00:00:00",
          "2014-09-27T00:00:00",
          "2014-09-28T00:00:00",
          "2014-09-29T00:00:00",
          "2014-10-01T00:00:00",
          "2014-10-03T00:00:00",
          "2014-10-06T00:00:00",
          "2014-10-08T00:00:00",
          "2014-10-10T00:00:00",
          "2014-10-13T00:00:00",
          "2014-10-14T00:00:00",
          "2014-10-15T00:00:00",
          "2014-10-16T00:00:00",
          "2014-10-17T00:00:00",
          "2014-10-19T00:00:00",
          "2014-10-22T00:00:00",
          "2014-10-24T00:00:00",
          "2014-10-26T00:00:00",
          "2014-10-28T00:00:00",
          "2014-10-29T00:00:00",
          "2014-10-31T00:00:00",
          "2014-11-02T00:00:00",
          "2014-11-03T00:00:00",
          "2014-11-04T00:00:00",
          "2014-11-06T00:00:00",
          "2014-11-08T00:00:00",
          "2014-11-10T00:00:00",
          "2014-11-11T00:00:00",
          "2014-11-12T00:00:00",
          "2014-11-13T00:00:00",
          "2014-11-14T00:00:00",
          "2014-11-16T00:00:00",
          "2014-11-17T00:00:00",
          "2014-11-18T00:00:00",
          "2014-11-19T00:00:00",
          "2014-11-22T00:00:00",
          "2014-11-25T00:00:00",
          "2014-11-26T00:00:00",
          "2014-11-27T00:00:00",
          "2014-11-28T00:00:00",
          "2014-11-29T00:00:00",
          "2014-12-01T00:00:00",
          "2014-12-05T00:00:00",
          "2014-12-06T00:00:00",
          "2014-12-07T00:00:00",
          "2014-12-08T00:00:00",
          "2014-12-10T00:00:00",
          "2014-12-14T00:00:00",
          "2014-12-15T00:00:00",
          "2014-12-16T00:00:00",
          "2014-12-17T00:00:00",
          "2014-12-19T00:00:00",
          "2014-12-21T00:00:00",
          "2014-12-23T00:00:00",
          "2014-12-26T00:00:00",
          "2014-12-27T00:00:00",
          "2014-12-29T00:00:00",
          "2014-12-30T00:00:00",
          "2014-12-31T00:00:00",
          "2015-01-02T00:00:00",
          "2015-01-03T00:00:00",
          "2015-01-10T00:00:00",
          "2015-01-17T00:00:00",
          "2015-01-29T00:00:00",
          "2015-02-01T00:00:00",
          "2015-02-04T00:00:00",
          "2015-02-06T00:00:00",
          "2015-02-16T00:00:00",
          "2015-02-18T00:00:00",
          "2015-02-21T00:00:00",
          "2015-02-22T00:00:00",
          "2015-02-24T00:00:00",
          "2015-03-03T00:00:00",
          "2015-03-11T00:00:00",
          "2015-03-18T00:00:00",
          "2015-03-19T00:00:00",
          "2015-03-20T00:00:00",
          "2015-03-23T00:00:00",
          "2015-03-24T00:00:00",
          "2015-03-25T00:00:00",
          "2015-03-26T00:00:00",
          "2015-03-30T00:00:00",
          "2015-03-31T00:00:00",
          "2015-04-02T00:00:00",
          "2015-04-09T00:00:00",
          "2015-04-11T00:00:00",
          "2015-04-14T00:00:00",
          "2015-04-15T00:00:00",
          "2015-04-17T00:00:00",
          "2015-04-19T00:00:00",
          "2015-04-20T00:00:00",
          "2015-04-21T00:00:00",
          "2015-04-26T00:00:00",
          "2015-04-28T00:00:00",
          "2015-05-01T00:00:00",
          "2015-05-02T00:00:00",
          "2015-05-06T00:00:00",
          "2015-05-07T00:00:00",
          "2015-05-08T00:00:00",
          "2015-05-16T00:00:00",
          "2015-05-19T00:00:00",
          "2015-05-21T00:00:00",
          "2015-05-22T00:00:00",
          "2015-05-26T00:00:00",
          "2015-05-27T00:00:00",
          "2015-06-02T00:00:00",
          "2015-06-08T00:00:00",
          "2015-06-09T00:00:00",
          "2015-06-14T00:00:00",
          "2015-06-19T00:00:00",
          "2015-06-22T00:00:00",
          "2015-06-23T00:00:00",
          "2015-06-25T00:00:00",
          "2015-06-28T00:00:00",
          "2015-06-30T00:00:00",
          "2015-07-01T00:00:00",
          "2015-07-08T00:00:00",
          "2015-07-11T00:00:00",
          "2015-07-14T00:00:00",
          "2015-07-16T00:00:00",
          "2015-07-19T00:00:00",
          "2015-07-22T00:00:00",
          "2015-07-30T00:00:00",
          "2015-07-31T00:00:00",
          "2015-08-02T00:00:00",
          "2015-08-07T00:00:00",
          "2015-08-08T00:00:00",
          "2015-08-12T00:00:00",
          "2015-08-13T00:00:00",
          "2015-08-19T00:00:00",
          "2015-08-20T00:00:00",
          "2015-08-23T00:00:00",
          "2015-08-26T00:00:00",
          "2015-08-30T00:00:00",
          "2015-08-31T00:00:00",
          "2015-09-01T00:00:00",
          "2015-09-02T00:00:00",
          "2015-09-04T00:00:00",
          "2015-09-05T00:00:00",
          "2015-09-08T00:00:00",
          "2015-09-09T00:00:00",
          "2015-09-11T00:00:00",
          "2015-09-12T00:00:00",
          "2015-09-14T00:00:00",
          "2015-09-15T00:00:00",
          "2015-09-16T00:00:00",
          "2015-09-18T00:00:00",
          "2015-09-19T00:00:00",
          "2015-09-21T00:00:00",
          "2015-09-22T00:00:00",
          "2015-09-23T00:00:00",
          "2015-09-26T00:00:00",
          "2015-09-28T00:00:00",
          "2015-09-29T00:00:00",
          "2015-10-01T00:00:00",
          "2015-10-03T00:00:00",
          "2015-10-05T00:00:00",
          "2015-10-07T00:00:00",
          "2015-10-08T00:00:00",
          "2015-10-11T00:00:00",
          "2015-10-12T00:00:00",
          "2015-10-17T00:00:00",
          "2015-10-24T00:00:00",
          "2015-10-27T00:00:00",
          "2015-10-30T00:00:00",
          "2015-10-31T00:00:00",
          "2015-11-02T00:00:00",
          "2015-11-04T00:00:00",
          "2015-11-05T00:00:00",
          "2015-11-06T00:00:00",
          "2015-11-07T00:00:00",
          "2015-11-09T00:00:00",
          "2015-11-10T00:00:00",
          "2015-11-12T00:00:00",
          "2015-11-13T00:00:00",
          "2015-11-14T00:00:00",
          "2015-11-15T00:00:00",
          "2015-11-17T00:00:00",
          "2015-11-18T00:00:00",
          "2015-11-21T00:00:00",
          "2015-11-24T00:00:00",
          "2015-11-25T00:00:00",
          "2015-11-26T00:00:00",
          "2015-11-28T00:00:00",
          "2015-11-29T00:00:00",
          "2015-11-30T00:00:00",
          "2015-12-01T00:00:00",
          "2015-12-03T00:00:00",
          "2015-12-06T00:00:00",
          "2015-12-07T00:00:00",
          "2015-12-09T00:00:00",
          "2015-12-10T00:00:00",
          "2015-12-11T00:00:00",
          "2015-12-12T00:00:00",
          "2015-12-13T00:00:00",
          "2015-12-14T00:00:00",
          "2015-12-15T00:00:00",
          "2015-12-16T00:00:00",
          "2015-12-17T00:00:00",
          "2015-12-18T00:00:00",
          "2015-12-19T00:00:00",
          "2015-12-24T00:00:00",
          "2015-12-25T00:00:00",
          "2015-12-29T00:00:00",
          "2015-12-30T00:00:00",
          "2015-12-31T00:00:00",
          "2016-01-03T00:00:00",
          "2016-01-05T00:00:00",
          "2016-01-12T00:00:00",
          "2016-01-15T00:00:00",
          "2016-01-20T00:00:00",
          "2016-01-23T00:00:00",
          "2016-01-28T00:00:00",
          "2016-01-29T00:00:00",
          "2016-01-31T00:00:00",
          "2016-02-01T00:00:00",
          "2016-02-03T00:00:00",
          "2016-02-04T00:00:00",
          "2016-02-07T00:00:00",
          "2016-02-09T00:00:00",
          "2016-02-10T00:00:00",
          "2016-02-13T00:00:00",
          "2016-02-18T00:00:00",
          "2016-02-22T00:00:00",
          "2016-02-26T00:00:00",
          "2016-03-03T00:00:00",
          "2016-03-10T00:00:00",
          "2016-03-11T00:00:00",
          "2016-03-13T00:00:00",
          "2016-03-15T00:00:00",
          "2016-03-16T00:00:00",
          "2016-03-18T00:00:00",
          "2016-03-19T00:00:00",
          "2016-03-20T00:00:00",
          "2016-03-31T00:00:00",
          "2016-04-09T00:00:00",
          "2016-04-12T00:00:00",
          "2016-04-14T00:00:00",
          "2016-04-15T00:00:00",
          "2016-04-16T00:00:00",
          "2016-04-17T00:00:00",
          "2016-04-18T00:00:00",
          "2016-04-21T00:00:00",
          "2016-04-24T00:00:00",
          "2016-04-26T00:00:00",
          "2016-04-27T00:00:00",
          "2016-05-05T00:00:00",
          "2016-05-07T00:00:00",
          "2016-05-08T00:00:00",
          "2016-05-09T00:00:00",
          "2016-05-10T00:00:00",
          "2016-05-12T00:00:00",
          "2016-05-14T00:00:00",
          "2016-05-16T00:00:00",
          "2016-05-19T00:00:00",
          "2016-05-21T00:00:00",
          "2016-05-23T00:00:00",
          "2016-05-24T00:00:00",
          "2016-05-25T00:00:00",
          "2016-05-27T00:00:00",
          "2016-05-29T00:00:00",
          "2016-05-31T00:00:00",
          "2016-06-02T00:00:00",
          "2016-06-03T00:00:00",
          "2016-06-06T00:00:00",
          "2016-06-07T00:00:00",
          "2016-06-11T00:00:00",
          "2016-06-12T00:00:00",
          "2016-06-14T00:00:00",
          "2016-06-15T00:00:00",
          "2016-06-16T00:00:00",
          "2016-06-17T00:00:00",
          "2016-06-18T00:00:00",
          "2016-06-19T00:00:00",
          "2016-06-20T00:00:00",
          "2016-06-21T00:00:00",
          "2016-06-22T00:00:00",
          "2016-06-25T00:00:00",
          "2016-06-26T00:00:00",
          "2016-06-28T00:00:00",
          "2016-06-29T00:00:00",
          "2016-07-03T00:00:00",
          "2016-07-06T00:00:00",
          "2016-07-07T00:00:00",
          "2016-07-09T00:00:00",
          "2016-07-11T00:00:00",
          "2016-07-18T00:00:00",
          "2016-07-19T00:00:00",
          "2016-07-21T00:00:00",
          "2016-07-22T00:00:00",
          "2016-07-24T00:00:00",
          "2016-07-25T00:00:00",
          "2016-07-26T00:00:00",
          "2016-07-27T00:00:00",
          "2016-07-31T00:00:00",
          "2016-08-01T00:00:00",
          "2016-08-02T00:00:00",
          "2016-08-03T00:00:00",
          "2016-08-04T00:00:00",
          "2016-08-05T00:00:00",
          "2016-08-06T00:00:00",
          "2016-08-13T00:00:00",
          "2016-08-15T00:00:00",
          "2016-08-18T00:00:00",
          "2016-08-19T00:00:00",
          "2016-08-20T00:00:00",
          "2016-08-22T00:00:00",
          "2016-08-27T00:00:00",
          "2016-08-28T00:00:00",
          "2016-08-29T00:00:00",
          "2016-09-03T00:00:00",
          "2016-09-04T00:00:00",
          "2016-09-06T00:00:00",
          "2016-09-08T00:00:00",
          "2016-09-10T00:00:00",
          "2016-09-12T00:00:00",
          "2016-09-13T00:00:00",
          "2016-09-15T00:00:00",
          "2016-09-17T00:00:00",
          "2016-09-22T00:00:00",
          "2016-09-23T00:00:00",
          "2016-09-24T00:00:00",
          "2016-09-26T00:00:00",
          "2016-09-27T00:00:00",
          "2016-09-28T00:00:00",
          "2016-09-30T00:00:00",
          "2016-10-01T00:00:00",
          "2016-10-02T00:00:00",
          "2016-10-03T00:00:00",
          "2016-10-07T00:00:00",
          "2016-10-08T00:00:00",
          "2016-10-12T00:00:00",
          "2016-10-13T00:00:00",
          "2016-10-19T00:00:00",
          "2016-10-20T00:00:00",
          "2016-10-21T00:00:00",
          "2016-10-22T00:00:00",
          "2016-10-24T00:00:00",
          "2016-10-25T00:00:00",
          "2016-10-27T00:00:00",
          "2016-10-28T00:00:00",
          "2016-10-29T00:00:00",
          "2016-10-31T00:00:00",
          "2016-11-01T00:00:00",
          "2016-11-02T00:00:00",
          "2016-11-04T00:00:00",
          "2016-11-05T00:00:00",
          "2016-11-06T00:00:00",
          "2016-11-07T00:00:00",
          "2016-11-08T00:00:00",
          "2016-11-09T00:00:00",
          "2016-11-10T00:00:00",
          "2016-11-12T00:00:00",
          "2016-11-13T00:00:00",
          "2016-11-14T00:00:00",
          "2016-11-15T00:00:00",
          "2016-11-16T00:00:00",
          "2016-11-17T00:00:00",
          "2016-11-18T00:00:00",
          "2016-11-19T00:00:00",
          "2016-11-22T00:00:00",
          "2016-11-24T00:00:00",
          "2016-11-26T00:00:00",
          "2016-11-27T00:00:00",
          "2016-11-29T00:00:00",
          "2016-11-30T00:00:00",
          "2016-12-01T00:00:00",
          "2016-12-05T00:00:00",
          "2016-12-06T00:00:00",
          "2016-12-07T00:00:00",
          "2016-12-08T00:00:00",
          "2016-12-09T00:00:00",
          "2016-12-10T00:00:00",
          "2016-12-11T00:00:00",
          "2016-12-12T00:00:00",
          "2016-12-14T00:00:00",
          "2016-12-15T00:00:00",
          "2016-12-16T00:00:00",
          "2016-12-17T00:00:00",
          "2016-12-19T00:00:00",
          "2016-12-20T00:00:00",
          "2016-12-21T00:00:00",
          "2016-12-22T00:00:00",
          "2016-12-23T00:00:00",
          "2016-12-24T00:00:00",
          "2016-12-28T00:00:00",
          "2016-12-30T00:00:00",
          "2016-12-31T00:00:00",
          "2017-01-02T00:00:00",
          "2017-01-04T00:00:00",
          "2017-01-05T00:00:00",
          "2017-01-06T00:00:00",
          "2017-01-07T00:00:00",
          "2017-01-08T00:00:00",
          "2017-01-09T00:00:00",
          "2017-01-16T00:00:00",
          "2017-01-19T00:00:00",
          "2017-01-25T00:00:00",
          "2017-01-26T00:00:00",
          "2017-01-29T00:00:00",
          "2017-01-30T00:00:00",
          "2017-01-31T00:00:00",
          "2017-02-02T00:00:00",
          "2017-02-06T00:00:00",
          "2017-02-07T00:00:00",
          "2017-02-09T00:00:00",
          "2017-02-13T00:00:00",
          "2017-02-14T00:00:00",
          "2017-02-20T00:00:00",
          "2017-02-21T00:00:00",
          "2017-02-23T00:00:00",
          "2017-02-28T00:00:00",
          "2017-03-01T00:00:00",
          "2017-03-02T00:00:00",
          "2017-03-03T00:00:00",
          "2017-03-08T00:00:00",
          "2017-03-09T00:00:00",
          "2017-03-10T00:00:00",
          "2017-03-13T00:00:00",
          "2017-03-15T00:00:00",
          "2017-03-17T00:00:00",
          "2017-03-19T00:00:00",
          "2017-03-20T00:00:00",
          "2017-03-21T00:00:00",
          "2017-03-22T00:00:00",
          "2017-03-23T00:00:00",
          "2017-03-24T00:00:00",
          "2017-03-25T00:00:00",
          "2017-03-26T00:00:00",
          "2017-03-30T00:00:00",
          "2017-03-31T00:00:00",
          "2017-04-01T00:00:00",
          "2017-04-03T00:00:00",
          "2017-04-05T00:00:00",
          "2017-04-07T00:00:00",
          "2017-04-12T00:00:00",
          "2017-04-17T00:00:00",
          "2017-04-18T00:00:00",
          "2017-04-20T00:00:00",
          "2017-04-22T00:00:00",
          "2017-04-24T00:00:00",
          "2017-04-25T00:00:00",
          "2017-04-27T00:00:00",
          "2017-04-28T00:00:00",
          "2017-04-29T00:00:00",
          "2017-05-02T00:00:00",
          "2017-05-04T00:00:00",
          "2017-05-05T00:00:00",
          "2017-05-06T00:00:00",
          "2017-05-07T00:00:00",
          "2017-05-08T00:00:00",
          "2017-05-09T00:00:00",
          "2017-05-11T00:00:00",
          "2017-05-12T00:00:00",
          "2017-05-14T00:00:00",
          "2017-05-18T00:00:00",
          "2017-05-20T00:00:00",
          "2017-05-21T00:00:00",
          "2017-05-24T00:00:00",
          "2017-05-25T00:00:00",
          "2017-05-26T00:00:00",
          "2017-05-29T00:00:00",
          "2017-05-31T00:00:00",
          "2017-06-03T00:00:00",
          "2017-06-04T00:00:00",
          "2017-06-07T00:00:00",
          "2017-06-10T00:00:00",
          "2017-06-11T00:00:00",
          "2017-06-13T00:00:00",
          "2017-06-14T00:00:00",
          "2017-06-19T00:00:00",
          "2017-06-20T00:00:00",
          "2017-06-23T00:00:00",
          "2017-06-26T00:00:00",
          "2017-06-28T00:00:00",
          "2017-06-30T00:00:00",
          "2017-07-01T00:00:00",
          "2017-07-02T00:00:00",
          "2017-07-03T00:00:00",
          "2017-07-05T00:00:00",
          "2017-07-06T00:00:00",
          "2017-07-08T00:00:00",
          "2017-07-10T00:00:00",
          "2017-07-11T00:00:00",
          "2017-07-15T00:00:00",
          "2017-07-16T00:00:00",
          "2017-07-18T00:00:00",
          "2017-07-19T00:00:00",
          "2017-07-21T00:00:00",
          "2017-07-24T00:00:00",
          "2017-07-25T00:00:00",
          "2017-07-26T00:00:00",
          "2017-08-01T00:00:00",
          "2017-08-03T00:00:00",
          "2017-08-04T00:00:00",
          "2017-08-05T00:00:00",
          "2017-08-06T00:00:00",
          "2017-08-08T00:00:00",
          "2017-08-11T00:00:00",
          "2017-08-12T00:00:00",
          "2017-08-13T00:00:00",
          "2017-08-15T00:00:00",
          "2017-08-16T00:00:00",
          "2017-08-20T00:00:00",
          "2017-08-21T00:00:00",
          "2017-08-22T00:00:00",
          "2017-08-23T00:00:00",
          "2017-08-24T00:00:00",
          "2017-08-25T00:00:00",
          "2017-08-27T00:00:00",
          "2017-08-29T00:00:00",
          "2017-09-04T00:00:00",
          "2017-09-05T00:00:00",
          "2017-09-06T00:00:00",
          "2017-09-07T00:00:00",
          "2017-09-08T00:00:00",
          "2017-09-10T00:00:00",
          "2017-09-11T00:00:00",
          "2017-09-12T00:00:00",
          "2017-09-13T00:00:00",
          "2017-09-14T00:00:00",
          "2017-09-15T00:00:00",
          "2017-09-17T00:00:00",
          "2017-09-18T00:00:00",
          "2017-09-19T00:00:00",
          "2017-09-20T00:00:00",
          "2017-09-21T00:00:00",
          "2017-09-23T00:00:00",
          "2017-09-24T00:00:00",
          "2017-09-25T00:00:00",
          "2017-09-26T00:00:00",
          "2017-09-28T00:00:00",
          "2017-09-29T00:00:00",
          "2017-09-30T00:00:00",
          "2017-10-01T00:00:00",
          "2017-10-02T00:00:00",
          "2017-10-04T00:00:00",
          "2017-10-06T00:00:00",
          "2017-10-08T00:00:00",
          "2017-10-10T00:00:00",
          "2017-10-11T00:00:00",
          "2017-10-13T00:00:00",
          "2017-10-14T00:00:00",
          "2017-10-17T00:00:00",
          "2017-10-18T00:00:00",
          "2017-10-19T00:00:00",
          "2017-10-20T00:00:00",
          "2017-10-22T00:00:00",
          "2017-10-23T00:00:00",
          "2017-10-24T00:00:00",
          "2017-10-28T00:00:00",
          "2017-10-29T00:00:00",
          "2017-11-04T00:00:00",
          "2017-11-05T00:00:00",
          "2017-11-06T00:00:00",
          "2017-11-07T00:00:00",
          "2017-11-08T00:00:00",
          "2017-11-09T00:00:00",
          "2017-11-10T00:00:00",
          "2017-11-11T00:00:00",
          "2017-11-12T00:00:00",
          "2017-11-13T00:00:00",
          "2017-11-14T00:00:00",
          "2017-11-15T00:00:00",
          "2017-11-16T00:00:00",
          "2017-11-17T00:00:00",
          "2017-11-19T00:00:00",
          "2017-11-20T00:00:00",
          "2017-11-21T00:00:00",
          "2017-11-22T00:00:00",
          "2017-11-24T00:00:00",
          "2017-11-25T00:00:00",
          "2017-11-27T00:00:00",
          "2017-11-29T00:00:00",
          "2017-11-30T00:00:00",
          "2017-12-01T00:00:00",
          "2017-12-02T00:00:00",
          "2017-12-03T00:00:00",
          "2017-12-05T00:00:00",
          "2017-12-06T00:00:00",
          "2017-12-07T00:00:00",
          "2017-12-08T00:00:00",
          "2017-12-09T00:00:00",
          "2017-12-10T00:00:00",
          "2017-12-11T00:00:00",
          "2017-12-12T00:00:00",
          "2017-12-13T00:00:00",
          "2017-12-14T00:00:00",
          "2017-12-17T00:00:00",
          "2017-12-18T00:00:00",
          "2017-12-19T00:00:00",
          "2017-12-20T00:00:00",
          "2017-12-21T00:00:00",
          "2017-12-23T00:00:00",
          "2017-12-24T00:00:00",
          "2017-12-25T00:00:00",
          "2017-12-27T00:00:00",
          "2017-12-29T00:00:00",
          "2017-12-31T00:00:00",
          "2018-01-02T00:00:00",
          "2018-01-03T00:00:00",
          "2018-01-05T00:00:00"
         ],
         "y": [
          19.44,
          1679.749,
          38.66,
          717.336,
          12.350000000000001,
          134.38400000000001,
          129.568,
          32.400000000000006,
          626.3520000000001,
          7.98,
          13.940000000000001,
          1198.33,
          3247.1580000000004,
          935.1519999999999,
          40.48,
          177.41000000000003,
          60.08,
          205.666,
          733.7320000000001,
          46.688,
          233.45,
          18.9,
          436.48799999999994,
          699.5419999999999,
          294.71999999999997,
          1840.0430000000001,
          39.68,
          76.14,
          323.458,
          76.44,
          48.91,
          3774.9700000000003,
          248.56800000000004,
          140.736,
          113.72,
          2005.5540000000003,
          149.97,
          287.456,
          56.400000000000006,
          232.88,
          31.84,
          926.44,
          801.53,
          1213.494,
          3714.304,
          30.46,
          14.52,
          139.8,
          447.84,
          32.400000000000006,
          180.96000000000004,
          1177.672,
          68.70400000000001,
          172.09699999999998,
          505.68600000000004,
          1057.2800000000002,
          289.036,
          602.43,
          1136.092,
          1173.6160000000002,
          9334.118,
          19.68,
          238,
          276.28,
          19.752000000000002,
          472.0440000000001,
          501.4,
          5.98,
          2049.816,
          912.656,
          505.282,
          358.696,
          49.568000000000005,
          299.42,
          176.8,
          244.76000000000002,
          53.94,
          100.36,
          181.82,
          8.608,
          75.64,
          127.94999999999999,
          5.67,
          182.94,
          15.72,
          451.28400000000005,
          95.832,
          604.9920000000001,
          730.113,
          211.96,
          831.468,
          968.3,
          99.98,
          375.882,
          146.722,
          465.48800000000006,
          160.592,
          7.64,
          36.29,
          194.322,
          13.440000000000001,
          306.112,
          321.552,
          36.36,
          49.408,
          34.272,
          1252.602,
          73.584,
          6.72,
          1007.936,
          409.30400000000003,
          101.14000000000001,
          20.04,
          3249.9300000000003,
          123.14399999999999,
          707.628,
          333.576,
          1448.71,
          10.95,
          1677.0205,
          1075.37,
          5.22,
          1037.19,
          440.782,
          371.52,
          460.092,
          1272.704,
          332.702,
          58.199999999999996,
          606.3199999999999,
          250.26,
          1426.21,
          99.22,
          4630.5105,
          240.28,
          34.68,
          1351.506,
          6.16,
          2236.058,
          694.5340000000001,
          25.73,
          1897.92,
          1896.304,
          26.95,
          107.346,
          1608.75,
          1458.738,
          143.51999999999998,
          612.458,
          2803.92,
          182.72,
          136.92,
          2147.3360000000002,
          203.92,
          627.48,
          124.54999999999998,
          9.24,
          96.60400000000001,
          200.73600000000002,
          1555.2440000000001,
          1242.8960000000002,
          19.44,
          10.9,
          148.818,
          15.984000000000002,
          432.68999999999994,
          1697.4160000000002,
          33.36,
          295.68,
          199.64000000000001,
          71.976,
          892.224,
          1062.64,
          12.832,
          721.488,
          1282.8880000000001,
          1124.5700000000002,
          2572.5,
          152.916,
          13.943999999999999,
          485.7840000000001,
          21.34,
          613.698,
          88.752,
          665.88,
          38.519999999999996,
          1452.7875,
          1117.92,
          10.86,
          3862.0980000000004,
          14.73,
          244.77999999999997,
          11.76,
          1117.47,
          36.624,
          225.57599999999996,
          51.98,
          205.73,
          383.616,
          366.99,
          204.85,
          413.942,
          22.848,
          170.35200000000003,
          39.92,
          2048.856,
          195.466,
          519.96,
          623.96,
          357.61,
          167.86,
          1011.6960000000001,
          158.672,
          19.152,
          31.56,
          497.59000000000003,
          50.8,
          632.148,
          667.378,
          146.744,
          489.754,
          150.22,
          1966.5569999999998,
          3552.596,
          58.32000000000001,
          182.256,
          912.073,
          68.28,
          671.93,
          51.52,
          1526.342,
          372.53999999999996,
          170.13600000000002,
          32.400000000000006,
          443.92,
          415.5,
          723.256,
          61.44,
          1173.03,
          175.29,
          292.93,
          569.336,
          351.916,
          297.29999999999995,
          178.17000000000002,
          45.36,
          539.0859999999999,
          77.88,
          2606.2259999999997,
          1901.056,
          319.38599999999997,
          2562.1710000000003,
          244.24,
          481.69800000000004,
          62.8,
          1792.0189999999998,
          1345.418,
          190.72000000000003,
          376.96999999999997,
          119.9,
          2.48,
          15.700000000000001,
          79.9,
          723.164,
          18.9,
          2013.422,
          701.1360000000001,
          114.37,
          19.459999999999997,
          383.61,
          568.86,
          372.178,
          221.79,
          283.92,
          2676.672,
          372.45899999999995,
          504.63199999999995,
          51.6,
          49.49,
          537.88,
          339.334,
          5.76,
          1232.9340000000002,
          1299.538,
          257.968,
          44.46,
          508.29,
          1941.81,
          17.12,
          83.736,
          1230.5,
          1119.78,
          3251.3400000000006,
          114.46,
          34.58,
          727.878,
          102.218,
          1167.056,
          65.05000000000001,
          59.99,
          381.804,
          39.68,
          17.456,
          166.29200000000003,
          105.52,
          93.02,
          1542.926,
          121.83,
          146.82,
          70.88,
          1004.798,
          60.629999999999995,
          16.99,
          4173.812,
          3384.4500000000003,
          6573.232,
          1376.5560000000003,
          51.18400000000001,
          84.784,
          41.904,
          93.9,
          1199.976,
          97.95999999999998,
          831.7810000000001,
          6.12,
          687.6560000000001,
          2157.23,
          383.8,
          257.499,
          156.51600000000002,
          31.56,
          445.552,
          41.568000000000005,
          71.08800000000001,
          305.49600000000004,
          252.148,
          59.540000000000006,
          5.98,
          32.04,
          128.67,
          310.55999999999995,
          17.34,
          209.276,
          131.804,
          1064.624,
          37.05,
          222.38400000000001,
          1119.1480000000001,
          13.38,
          1196.56,
          238.928,
          79.792,
          3538.0020000000004,
          121.95,
          2015.0049999999997,
          1566.2600000000002,
          1116.172,
          53.7,
          46.349999999999994,
          482.006,
          17.12,
          409.76,
          111.96,
          1041.974,
          5085.1900000000005,
          41.32000000000001,
          300.634,
          22.14,
          1393.365,
          195.184,
          3136.8680000000004,
          215.65,
          292.796,
          95.76,
          425.954,
          77.88,
          6.3,
          37.17,
          423.05,
          21.48,
          686.244,
          1085.688,
          715.64,
          18.9,
          482.58400000000006,
          863.128,
          335.12,
          211.168,
          1016.184,
          121.09199999999998,
          161.28,
          85.986,
          565.49,
          165.13,
          3347.3820000000005,
          1608.8960000000002,
          12.78,
          2892.6400000000003,
          2303.3680000000004,
          146.04000000000002,
          216.16000000000003,
          276.78400000000005,
          55.36000000000001,
          310.86,
          3727.792,
          2700.26,
          168.808,
          557.086,
          231.22,
          477.666,
          868.14,
          12.96,
          1519.5755,
          194.848,
          63.480000000000004,
          1027.676,
          61.96,
          10.56,
          27.264,
          256.196,
          18.16,
          120.666,
          19.296,
          199.99,
          541.576,
          638.326,
          909.98,
          100.49600000000001,
          67.13600000000001,
          407.17999999999995,
          68.952,
          1281.8400000000001,
          1442.2100000000003,
          1489.7240000000002,
          344.01800000000003,
          1352.1460000000002,
          90.396,
          433.944,
          356.74800000000005,
          1976.844,
          479.97,
          898.1480000000001,
          531.5759999999999,
          1063.248,
          110.62,
          368.75600000000003,
          823.422,
          27.88,
          32.400000000000006,
          39,
          194.35200000000003,
          7008.746,
          1259.18,
          39.78,
          1761.8500000000001,
          767.558,
          100.25,
          877.53,
          1018.3020000000001,
          2324.3540000000003,
          354.20000000000005,
          1475.5840000000003,
          321.568,
          440.15999999999997,
          216.22400000000002,
          9.84,
          1187.344,
          2003.52,
          14.76,
          1387.1499999999999,
          885.03,
          3760.224,
          571.424,
          1451.238,
          53.222,
          16.59,
          776.806,
          38.376000000000005,
          2031.392,
          38.88,
          332.8,
          437.372,
          176.3,
          384.17600000000004,
          160.776,
          412.9960000000001,
          141.14000000000001,
          277.71,
          136.526,
          142.344,
          753.624,
          2011.8999999999999,
          384.8,
          246.439,
          57.510000000000005,
          287.326,
          238.19799999999998,
          2110.7200000000003,
          37.44,
          356.78999999999996,
          380.136,
          2403.828,
          24.57,
          611.47,
          710.8040000000001,
          286.52,
          242.94,
          314.54999999999995,
          90.86,
          558.3900000000001,
          1780.338,
          745.2800000000001,
          381.35999999999996,
          211.84,
          1069.132,
          170.87200000000004,
          1604.5400000000002,
          94.2,
          5282.647999999999,
          127.46,
          54.81,
          440.30999999999995,
          515.844,
          241.81,
          349.493,
          562.702,
          18.28,
          183.38,
          452.9509999999999,
          1.81,
          197.514,
          92.39399999999999,
          23.24,
          428.82,
          109.62,
          48.879999999999995,
          832.96,
          921.7339999999999,
          419.94399999999996,
          3521.0220000000004,
          1418.21,
          551.038,
          58.48,
          726.8280000000001,
          1001.5720000000001,
          118.02,
          12.62,
          171.288,
          12.96,
          35.099999999999994,
          37.52,
          60.622,
          1546.5359999999998,
          122.97,
          854.8249999999999,
          61.44,
          1399.4360000000001,
          55.571999999999996,
          1031.6834999999999,
          2.88,
          95.92,
          1100.62,
          421.42,
          519.759,
          1295.78,
          204.95000000000002,
          312.552,
          87.92,
          204.57,
          273.976,
          8.67,
          101.75200000000001,
          2443.7540000000004,
          1295.0249999999999,
          479.98400000000004,
          2399.96,
          1921.7000000000003,
          73.512,
          3182.866,
          450.16999999999996,
          54.89600000000001,
          186.54,
          99.87,
          175.71,
          2563.314,
          244.54999999999998,
          380.39000000000004,
          597.8599999999999,
          22.439999999999998,
          36.024,
          418.29599999999994,
          1759.2700000000002,
          210.008,
          3397.7319999999995,
          351.65999999999997,
          25.92,
          2971.7920000000004,
          1546.6200000000001,
          250.086,
          1746.864,
          246.23599999999996,
          3125.128,
          423.856,
          506.65999999999997,
          2250.9800000000005,
          163.392,
          557.83,
          8.36,
          482.144,
          56.699999999999996,
          959.2,
          17.9,
          2911.784,
          178.89,
          190.01,
          55.86,
          1065.2160000000001,
          60.339999999999996,
          2244.296,
          186.78400000000002,
          99.2,
          877.8100000000001,
          9.24,
          588.67,
          1858.5480000000002,
          874.9280000000001,
          1359.774,
          307.666,
          964.3820000000001,
          724.65,
          87.92,
          124.522,
          5501.254,
          24.678,
          39.62400000000001,
          95.388,
          652.505,
          261.536,
          1158.882,
          3866.7059999999997,
          190.04999999999998,
          168.1,
          35.88,
          499.32800000000003,
          7.800000000000001,
          245.666,
          1283.1060000000002,
          523.392,
          210.67,
          60.496,
          2194.2560000000003,
          324.37399999999997,
          377.808,
          213.188,
          23.36,
          955.2459999999999,
          766.658,
          1076.1520000000003,
          27.76,
          444.019,
          223.58,
          5.16,
          198.978,
          839.438,
          733.588,
          1390.708,
          722.5799999999999,
          10.68,
          218.81,
          374.37600000000003,
          148.257,
          4133.787,
          1096.4879999999998,
          738.392,
          85.504,
          396.43,
          325.91600000000005,
          432.04200000000003,
          918.062,
          299.96500000000003,
          517.3820000000001,
          3982.9620000000004,
          124.36,
          424.172,
          340.70400000000006,
          1421.784,
          34.623999999999995,
          101.12
         ]
        }
       ],
       "layout": {
        "height": 600,
        "template": {
         "data": {
          "bar": [
           {
            "error_x": {
             "color": "#f2f5fa"
            },
            "error_y": {
             "color": "#f2f5fa"
            },
            "marker": {
             "line": {
              "color": "rgb(17,17,17)",
              "width": 0.5
             },
             "pattern": {
              "fillmode": "overlay",
              "size": 10,
              "solidity": 0.2
             }
            },
            "type": "bar"
           }
          ],
          "barpolar": [
           {
            "marker": {
             "line": {
              "color": "rgb(17,17,17)",
              "width": 0.5
             },
             "pattern": {
              "fillmode": "overlay",
              "size": 10,
              "solidity": 0.2
             }
            },
            "type": "barpolar"
           }
          ],
          "carpet": [
           {
            "aaxis": {
             "endlinecolor": "#A2B1C6",
             "gridcolor": "#506784",
             "linecolor": "#506784",
             "minorgridcolor": "#506784",
             "startlinecolor": "#A2B1C6"
            },
            "baxis": {
             "endlinecolor": "#A2B1C6",
             "gridcolor": "#506784",
             "linecolor": "#506784",
             "minorgridcolor": "#506784",
             "startlinecolor": "#A2B1C6"
            },
            "type": "carpet"
           }
          ],
          "choropleth": [
           {
            "colorbar": {
             "outlinewidth": 0,
             "ticks": ""
            },
            "type": "choropleth"
           }
          ],
          "contour": [
           {
            "colorbar": {
             "outlinewidth": 0,
             "ticks": ""
            },
            "colorscale": [
             [
              0,
              "#0d0887"
             ],
             [
              0.1111111111111111,
              "#46039f"
             ],
             [
              0.2222222222222222,
              "#7201a8"
             ],
             [
              0.3333333333333333,
              "#9c179e"
             ],
             [
              0.4444444444444444,
              "#bd3786"
             ],
             [
              0.5555555555555556,
              "#d8576b"
             ],
             [
              0.6666666666666666,
              "#ed7953"
             ],
             [
              0.7777777777777778,
              "#fb9f3a"
             ],
             [
              0.8888888888888888,
              "#fdca26"
             ],
             [
              1,
              "#f0f921"
             ]
            ],
            "type": "contour"
           }
          ],
          "contourcarpet": [
           {
            "colorbar": {
             "outlinewidth": 0,
             "ticks": ""
            },
            "type": "contourcarpet"
           }
          ],
          "heatmap": [
           {
            "colorbar": {
             "outlinewidth": 0,
             "ticks": ""
            },
            "colorscale": [
             [
              0,
              "#0d0887"
             ],
             [
              0.1111111111111111,
              "#46039f"
             ],
             [
              0.2222222222222222,
              "#7201a8"
             ],
             [
              0.3333333333333333,
              "#9c179e"
             ],
             [
              0.4444444444444444,
              "#bd3786"
             ],
             [
              0.5555555555555556,
              "#d8576b"
             ],
             [
              0.6666666666666666,
              "#ed7953"
             ],
             [
              0.7777777777777778,
              "#fb9f3a"
             ],
             [
              0.8888888888888888,
              "#fdca26"
             ],
             [
              1,
              "#f0f921"
             ]
            ],
            "type": "heatmap"
           }
          ],
          "heatmapgl": [
           {
            "colorbar": {
             "outlinewidth": 0,
             "ticks": ""
            },
            "colorscale": [
             [
              0,
              "#0d0887"
             ],
             [
              0.1111111111111111,
              "#46039f"
             ],
             [
              0.2222222222222222,
              "#7201a8"
             ],
             [
              0.3333333333333333,
              "#9c179e"
             ],
             [
              0.4444444444444444,
              "#bd3786"
             ],
             [
              0.5555555555555556,
              "#d8576b"
             ],
             [
              0.6666666666666666,
              "#ed7953"
             ],
             [
              0.7777777777777778,
              "#fb9f3a"
             ],
             [
              0.8888888888888888,
              "#fdca26"
             ],
             [
              1,
              "#f0f921"
             ]
            ],
            "type": "heatmapgl"
           }
          ],
          "histogram": [
           {
            "marker": {
             "pattern": {
              "fillmode": "overlay",
              "size": 10,
              "solidity": 0.2
             }
            },
            "type": "histogram"
           }
          ],
          "histogram2d": [
           {
            "colorbar": {
             "outlinewidth": 0,
             "ticks": ""
            },
            "colorscale": [
             [
              0,
              "#0d0887"
             ],
             [
              0.1111111111111111,
              "#46039f"
             ],
             [
              0.2222222222222222,
              "#7201a8"
             ],
             [
              0.3333333333333333,
              "#9c179e"
             ],
             [
              0.4444444444444444,
              "#bd3786"
             ],
             [
              0.5555555555555556,
              "#d8576b"
             ],
             [
              0.6666666666666666,
              "#ed7953"
             ],
             [
              0.7777777777777778,
              "#fb9f3a"
             ],
             [
              0.8888888888888888,
              "#fdca26"
             ],
             [
              1,
              "#f0f921"
             ]
            ],
            "type": "histogram2d"
           }
          ],
          "histogram2dcontour": [
           {
            "colorbar": {
             "outlinewidth": 0,
             "ticks": ""
            },
            "colorscale": [
             [
              0,
              "#0d0887"
             ],
             [
              0.1111111111111111,
              "#46039f"
             ],
             [
              0.2222222222222222,
              "#7201a8"
             ],
             [
              0.3333333333333333,
              "#9c179e"
             ],
             [
              0.4444444444444444,
              "#bd3786"
             ],
             [
              0.5555555555555556,
              "#d8576b"
             ],
             [
              0.6666666666666666,
              "#ed7953"
             ],
             [
              0.7777777777777778,
              "#fb9f3a"
             ],
             [
              0.8888888888888888,
              "#fdca26"
             ],
             [
              1,
              "#f0f921"
             ]
            ],
            "type": "histogram2dcontour"
           }
          ],
          "mesh3d": [
           {
            "colorbar": {
             "outlinewidth": 0,
             "ticks": ""
            },
            "type": "mesh3d"
           }
          ],
          "parcoords": [
           {
            "line": {
             "colorbar": {
              "outlinewidth": 0,
              "ticks": ""
             }
            },
            "type": "parcoords"
           }
          ],
          "pie": [
           {
            "automargin": true,
            "type": "pie"
           }
          ],
          "scatter": [
           {
            "marker": {
             "line": {
              "color": "#283442"
             }
            },
            "type": "scatter"
           }
          ],
          "scatter3d": [
           {
            "line": {
             "colorbar": {
              "outlinewidth": 0,
              "ticks": ""
             }
            },
            "marker": {
             "colorbar": {
              "outlinewidth": 0,
              "ticks": ""
             }
            },
            "type": "scatter3d"
           }
          ],
          "scattercarpet": [
           {
            "marker": {
             "colorbar": {
              "outlinewidth": 0,
              "ticks": ""
             }
            },
            "type": "scattercarpet"
           }
          ],
          "scattergeo": [
           {
            "marker": {
             "colorbar": {
              "outlinewidth": 0,
              "ticks": ""
             }
            },
            "type": "scattergeo"
           }
          ],
          "scattergl": [
           {
            "marker": {
             "line": {
              "color": "#283442"
             }
            },
            "type": "scattergl"
           }
          ],
          "scattermapbox": [
           {
            "marker": {
             "colorbar": {
              "outlinewidth": 0,
              "ticks": ""
             }
            },
            "type": "scattermapbox"
           }
          ],
          "scatterpolar": [
           {
            "marker": {
             "colorbar": {
              "outlinewidth": 0,
              "ticks": ""
             }
            },
            "type": "scatterpolar"
           }
          ],
          "scatterpolargl": [
           {
            "marker": {
             "colorbar": {
              "outlinewidth": 0,
              "ticks": ""
             }
            },
            "type": "scatterpolargl"
           }
          ],
          "scatterternary": [
           {
            "marker": {
             "colorbar": {
              "outlinewidth": 0,
              "ticks": ""
             }
            },
            "type": "scatterternary"
           }
          ],
          "surface": [
           {
            "colorbar": {
             "outlinewidth": 0,
             "ticks": ""
            },
            "colorscale": [
             [
              0,
              "#0d0887"
             ],
             [
              0.1111111111111111,
              "#46039f"
             ],
             [
              0.2222222222222222,
              "#7201a8"
             ],
             [
              0.3333333333333333,
              "#9c179e"
             ],
             [
              0.4444444444444444,
              "#bd3786"
             ],
             [
              0.5555555555555556,
              "#d8576b"
             ],
             [
              0.6666666666666666,
              "#ed7953"
             ],
             [
              0.7777777777777778,
              "#fb9f3a"
             ],
             [
              0.8888888888888888,
              "#fdca26"
             ],
             [
              1,
              "#f0f921"
             ]
            ],
            "type": "surface"
           }
          ],
          "table": [
           {
            "cells": {
             "fill": {
              "color": "#506784"
             },
             "line": {
              "color": "rgb(17,17,17)"
             }
            },
            "header": {
             "fill": {
              "color": "#2a3f5f"
             },
             "line": {
              "color": "rgb(17,17,17)"
             }
            },
            "type": "table"
           }
          ]
         },
         "layout": {
          "annotationdefaults": {
           "arrowcolor": "#f2f5fa",
           "arrowhead": 0,
           "arrowwidth": 1
          },
          "autotypenumbers": "strict",
          "coloraxis": {
           "colorbar": {
            "outlinewidth": 0,
            "ticks": ""
           }
          },
          "colorscale": {
           "diverging": [
            [
             0,
             "#8e0152"
            ],
            [
             0.1,
             "#c51b7d"
            ],
            [
             0.2,
             "#de77ae"
            ],
            [
             0.3,
             "#f1b6da"
            ],
            [
             0.4,
             "#fde0ef"
            ],
            [
             0.5,
             "#f7f7f7"
            ],
            [
             0.6,
             "#e6f5d0"
            ],
            [
             0.7,
             "#b8e186"
            ],
            [
             0.8,
             "#7fbc41"
            ],
            [
             0.9,
             "#4d9221"
            ],
            [
             1,
             "#276419"
            ]
           ],
           "sequential": [
            [
             0,
             "#0d0887"
            ],
            [
             0.1111111111111111,
             "#46039f"
            ],
            [
             0.2222222222222222,
             "#7201a8"
            ],
            [
             0.3333333333333333,
             "#9c179e"
            ],
            [
             0.4444444444444444,
             "#bd3786"
            ],
            [
             0.5555555555555556,
             "#d8576b"
            ],
            [
             0.6666666666666666,
             "#ed7953"
            ],
            [
             0.7777777777777778,
             "#fb9f3a"
            ],
            [
             0.8888888888888888,
             "#fdca26"
            ],
            [
             1,
             "#f0f921"
            ]
           ],
           "sequentialminus": [
            [
             0,
             "#0d0887"
            ],
            [
             0.1111111111111111,
             "#46039f"
            ],
            [
             0.2222222222222222,
             "#7201a8"
            ],
            [
             0.3333333333333333,
             "#9c179e"
            ],
            [
             0.4444444444444444,
             "#bd3786"
            ],
            [
             0.5555555555555556,
             "#d8576b"
            ],
            [
             0.6666666666666666,
             "#ed7953"
            ],
            [
             0.7777777777777778,
             "#fb9f3a"
            ],
            [
             0.8888888888888888,
             "#fdca26"
            ],
            [
             1,
             "#f0f921"
            ]
           ]
          },
          "colorway": [
           "#636efa",
           "#EF553B",
           "#00cc96",
           "#ab63fa",
           "#FFA15A",
           "#19d3f3",
           "#FF6692",
           "#B6E880",
           "#FF97FF",
           "#FECB52"
          ],
          "font": {
           "color": "#f2f5fa"
          },
          "geo": {
           "bgcolor": "rgb(17,17,17)",
           "lakecolor": "rgb(17,17,17)",
           "landcolor": "rgb(17,17,17)",
           "showlakes": true,
           "showland": true,
           "subunitcolor": "#506784"
          },
          "hoverlabel": {
           "align": "left"
          },
          "hovermode": "closest",
          "mapbox": {
           "style": "dark"
          },
          "paper_bgcolor": "rgb(17,17,17)",
          "plot_bgcolor": "rgb(17,17,17)",
          "polar": {
           "angularaxis": {
            "gridcolor": "#506784",
            "linecolor": "#506784",
            "ticks": ""
           },
           "bgcolor": "rgb(17,17,17)",
           "radialaxis": {
            "gridcolor": "#506784",
            "linecolor": "#506784",
            "ticks": ""
           }
          },
          "scene": {
           "xaxis": {
            "backgroundcolor": "rgb(17,17,17)",
            "gridcolor": "#506784",
            "gridwidth": 2,
            "linecolor": "#506784",
            "showbackground": true,
            "ticks": "",
            "zerolinecolor": "#C8D4E3"
           },
           "yaxis": {
            "backgroundcolor": "rgb(17,17,17)",
            "gridcolor": "#506784",
            "gridwidth": 2,
            "linecolor": "#506784",
            "showbackground": true,
            "ticks": "",
            "zerolinecolor": "#C8D4E3"
           },
           "zaxis": {
            "backgroundcolor": "rgb(17,17,17)",
            "gridcolor": "#506784",
            "gridwidth": 2,
            "linecolor": "#506784",
            "showbackground": true,
            "ticks": "",
            "zerolinecolor": "#C8D4E3"
           }
          },
          "shapedefaults": {
           "line": {
            "color": "#f2f5fa"
           }
          },
          "sliderdefaults": {
           "bgcolor": "#C8D4E3",
           "bordercolor": "rgb(17,17,17)",
           "borderwidth": 1,
           "tickwidth": 0
          },
          "ternary": {
           "aaxis": {
            "gridcolor": "#506784",
            "linecolor": "#506784",
            "ticks": ""
           },
           "baxis": {
            "gridcolor": "#506784",
            "linecolor": "#506784",
            "ticks": ""
           },
           "bgcolor": "rgb(17,17,17)",
           "caxis": {
            "gridcolor": "#506784",
            "linecolor": "#506784",
            "ticks": ""
           }
          },
          "title": {
           "x": 0.05
          },
          "updatemenudefaults": {
           "bgcolor": "#506784",
           "borderwidth": 0
          },
          "xaxis": {
           "automargin": true,
           "gridcolor": "#283442",
           "linecolor": "#506784",
           "ticks": "",
           "title": {
            "standoff": 15
           },
           "zerolinecolor": "#283442",
           "zerolinewidth": 2
          },
          "yaxis": {
           "automargin": true,
           "gridcolor": "#283442",
           "linecolor": "#506784",
           "ticks": "",
           "title": {
            "standoff": 15
           },
           "zerolinecolor": "#283442",
           "zerolinewidth": 2
          }
         }
        },
        "title": {
         "text": "Ventas por día en California",
         "x": 0.5
        },
        "width": 1500,
        "xaxis": {
         "title": {
          "text": "Fecha"
         }
        },
        "yaxis": {
         "title": {
          "text": "Ventas totales"
         }
        }
       }
      },
      "text/html": [
       "<div>                            <div id=\"1681eb4b-a42b-4c33-a51f-a789e530c4a5\" class=\"plotly-graph-div\" style=\"height:600px; width:1500px;\"></div>            <script type=\"text/javascript\">                require([\"plotly\"], function(Plotly) {                    window.PLOTLYENV=window.PLOTLYENV || {};                                    if (document.getElementById(\"1681eb4b-a42b-4c33-a51f-a789e530c4a5\")) {                    Plotly.newPlot(                        \"1681eb4b-a42b-4c33-a51f-a789e530c4a5\",                        [{\"marker\":{\"color\":\"blue\"},\"mode\":\"lines+markers\",\"text\":[\"2014-01-08T00:00:00\",\"2014-01-18T00:00:00\",\"2014-01-25T00:00:00\",\"2014-02-02T00:00:00\",\"2014-02-06T00:00:00\",\"2014-02-08T00:00:00\",\"2014-02-18T00:00:00\",\"2014-02-24T00:00:00\",\"2014-03-07T00:00:00\",\"2014-03-15T00:00:00\",\"2014-03-18T00:00:00\",\"2014-03-21T00:00:00\",\"2014-03-24T00:00:00\",\"2014-03-26T00:00:00\",\"2014-03-29T00:00:00\",\"2014-03-30T00:00:00\",\"2014-03-31T00:00:00\",\"2014-04-04T00:00:00\",\"2014-04-05T00:00:00\",\"2014-04-06T00:00:00\",\"2014-04-08T00:00:00\",\"2014-04-09T00:00:00\",\"2014-04-10T00:00:00\",\"2014-04-12T00:00:00\",\"2014-04-15T00:00:00\",\"2014-04-17T00:00:00\",\"2014-04-18T00:00:00\",\"2014-04-21T00:00:00\",\"2014-04-23T00:00:00\",\"2014-04-25T00:00:00\",\"2014-04-26T00:00:00\",\"2014-04-30T00:00:00\",\"2014-05-03T00:00:00\",\"2014-05-10T00:00:00\",\"2014-05-11T00:00:00\",\"2014-05-15T00:00:00\",\"2014-05-17T00:00:00\",\"2014-05-19T00:00:00\",\"2014-05-20T00:00:00\",\"2014-05-23T00:00:00\",\"2014-05-25T00:00:00\",\"2014-05-27T00:00:00\",\"2014-05-30T00:00:00\",\"2014-06-01T00:00:00\",\"2014-06-14T00:00:00\",\"2014-06-16T00:00:00\",\"2014-06-17T00:00:00\",\"2014-06-23T00:00:00\",\"2014-06-28T00:00:00\",\"2014-07-03T00:00:00\",\"2014-07-11T00:00:00\",\"2014-07-12T00:00:00\",\"2014-07-13T00:00:00\",\"2014-07-14T00:00:00\",\"2014-07-16T00:00:00\",\"2014-07-17T00:00:00\",\"2014-07-22T00:00:00\",\"2014-07-23T00:00:00\",\"2014-07-24T00:00:00\",\"2014-07-25T00:00:00\",\"2014-07-27T00:00:00\",\"2014-07-28T00:00:00\",\"2014-07-29T00:00:00\",\"2014-07-30T00:00:00\",\"2014-08-03T00:00:00\",\"2014-08-09T00:00:00\",\"2014-08-11T00:00:00\",\"2014-08-14T00:00:00\",\"2014-08-15T00:00:00\",\"2014-08-16T00:00:00\",\"2014-08-19T00:00:00\",\"2014-08-21T00:00:00\",\"2014-08-27T00:00:00\",\"2014-08-29T00:00:00\",\"2014-08-30T00:00:00\",\"2014-09-01T00:00:00\",\"2014-09-05T00:00:00\",\"2014-09-09T00:00:00\",\"2014-09-12T00:00:00\",\"2014-09-13T00:00:00\",\"2014-09-14T00:00:00\",\"2014-09-16T00:00:00\",\"2014-09-19T00:00:00\",\"2014-09-21T00:00:00\",\"2014-09-24T00:00:00\",\"2014-09-25T00:00:00\",\"2014-09-26T00:00:00\",\"2014-09-27T00:00:00\",\"2014-09-28T00:00:00\",\"2014-09-29T00:00:00\",\"2014-10-01T00:00:00\",\"2014-10-03T00:00:00\",\"2014-10-06T00:00:00\",\"2014-10-08T00:00:00\",\"2014-10-10T00:00:00\",\"2014-10-13T00:00:00\",\"2014-10-14T00:00:00\",\"2014-10-15T00:00:00\",\"2014-10-16T00:00:00\",\"2014-10-17T00:00:00\",\"2014-10-19T00:00:00\",\"2014-10-22T00:00:00\",\"2014-10-24T00:00:00\",\"2014-10-26T00:00:00\",\"2014-10-28T00:00:00\",\"2014-10-29T00:00:00\",\"2014-10-31T00:00:00\",\"2014-11-02T00:00:00\",\"2014-11-03T00:00:00\",\"2014-11-04T00:00:00\",\"2014-11-06T00:00:00\",\"2014-11-08T00:00:00\",\"2014-11-10T00:00:00\",\"2014-11-11T00:00:00\",\"2014-11-12T00:00:00\",\"2014-11-13T00:00:00\",\"2014-11-14T00:00:00\",\"2014-11-16T00:00:00\",\"2014-11-17T00:00:00\",\"2014-11-18T00:00:00\",\"2014-11-19T00:00:00\",\"2014-11-22T00:00:00\",\"2014-11-25T00:00:00\",\"2014-11-26T00:00:00\",\"2014-11-27T00:00:00\",\"2014-11-28T00:00:00\",\"2014-11-29T00:00:00\",\"2014-12-01T00:00:00\",\"2014-12-05T00:00:00\",\"2014-12-06T00:00:00\",\"2014-12-07T00:00:00\",\"2014-12-08T00:00:00\",\"2014-12-10T00:00:00\",\"2014-12-14T00:00:00\",\"2014-12-15T00:00:00\",\"2014-12-16T00:00:00\",\"2014-12-17T00:00:00\",\"2014-12-19T00:00:00\",\"2014-12-21T00:00:00\",\"2014-12-23T00:00:00\",\"2014-12-26T00:00:00\",\"2014-12-27T00:00:00\",\"2014-12-29T00:00:00\",\"2014-12-30T00:00:00\",\"2014-12-31T00:00:00\",\"2015-01-02T00:00:00\",\"2015-01-03T00:00:00\",\"2015-01-10T00:00:00\",\"2015-01-17T00:00:00\",\"2015-01-29T00:00:00\",\"2015-02-01T00:00:00\",\"2015-02-04T00:00:00\",\"2015-02-06T00:00:00\",\"2015-02-16T00:00:00\",\"2015-02-18T00:00:00\",\"2015-02-21T00:00:00\",\"2015-02-22T00:00:00\",\"2015-02-24T00:00:00\",\"2015-03-03T00:00:00\",\"2015-03-11T00:00:00\",\"2015-03-18T00:00:00\",\"2015-03-19T00:00:00\",\"2015-03-20T00:00:00\",\"2015-03-23T00:00:00\",\"2015-03-24T00:00:00\",\"2015-03-25T00:00:00\",\"2015-03-26T00:00:00\",\"2015-03-30T00:00:00\",\"2015-03-31T00:00:00\",\"2015-04-02T00:00:00\",\"2015-04-09T00:00:00\",\"2015-04-11T00:00:00\",\"2015-04-14T00:00:00\",\"2015-04-15T00:00:00\",\"2015-04-17T00:00:00\",\"2015-04-19T00:00:00\",\"2015-04-20T00:00:00\",\"2015-04-21T00:00:00\",\"2015-04-26T00:00:00\",\"2015-04-28T00:00:00\",\"2015-05-01T00:00:00\",\"2015-05-02T00:00:00\",\"2015-05-06T00:00:00\",\"2015-05-07T00:00:00\",\"2015-05-08T00:00:00\",\"2015-05-16T00:00:00\",\"2015-05-19T00:00:00\",\"2015-05-21T00:00:00\",\"2015-05-22T00:00:00\",\"2015-05-26T00:00:00\",\"2015-05-27T00:00:00\",\"2015-06-02T00:00:00\",\"2015-06-08T00:00:00\",\"2015-06-09T00:00:00\",\"2015-06-14T00:00:00\",\"2015-06-19T00:00:00\",\"2015-06-22T00:00:00\",\"2015-06-23T00:00:00\",\"2015-06-25T00:00:00\",\"2015-06-28T00:00:00\",\"2015-06-30T00:00:00\",\"2015-07-01T00:00:00\",\"2015-07-08T00:00:00\",\"2015-07-11T00:00:00\",\"2015-07-14T00:00:00\",\"2015-07-16T00:00:00\",\"2015-07-19T00:00:00\",\"2015-07-22T00:00:00\",\"2015-07-30T00:00:00\",\"2015-07-31T00:00:00\",\"2015-08-02T00:00:00\",\"2015-08-07T00:00:00\",\"2015-08-08T00:00:00\",\"2015-08-12T00:00:00\",\"2015-08-13T00:00:00\",\"2015-08-19T00:00:00\",\"2015-08-20T00:00:00\",\"2015-08-23T00:00:00\",\"2015-08-26T00:00:00\",\"2015-08-30T00:00:00\",\"2015-08-31T00:00:00\",\"2015-09-01T00:00:00\",\"2015-09-02T00:00:00\",\"2015-09-04T00:00:00\",\"2015-09-05T00:00:00\",\"2015-09-08T00:00:00\",\"2015-09-09T00:00:00\",\"2015-09-11T00:00:00\",\"2015-09-12T00:00:00\",\"2015-09-14T00:00:00\",\"2015-09-15T00:00:00\",\"2015-09-16T00:00:00\",\"2015-09-18T00:00:00\",\"2015-09-19T00:00:00\",\"2015-09-21T00:00:00\",\"2015-09-22T00:00:00\",\"2015-09-23T00:00:00\",\"2015-09-26T00:00:00\",\"2015-09-28T00:00:00\",\"2015-09-29T00:00:00\",\"2015-10-01T00:00:00\",\"2015-10-03T00:00:00\",\"2015-10-05T00:00:00\",\"2015-10-07T00:00:00\",\"2015-10-08T00:00:00\",\"2015-10-11T00:00:00\",\"2015-10-12T00:00:00\",\"2015-10-17T00:00:00\",\"2015-10-24T00:00:00\",\"2015-10-27T00:00:00\",\"2015-10-30T00:00:00\",\"2015-10-31T00:00:00\",\"2015-11-02T00:00:00\",\"2015-11-04T00:00:00\",\"2015-11-05T00:00:00\",\"2015-11-06T00:00:00\",\"2015-11-07T00:00:00\",\"2015-11-09T00:00:00\",\"2015-11-10T00:00:00\",\"2015-11-12T00:00:00\",\"2015-11-13T00:00:00\",\"2015-11-14T00:00:00\",\"2015-11-15T00:00:00\",\"2015-11-17T00:00:00\",\"2015-11-18T00:00:00\",\"2015-11-21T00:00:00\",\"2015-11-24T00:00:00\",\"2015-11-25T00:00:00\",\"2015-11-26T00:00:00\",\"2015-11-28T00:00:00\",\"2015-11-29T00:00:00\",\"2015-11-30T00:00:00\",\"2015-12-01T00:00:00\",\"2015-12-03T00:00:00\",\"2015-12-06T00:00:00\",\"2015-12-07T00:00:00\",\"2015-12-09T00:00:00\",\"2015-12-10T00:00:00\",\"2015-12-11T00:00:00\",\"2015-12-12T00:00:00\",\"2015-12-13T00:00:00\",\"2015-12-14T00:00:00\",\"2015-12-15T00:00:00\",\"2015-12-16T00:00:00\",\"2015-12-17T00:00:00\",\"2015-12-18T00:00:00\",\"2015-12-19T00:00:00\",\"2015-12-24T00:00:00\",\"2015-12-25T00:00:00\",\"2015-12-29T00:00:00\",\"2015-12-30T00:00:00\",\"2015-12-31T00:00:00\",\"2016-01-03T00:00:00\",\"2016-01-05T00:00:00\",\"2016-01-12T00:00:00\",\"2016-01-15T00:00:00\",\"2016-01-20T00:00:00\",\"2016-01-23T00:00:00\",\"2016-01-28T00:00:00\",\"2016-01-29T00:00:00\",\"2016-01-31T00:00:00\",\"2016-02-01T00:00:00\",\"2016-02-03T00:00:00\",\"2016-02-04T00:00:00\",\"2016-02-07T00:00:00\",\"2016-02-09T00:00:00\",\"2016-02-10T00:00:00\",\"2016-02-13T00:00:00\",\"2016-02-18T00:00:00\",\"2016-02-22T00:00:00\",\"2016-02-26T00:00:00\",\"2016-03-03T00:00:00\",\"2016-03-10T00:00:00\",\"2016-03-11T00:00:00\",\"2016-03-13T00:00:00\",\"2016-03-15T00:00:00\",\"2016-03-16T00:00:00\",\"2016-03-18T00:00:00\",\"2016-03-19T00:00:00\",\"2016-03-20T00:00:00\",\"2016-03-31T00:00:00\",\"2016-04-09T00:00:00\",\"2016-04-12T00:00:00\",\"2016-04-14T00:00:00\",\"2016-04-15T00:00:00\",\"2016-04-16T00:00:00\",\"2016-04-17T00:00:00\",\"2016-04-18T00:00:00\",\"2016-04-21T00:00:00\",\"2016-04-24T00:00:00\",\"2016-04-26T00:00:00\",\"2016-04-27T00:00:00\",\"2016-05-05T00:00:00\",\"2016-05-07T00:00:00\",\"2016-05-08T00:00:00\",\"2016-05-09T00:00:00\",\"2016-05-10T00:00:00\",\"2016-05-12T00:00:00\",\"2016-05-14T00:00:00\",\"2016-05-16T00:00:00\",\"2016-05-19T00:00:00\",\"2016-05-21T00:00:00\",\"2016-05-23T00:00:00\",\"2016-05-24T00:00:00\",\"2016-05-25T00:00:00\",\"2016-05-27T00:00:00\",\"2016-05-29T00:00:00\",\"2016-05-31T00:00:00\",\"2016-06-02T00:00:00\",\"2016-06-03T00:00:00\",\"2016-06-06T00:00:00\",\"2016-06-07T00:00:00\",\"2016-06-11T00:00:00\",\"2016-06-12T00:00:00\",\"2016-06-14T00:00:00\",\"2016-06-15T00:00:00\",\"2016-06-16T00:00:00\",\"2016-06-17T00:00:00\",\"2016-06-18T00:00:00\",\"2016-06-19T00:00:00\",\"2016-06-20T00:00:00\",\"2016-06-21T00:00:00\",\"2016-06-22T00:00:00\",\"2016-06-25T00:00:00\",\"2016-06-26T00:00:00\",\"2016-06-28T00:00:00\",\"2016-06-29T00:00:00\",\"2016-07-03T00:00:00\",\"2016-07-06T00:00:00\",\"2016-07-07T00:00:00\",\"2016-07-09T00:00:00\",\"2016-07-11T00:00:00\",\"2016-07-18T00:00:00\",\"2016-07-19T00:00:00\",\"2016-07-21T00:00:00\",\"2016-07-22T00:00:00\",\"2016-07-24T00:00:00\",\"2016-07-25T00:00:00\",\"2016-07-26T00:00:00\",\"2016-07-27T00:00:00\",\"2016-07-31T00:00:00\",\"2016-08-01T00:00:00\",\"2016-08-02T00:00:00\",\"2016-08-03T00:00:00\",\"2016-08-04T00:00:00\",\"2016-08-05T00:00:00\",\"2016-08-06T00:00:00\",\"2016-08-13T00:00:00\",\"2016-08-15T00:00:00\",\"2016-08-18T00:00:00\",\"2016-08-19T00:00:00\",\"2016-08-20T00:00:00\",\"2016-08-22T00:00:00\",\"2016-08-27T00:00:00\",\"2016-08-28T00:00:00\",\"2016-08-29T00:00:00\",\"2016-09-03T00:00:00\",\"2016-09-04T00:00:00\",\"2016-09-06T00:00:00\",\"2016-09-08T00:00:00\",\"2016-09-10T00:00:00\",\"2016-09-12T00:00:00\",\"2016-09-13T00:00:00\",\"2016-09-15T00:00:00\",\"2016-09-17T00:00:00\",\"2016-09-22T00:00:00\",\"2016-09-23T00:00:00\",\"2016-09-24T00:00:00\",\"2016-09-26T00:00:00\",\"2016-09-27T00:00:00\",\"2016-09-28T00:00:00\",\"2016-09-30T00:00:00\",\"2016-10-01T00:00:00\",\"2016-10-02T00:00:00\",\"2016-10-03T00:00:00\",\"2016-10-07T00:00:00\",\"2016-10-08T00:00:00\",\"2016-10-12T00:00:00\",\"2016-10-13T00:00:00\",\"2016-10-19T00:00:00\",\"2016-10-20T00:00:00\",\"2016-10-21T00:00:00\",\"2016-10-22T00:00:00\",\"2016-10-24T00:00:00\",\"2016-10-25T00:00:00\",\"2016-10-27T00:00:00\",\"2016-10-28T00:00:00\",\"2016-10-29T00:00:00\",\"2016-10-31T00:00:00\",\"2016-11-01T00:00:00\",\"2016-11-02T00:00:00\",\"2016-11-04T00:00:00\",\"2016-11-05T00:00:00\",\"2016-11-06T00:00:00\",\"2016-11-07T00:00:00\",\"2016-11-08T00:00:00\",\"2016-11-09T00:00:00\",\"2016-11-10T00:00:00\",\"2016-11-12T00:00:00\",\"2016-11-13T00:00:00\",\"2016-11-14T00:00:00\",\"2016-11-15T00:00:00\",\"2016-11-16T00:00:00\",\"2016-11-17T00:00:00\",\"2016-11-18T00:00:00\",\"2016-11-19T00:00:00\",\"2016-11-22T00:00:00\",\"2016-11-24T00:00:00\",\"2016-11-26T00:00:00\",\"2016-11-27T00:00:00\",\"2016-11-29T00:00:00\",\"2016-11-30T00:00:00\",\"2016-12-01T00:00:00\",\"2016-12-05T00:00:00\",\"2016-12-06T00:00:00\",\"2016-12-07T00:00:00\",\"2016-12-08T00:00:00\",\"2016-12-09T00:00:00\",\"2016-12-10T00:00:00\",\"2016-12-11T00:00:00\",\"2016-12-12T00:00:00\",\"2016-12-14T00:00:00\",\"2016-12-15T00:00:00\",\"2016-12-16T00:00:00\",\"2016-12-17T00:00:00\",\"2016-12-19T00:00:00\",\"2016-12-20T00:00:00\",\"2016-12-21T00:00:00\",\"2016-12-22T00:00:00\",\"2016-12-23T00:00:00\",\"2016-12-24T00:00:00\",\"2016-12-28T00:00:00\",\"2016-12-30T00:00:00\",\"2016-12-31T00:00:00\",\"2017-01-02T00:00:00\",\"2017-01-04T00:00:00\",\"2017-01-05T00:00:00\",\"2017-01-06T00:00:00\",\"2017-01-07T00:00:00\",\"2017-01-08T00:00:00\",\"2017-01-09T00:00:00\",\"2017-01-16T00:00:00\",\"2017-01-19T00:00:00\",\"2017-01-25T00:00:00\",\"2017-01-26T00:00:00\",\"2017-01-29T00:00:00\",\"2017-01-30T00:00:00\",\"2017-01-31T00:00:00\",\"2017-02-02T00:00:00\",\"2017-02-06T00:00:00\",\"2017-02-07T00:00:00\",\"2017-02-09T00:00:00\",\"2017-02-13T00:00:00\",\"2017-02-14T00:00:00\",\"2017-02-20T00:00:00\",\"2017-02-21T00:00:00\",\"2017-02-23T00:00:00\",\"2017-02-28T00:00:00\",\"2017-03-01T00:00:00\",\"2017-03-02T00:00:00\",\"2017-03-03T00:00:00\",\"2017-03-08T00:00:00\",\"2017-03-09T00:00:00\",\"2017-03-10T00:00:00\",\"2017-03-13T00:00:00\",\"2017-03-15T00:00:00\",\"2017-03-17T00:00:00\",\"2017-03-19T00:00:00\",\"2017-03-20T00:00:00\",\"2017-03-21T00:00:00\",\"2017-03-22T00:00:00\",\"2017-03-23T00:00:00\",\"2017-03-24T00:00:00\",\"2017-03-25T00:00:00\",\"2017-03-26T00:00:00\",\"2017-03-30T00:00:00\",\"2017-03-31T00:00:00\",\"2017-04-01T00:00:00\",\"2017-04-03T00:00:00\",\"2017-04-05T00:00:00\",\"2017-04-07T00:00:00\",\"2017-04-12T00:00:00\",\"2017-04-17T00:00:00\",\"2017-04-18T00:00:00\",\"2017-04-20T00:00:00\",\"2017-04-22T00:00:00\",\"2017-04-24T00:00:00\",\"2017-04-25T00:00:00\",\"2017-04-27T00:00:00\",\"2017-04-28T00:00:00\",\"2017-04-29T00:00:00\",\"2017-05-02T00:00:00\",\"2017-05-04T00:00:00\",\"2017-05-05T00:00:00\",\"2017-05-06T00:00:00\",\"2017-05-07T00:00:00\",\"2017-05-08T00:00:00\",\"2017-05-09T00:00:00\",\"2017-05-11T00:00:00\",\"2017-05-12T00:00:00\",\"2017-05-14T00:00:00\",\"2017-05-18T00:00:00\",\"2017-05-20T00:00:00\",\"2017-05-21T00:00:00\",\"2017-05-24T00:00:00\",\"2017-05-25T00:00:00\",\"2017-05-26T00:00:00\",\"2017-05-29T00:00:00\",\"2017-05-31T00:00:00\",\"2017-06-03T00:00:00\",\"2017-06-04T00:00:00\",\"2017-06-07T00:00:00\",\"2017-06-10T00:00:00\",\"2017-06-11T00:00:00\",\"2017-06-13T00:00:00\",\"2017-06-14T00:00:00\",\"2017-06-19T00:00:00\",\"2017-06-20T00:00:00\",\"2017-06-23T00:00:00\",\"2017-06-26T00:00:00\",\"2017-06-28T00:00:00\",\"2017-06-30T00:00:00\",\"2017-07-01T00:00:00\",\"2017-07-02T00:00:00\",\"2017-07-03T00:00:00\",\"2017-07-05T00:00:00\",\"2017-07-06T00:00:00\",\"2017-07-08T00:00:00\",\"2017-07-10T00:00:00\",\"2017-07-11T00:00:00\",\"2017-07-15T00:00:00\",\"2017-07-16T00:00:00\",\"2017-07-18T00:00:00\",\"2017-07-19T00:00:00\",\"2017-07-21T00:00:00\",\"2017-07-24T00:00:00\",\"2017-07-25T00:00:00\",\"2017-07-26T00:00:00\",\"2017-08-01T00:00:00\",\"2017-08-03T00:00:00\",\"2017-08-04T00:00:00\",\"2017-08-05T00:00:00\",\"2017-08-06T00:00:00\",\"2017-08-08T00:00:00\",\"2017-08-11T00:00:00\",\"2017-08-12T00:00:00\",\"2017-08-13T00:00:00\",\"2017-08-15T00:00:00\",\"2017-08-16T00:00:00\",\"2017-08-20T00:00:00\",\"2017-08-21T00:00:00\",\"2017-08-22T00:00:00\",\"2017-08-23T00:00:00\",\"2017-08-24T00:00:00\",\"2017-08-25T00:00:00\",\"2017-08-27T00:00:00\",\"2017-08-29T00:00:00\",\"2017-09-04T00:00:00\",\"2017-09-05T00:00:00\",\"2017-09-06T00:00:00\",\"2017-09-07T00:00:00\",\"2017-09-08T00:00:00\",\"2017-09-10T00:00:00\",\"2017-09-11T00:00:00\",\"2017-09-12T00:00:00\",\"2017-09-13T00:00:00\",\"2017-09-14T00:00:00\",\"2017-09-15T00:00:00\",\"2017-09-17T00:00:00\",\"2017-09-18T00:00:00\",\"2017-09-19T00:00:00\",\"2017-09-20T00:00:00\",\"2017-09-21T00:00:00\",\"2017-09-23T00:00:00\",\"2017-09-24T00:00:00\",\"2017-09-25T00:00:00\",\"2017-09-26T00:00:00\",\"2017-09-28T00:00:00\",\"2017-09-29T00:00:00\",\"2017-09-30T00:00:00\",\"2017-10-01T00:00:00\",\"2017-10-02T00:00:00\",\"2017-10-04T00:00:00\",\"2017-10-06T00:00:00\",\"2017-10-08T00:00:00\",\"2017-10-10T00:00:00\",\"2017-10-11T00:00:00\",\"2017-10-13T00:00:00\",\"2017-10-14T00:00:00\",\"2017-10-17T00:00:00\",\"2017-10-18T00:00:00\",\"2017-10-19T00:00:00\",\"2017-10-20T00:00:00\",\"2017-10-22T00:00:00\",\"2017-10-23T00:00:00\",\"2017-10-24T00:00:00\",\"2017-10-28T00:00:00\",\"2017-10-29T00:00:00\",\"2017-11-04T00:00:00\",\"2017-11-05T00:00:00\",\"2017-11-06T00:00:00\",\"2017-11-07T00:00:00\",\"2017-11-08T00:00:00\",\"2017-11-09T00:00:00\",\"2017-11-10T00:00:00\",\"2017-11-11T00:00:00\",\"2017-11-12T00:00:00\",\"2017-11-13T00:00:00\",\"2017-11-14T00:00:00\",\"2017-11-15T00:00:00\",\"2017-11-16T00:00:00\",\"2017-11-17T00:00:00\",\"2017-11-19T00:00:00\",\"2017-11-20T00:00:00\",\"2017-11-21T00:00:00\",\"2017-11-22T00:00:00\",\"2017-11-24T00:00:00\",\"2017-11-25T00:00:00\",\"2017-11-27T00:00:00\",\"2017-11-29T00:00:00\",\"2017-11-30T00:00:00\",\"2017-12-01T00:00:00\",\"2017-12-02T00:00:00\",\"2017-12-03T00:00:00\",\"2017-12-05T00:00:00\",\"2017-12-06T00:00:00\",\"2017-12-07T00:00:00\",\"2017-12-08T00:00:00\",\"2017-12-09T00:00:00\",\"2017-12-10T00:00:00\",\"2017-12-11T00:00:00\",\"2017-12-12T00:00:00\",\"2017-12-13T00:00:00\",\"2017-12-14T00:00:00\",\"2017-12-17T00:00:00\",\"2017-12-18T00:00:00\",\"2017-12-19T00:00:00\",\"2017-12-20T00:00:00\",\"2017-12-21T00:00:00\",\"2017-12-23T00:00:00\",\"2017-12-24T00:00:00\",\"2017-12-25T00:00:00\",\"2017-12-27T00:00:00\",\"2017-12-29T00:00:00\",\"2017-12-31T00:00:00\",\"2018-01-02T00:00:00\",\"2018-01-03T00:00:00\",\"2018-01-05T00:00:00\"],\"x\":[\"2014-01-08T00:00:00\",\"2014-01-18T00:00:00\",\"2014-01-25T00:00:00\",\"2014-02-02T00:00:00\",\"2014-02-06T00:00:00\",\"2014-02-08T00:00:00\",\"2014-02-18T00:00:00\",\"2014-02-24T00:00:00\",\"2014-03-07T00:00:00\",\"2014-03-15T00:00:00\",\"2014-03-18T00:00:00\",\"2014-03-21T00:00:00\",\"2014-03-24T00:00:00\",\"2014-03-26T00:00:00\",\"2014-03-29T00:00:00\",\"2014-03-30T00:00:00\",\"2014-03-31T00:00:00\",\"2014-04-04T00:00:00\",\"2014-04-05T00:00:00\",\"2014-04-06T00:00:00\",\"2014-04-08T00:00:00\",\"2014-04-09T00:00:00\",\"2014-04-10T00:00:00\",\"2014-04-12T00:00:00\",\"2014-04-15T00:00:00\",\"2014-04-17T00:00:00\",\"2014-04-18T00:00:00\",\"2014-04-21T00:00:00\",\"2014-04-23T00:00:00\",\"2014-04-25T00:00:00\",\"2014-04-26T00:00:00\",\"2014-04-30T00:00:00\",\"2014-05-03T00:00:00\",\"2014-05-10T00:00:00\",\"2014-05-11T00:00:00\",\"2014-05-15T00:00:00\",\"2014-05-17T00:00:00\",\"2014-05-19T00:00:00\",\"2014-05-20T00:00:00\",\"2014-05-23T00:00:00\",\"2014-05-25T00:00:00\",\"2014-05-27T00:00:00\",\"2014-05-30T00:00:00\",\"2014-06-01T00:00:00\",\"2014-06-14T00:00:00\",\"2014-06-16T00:00:00\",\"2014-06-17T00:00:00\",\"2014-06-23T00:00:00\",\"2014-06-28T00:00:00\",\"2014-07-03T00:00:00\",\"2014-07-11T00:00:00\",\"2014-07-12T00:00:00\",\"2014-07-13T00:00:00\",\"2014-07-14T00:00:00\",\"2014-07-16T00:00:00\",\"2014-07-17T00:00:00\",\"2014-07-22T00:00:00\",\"2014-07-23T00:00:00\",\"2014-07-24T00:00:00\",\"2014-07-25T00:00:00\",\"2014-07-27T00:00:00\",\"2014-07-28T00:00:00\",\"2014-07-29T00:00:00\",\"2014-07-30T00:00:00\",\"2014-08-03T00:00:00\",\"2014-08-09T00:00:00\",\"2014-08-11T00:00:00\",\"2014-08-14T00:00:00\",\"2014-08-15T00:00:00\",\"2014-08-16T00:00:00\",\"2014-08-19T00:00:00\",\"2014-08-21T00:00:00\",\"2014-08-27T00:00:00\",\"2014-08-29T00:00:00\",\"2014-08-30T00:00:00\",\"2014-09-01T00:00:00\",\"2014-09-05T00:00:00\",\"2014-09-09T00:00:00\",\"2014-09-12T00:00:00\",\"2014-09-13T00:00:00\",\"2014-09-14T00:00:00\",\"2014-09-16T00:00:00\",\"2014-09-19T00:00:00\",\"2014-09-21T00:00:00\",\"2014-09-24T00:00:00\",\"2014-09-25T00:00:00\",\"2014-09-26T00:00:00\",\"2014-09-27T00:00:00\",\"2014-09-28T00:00:00\",\"2014-09-29T00:00:00\",\"2014-10-01T00:00:00\",\"2014-10-03T00:00:00\",\"2014-10-06T00:00:00\",\"2014-10-08T00:00:00\",\"2014-10-10T00:00:00\",\"2014-10-13T00:00:00\",\"2014-10-14T00:00:00\",\"2014-10-15T00:00:00\",\"2014-10-16T00:00:00\",\"2014-10-17T00:00:00\",\"2014-10-19T00:00:00\",\"2014-10-22T00:00:00\",\"2014-10-24T00:00:00\",\"2014-10-26T00:00:00\",\"2014-10-28T00:00:00\",\"2014-10-29T00:00:00\",\"2014-10-31T00:00:00\",\"2014-11-02T00:00:00\",\"2014-11-03T00:00:00\",\"2014-11-04T00:00:00\",\"2014-11-06T00:00:00\",\"2014-11-08T00:00:00\",\"2014-11-10T00:00:00\",\"2014-11-11T00:00:00\",\"2014-11-12T00:00:00\",\"2014-11-13T00:00:00\",\"2014-11-14T00:00:00\",\"2014-11-16T00:00:00\",\"2014-11-17T00:00:00\",\"2014-11-18T00:00:00\",\"2014-11-19T00:00:00\",\"2014-11-22T00:00:00\",\"2014-11-25T00:00:00\",\"2014-11-26T00:00:00\",\"2014-11-27T00:00:00\",\"2014-11-28T00:00:00\",\"2014-11-29T00:00:00\",\"2014-12-01T00:00:00\",\"2014-12-05T00:00:00\",\"2014-12-06T00:00:00\",\"2014-12-07T00:00:00\",\"2014-12-08T00:00:00\",\"2014-12-10T00:00:00\",\"2014-12-14T00:00:00\",\"2014-12-15T00:00:00\",\"2014-12-16T00:00:00\",\"2014-12-17T00:00:00\",\"2014-12-19T00:00:00\",\"2014-12-21T00:00:00\",\"2014-12-23T00:00:00\",\"2014-12-26T00:00:00\",\"2014-12-27T00:00:00\",\"2014-12-29T00:00:00\",\"2014-12-30T00:00:00\",\"2014-12-31T00:00:00\",\"2015-01-02T00:00:00\",\"2015-01-03T00:00:00\",\"2015-01-10T00:00:00\",\"2015-01-17T00:00:00\",\"2015-01-29T00:00:00\",\"2015-02-01T00:00:00\",\"2015-02-04T00:00:00\",\"2015-02-06T00:00:00\",\"2015-02-16T00:00:00\",\"2015-02-18T00:00:00\",\"2015-02-21T00:00:00\",\"2015-02-22T00:00:00\",\"2015-02-24T00:00:00\",\"2015-03-03T00:00:00\",\"2015-03-11T00:00:00\",\"2015-03-18T00:00:00\",\"2015-03-19T00:00:00\",\"2015-03-20T00:00:00\",\"2015-03-23T00:00:00\",\"2015-03-24T00:00:00\",\"2015-03-25T00:00:00\",\"2015-03-26T00:00:00\",\"2015-03-30T00:00:00\",\"2015-03-31T00:00:00\",\"2015-04-02T00:00:00\",\"2015-04-09T00:00:00\",\"2015-04-11T00:00:00\",\"2015-04-14T00:00:00\",\"2015-04-15T00:00:00\",\"2015-04-17T00:00:00\",\"2015-04-19T00:00:00\",\"2015-04-20T00:00:00\",\"2015-04-21T00:00:00\",\"2015-04-26T00:00:00\",\"2015-04-28T00:00:00\",\"2015-05-01T00:00:00\",\"2015-05-02T00:00:00\",\"2015-05-06T00:00:00\",\"2015-05-07T00:00:00\",\"2015-05-08T00:00:00\",\"2015-05-16T00:00:00\",\"2015-05-19T00:00:00\",\"2015-05-21T00:00:00\",\"2015-05-22T00:00:00\",\"2015-05-26T00:00:00\",\"2015-05-27T00:00:00\",\"2015-06-02T00:00:00\",\"2015-06-08T00:00:00\",\"2015-06-09T00:00:00\",\"2015-06-14T00:00:00\",\"2015-06-19T00:00:00\",\"2015-06-22T00:00:00\",\"2015-06-23T00:00:00\",\"2015-06-25T00:00:00\",\"2015-06-28T00:00:00\",\"2015-06-30T00:00:00\",\"2015-07-01T00:00:00\",\"2015-07-08T00:00:00\",\"2015-07-11T00:00:00\",\"2015-07-14T00:00:00\",\"2015-07-16T00:00:00\",\"2015-07-19T00:00:00\",\"2015-07-22T00:00:00\",\"2015-07-30T00:00:00\",\"2015-07-31T00:00:00\",\"2015-08-02T00:00:00\",\"2015-08-07T00:00:00\",\"2015-08-08T00:00:00\",\"2015-08-12T00:00:00\",\"2015-08-13T00:00:00\",\"2015-08-19T00:00:00\",\"2015-08-20T00:00:00\",\"2015-08-23T00:00:00\",\"2015-08-26T00:00:00\",\"2015-08-30T00:00:00\",\"2015-08-31T00:00:00\",\"2015-09-01T00:00:00\",\"2015-09-02T00:00:00\",\"2015-09-04T00:00:00\",\"2015-09-05T00:00:00\",\"2015-09-08T00:00:00\",\"2015-09-09T00:00:00\",\"2015-09-11T00:00:00\",\"2015-09-12T00:00:00\",\"2015-09-14T00:00:00\",\"2015-09-15T00:00:00\",\"2015-09-16T00:00:00\",\"2015-09-18T00:00:00\",\"2015-09-19T00:00:00\",\"2015-09-21T00:00:00\",\"2015-09-22T00:00:00\",\"2015-09-23T00:00:00\",\"2015-09-26T00:00:00\",\"2015-09-28T00:00:00\",\"2015-09-29T00:00:00\",\"2015-10-01T00:00:00\",\"2015-10-03T00:00:00\",\"2015-10-05T00:00:00\",\"2015-10-07T00:00:00\",\"2015-10-08T00:00:00\",\"2015-10-11T00:00:00\",\"2015-10-12T00:00:00\",\"2015-10-17T00:00:00\",\"2015-10-24T00:00:00\",\"2015-10-27T00:00:00\",\"2015-10-30T00:00:00\",\"2015-10-31T00:00:00\",\"2015-11-02T00:00:00\",\"2015-11-04T00:00:00\",\"2015-11-05T00:00:00\",\"2015-11-06T00:00:00\",\"2015-11-07T00:00:00\",\"2015-11-09T00:00:00\",\"2015-11-10T00:00:00\",\"2015-11-12T00:00:00\",\"2015-11-13T00:00:00\",\"2015-11-14T00:00:00\",\"2015-11-15T00:00:00\",\"2015-11-17T00:00:00\",\"2015-11-18T00:00:00\",\"2015-11-21T00:00:00\",\"2015-11-24T00:00:00\",\"2015-11-25T00:00:00\",\"2015-11-26T00:00:00\",\"2015-11-28T00:00:00\",\"2015-11-29T00:00:00\",\"2015-11-30T00:00:00\",\"2015-12-01T00:00:00\",\"2015-12-03T00:00:00\",\"2015-12-06T00:00:00\",\"2015-12-07T00:00:00\",\"2015-12-09T00:00:00\",\"2015-12-10T00:00:00\",\"2015-12-11T00:00:00\",\"2015-12-12T00:00:00\",\"2015-12-13T00:00:00\",\"2015-12-14T00:00:00\",\"2015-12-15T00:00:00\",\"2015-12-16T00:00:00\",\"2015-12-17T00:00:00\",\"2015-12-18T00:00:00\",\"2015-12-19T00:00:00\",\"2015-12-24T00:00:00\",\"2015-12-25T00:00:00\",\"2015-12-29T00:00:00\",\"2015-12-30T00:00:00\",\"2015-12-31T00:00:00\",\"2016-01-03T00:00:00\",\"2016-01-05T00:00:00\",\"2016-01-12T00:00:00\",\"2016-01-15T00:00:00\",\"2016-01-20T00:00:00\",\"2016-01-23T00:00:00\",\"2016-01-28T00:00:00\",\"2016-01-29T00:00:00\",\"2016-01-31T00:00:00\",\"2016-02-01T00:00:00\",\"2016-02-03T00:00:00\",\"2016-02-04T00:00:00\",\"2016-02-07T00:00:00\",\"2016-02-09T00:00:00\",\"2016-02-10T00:00:00\",\"2016-02-13T00:00:00\",\"2016-02-18T00:00:00\",\"2016-02-22T00:00:00\",\"2016-02-26T00:00:00\",\"2016-03-03T00:00:00\",\"2016-03-10T00:00:00\",\"2016-03-11T00:00:00\",\"2016-03-13T00:00:00\",\"2016-03-15T00:00:00\",\"2016-03-16T00:00:00\",\"2016-03-18T00:00:00\",\"2016-03-19T00:00:00\",\"2016-03-20T00:00:00\",\"2016-03-31T00:00:00\",\"2016-04-09T00:00:00\",\"2016-04-12T00:00:00\",\"2016-04-14T00:00:00\",\"2016-04-15T00:00:00\",\"2016-04-16T00:00:00\",\"2016-04-17T00:00:00\",\"2016-04-18T00:00:00\",\"2016-04-21T00:00:00\",\"2016-04-24T00:00:00\",\"2016-04-26T00:00:00\",\"2016-04-27T00:00:00\",\"2016-05-05T00:00:00\",\"2016-05-07T00:00:00\",\"2016-05-08T00:00:00\",\"2016-05-09T00:00:00\",\"2016-05-10T00:00:00\",\"2016-05-12T00:00:00\",\"2016-05-14T00:00:00\",\"2016-05-16T00:00:00\",\"2016-05-19T00:00:00\",\"2016-05-21T00:00:00\",\"2016-05-23T00:00:00\",\"2016-05-24T00:00:00\",\"2016-05-25T00:00:00\",\"2016-05-27T00:00:00\",\"2016-05-29T00:00:00\",\"2016-05-31T00:00:00\",\"2016-06-02T00:00:00\",\"2016-06-03T00:00:00\",\"2016-06-06T00:00:00\",\"2016-06-07T00:00:00\",\"2016-06-11T00:00:00\",\"2016-06-12T00:00:00\",\"2016-06-14T00:00:00\",\"2016-06-15T00:00:00\",\"2016-06-16T00:00:00\",\"2016-06-17T00:00:00\",\"2016-06-18T00:00:00\",\"2016-06-19T00:00:00\",\"2016-06-20T00:00:00\",\"2016-06-21T00:00:00\",\"2016-06-22T00:00:00\",\"2016-06-25T00:00:00\",\"2016-06-26T00:00:00\",\"2016-06-28T00:00:00\",\"2016-06-29T00:00:00\",\"2016-07-03T00:00:00\",\"2016-07-06T00:00:00\",\"2016-07-07T00:00:00\",\"2016-07-09T00:00:00\",\"2016-07-11T00:00:00\",\"2016-07-18T00:00:00\",\"2016-07-19T00:00:00\",\"2016-07-21T00:00:00\",\"2016-07-22T00:00:00\",\"2016-07-24T00:00:00\",\"2016-07-25T00:00:00\",\"2016-07-26T00:00:00\",\"2016-07-27T00:00:00\",\"2016-07-31T00:00:00\",\"2016-08-01T00:00:00\",\"2016-08-02T00:00:00\",\"2016-08-03T00:00:00\",\"2016-08-04T00:00:00\",\"2016-08-05T00:00:00\",\"2016-08-06T00:00:00\",\"2016-08-13T00:00:00\",\"2016-08-15T00:00:00\",\"2016-08-18T00:00:00\",\"2016-08-19T00:00:00\",\"2016-08-20T00:00:00\",\"2016-08-22T00:00:00\",\"2016-08-27T00:00:00\",\"2016-08-28T00:00:00\",\"2016-08-29T00:00:00\",\"2016-09-03T00:00:00\",\"2016-09-04T00:00:00\",\"2016-09-06T00:00:00\",\"2016-09-08T00:00:00\",\"2016-09-10T00:00:00\",\"2016-09-12T00:00:00\",\"2016-09-13T00:00:00\",\"2016-09-15T00:00:00\",\"2016-09-17T00:00:00\",\"2016-09-22T00:00:00\",\"2016-09-23T00:00:00\",\"2016-09-24T00:00:00\",\"2016-09-26T00:00:00\",\"2016-09-27T00:00:00\",\"2016-09-28T00:00:00\",\"2016-09-30T00:00:00\",\"2016-10-01T00:00:00\",\"2016-10-02T00:00:00\",\"2016-10-03T00:00:00\",\"2016-10-07T00:00:00\",\"2016-10-08T00:00:00\",\"2016-10-12T00:00:00\",\"2016-10-13T00:00:00\",\"2016-10-19T00:00:00\",\"2016-10-20T00:00:00\",\"2016-10-21T00:00:00\",\"2016-10-22T00:00:00\",\"2016-10-24T00:00:00\",\"2016-10-25T00:00:00\",\"2016-10-27T00:00:00\",\"2016-10-28T00:00:00\",\"2016-10-29T00:00:00\",\"2016-10-31T00:00:00\",\"2016-11-01T00:00:00\",\"2016-11-02T00:00:00\",\"2016-11-04T00:00:00\",\"2016-11-05T00:00:00\",\"2016-11-06T00:00:00\",\"2016-11-07T00:00:00\",\"2016-11-08T00:00:00\",\"2016-11-09T00:00:00\",\"2016-11-10T00:00:00\",\"2016-11-12T00:00:00\",\"2016-11-13T00:00:00\",\"2016-11-14T00:00:00\",\"2016-11-15T00:00:00\",\"2016-11-16T00:00:00\",\"2016-11-17T00:00:00\",\"2016-11-18T00:00:00\",\"2016-11-19T00:00:00\",\"2016-11-22T00:00:00\",\"2016-11-24T00:00:00\",\"2016-11-26T00:00:00\",\"2016-11-27T00:00:00\",\"2016-11-29T00:00:00\",\"2016-11-30T00:00:00\",\"2016-12-01T00:00:00\",\"2016-12-05T00:00:00\",\"2016-12-06T00:00:00\",\"2016-12-07T00:00:00\",\"2016-12-08T00:00:00\",\"2016-12-09T00:00:00\",\"2016-12-10T00:00:00\",\"2016-12-11T00:00:00\",\"2016-12-12T00:00:00\",\"2016-12-14T00:00:00\",\"2016-12-15T00:00:00\",\"2016-12-16T00:00:00\",\"2016-12-17T00:00:00\",\"2016-12-19T00:00:00\",\"2016-12-20T00:00:00\",\"2016-12-21T00:00:00\",\"2016-12-22T00:00:00\",\"2016-12-23T00:00:00\",\"2016-12-24T00:00:00\",\"2016-12-28T00:00:00\",\"2016-12-30T00:00:00\",\"2016-12-31T00:00:00\",\"2017-01-02T00:00:00\",\"2017-01-04T00:00:00\",\"2017-01-05T00:00:00\",\"2017-01-06T00:00:00\",\"2017-01-07T00:00:00\",\"2017-01-08T00:00:00\",\"2017-01-09T00:00:00\",\"2017-01-16T00:00:00\",\"2017-01-19T00:00:00\",\"2017-01-25T00:00:00\",\"2017-01-26T00:00:00\",\"2017-01-29T00:00:00\",\"2017-01-30T00:00:00\",\"2017-01-31T00:00:00\",\"2017-02-02T00:00:00\",\"2017-02-06T00:00:00\",\"2017-02-07T00:00:00\",\"2017-02-09T00:00:00\",\"2017-02-13T00:00:00\",\"2017-02-14T00:00:00\",\"2017-02-20T00:00:00\",\"2017-02-21T00:00:00\",\"2017-02-23T00:00:00\",\"2017-02-28T00:00:00\",\"2017-03-01T00:00:00\",\"2017-03-02T00:00:00\",\"2017-03-03T00:00:00\",\"2017-03-08T00:00:00\",\"2017-03-09T00:00:00\",\"2017-03-10T00:00:00\",\"2017-03-13T00:00:00\",\"2017-03-15T00:00:00\",\"2017-03-17T00:00:00\",\"2017-03-19T00:00:00\",\"2017-03-20T00:00:00\",\"2017-03-21T00:00:00\",\"2017-03-22T00:00:00\",\"2017-03-23T00:00:00\",\"2017-03-24T00:00:00\",\"2017-03-25T00:00:00\",\"2017-03-26T00:00:00\",\"2017-03-30T00:00:00\",\"2017-03-31T00:00:00\",\"2017-04-01T00:00:00\",\"2017-04-03T00:00:00\",\"2017-04-05T00:00:00\",\"2017-04-07T00:00:00\",\"2017-04-12T00:00:00\",\"2017-04-17T00:00:00\",\"2017-04-18T00:00:00\",\"2017-04-20T00:00:00\",\"2017-04-22T00:00:00\",\"2017-04-24T00:00:00\",\"2017-04-25T00:00:00\",\"2017-04-27T00:00:00\",\"2017-04-28T00:00:00\",\"2017-04-29T00:00:00\",\"2017-05-02T00:00:00\",\"2017-05-04T00:00:00\",\"2017-05-05T00:00:00\",\"2017-05-06T00:00:00\",\"2017-05-07T00:00:00\",\"2017-05-08T00:00:00\",\"2017-05-09T00:00:00\",\"2017-05-11T00:00:00\",\"2017-05-12T00:00:00\",\"2017-05-14T00:00:00\",\"2017-05-18T00:00:00\",\"2017-05-20T00:00:00\",\"2017-05-21T00:00:00\",\"2017-05-24T00:00:00\",\"2017-05-25T00:00:00\",\"2017-05-26T00:00:00\",\"2017-05-29T00:00:00\",\"2017-05-31T00:00:00\",\"2017-06-03T00:00:00\",\"2017-06-04T00:00:00\",\"2017-06-07T00:00:00\",\"2017-06-10T00:00:00\",\"2017-06-11T00:00:00\",\"2017-06-13T00:00:00\",\"2017-06-14T00:00:00\",\"2017-06-19T00:00:00\",\"2017-06-20T00:00:00\",\"2017-06-23T00:00:00\",\"2017-06-26T00:00:00\",\"2017-06-28T00:00:00\",\"2017-06-30T00:00:00\",\"2017-07-01T00:00:00\",\"2017-07-02T00:00:00\",\"2017-07-03T00:00:00\",\"2017-07-05T00:00:00\",\"2017-07-06T00:00:00\",\"2017-07-08T00:00:00\",\"2017-07-10T00:00:00\",\"2017-07-11T00:00:00\",\"2017-07-15T00:00:00\",\"2017-07-16T00:00:00\",\"2017-07-18T00:00:00\",\"2017-07-19T00:00:00\",\"2017-07-21T00:00:00\",\"2017-07-24T00:00:00\",\"2017-07-25T00:00:00\",\"2017-07-26T00:00:00\",\"2017-08-01T00:00:00\",\"2017-08-03T00:00:00\",\"2017-08-04T00:00:00\",\"2017-08-05T00:00:00\",\"2017-08-06T00:00:00\",\"2017-08-08T00:00:00\",\"2017-08-11T00:00:00\",\"2017-08-12T00:00:00\",\"2017-08-13T00:00:00\",\"2017-08-15T00:00:00\",\"2017-08-16T00:00:00\",\"2017-08-20T00:00:00\",\"2017-08-21T00:00:00\",\"2017-08-22T00:00:00\",\"2017-08-23T00:00:00\",\"2017-08-24T00:00:00\",\"2017-08-25T00:00:00\",\"2017-08-27T00:00:00\",\"2017-08-29T00:00:00\",\"2017-09-04T00:00:00\",\"2017-09-05T00:00:00\",\"2017-09-06T00:00:00\",\"2017-09-07T00:00:00\",\"2017-09-08T00:00:00\",\"2017-09-10T00:00:00\",\"2017-09-11T00:00:00\",\"2017-09-12T00:00:00\",\"2017-09-13T00:00:00\",\"2017-09-14T00:00:00\",\"2017-09-15T00:00:00\",\"2017-09-17T00:00:00\",\"2017-09-18T00:00:00\",\"2017-09-19T00:00:00\",\"2017-09-20T00:00:00\",\"2017-09-21T00:00:00\",\"2017-09-23T00:00:00\",\"2017-09-24T00:00:00\",\"2017-09-25T00:00:00\",\"2017-09-26T00:00:00\",\"2017-09-28T00:00:00\",\"2017-09-29T00:00:00\",\"2017-09-30T00:00:00\",\"2017-10-01T00:00:00\",\"2017-10-02T00:00:00\",\"2017-10-04T00:00:00\",\"2017-10-06T00:00:00\",\"2017-10-08T00:00:00\",\"2017-10-10T00:00:00\",\"2017-10-11T00:00:00\",\"2017-10-13T00:00:00\",\"2017-10-14T00:00:00\",\"2017-10-17T00:00:00\",\"2017-10-18T00:00:00\",\"2017-10-19T00:00:00\",\"2017-10-20T00:00:00\",\"2017-10-22T00:00:00\",\"2017-10-23T00:00:00\",\"2017-10-24T00:00:00\",\"2017-10-28T00:00:00\",\"2017-10-29T00:00:00\",\"2017-11-04T00:00:00\",\"2017-11-05T00:00:00\",\"2017-11-06T00:00:00\",\"2017-11-07T00:00:00\",\"2017-11-08T00:00:00\",\"2017-11-09T00:00:00\",\"2017-11-10T00:00:00\",\"2017-11-11T00:00:00\",\"2017-11-12T00:00:00\",\"2017-11-13T00:00:00\",\"2017-11-14T00:00:00\",\"2017-11-15T00:00:00\",\"2017-11-16T00:00:00\",\"2017-11-17T00:00:00\",\"2017-11-19T00:00:00\",\"2017-11-20T00:00:00\",\"2017-11-21T00:00:00\",\"2017-11-22T00:00:00\",\"2017-11-24T00:00:00\",\"2017-11-25T00:00:00\",\"2017-11-27T00:00:00\",\"2017-11-29T00:00:00\",\"2017-11-30T00:00:00\",\"2017-12-01T00:00:00\",\"2017-12-02T00:00:00\",\"2017-12-03T00:00:00\",\"2017-12-05T00:00:00\",\"2017-12-06T00:00:00\",\"2017-12-07T00:00:00\",\"2017-12-08T00:00:00\",\"2017-12-09T00:00:00\",\"2017-12-10T00:00:00\",\"2017-12-11T00:00:00\",\"2017-12-12T00:00:00\",\"2017-12-13T00:00:00\",\"2017-12-14T00:00:00\",\"2017-12-17T00:00:00\",\"2017-12-18T00:00:00\",\"2017-12-19T00:00:00\",\"2017-12-20T00:00:00\",\"2017-12-21T00:00:00\",\"2017-12-23T00:00:00\",\"2017-12-24T00:00:00\",\"2017-12-25T00:00:00\",\"2017-12-27T00:00:00\",\"2017-12-29T00:00:00\",\"2017-12-31T00:00:00\",\"2018-01-02T00:00:00\",\"2018-01-03T00:00:00\",\"2018-01-05T00:00:00\"],\"y\":[19.44,1679.749,38.66,717.336,12.350000000000001,134.38400000000001,129.568,32.400000000000006,626.3520000000001,7.98,13.940000000000001,1198.33,3247.1580000000004,935.1519999999999,40.48,177.41000000000003,60.08,205.666,733.7320000000001,46.688,233.45,18.9,436.48799999999994,699.5419999999999,294.71999999999997,1840.0430000000001,39.68,76.14,323.458,76.44,48.91,3774.9700000000003,248.56800000000004,140.736,113.72,2005.5540000000003,149.97,287.456,56.400000000000006,232.88,31.84,926.44,801.53,1213.494,3714.304,30.46,14.52,139.8,447.84,32.400000000000006,180.96000000000004,1177.672,68.70400000000001,172.09699999999998,505.68600000000004,1057.2800000000002,289.036,602.43,1136.092,1173.6160000000002,9334.118,19.68,238.0,276.28,19.752000000000002,472.0440000000001,501.4,5.98,2049.816,912.656,505.282,358.696,49.568000000000005,299.42,176.8,244.76000000000002,53.94,100.36,181.82,8.608,75.64,127.94999999999999,5.67,182.94,15.72,451.28400000000005,95.832,604.9920000000001,730.113,211.96,831.468,968.3,99.98,375.882,146.722,465.48800000000006,160.592,7.64,36.29,194.322,13.440000000000001,306.112,321.552,36.36,49.408,34.272,1252.602,73.584,6.72,1007.936,409.30400000000003,101.14000000000001,20.04,3249.9300000000003,123.14399999999999,707.628,333.576,1448.71,10.95,1677.0205,1075.37,5.22,1037.19,440.782,371.52,460.092,1272.704,332.702,58.199999999999996,606.3199999999999,250.26,1426.21,99.22,4630.5105,240.28,34.68,1351.506,6.16,2236.058,694.5340000000001,25.73,1897.92,1896.304,26.95,107.346,1608.75,1458.738,143.51999999999998,612.458,2803.92,182.72,136.92,2147.3360000000002,203.92,627.48,124.54999999999998,9.24,96.60400000000001,200.73600000000002,1555.2440000000001,1242.8960000000002,19.44,10.9,148.818,15.984000000000002,432.68999999999994,1697.4160000000002,33.36,295.68,199.64000000000001,71.976,892.224,1062.64,12.832,721.488,1282.8880000000001,1124.5700000000002,2572.5,152.916,13.943999999999999,485.7840000000001,21.34,613.698,88.752,665.88,38.519999999999996,1452.7875,1117.92,10.86,3862.0980000000004,14.73,244.77999999999997,11.76,1117.47,36.624,225.57599999999996,51.98,205.73,383.616,366.99,204.85,413.942,22.848,170.35200000000003,39.92,2048.856,195.466,519.96,623.96,357.61,167.86,1011.6960000000001,158.672,19.152,31.56,497.59000000000003,50.8,632.148,667.378,146.744,489.754,150.22,1966.5569999999998,3552.596,58.32000000000001,182.256,912.073,68.28,671.93,51.52,1526.342,372.53999999999996,170.13600000000002,32.400000000000006,443.92,415.5,723.256,61.44,1173.03,175.29,292.93,569.336,351.916,297.29999999999995,178.17000000000002,45.36,539.0859999999999,77.88,2606.2259999999997,1901.056,319.38599999999997,2562.1710000000003,244.24,481.69800000000004,62.8,1792.0189999999998,1345.418,190.72000000000003,376.96999999999997,119.9,2.48,15.700000000000001,79.9,723.164,18.9,2013.422,701.1360000000001,114.37,19.459999999999997,383.61,568.86,372.178,221.79,283.92,2676.672,372.45899999999995,504.63199999999995,51.6,49.49,537.88,339.334,5.76,1232.9340000000002,1299.538,257.968,44.46,508.29,1941.81,17.12,83.736,1230.5,1119.78,3251.3400000000006,114.46,34.58,727.878,102.218,1167.056,65.05000000000001,59.99,381.804,39.68,17.456,166.29200000000003,105.52,93.02,1542.926,121.83,146.82,70.88,1004.798,60.629999999999995,16.99,4173.812,3384.4500000000003,6573.232,1376.5560000000003,51.18400000000001,84.784,41.904,93.9,1199.976,97.95999999999998,831.7810000000001,6.12,687.6560000000001,2157.23,383.8,257.499,156.51600000000002,31.56,445.552,41.568000000000005,71.08800000000001,305.49600000000004,252.148,59.540000000000006,5.98,32.04,128.67,310.55999999999995,17.34,209.276,131.804,1064.624,37.05,222.38400000000001,1119.1480000000001,13.38,1196.56,238.928,79.792,3538.0020000000004,121.95,2015.0049999999997,1566.2600000000002,1116.172,53.7,46.349999999999994,482.006,17.12,409.76,111.96,1041.974,5085.1900000000005,41.32000000000001,300.634,22.14,1393.365,195.184,3136.8680000000004,215.65,292.796,95.76,425.954,77.88,6.3,37.17,423.05,21.48,686.244,1085.688,715.64,18.9,482.58400000000006,863.128,335.12,211.168,1016.184,121.09199999999998,161.28,85.986,565.49,165.13,3347.3820000000005,1608.8960000000002,12.78,2892.6400000000003,2303.3680000000004,146.04000000000002,216.16000000000003,276.78400000000005,55.36000000000001,310.86,3727.792,2700.26,168.808,557.086,231.22,477.666,868.14,12.96,1519.5755,194.848,63.480000000000004,1027.676,61.96,10.56,27.264,256.196,18.16,120.666,19.296,199.99,541.576,638.326,909.98,100.49600000000001,67.13600000000001,407.17999999999995,68.952,1281.8400000000001,1442.2100000000003,1489.7240000000002,344.01800000000003,1352.1460000000002,90.396,433.944,356.74800000000005,1976.844,479.97,898.1480000000001,531.5759999999999,1063.248,110.62,368.75600000000003,823.422,27.88,32.400000000000006,39.0,194.35200000000003,7008.746,1259.18,39.78,1761.8500000000001,767.558,100.25,877.53,1018.3020000000001,2324.3540000000003,354.20000000000005,1475.5840000000003,321.568,440.15999999999997,216.22400000000002,9.84,1187.344,2003.52,14.76,1387.1499999999999,885.03,3760.224,571.424,1451.238,53.222,16.59,776.806,38.376000000000005,2031.392,38.88,332.8,437.372,176.3,384.17600000000004,160.776,412.9960000000001,141.14000000000001,277.71,136.526,142.344,753.624,2011.8999999999999,384.8,246.439,57.510000000000005,287.326,238.19799999999998,2110.7200000000003,37.44,356.78999999999996,380.136,2403.828,24.57,611.47,710.8040000000001,286.52,242.94,314.54999999999995,90.86,558.3900000000001,1780.338,745.2800000000001,381.35999999999996,211.84,1069.132,170.87200000000004,1604.5400000000002,94.2,5282.647999999999,127.46,54.81,440.30999999999995,515.844,241.81,349.493,562.702,18.28,183.38,452.9509999999999,1.81,197.514,92.39399999999999,23.24,428.82,109.62,48.879999999999995,832.96,921.7339999999999,419.94399999999996,3521.0220000000004,1418.21,551.038,58.48,726.8280000000001,1001.5720000000001,118.02,12.62,171.288,12.96,35.099999999999994,37.52,60.622,1546.5359999999998,122.97,854.8249999999999,61.44,1399.4360000000001,55.571999999999996,1031.6834999999999,2.88,95.92,1100.62,421.42,519.759,1295.78,204.95000000000002,312.552,87.92,204.57,273.976,8.67,101.75200000000001,2443.7540000000004,1295.0249999999999,479.98400000000004,2399.96,1921.7000000000003,73.512,3182.866,450.16999999999996,54.89600000000001,186.54,99.87,175.71,2563.314,244.54999999999998,380.39000000000004,597.8599999999999,22.439999999999998,36.024,418.29599999999994,1759.2700000000002,210.008,3397.7319999999995,351.65999999999997,25.92,2971.7920000000004,1546.6200000000001,250.086,1746.864,246.23599999999996,3125.128,423.856,506.65999999999997,2250.9800000000005,163.392,557.83,8.36,482.144,56.699999999999996,959.2,17.9,2911.784,178.89,190.01,55.86,1065.2160000000001,60.339999999999996,2244.296,186.78400000000002,99.2,877.8100000000001,9.24,588.67,1858.5480000000002,874.9280000000001,1359.774,307.666,964.3820000000001,724.65,87.92,124.522,5501.254,24.678,39.62400000000001,95.388,652.505,261.536,1158.882,3866.7059999999997,190.04999999999998,168.1,35.88,499.32800000000003,7.800000000000001,245.666,1283.1060000000002,523.392,210.67,60.496,2194.2560000000003,324.37399999999997,377.808,213.188,23.36,955.2459999999999,766.658,1076.1520000000003,27.76,444.019,223.58,5.16,198.978,839.438,733.588,1390.708,722.5799999999999,10.68,218.81,374.37600000000003,148.257,4133.787,1096.4879999999998,738.392,85.504,396.43,325.91600000000005,432.04200000000003,918.062,299.96500000000003,517.3820000000001,3982.9620000000004,124.36,424.172,340.70400000000006,1421.784,34.623999999999995,101.12],\"type\":\"scatter\"}],                        {\"height\":600,\"template\":{\"data\":{\"barpolar\":[{\"marker\":{\"line\":{\"color\":\"rgb(17,17,17)\",\"width\":0.5},\"pattern\":{\"fillmode\":\"overlay\",\"size\":10,\"solidity\":0.2}},\"type\":\"barpolar\"}],\"bar\":[{\"error_x\":{\"color\":\"#f2f5fa\"},\"error_y\":{\"color\":\"#f2f5fa\"},\"marker\":{\"line\":{\"color\":\"rgb(17,17,17)\",\"width\":0.5},\"pattern\":{\"fillmode\":\"overlay\",\"size\":10,\"solidity\":0.2}},\"type\":\"bar\"}],\"carpet\":[{\"aaxis\":{\"endlinecolor\":\"#A2B1C6\",\"gridcolor\":\"#506784\",\"linecolor\":\"#506784\",\"minorgridcolor\":\"#506784\",\"startlinecolor\":\"#A2B1C6\"},\"baxis\":{\"endlinecolor\":\"#A2B1C6\",\"gridcolor\":\"#506784\",\"linecolor\":\"#506784\",\"minorgridcolor\":\"#506784\",\"startlinecolor\":\"#A2B1C6\"},\"type\":\"carpet\"}],\"choropleth\":[{\"colorbar\":{\"outlinewidth\":0,\"ticks\":\"\"},\"type\":\"choropleth\"}],\"contourcarpet\":[{\"colorbar\":{\"outlinewidth\":0,\"ticks\":\"\"},\"type\":\"contourcarpet\"}],\"contour\":[{\"colorbar\":{\"outlinewidth\":0,\"ticks\":\"\"},\"colorscale\":[[0.0,\"#0d0887\"],[0.1111111111111111,\"#46039f\"],[0.2222222222222222,\"#7201a8\"],[0.3333333333333333,\"#9c179e\"],[0.4444444444444444,\"#bd3786\"],[0.5555555555555556,\"#d8576b\"],[0.6666666666666666,\"#ed7953\"],[0.7777777777777778,\"#fb9f3a\"],[0.8888888888888888,\"#fdca26\"],[1.0,\"#f0f921\"]],\"type\":\"contour\"}],\"heatmapgl\":[{\"colorbar\":{\"outlinewidth\":0,\"ticks\":\"\"},\"colorscale\":[[0.0,\"#0d0887\"],[0.1111111111111111,\"#46039f\"],[0.2222222222222222,\"#7201a8\"],[0.3333333333333333,\"#9c179e\"],[0.4444444444444444,\"#bd3786\"],[0.5555555555555556,\"#d8576b\"],[0.6666666666666666,\"#ed7953\"],[0.7777777777777778,\"#fb9f3a\"],[0.8888888888888888,\"#fdca26\"],[1.0,\"#f0f921\"]],\"type\":\"heatmapgl\"}],\"heatmap\":[{\"colorbar\":{\"outlinewidth\":0,\"ticks\":\"\"},\"colorscale\":[[0.0,\"#0d0887\"],[0.1111111111111111,\"#46039f\"],[0.2222222222222222,\"#7201a8\"],[0.3333333333333333,\"#9c179e\"],[0.4444444444444444,\"#bd3786\"],[0.5555555555555556,\"#d8576b\"],[0.6666666666666666,\"#ed7953\"],[0.7777777777777778,\"#fb9f3a\"],[0.8888888888888888,\"#fdca26\"],[1.0,\"#f0f921\"]],\"type\":\"heatmap\"}],\"histogram2dcontour\":[{\"colorbar\":{\"outlinewidth\":0,\"ticks\":\"\"},\"colorscale\":[[0.0,\"#0d0887\"],[0.1111111111111111,\"#46039f\"],[0.2222222222222222,\"#7201a8\"],[0.3333333333333333,\"#9c179e\"],[0.4444444444444444,\"#bd3786\"],[0.5555555555555556,\"#d8576b\"],[0.6666666666666666,\"#ed7953\"],[0.7777777777777778,\"#fb9f3a\"],[0.8888888888888888,\"#fdca26\"],[1.0,\"#f0f921\"]],\"type\":\"histogram2dcontour\"}],\"histogram2d\":[{\"colorbar\":{\"outlinewidth\":0,\"ticks\":\"\"},\"colorscale\":[[0.0,\"#0d0887\"],[0.1111111111111111,\"#46039f\"],[0.2222222222222222,\"#7201a8\"],[0.3333333333333333,\"#9c179e\"],[0.4444444444444444,\"#bd3786\"],[0.5555555555555556,\"#d8576b\"],[0.6666666666666666,\"#ed7953\"],[0.7777777777777778,\"#fb9f3a\"],[0.8888888888888888,\"#fdca26\"],[1.0,\"#f0f921\"]],\"type\":\"histogram2d\"}],\"histogram\":[{\"marker\":{\"pattern\":{\"fillmode\":\"overlay\",\"size\":10,\"solidity\":0.2}},\"type\":\"histogram\"}],\"mesh3d\":[{\"colorbar\":{\"outlinewidth\":0,\"ticks\":\"\"},\"type\":\"mesh3d\"}],\"parcoords\":[{\"line\":{\"colorbar\":{\"outlinewidth\":0,\"ticks\":\"\"}},\"type\":\"parcoords\"}],\"pie\":[{\"automargin\":true,\"type\":\"pie\"}],\"scatter3d\":[{\"line\":{\"colorbar\":{\"outlinewidth\":0,\"ticks\":\"\"}},\"marker\":{\"colorbar\":{\"outlinewidth\":0,\"ticks\":\"\"}},\"type\":\"scatter3d\"}],\"scattercarpet\":[{\"marker\":{\"colorbar\":{\"outlinewidth\":0,\"ticks\":\"\"}},\"type\":\"scattercarpet\"}],\"scattergeo\":[{\"marker\":{\"colorbar\":{\"outlinewidth\":0,\"ticks\":\"\"}},\"type\":\"scattergeo\"}],\"scattergl\":[{\"marker\":{\"line\":{\"color\":\"#283442\"}},\"type\":\"scattergl\"}],\"scattermapbox\":[{\"marker\":{\"colorbar\":{\"outlinewidth\":0,\"ticks\":\"\"}},\"type\":\"scattermapbox\"}],\"scatterpolargl\":[{\"marker\":{\"colorbar\":{\"outlinewidth\":0,\"ticks\":\"\"}},\"type\":\"scatterpolargl\"}],\"scatterpolar\":[{\"marker\":{\"colorbar\":{\"outlinewidth\":0,\"ticks\":\"\"}},\"type\":\"scatterpolar\"}],\"scatter\":[{\"marker\":{\"line\":{\"color\":\"#283442\"}},\"type\":\"scatter\"}],\"scatterternary\":[{\"marker\":{\"colorbar\":{\"outlinewidth\":0,\"ticks\":\"\"}},\"type\":\"scatterternary\"}],\"surface\":[{\"colorbar\":{\"outlinewidth\":0,\"ticks\":\"\"},\"colorscale\":[[0.0,\"#0d0887\"],[0.1111111111111111,\"#46039f\"],[0.2222222222222222,\"#7201a8\"],[0.3333333333333333,\"#9c179e\"],[0.4444444444444444,\"#bd3786\"],[0.5555555555555556,\"#d8576b\"],[0.6666666666666666,\"#ed7953\"],[0.7777777777777778,\"#fb9f3a\"],[0.8888888888888888,\"#fdca26\"],[1.0,\"#f0f921\"]],\"type\":\"surface\"}],\"table\":[{\"cells\":{\"fill\":{\"color\":\"#506784\"},\"line\":{\"color\":\"rgb(17,17,17)\"}},\"header\":{\"fill\":{\"color\":\"#2a3f5f\"},\"line\":{\"color\":\"rgb(17,17,17)\"}},\"type\":\"table\"}]},\"layout\":{\"annotationdefaults\":{\"arrowcolor\":\"#f2f5fa\",\"arrowhead\":0,\"arrowwidth\":1},\"autotypenumbers\":\"strict\",\"coloraxis\":{\"colorbar\":{\"outlinewidth\":0,\"ticks\":\"\"}},\"colorscale\":{\"diverging\":[[0,\"#8e0152\"],[0.1,\"#c51b7d\"],[0.2,\"#de77ae\"],[0.3,\"#f1b6da\"],[0.4,\"#fde0ef\"],[0.5,\"#f7f7f7\"],[0.6,\"#e6f5d0\"],[0.7,\"#b8e186\"],[0.8,\"#7fbc41\"],[0.9,\"#4d9221\"],[1,\"#276419\"]],\"sequential\":[[0.0,\"#0d0887\"],[0.1111111111111111,\"#46039f\"],[0.2222222222222222,\"#7201a8\"],[0.3333333333333333,\"#9c179e\"],[0.4444444444444444,\"#bd3786\"],[0.5555555555555556,\"#d8576b\"],[0.6666666666666666,\"#ed7953\"],[0.7777777777777778,\"#fb9f3a\"],[0.8888888888888888,\"#fdca26\"],[1.0,\"#f0f921\"]],\"sequentialminus\":[[0.0,\"#0d0887\"],[0.1111111111111111,\"#46039f\"],[0.2222222222222222,\"#7201a8\"],[0.3333333333333333,\"#9c179e\"],[0.4444444444444444,\"#bd3786\"],[0.5555555555555556,\"#d8576b\"],[0.6666666666666666,\"#ed7953\"],[0.7777777777777778,\"#fb9f3a\"],[0.8888888888888888,\"#fdca26\"],[1.0,\"#f0f921\"]]},\"colorway\":[\"#636efa\",\"#EF553B\",\"#00cc96\",\"#ab63fa\",\"#FFA15A\",\"#19d3f3\",\"#FF6692\",\"#B6E880\",\"#FF97FF\",\"#FECB52\"],\"font\":{\"color\":\"#f2f5fa\"},\"geo\":{\"bgcolor\":\"rgb(17,17,17)\",\"lakecolor\":\"rgb(17,17,17)\",\"landcolor\":\"rgb(17,17,17)\",\"showlakes\":true,\"showland\":true,\"subunitcolor\":\"#506784\"},\"hoverlabel\":{\"align\":\"left\"},\"hovermode\":\"closest\",\"mapbox\":{\"style\":\"dark\"},\"paper_bgcolor\":\"rgb(17,17,17)\",\"plot_bgcolor\":\"rgb(17,17,17)\",\"polar\":{\"angularaxis\":{\"gridcolor\":\"#506784\",\"linecolor\":\"#506784\",\"ticks\":\"\"},\"bgcolor\":\"rgb(17,17,17)\",\"radialaxis\":{\"gridcolor\":\"#506784\",\"linecolor\":\"#506784\",\"ticks\":\"\"}},\"scene\":{\"xaxis\":{\"backgroundcolor\":\"rgb(17,17,17)\",\"gridcolor\":\"#506784\",\"gridwidth\":2,\"linecolor\":\"#506784\",\"showbackground\":true,\"ticks\":\"\",\"zerolinecolor\":\"#C8D4E3\"},\"yaxis\":{\"backgroundcolor\":\"rgb(17,17,17)\",\"gridcolor\":\"#506784\",\"gridwidth\":2,\"linecolor\":\"#506784\",\"showbackground\":true,\"ticks\":\"\",\"zerolinecolor\":\"#C8D4E3\"},\"zaxis\":{\"backgroundcolor\":\"rgb(17,17,17)\",\"gridcolor\":\"#506784\",\"gridwidth\":2,\"linecolor\":\"#506784\",\"showbackground\":true,\"ticks\":\"\",\"zerolinecolor\":\"#C8D4E3\"}},\"shapedefaults\":{\"line\":{\"color\":\"#f2f5fa\"}},\"sliderdefaults\":{\"bgcolor\":\"#C8D4E3\",\"bordercolor\":\"rgb(17,17,17)\",\"borderwidth\":1,\"tickwidth\":0},\"ternary\":{\"aaxis\":{\"gridcolor\":\"#506784\",\"linecolor\":\"#506784\",\"ticks\":\"\"},\"baxis\":{\"gridcolor\":\"#506784\",\"linecolor\":\"#506784\",\"ticks\":\"\"},\"bgcolor\":\"rgb(17,17,17)\",\"caxis\":{\"gridcolor\":\"#506784\",\"linecolor\":\"#506784\",\"ticks\":\"\"}},\"title\":{\"x\":0.05},\"updatemenudefaults\":{\"bgcolor\":\"#506784\",\"borderwidth\":0},\"xaxis\":{\"automargin\":true,\"gridcolor\":\"#283442\",\"linecolor\":\"#506784\",\"ticks\":\"\",\"title\":{\"standoff\":15},\"zerolinecolor\":\"#283442\",\"zerolinewidth\":2},\"yaxis\":{\"automargin\":true,\"gridcolor\":\"#283442\",\"linecolor\":\"#506784\",\"ticks\":\"\",\"title\":{\"standoff\":15},\"zerolinecolor\":\"#283442\",\"zerolinewidth\":2}}},\"title\":{\"text\":\"Ventas por d\\u00eda en California\",\"x\":0.5},\"width\":1500,\"xaxis\":{\"title\":{\"text\":\"Fecha\"}},\"yaxis\":{\"title\":{\"text\":\"Ventas totales\"}}},                        {\"responsive\": true}                    ).then(function(){\n",
       "                            \n",
       "var gd = document.getElementById('1681eb4b-a42b-4c33-a51f-a789e530c4a5');\n",
       "var x = new MutationObserver(function (mutations, observer) {{\n",
       "        var display = window.getComputedStyle(gd).display;\n",
       "        if (!display || display === 'none') {{\n",
       "            console.log([gd, 'removed!']);\n",
       "            Plotly.purge(gd);\n",
       "            observer.disconnect();\n",
       "        }}\n",
       "}});\n",
       "\n",
       "// Listen for the removal of the full notebook cells\n",
       "var notebookContainer = gd.closest('#notebook-container');\n",
       "if (notebookContainer) {{\n",
       "    x.observe(notebookContainer, {childList: true});\n",
       "}}\n",
       "\n",
       "// Listen for the clearing of the current output cell\n",
       "var outputEl = gd.closest('.output');\n",
       "if (outputEl) {{\n",
       "    x.observe(outputEl, {childList: true});\n",
       "}}\n",
       "\n",
       "                        })                };                });            </script>        </div>"
      ]
     },
     "metadata": {},
     "output_type": "display_data"
    }
   ],
   "source": [
    "df_14=df #Voy a coger todos los años\n",
    "california_14=df_14[df_14['State']=='California']\n",
    "california_dias=california_14.groupby('Ship Date', as_index=False)['Sales'].sum()\n",
    "\n",
    "trace1=go.Scatter(\n",
    "                x=california_dias['Ship Date'],\n",
    "                y=california_dias['Sales'],\n",
    "                mode='lines+markers',\n",
    "                text=california_dias['Ship Date'],\n",
    "                marker=dict(color='blue')\n",
    ")\n",
    "\n",
    "data=[trace1]\n",
    "layout=dict(title=dict(text='Ventas por día en California', x=0.5),\n",
    "            xaxis=dict(title='Fecha'),\n",
    "            yaxis=dict(title='Ventas totales'),\n",
    "            template='plotly_dark',\n",
    "            height=600,  # Ajustar la altura\n",
    "            width=1500  #anchura\n",
    "            )\n",
    "\n",
    "fig=go.Figure(data=data, layout=layout)\n",
    "iplot(fig)"
   ]
  }
 ],
 "metadata": {
  "colab": {
   "name": "widgets_plotly_superstore_enunciado.ipynb",
   "provenance": []
  },
  "kernelspec": {
   "display_name": "base",
   "language": "python",
   "name": "python3"
  },
  "language_info": {
   "codemirror_mode": {
    "name": "ipython",
    "version": 3
   },
   "file_extension": ".py",
   "mimetype": "text/x-python",
   "name": "python",
   "nbconvert_exporter": "python",
   "pygments_lexer": "ipython3",
   "version": "3.11.5"
  },
  "vscode": {
   "interpreter": {
    "hash": "3c06e3e46abf38078fe4dac36a0085ec2b134ebbd73dd076183d243eeca6918f"
   }
  }
 },
 "nbformat": 4,
 "nbformat_minor": 4
}
