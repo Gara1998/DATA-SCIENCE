{
 "cells": [
  {
   "cell_type": "markdown",
   "metadata": {},
   "source": [
    "## ¿Qué es la Probabilidad?\n",
    "\n",
    "**La [probabilidad](https://es.wikipedia.org/wiki/Probabilidad) mide la mayor o menor posibilidad de que se dé un determinado resultado (suceso o evento) cuando se realiza un experimento aleatorio.**\n",
    "Para calcular la probabilidad de un evento se toma en cuenta **todos los casos posibles** de ocurrencia del mismo; es decir, de cuántas formas puede ocurrir determinada situación.Los **casos favorables** de ocurrencia de un evento serán los que cumplan con la condición que estamos buscando. La *[probabilidad](https://es.wikipedia.org/wiki/Probabilidad)* toma valores entre 0 y 1 (o expresados en tanto por ciento, entre 0% y 100%).\n",
    "\n",
    "**La *[probabilidad](https://es.wikipedia.org/wiki/Probabilidad)* funciona como complemento de la *[estadística](http://es.wikipedia.org/wiki/Estad%C3%ADstica)*** cuando nos proporciona una sólida base para la *[estadistica inferencial](https://es.wikipedia.org/wiki/Estad%C3%ADstica_inferencial)*. Cuando hay incertidumbre, no sabemos que puede pasar y hay alguna posibilidad de errores, utilizando *[probabilidades](https://es.wikipedia.org/wiki/Probabilidad)* podemos aprender formas de controlar la tasa de errores para reducirlos."
   ]
  },
  {
   "cell_type": "markdown",
   "metadata": {},
   "source": [
    "### El espacio muestral\n",
    "\n",
    "**El *[espacio de muestreo](https://es.wikipedia.org/wiki/Espacio_muestral)* hace referencia a la idea de que los posibles resultados de un [proceso aleatorio](https://es.wikipedia.org/wiki/Experimento_aleatorio) pueden ser pensados como puntos en el espacio**. En los casos más simples, este espacio puede consistir en sólo algunos puntos, pero en casos más complejos puede estar representado por un *continuo*, como el espacio en que vivimos.\n",
    "\n",
    "El *[espacio de muestreo](https://es.wikipedia.org/wiki/Espacio_muestral)* , en general se expresa con la letra $S$, y consiste en el conjunto de todos los resultados posibles de un *experimento*. Si el experimento consiste en el lanzamiento de una moneda, entonces el *[espacio de muestreo](https://es.wikipedia.org/wiki/Espacio_muestral)* será $S = \\{cara, cruz \\}$, ya que estas dos alternativas representan a todos los resultados posibles del *experimento*. **En definitiva el *[espacio de muestreo](https://es.wikipedia.org/wiki/Espacio_muestral)* no es más que una simple enumeración de todos los resultados posibles**, aunque las cosas nunca suelen ser tan simples como aparentan. Si en lugar de considerar el lanzamiento de una moneda, lanzamos dos monedas; uno podría pensar que el *[espacio de muestreo](https://es.wikipedia.org/wiki/Espacio_muestral)* para este caso será  $S = \\{\\text{ 2 caras}, \\text{2 cruces}, \\text{cara y cruz} \\}$; es decir que de acuerdo con este *[espacio de muestreo](https://es.wikipedia.org/wiki/Espacio_muestral)* la [probabilidad](https://es.wikipedia.org/wiki/Probabilidad) de que obtengamos dos caras es 1 en 3; pero la verdadera [probabilidad](https://es.wikipedia.org/wiki/Probabilidad) de obtener dos caras, confirmada por la experimentación, es 1 en 4; la cual se hace evidente si definimos correctamente el *[espacio de muestreo](https://es.wikipedia.org/wiki/Espacio_muestral)*, que será el siguiente: $S = \\{\\text{ 2 caras}, \\text{2 cruces}, \\text{cara y cruz}, \\text{cruz y cara} \\}$. Como este simple ejemplo nos enseña, **debemos ser muy cuidadosos al definir el *[espacio de muestreo](https://es.wikipedia.org/wiki/Espacio_muestral)***, ya que una mala definición del mismo, puede inducir a cálculos totalmente errados de la [probabilidad](https://es.wikipedia.org/wiki/Probabilidad).\n"
   ]
  },
  {
   "cell_type": "markdown",
   "metadata": {},
   "source": [
    "![imagen](./img/esp_muestral_monedas.png)"
   ]
  },
  {
   "cell_type": "markdown",
   "metadata": {},
   "source": [
    "\n",
    "## Calculando probabilidades\n",
    "\n",
    "Saber calcular la [probabilidad](https://es.wikipedia.org/wiki/Probabilidad) de que un evento o varios eventos ocurran puede ser una habilidad valiosa al tomar decisiones, ya sea en la vida real o jugando juegos de azar. **Cómo calcular la [probabilidad](https://es.wikipedia.org/wiki/Probabilidad), sin embargo, cambia dependiendo del tipo de evento que se está observando**. Por ejemplo, no calcularíamos nuestras posibilidades de ganar la lotería de la misma manera que calcularíamos nuestras posibilidades de obtener una [generala](https://es.wikipedia.org/wiki/Generala) servida en un juego de dados. Sin embargo, una vez que determinamos si los eventos son <a href=\"https://es.wikipedia.org/wiki/Independencia_(probabilidad)\">independientes</a>, [condicionales](https://es.wikipedia.org/wiki/Probabilidad_condicionada) o mutuamente excluyentes, calcular su probabilidad es relativamente simple.\n",
    "\n",
    "### Propiedades básicas de la probabilidad\n",
    "\n",
    "Antes de poder calcular las [probabilidades](https://es.wikipedia.org/wiki/Probabilidad), primero debemos conocer sus propiedades fundamentales, ellas son:\n",
    "\n",
    "* La [probabilidad](https://es.wikipedia.org/wiki/Probabilidad) se expresa como un ratio que será un valor positivo menor o igual a 1.\n",
    "\n",
    "$ 0 \\le p(A) \\le 1$\n",
    "\n",
    "* La [probabilidad](https://es.wikipedia.org/wiki/Probabilidad) de un evento del que tenemos total certeza es 1.\n",
    "\n",
    "$ p(S) = 1 $\n",
    "\n",
    "A partir de estas propiedades básicas, se pueden derivar muchas otras propiedades.\n",
    "\n",
    "### Teoría de conjuntos y probabilidades\n",
    "\n",
    "En mi artículo sobre [conjuntos](http://relopezbriega.github.io/blog/2015/10/11/conjuntos-con-python/) comentaba que la [teoría de conjuntos](https://es.wikipedia.org/wiki/Teor%C3%ADa_de_conjuntos) se ha convertido en un pilar fundamental de las matemáticas, **casi cualquier rama de las matemáticas puede ser definida utilizando [conjuntos](http://relopezbriega.github.io/blog/2015/10/11/conjuntos-con-python/)**; y la [teoría de probabilidad](https://es.wikipedia.org/wiki/Teor%C3%ADa_de_la_probabilidad) no es la excepción. Antes de poder calcular  [probabilidades](https://es.wikipedia.org/wiki/Probabilidad), primero debemos discutir como se relacionan los eventos en términos de la [teoría de conjuntos](https://es.wikipedia.org/wiki/Teor%C3%ADa_de_conjuntos). Las relaciones que podemos encontrar son:\n",
    "\n",
    "\n",
    "* **Unión:** La unión de varios eventos simples crea un evento compuesto que ocurre si uno o más de los eventos ocurren. La unión de $A$ y $B$ se escribe $A \\cup B$ y significa \"Ya sea $A$ o $B$, o ambos $A$ y $B$.\"\n",
    "\n",
    "* **Intersección:** La intersección de dos o más eventos simples crea un evento compuesto que ocurre sólo si ocurren todos los eventos simples. La intersección de $A$ y $B$ se escribe $A \\cap B$ y significa \"$A$ y $B$.\"\n",
    "\n",
    "* **Complemento:** El complemento de un evento significa todo en el [espacio de muestreo](https://es.wikipedia.org/wiki/Espacio_muestral) que no es ese evento. El complemento del evento $A$ se escribe varias veces como $\\sim{A}$, $A^c$, o $\\overline{A}$, y se lee como \"no $A$\" o \"complemento $A$\".\n",
    "\n",
    "* **Exclusión mutua:** Si los eventos no pueden ocurrir juntos, son *mutuamente excluyentes*. Siguiendo la misma línea de razonamiento, si dos conjuntos no tienen ningún evento en común, son mutuamente excluyentes.\n",
    "\n",
    "Para el siguiente ejemplo, considera el conjunto A como personas que tienen bicicleta, mientras que B son aquellas personas que tienen coche.\n",
    "\n",
    "![imagen](./img/teoria_conjuntos.jpg)\n",
    "\n",
    "Imagina que tu espacio muestral son 9 personas, de los cuales tienes 5 ciudadanos españoles (A), y 4 de pelo castaño (B).\n",
    "\n",
    "![imagen](./img/pebble.png)\n"
   ]
  },
  {
   "cell_type": "markdown",
   "metadata": {},
   "source": [
    "Escogiendo una persona al azar del espacio muestral:\n",
    "\n",
    "* ¿Cuál es la probabilidad que sea un ciudadano español?\n",
    "* ¿Cuál es la probabilidad de que tenga el pelo castaño?\n",
    "* ¿Cuál es la probabilidad de que sea español o tenga el pelo castaño?\n",
    "* ¿Cuál es la probabilidad de que sea español y tenga el pelo castaño?\n",
    "* ¿Cuál es la probabilidad de que no sea español?"
   ]
  },
  {
   "cell_type": "markdown",
   "metadata": {},
   "source": [
    "A = español\n",
    "B = castaño\n",
    "\n",
    "* P(A) = casos suceso A / casos posibles = 5 / 9\n",
    "* P(B) = 4 / 9\n",
    "* $P(A \\cup B)$ = $P(A) + P(B) - P(A \\cap B)$ = 5/9 + 4/9 - 1/9 = 8/9\n",
    "* $P(A \\cap B)$ = 1 / 9\n",
    "* $P(\\sim{A})$ = 4 / 9"
   ]
  },
  {
   "cell_type": "code",
   "execution_count": 1,
   "metadata": {},
   "outputs": [
    {
     "name": "stdout",
     "output_type": "stream",
     "text": [
      "P(A) = 0.56\n",
      "P(B) = 0.44\n",
      "P(AuB) = 0.89\n",
      "P(AnB) = 0.11\n",
      "P(~A) = 0.44\n"
     ]
    }
   ],
   "source": [
    "print(\"P(A) =\",round(5/9,2))\n",
    "print(\"P(B) =\",round(4/9,2))\n",
    "print(\"P(AuB) =\",round(8/9,2))\n",
    "print(\"P(AnB) =\",round(1/9,2))\n",
    "print(\"P(~A) =\",round(4/9,2))"
   ]
  },
  {
   "cell_type": "markdown",
   "metadata": {},
   "source": [
    "Si ahora el espacio muestral son 10 pelotas, 5 rojas y 3 amarillas, calcula las probabilidades\n",
    "\n",
    "A = roja\n",
    "\n",
    "B = amarilla\n",
    "\n",
    "Si sabemos que las pelotas son unicolores"
   ]
  },
  {
   "cell_type": "markdown",
   "metadata": {},
   "source": [
    "* P(A) = 5 / 10 \n",
    "* P(B) = 3 / 10\n",
    "* P(AuB) = P(A) + P(B) - P(AnB) = 5/10 + 3/10 - 0 = 8/10\n",
    "* P(AnB) = 0"
   ]
  },
  {
   "cell_type": "markdown",
   "metadata": {},
   "source": [
    "### Calculando la probabilidad de múltiples eventos\n",
    "\n",
    "Ahora sí, ya podemos calcular las [probabilidades](https://es.wikipedia.org/wiki/Probabilidad) de los eventos. Recordemos que la [probabilidad](https://es.wikipedia.org/wiki/Probabilidad) de un solo evento se expresa como un ratio entre el número de resultados favorables sobre el número de los posibles resultados. Es lo que se conoce como *regla de Laplace*:\n",
    "\n",
    "$p(A) = \\frac{favorables}{posibles}$\n",
    "\n",
    "##### Ejemplo\n",
    "Lanzando un dado al aire, cuál es la probabilidad de que:\n",
    "\n",
    "**Salga un número par**\n",
    ">\n",
    "> Casos favorables: 2,4,6\n",
    ">\n",
    "> Casos posibles: 1,2,3,4,5,6\n",
    ">\n",
    "> P(par) = 3/6 = 1/2\n",
    "\n",
    "**Salga un múltiplo de 3**\n",
    ">\n",
    "> Casos favorables: 3,6\n",
    ">\n",
    "> Casos posibles: 1,2,3,4,5,6\n",
    ">\n",
    "> P(multiplo de 3) = 2/6 = 1/3\n",
    "\n",
    "**Salga un número mayor que 4**\n",
    ">\n",
    "> Casos favorables: 5,6\n",
    ">\n",
    "> Casos posibles: 1,2,3,4,5,6\n",
    ">\n",
    "> P(mayor  que 4) = 2/6 = 1/3\n",
    "\n",
    "[Más ejemplos](https://www.superprof.es/apuntes/escolar/matematicas/probabilidades/combinatoria/ley-de-laplace.html)\n"
   ]
  },
  {
   "cell_type": "markdown",
   "metadata": {},
   "source": [
    "#### Unión de eventos mutuamente excluyentes\n",
    "Si los eventos son *mutuamente excluyentes* entonces para calcular la [probabilidad](https://es.wikipedia.org/wiki/Probabilidad) de su unión, simplemente sumamos sus [probabilidades](https://es.wikipedia.org/wiki/Probabilidad) individuales. Su interesección es el vacío, es decir, la probabilidad de su intersección es 0 porque no se puede dar ambos eventos a la vez.\n",
    "\n",
    "$p(E \\cup F) = p(E) + p(F)$\n",
    "\n",
    "$p(E \\cap F) = 0$\n",
    "\n",
    "##### Ejemplo\n",
    "Vas al cine con tu pareja y no sabes qué entradas ha comprado. En la cartelera hay 5 peliculas: A, B, C, D, E. Teniendo en cuenta que tu película favorita es A:\n",
    "\n",
    "1. La probabilidad de ver tu película favorita. P(A) = 1/5\n",
    "2. La probabilidad de NO ver tu película favorita. P(~A) = 4/5\n",
    "3. La probabilidad de que veas A o B(que también te gusta). $P(A \\cup B)$ = P(A) + P(B) - $P(A \\cap B)$ = 1/5 + 1/5 - 0 = 2/5\n",
    "4. La probabilidad de que veas A y B a la vez. $P(A \\cap B)$ = 0\n",
    "\n",
    "Nota: en un caso real de ir al cine con tu pareja, la probabilidad de ver tu pelicula favorita sería de 0 :)"
   ]
  },
  {
   "cell_type": "markdown",
   "metadata": {},
   "source": [
    "![imagen](./img/mutuamente_excluyentes.png)\n",
    "\n",
    "#### Unión de eventos que no son mutuamente excluyentes\n",
    "Si los eventos no son *mutuamente excluyentes* entonces debemos corregir la fórmula anterior para incluir el efecto de la superposición de los eventos. Esta superposición se da en el lugar de la *intersección* de los eventos; por lo tanto la formula para calcular la [probabilidad](https://es.wikipedia.org/wiki/Probabilidad) de estos eventos es:\n",
    "\n",
    "$p(E \\cup F) = p(E) + p(F) - p(E \\cap F)$\n",
    "\n",
    "##### Ejemplo\n",
    "\n",
    "* Sacar una carta de oros y además que sea de espadas. Son eventos **mutuamente excluyentes**. O es de oros, o es de espadas\n",
    "* Sacar una carta de oros y un 5. Son eventos **mutuamente NO exluyentes**. Puede darse el caso de que la carta sea de oros y además un 5.\n",
    "\n",
    "![imagen](./img/mutuamente_no_excluyentes.png)"
   ]
  },
  {
   "cell_type": "markdown",
   "metadata": {},
   "source": [
    "#### Intersección de eventos independientes\n",
    "Para calcular la [probabilidad](https://es.wikipedia.org/wiki/Probabilidad) de que ocurran varios eventos (la intersección de varios eventos), se multiplican sus [probabilidades](https://es.wikipedia.org/wiki/Probabilidad) individuales. La fórmula específica utilizada dependerá de si los eventos son <a href=\"https://es.wikipedia.org/wiki/Independencia_(probabilidad)\">independientes</a> o no.\n",
    "Si son <a href=\"https://es.wikipedia.org/wiki/Independencia_(probabilidad)\">independientes</a>, la [probabilidad](https://es.wikipedia.org/wiki/Probabilidad) de $E$ y $F$ se calcula como:\n",
    "\n",
    "$p(E \\cap F) = p(E) \\times p(F)$\n",
    "\n",
    "#### Ejemplo\n",
    "Tiro tres dados. ¿Cuál es la probabilidad de que en las tres tiradas salga un 4? Se trata de tres eventos independientes, y la probabilidad de ocurra cada uno de ellos por separado es de 1/6.\n",
    "\n",
    "Por tanto, la probabilidad de que en las tres tiradas salga un 4, será de (1/6) * (1/6) * (1/6) = (1/216) = 0.46 %"
   ]
  },
  {
   "cell_type": "markdown",
   "metadata": {},
   "source": [
    "## JUEGO DEL CALAMAR"
   ]
  },
  {
   "cell_type": "markdown",
   "metadata": {},
   "source": [
    "![imagen](./img/calamar.png)\n",
    "\n",
    "Calcula la probabilidad de éxito, ante una prueba en la que tienes un puente, con n escalones, donde en cada escalón tienes que tomar la elección de elegir derecha o izquierda, sólo uno soportará tu peso.\n"
   ]
  },
  {
   "cell_type": "markdown",
   "metadata": {},
   "source": [
    "$p(A \\cap B) = p(A) \\times p(B)$\n",
    "\n",
    "A = 1º Escalón\n",
    "\n",
    "B = 2º Escalón"
   ]
  },
  {
   "cell_type": "code",
   "execution_count": 2,
   "metadata": {},
   "outputs": [
    {
     "data": {
      "text/plain": [
       "0.0625"
      ]
     },
     "execution_count": 2,
     "metadata": {},
     "output_type": "execute_result"
    }
   ],
   "source": [
    "# Crea una función para calcular la probabilidad en base a los n escalones\n",
    "p_a = 1/2\n",
    "p_b = 1/2\n",
    "n=4\n",
    "p_a_b = p_a**4\n",
    "p_a_b\n"
   ]
  },
  {
   "cell_type": "code",
   "execution_count": 3,
   "metadata": {},
   "outputs": [],
   "source": [
    "def prob_cal(n):\n",
    "    p = (1/2)**n\n",
    "    return str(p*100) + \" %\""
   ]
  },
  {
   "cell_type": "code",
   "execution_count": 6,
   "metadata": {},
   "outputs": [
    {
     "data": {
      "text/plain": [
       "'0.0003814697265625 %'"
      ]
     },
     "execution_count": 6,
     "metadata": {},
     "output_type": "execute_result"
    }
   ],
   "source": [
    "prob_cal(18) #Probabilidad en porcentaje de llegar hasta el final de la pasarela"
   ]
  },
  {
   "cell_type": "markdown",
   "metadata": {},
   "source": [
    "#### Intersección de eventos no independientes\n",
    "Si dos eventos no son <a href=\"https://es.wikipedia.org/wiki/Independencia_(probabilidad)\">independientes</a>, debemos conocer su [probabilidad condicional](https://es.wikipedia.org/wiki/Probabilidad_condicionada) para poder calcular la [probabilidad](https://es.wikipedia.org/wiki/Probabilidad) de que ambos se produzcan. La fórmula en este caso es:\n",
    "\n",
    "$p(E \\cap F) = p(E) \\times p(F|E)$\n",
    "\n",
    "#### Ejemplo\n",
    "Saco dos cartas de una baraja española (sin devolverlas al mazo), ¿cuál es la probabilidad de que ambas cartas sean reyes?\n",
    "\n",
    "Si el evento E es \"obtener un rey la primera vez que sacamos carta\", P(E) = 4/40. Si no devuelvo la carta al mazo, se quedaría con 39 cartas. Ahora necesito calcular la probabilidad del segundo evento, es decir, la probabilidad de que la segunda vez que saque carta sea un rey, codicionado al evento anterior, por tanto, P(F/E) = 3/39.\n",
    "\n",
    "Por tanto, nuestra probabilidad de obtener dos reyes en dos cartas consecutivas es de: (4/40) * (3/39) = 12/1560"
   ]
  },
  {
   "cell_type": "code",
   "execution_count": 7,
   "metadata": {},
   "outputs": [
    {
     "data": {
      "text/plain": [
       "0.7692307692307693"
      ]
     },
     "execution_count": 7,
     "metadata": {},
     "output_type": "execute_result"
    }
   ],
   "source": [
    "12/1560 * 100"
   ]
  },
  {
   "cell_type": "markdown",
   "metadata": {},
   "source": [
    "$p(E \\cap F) = p(E) \\times p(F|E)$\n",
    "\n",
    "E = 1º carta Bastos\n",
    "F = 2º carta Bastos\n",
    "\n"
   ]
  },
  {
   "cell_type": "code",
   "execution_count": 8,
   "metadata": {},
   "outputs": [
    {
     "data": {
      "text/plain": [
       "5.769230769230769"
      ]
     },
     "execution_count": 8,
     "metadata": {},
     "output_type": "execute_result"
    }
   ],
   "source": [
    "p_e = 10/40\n",
    "p_f_e = 9/39\n",
    "\n",
    "p = p_e * p_f_e\n",
    "p * 100 #Probabilidad de sacar dos cartas seguidas del mismo palo"
   ]
  },
  {
   "cell_type": "code",
   "execution_count": 9,
   "metadata": {},
   "outputs": [
    {
     "data": {
      "text/plain": [
       "0.00547105810263705"
      ]
     },
     "execution_count": 9,
     "metadata": {},
     "output_type": "execute_result"
    }
   ],
   "source": [
    "p_1 = 10/40\n",
    "p_2 = 9/39\n",
    "p_3 = 8/38\n",
    "p_4 = 7/37\n",
    "p_5 = 6/36\n",
    "p_6 = 5/35\n",
    "\n",
    "p = p_1 * p_2 * p_3 * p_4 * p_5 * p_6\n",
    "p * 100 #Sacar seis cartas seguidas del mismo palo"
   ]
  },
  {
   "cell_type": "markdown",
   "metadata": {},
   "source": [
    "### La probabilidad condicional\n",
    "\n",
    "Con frecuencia queremos conocer la [probabilidad](https://es.wikipedia.org/wiki/Probabilidad) de algún evento, dado que otro evento ha ocurrido. **Esto se expresa simbólicamente como $p(E | F)$ y se lee como \"la [probabilidad](https://es.wikipedia.org/wiki/Probabilidad) de $E$ dado $F$\".** El segundo evento se conoce como la *condición* y el proceso se refiere a veces como \"condicionamiento en F\". La [probabilidad condicional](https://es.wikipedia.org/wiki/Probabilidad_condicionada) es un concepto importante de estadística, porque a menudo estamos tratando de establecer que un factor tiene una relación con un resultado, como por ejemplo, que las personas que fuman cigarrillos tienen más [probabilidades](https://es.wikipedia.org/wiki/Probabilidad) de desarrollar cáncer de pulmón. La [probabilidad condicional](https://es.wikipedia.org/wiki/Probabilidad_condicionada) también se puede usar para definir la <a href=\"https://es.wikipedia.org/wiki/Independencia_(probabilidad)\">independencia</a>. **Dos variables se dice que son <a href=\"https://es.wikipedia.org/wiki/Independencia_(probabilidad)\">independientes</a> si la siguiente relación se cumple:**\n",
    "\n",
    "$p(E | F) = p(E)$\n",
    "\n",
    "Probabilidad de ser fumador si eres asmático\n",
    "\n",
    "#### Calculando la probabilidad condicional\n",
    "Para calcular la probabilidad del evento $E$ dada la información de que el evento $F$ ha ocurrido utilizamos la siguiente formula:\n",
    "\n",
    "$p(E | F) = \\frac{p(E \\cap F)}{p(F)}$"
   ]
  },
  {
   "cell_type": "markdown",
   "metadata": {},
   "source": [
    "\n",
    "## Distintas interpretaciones de la probabilidad\n",
    "\n",
    "Las [probabilidades](https://es.wikipedia.org/wiki/Probabilidad) pueden ser interpretadas generalmente de dos maneras distintas.\n",
    "La interpretación *frecuentista* u *objetivista* de la [probabilidad](https://es.wikipedia.org/wiki/Probabilidad) es una perspectiva en la que las [probabilidades](https://es.wikipedia.org/wiki/Probabilidad) se consideran frecuencias relativas constantes a largo plazo. Este es el enfoque clásico de la [teoría de probabilidad](https://es.wikipedia.org/wiki/Teor%C3%ADa_de_la_probabilidad). La interpretación *Bayesiana* o *subjetivista* de la [probabilidad](https://es.wikipedia.org/wiki/Probabilidad) es una perspectiva en la que las [probabilidades](https://es.wikipedia.org/wiki/Probabilidad) son consideradas como *medidas de creencia* que pueden cambiar con el tiempo para reflejar nueva información.\n",
    "\n",
    "El *enfoque clásico* sostiene que los métodos *bayesianos* sufren de falta de objetividad, ya que diferentes individuos son libres de asignar diferentes [probabilidades](https://es.wikipedia.org/wiki/Probabilidad) al mismo evento según sus propias opiniones personales. Los *bayesianos* se oponen a los *clásicos* sosteniendo que la interpretación *frecuentista* de la [probabilidad](https://es.wikipedia.org/wiki/Probabilidad) tiene ya de por sí una subjetividad incorporada (por ejemplo, mediante la elección y el diseño del procedimiento de muestreo utilizado) y que la ventaja del *enfoque bayesiano* es que ya hace explícita esta subjetividad.\n",
    "En la actualidad, la mayoría de los problemas son abordados siguiendo un enfoque mixto entre ambas interpretaciones de la [probabilidad](https://es.wikipedia.org/wiki/Probabilidad). \n",
    "\n",
    "https://www.youtube.com/watch?v=GEFxFVESQXc\n",
    "\n",
    "## El poder de los números aleatorios\n",
    "\n",
    "Uno podría pensar que un comportamiento [aleatorio](https://es.wikipedia.org/wiki/Aleatoriedad) es caótico y totalmente opuesto a la razón, que sería una forma de renunciar a un problema, un último recurso. Pero lejos de esto, el sorprendente y cada vez más importante rol que viene desempeñando lo [aleatorio](https://es.wikipedia.org/wiki/Aleatoriedad) en las [ciencias de la computación](https://es.wikipedia.org/wiki/Ciencias_de_la_computaci%C3%B3n) nos enseña que el hacer un uso deliberado de lo [aleatorio](https://es.wikipedia.org/wiki/Aleatoriedad) puede ser una forma muy efectiva de abordar los problemas más difíciles; incluso en algunos casos, puede ser el único camino viable. Los [Algoritmos probabilísticos](https://es.wikipedia.org/wiki/Algoritmo_probabilista) como el método [Miller-Rabin](https://es.wikipedia.org/wiki/Test_de_primalidad_de_Miller-Rabin) para encontrar números primos y el [método de Monte Carlo](https://es.wikipedia.org/wiki/M%C3%A9todo_de_Montecarlo), nos demuestran lo poderoso que puede ser utilizar la [aleatoriedad](https://es.wikipedia.org/wiki/Aleatoriedad) para resolver problemas. Muchas veces, la mejor solución a un problema, puede ser simplemente dejarlo al azar en lugar de tratar de razonar totalmente su solución!"
   ]
  },
  {
   "cell_type": "markdown",
   "metadata": {},
   "source": [
    "## Independencia y ley de grandes números\n",
    "\n",
    "**Una de las cosas más fascinantes sobre el estudio de la [teoría de probabilidad](https://es.wikipedia.org/wiki/Teor%C3%ADa_de_la_probabilidad) es que si bien el comportamiento de un evento individual es totalmente impredecible, el comportamiento de una cantidad suficientemente grande de eventos se puede predecir con un alto grado de certeza!.**\n",
    "Si tomamos el caso clásico del lanzamiento de una moneda, no podemos predecir con exactitud cuantas caras podemos obtener luego de 10 tiradas, tal vez el azar haga que obtengamos 7, 10, o 3 caras, dependiendo de con cuanta suerte nos encontremos; pero si repetimos el lanzamiento un millón de veces, casi con seguridad que la cantidad de caras se aproximará a la verdadera *[probabilidad](https://es.wikipedia.org/wiki/Probabilidad)* subyacente del experimento, es decir, al 50% de los lanzamientos. Este comportamiento es lo que en la [teoría de probabilidad](https://es.wikipedia.org/wiki/Teor%C3%ADa_de_la_probabilidad) se conoce con el nombre de [ley de grandes números](https://es.wikipedia.org/wiki/Ley_de_los_grandes_n%C3%BAmeros); pero antes de poder definir esta ley, primero debemos describir otro concepto también muy importante, la <a href=\"https://es.wikipedia.org/wiki/Independencia_(probabilidad)\">independencia</a> de los [eventos](https://es.wikipedia.org/wiki/Evento_aleatorio) .\n",
    "\n",
    "### El concepto de independencia\n",
    "\n",
    "**En [teoría de probabilidad](https://es.wikipedia.org/wiki/Teor%C3%ADa_de_la_probabilidad), podemos decir que dos [eventos](https://es.wikipedia.org/wiki/Evento_aleatorio) son <a href=\"https://es.wikipedia.org/wiki/Independencia_(probabilidad)\">independientes</a> cuando la *[probabilidad](https://es.wikipedia.org/wiki/Probabilidad)* de cada uno de ellos no se ve afecta porque el otro evento ocurra**, es decir que no existe ninguna relación entre los [eventos](https://es.wikipedia.org/wiki/Evento_aleatorio). En el lanzamiento de la moneda; la moneda no sabe, ni le interesa saber si el resultado del lanzamiento anterior fue cara; cada lanzamiento es un suceso totalmente aislado el uno del otro y la *[probabilidad](https://es.wikipedia.org/wiki/Probabilidad)* del resultado va a ser siempre 50% en cada lanzamiento. \n",
    "\n",
    "### Ley de grandes números\n",
    "\n",
    "Ahora que ya conocemos el concepto de <a href=\"https://es.wikipedia.org/wiki/Independencia_(probabilidad)\">independencia</a>, estamos en condiciones de dar una definición más formal de la [ley de grandes números](https://es.wikipedia.org/wiki/Ley_de_los_grandes_n%C3%BAmeros), que junto con el [Teorema del límite central](https://es.wikipedia.org/wiki/Teorema_del_l%C3%ADmite_central), constituyen los cimientos de la [teoría de probabilidad](https://es.wikipedia.org/wiki/Teor%C3%ADa_de_la_probabilidad). Podemos formular esta ley de la siguiente manera: **si se repite un [experimento aleatorio](https://es.wikipedia.org/wiki/Experimento_aleatorio), bajo las mismas condiciones, un número ilimitado de veces; y si estas repeticiones son *<a href=\"https://es.wikipedia.org/wiki/Independencia_(probabilidad)\">independientes</a>* la una de la otra, entonces la frecuencia  de veces que un evento $A$ ocurra, convergerá con [probabilidad](https://es.wikipedia.org/wiki/Probabilidad) 1 a un número que es igual a la [probabilidad](https://es.wikipedia.org/wiki/Probabilidad) de que $A$ ocurra en una sola repetición del experimento.** Lo que esta ley nos enseña, es que la [probabilidad](https://es.wikipedia.org/wiki/Probabilidad) subyacente de cualquier suceso aleatorio puede ser aprendido por medio de la experimentación, simplemente tendríamos que repetirlo una cantidad suficientemente grande de veces!. Un error que la gente suele cometer y asociar a esta ley, es la idea de que un evento tiene más posibilidades de ocurrir porque ha o no ha ocurrido recientemente. Esta idea de que las chances de un evento con una [probabilidad](https://es.wikipedia.org/wiki/Probabilidad) fija, aumentan o disminuyen dependiendo de las ocurrencias recientes del evento, es un error que se conoce bajo el nombre de la **[falacia del apostador](https://es.wikipedia.org/wiki/Falacia_del_apostador).**\n",
    "\n",
    "https://www.youtube.com/watch?v=MntX3zWNWec"
   ]
  },
  {
   "cell_type": "markdown",
   "metadata": {},
   "source": [
    "![imagen](./img/ley_grandes_numeros.png)\n",
    "\n",
    "Para entender mejor la [ley de grandes números](https://es.wikipedia.org/wiki/Ley_de_los_grandes_n%C3%BAmeros), experimentemos con algunos ejemplos en [Python](https://www.python.org/). Utilicemos nuevamente el ejemplo del lanzamiento de la moneda, en el primer ejemplo, la moneda va a tener la misma posibilidad de caer en cara o cruz; mientras que en el segundo ejemplo, vamos a modificar la [probabilidad](https://es.wikipedia.org/wiki/Probabilidad) de la moneda para que caiga cara solo en 1 de 6 veces. "
   ]
  },
  {
   "cell_type": "code",
   "execution_count": 10,
   "metadata": {},
   "outputs": [
    {
     "data": {
      "image/png": "[encoded data removed]",
      "text/plain": [
       "<Figure size 800x600 with 1 Axes>"
      ]
     },
     "metadata": {},
     "output_type": "display_data"
    }
   ],
   "source": [
    "import numpy as np\n",
    "import pandas as pd \n",
    "import matplotlib.pyplot as plt\n",
    "# Ejemplo ley de grandes números\n",
    "# moneda p=1/2 cara=1 cruz=0\n",
    "resultados = []\n",
    "for lanzamientos in range(1,100000):\n",
    "    lanzamientos = np.random.choice([0,1], lanzamientos) \n",
    "    caras = lanzamientos.mean()\n",
    "    resultados.append(caras)\n",
    "    # print(resultados)\n",
    "\n",
    "# graficamente\n",
    "df = pd.DataFrame({ 'lanzamientos' : resultados})\n",
    "\n",
    "df.plot(title='Ley de grandes números',color='r',figsize=(8, 6))\n",
    "plt.axhline(0.5)\n",
    "plt.xlabel(\"Número de lanzamientos\")\n",
    "plt.ylabel(\"frecuencia caras\")\n",
    "# plt.xlim(0,100)\n",
    "plt.show()"
   ]
  },
  {
   "cell_type": "code",
   "execution_count": 11,
   "metadata": {},
   "outputs": [
    {
     "name": "stdout",
     "output_type": "stream",
     "text": [
      "1.0\n",
      "0.5\n",
      "1.0\n",
      "0.5\n"
     ]
    }
   ],
   "source": [
    "lanzamiento_1 = [1]\n",
    "lanzamiento_2 = [0,1]\n",
    "lanzamiento_3 = [1,1,1]\n",
    "lanzamiento_4 = [1,1,0,0]\n",
    "\n",
    "print(np.mean(lanzamiento_1))\n",
    "print(np.mean(lanzamiento_2))\n",
    "print(np.mean(lanzamiento_3))\n",
    "print(np.mean(lanzamiento_4))"
   ]
  },
  {
   "cell_type": "code",
   "execution_count": 12,
   "metadata": {},
   "outputs": [
    {
     "data": {
      "text/plain": [
       "[0.0, 1.0, 0.6666666666666666, 0.75, 0.2]"
      ]
     },
     "execution_count": 12,
     "metadata": {},
     "output_type": "execute_result"
    }
   ],
   "source": [
    "resultados[0:5]"
   ]
  },
  {
   "cell_type": "code",
   "execution_count": 13,
   "metadata": {},
   "outputs": [
    {
     "data": {
      "image/png": "[encoded data removed]",
      "text/plain": [
       "<Figure size 800x600 with 1 Axes>"
      ]
     },
     "metadata": {},
     "output_type": "display_data"
    }
   ],
   "source": [
    "# Modificar la probabilidad de la moneda para que caiga cara solo en 1 de 6 veces.\n",
    "# moneda p=1/6 cara=1 cruz=0\n",
    "resultados = []\n",
    "for lanzamientos in range(1,10000):\n",
    "    lanzamientos = np.random.choice([0,1], lanzamientos, p=[5/6, 1/6]) \n",
    "    caras = lanzamientos.mean()\n",
    "    resultados.append(caras)\n",
    "\n",
    "# graficamente\n",
    "df = pd.DataFrame({ 'lanzamientos' : resultados})\n",
    "\n",
    "df.plot(title='Ley de grandes números',color='r',figsize=(8, 6))\n",
    "plt.axhline(1/6)\n",
    "plt.xlabel(\"Número de lanzamientos\")\n",
    "plt.ylabel(\"frecuencia caras\")\n",
    "plt.show()"
   ]
  },
  {
   "cell_type": "markdown",
   "metadata": {},
   "source": [
    "\n",
    "## Probabilidad y sentido común\n",
    "\n",
    "La incertidumbre constituye una pieza fundamental del mundo en que vivimos, en parte hace la vida mucho más interesante, ya que sería **muy aburrido si todo fuera perfectamente predecible**. Aun así, una parte de nosotros quisiera predecir el futuro y que las cosas sean mucho más predecibles. Para poder lidiar con la incertidumbre que nos rodea, **solemos aplicar lo que llamamos nuestro \"*sentido común*\"**. Por ejemplo, si al levantarnos por la mañana vemos que el día se encuentra nublado, este hecho no nos da la **certeza** de que comenzará a llover más tarde; sin embargo, nuestro *sentido común* puede inducirnos a cambiar nuestros planes y a actuar como si *creyéramos* que fuera a llover si las nubes son los suficientemente oscuras o si escuchamos truenos, ya que nuestra experiencia nos dice que estos signos indicarían una mayor *posibilidad* de que el hecho de que fuera a llover más tarde realmente ocurra. \n",
    "Nuestro *sentido común* es algo tan arraigado en nuestro pensamiento, que lo utilizamos automáticamente sin siquiera ponernos a pensar en ello; pero muchas veces, el *sentido común* también nos puede jugar una mala pasada y hacernos elegir una respuesta incorrecta.\n",
    "\n",
    "Tomemos por ejemplo alguna de las siguiente situaciones...\n",
    "\n",
    "#### Situación 1 - La coincidencia de cumpleaños\n",
    "Vamos a una fiesta a la que concurren un total de 50 personas. Allí un amigo nos desafía afirmando que en la fiesta debe haber por lo menos 2 personas que cumplen años el mismo día y nos apuesta 100 euros a que está en lo correcto. Es decir, que si él acierta deberíamos pagarle los 100 euros; o en caso contrario, el nos pagará los 100 euros. ¿Deberíamos aceptar la apuesta? \n",
    "\n",
    "\n",
    "#### Situación 2 - ¿Que puerta elegir?\n",
    "Estamos participando en un concurso en el cual se nos ofrece la posibilidad de elegir una entre tres puertas. Tras una de ellas se encuentra una ferrari ultimo modelo, y detrás de las otras dos hay una cabra; luego de elegir una puerta, el presentador del concurso abre una de las puertas restantes y muestra que hay una cabra (el presentador sabe que hay detrás de cada puerta). Luego de hacer esto, el presentador nos ofrece la posibilidad de cambiar nuestra elección inicial y quedarnos con la otra puerta que no habíamos elegido inicialmente. ¿Deberíamos cambiar o confiar en nuestra elección inicial?\n",
    "\n",
    "¿Qué les diría su *sentido común* que deberían hacer en cada una de estas situaciones?\n",
    "\n",
    "Para poder responder éstas y otras preguntas de una manera más rigurosa, primero deberíamos de alguna forma modelar matemáticamente nuestro *sentido común*, es aquí, como lo expresa la frase del comienzo del artículo, como surge la [teoría de probabilidad](https://es.wikipedia.org/wiki/Teor%C3%ADa_de_la_probabilidad).\n",
    "\n",
    "\n"
   ]
  },
  {
   "cell_type": "markdown",
   "metadata": {},
   "source": [
    "[Explicación cumpleaños](https://www.estadisticaparatodos.es/taller/cumpleanos/cumpleanos.html)\n",
    "\n",
    "[Explicación puertas](https://www.estadisticaparatodos.es/taller/montyhall/montyhall.html)"
   ]
  },
  {
   "cell_type": "markdown",
   "metadata": {},
   "source": [
    "## CUMPLEAÑOS"
   ]
  },
  {
   "cell_type": "code",
   "execution_count": 14,
   "metadata": {
    "tags": []
   },
   "outputs": [
    {
     "name": "stdout",
     "output_type": "stream",
     "text": [
      "La probabilidad de que compartan la misma fecha es:\n",
      "\n",
      " 97.03735795779885 %\n"
     ]
    }
   ],
   "source": [
    "prob = 1.0\n",
    "asistentes = 50\n",
    "\n",
    "for i in range(asistentes):\n",
    "    prob = prob * (365-i)/365\n",
    "\n",
    "probabilidad_coincidencia = 1-prob\n",
    "\n",
    "print(\"La probabilidad de que compartan la misma fecha es:\\n\\n\", probabilidad_coincidencia*100, \"%\")"
   ]
  },
  {
   "cell_type": "markdown",
   "metadata": {},
   "source": [
    "## MONTYHALL"
   ]
  },
  {
   "cell_type": "code",
   "execution_count": 16,
   "metadata": {},
   "outputs": [
    {
     "name": "stdout",
     "output_type": "stream",
     "text": [
      "El concursante gana en 680 ocasiones\n",
      "El concursante pierde en 320 ocasiones\n",
      "El concursante gana un  68.0 % de las veces.\n"
     ]
    }
   ],
   "source": [
    "import numpy as np\n",
    "\n",
    "def elegir_puerta():\n",
    "    \"\"\"\n",
    "    Función para elegir una puerta. Devuelve 1, 2, o 3 en forma aleatoria.\n",
    "    \"\"\"\n",
    "    numero = np.random.randint(1,4)\n",
    "    return numero\n",
    "\n",
    "def selecciona_puerta():\n",
    "    \"\"\"\n",
    "    Selecciona la puerta del concursante en forma aleatoria.\n",
    "    \"\"\"\n",
    "    puerta_elegida = elegir_puerta()\n",
    "    return puerta_elegida\n",
    "\n",
    "    \n",
    "def descarta_puerta(puerta_ganadora,puerta_elegida):\n",
    "    \"\"\"\n",
    "    Con este método el presentador descarta una de la puertas.\n",
    "    \"\"\"\n",
    "    # elegir puerta en forma aleatoria .\n",
    "    d = elegir_puerta()\n",
    "    # Si es al puerta ganadora o la del concursante, volver a elegir.\n",
    "    while d == puerta_ganadora or d == puerta_elegida:\n",
    "        d = elegir_puerta()\n",
    "    # Asignar el valor a puerta_descartada.\n",
    "    puerta_descartada = d\n",
    "    return puerta_descartada\n",
    "\n",
    "def cambiar_puerta(puerta_elegida,puerta_descartada):\n",
    "    \"\"\"\n",
    "    Cambia la puerta del concursante una vez que se elimino una puerta.\n",
    "    \"\"\"\n",
    "    # 1+2+3=6. Solo existe una puerta para elegir.\n",
    "    puerta_elegida = 6 - puerta_elegida - puerta_descartada\n",
    "    return puerta_elegida\n",
    "\n",
    "def gana_concursante(puerta_elegida,puerta_ganadora):\n",
    "    \"\"\"\n",
    "    Determina si el concursante gana. \n",
    "    Devuelve True si gana, False si pierde.\n",
    "    \"\"\"\n",
    "    #print (puerta_elegida)\n",
    "    #print (puerta_ganadora)\n",
    "    return puerta_elegida == puerta_ganadora\n",
    "            \n",
    "\n",
    "def jugar(cambiar=False):\n",
    "    puerta_elegida = 0\n",
    "    puerta_descartada = 0\n",
    "    \n",
    "    \"\"\"\n",
    "    Una vez que la clase se inicio, jugar el concurso.\n",
    " \n",
    "    'cambiar' determina si el concursante cambia su elección.\n",
    "    \"\"\"\n",
    "    #definimos la puerta donde está el premio\n",
    "    puerta_ganadora = elegir_puerta()\n",
    "    \n",
    "    # El concursante elige una puerta.\n",
    "    puerta_elegida = selecciona_puerta()\n",
    "    \n",
    "    # El presentador elimina una puerta. \n",
    "    puerta_descartada = descarta_puerta(puerta_ganadora,puerta_elegida)\n",
    "    # El concursante cambia su elección si cambiar es True.\n",
    "    if cambiar:\n",
    "        puerta_elegida = cambiar_puerta(puerta_elegida,puerta_descartada)\n",
    "    # Determinar si el concursante ha ganado.\n",
    "    return gana_concursante(puerta_elegida,puerta_ganadora)\n",
    "\n",
    "\n",
    "# creamos una lista para almacenar los resultados. Si el concursante gana se almacena un True\n",
    "numero_de_repeticiones = 1000\n",
    "lista =[]\n",
    "jugar(cambiar=cambiar_puerta)\n",
    "\n",
    "# Para cambiar puerta\n",
    "cambiar_puerta_2 = True\n",
    "\n",
    "for i in range(numero_de_repeticiones):\n",
    "    lista.append(jugar(cambiar=cambiar_puerta_2))\n",
    "    \n",
    "veces_que_gana = lista.count(True)\n",
    "veces_que_pierde = lista.count(False)\n",
    "\n",
    "print(\"El concursante gana en\", veces_que_gana,\"ocasiones\")\n",
    "print(\"El concursante pierde en\", veces_que_pierde,\"ocasiones\")\n",
    "\n",
    "porcentaje_ganadas = round(veces_que_gana/(veces_que_gana+veces_que_pierde), 3)\n",
    "\n",
    "print(\"El concursante gana un \", porcentaje_ganadas*100, \"% de las veces.\")\n"
   ]
  },
  {
   "cell_type": "markdown",
   "metadata": {},
   "source": [
    "[Explicación cumpleaños](https://www.estadisticaparatodos.es/taller/cumpleanos/cumpleanos.html)\n",
    "\n",
    "[Explicación puertas](https://www.estadisticaparatodos.es/taller/montyhall/montyhall.html)"
   ]
  },
  {
   "cell_type": "markdown",
   "metadata": {},
   "source": [
    "#### ¿Qué es un valor p?\n",
    "\n",
    "En [Prueba de hipótesis estadística] [Hipótesis_test] tenemos una idea que queremos probar, pero teniendo en cuenta que es muy difícil demostrar que algo es cierto sin duda, en lugar de probar nuestra hipótesis directamente, formulamos una hipótesis en competencia, llamada [[Hipótesis nula] [NULL_HYPOTHESIS], y luego intente refutarla en su lugar.La hipótesis nula esencialmente supone que el efecto que estamos viendo en los datos podría deberse al azar.\n",
    "\n",
    "En nuestro ejemplo, la hipótesis nula supone que tenemos una moneda justa, y la forma en que determinamos si esta hipótesis es verdadera o no es calcular con qué frecuencia voltear esta moneda justa 30 veces daría como resultado 22 o más cabezas.Si luego tomamos el número de veces que obtuvimos 22 o más cabezas y dividimos ese número por el total de todas las permutaciones posibles de 30 lanzamientos de monedas, obtenemos la probabilidad de lanzar 22 o más cabezas con una moneda justa.Esta probabilidad es lo que llamamos el [valor p] [p_value].\n",
    "\n",
    "El valor p se usa para verificar la validez de la hipótesis nula.La forma en que esto se hace es acordar algún límite superior predeterminado para nuestro valor p, por debajo del cual asumiremos que nuestra hipótesis nula es falsa.En otras palabras, si nuestra hipótesis nula fuera cierta, y 22 cabezas en 30 flips podrían ocurrir con la frecuencia suficiente por casualidad, esperaríamos que ocurra con más frecuencia que el porcentaje umbral dado de los tiempos.Entonces, por ejemplo, si elegimos el 10% como umbral, entonces esperaríamos ver que 22 o más cabezas se muestren al menos el 10% del tiempo para determinar que esta es una ocurrencia de posibilidades y no debido a algún sesgo en la moneda.Históricamente, el umbral generalmente aceptado ha sido del 5%, por lo que si nuestro valor p es inferior al 5%, podemos suponer que nuestra moneda puede no ser justa.\n",
    "\n",
    "[null_hypothesis]: https://en.wikipedia.org/wiki/Null_hypothesis\n",
    "[hypothesis_test]: https://en.wikipedia.org/wiki/Statistical_hypothesis_testing\n",
    "[p_value]: https://www.statisticsdonewrong.com/data-analysis.html#the-power-of-p-values"
   ]
  },
  {
   "cell_type": "code",
   "execution_count": null,
   "metadata": {},
   "outputs": [],
   "source": [
    "#Para traducir: seleccionar texto que queremos y: alt+shift+t"
   ]
  },
  {
   "cell_type": "markdown",
   "metadata": {},
   "source": [
    "Ese es un ejemplo del uso del método clásico para probar si nuestra moneda es justa o no.Sin embargo, si no tiene al menos algunos antecedentes en estadísticas, puede ser un poco difícil de seguir a veces, pero afortunadamente para nosotros, hay un método más fácil ...\n",
    "\n",
    "¡Simulación!\n",
    "\n",
    "El siguiente código busca responder a la misma pregunta de si nuestra moneda es justa o no al ejecutar una gran cantidad de flips de monedas simuladas y calcular la proporción de estos experimentos que dieron como resultado al menos 22 cabezas o más.\n"
   ]
  },
  {
   "cell_type": "code",
   "execution_count": null,
   "metadata": {},
   "outputs": [],
   "source": [
    "# https://medium.com/@rubengura/interpretar-el-valor-p-p-value-correctamente-d99951ce95a4"
   ]
  },
  {
   "cell_type": "code",
   "execution_count": 18,
   "metadata": {},
   "outputs": [
    {
     "name": "stdout",
     "output_type": "stream",
     "text": [
      "385\n",
      "Simulated P-value: 0.8%\n"
     ]
    }
   ],
   "source": [
    "# Tiramos, en cada juego, la moneda 30 veces. Si sale más de 21 veces, sumamos uno. Repetimos el proceso n veces (50000).\n",
    "\n",
    "M = 0\n",
    "n = 50000\n",
    "for i in range(n):\n",
    "    trials = np.random.randint(2, size=30)\n",
    "    #print(trials)\n",
    "    if (trials.sum() >= 22):\n",
    "        M += 1\n",
    "p = M / n\n",
    "\n",
    "print(M)\n",
    "print(\"Simulated P-value: %0.1f%%\" % (p * 100))"
   ]
  },
  {
   "cell_type": "markdown",
   "metadata": {},
   "source": [
    "The result of our simulations is 0.8%, definitely looks like it's possible that we have a biased coin since the chances of seeing 22 or more heads in 30 tosses of a fair coin is less than 1%."
   ]
  },
  {
   "cell_type": "code",
   "execution_count": 19,
   "metadata": {
    "tags": []
   },
   "outputs": [
    {
     "name": "stdout",
     "output_type": "stream",
     "text": [
      "P-value: 0.8%\n"
     ]
    }
   ],
   "source": [
    "def factorial(n):\n",
    "    \"\"\"Calculates the factorial of `n`\n",
    "    \"\"\"\n",
    "    vals = list(range(1, n + 1))\n",
    "    if len(vals) <= 0:\n",
    "        return 1\n",
    "\n",
    "    prod = 1\n",
    "    for val in vals:\n",
    "        prod *= val\n",
    "        \n",
    "    return prod\n",
    "    \n",
    "    \n",
    "def n_choose_k(n, k):\n",
    "    \"\"\"Calculates the binomial coefficient\n",
    "    \"\"\"\n",
    "    return factorial(n) / (factorial(k) * factorial(n - k))\n",
    "\n",
    " \n",
    "def binom_prob(n, k, p):\n",
    "    \"\"\"Returns the probability of see `k` heads in `n` coin tosses\n",
    "    \n",
    "    Arguments:\n",
    "    \n",
    "    n - number of trials\n",
    "    k - number of trials in which an event took place\n",
    "    p - probability of an event happening\n",
    "    \n",
    "    \"\"\"\n",
    "    return n_choose_k(n, k) * p**k * (1 - p)**(n - k)\n",
    "\n",
    "def p_value(n, k, p):\n",
    "    \"\"\"Returns the p-value for the given the given set \n",
    "    \"\"\"\n",
    "    return sum(binom_prob(n, i, p) for i in range(k, n+1))\n",
    "\n",
    "print(\"P-value: %0.1f%%\" % (p_value(30, 22, 0.5) * 100))"
   ]
  },
  {
   "cell_type": "markdown",
   "metadata": {},
   "source": [
    "Running the code above gives us a p-value of roughly 0.8%, which matches the value in our probability distribution above and is also less than the 5% threshold needed to reject our null hypothesis, so it does look like we may have a biased coin.\n",
    "\n",
    "The `binom_prob` function from above calculates the probability of a single event happening, so now all we need for calculating our p-value is a function that adds up the probabilities of a given event, or a more extreme event happening. So, as an example, we would need a function to add up the probabilities of getting 22 heads, 23 heads, 24 heads, and so on. The next bit of code creates that function and uses it to calculate our p-value."
   ]
  },
  {
   "cell_type": "code",
   "execution_count": 17,
   "metadata": {},
   "outputs": [
    {
     "ename": "NameError",
     "evalue": "name 'binom_prob' is not defined",
     "output_type": "error",
     "traceback": [
      "\u001b[1;31m---------------------------------------------------------------------------\u001b[0m",
      "\u001b[1;31mNameError\u001b[0m                                 Traceback (most recent call last)",
      "\u001b[1;32mc:\\Users\\Bridgeschool37\\Desktop\\Data\\02_Data_Analyst\\0-Matematicas_DS\\3-Probabilidad.ipynb Celda 48\u001b[0m line \u001b[0;36m3\n\u001b[0;32m      <a href='vscode-notebook-cell:/c%3A/Users/Bridgeschool37/Desktop/Data/02_Data_Analyst/0-Matematicas_DS/3-Probabilidad.ipynb#X64sZmlsZQ%3D%3D?line=0'>1</a>\u001b[0m \u001b[39m# Calculate the probability for every possible outcome of tossing \u001b[39;00m\n\u001b[0;32m      <a href='vscode-notebook-cell:/c%3A/Users/Bridgeschool37/Desktop/Data/02_Data_Analyst/0-Matematicas_DS/3-Probabilidad.ipynb#X64sZmlsZQ%3D%3D?line=1'>2</a>\u001b[0m \u001b[39m# a fair coin 30 times.\u001b[39;00m\n\u001b[1;32m----> <a href='vscode-notebook-cell:/c%3A/Users/Bridgeschool37/Desktop/Data/02_Data_Analyst/0-Matematicas_DS/3-Probabilidad.ipynb#X64sZmlsZQ%3D%3D?line=2'>3</a>\u001b[0m probabilities \u001b[39m=\u001b[39m [binom_prob(\u001b[39m30\u001b[39;49m, k, \u001b[39m0.5\u001b[39;49m) \u001b[39mfor\u001b[39;49;00m k \u001b[39min\u001b[39;49;00m \u001b[39mrange\u001b[39;49m(\u001b[39m1\u001b[39;49m, \u001b[39m31\u001b[39;49m)]\n\u001b[0;32m      <a href='vscode-notebook-cell:/c%3A/Users/Bridgeschool37/Desktop/Data/02_Data_Analyst/0-Matematicas_DS/3-Probabilidad.ipynb#X64sZmlsZQ%3D%3D?line=4'>5</a>\u001b[0m \u001b[39m# Plot the probability distribution using the probabilities list \u001b[39;00m\n\u001b[0;32m      <a href='vscode-notebook-cell:/c%3A/Users/Bridgeschool37/Desktop/Data/02_Data_Analyst/0-Matematicas_DS/3-Probabilidad.ipynb#X64sZmlsZQ%3D%3D?line=5'>6</a>\u001b[0m \u001b[39m# we created above.\u001b[39;00m\n\u001b[0;32m      <a href='vscode-notebook-cell:/c%3A/Users/Bridgeschool37/Desktop/Data/02_Data_Analyst/0-Matematicas_DS/3-Probabilidad.ipynb#X64sZmlsZQ%3D%3D?line=6'>7</a>\u001b[0m plt\u001b[39m.\u001b[39mstep(\u001b[39mrange\u001b[39m(\u001b[39m1\u001b[39m, \u001b[39m31\u001b[39m), probabilities, where\u001b[39m=\u001b[39m\u001b[39m'\u001b[39m\u001b[39mmid\u001b[39m\u001b[39m'\u001b[39m, color\u001b[39m=\u001b[39m\u001b[39m\"\u001b[39m\u001b[39mblue\u001b[39m\u001b[39m\"\u001b[39m)\n",
      "\u001b[1;32mc:\\Users\\Bridgeschool37\\Desktop\\Data\\02_Data_Analyst\\0-Matematicas_DS\\3-Probabilidad.ipynb Celda 48\u001b[0m line \u001b[0;36m3\n\u001b[0;32m      <a href='vscode-notebook-cell:/c%3A/Users/Bridgeschool37/Desktop/Data/02_Data_Analyst/0-Matematicas_DS/3-Probabilidad.ipynb#X64sZmlsZQ%3D%3D?line=0'>1</a>\u001b[0m \u001b[39m# Calculate the probability for every possible outcome of tossing \u001b[39;00m\n\u001b[0;32m      <a href='vscode-notebook-cell:/c%3A/Users/Bridgeschool37/Desktop/Data/02_Data_Analyst/0-Matematicas_DS/3-Probabilidad.ipynb#X64sZmlsZQ%3D%3D?line=1'>2</a>\u001b[0m \u001b[39m# a fair coin 30 times.\u001b[39;00m\n\u001b[1;32m----> <a href='vscode-notebook-cell:/c%3A/Users/Bridgeschool37/Desktop/Data/02_Data_Analyst/0-Matematicas_DS/3-Probabilidad.ipynb#X64sZmlsZQ%3D%3D?line=2'>3</a>\u001b[0m probabilities \u001b[39m=\u001b[39m [binom_prob(\u001b[39m30\u001b[39m, k, \u001b[39m0.5\u001b[39m) \u001b[39mfor\u001b[39;00m k \u001b[39min\u001b[39;00m \u001b[39mrange\u001b[39m(\u001b[39m1\u001b[39m, \u001b[39m31\u001b[39m)]\n\u001b[0;32m      <a href='vscode-notebook-cell:/c%3A/Users/Bridgeschool37/Desktop/Data/02_Data_Analyst/0-Matematicas_DS/3-Probabilidad.ipynb#X64sZmlsZQ%3D%3D?line=4'>5</a>\u001b[0m \u001b[39m# Plot the probability distribution using the probabilities list \u001b[39;00m\n\u001b[0;32m      <a href='vscode-notebook-cell:/c%3A/Users/Bridgeschool37/Desktop/Data/02_Data_Analyst/0-Matematicas_DS/3-Probabilidad.ipynb#X64sZmlsZQ%3D%3D?line=5'>6</a>\u001b[0m \u001b[39m# we created above.\u001b[39;00m\n\u001b[0;32m      <a href='vscode-notebook-cell:/c%3A/Users/Bridgeschool37/Desktop/Data/02_Data_Analyst/0-Matematicas_DS/3-Probabilidad.ipynb#X64sZmlsZQ%3D%3D?line=6'>7</a>\u001b[0m plt\u001b[39m.\u001b[39mstep(\u001b[39mrange\u001b[39m(\u001b[39m1\u001b[39m, \u001b[39m31\u001b[39m), probabilities, where\u001b[39m=\u001b[39m\u001b[39m'\u001b[39m\u001b[39mmid\u001b[39m\u001b[39m'\u001b[39m, color\u001b[39m=\u001b[39m\u001b[39m\"\u001b[39m\u001b[39mblue\u001b[39m\u001b[39m\"\u001b[39m)\n",
      "\u001b[1;31mNameError\u001b[0m: name 'binom_prob' is not defined"
     ]
    }
   ],
   "source": [
    "# Calculate the probability for every possible outcome of tossing \n",
    "# a fair coin 30 times.\n",
    "probabilities = [binom_prob(30, k, 0.5) for k in range(1, 31)]\n",
    "\n",
    "# Plot the probability distribution using the probabilities list \n",
    "# we created above.\n",
    "plt.step(range(1, 31), probabilities, where='mid', color=\"blue\")\n",
    "plt.xlabel('number of heads')\n",
    "plt.ylabel('probability')\n",
    "plt.plot((22, 22), (0, 0.1599), color=\"red\");\n",
    "plt.annotate('0.8%', \n",
    "             xytext=(25, 0.08), \n",
    "             xy=(22, 0.08), \n",
    "             multialignment='right',\n",
    "             va='center',\n",
    "             color=\"red\",\n",
    "             size='large',\n",
    "             arrowprops={'arrowstyle': '<|-', \n",
    "                         'lw': 2, \n",
    "                         'color': \"red\", \n",
    "                         'shrinkA': 10});"
   ]
  }
 ],
 "metadata": {
  "file_extension": ".py",
  "kernelspec": {
   "display_name": "Python 3.7.4 64-bit",
   "language": "python",
   "name": "python3"
  },
  "language_info": {
   "codemirror_mode": {
    "name": "ipython",
    "version": 3
   },
   "file_extension": ".py",
   "mimetype": "text/x-python",
   "name": "python",
   "nbconvert_exporter": "python",
   "pygments_lexer": "ipython3",
   "version": "3.11.5"
  },
  "mimetype": "text/x-python",
  "name": "python",
  "npconvert_exporter": "python",
  "pygments_lexer": "ipython3",
  "version": 3,
  "vscode": {
   "interpreter": {
    "hash": "90139cb9a825bf3d63f6f6704e828dbd1ff7edbd4d0c6e906a71235d6efc74af"
   }
  }
 },
 "nbformat": 4,
 "nbformat_minor": 4
}
