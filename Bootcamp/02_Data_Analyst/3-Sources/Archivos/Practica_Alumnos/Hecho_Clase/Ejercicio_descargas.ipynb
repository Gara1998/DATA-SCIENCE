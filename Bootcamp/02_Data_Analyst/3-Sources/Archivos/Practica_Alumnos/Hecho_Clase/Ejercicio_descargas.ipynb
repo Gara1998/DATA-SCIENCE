{
 "cells": [
  {
   "cell_type": "markdown",
   "metadata": {},
   "source": [
    "## Ejercicio descargas"
   ]
  },
  {
   "cell_type": "markdown",
   "metadata": {},
   "source": [
    "Python es un lenguaje de propósito general, por lo que podemos desarrollar otros programas,\n",
    "aparte de ciencia de datos, que nos permitan montar dashboards, crear APIs o automatizar\n",
    "procesos. En este caso vas a automatizar un proceso, en el que tendrás que desarrollar un\n",
    "script que ordene todos los archivos de una carpeta, dependiendo de la extensión de los\n",
    "mismos.\n",
    "\n",
    "\n",
    "El objetivo es ordenar la típica carpeta de cajón desastre donde se nos acumulan archivos de\n",
    "todos los formatos como: imágenes, words, presentaciones, excels, ejecutables, zips, etc... Y\n",
    "que no vamos a ir viendo archivo a archivo, ordenándolos.... La solución suele ser eliminarlo\n",
    "todo. Vamos a intentar no tener que llegar a eso, ordenando los ficheros automáticamente en\n",
    "carpetas y revisar las que nos interesen. La típica carpeta donde aplicaríamos este programa es\n",
    "la de “Descargas”, donde se suelen acumular muchos archivos temporales.\n",
    "\n",
    "\n",
    "Por tanto, **el programa tiene que guardar los archivos de la carpeta “Descargas” (o cualquier\n",
    "otra donde acumules mucho archivo temporal) en los siguientes directorios dentro de la\n",
    "propia carpeta “Descargas”**:\n",
    "- Imagenes\n",
    "- Documentos\n",
    "- Software\n",
    "- Otros\n",
    "\n",
    "Cada vez que ejecutes el script, automáticamente se ordenarán todos los archivos en sus\n",
    "correspondientes carpetas.\n"
   ]
  },
  {
   "cell_type": "code",
   "execution_count": 1,
   "metadata": {},
   "outputs": [],
   "source": [
    "doc_types = ('.doc', '.docx', '.txt', '.pdf', '.xls', '.ppt', '.xlsx', '.pptx')\n",
    "img_types = ('.jpg', '.jpeg', '.png', '.svg', '.gif', '.tif', '.tiff')\n",
    "software_types = ('.exe', '.pkg', '.dmg')"
   ]
  },
  {
   "cell_type": "markdown",
   "metadata": {},
   "source": [
    "### 1. Crea un main.py con el programa principal y las funciones necesarias en funciones.py"
   ]
  },
  {
   "cell_type": "code",
   "execution_count": 2,
   "metadata": {},
   "outputs": [],
   "source": [
    "import os\n",
    "import shutil"
   ]
  },
  {
   "cell_type": "code",
   "execution_count": 3,
   "metadata": {},
   "outputs": [
    {
     "data": {
      "text/plain": [
       "'c:\\\\Users\\\\david\\\\TheBridge\\\\DT_PT_Sep2023\\\\02_Data_Analyst\\\\3-Sources\\\\Archivos\\\\Practica'"
      ]
     },
     "execution_count": 3,
     "metadata": {},
     "output_type": "execute_result"
    }
   ],
   "source": [
    "os.getcwd()"
   ]
  },
  {
   "cell_type": "code",
   "execution_count": 4,
   "metadata": {},
   "outputs": [
    {
     "data": {
      "text/plain": [
       "['clase.py',\n",
       " 'descargas_test',\n",
       " 'Ejercicio_descargas.ipynb',\n",
       " 'funciones.py',\n",
       " 'main.py',\n",
       " 'main_class.py',\n",
       " 'variables.py']"
      ]
     },
     "execution_count": 4,
     "metadata": {},
     "output_type": "execute_result"
    }
   ],
   "source": [
    "os.listdir()"
   ]
  },
  {
   "cell_type": "code",
   "execution_count": 5,
   "metadata": {},
   "outputs": [],
   "source": [
    "os.chdir(os.getcwd() + '\\\\descargas_test')"
   ]
  },
  {
   "cell_type": "code",
   "execution_count": 6,
   "metadata": {},
   "outputs": [
    {
     "data": {
      "text/plain": [
       "'c:\\\\Users\\\\david\\\\TheBridge\\\\DT_PT_Sep2023\\\\02_Data_Analyst\\\\3-Sources\\\\Archivos\\\\Practica\\\\descargas_test'"
      ]
     },
     "execution_count": 6,
     "metadata": {},
     "output_type": "execute_result"
    }
   ],
   "source": [
    "os.getcwd()"
   ]
  },
  {
   "cell_type": "code",
   "execution_count": 7,
   "metadata": {},
   "outputs": [
    {
     "data": {
      "text/plain": [
       "['(NO ABRIR EN WEB) Diagrama de Gantt.xlsx',\n",
       " '06_Tablas_apartado_6_14.xlsx',\n",
       " '1-Introduction_Gym.ipynb',\n",
       " '2-Pandas.zip',\n",
       " '2-Pandas_Parte_II.7z',\n",
       " '22200150398_032023_F23ES-00541971 (1).pdf',\n",
       " '22200150398_032023_F23ES-00541971 (2).pdf',\n",
       " '22200150398_032023_F23ES-00541971.pdf',\n",
       " '22200150398_112023_F23ES-02369151.pdf',\n",
       " '3-Sources.7z',\n",
       " '3713JCC_PERMISO CIRCULACION TEMPORAL (1).pdf',\n",
       " '3713JCC_PERMISO CIRCULACION TEMPORAL.pdf',\n",
       " '5-Feature_engineering.zip',\n",
       " '7z2201.exe',\n",
       " '978-3-642-04277-5_20.pdf',\n",
       " 'Algoritmos-20230417T074245Z-001.zip',\n",
       " 'ASTE SANTUKO LANA-b0d130390f5f8c874a8cb2b999b7a69d.pdf',\n",
       " 'basic-miktex-23.10-x64.exe',\n",
       " 'BV7B6118-2.jpg',\n",
       " 'BV7B6118.jpg',\n",
       " 'capas_python_plotly.zip',\n",
       " 'ChromeSetup.exe',\n",
       " 'clase_07_2_train_gan.ipynb',\n",
       " 'COLOR MOBILIARIO STOCK (1).pdf',\n",
       " 'COLOR MOBILIARIO STOCK (2).pdf',\n",
       " 'COLOR MOBILIARIO STOCK.pdf',\n",
       " 'Contrato mercantil de prestación de servicios -David Bores_2023-24.DOCX',\n",
       " 'datos-erte-resueltos-por-covid-19-2022-12-02.csv',\n",
       " 'DatosMUEnpresagintza.pdf',\n",
       " 'David Bores (1).jpg',\n",
       " 'David Bores.jpg',\n",
       " 'Diagrama de Gant (no abrir en web) (1).xlsx',\n",
       " 'Diagrama de Gant (no abrir en web).xlsx',\n",
       " 'Dialnet-SistemaDeControlParaComputacionEvolutivaBasadoEnRe-7799058.pdf',\n",
       " 'DNI_David Bores Moreno-1.pdf',\n",
       " 'DNI_David Bores Moreno-2.pdf',\n",
       " 'DNI_David Bores Moreno.pdf',\n",
       " 'documento (1).pdf',\n",
       " 'documento (2).pdf',\n",
       " 'documento.pdf',\n",
       " 'drive-download-20230222T170128Z-001.zip',\n",
       " 'drive-download-20230222T170128Z-002.zip',\n",
       " 'drive-download-20230507T194953Z-001.zip',\n",
       " 'EBADF752-BFB6-4DF0-AD52-A86D7FBE94B1.pkpass',\n",
       " 'Ejercicios_Extra',\n",
       " 'Ejercicios_Extra.zip',\n",
       " 'Ejercicios_Variables.ipynb',\n",
       " 'Examen_Sep2023.ipynb',\n",
       " 'Factura_David.docx',\n",
       " 'Factura_David_Enero_Febrero.docx',\n",
       " 'Factura_David_Enero_Febrero.pdf',\n",
       " 'Ficha_Tecnica.pdf',\n",
       " 'fondo_videollamadas_2a_volteada.jpg',\n",
       " 'forestfires.csv',\n",
       " 'forestfires.names',\n",
       " 'Fotocopia DNI.pdf',\n",
       " 'Fundamentos Matemáticos y Estadísticos II Reto 5 Introduccion Series Temporales.v3.pdf',\n",
       " 'Fundamentos Matemáticos y Estadísticos II Reto 6 Metodos de estimacion de la RegLog, LDA, SVM.v1 (1).pdf',\n",
       " 'Fundamentos Matemáticos y Estadísticos II Reto 6 Metodos de estimacion de la RegLog, LDA, SVM.v1.pdf',\n",
       " 'Fundamentos Matemáticos y Estadísticos II Reto 6 Metodos de estimacion de la RL.v1.pdf',\n",
       " 'Fundamentos Matemáticos y Estadísticos II Reto 7 Modelos basados en árboles de decisión.v1.pdf',\n",
       " 'Fundamentos Matemáticos y Estadísticos II Reto 7 Seleccion de variables.v1.pdf',\n",
       " 'GDP_USD_cuadro_mando_8_11_22.pbix',\n",
       " 'Git-2.42.0.2-64-bit.exe',\n",
       " 'GUIA.txt',\n",
       " 'hello (1).txt',\n",
       " 'hello.txt',\n",
       " 'IMG_9144.jpg',\n",
       " 'inflation-gdp_csv.csv',\n",
       " 'install-tl-windows.exe',\n",
       " 'JavaSetup8u381.exe',\n",
       " 'legacy.py',\n",
       " 'lista_alumnos_foto.pdf',\n",
       " 'Matematicas.docx',\n",
       " 'Modelo factura.docx',\n",
       " 'movie.mp4',\n",
       " 'OBS-Studio-29.0.2-Full-Installer-x64.exe',\n",
       " 'OfficeSetup.exe',\n",
       " 'ojsadmin,+Gestor_a+de+la+revista,+4.pdf',\n",
       " 'OpenBoard_Installer_1.6.4.exe',\n",
       " 'Permiso_Circulacion.pdf',\n",
       " 'Planificacion V2.xlsx',\n",
       " 'Postman-win64-Setup.exe',\n",
       " 'Practicas-20230417T074206Z-001.zip',\n",
       " 'preguntas estudiantes uni deusto.docx',\n",
       " 'PRL David.pdf',\n",
       " 'python-3.11.3-amd64.exe',\n",
       " 'python-3.11.5-amd64.exe',\n",
       " 'python-3.7.4-amd64 (1).exe',\n",
       " 'python-3.7.4-amd64.exe',\n",
       " 'R-4.2.2-win.exe',\n",
       " 'RECIBI Plan de Emergencia Bilbao.pdf',\n",
       " 'RECIBÍ INFORMACIÓN PRL (2).pdf',\n",
       " 'REGISTRO DE OFRECIMIENTO PARA EL RECONOCIMIENTO MÉDICO LABORAL.pdf',\n",
       " 'Resolucion_Ejercicios_Met_Est_Reg_Lin_2.tex',\n",
       " 'Resolucion_Ejercicios_Variables.ipynb',\n",
       " 'Resolucion_Entrega_Ejercicios.tex',\n",
       " 'Resolucion_Examen_Extraordinario.pdf',\n",
       " 'RStudio-2022.12.0-353.exe',\n",
       " 's00521-018-3515-0.pdf',\n",
       " 'SlackSetup.exe',\n",
       " 'Solicitud_Clave_Certificado.pdf',\n",
       " 'sublime_text_build_4143_x64_setup.exe',\n",
       " 'TarjetaVirtualCiudadano-PROD-2.3.0-es (1).msi',\n",
       " 'TarjetaVirtualCiudadano-PROD-2.3.0-es.msi',\n",
       " 'Temp.jpg',\n",
       " 'Valoracion_Alumnos.xlsx',\n",
       " 'VSCodeUserSetup-x64-1.75.1 (1).exe',\n",
       " 'VSCodeUserSetup-x64-1.75.1.exe',\n",
       " 'vs_BuildTools.exe',\n",
       " 'W13 _ Day 5 _ Cloud I (Parte  II).mp4',\n",
       " 'W14 _ Day 1 _ Cloud II (Parte I).mp4',\n",
       " 'W14 _ Day 1 _ Cloud II (Parte II).mp4',\n",
       " 'WacomTablet_6.4.1-3 (1).exe',\n",
       " 'WacomTablet_6.4.1-3.exe',\n",
       " 'WhatsApp Image 2023-06-01 at 13.54.14.jpeg',\n",
       " 'WhatsApp Unknown 2023-10-13 at 22.20.06.zip',\n",
       " 'winrar-x64-622es.exe',\n",
       " 'zjw-prxf-qte (2023-02-24 18_04 GMT+1).mp4',\n",
       " 'zjw-prxf-qte (2023-09-06 19_13 GMT+2).mp4']"
      ]
     },
     "execution_count": 7,
     "metadata": {},
     "output_type": "execute_result"
    }
   ],
   "source": [
    "os.listdir()"
   ]
  },
  {
   "cell_type": "code",
   "execution_count": 8,
   "metadata": {},
   "outputs": [
    {
     "name": "stdout",
     "output_type": "stream",
     "text": [
      "(NO ABRIR EN WEB) Diagrama de Gantt.xlsx es un documento\n",
      "06_Tablas_apartado_6_14.xlsx es un documento\n",
      "1-Introduction_Gym.ipynb es otro tipo de extensión\n",
      "2-Pandas.zip es otro tipo de extensión\n",
      "2-Pandas_Parte_II.7z es otro tipo de extensión\n",
      "22200150398_032023_F23ES-00541971 (1).pdf es un documento\n",
      "22200150398_032023_F23ES-00541971 (2).pdf es un documento\n",
      "22200150398_032023_F23ES-00541971.pdf es un documento\n",
      "22200150398_112023_F23ES-02369151.pdf es un documento\n",
      "3-Sources.7z es otro tipo de extensión\n",
      "3713JCC_PERMISO CIRCULACION TEMPORAL (1).pdf es un documento\n",
      "3713JCC_PERMISO CIRCULACION TEMPORAL.pdf es un documento\n",
      "5-Feature_engineering.zip es otro tipo de extensión\n",
      "7z2201.exe es un software\n",
      "978-3-642-04277-5_20.pdf es un documento\n",
      "Algoritmos-20230417T074245Z-001.zip es otro tipo de extensión\n",
      "ASTE SANTUKO LANA-b0d130390f5f8c874a8cb2b999b7a69d.pdf es un documento\n",
      "basic-miktex-23.10-x64.exe es un software\n",
      "BV7B6118-2.jpg es una imagen\n",
      "BV7B6118.jpg es una imagen\n",
      "capas_python_plotly.zip es otro tipo de extensión\n",
      "ChromeSetup.exe es un software\n",
      "clase_07_2_train_gan.ipynb es otro tipo de extensión\n",
      "COLOR MOBILIARIO STOCK (1).pdf es un documento\n",
      "COLOR MOBILIARIO STOCK (2).pdf es un documento\n",
      "COLOR MOBILIARIO STOCK.pdf es un documento\n",
      "Contrato mercantil de prestación de servicios -David Bores_2023-24.DOCX es otro tipo de extensión\n",
      "datos-erte-resueltos-por-covid-19-2022-12-02.csv es otro tipo de extensión\n",
      "DatosMUEnpresagintza.pdf es un documento\n",
      "David Bores (1).jpg es una imagen\n",
      "David Bores.jpg es una imagen\n",
      "Diagrama de Gant (no abrir en web) (1).xlsx es un documento\n",
      "Diagrama de Gant (no abrir en web).xlsx es un documento\n",
      "Dialnet-SistemaDeControlParaComputacionEvolutivaBasadoEnRe-7799058.pdf es un documento\n",
      "DNI_David Bores Moreno-1.pdf es un documento\n",
      "DNI_David Bores Moreno-2.pdf es un documento\n",
      "DNI_David Bores Moreno.pdf es un documento\n",
      "documento (1).pdf es un documento\n",
      "documento (2).pdf es un documento\n",
      "documento.pdf es un documento\n",
      "drive-download-20230222T170128Z-001.zip es otro tipo de extensión\n",
      "drive-download-20230222T170128Z-002.zip es otro tipo de extensión\n",
      "drive-download-20230507T194953Z-001.zip es otro tipo de extensión\n",
      "EBADF752-BFB6-4DF0-AD52-A86D7FBE94B1.pkpass es otro tipo de extensión\n",
      "Ejercicios_Extra es otro tipo de extensión\n",
      "Ejercicios_Extra.zip es otro tipo de extensión\n",
      "Ejercicios_Variables.ipynb es otro tipo de extensión\n",
      "Examen_Sep2023.ipynb es otro tipo de extensión\n",
      "Factura_David.docx es un documento\n",
      "Factura_David_Enero_Febrero.docx es un documento\n",
      "Factura_David_Enero_Febrero.pdf es un documento\n",
      "Ficha_Tecnica.pdf es un documento\n",
      "fondo_videollamadas_2a_volteada.jpg es una imagen\n",
      "forestfires.csv es otro tipo de extensión\n",
      "forestfires.names es otro tipo de extensión\n",
      "Fotocopia DNI.pdf es un documento\n",
      "Fundamentos Matemáticos y Estadísticos II Reto 5 Introduccion Series Temporales.v3.pdf es un documento\n",
      "Fundamentos Matemáticos y Estadísticos II Reto 6 Metodos de estimacion de la RegLog, LDA, SVM.v1 (1).pdf es un documento\n",
      "Fundamentos Matemáticos y Estadísticos II Reto 6 Metodos de estimacion de la RegLog, LDA, SVM.v1.pdf es un documento\n",
      "Fundamentos Matemáticos y Estadísticos II Reto 6 Metodos de estimacion de la RL.v1.pdf es un documento\n",
      "Fundamentos Matemáticos y Estadísticos II Reto 7 Modelos basados en árboles de decisión.v1.pdf es un documento\n",
      "Fundamentos Matemáticos y Estadísticos II Reto 7 Seleccion de variables.v1.pdf es un documento\n",
      "GDP_USD_cuadro_mando_8_11_22.pbix es otro tipo de extensión\n",
      "Git-2.42.0.2-64-bit.exe es un software\n",
      "GUIA.txt es un documento\n",
      "hello (1).txt es un documento\n",
      "hello.txt es un documento\n",
      "IMG_9144.jpg es una imagen\n",
      "inflation-gdp_csv.csv es otro tipo de extensión\n",
      "install-tl-windows.exe es un software\n",
      "JavaSetup8u381.exe es un software\n",
      "legacy.py es otro tipo de extensión\n",
      "lista_alumnos_foto.pdf es un documento\n",
      "Matematicas.docx es un documento\n",
      "Modelo factura.docx es un documento\n",
      "movie.mp4 es otro tipo de extensión\n",
      "OBS-Studio-29.0.2-Full-Installer-x64.exe es un software\n",
      "OfficeSetup.exe es un software\n",
      "ojsadmin,+Gestor_a+de+la+revista,+4.pdf es un documento\n",
      "OpenBoard_Installer_1.6.4.exe es un software\n",
      "Permiso_Circulacion.pdf es un documento\n",
      "Planificacion V2.xlsx es un documento\n",
      "Postman-win64-Setup.exe es un software\n",
      "Practicas-20230417T074206Z-001.zip es otro tipo de extensión\n",
      "preguntas estudiantes uni deusto.docx es un documento\n",
      "PRL David.pdf es un documento\n",
      "python-3.11.3-amd64.exe es un software\n",
      "python-3.11.5-amd64.exe es un software\n",
      "python-3.7.4-amd64 (1).exe es un software\n",
      "python-3.7.4-amd64.exe es un software\n",
      "R-4.2.2-win.exe es un software\n",
      "RECIBI Plan de Emergencia Bilbao.pdf es un documento\n",
      "RECIBÍ INFORMACIÓN PRL (2).pdf es un documento\n",
      "REGISTRO DE OFRECIMIENTO PARA EL RECONOCIMIENTO MÉDICO LABORAL.pdf es un documento\n",
      "Resolucion_Ejercicios_Met_Est_Reg_Lin_2.tex es otro tipo de extensión\n",
      "Resolucion_Ejercicios_Variables.ipynb es otro tipo de extensión\n",
      "Resolucion_Entrega_Ejercicios.tex es otro tipo de extensión\n",
      "Resolucion_Examen_Extraordinario.pdf es un documento\n",
      "RStudio-2022.12.0-353.exe es un software\n",
      "s00521-018-3515-0.pdf es un documento\n",
      "SlackSetup.exe es un software\n",
      "Solicitud_Clave_Certificado.pdf es un documento\n",
      "sublime_text_build_4143_x64_setup.exe es un software\n",
      "TarjetaVirtualCiudadano-PROD-2.3.0-es (1).msi es otro tipo de extensión\n",
      "TarjetaVirtualCiudadano-PROD-2.3.0-es.msi es otro tipo de extensión\n",
      "Temp.jpg es una imagen\n",
      "Valoracion_Alumnos.xlsx es un documento\n",
      "VSCodeUserSetup-x64-1.75.1 (1).exe es un software\n",
      "VSCodeUserSetup-x64-1.75.1.exe es un software\n",
      "vs_BuildTools.exe es un software\n",
      "W13 _ Day 5 _ Cloud I (Parte  II).mp4 es otro tipo de extensión\n",
      "W14 _ Day 1 _ Cloud II (Parte I).mp4 es otro tipo de extensión\n",
      "W14 _ Day 1 _ Cloud II (Parte II).mp4 es otro tipo de extensión\n",
      "WacomTablet_6.4.1-3 (1).exe es un software\n",
      "WacomTablet_6.4.1-3.exe es un software\n",
      "WhatsApp Image 2023-06-01 at 13.54.14.jpeg es una imagen\n",
      "WhatsApp Unknown 2023-10-13 at 22.20.06.zip es otro tipo de extensión\n",
      "winrar-x64-622es.exe es un software\n",
      "zjw-prxf-qte (2023-02-24 18_04 GMT+1).mp4 es otro tipo de extensión\n",
      "zjw-prxf-qte (2023-09-06 19_13 GMT+2).mp4 es otro tipo de extensión\n"
     ]
    }
   ],
   "source": [
    "for archivo in os.listdir():\n",
    "    if archivo.endswith(doc_types):\n",
    "        print(archivo, \"es un documento\")\n",
    "    elif archivo.endswith(img_types):\n",
    "        print(archivo, \"es una imagen\")\n",
    "    elif archivo.endswith(software_types):\n",
    "        print(archivo, \"es un software\")\n",
    "    else:\n",
    "        print(archivo, \"es otro tipo de extensión\")"
   ]
  },
  {
   "cell_type": "code",
   "execution_count": 9,
   "metadata": {},
   "outputs": [
    {
     "data": {
      "text/plain": [
       "'c:\\\\Users\\\\david\\\\TheBridge\\\\DT_PT_Sep2023\\\\02_Data_Analyst\\\\3-Sources\\\\Archivos\\\\Practica\\\\descargas_test'"
      ]
     },
     "execution_count": 9,
     "metadata": {},
     "output_type": "execute_result"
    }
   ],
   "source": [
    "os.getcwd()"
   ]
  },
  {
   "cell_type": "code",
   "execution_count": 10,
   "metadata": {},
   "outputs": [],
   "source": [
    "os.makedirs(\"Imagenes\", exist_ok=True)\n",
    "os.makedirs(\"Documentos\", exist_ok=True)\n",
    "os.makedirs(\"Softwares\", exist_ok=True)\n",
    "os.makedirs(\"Otros\", exist_ok=True)"
   ]
  },
  {
   "cell_type": "code",
   "execution_count": 11,
   "metadata": {},
   "outputs": [
    {
     "data": {
      "text/plain": [
       "'c:\\\\Users\\\\david\\\\TheBridge\\\\DT_PT_Sep2023\\\\02_Data_Analyst\\\\3-Sources\\\\Archivos\\\\Practica\\\\descargas_test\\\\Otros'"
      ]
     },
     "execution_count": 11,
     "metadata": {},
     "output_type": "execute_result"
    }
   ],
   "source": [
    "os.getcwd() + \"\\\\Otros\""
   ]
  },
  {
   "cell_type": "code",
   "execution_count": 12,
   "metadata": {},
   "outputs": [
    {
     "data": {
      "text/plain": [
       "'Documentos\\\\(NO ABRIR EN WEB) Diagrama de Gantt.xlsx'"
      ]
     },
     "execution_count": 12,
     "metadata": {},
     "output_type": "execute_result"
    }
   ],
   "source": [
    "shutil.move(\"(NO ABRIR EN WEB) Diagrama de Gantt.xlsx\", \"Documentos\")"
   ]
  },
  {
   "cell_type": "code",
   "execution_count": null,
   "metadata": {},
   "outputs": [],
   "source": [
    "os.listdir()[0]"
   ]
  },
  {
   "cell_type": "code",
   "execution_count": null,
   "metadata": {},
   "outputs": [],
   "source": [
    "os.path.isdir(os.listdir()[0])"
   ]
  },
  {
   "cell_type": "code",
   "execution_count": 13,
   "metadata": {},
   "outputs": [
    {
     "name": "stdout",
     "output_type": "stream",
     "text": [
      "06_Tablas_apartado_6_14.xlsx es un documento\n",
      "1-Introduction_Gym.ipynb es otro tipo de extensión\n",
      "2-Pandas.zip es otro tipo de extensión\n",
      "2-Pandas_Parte_II.7z es otro tipo de extensión\n",
      "22200150398_032023_F23ES-00541971 (1).pdf es un documento\n",
      "22200150398_032023_F23ES-00541971 (2).pdf es un documento\n",
      "22200150398_032023_F23ES-00541971.pdf es un documento\n",
      "22200150398_112023_F23ES-02369151.pdf es un documento\n",
      "3-Sources.7z es otro tipo de extensión\n",
      "3713JCC_PERMISO CIRCULACION TEMPORAL (1).pdf es un documento\n",
      "3713JCC_PERMISO CIRCULACION TEMPORAL.pdf es un documento\n",
      "5-Feature_engineering.zip es otro tipo de extensión\n",
      "7z2201.exe es un software\n",
      "978-3-642-04277-5_20.pdf es un documento\n",
      "Algoritmos-20230417T074245Z-001.zip es otro tipo de extensión\n",
      "ASTE SANTUKO LANA-b0d130390f5f8c874a8cb2b999b7a69d.pdf es un documento\n",
      "basic-miktex-23.10-x64.exe es un software\n",
      "BV7B6118-2.jpg es una imagen\n",
      "BV7B6118.jpg es una imagen\n",
      "capas_python_plotly.zip es otro tipo de extensión\n",
      "ChromeSetup.exe es un software\n",
      "clase_07_2_train_gan.ipynb es otro tipo de extensión\n",
      "COLOR MOBILIARIO STOCK (1).pdf es un documento\n",
      "COLOR MOBILIARIO STOCK (2).pdf es un documento\n",
      "COLOR MOBILIARIO STOCK.pdf es un documento\n",
      "Contrato mercantil de prestación de servicios -David Bores_2023-24.DOCX es otro tipo de extensión\n",
      "datos-erte-resueltos-por-covid-19-2022-12-02.csv es otro tipo de extensión\n",
      "DatosMUEnpresagintza.pdf es un documento\n",
      "David Bores (1).jpg es una imagen\n",
      "David Bores.jpg es una imagen\n",
      "Diagrama de Gant (no abrir en web) (1).xlsx es un documento\n",
      "Diagrama de Gant (no abrir en web).xlsx es un documento\n",
      "Dialnet-SistemaDeControlParaComputacionEvolutivaBasadoEnRe-7799058.pdf es un documento\n",
      "DNI_David Bores Moreno-1.pdf es un documento\n",
      "DNI_David Bores Moreno-2.pdf es un documento\n",
      "DNI_David Bores Moreno.pdf es un documento\n",
      "documento (1).pdf es un documento\n",
      "documento (2).pdf es un documento\n",
      "documento.pdf es un documento\n",
      "Documentos es una carpeta\n",
      "drive-download-20230222T170128Z-001.zip es otro tipo de extensión\n",
      "drive-download-20230222T170128Z-002.zip es otro tipo de extensión\n",
      "drive-download-20230507T194953Z-001.zip es otro tipo de extensión\n",
      "EBADF752-BFB6-4DF0-AD52-A86D7FBE94B1.pkpass es otro tipo de extensión\n",
      "Ejercicios_Extra es una carpeta\n",
      "Ejercicios_Extra.zip es otro tipo de extensión\n",
      "Ejercicios_Variables.ipynb es otro tipo de extensión\n",
      "Examen_Sep2023.ipynb es otro tipo de extensión\n",
      "Factura_David.docx es un documento\n",
      "Factura_David_Enero_Febrero.docx es un documento\n",
      "Factura_David_Enero_Febrero.pdf es un documento\n",
      "Ficha_Tecnica.pdf es un documento\n",
      "fondo_videollamadas_2a_volteada.jpg es una imagen\n",
      "forestfires.csv es otro tipo de extensión\n",
      "forestfires.names es otro tipo de extensión\n",
      "Fotocopia DNI.pdf es un documento\n",
      "Fundamentos Matemáticos y Estadísticos II Reto 5 Introduccion Series Temporales.v3.pdf es un documento\n",
      "Fundamentos Matemáticos y Estadísticos II Reto 6 Metodos de estimacion de la RegLog, LDA, SVM.v1 (1).pdf es un documento\n",
      "Fundamentos Matemáticos y Estadísticos II Reto 6 Metodos de estimacion de la RegLog, LDA, SVM.v1.pdf es un documento\n",
      "Fundamentos Matemáticos y Estadísticos II Reto 6 Metodos de estimacion de la RL.v1.pdf es un documento\n",
      "Fundamentos Matemáticos y Estadísticos II Reto 7 Modelos basados en árboles de decisión.v1.pdf es un documento\n",
      "Fundamentos Matemáticos y Estadísticos II Reto 7 Seleccion de variables.v1.pdf es un documento\n",
      "GDP_USD_cuadro_mando_8_11_22.pbix es otro tipo de extensión\n",
      "Git-2.42.0.2-64-bit.exe es un software\n",
      "GUIA.txt es un documento\n",
      "hello (1).txt es un documento\n",
      "hello.txt es un documento\n",
      "Imagenes es una carpeta\n",
      "IMG_9144.jpg es una imagen\n",
      "inflation-gdp_csv.csv es otro tipo de extensión\n",
      "install-tl-windows.exe es un software\n",
      "JavaSetup8u381.exe es un software\n",
      "legacy.py es otro tipo de extensión\n",
      "lista_alumnos_foto.pdf es un documento\n",
      "Matematicas.docx es un documento\n",
      "Modelo factura.docx es un documento\n",
      "movie.mp4 es otro tipo de extensión\n",
      "OBS-Studio-29.0.2-Full-Installer-x64.exe es un software\n",
      "OfficeSetup.exe es un software\n",
      "ojsadmin,+Gestor_a+de+la+revista,+4.pdf es un documento\n",
      "OpenBoard_Installer_1.6.4.exe es un software\n",
      "Otros es una carpeta\n",
      "Permiso_Circulacion.pdf es un documento\n",
      "Planificacion V2.xlsx es un documento\n",
      "Postman-win64-Setup.exe es un software\n",
      "Practicas-20230417T074206Z-001.zip es otro tipo de extensión\n",
      "preguntas estudiantes uni deusto.docx es un documento\n",
      "PRL David.pdf es un documento\n",
      "python-3.11.3-amd64.exe es un software\n",
      "python-3.11.5-amd64.exe es un software\n",
      "python-3.7.4-amd64 (1).exe es un software\n",
      "python-3.7.4-amd64.exe es un software\n",
      "R-4.2.2-win.exe es un software\n",
      "RECIBI Plan de Emergencia Bilbao.pdf es un documento\n",
      "RECIBÍ INFORMACIÓN PRL (2).pdf es un documento\n",
      "REGISTRO DE OFRECIMIENTO PARA EL RECONOCIMIENTO MÉDICO LABORAL.pdf es un documento\n",
      "Resolucion_Ejercicios_Met_Est_Reg_Lin_2.tex es otro tipo de extensión\n",
      "Resolucion_Ejercicios_Variables.ipynb es otro tipo de extensión\n",
      "Resolucion_Entrega_Ejercicios.tex es otro tipo de extensión\n",
      "Resolucion_Examen_Extraordinario.pdf es un documento\n",
      "RStudio-2022.12.0-353.exe es un software\n",
      "s00521-018-3515-0.pdf es un documento\n",
      "SlackSetup.exe es un software\n",
      "Softwares es una carpeta\n",
      "Solicitud_Clave_Certificado.pdf es un documento\n",
      "sublime_text_build_4143_x64_setup.exe es un software\n",
      "TarjetaVirtualCiudadano-PROD-2.3.0-es (1).msi es otro tipo de extensión\n",
      "TarjetaVirtualCiudadano-PROD-2.3.0-es.msi es otro tipo de extensión\n",
      "Temp.jpg es una imagen\n",
      "Valoracion_Alumnos.xlsx es un documento\n",
      "VSCodeUserSetup-x64-1.75.1 (1).exe es un software\n",
      "VSCodeUserSetup-x64-1.75.1.exe es un software\n",
      "vs_BuildTools.exe es un software\n",
      "W13 _ Day 5 _ Cloud I (Parte  II).mp4 es otro tipo de extensión\n",
      "W14 _ Day 1 _ Cloud II (Parte I).mp4 es otro tipo de extensión\n",
      "W14 _ Day 1 _ Cloud II (Parte II).mp4 es otro tipo de extensión\n",
      "WacomTablet_6.4.1-3 (1).exe es un software\n",
      "WacomTablet_6.4.1-3.exe es un software\n",
      "WhatsApp Image 2023-06-01 at 13.54.14.jpeg es una imagen\n",
      "WhatsApp Unknown 2023-10-13 at 22.20.06.zip es otro tipo de extensión\n",
      "winrar-x64-622es.exe es un software\n",
      "zjw-prxf-qte (2023-02-24 18_04 GMT+1).mp4 es otro tipo de extensión\n",
      "zjw-prxf-qte (2023-09-06 19_13 GMT+2).mp4 es otro tipo de extensión\n"
     ]
    }
   ],
   "source": [
    "for archivo in os.listdir():\n",
    "    if os.path.isdir(archivo):\n",
    "        print(archivo, \"es una carpeta\")\n",
    "    elif archivo.endswith(doc_types):\n",
    "        print(archivo, \"es un documento\")\n",
    "        shutil.move(archivo, \"Documentos\")\n",
    "    elif archivo.endswith(img_types):\n",
    "        print(archivo, \"es una imagen\")\n",
    "        shutil.move(archivo, \"Imagenes\")\n",
    "    elif archivo.endswith(software_types):\n",
    "        print(archivo, \"es un software\")\n",
    "        shutil.move(archivo, \"Softwares\")\n",
    "    else:\n",
    "        print(archivo, \"es otro tipo de extensión\")\n",
    "        shutil.move(archivo, \"Otros\")"
   ]
  },
  {
   "cell_type": "code",
   "execution_count": null,
   "metadata": {},
   "outputs": [],
   "source": [
    "def select_dir(carpeta):\n",
    "    dir_script = os.path.dirname(os.path.abspath(__file__))\n",
    "    ruta = os.path.join(dir_script, carpeta)\n",
    "    os.chdir(ruta)\n",
    "\n",
    "def create_dirs():\n",
    "    os.makedirs(\"Imagenes\", exist_ok=True)\n",
    "    os.makedirs(\"Documentos\", exist_ok=True)\n",
    "    os.makedirs(\"Softwares\", exist_ok=True)\n",
    "    os.makedirs(\"Otros\", exist_ok=True)\n",
    "\n",
    "def move_files():\n",
    "    for archivo in os.listdir():\n",
    "        if os.path.isdir(archivo):\n",
    "            print(archivo, \"es una carpeta\")\n",
    "        elif archivo.endswith(doc_types):\n",
    "            print(archivo, \"es un documento\")\n",
    "            shutil.move(archivo, \"Documentos\")\n",
    "        elif archivo.endswith(img_types):\n",
    "            print(archivo, \"es una imagen\")\n",
    "            shutil.move(archivo, \"Imagenes\")\n",
    "        elif archivo.endswith(software_types):\n",
    "            print(archivo, \"es un software\")\n",
    "            shutil.move(archivo, \"Softwares\")\n",
    "        else:\n",
    "            print(archivo, \"es otro tipo de extensión\")\n",
    "            shutil.move(archivo, \"Otros\")"
   ]
  },
  {
   "cell_type": "markdown",
   "metadata": {},
   "source": [
    "### 2. Crea un main_class.py con el programa principal y su clase \"Fichero\" en clase.py"
   ]
  },
  {
   "cell_type": "code",
   "execution_count": null,
   "metadata": {},
   "outputs": [],
   "source": [
    "class Fichero:\n",
    "\n",
    "    def __init__(self, carpeta, extensions, carpeta_ordenar, ruta=None):\n",
    "        self.carpeta = carpeta\n",
    "        self.extensions = extensions\n",
    "        self.carpeta_ordenar = carpeta_ordenar\n",
    "        self.ruta = ruta\n",
    "        self.select_dir()\n",
    "        self.create_dir()\n",
    "        self.move_file()\n",
    "\n",
    "    def select_dir(self):\n",
    "        if self.ruta:\n",
    "            self.ruta = os.path.join(self.ruta, self.carpeta_ordenar)\n",
    "        else:\n",
    "            self.ruta = os.path.join(os.path.dirname(os.path.abspath(__file__)), self.carpeta_ordenar)\n",
    "        os.chdir(self.ruta)\n",
    "\n",
    "    def create_dir(self):\n",
    "        os.makedirs(self.carpeta, exist_ok=True)\n",
    "\n",
    "    def move_file(self):\n",
    "        for archivo in os.listdir():\n",
    "            if os.path.isdir(archivo):\n",
    "                print(archivo, \"es una carpeta\")\n",
    "            elif self.extensions==None:\n",
    "                shutil.move(archivo, self.carpeta)\n",
    "            elif archivo.endswith(self.extensions):\n",
    "                shutil.move(archivo, self.carpeta)\n"
   ]
  },
  {
   "cell_type": "code",
   "execution_count": null,
   "metadata": {},
   "outputs": [],
   "source": [
    "notebooks_types = (\".ipynb\",)"
   ]
  },
  {
   "cell_type": "code",
   "execution_count": null,
   "metadata": {},
   "outputs": [],
   "source": [
    "ruta = \"c:\\\\Users\\\\david\\\\TheBridge\\\\DT_PT_Sep2023\\\\02_Data_Analyst\\\\3-Sources\\\\Archivos\\\\Practica\"\n",
    "\n",
    "documentos = Fichero(\"Documentos\", doc_types, \"descargas_test\", ruta)\n",
    "imagenes = Fichero(\"Imagenes\", img_types, \"descargas_test\", ruta)\n",
    "softwares = Fichero(\"Software\", software_types, \"descargas_test\", ruta)\n",
    "otros = Fichero(\"Otros\", None , \"descargas_test\", ruta)\n",
    "notebooks = Fichero(\"Notebook\", notebooks_types , \"descargas_test\", ruta)"
   ]
  },
  {
   "cell_type": "code",
   "execution_count": null,
   "metadata": {},
   "outputs": [],
   "source": []
  }
 ],
 "metadata": {
  "kernelspec": {
   "display_name": "Python 3.7.4 64-bit",
   "language": "python",
   "name": "python3"
  },
  "language_info": {
   "codemirror_mode": {
    "name": "ipython",
    "version": 3
   },
   "file_extension": ".py",
   "mimetype": "text/x-python",
   "name": "python",
   "nbconvert_exporter": "python",
   "pygments_lexer": "ipython3",
   "version": "3.11.5"
  },
  "orig_nbformat": 4,
  "vscode": {
   "interpreter": {
    "hash": "90139cb9a825bf3d63f6f6704e828dbd1ff7edbd4d0c6e906a71235d6efc74af"
   }
  }
 },
 "nbformat": 4,
 "nbformat_minor": 2
}
