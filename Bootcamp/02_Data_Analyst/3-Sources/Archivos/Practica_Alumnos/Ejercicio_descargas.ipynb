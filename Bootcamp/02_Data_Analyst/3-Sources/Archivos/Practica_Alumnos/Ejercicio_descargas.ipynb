{
 "cells": [
  {
   "cell_type": "markdown",
   "metadata": {},
   "source": [
    "## Ejercicio descargas"
   ]
  },
  {
   "cell_type": "markdown",
   "metadata": {},
   "source": [
    "Python es un lenguaje de propósito general, por lo que podemos desarrollar otros programas,\n",
    "aparte de ciencia de datos, que nos permitan montar dashboards, crear APIs o automatizar\n",
    "procesos. En este caso vas a automatizar un proceso, en el que tendrás que desarrollar un\n",
    "script que ordene todos los archivos de una carpeta, dependiendo de la extensión de los\n",
    "mismos.\n",
    "\n",
    "\n",
    "El objetivo es ordenar la típica carpeta de cajón desastre donde se nos acumulan archivos de\n",
    "todos los formatos como: imágenes, words, presentaciones, excels, ejecutables, zips, etc... Y\n",
    "que no vamos a ir viendo archivo a archivo, ordenándolos.... La solución suele ser eliminarlo\n",
    "todo. Vamos a intentar no tener que llegar a eso, ordenando los ficheros automáticamente en\n",
    "carpetas y revisar las que nos interesen. La típica carpeta donde aplicaríamos este programa es\n",
    "la de “Descargas”, donde se suelen acumular muchos archivos temporales.\n",
    "\n",
    "\n",
    "Por tanto, **el programa tiene que guardar los archivos de la carpeta “Descargas” (o cualquier\n",
    "otra donde acumules mucho archivo temporal) en los siguientes directorios dentro de la\n",
    "propia carpeta “Descargas”**:\n",
    "- Imagenes\n",
    "- Documentos\n",
    "- Software\n",
    "- Otros\n",
    "\n",
    "Cada vez que ejecutes el script, automáticamente se ordenarán todos los archivos en sus\n",
    "correspondientes carpetas.\n"
   ]
  },
  {
   "cell_type": "code",
   "execution_count": 24,
   "metadata": {},
   "outputs": [],
   "source": [
    "doc_types = ('.doc', '.docx', '.txt', '.pdf', '.xls', '.ppt', '.xlsx', '.pptx') #documentos\n",
    "img_types = ('.jpg', '.jpeg', '.png', '.svg', '.gif', '.tif', '.tiff') #imagenes\n",
    "software_types = ('.exe', '.pkg', '.dmg') #ejecutables"
   ]
  },
  {
   "cell_type": "markdown",
   "metadata": {},
   "source": [
    "### 1. Crea un main.py con el programa principal y las funciones necesarias en funciones.py"
   ]
  },
  {
   "cell_type": "code",
   "execution_count": 25,
   "metadata": {},
   "outputs": [],
   "source": [
    "import os\n",
    "import shutil"
   ]
  },
  {
   "cell_type": "code",
   "execution_count": 20,
   "metadata": {},
   "outputs": [
    {
     "data": {
      "text/plain": [
       "'c:\\\\Users\\\\Bridgeschool37\\\\Desktop\\\\Data\\\\02_Data_Analyst\\\\3-Sources\\\\Archivos\\\\Practica_Alumnos'"
      ]
     },
     "execution_count": 20,
     "metadata": {},
     "output_type": "execute_result"
    }
   ],
   "source": [
    "os.getcwd()"
   ]
  },
  {
   "cell_type": "code",
   "execution_count": 21,
   "metadata": {},
   "outputs": [
    {
     "data": {
      "text/plain": [
       "['descargas_test',\n",
       " 'Documentos',\n",
       " 'Documentos_1',\n",
       " 'Ejercicio_descargas.ipynb',\n",
       " 'Imagenes',\n",
       " 'Imagenes_1',\n",
       " 'Otros',\n",
       " 'Otros_1',\n",
       " 'Software',\n",
       " 'Software_1']"
      ]
     },
     "execution_count": 21,
     "metadata": {},
     "output_type": "execute_result"
    }
   ],
   "source": [
    "os.listdir()"
   ]
  },
  {
   "cell_type": "code",
   "execution_count": 22,
   "metadata": {},
   "outputs": [],
   "source": [
    "os.chdir(os.getcwd()+'\\\\descargas_test') #ahora estamos en la carpeta de descargas"
   ]
  },
  {
   "cell_type": "code",
   "execution_count": 23,
   "metadata": {},
   "outputs": [
    {
     "data": {
      "text/plain": [
       "['0-Markdown.zip',\n",
       " '0-Matematicas_DS.zip',\n",
       " '1-Basics (1).zip',\n",
       " '1-Basics.zip',\n",
       " '1-Numpy.zip',\n",
       " '2-Flujos de control.zip',\n",
       " '2-Pandas_Parte_I (1).zip',\n",
       " '2-Pandas_Parte_I.zip',\n",
       " '2-Pandas_Parte_II.7z',\n",
       " '3-Colecciones.zip',\n",
       " '3-Sources.zip',\n",
       " '4-Funciones.zip',\n",
       " '5-OOP.zip',\n",
       " '6-Modulos.zip',\n",
       " '7-Repaso.zip',\n",
       " '8-Repaso2 (1).zip',\n",
       " '8-Repaso2.zip',\n",
       " 'Anaconda3-2023.09-0-Windows-x86_64.exe',\n",
       " 'Convenio 2023 INGENET AUTOMATIZACIÓN y GARAZI SALCEDO MESTRAITUA signed.pdf',\n",
       " 'convenio.pdf',\n",
       " 'Entrega_Garazi_Salcedo (1).ipynb',\n",
       " 'Entrega_Garazi_Salcedo.ipynb',\n",
       " 'Entrega_TR_Sep23.zip',\n",
       " 'Examen_Ramp_Up_FEB23.ipynb',\n",
       " 'Examen_Sep2023 (1).ipynb',\n",
       " 'Examen_Sep2023.ipynb',\n",
       " 'Examen_Sep2023_Garazi.ipynb',\n",
       " 'Garazi Salcedo Mestraitua aceptación beca BBK Bootcamps - Lanbide (1) (1).pdf',\n",
       " 'Garazi Salcedo Mestraitua aceptación beca BBK Bootcamps - Lanbide (1).pdf',\n",
       " 'Garazi Salcedo Mestraitua aceptación beca BBK Bootcamps - Lanbide.pdf',\n",
       " 'install-tl-windows.exe',\n",
       " 'intro.pdf',\n",
       " 'mysql-installer-community-8.0.35.0.msi',\n",
       " 'python-3.11.5-amd64.exe',\n",
       " 'VisualStudioSetup.exe']"
      ]
     },
     "execution_count": 23,
     "metadata": {},
     "output_type": "execute_result"
    }
   ],
   "source": [
    "os.listdir()"
   ]
  },
  {
   "cell_type": "code",
   "execution_count": 27,
   "metadata": {},
   "outputs": [
    {
     "name": "stdout",
     "output_type": "stream",
     "text": [
      "0-Markdown.zip es otro tipo de extension\n",
      "0-Matematicas_DS.zip es otro tipo de extension\n",
      "1-Basics (1).zip es otro tipo de extension\n",
      "1-Basics.zip es otro tipo de extension\n",
      "1-Numpy.zip es otro tipo de extension\n",
      "2-Flujos de control.zip es otro tipo de extension\n",
      "2-Pandas_Parte_I (1).zip es otro tipo de extension\n",
      "2-Pandas_Parte_I.zip es otro tipo de extension\n",
      "2-Pandas_Parte_II.7z es otro tipo de extension\n",
      "3-Colecciones.zip es otro tipo de extension\n",
      "3-Sources.zip es otro tipo de extension\n",
      "4-Funciones.zip es otro tipo de extension\n",
      "5-OOP.zip es otro tipo de extension\n",
      "6-Modulos.zip es otro tipo de extension\n",
      "7-Repaso.zip es otro tipo de extension\n",
      "8-Repaso2 (1).zip es otro tipo de extension\n",
      "8-Repaso2.zip es otro tipo de extension\n",
      "Anaconda3-2023.09-0-Windows-x86_64.exe es un software\n",
      "Convenio 2023 INGENET AUTOMATIZACIÓN y GARAZI SALCEDO MESTRAITUA signed.pdf es un documento\n",
      "convenio.pdf es un documento\n",
      "Entrega_Garazi_Salcedo (1).ipynb es otro tipo de extension\n",
      "Entrega_Garazi_Salcedo.ipynb es otro tipo de extension\n",
      "Entrega_TR_Sep23.zip es otro tipo de extension\n",
      "Examen_Ramp_Up_FEB23.ipynb es otro tipo de extension\n",
      "Examen_Sep2023 (1).ipynb es otro tipo de extension\n",
      "Examen_Sep2023.ipynb es otro tipo de extension\n",
      "Examen_Sep2023_Garazi.ipynb es otro tipo de extension\n",
      "Garazi Salcedo Mestraitua aceptación beca BBK Bootcamps - Lanbide (1) (1).pdf es un documento\n",
      "Garazi Salcedo Mestraitua aceptación beca BBK Bootcamps - Lanbide (1).pdf es un documento\n",
      "Garazi Salcedo Mestraitua aceptación beca BBK Bootcamps - Lanbide.pdf es un documento\n",
      "install-tl-windows.exe es un software\n",
      "intro.pdf es un documento\n",
      "mysql-installer-community-8.0.35.0.msi es otro tipo de extension\n",
      "python-3.11.5-amd64.exe es un software\n",
      "VisualStudioSetup.exe es un software\n"
     ]
    }
   ],
   "source": [
    "for archivo in os.listdir():\n",
    "    if archivo.endswith(doc_types):\n",
    "        print(archivo,'es un documento')\n",
    "    elif archivo.endswith(img_types):\n",
    "        print(archivo,'es una imagen')\n",
    "    elif archivo.endswith(software_types):\n",
    "        print(archivo,'es un software')\n",
    "    else:\n",
    "        print(archivo, 'es otro tipo de extension')"
   ]
  },
  {
   "cell_type": "code",
   "execution_count": 29,
   "metadata": {},
   "outputs": [],
   "source": [
    "os.makedirs('Imagenes', exist_ok=True)\n",
    "os.makedirs('Documentos',exist_ok=True)\n",
    "os.makedirs('Software',exist_ok=True)\n",
    "os.makedirs('Otros',exist_ok=True)"
   ]
  },
  {
   "cell_type": "code",
   "execution_count": 30,
   "metadata": {},
   "outputs": [
    {
     "data": {
      "text/plain": [
       "'c:\\\\Users\\\\Bridgeschool37\\\\Desktop\\\\Data\\\\02_Data_Analyst\\\\3-Sources\\\\Archivos\\\\Practica_Alumnos\\\\descargas_test\\\\Otros'"
      ]
     },
     "execution_count": 30,
     "metadata": {},
     "output_type": "execute_result"
    }
   ],
   "source": [
    "os.getcwd()+\"\\\\Otros\""
   ]
  },
  {
   "cell_type": "code",
   "execution_count": 31,
   "metadata": {},
   "outputs": [
    {
     "data": {
      "text/plain": [
       "'0-Markdown.zip'"
      ]
     },
     "execution_count": 31,
     "metadata": {},
     "output_type": "execute_result"
    }
   ],
   "source": [
    "os.listdir()[0]"
   ]
  },
  {
   "cell_type": "code",
   "execution_count": 32,
   "metadata": {},
   "outputs": [
    {
     "data": {
      "text/plain": [
       "False"
      ]
     },
     "execution_count": 32,
     "metadata": {},
     "output_type": "execute_result"
    }
   ],
   "source": [
    "os.path.isdir(os.listdir()[0])"
   ]
  },
  {
   "cell_type": "code",
   "execution_count": null,
   "metadata": {},
   "outputs": [],
   "source": [
    "for archivo in os.listdir():\n",
    "    if os.path.isdir(archivo):\n",
    "        print(archivo,'es una carpeta')\n",
    "    elif archivo.endswith(doc_types):\n",
    "        print()\n",
    "        shutil.move(archivo,'Documentos')\n"
   ]
  },
  {
   "cell_type": "markdown",
   "metadata": {},
   "source": [
    "### 2. Crea un main_class.py con el programa principal y su clase \"Fichero\" en clase.py"
   ]
  },
  {
   "cell_type": "code",
   "execution_count": null,
   "metadata": {},
   "outputs": [],
   "source": []
  },
  {
   "cell_type": "code",
   "execution_count": null,
   "metadata": {},
   "outputs": [],
   "source": []
  },
  {
   "cell_type": "code",
   "execution_count": null,
   "metadata": {},
   "outputs": [],
   "source": []
  },
  {
   "cell_type": "code",
   "execution_count": null,
   "metadata": {},
   "outputs": [],
   "source": []
  }
 ],
 "metadata": {
  "kernelspec": {
   "display_name": "base",
   "language": "python",
   "name": "python3"
  },
  "language_info": {
   "codemirror_mode": {
    "name": "ipython",
    "version": 3
   },
   "file_extension": ".py",
   "mimetype": "text/x-python",
   "name": "python",
   "nbconvert_exporter": "python",
   "pygments_lexer": "ipython3",
   "version": "3.11.5"
  },
  "orig_nbformat": 4,
  "vscode": {
   "interpreter": {
    "hash": "3c06e3e46abf38078fe4dac36a0085ec2b134ebbd73dd076183d243eeca6918f"
   }
  }
 },
 "nbformat": 4,
 "nbformat_minor": 2
}
