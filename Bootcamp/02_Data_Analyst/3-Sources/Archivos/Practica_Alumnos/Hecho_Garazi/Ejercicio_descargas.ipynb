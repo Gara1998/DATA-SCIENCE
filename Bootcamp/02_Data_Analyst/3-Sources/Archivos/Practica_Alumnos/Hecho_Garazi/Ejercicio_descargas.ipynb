{
 "cells": [
  {
   "cell_type": "markdown",
   "metadata": {},
   "source": [
    "## Ejercicio descargas"
   ]
  },
  {
   "cell_type": "markdown",
   "metadata": {},
   "source": [
    "Python es un lenguaje de propósito general, por lo que podemos desarrollar otros programas,\n",
    "aparte de ciencia de datos, que nos permitan montar dashboards, crear APIs o automatizar\n",
    "procesos. En este caso vas a automatizar un proceso, en el que tendrás que desarrollar un\n",
    "script que ordene todos los archivos de una carpeta, dependiendo de la extensión de los\n",
    "mismos.\n",
    "\n",
    "\n",
    "El objetivo es ordenar la típica carpeta de cajón desastre donde se nos acumulan archivos de\n",
    "todos los formatos como: imágenes, words, presentaciones, excels, ejecutables, zips, etc... Y\n",
    "que no vamos a ir viendo archivo a archivo, ordenándolos.... La solución suele ser eliminarlo\n",
    "todo. Vamos a intentar no tener que llegar a eso, ordenando los ficheros automáticamente en\n",
    "carpetas y revisar las que nos interesen. La típica carpeta donde aplicaríamos este programa es\n",
    "la de “Descargas”, donde se suelen acumular muchos archivos temporales.\n",
    "\n",
    "\n",
    "Por tanto, **el programa tiene que guardar los archivos de la carpeta “Descargas” (o cualquier\n",
    "otra donde acumules mucho archivo temporal) en los siguientes directorios dentro de la\n",
    "propia carpeta “Descargas”**:\n",
    "- Imagenes\n",
    "- Documentos\n",
    "- Software\n",
    "- Otros\n",
    "\n",
    "Cada vez que ejecutes el script, automáticamente se ordenarán todos los archivos en sus\n",
    "correspondientes carpetas.\n"
   ]
  },
  {
   "cell_type": "code",
   "execution_count": 1,
   "metadata": {},
   "outputs": [],
   "source": [
    "doc_types = ('.doc', '.docx', '.txt', '.pdf', '.xls', '.ppt', '.xlsx', '.pptx') #documentos\n",
    "img_types = ('.jpg', '.jpeg', '.png', '.svg', '.gif', '.tif', '.tiff') #imagenes\n",
    "software_types = ('.exe', '.pkg', '.dmg') #ejecutables"
   ]
  },
  {
   "cell_type": "markdown",
   "metadata": {},
   "source": [
    "### 1. Crea un main.py con el programa principal y las funciones necesarias en funciones.py"
   ]
  },
  {
   "cell_type": "code",
   "execution_count": 7,
   "metadata": {},
   "outputs": [],
   "source": [
    "import os\n",
    "import shutil"
   ]
  },
  {
   "cell_type": "code",
   "execution_count": 9,
   "metadata": {},
   "outputs": [
    {
     "data": {
      "text/plain": [
       "'/Users/Garazi/Downloads'"
      ]
     },
     "execution_count": 9,
     "metadata": {},
     "output_type": "execute_result"
    }
   ],
   "source": [
    "os.chdir('/Users/Garazi/Downloads')  #Nos ubicamos en la carpeta de descargas:\n",
    "os.getcwd()"
   ]
  },
  {
   "cell_type": "markdown",
   "metadata": {},
   "source": [
    "**Creación de variables**"
   ]
  },
  {
   "cell_type": "code",
   "execution_count": 28,
   "metadata": {},
   "outputs": [],
   "source": [
    "doc_types = ('.doc', '.docx', '.txt', '.pdf', '.xls', '.ppt', '.xlsx', '.pptx') #documentos\n",
    "img_types = ('.jpg', '.jpeg', '.png', '.svg', '.gif', '.tif', '.tiff') #imagenes\n",
    "audios_types= ('.mp4','.mp3')\n",
    "comprimidos=('.zip','.rar')\n",
    "software_types = ('.exe', '.pkg', '.dmg') #ejecutables\n"
   ]
  },
  {
   "cell_type": "markdown",
   "metadata": {},
   "source": [
    "**Función 1: crear directorios**\n",
    "\n",
    "exist_ok = True: si la carpeta ya existe no lo modifica ni crea una nueva. Se queda con la existente."
   ]
  },
  {
   "cell_type": "code",
   "execution_count": 27,
   "metadata": {},
   "outputs": [],
   "source": [
    "def crear_carpetas(direccion):\n",
    "    os.chdir(direccion)\n",
    "    os.makedirs('Imagenes', exist_ok=True)\n",
    "    os.makedirs('Documentos', exist_ok=True)\n",
    "    os.makedirs('Softwares', exist_ok=True)\n",
    "    os.makedirs('Audios', exist_ok=True)\n",
    "    os.makedirs('Carpetas', exist_ok=True)\n",
    "    os.makedirs('Archivos_comprimidos', exist_ok=True)\n",
    "    os.makedirs('Otros', exist_ok=True)"
   ]
  },
  {
   "cell_type": "code",
   "execution_count": 29,
   "metadata": {},
   "outputs": [],
   "source": [
    "direccion='/Users/Garazi/Downloads'\n",
    "crear_carpetas(direccion)"
   ]
  },
  {
   "cell_type": "code",
   "execution_count": null,
   "metadata": {},
   "outputs": [],
   "source": [
    "#Aqui podemos ver contenido de la carpeta.\n",
    "#Verificamos que efectivamente se han creado.\n",
    "for i in os.listdir():\n",
    "    if '.' not in i:\n",
    "        print(i)"
   ]
  },
  {
   "cell_type": "markdown",
   "metadata": {},
   "source": [
    "**Función 1: Mover archivos a directorios**\n"
   ]
  },
  {
   "cell_type": "code",
   "execution_count": 32,
   "metadata": {},
   "outputs": [],
   "source": [
    "def mover_archivos():\n",
    "    for archivo in os.listdir():\n",
    "        if os.path.isdir(archivo):\n",
    "            shutil.move(archivo,'Carpetas')\n",
    "        elif archivo.endswith(img_types):\n",
    "            shutil.move(archivo,'Imagenes')\n",
    "        elif archivo.endswith(doc_types):\n",
    "            shutil.move(archivo,'Documentos')\n",
    "        elif archivo.endswith(software_types):\n",
    "            shutil.move(archivo,'Softwares')\n",
    "        elif archivo.endswith(audios_types):\n",
    "            shutil.move(archivo,'Audios')\n",
    "        elif archivo.endswith(comprimidos):\n",
    "            shutil.move(archivo,'Archivos_comprimidos')\n",
    "        else:\n",
    "            shutil.move(archivo,'otros')"
   ]
  },
  {
   "cell_type": "code",
   "execution_count": null,
   "metadata": {},
   "outputs": [],
   "source": [
    "def crear_carpetas():\n",
    "    os.makedirs('Imagenes', exist_ok=True)\n",
    "    os.makedirs('Documentos', exist_ok=True)\n",
    "    os.makedirs('Softwares', exist_ok=True)\n",
    "    os.makedirs('Audios', exist_ok=True)\n",
    "    os.makedirs('Carpetas', exist_ok=True)\n",
    "    os.makedirs('Archivos_comprimidos', exist_ok=True)\n",
    "    os.makedirs('Otros', exist_ok=True)\n",
    "    \n",
    "def mover_archivos():\n",
    "    for archivo in os.listdir():\n",
    "        if os.path.isdir(archivo):\n",
    "            shutil.move(archivo,'Carpetas')\n",
    "        elif archivo.endswith(img_types):\n",
    "            shutil.move(archivo,'Imagenes')\n",
    "        elif archivo.endswith(doc_types):\n",
    "            shutil.move(archivo,'Documentos')\n",
    "        elif archivo.endswith(software_types):\n",
    "            shutil.move(archivo,'Softwares')\n",
    "        elif archivo.endswith(audios_types):\n",
    "            shutil.move(archivo,'Audios')\n",
    "        elif archivo.endswith(comprimidos):\n",
    "            shutil.move(archivo,'Archivos_comprimidos')\n",
    "        else:\n",
    "            shutil.move(archivo,'otros')\n",
    "            \n",
    "def programa_principal(direccion):\n",
    "    os.chdir(direccion)\n",
    "    \n",
    "    #Variables\n",
    "    doc_types = ('.doc', '.docx', '.txt', '.pdf', '.xls', '.ppt', '.xlsx', '.pptx') \n",
    "    img_types = ('.jpg', '.jpeg', '.png', '.svg', '.gif', '.tif', '.tiff') \n",
    "    audios_types= ('.mp4','.mp3')\n",
    "    comprimidos=('.zip','.rar')\n",
    "    software_types = ('.exe', '.pkg', '.dmg') \n",
    "    \n",
    "    crear_carpetas()\n",
    "    mover_archivos()\n",
    "    \n",
    "ruta='/Users/Garazi/Downloads'\n",
    "programa_principal(ruta)"
   ]
  },
  {
   "cell_type": "markdown",
   "metadata": {},
   "source": [
    "### 2. Crea un main_class.py con el programa principal y su clase \"Fichero\" en clase.py"
   ]
  },
  {
   "cell_type": "code",
   "execution_count": 33,
   "metadata": {},
   "outputs": [
    {
     "data": {
      "text/plain": [
       "'/Users/Garazi/Downloads'"
      ]
     },
     "execution_count": 33,
     "metadata": {},
     "output_type": "execute_result"
    }
   ],
   "source": [
    "os.getcwd()"
   ]
  },
  {
   "cell_type": "code",
   "execution_count": 31,
   "metadata": {},
   "outputs": [
    {
     "name": "stdout",
     "output_type": "stream",
     "text": [
      "31\n"
     ]
    }
   ],
   "source": [
    "cont=0\n",
    "for archivo in os.listdir():\n",
    "    if os.path.isdir(archivo): #Nos comprueba si es una carpeta\n",
    "        cont+=1\n",
    "print(cont)"
   ]
  },
  {
   "cell_type": "code",
   "execution_count": null,
   "metadata": {},
   "outputs": [],
   "source": []
  },
  {
   "cell_type": "code",
   "execution_count": null,
   "metadata": {},
   "outputs": [],
   "source": []
  },
  {
   "cell_type": "code",
   "execution_count": null,
   "metadata": {},
   "outputs": [],
   "source": []
  },
  {
   "cell_type": "code",
   "execution_count": null,
   "metadata": {},
   "outputs": [],
   "source": []
  }
 ],
 "metadata": {
  "kernelspec": {
   "display_name": "Python 3 (ipykernel)",
   "language": "python",
   "name": "python3"
  },
  "language_info": {
   "codemirror_mode": {
    "name": "ipython",
    "version": 3
   },
   "file_extension": ".py",
   "mimetype": "text/x-python",
   "name": "python",
   "nbconvert_exporter": "python",
   "pygments_lexer": "ipython3",
   "version": "3.9.7"
  },
  "vscode": {
   "interpreter": {
    "hash": "3c06e3e46abf38078fe4dac36a0085ec2b134ebbd73dd076183d243eeca6918f"
   }
  }
 },
 "nbformat": 4,
 "nbformat_minor": 4
}
