{
 "cells": [
  {
   "cell_type": "markdown",
   "metadata": {},
   "source": [
    "# ARCHIVOS"
   ]
  },
  {
   "cell_type": "code",
   "execution_count": 1,
   "metadata": {},
   "outputs": [],
   "source": [
    "import pandas as pd\n",
    "import numpy as np\n",
    "import os\n",
    "import shutil\n",
    "import zipfile\n",
    "import pickle"
   ]
  },
  {
   "cell_type": "markdown",
   "metadata": {},
   "source": [
    "## Navegando por directorios: libreria os"
   ]
  },
  {
   "cell_type": "code",
   "execution_count": 2,
   "metadata": {},
   "outputs": [
    {
     "data": {
      "text/plain": [
       "'c:\\\\Users\\\\Bridgeschool37\\\\Desktop\\\\Data\\\\02_Data_Analyst\\\\3-Sources'"
      ]
     },
     "execution_count": 2,
     "metadata": {},
     "output_type": "execute_result"
    }
   ],
   "source": [
    "os.getcwd() #Dirección del directorio actual"
   ]
  },
  {
   "cell_type": "code",
   "execution_count": 7,
   "metadata": {},
   "outputs": [
    {
     "data": {
      "text/plain": [
       "'C:\\\\Users\\\\Bridgeschool37\\\\Desktop\\\\Data\\\\02_Data_Analyst\\\\3-Sources\\\\Archivos'"
      ]
     },
     "execution_count": 7,
     "metadata": {},
     "output_type": "execute_result"
    }
   ],
   "source": [
    "os.chdir('C:\\\\Users\\\\Bridgeschool37\\\\Desktop\\\\Data\\\\02_Data_Analyst\\\\3-Sources\\\\Archivos') #Cambiar de directorio\n",
    "os.getcwd()"
   ]
  },
  {
   "cell_type": "code",
   "execution_count": 3,
   "metadata": {},
   "outputs": [
    {
     "data": {
      "text/plain": [
       "['01_Ramp_Up', '02_Data_Analyst']"
      ]
     },
     "execution_count": 3,
     "metadata": {},
     "output_type": "execute_result"
    }
   ],
   "source": [
    "os.chdir('C:\\\\Users\\\\Bridgeschool37\\\\Desktop\\\\Data') \n",
    "os.listdir() #Directorios que encontramos en el primer nivel de profundidad desde donde estamos"
   ]
  },
  {
   "cell_type": "code",
   "execution_count": 4,
   "metadata": {},
   "outputs": [
    {
     "data": {
      "text/plain": [
       "[('C:\\\\Users\\\\Bridgeschool37\\\\Desktop\\\\Data',\n",
       "  ['01_Ramp_Up', '02_Data_Analyst'],\n",
       "  []),\n",
       " ('C:\\\\Users\\\\Bridgeschool37\\\\Desktop\\\\Data\\\\01_Ramp_Up',\n",
       "  ['0-Markdown',\n",
       "   '1-Basics',\n",
       "   '2-Flujos de control',\n",
       "   '3-Colecciones',\n",
       "   '4-Funciones',\n",
       "   '5-OOP',\n",
       "   '6-Modulos',\n",
       "   '7-Repaso',\n",
       "   '8-FEB_23',\n",
       "   '9-Examen'],\n",
       "  ['introduccion.pdf']),\n",
       " ('C:\\\\Users\\\\Bridgeschool37\\\\Desktop\\\\Data\\\\01_Ramp_Up\\\\0-Markdown',\n",
       "  ['Practica_Alumnos', 'Teoria'],\n",
       "  ['markdown_cheetsheet.jpg']),\n",
       " ('C:\\\\Users\\\\Bridgeschool37\\\\Desktop\\\\Data\\\\01_Ramp_Up\\\\0-Markdown\\\\Practica_Alumnos',\n",
       "  ['img'],\n",
       "  ['Ejercicios markdown.ipynb']),\n",
       " ('C:\\\\Users\\\\Bridgeschool37\\\\Desktop\\\\Data\\\\01_Ramp_Up\\\\0-Markdown\\\\Practica_Alumnos\\\\img',\n",
       "  [],\n",
       "  ['ejercicios.png',\n",
       "   'ejercicio_markdown.png',\n",
       "   'md_ejercicio2.png',\n",
       "   'python.png']),\n",
       " ('C:\\\\Users\\\\Bridgeschool37\\\\Desktop\\\\Data\\\\01_Ramp_Up\\\\0-Markdown\\\\Teoria',\n",
       "  ['img'],\n",
       "  ['error_prueba_2.png', 'Markdown en Jupyter.ipynb', 'Markdown_example.md']),\n",
       " ('C:\\\\Users\\\\Bridgeschool37\\\\Desktop\\\\Data\\\\01_Ramp_Up\\\\0-Markdown\\\\Teoria\\\\img',\n",
       "  [],\n",
       "  ['error_prueba.png',\n",
       "   'extra_markdown.png',\n",
       "   'markdown_image.png',\n",
       "   'md_ejercicio2.png',\n",
       "   'primer_celda.png',\n",
       "   'python.jpg',\n",
       "   'python.png']),\n",
       " ('C:\\\\Users\\\\Bridgeschool37\\\\Desktop\\\\Data\\\\01_Ramp_Up\\\\1-Basics',\n",
       "  ['Practica_Alumnos', 'Teoria'],\n",
       "  []),\n",
       " ('C:\\\\Users\\\\Bridgeschool37\\\\Desktop\\\\Data\\\\01_Ramp_Up\\\\1-Basics\\\\Practica_Alumnos',\n",
       "  ['img'],\n",
       "  ['Ejercicios_Basics_I.ipynb',\n",
       "   'Ejercicios_Basics_II.ipynb',\n",
       "   'Ejercicio_print.ipynb',\n",
       "   'hola_mundo.ipynb',\n",
       "   'hola_mundo.py']),\n",
       " ('C:\\\\Users\\\\Bridgeschool37\\\\Desktop\\\\Data\\\\01_Ramp_Up\\\\1-Basics\\\\Practica_Alumnos\\\\img',\n",
       "  [],\n",
       "  ['ejercicios.png', 'frase_Einstein.PNG']),\n",
       " ('C:\\\\Users\\\\Bridgeschool37\\\\Desktop\\\\Data\\\\01_Ramp_Up\\\\1-Basics\\\\Teoria',\n",
       "  ['img'],\n",
       "  ['Basics_I.ipynb', 'Basics_II.ipynb', 'pizzas_online.py']),\n",
       " ('C:\\\\Users\\\\Bridgeschool37\\\\Desktop\\\\Data\\\\01_Ramp_Up\\\\1-Basics\\\\Teoria\\\\img',\n",
       "  [],\n",
       "  ['ejercicio.png',\n",
       "   'ejercicios.png',\n",
       "   'error.png',\n",
       "   'frase_Einstein.PNG',\n",
       "   'python.jpg']),\n",
       " ('C:\\\\Users\\\\Bridgeschool37\\\\Desktop\\\\Data\\\\01_Ramp_Up\\\\2-Flujos de control',\n",
       "  ['Practica _Alumnos', 'Teoria'],\n",
       "  []),\n",
       " ('C:\\\\Users\\\\Bridgeschool37\\\\Desktop\\\\Data\\\\01_Ramp_Up\\\\2-Flujos de control\\\\Practica _Alumnos',\n",
       "  ['img'],\n",
       "  ['Ejercicios Flujos de Control.ipynb']),\n",
       " ('C:\\\\Users\\\\Bridgeschool37\\\\Desktop\\\\Data\\\\01_Ramp_Up\\\\2-Flujos de control\\\\Practica _Alumnos\\\\img',\n",
       "  [],\n",
       "  ['ejercicios.png']),\n",
       " ('C:\\\\Users\\\\Bridgeschool37\\\\Desktop\\\\Data\\\\01_Ramp_Up\\\\2-Flujos de control\\\\Teoria',\n",
       "  ['img'],\n",
       "  ['Flujos.ipynb']),\n",
       " ('C:\\\\Users\\\\Bridgeschool37\\\\Desktop\\\\Data\\\\01_Ramp_Up\\\\2-Flujos de control\\\\Teoria\\\\img',\n",
       "  [],\n",
       "  ['break.jpg',\n",
       "   'continue.jpg',\n",
       "   'ejercicio.png',\n",
       "   'ejercicios.png',\n",
       "   'error.png',\n",
       "   'for-loop-python.jpg',\n",
       "   'python.jpg',\n",
       "   'while-loop.png']),\n",
       " ('C:\\\\Users\\\\Bridgeschool37\\\\Desktop\\\\Data\\\\01_Ramp_Up\\\\3-Colecciones',\n",
       "  ['Practica_alumnos', 'Teoria'],\n",
       "  []),\n",
       " ('C:\\\\Users\\\\Bridgeschool37\\\\Desktop\\\\Data\\\\01_Ramp_Up\\\\3-Colecciones\\\\Practica_alumnos',\n",
       "  ['img'],\n",
       "  ['Ejercicios Colecciones.ipynb']),\n",
       " ('C:\\\\Users\\\\Bridgeschool37\\\\Desktop\\\\Data\\\\01_Ramp_Up\\\\3-Colecciones\\\\Practica_alumnos\\\\img',\n",
       "  [],\n",
       "  ['ejercicios.png']),\n",
       " ('C:\\\\Users\\\\Bridgeschool37\\\\Desktop\\\\Data\\\\01_Ramp_Up\\\\3-Colecciones\\\\Teoria',\n",
       "  ['img'],\n",
       "  ['Colecciones.ipynb']),\n",
       " ('C:\\\\Users\\\\Bridgeschool37\\\\Desktop\\\\Data\\\\01_Ramp_Up\\\\3-Colecciones\\\\Teoria\\\\img',\n",
       "  [],\n",
       "  ['ejercicio.png', 'ejercicios.png', 'error.png', 'python.jpg']),\n",
       " ('C:\\\\Users\\\\Bridgeschool37\\\\Desktop\\\\Data\\\\01_Ramp_Up\\\\4-Funciones',\n",
       "  ['Practica_alumnos', 'Teoria'],\n",
       "  []),\n",
       " ('C:\\\\Users\\\\Bridgeschool37\\\\Desktop\\\\Data\\\\01_Ramp_Up\\\\4-Funciones\\\\Practica_alumnos',\n",
       "  ['img'],\n",
       "  ['Ejercicios funciones.ipynb']),\n",
       " ('C:\\\\Users\\\\Bridgeschool37\\\\Desktop\\\\Data\\\\01_Ramp_Up\\\\4-Funciones\\\\Practica_alumnos\\\\img',\n",
       "  [],\n",
       "  ['ejercicios.png']),\n",
       " ('C:\\\\Users\\\\Bridgeschool37\\\\Desktop\\\\Data\\\\01_Ramp_Up\\\\4-Funciones\\\\Teoria',\n",
       "  ['img'],\n",
       "  ['Funciones.ipynb']),\n",
       " ('C:\\\\Users\\\\Bridgeschool37\\\\Desktop\\\\Data\\\\01_Ramp_Up\\\\4-Funciones\\\\Teoria\\\\img',\n",
       "  [],\n",
       "  ['ejercicio.png',\n",
       "   'ejercicios.png',\n",
       "   'error.png',\n",
       "   'factorial.png',\n",
       "   'for_loop.png',\n",
       "   'funciones.png',\n",
       "   'python.jpg',\n",
       "   'recursivity.jpg',\n",
       "   'while_loop.jpg']),\n",
       " ('C:\\\\Users\\\\Bridgeschool37\\\\Desktop\\\\Data\\\\01_Ramp_Up\\\\5-OOP',\n",
       "  ['Practica_alumnos', 'Teoria'],\n",
       "  []),\n",
       " ('C:\\\\Users\\\\Bridgeschool37\\\\Desktop\\\\Data\\\\01_Ramp_Up\\\\5-OOP\\\\Practica_alumnos',\n",
       "  ['img'],\n",
       "  ['Ejercicios Clases y Objetos.ipynb']),\n",
       " ('C:\\\\Users\\\\Bridgeschool37\\\\Desktop\\\\Data\\\\01_Ramp_Up\\\\5-OOP\\\\Practica_alumnos\\\\img',\n",
       "  [],\n",
       "  ['ejercicios.png']),\n",
       " ('C:\\\\Users\\\\Bridgeschool37\\\\Desktop\\\\Data\\\\01_Ramp_Up\\\\5-OOP\\\\Teoria',\n",
       "  ['img'],\n",
       "  ['Clases y Objetos.ipynb']),\n",
       " ('C:\\\\Users\\\\Bridgeschool37\\\\Desktop\\\\Data\\\\01_Ramp_Up\\\\5-OOP\\\\Teoria\\\\img',\n",
       "  [],\n",
       "  ['dogs.jpg', 'ejercicio.png', 'ejercicios.png', 'error.png', 'python.jpg']),\n",
       " ('C:\\\\Users\\\\Bridgeschool37\\\\Desktop\\\\Data\\\\01_Ramp_Up\\\\6-Modulos',\n",
       "  ['Teoria'],\n",
       "  []),\n",
       " ('C:\\\\Users\\\\Bridgeschool37\\\\Desktop\\\\Data\\\\01_Ramp_Up\\\\6-Modulos\\\\Teoria',\n",
       "  ['direc_segundo', 'img', '__pycache__'],\n",
       "  ['datos_prueba.csv',\n",
       "   'ejer_prueba.py',\n",
       "   'Modulos.ipynb',\n",
       "   'primer_script.py',\n",
       "   'razorback (1).mp3',\n",
       "   'razorback.mp3']),\n",
       " ('C:\\\\Users\\\\Bridgeschool37\\\\Desktop\\\\Data\\\\01_Ramp_Up\\\\6-Modulos\\\\Teoria\\\\direc_segundo',\n",
       "  ['__pycache__'],\n",
       "  ['segundo_script.py']),\n",
       " ('C:\\\\Users\\\\Bridgeschool37\\\\Desktop\\\\Data\\\\01_Ramp_Up\\\\6-Modulos\\\\Teoria\\\\direc_segundo\\\\__pycache__',\n",
       "  [],\n",
       "  ['segundo_script.cpython-311.pyc', 'segundo_script.cpython-37.pyc']),\n",
       " ('C:\\\\Users\\\\Bridgeschool37\\\\Desktop\\\\Data\\\\01_Ramp_Up\\\\6-Modulos\\\\Teoria\\\\img',\n",
       "  [],\n",
       "  ['ejercicio.png', 'ejercicios.png', 'error.png', 'python.jpg']),\n",
       " ('C:\\\\Users\\\\Bridgeschool37\\\\Desktop\\\\Data\\\\01_Ramp_Up\\\\6-Modulos\\\\Teoria\\\\__pycache__',\n",
       "  [],\n",
       "  ['ejer_prueba.cpython-311.pyc',\n",
       "   'ejer_prueba.cpython-37.pyc',\n",
       "   'primer_script.cpython-311.pyc',\n",
       "   'primer_script.cpython-37.pyc']),\n",
       " ('C:\\\\Users\\\\Bridgeschool37\\\\Desktop\\\\Data\\\\01_Ramp_Up\\\\7-Repaso',\n",
       "  [],\n",
       "  ['1_Ejercicios_Repaso.ipynb',\n",
       "   '1_Resolucion_Ejercicios_Repaso.ipynb',\n",
       "   '2_Ejercicios_Repaso_2.ipynb',\n",
       "   '2_Resolucion_Ejercicios_Repaso_2.ipynb']),\n",
       " ('C:\\\\Users\\\\Bridgeschool37\\\\Desktop\\\\Data\\\\01_Ramp_Up\\\\8-FEB_23',\n",
       "  [],\n",
       "  ['Examen_Ramp_Up_FEB23.ipynb', 'Resuelto_Garazi.ipynb']),\n",
       " ('C:\\\\Users\\\\Bridgeschool37\\\\Desktop\\\\Data\\\\01_Ramp_Up\\\\9-Examen',\n",
       "  [],\n",
       "  ['Examen_Sep2023_Garazi.ipynb']),\n",
       " ('C:\\\\Users\\\\Bridgeschool37\\\\Desktop\\\\Data\\\\02_Data_Analyst',\n",
       "  ['0-Matematicas_DS', '1-Numpy', '2-Pandas', '3-Sources', 'Entrega_TR_Sep23'],\n",
       "  []),\n",
       " ('C:\\\\Users\\\\Bridgeschool37\\\\Desktop\\\\Data\\\\02_Data_Analyst\\\\0-Matematicas_DS',\n",
       "  ['img'],\n",
       "  ['1-Algebra_Lineal.ipynb',\n",
       "   '2-Estadística_descriptiva.ipynb',\n",
       "   '3-Probabilidad.ipynb']),\n",
       " ('C:\\\\Users\\\\Bridgeschool37\\\\Desktop\\\\Data\\\\02_Data_Analyst\\\\0-Matematicas_DS\\\\img',\n",
       "  [],\n",
       "  ['Bootstrapping.png',\n",
       "   'caf.png',\n",
       "   'calamar.PNG',\n",
       "   'coef_corr.png',\n",
       "   'correlacion.png',\n",
       "   'covariance.jpg',\n",
       "   'curtosis.jpg',\n",
       "   'ejercicio.png',\n",
       "   'ejercicios.png',\n",
       "   'error.png',\n",
       "   'esp_muestral_monedas.png',\n",
       "   'Iqr_with_quantile.png',\n",
       "   'ley_grandes_numeros.png',\n",
       "   'Measures-of-central-tendency-Robinson.png',\n",
       "   'monty_hall.jpg',\n",
       "   'mutuamente_excluyentes - copia.png',\n",
       "   'mutuamente_excluyentes.png',\n",
       "   'mutuamente_no_excluyentes.png',\n",
       "   'paradoja_simpson.jpg_large',\n",
       "   'parameters.png',\n",
       "   'pebble.png',\n",
       "   'percentil.png',\n",
       "   'poblac_muestra.jpg',\n",
       "   'python.jpg',\n",
       "   'Teorema+del+Límite+Central.jpg',\n",
       "   'teoria_conjuntos.jpg',\n",
       "   'tipos-asimetria.png']),\n",
       " ('C:\\\\Users\\\\Bridgeschool37\\\\Desktop\\\\Data\\\\02_Data_Analyst\\\\1-Numpy',\n",
       "  ['Practica_Alumnos', 'Teoria'],\n",
       "  ['Resumen_Numpy.ipynb']),\n",
       " ('C:\\\\Users\\\\Bridgeschool37\\\\Desktop\\\\Data\\\\02_Data_Analyst\\\\1-Numpy\\\\Practica_Alumnos',\n",
       "  ['img'],\n",
       "  ['Ejercicios Numpy I.ipynb', 'Ejercicios Numpy II.ipynb']),\n",
       " ('C:\\\\Users\\\\Bridgeschool37\\\\Desktop\\\\Data\\\\02_Data_Analyst\\\\1-Numpy\\\\Practica_Alumnos\\\\img',\n",
       "  [],\n",
       "  ['ejercicios.png', 'numpy.png', 'python.jpg']),\n",
       " ('C:\\\\Users\\\\Bridgeschool37\\\\Desktop\\\\Data\\\\02_Data_Analyst\\\\1-Numpy\\\\Teoria',\n",
       "  ['data', 'img'],\n",
       "  ['1_Numpy.ipynb']),\n",
       " ('C:\\\\Users\\\\Bridgeschool37\\\\Desktop\\\\Data\\\\02_Data_Analyst\\\\1-Numpy\\\\Teoria\\\\data',\n",
       "  [],\n",
       "  ['president_heights.csv']),\n",
       " ('C:\\\\Users\\\\Bridgeschool37\\\\Desktop\\\\Data\\\\02_Data_Analyst\\\\1-Numpy\\\\Teoria\\\\img',\n",
       "  [],\n",
       "  ['ejercicio.png',\n",
       "   'ejercicios.png',\n",
       "   'error.png',\n",
       "   'frase_Einstein.PNG',\n",
       "   'numpy.png',\n",
       "   'python.jpg']),\n",
       " ('C:\\\\Users\\\\Bridgeschool37\\\\Desktop\\\\Data\\\\02_Data_Analyst\\\\2-Pandas',\n",
       "  ['2-Pandas_Parte_I', '2-Pandas_Parte_II'],\n",
       "  ['Pandas_basicos.ipynb', 'Pandas_concatenaciones.ipynb']),\n",
       " ('C:\\\\Users\\\\Bridgeschool37\\\\Desktop\\\\Data\\\\02_Data_Analyst\\\\2-Pandas\\\\2-Pandas_Parte_I',\n",
       "  ['Práctica_Alumnos', 'Teoría'],\n",
       "  []),\n",
       " ('C:\\\\Users\\\\Bridgeschool37\\\\Desktop\\\\Data\\\\02_Data_Analyst\\\\2-Pandas\\\\2-Pandas_Parte_I\\\\Práctica_Alumnos',\n",
       "  ['0-Occupation',\n",
       "   '1-World_Food_Facts',\n",
       "   '2-Chipotle',\n",
       "   '3-Euro12',\n",
       "   '4-Fictional_Army'],\n",
       "  []),\n",
       " ('C:\\\\Users\\\\Bridgeschool37\\\\Desktop\\\\Data\\\\02_Data_Analyst\\\\2-Pandas\\\\2-Pandas_Parte_I\\\\Práctica_Alumnos\\\\0-Occupation',\n",
       "  [],\n",
       "  ['Occupation.ipynb']),\n",
       " ('C:\\\\Users\\\\Bridgeschool37\\\\Desktop\\\\Data\\\\02_Data_Analyst\\\\2-Pandas\\\\2-Pandas_Parte_I\\\\Práctica_Alumnos\\\\1-World_Food_Facts',\n",
       "  [],\n",
       "  ['food_100.csv', 'World Food Facts.ipynb']),\n",
       " ('C:\\\\Users\\\\Bridgeschool37\\\\Desktop\\\\Data\\\\02_Data_Analyst\\\\2-Pandas\\\\2-Pandas_Parte_I\\\\Práctica_Alumnos\\\\2-Chipotle',\n",
       "  [],\n",
       "  ['Chipotle.ipynb']),\n",
       " ('C:\\\\Users\\\\Bridgeschool37\\\\Desktop\\\\Data\\\\02_Data_Analyst\\\\2-Pandas\\\\2-Pandas_Parte_I\\\\Práctica_Alumnos\\\\3-Euro12',\n",
       "  [],\n",
       "  ['Euro12.ipynb']),\n",
       " ('C:\\\\Users\\\\Bridgeschool37\\\\Desktop\\\\Data\\\\02_Data_Analyst\\\\2-Pandas\\\\2-Pandas_Parte_I\\\\Práctica_Alumnos\\\\4-Fictional_Army',\n",
       "  [],\n",
       "  ['army.csv', 'Fictional Army.ipynb']),\n",
       " ('C:\\\\Users\\\\Bridgeschool37\\\\Desktop\\\\Data\\\\02_Data_Analyst\\\\2-Pandas\\\\2-Pandas_Parte_I\\\\Teoría',\n",
       "  ['data'],\n",
       "  ['1_Introducing-Pandas-Objects.ipynb',\n",
       "   '2_Data-Indexing-and-Selection.ipynb',\n",
       "   '3_Operations-in-Pandas.ipynb',\n",
       "   '4_Handling-Missing-Data.ipynb',\n",
       "   '6.Concat-And-Append.ipynb',\n",
       "   'FremontBridge.csv']),\n",
       " ('C:\\\\Users\\\\Bridgeschool37\\\\Desktop\\\\Data\\\\02_Data_Analyst\\\\2-Pandas\\\\2-Pandas_Parte_I\\\\Teoría\\\\data',\n",
       "  [],\n",
       "  ['state-abbrevs.csv', 'state-areas.csv', 'state-population.csv']),\n",
       " ('C:\\\\Users\\\\Bridgeschool37\\\\Desktop\\\\Data\\\\02_Data_Analyst\\\\2-Pandas\\\\2-Pandas_Parte_II',\n",
       "  ['Práctica_Alumnos', 'Teoría'],\n",
       "  []),\n",
       " ('C:\\\\Users\\\\Bridgeschool37\\\\Desktop\\\\Data\\\\02_Data_Analyst\\\\2-Pandas\\\\2-Pandas_Parte_II\\\\Práctica_Alumnos',\n",
       "  ['10-titanic',\n",
       "   '5-Alcohol_Consumption',\n",
       "   '6-Occupation',\n",
       "   '7-Regiment',\n",
       "   '8-Fictitous_Names',\n",
       "   '9-Beers'],\n",
       "  []),\n",
       " ('C:\\\\Users\\\\Bridgeschool37\\\\Desktop\\\\Data\\\\02_Data_Analyst\\\\2-Pandas\\\\2-Pandas_Parte_II\\\\Práctica_Alumnos\\\\10-titanic',\n",
       "  ['data', 'img'],\n",
       "  ['Titanic-exercise.ipynb']),\n",
       " ('C:\\\\Users\\\\Bridgeschool37\\\\Desktop\\\\Data\\\\02_Data_Analyst\\\\2-Pandas\\\\2-Pandas_Parte_II\\\\Práctica_Alumnos\\\\10-titanic\\\\data',\n",
       "  [],\n",
       "  ['titanic.csv']),\n",
       " ('C:\\\\Users\\\\Bridgeschool37\\\\Desktop\\\\Data\\\\02_Data_Analyst\\\\2-Pandas\\\\2-Pandas_Parte_II\\\\Práctica_Alumnos\\\\10-titanic\\\\img',\n",
       "  [],\n",
       "  ['catplotgen.png', 'kdeplotsur.png']),\n",
       " ('C:\\\\Users\\\\Bridgeschool37\\\\Desktop\\\\Data\\\\02_Data_Analyst\\\\2-Pandas\\\\2-Pandas_Parte_II\\\\Práctica_Alumnos\\\\5-Alcohol_Consumption',\n",
       "  [],\n",
       "  ['Alcohol_Consumption.ipynb']),\n",
       " ('C:\\\\Users\\\\Bridgeschool37\\\\Desktop\\\\Data\\\\02_Data_Analyst\\\\2-Pandas\\\\2-Pandas_Parte_II\\\\Práctica_Alumnos\\\\6-Occupation',\n",
       "  [],\n",
       "  ['Occupation Grouping.ipynb']),\n",
       " ('C:\\\\Users\\\\Bridgeschool37\\\\Desktop\\\\Data\\\\02_Data_Analyst\\\\2-Pandas\\\\2-Pandas_Parte_II\\\\Práctica_Alumnos\\\\7-Regiment',\n",
       "  [],\n",
       "  ['Regiment.ipynb']),\n",
       " ('C:\\\\Users\\\\Bridgeschool37\\\\Desktop\\\\Data\\\\02_Data_Analyst\\\\2-Pandas\\\\2-Pandas_Parte_II\\\\Práctica_Alumnos\\\\8-Fictitous_Names',\n",
       "  [],\n",
       "  ['Fictitous names.ipynb']),\n",
       " ('C:\\\\Users\\\\Bridgeschool37\\\\Desktop\\\\Data\\\\02_Data_Analyst\\\\2-Pandas\\\\2-Pandas_Parte_II\\\\Práctica_Alumnos\\\\9-Beers',\n",
       "  ['data'],\n",
       "  ['birras_repaso.ipynb']),\n",
       " ('C:\\\\Users\\\\Bridgeschool37\\\\Desktop\\\\Data\\\\02_Data_Analyst\\\\2-Pandas\\\\2-Pandas_Parte_II\\\\Práctica_Alumnos\\\\9-Beers\\\\data',\n",
       "  [],\n",
       "  ['datasets_beers.csv', 'datasets_breweries.csv']),\n",
       " ('C:\\\\Users\\\\Bridgeschool37\\\\Desktop\\\\Data\\\\02_Data_Analyst\\\\2-Pandas\\\\2-Pandas_Parte_II\\\\Teoría',\n",
       "  ['data'],\n",
       "  ['10.Working-With-Strings.ipynb',\n",
       "   '11.Working-with-Time-Series.ipynb',\n",
       "   '7.Merge-and-Join.ipynb',\n",
       "   '8.Aggregation-and-Grouping.ipynb',\n",
       "   'FremontBridge.csv']),\n",
       " ('C:\\\\Users\\\\Bridgeschool37\\\\Desktop\\\\Data\\\\02_Data_Analyst\\\\2-Pandas\\\\2-Pandas_Parte_II\\\\Teoría\\\\data',\n",
       "  [],\n",
       "  ['10.Working-With-Strings.html',\n",
       "   'state-abbrevs.csv',\n",
       "   'state-areas.csv',\n",
       "   'state-population.csv']),\n",
       " ('C:\\\\Users\\\\Bridgeschool37\\\\Desktop\\\\Data\\\\02_Data_Analyst\\\\3-Sources',\n",
       "  ['Archivos', 'Web', 'Webscrapping'],\n",
       "  ['Fuentes_Resumen.ipynb']),\n",
       " ('C:\\\\Users\\\\Bridgeschool37\\\\Desktop\\\\Data\\\\02_Data_Analyst\\\\3-Sources\\\\Archivos',\n",
       "  ['Practica_Alumnos', 'Teoria'],\n",
       "  ['preguntas.py']),\n",
       " ('C:\\\\Users\\\\Bridgeschool37\\\\Desktop\\\\Data\\\\02_Data_Analyst\\\\3-Sources\\\\Archivos\\\\Practica_Alumnos',\n",
       "  ['Hecho_Clase'],\n",
       "  ['Ejercicio_descargas.ipynb']),\n",
       " ('C:\\\\Users\\\\Bridgeschool37\\\\Desktop\\\\Data\\\\02_Data_Analyst\\\\3-Sources\\\\Archivos\\\\Practica_Alumnos\\\\Hecho_Clase',\n",
       "  ['descargas_test'],\n",
       "  ['clase.py',\n",
       "   'Ejercicio_descargas.ipynb',\n",
       "   'funciones.py',\n",
       "   'main.py',\n",
       "   'main_class.py',\n",
       "   'variables.py']),\n",
       " ('C:\\\\Users\\\\Bridgeschool37\\\\Desktop\\\\Data\\\\02_Data_Analyst\\\\3-Sources\\\\Archivos\\\\Practica_Alumnos\\\\Hecho_Clase\\\\descargas_test',\n",
       "  [],\n",
       "  []),\n",
       " ('C:\\\\Users\\\\Bridgeschool37\\\\Desktop\\\\Data\\\\02_Data_Analyst\\\\3-Sources\\\\Archivos\\\\Teoria',\n",
       "  ['data', 'img'],\n",
       "  ['importante.txt', 'Lectura_Escritura_Archivos.ipynb']),\n",
       " ('C:\\\\Users\\\\Bridgeschool37\\\\Desktop\\\\Data\\\\02_Data_Analyst\\\\3-Sources\\\\Archivos\\\\Teoria\\\\data',\n",
       "  ['extracted_files'],\n",
       "  ['class_hlf.py',\n",
       "   'class_hlf.txt',\n",
       "   'data_file.json',\n",
       "   'dog_breeds.txt',\n",
       "   'ejercicio.csv',\n",
       "   'ejercicio_clase.csv',\n",
       "   'encoding.csv',\n",
       "   'file_write.txt',\n",
       "   'file_writes.txt',\n",
       "   'importante',\n",
       "   'importante.txt',\n",
       "   'laliga.csv',\n",
       "   'laliga.xlsx',\n",
       "   'laliga4.csv',\n",
       "   'laligaExcelWrite.xlsx',\n",
       "   'laligaPC.csv',\n",
       "   'laligaTSV.tsv',\n",
       "   'laligaTXT.txt',\n",
       "   'laligaWrite.csv',\n",
       "   'laligaZIP.csv',\n",
       "   'laligaZIP.zip',\n",
       "   'Musical_Instruments_5.json',\n",
       "   'pepe.json',\n",
       "   'poblacion.csv',\n",
       "   'preguntas.py',\n",
       "   'prueba.py']),\n",
       " ('C:\\\\Users\\\\Bridgeschool37\\\\Desktop\\\\Data\\\\02_Data_Analyst\\\\3-Sources\\\\Archivos\\\\Teoria\\\\data\\\\extracted_files',\n",
       "  [],\n",
       "  ['laligaZIP.csv']),\n",
       " ('C:\\\\Users\\\\Bridgeschool37\\\\Desktop\\\\Data\\\\02_Data_Analyst\\\\3-Sources\\\\Archivos\\\\Teoria\\\\img',\n",
       "  [],\n",
       "  ['ejercicio.png',\n",
       "   'ejercicios.png',\n",
       "   'encoding.jpg',\n",
       "   'error.png',\n",
       "   'file.png',\n",
       "   'importante',\n",
       "   'json_image.png',\n",
       "   'path.png',\n",
       "   'python.jpg',\n",
       "   'python.png']),\n",
       " ('C:\\\\Users\\\\Bridgeschool37\\\\Desktop\\\\Data\\\\02_Data_Analyst\\\\3-Sources\\\\Web',\n",
       "  ['Practica_Alumnos', 'Teoria'],\n",
       "  []),\n",
       " ('C:\\\\Users\\\\Bridgeschool37\\\\Desktop\\\\Data\\\\02_Data_Analyst\\\\3-Sources\\\\Web\\\\Practica_Alumnos',\n",
       "  ['data', 'img'],\n",
       "  ['marvel_characters.ipynb']),\n",
       " ('C:\\\\Users\\\\Bridgeschool37\\\\Desktop\\\\Data\\\\02_Data_Analyst\\\\3-Sources\\\\Web\\\\Practica_Alumnos\\\\data',\n",
       "  [],\n",
       "  ['df_marvel.csv',\n",
       "   'df_marvel_test.csv',\n",
       "   'df_marvel_test_M.csv',\n",
       "   'df_marvel_test_R.csv',\n",
       "   'df_marvel_test_S.csv',\n",
       "   'df_marvel_test_X.csv']),\n",
       " ('C:\\\\Users\\\\Bridgeschool37\\\\Desktop\\\\Data\\\\02_Data_Analyst\\\\3-Sources\\\\Web\\\\Practica_Alumnos\\\\img',\n",
       "  [],\n",
       "  ['Captura_marvel.PNG']),\n",
       " ('C:\\\\Users\\\\Bridgeschool37\\\\Desktop\\\\Data\\\\02_Data_Analyst\\\\3-Sources\\\\Web\\\\Teoria',\n",
       "  ['data', 'img'],\n",
       "  ['mutenrroy.jpg', 'Python - Web.pdf', 'Python - Web.pptx', 'Web.ipynb']),\n",
       " ('C:\\\\Users\\\\Bridgeschool37\\\\Desktop\\\\Data\\\\02_Data_Analyst\\\\3-Sources\\\\Web\\\\Teoria\\\\data',\n",
       "  ['__MACOSX'],\n",
       "  ['202106_movements.json',\n",
       "   'bicis.zip',\n",
       "   'contenido_api.json',\n",
       "   'datos_empleo.csv']),\n",
       " ('C:\\\\Users\\\\Bridgeschool37\\\\Desktop\\\\Data\\\\02_Data_Analyst\\\\3-Sources\\\\Web\\\\Teoria\\\\data\\\\__MACOSX',\n",
       "  [],\n",
       "  ['._202106_movements.json']),\n",
       " ('C:\\\\Users\\\\Bridgeschool37\\\\Desktop\\\\Data\\\\02_Data_Analyst\\\\3-Sources\\\\Web\\\\Teoria\\\\img',\n",
       "  [],\n",
       "  ['ejercicio.png',\n",
       "   'ejercicios.png',\n",
       "   'encoding.jpg',\n",
       "   'error.png',\n",
       "   'file.png',\n",
       "   'importante',\n",
       "   'json_image.png',\n",
       "   'path.png',\n",
       "   'python.jpg',\n",
       "   'python.png']),\n",
       " ('C:\\\\Users\\\\Bridgeschool37\\\\Desktop\\\\Data\\\\02_Data_Analyst\\\\3-Sources\\\\Webscrapping',\n",
       "  ['Practica_Alumnos', 'Teoria'],\n",
       "  ['README.md']),\n",
       " ('C:\\\\Users\\\\Bridgeschool37\\\\Desktop\\\\Data\\\\02_Data_Analyst\\\\3-Sources\\\\Webscrapping\\\\Practica_Alumnos',\n",
       "  ['data'],\n",
       "  ['imdb_task.ipynb']),\n",
       " ('C:\\\\Users\\\\Bridgeschool37\\\\Desktop\\\\Data\\\\02_Data_Analyst\\\\3-Sources\\\\Webscrapping\\\\Practica_Alumnos\\\\data',\n",
       "  [],\n",
       "  ['wscraping_imdb.csv']),\n",
       " ('C:\\\\Users\\\\Bridgeschool37\\\\Desktop\\\\Data\\\\02_Data_Analyst\\\\3-Sources\\\\Webscrapping\\\\Teoria',\n",
       "  ['BeautifulSoup'],\n",
       "  ['Webscraping.pdf', 'Webscraping.pptx']),\n",
       " ('C:\\\\Users\\\\Bridgeschool37\\\\Desktop\\\\Data\\\\02_Data_Analyst\\\\3-Sources\\\\Webscrapping\\\\Teoria\\\\BeautifulSoup',\n",
       "  ['img'],\n",
       "  ['BeautifulSoup.ipynb']),\n",
       " ('C:\\\\Users\\\\Bridgeschool37\\\\Desktop\\\\Data\\\\02_Data_Analyst\\\\3-Sources\\\\Webscrapping\\\\Teoria\\\\BeautifulSoup\\\\img',\n",
       "  [],\n",
       "  ['attribute-example-for-web-scraping-1536x386.png',\n",
       "   'html-content-web-scraping.png']),\n",
       " ('C:\\\\Users\\\\Bridgeschool37\\\\Desktop\\\\Data\\\\02_Data_Analyst\\\\Entrega_TR_Sep23',\n",
       "  ['Garazi_entrega', 'img'],\n",
       "  ['Entrega_TR.pdf', 'Entrega_TR_Alumnos.ipynb']),\n",
       " ('C:\\\\Users\\\\Bridgeschool37\\\\Desktop\\\\Data\\\\02_Data_Analyst\\\\Entrega_TR_Sep23\\\\Garazi_entrega',\n",
       "  [],\n",
       "  ['Desarrollo_entrega.ipynb',\n",
       "   'Entrega_Garazi_Salcedo.ipynb',\n",
       "   'script_entrega.py']),\n",
       " ('C:\\\\Users\\\\Bridgeschool37\\\\Desktop\\\\Data\\\\02_Data_Analyst\\\\Entrega_TR_Sep23\\\\img',\n",
       "  [],\n",
       "  ['X_vs_O.png'])]"
      ]
     },
     "execution_count": 4,
     "metadata": {},
     "output_type": "execute_result"
    }
   ],
   "source": [
    "tree=os.walk('C:\\\\Users\\\\Bridgeschool37\\\\Desktop\\\\Data') #Informacion de todas las capas dentro de un directorio concreto\n",
    "imprimir=[x for x in tree]\n",
    "imprimir"
   ]
  },
  {
   "cell_type": "code",
   "execution_count": 5,
   "metadata": {},
   "outputs": [
    {
     "data": {
      "text/plain": [
       "<generator object _walk at 0x000001CADCCF7CA0>"
      ]
     },
     "execution_count": 5,
     "metadata": {},
     "output_type": "execute_result"
    }
   ],
   "source": [
    "os.walk(os.getcwd()) #para no tener que escribir a mano la direccion"
   ]
  },
  {
   "cell_type": "markdown",
   "metadata": {},
   "source": [
    "### Crear, eliminar y modificar directorios"
   ]
  },
  {
   "cell_type": "code",
   "execution_count": 45,
   "metadata": {},
   "outputs": [
    {
     "data": {
      "text/plain": [
       "'C:\\\\Users\\\\Bridgeschool37\\\\Desktop\\\\Data\\\\02_Data_Analyst\\\\3-Sources\\\\Archivos'"
      ]
     },
     "execution_count": 45,
     "metadata": {},
     "output_type": "execute_result"
    }
   ],
   "source": [
    "os.getcwd()"
   ]
  },
  {
   "cell_type": "code",
   "execution_count": 9,
   "metadata": {},
   "outputs": [],
   "source": [
    "os.mkdir('directorio_de_prueba') #Crea un directorio en la direccion que estamos"
   ]
  },
  {
   "cell_type": "code",
   "execution_count": 10,
   "metadata": {},
   "outputs": [],
   "source": [
    "os.rmdir('directorio_de_prueba') #Borra el directorio indicado"
   ]
  },
  {
   "cell_type": "markdown",
   "metadata": {},
   "source": [
    "### Borrar fitxeros"
   ]
  },
  {
   "cell_type": "code",
   "execution_count": null,
   "metadata": {},
   "outputs": [],
   "source": [
    "os.remove('direccion del fitxero')"
   ]
  },
  {
   "cell_type": "markdown",
   "metadata": {},
   "source": [
    "## Lectura y escritura"
   ]
  },
  {
   "cell_type": "markdown",
   "metadata": {},
   "source": [
    "### Lectura "
   ]
  },
  {
   "cell_type": "markdown",
   "metadata": {},
   "source": [
    "```Python\n",
    "open(\"filename\", \"mode\")\n",
    "```"
   ]
  },
  {
   "cell_type": "markdown",
   "metadata": {},
   "source": [
    "> **mode**\n",
    ">\n",
    "> 'r': open for reading (default)\n",
    ">\n",
    "> 'w': open for writing, truncating the file first\n",
    ">\n",
    "> 'x': open for exclusive creation, failing if the file already exists\n",
    ">\n",
    "> 'a': open for writing, appending to the end of file if it exists\n",
    ">\n",
    "> 'b': binary mode\n",
    ">\n",
    "> 't': text mode (default)\n",
    ">\n",
    "> '+': open for updating (reading and writing)"
   ]
  },
  {
   "cell_type": "code",
   "execution_count": 11,
   "metadata": {},
   "outputs": [
    {
     "data": {
      "text/plain": [
       "'C:\\\\Users\\\\Bridgeschool37\\\\Desktop\\\\Data\\\\02_Data_Analyst\\\\3-Sources\\\\Archivos'"
      ]
     },
     "execution_count": 11,
     "metadata": {},
     "output_type": "execute_result"
    }
   ],
   "source": [
    "os.getcwd()"
   ]
  },
  {
   "cell_type": "markdown",
   "metadata": {},
   "source": [
    "`.read()`"
   ]
  },
  {
   "cell_type": "code",
   "execution_count": 12,
   "metadata": {},
   "outputs": [
    {
     "name": "stdout",
     "output_type": "stream",
     "text": [
      "Pug\n",
      "Jack Russell Terrier\n",
      "English Springer Spaniel\n",
      "German Shepherd\n",
      "Staffordshire Bull Terrier\n",
      "Cavalier King Charles Spaniel\n",
      "Golden Retriever\n",
      "West Highland White Terrier\n",
      "Boxer\n",
      "Border Terrier\n"
     ]
    }
   ],
   "source": [
    "#Imprime linea a linea (cada linea es hasta que encuentra un salto d linea: \\n )\n",
    "with open('Teoria\\\\data\\\\dog_breeds.txt') as archivo_abierto:\n",
    "    print(archivo_abierto.read())\n",
    "\n",
    "#Podemos hacer lo mismo con la ruta absoluta:\n",
    "#with open('C:\\\\Users\\\\Bridgeschool37\\\\Desktop\\\\Data\\\\02_Data_Analyst\\\\3-Sources\\\\Archivos\\\\Teoria\\\\data\\\\dog_breeds.txt') as archivo_abierto:"
   ]
  },
  {
   "cell_type": "markdown",
   "metadata": {},
   "source": [
    "`.readlines()`"
   ]
  },
  {
   "cell_type": "code",
   "execution_count": 13,
   "metadata": {},
   "outputs": [
    {
     "name": "stdout",
     "output_type": "stream",
     "text": [
      "['Pug\\n', 'Jack Russell Terrier\\n', 'English Springer Spaniel\\n', 'German Shepherd\\n', 'Staffordshire Bull Terrier\\n', 'Cavalier King Charles Spaniel\\n', 'Golden Retriever\\n', 'West Highland White Terrier\\n', 'Boxer\\n', 'Border Terrier']\n"
     ]
    }
   ],
   "source": [
    "with open('Teoria\\\\data\\\\dog_breeds.txt') as archivo_abierto:\n",
    "    print(archivo_abierto.readlines())"
   ]
  },
  {
   "cell_type": "code",
   "execution_count": 14,
   "metadata": {},
   "outputs": [
    {
     "name": "stdout",
     "output_type": "stream",
     "text": [
      "Pug\n",
      "Jack Russell Terrier\n",
      "English Springer Spaniel\n",
      "German Shepherd\n",
      "Staffordshire Bull Terrier\n",
      "Cavalier King Charles Spaniel\n",
      "Golden Retriever\n",
      "West Highland White Terrier\n",
      "Boxer\n",
      "Border Terrier"
     ]
    }
   ],
   "source": [
    "with open('Teoria\\\\data\\\\dog_breeds.txt') as archivo_abierto:\n",
    "    for linea in archivo_abierto.readlines():\n",
    "        print(linea, end='')"
   ]
  },
  {
   "cell_type": "markdown",
   "metadata": {},
   "source": [
    "### Escritura"
   ]
  },
  {
   "cell_type": "markdown",
   "metadata": {},
   "source": [
    "`.write()`"
   ]
  },
  {
   "cell_type": "code",
   "execution_count": 49,
   "metadata": {},
   "outputs": [
    {
     "data": {
      "text/plain": [
       "'C:\\\\Users\\\\Bridgeschool37\\\\Desktop\\\\Data\\\\02_Data_Analyst\\\\3-Sources\\\\Archivos'"
      ]
     },
     "execution_count": 49,
     "metadata": {},
     "output_type": "execute_result"
    }
   ],
   "source": [
    "os.getcwd()"
   ]
  },
  {
   "cell_type": "code",
   "execution_count": 16,
   "metadata": {},
   "outputs": [],
   "source": [
    "with open('preguntas.py','w') as nuevo:\n",
    "    nuevo.write('#Primera linea \\n')\n",
    "    nuevo.write('#Segunda linea')"
   ]
  },
  {
   "cell_type": "markdown",
   "metadata": {},
   "source": [
    "Siempre que queramos editar un fichero existente, debemos abrirlo editarlo y CERRARLO."
   ]
  },
  {
   "cell_type": "code",
   "execution_count": 52,
   "metadata": {},
   "outputs": [],
   "source": [
    "f = open(\"lineas.txt\", \"w\")\n",
    "\n",
    "for i in range(10):\n",
    "    f.write(\"Line:\" + str(i))\n",
    "    \n",
    "f.close() #IMPORTANTE HACER ESTO"
   ]
  },
  {
   "cell_type": "markdown",
   "metadata": {},
   "source": [
    "### Mover ficheros: libreria shutil"
   ]
  },
  {
   "cell_type": "code",
   "execution_count": 51,
   "metadata": {},
   "outputs": [
    {
     "data": {
      "text/plain": [
       "'C:\\\\Users\\\\Bridgeschool37\\\\Desktop\\\\Data\\\\02_Data_Analyst\\\\3-Sources\\\\Archivos'"
      ]
     },
     "execution_count": 51,
     "metadata": {},
     "output_type": "execute_result"
    }
   ],
   "source": [
    "os.getcwd()"
   ]
  },
  {
   "cell_type": "code",
   "execution_count": 53,
   "metadata": {},
   "outputs": [
    {
     "data": {
      "text/plain": [
       "'Teoria\\\\lineas.txt'"
      ]
     },
     "execution_count": 53,
     "metadata": {},
     "output_type": "execute_result"
    }
   ],
   "source": [
    "shutil.move('lineas.txt','Teoria') #Lo movemos de un lugar a otro"
   ]
  },
  {
   "cell_type": "markdown",
   "metadata": {},
   "source": [
    "## Tipos de archivos"
   ]
  },
  {
   "cell_type": "markdown",
   "metadata": {},
   "source": [
    "### 1. CSV\n",
    "`pd.read_csv()`\n",
    "\n",
    "Lee diferentes archivos: .csv, .tsv, .txt\n",
    "- `filepath_or_buffer`: ruta donde está el CSV\n",
    "- `sep`: el separador de los datos, por defecto es coma, pero podría ser otro como veremos en ejemplos posteriores.\n",
    "- `header`: dónde se encuentran los nombre de columnas. Por defecto es en la primera línea."
   ]
  },
  {
   "cell_type": "code",
   "execution_count": 17,
   "metadata": {},
   "outputs": [
    {
     "data": {
      "text/plain": [
       "'C:\\\\Users\\\\Bridgeschool37\\\\Desktop\\\\Data\\\\02_Data_Analyst\\\\3-Sources\\\\Archivos'"
      ]
     },
     "execution_count": 17,
     "metadata": {},
     "output_type": "execute_result"
    }
   ],
   "source": [
    "os.getcwd()"
   ]
  },
  {
   "cell_type": "code",
   "execution_count": 19,
   "metadata": {},
   "outputs": [
    {
     "data": {
      "text/html": [
       "<div>\n",
       "<style scoped>\n",
       "    .dataframe tbody tr th:only-of-type {\n",
       "        vertical-align: middle;\n",
       "    }\n",
       "\n",
       "    .dataframe tbody tr th {\n",
       "        vertical-align: top;\n",
       "    }\n",
       "\n",
       "    .dataframe thead th {\n",
       "        text-align: right;\n",
       "    }\n",
       "</style>\n",
       "<table border=\"1\" class=\"dataframe\">\n",
       "  <thead>\n",
       "    <tr style=\"text-align: right;\">\n",
       "      <th></th>\n",
       "      <th>Unnamed: 0</th>\n",
       "      <th>season</th>\n",
       "      <th>division</th>\n",
       "      <th>round</th>\n",
       "      <th>localTeam</th>\n",
       "      <th>visitorTeam</th>\n",
       "      <th>localGoals</th>\n",
       "      <th>visitorGoals</th>\n",
       "      <th>date</th>\n",
       "      <th>timestamp</th>\n",
       "    </tr>\n",
       "  </thead>\n",
       "  <tbody>\n",
       "    <tr>\n",
       "      <th>0</th>\n",
       "      <td>26201</td>\n",
       "      <td>2005-06</td>\n",
       "      <td>1</td>\n",
       "      <td>1</td>\n",
       "      <td>Atletico de Bilbao</td>\n",
       "      <td>Real Sociedad</td>\n",
       "      <td>3</td>\n",
       "      <td>0</td>\n",
       "      <td>27/08/2005</td>\n",
       "      <td>1125093600</td>\n",
       "    </tr>\n",
       "    <tr>\n",
       "      <th>1</th>\n",
       "      <td>26202</td>\n",
       "      <td>2005-06</td>\n",
       "      <td>1</td>\n",
       "      <td>1</td>\n",
       "      <td>Alaves</td>\n",
       "      <td>Barcelona</td>\n",
       "      <td>0</td>\n",
       "      <td>0</td>\n",
       "      <td>27/08/2005</td>\n",
       "      <td>1125093600</td>\n",
       "    </tr>\n",
       "  </tbody>\n",
       "</table>\n",
       "</div>"
      ],
      "text/plain": [
       "   Unnamed: 0   season  division  round           localTeam    visitorTeam  \\\n",
       "0       26201  2005-06         1      1  Atletico de Bilbao  Real Sociedad   \n",
       "1       26202  2005-06         1      1              Alaves      Barcelona   \n",
       "\n",
       "   localGoals  visitorGoals        date   timestamp  \n",
       "0           3             0  27/08/2005  1125093600  \n",
       "1           0             0  27/08/2005  1125093600  "
      ]
     },
     "execution_count": 19,
     "metadata": {},
     "output_type": "execute_result"
    }
   ],
   "source": [
    "df = pd.read_csv('Teoria/data/laliga.csv')\n",
    "df.head(2)"
   ]
  },
  {
   "cell_type": "code",
   "execution_count": 24,
   "metadata": {},
   "outputs": [
    {
     "data": {
      "text/html": [
       "<div>\n",
       "<style scoped>\n",
       "    .dataframe tbody tr th:only-of-type {\n",
       "        vertical-align: middle;\n",
       "    }\n",
       "\n",
       "    .dataframe tbody tr th {\n",
       "        vertical-align: top;\n",
       "    }\n",
       "\n",
       "    .dataframe thead th {\n",
       "        text-align: right;\n",
       "    }\n",
       "</style>\n",
       "<table border=\"1\" class=\"dataframe\">\n",
       "  <thead>\n",
       "    <tr style=\"text-align: right;\">\n",
       "      <th></th>\n",
       "      <th>season</th>\n",
       "      <th>division</th>\n",
       "      <th>round</th>\n",
       "      <th>localTeam</th>\n",
       "      <th>visitorTeam</th>\n",
       "      <th>localGoals</th>\n",
       "      <th>visitorGoals</th>\n",
       "      <th>date</th>\n",
       "      <th>timestamp</th>\n",
       "    </tr>\n",
       "  </thead>\n",
       "  <tbody>\n",
       "    <tr>\n",
       "      <th>26201</th>\n",
       "      <td>2005-06</td>\n",
       "      <td>1</td>\n",
       "      <td>1</td>\n",
       "      <td>Atletico de Bilbao</td>\n",
       "      <td>Real Sociedad</td>\n",
       "      <td>3</td>\n",
       "      <td>0</td>\n",
       "      <td>27/08/2005</td>\n",
       "      <td>1125093600</td>\n",
       "    </tr>\n",
       "    <tr>\n",
       "      <th>26202</th>\n",
       "      <td>2005-06</td>\n",
       "      <td>1</td>\n",
       "      <td>1</td>\n",
       "      <td>Alaves</td>\n",
       "      <td>Barcelona</td>\n",
       "      <td>0</td>\n",
       "      <td>0</td>\n",
       "      <td>27/08/2005</td>\n",
       "      <td>1125093600</td>\n",
       "    </tr>\n",
       "  </tbody>\n",
       "</table>\n",
       "</div>"
      ],
      "text/plain": [
       "        season  division  round           localTeam    visitorTeam  \\\n",
       "26201  2005-06         1      1  Atletico de Bilbao  Real Sociedad   \n",
       "26202  2005-06         1      1              Alaves      Barcelona   \n",
       "\n",
       "       localGoals  visitorGoals        date   timestamp  \n",
       "26201           3             0  27/08/2005  1125093600  \n",
       "26202           0             0  27/08/2005  1125093600  "
      ]
     },
     "execution_count": 24,
     "metadata": {},
     "output_type": "execute_result"
    }
   ],
   "source": [
    "#Hay tablas que tienen indices especificos (en este caso unamed:0).\n",
    "#En estos casoss debemos indicar el indice\n",
    "df=pd.read_csv('Teoria/data/laliga.csv', index_col=\"Unnamed: 0\")\n",
    "df.head(2)"
   ]
  },
  {
   "cell_type": "code",
   "execution_count": 22,
   "metadata": {},
   "outputs": [
    {
     "data": {
      "text/plain": [
       "Index([26201, 26202, 26203, 26204, 26205, 26206, 26207, 26208, 26209, 26210,\n",
       "       ...\n",
       "       36675, 36676, 36677, 36678, 36679, 36680, 36681, 36682, 36683, 36684],\n",
       "      dtype='int64', length=4940)"
      ]
     },
     "execution_count": 22,
     "metadata": {},
     "output_type": "execute_result"
    }
   ],
   "source": [
    "df.index #Para acceder a los indices\n",
    "#df.index = range(1, df.shape[0] + 1) podemos cambiar como queramos el formato de los indices"
   ]
  },
  {
   "cell_type": "code",
   "execution_count": 23,
   "metadata": {},
   "outputs": [
    {
     "data": {
      "text/html": [
       "<div>\n",
       "<style scoped>\n",
       "    .dataframe tbody tr th:only-of-type {\n",
       "        vertical-align: middle;\n",
       "    }\n",
       "\n",
       "    .dataframe tbody tr th {\n",
       "        vertical-align: top;\n",
       "    }\n",
       "\n",
       "    .dataframe thead th {\n",
       "        text-align: right;\n",
       "    }\n",
       "</style>\n",
       "<table border=\"1\" class=\"dataframe\">\n",
       "  <thead>\n",
       "    <tr style=\"text-align: right;\">\n",
       "      <th></th>\n",
       "      <th>season</th>\n",
       "      <th>division</th>\n",
       "      <th>round</th>\n",
       "      <th>localTeam</th>\n",
       "      <th>visitorTeam</th>\n",
       "      <th>localGoals</th>\n",
       "      <th>visitorGoals</th>\n",
       "      <th>date</th>\n",
       "      <th>timestamp</th>\n",
       "    </tr>\n",
       "  </thead>\n",
       "  <tbody>\n",
       "    <tr>\n",
       "      <th>0</th>\n",
       "      <td>2005-06</td>\n",
       "      <td>1</td>\n",
       "      <td>1</td>\n",
       "      <td>Atletico de Bilbao</td>\n",
       "      <td>Real Sociedad</td>\n",
       "      <td>3</td>\n",
       "      <td>0</td>\n",
       "      <td>27/08/2005</td>\n",
       "      <td>1125093600</td>\n",
       "    </tr>\n",
       "    <tr>\n",
       "      <th>1</th>\n",
       "      <td>2005-06</td>\n",
       "      <td>1</td>\n",
       "      <td>1</td>\n",
       "      <td>Alaves</td>\n",
       "      <td>Barcelona</td>\n",
       "      <td>0</td>\n",
       "      <td>0</td>\n",
       "      <td>27/08/2005</td>\n",
       "      <td>1125093600</td>\n",
       "    </tr>\n",
       "    <tr>\n",
       "      <th>2</th>\n",
       "      <td>2005-06</td>\n",
       "      <td>1</td>\n",
       "      <td>1</td>\n",
       "      <td>Valencia</td>\n",
       "      <td>Betis</td>\n",
       "      <td>1</td>\n",
       "      <td>0</td>\n",
       "      <td>27/08/2005</td>\n",
       "      <td>1125093600</td>\n",
       "    </tr>\n",
       "    <tr>\n",
       "      <th>3</th>\n",
       "      <td>2005-06</td>\n",
       "      <td>1</td>\n",
       "      <td>1</td>\n",
       "      <td>Atletico de Madrid</td>\n",
       "      <td>Zaragoza</td>\n",
       "      <td>0</td>\n",
       "      <td>0</td>\n",
       "      <td>28/08/2005</td>\n",
       "      <td>1125180000</td>\n",
       "    </tr>\n",
       "    <tr>\n",
       "      <th>4</th>\n",
       "      <td>2005-06</td>\n",
       "      <td>1</td>\n",
       "      <td>1</td>\n",
       "      <td>Cadiz</td>\n",
       "      <td>Real Madrid</td>\n",
       "      <td>1</td>\n",
       "      <td>2</td>\n",
       "      <td>28/08/2005</td>\n",
       "      <td>1125180000</td>\n",
       "    </tr>\n",
       "    <tr>\n",
       "      <th>...</th>\n",
       "      <td>...</td>\n",
       "      <td>...</td>\n",
       "      <td>...</td>\n",
       "      <td>...</td>\n",
       "      <td>...</td>\n",
       "      <td>...</td>\n",
       "      <td>...</td>\n",
       "      <td>...</td>\n",
       "      <td>...</td>\n",
       "    </tr>\n",
       "    <tr>\n",
       "      <th>4935</th>\n",
       "      <td>2017-18</td>\n",
       "      <td>1</td>\n",
       "      <td>38</td>\n",
       "      <td>Villarreal</td>\n",
       "      <td>Real Madrid</td>\n",
       "      <td>2</td>\n",
       "      <td>2</td>\n",
       "      <td>19/05/2018</td>\n",
       "      <td>1526680800</td>\n",
       "    </tr>\n",
       "    <tr>\n",
       "      <th>4936</th>\n",
       "      <td>2017-18</td>\n",
       "      <td>1</td>\n",
       "      <td>38</td>\n",
       "      <td>Atletico de Bilbao</td>\n",
       "      <td>Espanol</td>\n",
       "      <td>0</td>\n",
       "      <td>1</td>\n",
       "      <td>20/05/2018</td>\n",
       "      <td>1526767200</td>\n",
       "    </tr>\n",
       "    <tr>\n",
       "      <th>4937</th>\n",
       "      <td>2017-18</td>\n",
       "      <td>1</td>\n",
       "      <td>38</td>\n",
       "      <td>Barcelona</td>\n",
       "      <td>Real Sociedad</td>\n",
       "      <td>1</td>\n",
       "      <td>0</td>\n",
       "      <td>20/05/2018</td>\n",
       "      <td>1526767200</td>\n",
       "    </tr>\n",
       "    <tr>\n",
       "      <th>4938</th>\n",
       "      <td>2017-18</td>\n",
       "      <td>1</td>\n",
       "      <td>38</td>\n",
       "      <td>Valencia</td>\n",
       "      <td>Deportivo</td>\n",
       "      <td>2</td>\n",
       "      <td>1</td>\n",
       "      <td>20/05/2018</td>\n",
       "      <td>1526767200</td>\n",
       "    </tr>\n",
       "    <tr>\n",
       "      <th>4939</th>\n",
       "      <td>2017-18</td>\n",
       "      <td>1</td>\n",
       "      <td>38</td>\n",
       "      <td>Atletico de Madrid</td>\n",
       "      <td>Eibar</td>\n",
       "      <td>2</td>\n",
       "      <td>2</td>\n",
       "      <td>20/05/2018</td>\n",
       "      <td>1526767200</td>\n",
       "    </tr>\n",
       "  </tbody>\n",
       "</table>\n",
       "<p>4940 rows × 9 columns</p>\n",
       "</div>"
      ],
      "text/plain": [
       "       season  division  round           localTeam    visitorTeam  localGoals  \\\n",
       "0     2005-06         1      1  Atletico de Bilbao  Real Sociedad           3   \n",
       "1     2005-06         1      1              Alaves      Barcelona           0   \n",
       "2     2005-06         1      1            Valencia          Betis           1   \n",
       "3     2005-06         1      1  Atletico de Madrid       Zaragoza           0   \n",
       "4     2005-06         1      1               Cadiz    Real Madrid           1   \n",
       "...       ...       ...    ...                 ...            ...         ...   \n",
       "4935  2017-18         1     38          Villarreal    Real Madrid           2   \n",
       "4936  2017-18         1     38  Atletico de Bilbao        Espanol           0   \n",
       "4937  2017-18         1     38           Barcelona  Real Sociedad           1   \n",
       "4938  2017-18         1     38            Valencia      Deportivo           2   \n",
       "4939  2017-18         1     38  Atletico de Madrid          Eibar           2   \n",
       "\n",
       "      visitorGoals        date   timestamp  \n",
       "0                0  27/08/2005  1125093600  \n",
       "1                0  27/08/2005  1125093600  \n",
       "2                0  27/08/2005  1125093600  \n",
       "3                0  28/08/2005  1125180000  \n",
       "4                2  28/08/2005  1125180000  \n",
       "...            ...         ...         ...  \n",
       "4935             2  19/05/2018  1526680800  \n",
       "4936             1  20/05/2018  1526767200  \n",
       "4937             0  20/05/2018  1526767200  \n",
       "4938             1  20/05/2018  1526767200  \n",
       "4939             2  20/05/2018  1526767200  \n",
       "\n",
       "[4940 rows x 9 columns]"
      ]
     },
     "execution_count": 23,
     "metadata": {},
     "output_type": "execute_result"
    }
   ],
   "source": [
    "df.reset_index(inplace=False, drop=True) #Volver a los indices naturales"
   ]
  },
  {
   "cell_type": "markdown",
   "metadata": {},
   "source": [
    "Tipo de datos:"
   ]
  },
  {
   "cell_type": "code",
   "execution_count": 28,
   "metadata": {},
   "outputs": [
    {
     "data": {
      "text/plain": [
       "Unnamed: 0    object\n",
       "division       int64\n",
       "localTeam     object\n",
       "dtype: object"
      ]
     },
     "execution_count": 28,
     "metadata": {},
     "output_type": "execute_result"
    }
   ],
   "source": [
    "df.dtypes"
   ]
  },
  {
   "cell_type": "code",
   "execution_count": 26,
   "metadata": {},
   "outputs": [
    {
     "data": {
      "text/html": [
       "<div>\n",
       "<style scoped>\n",
       "    .dataframe tbody tr th:only-of-type {\n",
       "        vertical-align: middle;\n",
       "    }\n",
       "\n",
       "    .dataframe tbody tr th {\n",
       "        vertical-align: top;\n",
       "    }\n",
       "\n",
       "    .dataframe thead th {\n",
       "        text-align: right;\n",
       "    }\n",
       "</style>\n",
       "<table border=\"1\" class=\"dataframe\">\n",
       "  <thead>\n",
       "    <tr style=\"text-align: right;\">\n",
       "      <th></th>\n",
       "      <th>Unnamed: 0</th>\n",
       "      <th>division</th>\n",
       "      <th>localTeam</th>\n",
       "    </tr>\n",
       "  </thead>\n",
       "  <tbody>\n",
       "    <tr>\n",
       "      <th>0</th>\n",
       "      <td>26201</td>\n",
       "      <td>1</td>\n",
       "      <td>Atletico de Bilbao</td>\n",
       "    </tr>\n",
       "    <tr>\n",
       "      <th>1</th>\n",
       "      <td>26202</td>\n",
       "      <td>1</td>\n",
       "      <td>Alaves</td>\n",
       "    </tr>\n",
       "    <tr>\n",
       "      <th>2</th>\n",
       "      <td>26203</td>\n",
       "      <td>1</td>\n",
       "      <td>Valencia</td>\n",
       "    </tr>\n",
       "    <tr>\n",
       "      <th>3</th>\n",
       "      <td>26204</td>\n",
       "      <td>1</td>\n",
       "      <td>Atletico de Madrid</td>\n",
       "    </tr>\n",
       "    <tr>\n",
       "      <th>4</th>\n",
       "      <td>26205</td>\n",
       "      <td>1</td>\n",
       "      <td>Cadiz</td>\n",
       "    </tr>\n",
       "  </tbody>\n",
       "</table>\n",
       "</div>"
      ],
      "text/plain": [
       "  Unnamed: 0  division           localTeam\n",
       "0      26201         1  Atletico de Bilbao\n",
       "1      26202         1              Alaves\n",
       "2      26203         1            Valencia\n",
       "3      26204         1  Atletico de Madrid\n",
       "4      26205         1               Cadiz"
      ]
     },
     "execution_count": 26,
     "metadata": {},
     "output_type": "execute_result"
    }
   ],
   "source": [
    "df = pd.read_csv(\"Teoria/data/laliga.csv\",\n",
    "                usecols = ['Unnamed: 0', 'division', 'localTeam'], #puede que solo queramos algunas columnas\n",
    "                dtype = {'Unnamed: 0': object, #A traves de un diccionario podemos cambiar de que tipo es cada elemento\n",
    "                         'division': np.int64,\n",
    "                         'localTeam': object})\n",
    "\n",
    "df.head()"
   ]
  },
  {
   "cell_type": "markdown",
   "metadata": {},
   "source": [
    "`to_csv()`\n"
   ]
  },
  {
   "cell_type": "markdown",
   "metadata": {},
   "source": [
    "Podemos crear un DataFrame y guardarlo como archivo csv."
   ]
  },
  {
   "cell_type": "code",
   "execution_count": 29,
   "metadata": {},
   "outputs": [],
   "source": [
    "poblacion = pd.Series({\"Madrid\": 6685471, \"Galicia\": 2698764,\n",
    "                       \"Murcia\": 1494442, \"Andalucia\": 8446561})\n",
    "\n",
    "superficie = pd.Series([8028, 29575, 11314, 87599],\n",
    "                       index = [\"Madrid\", \"Galicia\", \"Murcia\", \"Andalucia\"])\n",
    "\n",
    "df=pd.DataFrame({'Poblacion':poblacion,'Superficie':superficie})"
   ]
  },
  {
   "cell_type": "code",
   "execution_count": 30,
   "metadata": {},
   "outputs": [],
   "source": [
    "df.to_csv('Teoria/data/prueba_to.csv', sep=';')"
   ]
  },
  {
   "cell_type": "markdown",
   "metadata": {},
   "source": [
    "Leemos lo guardado:"
   ]
  },
  {
   "cell_type": "code",
   "execution_count": 33,
   "metadata": {},
   "outputs": [
    {
     "data": {
      "text/html": [
       "<div>\n",
       "<style scoped>\n",
       "    .dataframe tbody tr th:only-of-type {\n",
       "        vertical-align: middle;\n",
       "    }\n",
       "\n",
       "    .dataframe tbody tr th {\n",
       "        vertical-align: top;\n",
       "    }\n",
       "\n",
       "    .dataframe thead th {\n",
       "        text-align: right;\n",
       "    }\n",
       "</style>\n",
       "<table border=\"1\" class=\"dataframe\">\n",
       "  <thead>\n",
       "    <tr style=\"text-align: right;\">\n",
       "      <th></th>\n",
       "      <th>Poblacion</th>\n",
       "      <th>Superficie</th>\n",
       "    </tr>\n",
       "  </thead>\n",
       "  <tbody>\n",
       "    <tr>\n",
       "      <th>Madrid</th>\n",
       "      <td>6685471</td>\n",
       "      <td>8028</td>\n",
       "    </tr>\n",
       "    <tr>\n",
       "      <th>Galicia</th>\n",
       "      <td>2698764</td>\n",
       "      <td>29575</td>\n",
       "    </tr>\n",
       "    <tr>\n",
       "      <th>Murcia</th>\n",
       "      <td>1494442</td>\n",
       "      <td>11314</td>\n",
       "    </tr>\n",
       "    <tr>\n",
       "      <th>Andalucia</th>\n",
       "      <td>8446561</td>\n",
       "      <td>87599</td>\n",
       "    </tr>\n",
       "  </tbody>\n",
       "</table>\n",
       "</div>"
      ],
      "text/plain": [
       "           Poblacion  Superficie\n",
       "Madrid       6685471        8028\n",
       "Galicia      2698764       29575\n",
       "Murcia       1494442       11314\n",
       "Andalucia    8446561       87599"
      ]
     },
     "execution_count": 33,
     "metadata": {},
     "output_type": "execute_result"
    }
   ],
   "source": [
    "pd.read_csv('Teoria/data/prueba_to.csv', sep=';', index_col='Unnamed: 0')"
   ]
  },
  {
   "cell_type": "markdown",
   "metadata": {},
   "source": [
    "### 2. Excel\n",
    "\n",
    "`pd.read_excel()`\n",
    "\n",
    "- `io`: dónde está el archivo\n",
    "- `sheet_name`: el nombre de la hoja\n",
    "- `header`: dónde está la cabecera\n",
    "- `usecols`: indica el rango de columnas Excel en el que se encuentran. Por ejemplo: 'A:F'\n",
    "- `skiprows`: filas que deberia ignorar\n"
   ]
  },
  {
   "cell_type": "code",
   "execution_count": 37,
   "metadata": {},
   "outputs": [
    {
     "data": {
      "text/html": [
       "<div>\n",
       "<style scoped>\n",
       "    .dataframe tbody tr th:only-of-type {\n",
       "        vertical-align: middle;\n",
       "    }\n",
       "\n",
       "    .dataframe tbody tr th {\n",
       "        vertical-align: top;\n",
       "    }\n",
       "\n",
       "    .dataframe thead th {\n",
       "        text-align: right;\n",
       "    }\n",
       "</style>\n",
       "<table border=\"1\" class=\"dataframe\">\n",
       "  <thead>\n",
       "    <tr style=\"text-align: right;\">\n",
       "      <th></th>\n",
       "      <th>Unnamed: 0</th>\n",
       "      <th>Unnamed: 1</th>\n",
       "      <th>Unnamed: 2</th>\n",
       "      <th>Unnamed: 3</th>\n",
       "      <th>Unnamed: 4</th>\n",
       "      <th>Unnamed: 5</th>\n",
       "      <th>Unnamed: 6</th>\n",
       "      <th>Unnamed: 7</th>\n",
       "      <th>Unnamed: 8</th>\n",
       "      <th>Unnamed: 9</th>\n",
       "      <th>Unnamed: 10</th>\n",
       "    </tr>\n",
       "  </thead>\n",
       "  <tbody>\n",
       "    <tr>\n",
       "      <th>0</th>\n",
       "      <td>NaN</td>\n",
       "      <td>NaN</td>\n",
       "      <td>NaN</td>\n",
       "      <td>NaN</td>\n",
       "      <td>NaN</td>\n",
       "      <td>NaN</td>\n",
       "      <td>NaN</td>\n",
       "      <td>NaN</td>\n",
       "      <td>NaN</td>\n",
       "      <td>NaN</td>\n",
       "      <td>NaN</td>\n",
       "    </tr>\n",
       "    <tr>\n",
       "      <th>1</th>\n",
       "      <td>NaN</td>\n",
       "      <td>Column1</td>\n",
       "      <td>season</td>\n",
       "      <td>division</td>\n",
       "      <td>round</td>\n",
       "      <td>localTeam</td>\n",
       "      <td>visitorTeam</td>\n",
       "      <td>localGoals</td>\n",
       "      <td>visitorGoals</td>\n",
       "      <td>date</td>\n",
       "      <td>timestamp</td>\n",
       "    </tr>\n",
       "    <tr>\n",
       "      <th>2</th>\n",
       "      <td>NaN</td>\n",
       "      <td>26201</td>\n",
       "      <td>2005-06-01 00:00:00</td>\n",
       "      <td>1</td>\n",
       "      <td>1</td>\n",
       "      <td>Atletico de Bilbao</td>\n",
       "      <td>Real Sociedad</td>\n",
       "      <td>3</td>\n",
       "      <td>0</td>\n",
       "      <td>2005-08-27 00:00:00</td>\n",
       "      <td>1125093600</td>\n",
       "    </tr>\n",
       "    <tr>\n",
       "      <th>3</th>\n",
       "      <td>NaN</td>\n",
       "      <td>26202</td>\n",
       "      <td>2005-06-01 00:00:00</td>\n",
       "      <td>1</td>\n",
       "      <td>1</td>\n",
       "      <td>Alaves</td>\n",
       "      <td>Barcelona</td>\n",
       "      <td>0</td>\n",
       "      <td>0</td>\n",
       "      <td>2005-08-27 00:00:00</td>\n",
       "      <td>1125093600</td>\n",
       "    </tr>\n",
       "    <tr>\n",
       "      <th>4</th>\n",
       "      <td>NaN</td>\n",
       "      <td>26203</td>\n",
       "      <td>2005-06-01 00:00:00</td>\n",
       "      <td>1</td>\n",
       "      <td>1</td>\n",
       "      <td>Valencia</td>\n",
       "      <td>Betis</td>\n",
       "      <td>1</td>\n",
       "      <td>0</td>\n",
       "      <td>2005-08-27 00:00:00</td>\n",
       "      <td>1125093600</td>\n",
       "    </tr>\n",
       "  </tbody>\n",
       "</table>\n",
       "</div>"
      ],
      "text/plain": [
       "   Unnamed: 0 Unnamed: 1           Unnamed: 2 Unnamed: 3 Unnamed: 4  \\\n",
       "0         NaN        NaN                  NaN        NaN        NaN   \n",
       "1         NaN    Column1               season   division      round   \n",
       "2         NaN      26201  2005-06-01 00:00:00          1          1   \n",
       "3         NaN      26202  2005-06-01 00:00:00          1          1   \n",
       "4         NaN      26203  2005-06-01 00:00:00          1          1   \n",
       "\n",
       "           Unnamed: 5     Unnamed: 6  Unnamed: 7    Unnamed: 8  \\\n",
       "0                 NaN            NaN         NaN           NaN   \n",
       "1           localTeam    visitorTeam  localGoals  visitorGoals   \n",
       "2  Atletico de Bilbao  Real Sociedad           3             0   \n",
       "3              Alaves      Barcelona           0             0   \n",
       "4            Valencia          Betis           1             0   \n",
       "\n",
       "            Unnamed: 9 Unnamed: 10  \n",
       "0                  NaN         NaN  \n",
       "1                 date   timestamp  \n",
       "2  2005-08-27 00:00:00  1125093600  \n",
       "3  2005-08-27 00:00:00  1125093600  \n",
       "4  2005-08-27 00:00:00  1125093600  "
      ]
     },
     "execution_count": 37,
     "metadata": {},
     "output_type": "execute_result"
    }
   ],
   "source": [
    "pd.read_excel('Teoria/data/laliga.xlsx', sheet_name='Hoja3').head(5)"
   ]
  },
  {
   "cell_type": "code",
   "execution_count": 38,
   "metadata": {},
   "outputs": [
    {
     "data": {
      "text/html": [
       "<div>\n",
       "<style scoped>\n",
       "    .dataframe tbody tr th:only-of-type {\n",
       "        vertical-align: middle;\n",
       "    }\n",
       "\n",
       "    .dataframe tbody tr th {\n",
       "        vertical-align: top;\n",
       "    }\n",
       "\n",
       "    .dataframe thead th {\n",
       "        text-align: right;\n",
       "    }\n",
       "</style>\n",
       "<table border=\"1\" class=\"dataframe\">\n",
       "  <thead>\n",
       "    <tr style=\"text-align: right;\">\n",
       "      <th></th>\n",
       "      <th>Column1</th>\n",
       "      <th>season</th>\n",
       "      <th>division</th>\n",
       "      <th>round</th>\n",
       "      <th>localTeam</th>\n",
       "      <th>visitorTeam</th>\n",
       "      <th>localGoals</th>\n",
       "      <th>visitorGoals</th>\n",
       "      <th>date</th>\n",
       "      <th>timestamp</th>\n",
       "    </tr>\n",
       "  </thead>\n",
       "  <tbody>\n",
       "    <tr>\n",
       "      <th>0</th>\n",
       "      <td>26201</td>\n",
       "      <td>2005-06-01</td>\n",
       "      <td>1</td>\n",
       "      <td>1</td>\n",
       "      <td>Atletico de Bilbao</td>\n",
       "      <td>Real Sociedad</td>\n",
       "      <td>3</td>\n",
       "      <td>0</td>\n",
       "      <td>2005-08-27</td>\n",
       "      <td>1125093600</td>\n",
       "    </tr>\n",
       "    <tr>\n",
       "      <th>1</th>\n",
       "      <td>26202</td>\n",
       "      <td>2005-06-01</td>\n",
       "      <td>1</td>\n",
       "      <td>1</td>\n",
       "      <td>Alaves</td>\n",
       "      <td>Barcelona</td>\n",
       "      <td>0</td>\n",
       "      <td>0</td>\n",
       "      <td>2005-08-27</td>\n",
       "      <td>1125093600</td>\n",
       "    </tr>\n",
       "    <tr>\n",
       "      <th>2</th>\n",
       "      <td>26203</td>\n",
       "      <td>2005-06-01</td>\n",
       "      <td>1</td>\n",
       "      <td>1</td>\n",
       "      <td>Valencia</td>\n",
       "      <td>Betis</td>\n",
       "      <td>1</td>\n",
       "      <td>0</td>\n",
       "      <td>2005-08-27</td>\n",
       "      <td>1125093600</td>\n",
       "    </tr>\n",
       "    <tr>\n",
       "      <th>3</th>\n",
       "      <td>26204</td>\n",
       "      <td>2005-06-01</td>\n",
       "      <td>1</td>\n",
       "      <td>1</td>\n",
       "      <td>Atletico de Madrid</td>\n",
       "      <td>Zaragoza</td>\n",
       "      <td>0</td>\n",
       "      <td>0</td>\n",
       "      <td>2005-08-28</td>\n",
       "      <td>1125180000</td>\n",
       "    </tr>\n",
       "    <tr>\n",
       "      <th>4</th>\n",
       "      <td>26205</td>\n",
       "      <td>2005-06-01</td>\n",
       "      <td>1</td>\n",
       "      <td>1</td>\n",
       "      <td>Cadiz</td>\n",
       "      <td>Real Madrid</td>\n",
       "      <td>1</td>\n",
       "      <td>2</td>\n",
       "      <td>2005-08-28</td>\n",
       "      <td>1125180000</td>\n",
       "    </tr>\n",
       "  </tbody>\n",
       "</table>\n",
       "</div>"
      ],
      "text/plain": [
       "   Column1     season  division  round           localTeam    visitorTeam  \\\n",
       "0    26201 2005-06-01         1      1  Atletico de Bilbao  Real Sociedad   \n",
       "1    26202 2005-06-01         1      1              Alaves      Barcelona   \n",
       "2    26203 2005-06-01         1      1            Valencia          Betis   \n",
       "3    26204 2005-06-01         1      1  Atletico de Madrid       Zaragoza   \n",
       "4    26205 2005-06-01         1      1               Cadiz    Real Madrid   \n",
       "\n",
       "   localGoals  visitorGoals       date   timestamp  \n",
       "0           3             0 2005-08-27  1125093600  \n",
       "1           0             0 2005-08-27  1125093600  \n",
       "2           1             0 2005-08-27  1125093600  \n",
       "3           0             0 2005-08-28  1125180000  \n",
       "4           1             2 2005-08-28  1125180000  "
      ]
     },
     "execution_count": 38,
     "metadata": {},
     "output_type": "execute_result"
    }
   ],
   "source": [
    "#Observamos que los datos no empiezan en el inicio de la tabla. Especificar:\n",
    "pd.read_excel('Teoria/data/laliga.xlsx', sheet_name='Hoja3', header=2, usecols='B:K').head()"
   ]
  },
  {
   "cell_type": "code",
   "execution_count": null,
   "metadata": {},
   "outputs": [],
   "source": [
    "#dentro de read_excell(), nrows=numero de lineas que queramos que nos lea"
   ]
  },
  {
   "cell_type": "markdown",
   "metadata": {},
   "source": [
    "`to_excel()`\n"
   ]
  },
  {
   "cell_type": "code",
   "execution_count": 39,
   "metadata": {},
   "outputs": [],
   "source": [
    "poblacion = pd.Series({\"Madrid\": 6685471, \"Galicia\": 2698764,\n",
    "                       \"Murcia\": 1494442, \"Andalucia\": 8446561})\n",
    "\n",
    "superficie = pd.Series([8028, 29575, 11314, 87599],\n",
    "                       index = [\"Madrid\", \"Galicia\", \"Murcia\", \"Andalucia\"])\n",
    "\n",
    "df=pd.DataFrame({'Poblacion':poblacion,'Superficie':superficie})"
   ]
  },
  {
   "cell_type": "code",
   "execution_count": 40,
   "metadata": {},
   "outputs": [],
   "source": [
    "df.to_excel('Teoria/data/prueba_exc.xlsx')"
   ]
  },
  {
   "cell_type": "markdown",
   "metadata": {},
   "source": [
    "### 4. JSON\n"
   ]
  },
  {
   "cell_type": "markdown",
   "metadata": {},
   "source": [
    "### 5. ZIP\n"
   ]
  },
  {
   "cell_type": "code",
   "execution_count": 42,
   "metadata": {},
   "outputs": [],
   "source": [
    "with zipfile.ZipFile('Teoria/data/laligaZIP.zip') as zip_ref: \n",
    "    zip_ref.extractall('data') #Extrae el contenido del archivo y lo guarda donde le indicamos ('destino')"
   ]
  },
  {
   "cell_type": "code",
   "execution_count": 43,
   "metadata": {},
   "outputs": [],
   "source": [
    "with zipfile.ZipFile('Teoria/data/laligaZIP.zip') as zip_ref:\n",
    "    zip_ref.extract('laligaZIP.csv','data/extracted_files')"
   ]
  },
  {
   "cell_type": "markdown",
   "metadata": {},
   "source": [
    "### 6. Pickle"
   ]
  },
  {
   "cell_type": "markdown",
   "metadata": {},
   "source": [
    "Nos permite guardar objetos python y recuperarlos mas adelante."
   ]
  },
  {
   "cell_type": "code",
   "execution_count": null,
   "metadata": {},
   "outputs": [],
   "source": []
  }
 ],
 "metadata": {
  "kernelspec": {
   "display_name": "Python 3",
   "language": "python",
   "name": "python3"
  },
  "language_info": {
   "codemirror_mode": {
    "name": "ipython",
    "version": 3
   },
   "file_extension": ".py",
   "mimetype": "text/x-python",
   "name": "python",
   "nbconvert_exporter": "python",
   "pygments_lexer": "ipython3",
   "version": "3.11.5"
  }
 },
 "nbformat": 4,
 "nbformat_minor": 2
}
