{
 "cells": [
  {
   "cell_type": "markdown",
   "metadata": {},
   "source": [
    "![imagen](./img/ejercicios.png)\n",
    "\n",
    "# Ejercicios Clases y Objetos"
   ]
  },
  {
   "attachments": {},
   "cell_type": "markdown",
   "metadata": {},
   "source": [
    "## Ejercicio 1\n",
    "Somos una empresa que tiene varias tiendas de electrodomesticos. Necesitamos un programa para manejar las tiendas, ver las ventas que han tenido, cuántos empleados hay, etc... Para ello vamos a modelizar la tienda en una clase, que tendrá las siguientes características:\n",
    "* Nombre clase: \"Tienda\"\n",
    "* Atributos comunes:\n",
    "    * Tipo: \"Electrodomésticos\"\n",
    "    * Abierta: True\n",
    "* Atributos propios de cada tienda:\n",
    "    * Nombre - String\n",
    "    * Dirección - String\n",
    "    * Número de empleados - int\n",
    "    * Ventas ultimos 3 meses - Lista de 3 numeros\n",
    "* Método para calcular las ventas de todos los meses, que devuelva un numero con todas las ventas.\n",
    "* Método que calcula la media de ventas de los últimos meses, por empleado\n",
    "* Método que devuelve en un string el nombre de la tienda, junto con su dirección.\n",
    "* Método que obtiene las ventas del último mes.\n",
    "* Método para dar una proyección de las ventas en caso de haber invertido X dinero en marketing en esa tienda. Siendo X el parámetro de entrada. Si X es menor de 1000, las ventas de los ultimos 3 meses hubiesen sido de (1.2 x ventas), si es mayor o igual de 1000, las ventas hubiesen sido de (1.5 x venta). El método reescribe el atributo de ventas en los últimos 3 meses, y además devuelve las ventas con el aumento."
   ]
  },
  {
   "cell_type": "code",
   "execution_count": 3,
   "metadata": {},
   "outputs": [],
   "source": [
    "class Tienda:\n",
    "\n",
    "    '''\n",
    "    clase para gestionar las tiendas de una empresa\n",
    "\n",
    "    Atributos comunes:\n",
    "       tipo(str):Tipologia de la tienda\n",
    "       abierto(bool): Estado de apertura\n",
    "    '''\n",
    "\n",
    "    #Atributos comunes\n",
    "    Tipo= 'Electrodomesticos'\n",
    "    Abierta= True\n",
    "\n",
    "    #Atributos variables (de cada tienda)\n",
    "    def __init__(self,nombre:str,direccion:str,empleados:int,ventas_3m:list):\n",
    "\n",
    "        '''\n",
    "        Atributos particulares de una tienda\n",
    "        '''\n",
    "\n",
    "        self.nombre=nombre\n",
    "        self.direccion=direccion\n",
    "        self.empleados=empleados\n",
    "        self.ventas_3m=ventas_3m\n",
    "\n",
    "    #Metodos\n",
    "    def total_ventas(self):\n",
    "        '''\n",
    "        Calcula las ventas totales\n",
    "\n",
    "        Returns:\n",
    "            float\n",
    "        '''\n",
    "        return sum(self.ventas_3m)\n",
    "    \n",
    "    def media_ventas(self):\n",
    "        '''\n",
    "        Calcula las ventas por empleado\n",
    "\n",
    "        Returns:\n",
    "            Float\n",
    "        '''\n",
    "        #return sum(self.ventas_3m)/len(self.ventas_3m) NO esto daria la media de ventas no de empleados\n",
    "        return self.total_ventas()/self.empleados\n",
    "    \n",
    "    def nombre_direc(self):\n",
    "        '''\n",
    "        Devuelve el nombre y la direccion de la tienda\n",
    "\n",
    "        Returns:\n",
    "            str\n",
    "        '''\n",
    "        return self.nombre+' '+self.direccion \n",
    "    \n",
    "    def ventas_ultmes(self):\n",
    "        return float(self.ventas_3m[-1])\n",
    "    \n",
    "    def proyeccion(self,x:float):\n",
    "        if x<1000:\n",
    "            self.ventas_3m=[x*1.2 for x in self.ventas_3m]\n",
    "        elif x>=1000:\n",
    "            self.ventas_3m=[x*1.5 for x in self.ventas_3m]\n",
    "        return self.ventas_3m\n",
    "    "
   ]
  },
  {
   "cell_type": "code",
   "execution_count": 4,
   "metadata": {},
   "outputs": [
    {
     "name": "stdout",
     "output_type": "stream",
     "text": [
      "460\n",
      "76.66666666666667\n",
      "Media mark Avenida lehendakari aguirre\n",
      "160.0\n",
      "[150.0, 300.0, 240.0]\n"
     ]
    }
   ],
   "source": [
    "prueba=Tienda('Media mark','Avenida lehendakari aguirre',6,[100,200,160])\n",
    "print(prueba.total_ventas())\n",
    "print(prueba.media_ventas())\n",
    "print(prueba.nombre_direc())\n",
    "print(prueba.ventas_ultmes())\n",
    "print(prueba.proyeccion(1500))"
   ]
  },
  {
   "cell_type": "code",
   "execution_count": 10,
   "metadata": {},
   "outputs": [
    {
     "name": "stdout",
     "output_type": "stream",
     "text": [
      "690.0\n"
     ]
    }
   ],
   "source": [
    "print(prueba.total_ventas())"
   ]
  },
  {
   "attachments": {},
   "cell_type": "markdown",
   "metadata": {},
   "source": [
    "Se pide:\n",
    "1. Implementar la clase \"Tienda\"\n",
    "2. Crear tres tiendas con datos inventados\n",
    "3. Comprueba en al menos una de ellas, todo lo implementado en la clase tienda (sus atributos, media de ventas, ventas/empleado...)\n",
    "3. Calcular las ventas del último mes de todas las tiendas. Para ello usa el bucle `for`\n",
    "4. Imprime por pantalla los nombres de las tiendas cuya dirección lleve el string \"Avenida\"\n",
    "5. Seguro que ya has hecho este apartado... Documenta la clase :)"
   ]
  },
  {
   "cell_type": "code",
   "execution_count": 9,
   "metadata": {},
   "outputs": [
    {
     "name": "stdout",
     "output_type": "stream",
     "text": [
      "160.0\n",
      "60.0\n",
      "60.0\n"
     ]
    }
   ],
   "source": [
    "tienda_1=Tienda('Media mark','Abandoibarra',6,[100,200,160])\n",
    "tienda_2=Tienda('Media','Avenida lehendakari aguirre',5,[50,100,60])\n",
    "tienda_3=Tienda('Elektrodomesticos_Bilbao','Moyua',7,[340,100,60])\n",
    "\n",
    "tiendas=[tienda_1,tienda_2,tienda_3]\n",
    "for tienda in tiendas:\n",
    "    print(tienda.ventas_ultmes())\n"
   ]
  },
  {
   "attachments": {},
   "cell_type": "markdown",
   "metadata": {},
   "source": [
    "## Ejercicio 2\n",
    "En este ejercicio vamos a implementar una clase *Perro* en Python. La clase tiene las siguientes características:\n",
    "* Cosas que sabemos seguro que tiene un perro\n",
    "    * Tiene 4 patas\n",
    "    * 2 orejas\n",
    "    * 2 ojos\n",
    "    * Una velocidad de 0. Por defecto, el perro está parado\n",
    "* Cuando se inicialice:\n",
    "    * El perro será de una determinada raza\n",
    "    * Por defecto tendrá pelo \"Marrón\", a no ser que se diga lo contrario.\n",
    "    * Por defecto no tendrá dueño, a no ser que se diga lo contrario.\n",
    "    \n",
    "* Dispondrá también de un método llamado andar, que tiene un argumento de entrada (aumento_velocidad). Este valor se le sumará a la velocidad que ya llevaba el perro.\n",
    "* Necesita otro método (parar), donde pondremos la velocidad a 0.\n",
    "* Otro método llamado \"ladrar\", que tendrá un argumento de entrada, y la salida será el siguiente string: \"GUAU!\" + el argumento de entrada."
   ]
  },
  {
   "cell_type": "code",
   "execution_count": 11,
   "metadata": {},
   "outputs": [],
   "source": [
    "class perro:\n",
    "    patas=4\n",
    "    orejas=2\n",
    "    ojos=2\n",
    "    velocidad=0\n",
    "\n",
    "    def __init__(self,raza,pelo='marron',dueño:bool=False):\n",
    "        self.raza=raza\n",
    "        self.pelo=pelo \n",
    "        self.dueño=dueño\n",
    "    \n",
    "    def andar(self,aumento_velocidad):\n",
    "        self.velocidad=self.velocidad+aumento_velocidad #Cambiamos el atributo comun\n",
    "        return 'El perro anda a una velocidad de {}'.format(self.velocidad)\n",
    "\n",
    "    def parar(self):\n",
    "        self.velocidad=0\n",
    "        return 'El perro esta parado'\n",
    "        \n"
   ]
  },
  {
   "cell_type": "code",
   "execution_count": 12,
   "metadata": {},
   "outputs": [
    {
     "name": "stdout",
     "output_type": "stream",
     "text": [
      "False\n"
     ]
    }
   ],
   "source": [
    "perro_1=perro('Golden retriever')\n",
    "print(perro_1.dueño)"
   ]
  },
  {
   "attachments": {},
   "cell_type": "markdown",
   "metadata": {},
   "source": [
    "Se pide:\n",
    "* Implementa la clase *Perro*\n",
    "* Crea un objeto de tipo *Perro*, sin dueño\n",
    "* Comprueba que están bien todos sus atributos\n",
    "* Prueba que ande, y comprueba su velocidad\n",
    "* Páralo\n",
    "* Documenta la clase *Perro*"
   ]
  },
  {
   "cell_type": "code",
   "execution_count": null,
   "metadata": {},
   "outputs": [],
   "source": [
    "#ACABAR ESTE EJERCICIO (HECHO EN LA SESION ONLINE)"
   ]
  },
  {
   "cell_type": "code",
   "execution_count": null,
   "metadata": {},
   "outputs": [],
   "source": []
  },
  {
   "cell_type": "code",
   "execution_count": null,
   "metadata": {},
   "outputs": [],
   "source": []
  },
  {
   "cell_type": "code",
   "execution_count": null,
   "metadata": {},
   "outputs": [],
   "source": []
  },
  {
   "cell_type": "code",
   "execution_count": null,
   "metadata": {},
   "outputs": [],
   "source": []
  }
 ],
 "metadata": {
  "kernelspec": {
   "display_name": "Python 3",
   "language": "python",
   "name": "python3"
  },
  "language_info": {
   "codemirror_mode": {
    "name": "ipython",
    "version": 3
   },
   "file_extension": ".py",
   "mimetype": "text/x-python",
   "name": "python",
   "nbconvert_exporter": "python",
   "pygments_lexer": "ipython3",
   "version": "3.11.5"
  },
  "vscode": {
   "interpreter": {
    "hash": "abc9fc88bc0e5c548c5da0f33af674c000293e7a58ee42428ace4cfa52bc0e99"
   }
  }
 },
 "nbformat": 4,
 "nbformat_minor": 4
}
