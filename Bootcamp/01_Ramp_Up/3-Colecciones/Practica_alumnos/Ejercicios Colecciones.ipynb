{
 "cells": [
  {
   "cell_type": "markdown",
   "metadata": {},
   "source": [
    "![imagen](./img/ejercicios.png)"
   ]
  },
  {
   "cell_type": "markdown",
   "metadata": {},
   "source": [
    "## Ejercicio 1\n",
    "Dada la siguiente lista:\n",
    "> ```ejer_1 = [1,2,3,4,5]```\n",
    "\n",
    "Inviértela para que quede de la siguiente manera\n",
    "> ```ejer_1 = [5,4,3,2,1]```"
   ]
  },
  {
   "cell_type": "code",
   "execution_count": 5,
   "metadata": {},
   "outputs": [
    {
     "name": "stdout",
     "output_type": "stream",
     "text": [
      "[5, 4, 3, 2, 1]\n"
     ]
    }
   ],
   "source": [
    "ejer_1=[1,2,3,4,5]\n",
    "ejer_1.sort(reverse=True) #No devuelve nada pero ordena y modifica la lista originial\n",
    "print(ejer_1)"
   ]
  },
  {
   "cell_type": "code",
   "execution_count": 9,
   "metadata": {},
   "outputs": [
    {
     "data": {
      "text/plain": [
       "[5, 4, 3, 2, 1]"
      ]
     },
     "execution_count": 9,
     "metadata": {},
     "output_type": "execute_result"
    }
   ],
   "source": [
    "ejer_1=[1,2,3,4,5]\n",
    "sorted(ejer_1, reverse=True) #Devuelve la lista que le indicamos ordenada pero no cambia la original\n",
    "#print(ejer_1)"
   ]
  },
  {
   "cell_type": "code",
   "execution_count": 4,
   "metadata": {},
   "outputs": [
    {
     "name": "stdout",
     "output_type": "stream",
     "text": [
      "[5, 4, 3, 2, 1]\n"
     ]
    }
   ],
   "source": [
    "ejer_1=[1,2,3,4,5]\n",
    "ejer_1_sol=list(reversed(ejer_1))\n",
    "print(ejer_1_sol)"
   ]
  },
  {
   "cell_type": "markdown",
   "metadata": {},
   "source": [
    "## Ejercicio 2\n",
    "Eleva todos los elementos de la lista al cuadrado\n",
    "> ```ejer_2 = [1,2,3,4,5]```"
   ]
  },
  {
   "cell_type": "code",
   "execution_count": 10,
   "metadata": {},
   "outputs": [
    {
     "name": "stdout",
     "output_type": "stream",
     "text": [
      "[1, 4, 9, 16, 25]\n"
     ]
    }
   ],
   "source": [
    "ejer_2=[1,2,3,4,5]\n",
    "ejer_2_a=[]\n",
    "for i in ejer_2:\n",
    "    ejer_2_a.append(i**2)\n",
    "\n",
    "print(ejer_2_a)"
   ]
  },
  {
   "cell_type": "code",
   "execution_count": 9,
   "metadata": {},
   "outputs": [
    {
     "name": "stdout",
     "output_type": "stream",
     "text": [
      "[1, 4, 9, 16, 25]\n"
     ]
    }
   ],
   "source": [
    "ejer_2=[1,2,3,4,5]\n",
    "ejer_2_b=[x**2 for x in ejer_2]\n",
    "print(ejer_2_b)"
   ]
  },
  {
   "cell_type": "code",
   "execution_count": 8,
   "metadata": {},
   "outputs": [
    {
     "name": "stdout",
     "output_type": "stream",
     "text": [
      "1\n",
      "4\n",
      "9\n",
      "16\n",
      "25\n"
     ]
    }
   ],
   "source": [
    "ejer_2=[1,2,3,4,5]\n",
    "for i in ejer_2:\n",
    "    print(i**2)"
   ]
  },
  {
   "cell_type": "markdown",
   "metadata": {},
   "source": [
    "## Ejercicio 3\n",
    "Crea una lista nueva con todas las combinaciones de las siguientes dos listas:\n",
    "> ```ejer_3_1 = [\"Hola\", \"amigo\"]```\n",
    ">\n",
    "> ```ejer_3_2 = [\"Que\", \"tal\"]```\n",
    "\n",
    "Obten el siguiente output:\n",
    "\n",
    "['Hola Que', 'Hola tal', 'amigo Que', 'amigo tal']"
   ]
  },
  {
   "cell_type": "code",
   "execution_count": 20,
   "metadata": {},
   "outputs": [
    {
     "name": "stdout",
     "output_type": "stream",
     "text": [
      "['Hola Que', 'Hola tal', 'amigo Que', 'amigo tal']\n"
     ]
    }
   ],
   "source": [
    "ejer_3_1=['Hola', 'amigo']\n",
    "ejer_3_2=['Que','tal']\n",
    "ejer_3=[]\n",
    "\n",
    "for x in ejer_3_1:\n",
    "    for i in ejer_3_2:\n",
    "        ejer_3.append(x+' '+i)\n",
    "\n",
    "print(ejer_3)"
   ]
  },
  {
   "cell_type": "code",
   "execution_count": 17,
   "metadata": {},
   "outputs": [
    {
     "name": "stdout",
     "output_type": "stream",
     "text": [
      "['Hola Que', 'Hola tal', 'amigo Que', 'amigo tal']\n"
     ]
    }
   ],
   "source": [
    "ejer_3_1=['Hola', 'amigo']\n",
    "ejer_3_2=['Que','tal']\n",
    "ejer3 = []\n",
    "\n",
    "for x in ejer_3_1:\n",
    "    ejer_3_temp =[x+' '+y for y in ejer_3_2] #DUDA\n",
    "    ejer3.extend(ejer_3_temp)\n",
    "    \n",
    "print(ejer3)"
   ]
  },
  {
   "cell_type": "code",
   "execution_count": 19,
   "metadata": {},
   "outputs": [
    {
     "name": "stdout",
     "output_type": "stream",
     "text": [
      "['Hola Que', 'Hola tal', 'amigo Que', 'amigo tal']\n"
     ]
    }
   ],
   "source": [
    "ejer_3_1=['Hola', 'amigo']\n",
    "ejer_3_2=['Que','tal']\n",
    "\n",
    "ejer_3=[x+' '+y for x in ejer_3_1 for y in ejer_3_2]\n",
    "print(ejer_3)"
   ]
  },
  {
   "cell_type": "markdown",
   "metadata": {},
   "source": [
    "## Ejercicio 4\n",
    "Dada la siguiente lista, encuentra el índice del valor 45 y sustitúyelo por el 0\n",
    "> ```ejer_4 = [20, 47, 19, 29, 45, 67, 78, 90]```"
   ]
  },
  {
   "cell_type": "code",
   "execution_count": 20,
   "metadata": {},
   "outputs": [
    {
     "name": "stdout",
     "output_type": "stream",
     "text": [
      "[20, 47, 19, 29, 0, 67, 78, 90]\n"
     ]
    }
   ],
   "source": [
    "ejer_4=[20,47,19,29,45,67,78,90]\n",
    "i=ejer_4.index(45)\n",
    "ejer_4[i]=0\n",
    "\n",
    "print(ejer_4)"
   ]
  },
  {
   "cell_type": "code",
   "execution_count": 21,
   "metadata": {},
   "outputs": [
    {
     "name": "stdout",
     "output_type": "stream",
     "text": [
      "[20, 47, 19, 29, 0, 67, 78, 90]\n"
     ]
    }
   ],
   "source": [
    "ejer_4=[20,47,19,29,45,67,78,90]\n",
    "ejer_4[ejer_4.index(45)]=0\n",
    "print(ejer_4)"
   ]
  },
  {
   "cell_type": "markdown",
   "metadata": {},
   "source": [
    "## Ejercicio 5\n",
    "Dada la siguiente lista, elimina todos los valores iguales a 3\n",
    "> ```ejer_5 = [3, 20, 3, 47, 19, 3, 29, 45, 67, 78, 90, 3, 3]```\n",
    "\n",
    "TIP: No intentes eliminar elementos sobre la lista que estás iterando. Haz una copia con `ejer_5.copy()`."
   ]
  },
  {
   "cell_type": "code",
   "execution_count": 3,
   "metadata": {},
   "outputs": [
    {
     "name": "stdout",
     "output_type": "stream",
     "text": [
      "[20, 47, 19, 29, 45, 67, 78, 90]\n"
     ]
    }
   ],
   "source": [
    "ejer_5=[3, 20, 3, 47, 19, 3, 29, 45, 67, 78, 90, 3, 3]\n",
    "ejer_5_sol=[x for x in ejer_5 if x!=3]\n",
    "print(ejer_5_sol)"
   ]
  },
  {
   "cell_type": "code",
   "execution_count": null,
   "metadata": {},
   "outputs": [],
   "source": [
    "#Otra opccion \n",
    "ejer_5=[3, 20, 3, 47, 19, 3, 29, 45, 67, 78, 90, 3, 3]\n",
    "ejer_5.copy()\n",
    "\n",
    "for i in ejer_5.copy(): #Recorremos la copia\n",
    "    if i==3:\n",
    "        ejer_5.remove(i) #Borramos en la lista original. \n",
    "\n",
    "print(ejer_5)\n",
    "\n",
    "#Tenemos que recorrer la copia y borrar la lista original. Si recorrieramos la lista original, habria saltos.\n",
    "#Ya que al eliminar un elemento la longitud de la lista se modifica\n",
    "#Otra opcion es trabajar con INDICES NEGATIVOS\n",
    "\n"
   ]
  },
  {
   "cell_type": "code",
   "execution_count": 54,
   "metadata": {},
   "outputs": [
    {
     "name": "stdout",
     "output_type": "stream",
     "text": [
      "[20, 47, 19, 29, 45, 67, 78, 90]\n"
     ]
    }
   ],
   "source": [
    "#CON INDICES NEGATIVOS CUIDADOOO\n",
    "ejer_5=[3, 20, 3, 47, 19, 3, 29, 45, 67, 78, 90, 3, 3]\n",
    "\n",
    "for i in range(-len(ejer_5),0,1):\n",
    "    if ejer_5[i]==3:\n",
    "        ejer_5.pop(i) #MIRAR DIFERENCIA DE POP Y REMOVE\n",
    "\n",
    "print(ejer_5)\n"
   ]
  },
  {
   "cell_type": "code",
   "execution_count": null,
   "metadata": {},
   "outputs": [],
   "source": [
    "#OTRA OPCION USANDO WHILE: MIRAR EN LA GRABACION DEL DIA LUNES 9 DE OCTUBRE\n",
    "ejer_5=[3, 20, 3, 47, 19, 3, 29, 45, 67, 78, 90, 3, 3]\n",
    "\n",
    "i=1\n",
    "while i!= \n",
    "  "
   ]
  },
  {
   "cell_type": "markdown",
   "metadata": {},
   "source": [
    "## Ejercicio 6\n",
    "1. Crea una tupla con 3 elementos\n",
    "2. Crea otra tupla con un elemento y comprueba su tipo\n",
    "3. Crea una tupla con elementos de diferentes tipos\n",
    "4. Imprime por pantalla el primer y ultimo elemento de la tupla del apartado 3. Usa `len` para el ultimo\n",
    "5. Añade un elemento a la tupla del apartado 3.\n",
    "6. Eliminar un elemento de la tupla del apartado 5, que se encuentre más o menos en la mitad.\n",
    "7. Convierte la tupla del apartado 5 en una lista"
   ]
  },
  {
   "cell_type": "code",
   "execution_count": 4,
   "metadata": {},
   "outputs": [
    {
     "name": "stdout",
     "output_type": "stream",
     "text": [
      "<class 'tuple'>\n",
      "(2.8, ['ABC', 'juan'], True)\n",
      "2.8\n",
      "True\n",
      "(2.8, ['ABC', 'juan'], True, 9)\n",
      "(2.8, ['ABC', 'juan'], True, 'Hola')\n",
      "(2.8, ['ABC', 'juan'], 9)\n",
      "(2.8, ['ABC', 'juan'], 9)\n",
      "(2.8, ['ABC', 'juan'], True, 9)\n"
     ]
    }
   ],
   "source": [
    "#1\n",
    "ejer_6_1=(1,'Hola',4.6) \n",
    "\n",
    "#2\n",
    "ejer_6_2=(2,) \n",
    "print(type(ejer_6_2)) \n",
    "\n",
    "#3\n",
    "ejer_6_3=(2.8,['ABC','juan'],True) \n",
    "print(ejer_6_3)\n",
    "\n",
    "#4\n",
    "print(ejer_6_3[0])\n",
    "print(ejer_6_3[len(ejer_6_3)-1])\n",
    "\n",
    "#5\n",
    "lista=list(ejer_6_3)\n",
    "lista.append(9)\n",
    "ejer_6_5=tuple(lista)\n",
    "print(ejer_6_5)\n",
    "\n",
    "#Otra opcion y mucho mas SENCILLO. Las tuplas se pueden sumar entre ellas.\n",
    "ejer_6_5_a=ejer_6_3+('Hola',)\n",
    "print(ejer_6_5_a)\n",
    "\n",
    "#6. Eliminar un elemento de la mitad de la tupla del apartado 5\n",
    "lista_6=list(ejer_6_5)\n",
    "lista_6.pop(len(lista_6)//2) #MIRAR ESTO ME DA ERROR voy aki\n",
    "ejer_6_6=tuple(lista_6)\n",
    "print(ejer_6_6)\n",
    "\n",
    "#Otra menra MEJOR\n",
    "indice=(len(ejer_6_5)//2)\n",
    "tup_3=list(ejer_6_5)\n",
    "tup_3.pop(indice)\n",
    "tup_3=tuple(ejer_6_6)\n",
    "print(tup_3)\n",
    "\n",
    "#7\n",
    "ejer_6_7=tuple(ejer_6_5)\n",
    "print(ejer_6_7)"
   ]
  },
  {
   "cell_type": "markdown",
   "metadata": {},
   "source": [
    "## Ejercicio 7\n",
    "Concatena todos los elementos de la tupla en un unico string. Para ello utiliza el metodo `.join()` de los Strings\n",
    "> ```ejer_7 = (\"cien\", \"cañones\", \"por\", \"banda\")```\n",
    "\n",
    "Resultado: `cien cañones por banda`"
   ]
  },
  {
   "cell_type": "code",
   "execution_count": 10,
   "metadata": {},
   "outputs": [
    {
     "name": "stdout",
     "output_type": "stream",
     "text": [
      "cien cañones por banda\n"
     ]
    }
   ],
   "source": [
    "ejer_7=('cien','cañones','por','banda')\n",
    "str_7=' '.join(ejer_7) #Añade un espacio entre los elementos del ejer_7\n",
    "#str_7=','.join(ejer_7) #Añadiria una coma entre cada elemento\n",
    "print(str_7)"
   ]
  },
  {
   "cell_type": "markdown",
   "metadata": {},
   "source": [
    "## Ejercicio 8\n",
    "Obten el tercer elemento de la siguiente tupla, y el tercero empezando por la cola\n",
    "> ```ejer_8 = (3, 20, 3, 47, 19, 3, 29, 45, 67, 78, 90, 3, 3)```"
   ]
  },
  {
   "cell_type": "code",
   "execution_count": 21,
   "metadata": {},
   "outputs": [
    {
     "name": "stdout",
     "output_type": "stream",
     "text": [
      "Tercer elemento de la tupla:  3\n",
      "Tercer elemento de la tupla empezando por la cola:  90\n"
     ]
    }
   ],
   "source": [
    "ejer_8=(3, 20, 3, 47, 19, 3, 29, 45, 67, 78, 90, 3, 3)\n",
    "lista_8=list(ejer_8)\n",
    "print('Tercer elemento de la tupla: ',lista_8[2])\n",
    "print('Tercer elemento de la tupla empezando por la cola: ',lista_8[-3])"
   ]
  },
  {
   "cell_type": "markdown",
   "metadata": {},
   "source": [
    "## Ejercicio 9\n",
    "1. ¿Cuántas veces se repite el 3 en la siguiente tupla?\n",
    "2. Crea una tupla nueva con los elementos desde la posicion 5 a la 10.\n",
    "3. ¿Cuántos elementos tiene la tupla `ejer_9`?\n",
    "4. Comprueba si el numero 60 esta en la tupla\n",
    "> ```ejer_9 = (3, 20, 3, 47, 19, 3, 29, 45, 67, 78, 90, 3, 3, 5, 2, 4, 7, 9, 4, 2, 4, 3, 3, 4, 6, 7)```"
   ]
  },
  {
   "cell_type": "code",
   "execution_count": 32,
   "metadata": {},
   "outputs": [
    {
     "name": "stdout",
     "output_type": "stream",
     "text": [
      "7\n",
      "----------------------------------------------------------------------------------------------------\n",
      "(3, 29, 45, 67, 78, 90)\n",
      "----------------------------------------------------------------------------------------------------\n",
      "26\n",
      "----------------------------------------------------------------------------------------------------\n",
      "False\n"
     ]
    }
   ],
   "source": [
    "ejer_9 = (3, 20, 3, 47, 19, 3, 29, 45, 67, 78, 90, 3, 3, 5, 2, 4, 7, 9, 4, 2, 4, 3, 3, 4, 6, 7)\n",
    "\n",
    "#1\n",
    "veces_3=ejer_9.count(3) #Las veces que se repite el numero 3 en la tupla\n",
    "print(veces_3)\n",
    "print('-'*100)\n",
    "\n",
    "#2\n",
    "nueva_9=ejer_9[5:11] #KONTUZ: bi puntuak jartzean n-1 garren elementurarte doa\n",
    "print(nueva_9)\n",
    "print('-'*100)\n",
    "\n",
    "#3\n",
    "print(len(ejer_9)) #Longitud de la tupla\n",
    "print('-'*100)\n",
    "\n",
    "#4\n",
    "print(60 in ejer_9) #True si 60 esta en la tupla, false si no esta\n"
   ]
  },
  {
   "cell_type": "markdown",
   "metadata": {},
   "source": [
    "## Ejercicio 10\n",
    "1. Convierte la tupla del ejercicio 9 en una lista\n",
    "2. Convierte la tupla del ejercicio 9 en un set\n",
    "3. Convierte la tupla del ejercicio 9 en un diccionario. Usa también los indices"
   ]
  },
  {
   "cell_type": "code",
   "execution_count": 41,
   "metadata": {},
   "outputs": [
    {
     "name": "stdout",
     "output_type": "stream",
     "text": [
      "[3, 20, 3, 47, 19, 3, 29, 45, 67, 78, 90, 3, 3, 5, 2, 4, 7, 9, 4, 2, 4, 3, 3, 4, 6, 7]\n",
      "{2, 3, 67, 5, 4, 7, 6, 9, 45, 78, 47, 19, 20, 90, 29}\n",
      "[(0, 3), (1, 20), (2, 3), (3, 47), (4, 19), (5, 3), (6, 29), (7, 45), (8, 67), (9, 78), (10, 90), (11, 3), (12, 3), (13, 5), (14, 2), (15, 4), (16, 7), (17, 9), (18, 4), (19, 2), (20, 4), (21, 3), (22, 3), (23, 4), (24, 6), (25, 7)]\n",
      "{0: 3, 1: 20, 2: 3, 3: 47, 4: 19, 5: 3, 6: 29, 7: 45, 8: 67, 9: 78, 10: 90, 11: 3, 12: 3, 13: 5, 14: 2, 15: 4, 16: 7, 17: 9, 18: 4, 19: 2, 20: 4, 21: 3, 22: 3, 23: 4, 24: 6, 25: 7}\n"
     ]
    }
   ],
   "source": [
    "ejer_9 = (3, 20, 3, 47, 19, 3, 29, 45, 67, 78, 90, 3, 3, 5, 2, 4, 7, 9, 4, 2, 4, 3, 3, 4, 6, 7)\n",
    "\n",
    "#a lista\n",
    "lista_9=list(ejer_9)\n",
    "print(lista_9)\n",
    "\n",
    "#a set\n",
    "set_9=set(ejer_9)\n",
    "print(set_9)\n",
    "\n",
    "#A diccionario\n",
    "lista_tupl=list(ejer_9)\n",
    "enumera=list(enumerate(lista_tupl)) #Crea  una lista con cada elementpo de tupla y su indice correspondiente\n",
    "dic_9=dict(enumera)\n",
    "print(enumera)\n",
    "print(dic_9)\n"
   ]
  },
  {
   "cell_type": "markdown",
   "metadata": {},
   "source": [
    "## Ejercicio 11\n",
    "Convierte la siguiente lista en un diccionario\n",
    "> ```ejer_11 = [(\"x\", 1), (\"x\", 2), (\"x\", 3), (\"y\", 1), (\"y\", 2), (\"z\", 1)]```\n",
    "\n",
    "TIP: Puedes usar dos variables de control en un bucle `for`. Una por cada valor de las tuplas."
   ]
  },
  {
   "cell_type": "code",
   "execution_count": 52,
   "metadata": {},
   "outputs": [
    {
     "name": "stdout",
     "output_type": "stream",
     "text": [
      "{'x': 3, 'y': 2, 'z': 1}\n"
     ]
    }
   ],
   "source": [
    "ejer_11 = [(\"x\", 1), (\"x\", 2), (\"x\", 3), (\"y\", 1), (\"y\", 2), (\"z\", 1)]\n",
    "#CUIDADO EN UN DICCINARIO NO SE PUEDEN REPETIR LAS CLAVES. \n",
    "#La ultima clave de todas es la que se guardara\n",
    "dic_11={}\n",
    "for elemento in ejer_11:\n",
    "    dic_11[elemento[0]]=elemento[1]\n",
    "    \n",
    "\n",
    "print(dic_11)"
   ]
  },
  {
   "cell_type": "code",
   "execution_count": 53,
   "metadata": {},
   "outputs": [
    {
     "name": "stdout",
     "output_type": "stream",
     "text": [
      "{'x': 3, 'y': 2, 'z': 1}\n"
     ]
    }
   ],
   "source": [
    "ejer_11 = [(\"x\", 1), (\"x\", 2), (\"x\", 3), (\"y\", 1), (\"y\", 2), (\"z\", 1)]\n",
    "print(dict(ejer_11))"
   ]
  },
  {
   "cell_type": "markdown",
   "metadata": {},
   "source": [
    "## Ejercicio 12\n",
    "1. Crea una lista ordenada ascendente con las claves del diccionario\n",
    "2. Crea otra lista ordenada descendente con los valores\n",
    "3. Añade una nueva clave/valor\n",
    "4. Busca la clave con el valor de 2 dentro del diccionario\n",
    "5. Itera la clave y el valor del diccionario con un unico for\n",
    "> ```ejer_12 = {4:78, 2:98, 8:234, 5:29}```"
   ]
  },
  {
   "cell_type": "code",
   "execution_count": 71,
   "metadata": {},
   "outputs": [
    {
     "name": "stdout",
     "output_type": "stream",
     "text": [
      "[2, 4, 5, 8]\n",
      "[234, 98, 78, 29]\n"
     ]
    }
   ],
   "source": [
    "ejer_12 = {4:78, 2:98, 8:234, 5:29}\n",
    "\n",
    "#Sin usar bucles for podemos obtener claves y valores de un diccionario directamente\n",
    "lista_claves=list(ejer_12.keys())\n",
    "lista_valores=list(ejer_12.values())\n",
    "\n",
    "lista_claves.sort() #Ordena de menor a mayor (ascendente)\n",
    "lista_valores.sort(reverse=True) #Ordena en orden descendente\n",
    "\n",
    "\n",
    "print(lista_claves)\n",
    "print(lista_valores)"
   ]
  },
  {
   "cell_type": "code",
   "execution_count": 59,
   "metadata": {},
   "outputs": [
    {
     "name": "stdout",
     "output_type": "stream",
     "text": [
      "[2, 4, 5, 8]\n",
      "[234, 98, 78, 29]\n"
     ]
    }
   ],
   "source": [
    "ejer_12 = {4:78, 2:98, 8:234, 5:29}\n",
    "lista_claves=[]\n",
    "lista_valores=[]\n",
    "\n",
    "for clave in ejer_12:\n",
    "    lista_claves.append(clave)\n",
    "    lista_valores.append(ejer_12[clave])\n",
    "\n",
    "lista_claves.sort() #Ordena de menor a mayor (ascendente)\n",
    "lista_valores.sort(reverse=True) #Ordena en orden descendente\n",
    "\n",
    "print(lista_claves)\n",
    "print(lista_valores)"
   ]
  },
  {
   "cell_type": "code",
   "execution_count": 60,
   "metadata": {},
   "outputs": [
    {
     "name": "stdout",
     "output_type": "stream",
     "text": [
      "[2, 4, 5, 8]\n",
      "[234, 98, 78, 29]\n"
     ]
    }
   ],
   "source": [
    "#Otra opcion es que recorra tanto las claves como los valores\n",
    "ejer_12 = {4:78, 2:98, 8:234, 5:29}\n",
    "lista_claves=[]\n",
    "lista_valores=[]\n",
    "\n",
    "for clave, valor in ejer_12.items():\n",
    "    lista_claves.append(clave)\n",
    "    lista_valores.append(valor)\n",
    "\n",
    "lista_claves.sort() #Ordena de menor a mayor (ascendente)\n",
    "lista_valores.sort(reverse=True) #Ordena en orden descendente\n",
    "\n",
    "print(lista_claves)\n",
    "print(lista_valores)"
   ]
  },
  {
   "cell_type": "code",
   "execution_count": 67,
   "metadata": {},
   "outputs": [
    {
     "name": "stdout",
     "output_type": "stream",
     "text": [
      "{4: 78, 2: 98, 8: 234, 5: 29, 3: 102}\n",
      "98\n"
     ]
    }
   ],
   "source": [
    "ejer_12 = {4:78, 2:98, 8:234, 5:29}\n",
    "\n",
    "#Añadir un nuevo clave-valor\n",
    "ejer_12[3]=102\n",
    "print(ejer_12)\n",
    "\n",
    "#Buscar clave con el valor 2 dentro del diccionario\n",
    "for clave, valor in ejer_12.items():\n",
    "    if clave==2:\n",
    "        print(valor)\n",
    "\n"
   ]
  },
  {
   "cell_type": "markdown",
   "metadata": {},
   "source": [
    "## Ejercicio 13\n",
    "Junta ambos diccionarios. Para ello, utiliza `update`\n",
    "> ```ejer_13_1 = {1: 11, 2: 22}```\n",
    ">\n",
    "> ```ejer_13_2 = {3: 33, 4: 44}```"
   ]
  },
  {
   "cell_type": "code",
   "execution_count": 72,
   "metadata": {},
   "outputs": [
    {
     "name": "stdout",
     "output_type": "stream",
     "text": [
      "{1: 11, 2: 22, 3: 33, 4: 44}\n"
     ]
    }
   ],
   "source": [
    "ejer_13_1 = {1: 11, 2: 22}\n",
    "ejer_13_2 = {3: 33, 4: 44}\n",
    "\n",
    "ejer_13_1.update(ejer_13_2)\n",
    "print(ejer_13_1)"
   ]
  },
  {
   "cell_type": "code",
   "execution_count": 75,
   "metadata": {},
   "outputs": [
    {
     "name": "stdout",
     "output_type": "stream",
     "text": [
      "{1: 11, 2: 22, 3: 33, 4: 44}\n"
     ]
    }
   ],
   "source": [
    "ejer_13_1 = {1: 11, 2: 22}\n",
    "ejer_13_2 = {3: 33, 4: 44}\n",
    "\n",
    "ejer_13={}\n",
    "ejer_13.update(ejer_13_1)\n",
    "ejer_13.update(ejer_13_2)\n",
    "\n",
    "print(ejer_13)"
   ]
  },
  {
   "cell_type": "markdown",
   "metadata": {},
   "source": [
    "## Ejercicio 14\n",
    "Suma todos los valores del dicionario\n",
    "> ```ejer_14 = {1: 11, 2: 22, 3: 33, 4: 44, 5: 55}```"
   ]
  },
  {
   "cell_type": "code",
   "execution_count": 79,
   "metadata": {},
   "outputs": [
    {
     "name": "stdout",
     "output_type": "stream",
     "text": [
      "165\n"
     ]
    }
   ],
   "source": [
    "#OPCION 1: crear una lista con los valores y aplicar el operador sum (suma todos los valores de una lista)\n",
    "ejer_14 = {1: 11, 2: 22, 3: 33, 4: 44, 5: 55}\n",
    "\n",
    "lista_valores=list(ejer_14.values())\n",
    "print(sum(lista_valores))"
   ]
  },
  {
   "cell_type": "code",
   "execution_count": 6,
   "metadata": {},
   "outputs": [
    {
     "name": "stdout",
     "output_type": "stream",
     "text": [
      "165\n"
     ]
    }
   ],
   "source": [
    "ejer_14 = {1: 11, 2: 22, 3: 33, 4: 44, 5: 55}\n",
    "print(sum(list(ejer_14.values())))"
   ]
  },
  {
   "cell_type": "code",
   "execution_count": 81,
   "metadata": {},
   "outputs": [
    {
     "name": "stdout",
     "output_type": "stream",
     "text": [
      "165\n"
     ]
    }
   ],
   "source": [
    "#OPCION 2: ir sumando los valores de uno en uno \n",
    "ejer_14 = {1: 11, 2: 22, 3: 33, 4: 44, 5: 55}\n",
    "\n",
    "suma=0\n",
    "for clave,valor in ejer_14.items():\n",
    "    suma+=valor\n",
    "\n",
    "print(suma)"
   ]
  },
  {
   "cell_type": "markdown",
   "metadata": {},
   "source": [
    "## Ejercicio 15\n",
    "Multiplica todos los valores del diccionario\n",
    "> ```ejer_15 = {1: 11, 2: 22, 3: 33, 4: 44, 5: 55}```"
   ]
  },
  {
   "cell_type": "code",
   "execution_count": 83,
   "metadata": {},
   "outputs": [
    {
     "name": "stdout",
     "output_type": "stream",
     "text": [
      "[11, 22, 33, 44, 55]\n",
      "19326120\n"
     ]
    }
   ],
   "source": [
    "ejer_15 = {1: 11, 2: 22, 3: 33, 4: 44, 5: 55}\n",
    "#Creamos una lista que contenga los valores del diccionario\n",
    "lista_15=list(ejer_15.values())\n",
    "print(lista_15)\n",
    "\n",
    "sol=1\n",
    "for i in lista_15:\n",
    "    sol=sol*i #Tambien lo podemos expresar de manera: sol*=i\n",
    "\n",
    "print(sol)\n"
   ]
  },
  {
   "cell_type": "markdown",
   "metadata": {},
   "source": [
    "## Ejercicio 16\n",
    "1. Crea un set de tres elementos\n",
    "2. Añade un cuarto\n",
    "3. Elimina el último elemento añadido\n",
    "4. Elimina el elemento 10, si está presente. Usa `discard()`"
   ]
  },
  {
   "cell_type": "code",
   "execution_count": 87,
   "metadata": {},
   "outputs": [
    {
     "name": "stdout",
     "output_type": "stream",
     "text": [
      "{'hola', 1, 2, 3}\n",
      "{1, 2, 3}\n"
     ]
    }
   ],
   "source": [
    "ejer_16={1,2,3}\n",
    "ejer_16.add('hola')\n",
    "print(ejer_16)\n",
    "ejer_16.remove('hola')\n",
    "print(ejer_16)\n"
   ]
  },
  {
   "cell_type": "code",
   "execution_count": 89,
   "metadata": {},
   "outputs": [
    {
     "name": "stdout",
     "output_type": "stream",
     "text": [
      "{1, 2, 3}\n"
     ]
    }
   ],
   "source": [
    "#El metodo discard elimina un valor especifico de un set\n",
    "ejer_16={1,2,3}\n",
    "ejer_16.discard(10) #No existe el elemento 10 en el set por lo tanto no modifica nada\n",
    "print(ejer_16)"
   ]
  },
  {
   "cell_type": "code",
   "execution_count": 91,
   "metadata": {},
   "outputs": [
    {
     "name": "stdout",
     "output_type": "stream",
     "text": [
      "{2, 10, 3, 4}\n",
      "{2, 3, 4}\n"
     ]
    }
   ],
   "source": [
    "ejer_16={10,2,3,4}\n",
    "print(ejer_16)\n",
    "ejer_16.discard(10) #Como existe el elemento 10, lo borra\n",
    "print(ejer_16)"
   ]
  }
 ],
 "metadata": {
  "kernelspec": {
   "display_name": "Python 3",
   "language": "python",
   "name": "python3"
  },
  "language_info": {
   "codemirror_mode": {
    "name": "ipython",
    "version": 3
   },
   "file_extension": ".py",
   "mimetype": "text/x-python",
   "name": "python",
   "nbconvert_exporter": "python",
   "pygments_lexer": "ipython3",
   "version": "3.11.5"
  },
  "vscode": {
   "interpreter": {
    "hash": "abc9fc88bc0e5c548c5da0f33af674c000293e7a58ee42428ace4cfa52bc0e99"
   }
  }
 },
 "nbformat": 4,
 "nbformat_minor": 4
}
