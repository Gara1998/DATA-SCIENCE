{
 "cells": [
  {
   "attachments": {},
   "cell_type": "markdown",
   "metadata": {},
   "source": [
    "# <p style=\"text-align: center;\">Examen RampUp Sept2023</p>"
   ]
  },
  {
   "attachments": {},
   "cell_type": "markdown",
   "metadata": {},
   "source": [
    "#### 1 (*2.5 puntos*). Diseñar una función que reciba como entrada una lista de letras y una frase en formato string. La función tiene que devolver un diccionario con las letras de la lista como claves y sus respectivas frecuencias como valores (ver el ejemplo). \n",
    "\n",
    "Ejemplo:\n",
    "* input: [\\'l\\',\\'a\\'], \\'Hace frío en la sala\\'\n",
    "* output: {\\'l\\': 2, \\'a\\':4}"
   ]
  },
  {
   "cell_type": "code",
   "execution_count": 16,
   "metadata": {},
   "outputs": [],
   "source": [
    "def ejer_1(lista1,frase1):\n",
    "\n",
    "    solucion={}\n",
    "    lista1_minus=[] #Paso tanto la frase como las letras de la lista a minusculas para que no se coma ninguna letra.\n",
    "\n",
    "    for x in lista1: #Creo el diccionario con el contador a 0.\n",
    "        lista1_minus.append(x.lower()) \n",
    "        solucion[x.lower()]=0 \n",
    "\n",
    "    for x in frase1.lower(): #Cuento las letras.\n",
    "        if x in lista1_minus:\n",
    "            solucion[x]+=1\n",
    "\n",
    "    return solucion"
   ]
  },
  {
   "cell_type": "code",
   "execution_count": null,
   "metadata": {},
   "outputs": [],
   "source": [
    "def ejer_1(letras,frase):\n",
    "\n",
    "    frec={}\n",
    "    frase=frase.lower()\n",
    "\n",
    "    for l in letras:\n",
    "        frec[l]=frase.count(l)\n",
    "\n",
    "    return frec"
   ]
  },
  {
   "cell_type": "code",
   "execution_count": 20,
   "metadata": {},
   "outputs": [
    {
     "data": {
      "text/plain": [
       "{'e': 2, 'a': 4}"
      ]
     },
     "execution_count": 20,
     "metadata": {},
     "output_type": "execute_result"
    }
   ],
   "source": [
    "ejer_1(['e','A'], 'Hace frio en la sala')"
   ]
  },
  {
   "attachments": {},
   "cell_type": "markdown",
   "metadata": {},
   "source": [
    "#### 2 (*2.5 puntos*). Diseñar una función que reciba como entrada una frase (frase sin comas ni punto coma) en formato string. La función tiene que devolver la palabra con mayor frecuencia de aparición y su respectiva frecuencia. En caso de empate, tiene que devolver la primer palabra que encuentre con mayor frecuencia (ver el ejemplo). \n",
    "\n",
    "Ejemplo:\n",
    "* input: 'El sistema garantiza un servicio de protección de datos'\n",
    "* output: 'de' 2"
   ]
  },
  {
   "cell_type": "code",
   "execution_count": 45,
   "metadata": {},
   "outputs": [],
   "source": [
    "def ejer_2(frase2):\n",
    "\n",
    "    lista2=frase2.lower().split() #Convierto en minus, ya que en la frase pueden apareces tanto mayusculas como minusculas.\n",
    "    dict_contador={}\n",
    "\n",
    "    for x in lista2:\n",
    "        dict_contador[x]=lista2.count(x) #Creo un diccionario que guarde cada palabra de la frase (key) con su frecuencia (value).\n",
    "\n",
    "    frecuencias=dict_contador.values() #Creamos una lista con las frecuencias.\n",
    "    mayor_frec=max(frecuencias) #Valor maximo.\n",
    "\n",
    "    for clave, valor in dict_contador.items():\n",
    "        if valor==mayor_frec:\n",
    "            return '{} {}'.format(clave,valor) #Nos devuelve todo en formato string. En caso de empate nos devolveria unicamente la primera palabra."
   ]
  },
  {
   "cell_type": "code",
   "execution_count": 1,
   "metadata": {},
   "outputs": [],
   "source": [
    "def ejer_2(frase):\n",
    "    palabras=frase.split(' ')\n",
    "    frecs=[]\n",
    "\n",
    "    for pal in palabras:\n",
    "        frecs.append(palabras.count(pal))\n",
    "\n",
    "    max_frec=max(frecs)\n",
    "    ind=frecs.index(max_frec)\n",
    "\n",
    "    return palabras[ind], max_frec"
   ]
  },
  {
   "cell_type": "code",
   "execution_count": 2,
   "metadata": {},
   "outputs": [
    {
     "data": {
      "text/plain": [
       "('el', 3)"
      ]
     },
     "execution_count": 2,
     "metadata": {},
     "output_type": "execute_result"
    }
   ],
   "source": [
    "ejer_2('El el el el sistema garantiza un servicio de protección de datos')"
   ]
  },
  {
   "attachments": {},
   "cell_type": "markdown",
   "metadata": {},
   "source": [
    "#### 3 (*2.5 puntos*). Diseñar una función que dada una lista de números reales y un número entero, devuelva todas las combinaciones únicas de pares de números cuya suma sea igual al número entero indicado (ver ejemplo). \n",
    "\n",
    "Ejemplo:\n",
    "* input: [3, -7, 5, 0, 2, -8, -1, -1, -1, 3, 0], 2 \n",
    "* output: [[3,-1], [0,2]]"
   ]
  },
  {
   "cell_type": "code",
   "execution_count": null,
   "metadata": {},
   "outputs": [],
   "source": [
    "#ESTE NO LO TENGO DEL TODO BIEN MIRAR LA RESOLUCION SUBIDA"
   ]
  },
  {
   "cell_type": "code",
   "execution_count": 164,
   "metadata": {},
   "outputs": [],
   "source": [
    "def ejer_3(lista_real,entero):\n",
    "\n",
    "    entrada=list(set(lista_real)) #No quiero numeros repetidos. mejor no usar sets xk  podemos omitir resultados\n",
    "    n=len(entrada)\n",
    "    sol=[]\n",
    "\n",
    "    for i in range(n):\n",
    "        fijo=lista_real[i]\n",
    "        for j in range(n):\n",
    "            if fijo+entrada[j]==entero:\n",
    "                solucion=[fijo,entrada[j]]\n",
    "                solucion.sort() #Ordeno para que todos esten igual y poder borrarlo mas facilmente\n",
    "                if solucion not in sol:\n",
    "                    sol.append(solucion)\n",
    "\n",
    "    \n",
    "    return sol"
   ]
  },
  {
   "cell_type": "code",
   "execution_count": 162,
   "metadata": {},
   "outputs": [
    {
     "data": {
      "text/plain": [
       "[[-1, 3], [0, 2]]"
      ]
     },
     "execution_count": 162,
     "metadata": {},
     "output_type": "execute_result"
    }
   ],
   "source": [
    "ejer_3([3, -7, 5, 0, 2, -8, -1, -1, -1, 3, 0], 2 )\n"
   ]
  },
  {
   "attachments": {},
   "cell_type": "markdown",
   "metadata": {},
   "source": [
    "#### 4 (*2.5 puntos*). Define una función que dada una lista de números naturales consecutivos ordenados (ascendente), devuelve los números que faltan en la lista (ver ejemplo). \n",
    "\n",
    "Ejemplo:\n",
    "* input: [3,4,6,7,9,12]\n",
    "* output: [5,8,10,11]"
   ]
  },
  {
   "cell_type": "code",
   "execution_count": 7,
   "metadata": {},
   "outputs": [],
   "source": [
    "def ejer_4(list_num):\n",
    "    list_num_tot=set(range(list_num[0],(list_num[-1]+1))) #Tambien podemos hacerlo con SETS\n",
    "    return sorted(list_num_tot-set(list_num))"
   ]
  },
  {
   "cell_type": "code",
   "execution_count": 163,
   "metadata": {},
   "outputs": [],
   "source": [
    "def ejer_4(lista4):\n",
    "\n",
    "    n=len(lista4)\n",
    "    lista_nueva=[]\n",
    "    solucion=[]\n",
    "\n",
    "    for i in range(lista4[0],lista4[n-1]+1): #Creo una nueva lista con todos los numeros naturales desde el inicio marcado en la lista dada.\n",
    "        lista_nueva.append(i)\n",
    "\n",
    "    solucion=[num for num in lista_nueva if num not in lista4] #Comparo las listas.\n",
    "    return solucion"
   ]
  },
  {
   "cell_type": "code",
   "execution_count": 8,
   "metadata": {},
   "outputs": [
    {
     "data": {
      "text/plain": [
       "[5, 8, 10, 11]"
      ]
     },
     "execution_count": 8,
     "metadata": {},
     "output_type": "execute_result"
    }
   ],
   "source": [
    "ejer_4([3,4,6,7,9,12])"
   ]
  }
 ],
 "metadata": {
  "kernelspec": {
   "display_name": "base",
   "language": "python",
   "name": "python3"
  },
  "language_info": {
   "codemirror_mode": {
    "name": "ipython",
    "version": 3
   },
   "file_extension": ".py",
   "mimetype": "text/x-python",
   "name": "python",
   "nbconvert_exporter": "python",
   "pygments_lexer": "ipython3",
   "version": "3.11.5"
  },
  "orig_nbformat": 4,
  "vscode": {
   "interpreter": {
    "hash": "3c06e3e46abf38078fe4dac36a0085ec2b134ebbd73dd076183d243eeca6918f"
   }
  }
 },
 "nbformat": 4,
 "nbformat_minor": 2
}
