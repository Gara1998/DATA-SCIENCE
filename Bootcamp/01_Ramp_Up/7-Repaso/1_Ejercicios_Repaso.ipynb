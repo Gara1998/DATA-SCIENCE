{
 "cells": [
  {
   "attachments": {},
   "cell_type": "markdown",
   "metadata": {},
   "source": [
    "### Ejercicio 1 \n",
    "En este ejercicio se va a crear una lista con los siguientes elementos. Primero, crearemos las variables que luego añadiremos a la lista. Las variables son las siguientes:\n",
    "\n",
    "1. Crea una variable llamada `edad` de tipo Integer que represente tu edad en años. \n",
    "2. Crea una variable llamada `poblacion` de tipo String , con tu población de nacimiento. \n",
    "3. Crea una variable llamada `altura` con el valor de tu altura en metros de tipo float.\n",
    "4. Crea una variable llamada `s_operativo` de tipo Boolean True si usas Windows y False si usas otro.\n",
    "5. Crea una variable llamada `nada` de tipo None cuyo valor sea None.\n",
    "6. Crea una variable llamada `lista_vacaciones` de tipo List que contenga 5 destinos de viaje a los que te gustaría ir. Cada elemento ha de ser de tipo String.\n",
    "7. Crea una variable llamada `tupla_isla` de tipo Tuple con tres objetos que te llevarías a una isla desierta.\n",
    "8. Crea una variable llamada `dict_pc` con dos keys y dos values. Una key es `marca`, teniendo como value la marca de tu pc de tipo String. Otra key es la `ram`, cuyo valor es es un entero del número de gigas de la ram de tu ordenador\n",
    "9. Añade todos estos elementos en una lista llamada `lista_examen` en el orden de aparición.\n",
    "10. Guarda en la variable `lon_lista_examen` la longitud de `lista_examen`."
   ]
  },
  {
   "cell_type": "code",
   "execution_count": 60,
   "metadata": {},
   "outputs": [
    {
     "name": "stdout",
     "output_type": "stream",
     "text": [
      "[25, 'Zeberio', 1.59, False, None, ['Barcelona', 'Paris', 'Canarias', 'Roma'], ('agua', 'botiquin', 'comida'), {'marca': 'apple', 'ram': '32Gb'}]\n",
      "8\n"
     ]
    }
   ],
   "source": [
    "edad=25\n",
    "poblacion='Zeberio'\n",
    "altura=1.59\n",
    "s_operativo=False #True si es Window False si es otro\n",
    "nada=None\n",
    "lista_vacaciones=['Barcelona','Paris','Canarias','Roma']\n",
    "tupla_isla=('agua','botiquin','comida')\n",
    "dict_pc={'marca':'apple', 'ram':'32Gb'}\n",
    "\n",
    "lista_examen=[edad,poblacion,altura,s_operativo,nada,lista_vacaciones,tupla_isla,dict_pc]\n",
    "print(lista_examen)\n",
    "\n",
    "lon_lista_examen=len(lista_examen)\n",
    "print(lon_lista_examen)"
   ]
  },
  {
   "attachments": {},
   "cell_type": "markdown",
   "id": "ff4becae-86c4-46ab-9e09-3aeec5296700",
   "metadata": {},
   "source": [
    "### Ejercicio 2 \n",
    "\n",
    "Para resolver este ejercicio necesitarás la lista del ejercicio anterior (`lista_examen`). Se recomienda leer cada punto hasta el final antes de resolver el ejercicio.\n",
    "\n",
    "Se repite para que quede aún más claro: **SOLO USAR LA VARIABLE** `lista_examen`. Usar otra variable se calificará como error.  \n",
    "\n",
    "1. Guardar en las variables, sin uso de funciones (puedes usar print) ni bucles: \n",
    "    - `res21` El tercer destino de vacaciones\n",
    "    - `res22` El penúltimo objeto que te llevarías a una isla para todo tipo de longitudes de listados.\n",
    "    - `res23` Los 3 primeros caracteres de la población de nacimiento.\n",
    "    - `res24` Una lista de los valores del diccionario de tu pc.\n",
    "    - `res25` Guardar dentro del diccionario dentro de `lista_examen` una nueva clave llamada `s_operativo` con una lista de 3 booleanos, True si es Windows, de tus últimos 3 pcs.\n",
    "\n",
    "<br></br>   \n",
    "    \n",
    "2. Mostrar por pantalla, con uso de un bucle `for`:\n",
    "    - Las posiciones y elementos de `lista_examen` de las posiciones impares.\n",
    "    - Todos los elementos de `lista_examen` al revés.\n",
    "    - Todos aquellos elementos que sean colecciones ordenadas de `lista_examen`, si no lo son, imprimir el tipo.\n",
    "\n",
    "<br></br>  \n",
    "\n",
    "3. Con uso del bucle `while`, borra los destinos por la cola hasta que tengas 3 destinos, y guarda esos destinos borrados en una nueva lista `destinos_borrados`.\n",
    "\n",
    "\n",
    "    \n",
    "\n",
    "    "
   ]
  },
  {
   "cell_type": "code",
   "execution_count": 61,
   "metadata": {},
   "outputs": [
    {
     "name": "stdout",
     "output_type": "stream",
     "text": [
      "[25, 'Zeberio', 1.59, False, None, ['Barcelona', 'Paris', 'Canarias', 'Roma'], ('agua', 'botiquin', 'comida'), {'marca': 'apple', 'ram': '32Gb'}]\n",
      "Canarias\n",
      "botiquin\n",
      "Zeb\n",
      "['apple', '32Gb']\n",
      "[25, 'Zeberio', 1.59, False, None, ['Barcelona', 'Paris', 'Canarias', 'Roma'], ('agua', 'botiquin', 'comida'), {'marca': 'apple', 'ram': '32Gb', 's_operativo': [False, True, True]}]\n"
     ]
    }
   ],
   "source": [
    "#Editaremos lista_examen\n",
    "print(lista_examen) \n",
    "\n",
    "res21=lista_examen[5][2]\n",
    "print(res21)\n",
    "\n",
    "list_isla=lista_examen[6]\n",
    "res22=list_isla[-2] #Penultimo objeto (indices negativos)\n",
    "print(res22)\n",
    "\n",
    "lista_pobl=list(lista_examen[1])\n",
    "res23=''.join(lista_pobl[0:3])\n",
    "print(res23)\n",
    "\n",
    "res24=list(lista_examen[7].values())\n",
    "print(res24)\n",
    "\n",
    "lista_examen[7]['s_operativo']=[False,True,True]\n",
    "print(lista_examen)\n"
   ]
  },
  {
   "cell_type": "code",
   "execution_count": 62,
   "metadata": {},
   "outputs": [
    {
     "name": "stdout",
     "output_type": "stream",
     "text": [
      "(1, 'Zeberio')\n",
      "(3, False)\n",
      "(5, ['Barcelona', 'Paris', 'Canarias', 'Roma'])\n",
      "(7, {'marca': 'apple', 'ram': '32Gb', 's_operativo': [False, True, True]})\n"
     ]
    }
   ],
   "source": [
    "#Posiciones y elementos de la lista_examen de las posiciones impares\n",
    "lst_numerado=list(enumerate(lista_examen))\n",
    "for i in range(len(lst_numerado)):\n",
    "    if i%2==0:\n",
    "        continue\n",
    "    else:\n",
    "        print(lst_numerado[i])\n",
    "        "
   ]
  },
  {
   "cell_type": "code",
   "execution_count": 64,
   "metadata": {},
   "outputs": [
    {
     "name": "stdout",
     "output_type": "stream",
     "text": [
      "[{'marca': 'apple', 'ram': '32Gb', 's_operativo': [False, True, True]}, ('agua', 'botiquin', 'comida'), ['Barcelona', 'Paris', 'Canarias', 'Roma'], None, False, 1.59, 'Zeberio', 25]\n"
     ]
    }
   ],
   "source": [
    "#Elementos de la lista examen al reves\n",
    "print(list(reversed(lista_examen))) #No editamos la lista original\n",
    "#con .reverse() editariamos la lista original"
   ]
  },
  {
   "cell_type": "code",
   "execution_count": 67,
   "metadata": {},
   "outputs": [
    {
     "name": "stdout",
     "output_type": "stream",
     "text": [
      "{'marca': 'apple', 'ram': '32Gb', 's_operativo': [False, True, True]}\n",
      "('agua', 'botiquin', 'comida')\n",
      "['Barcelona', 'Paris', 'Canarias', 'Roma']\n",
      "None\n",
      "False\n",
      "1.59\n",
      "Zeberio\n",
      "25\n"
     ]
    }
   ],
   "source": [
    "for i in range((lon_lista_examen-1),-1,-1):\n",
    "    print(lista_examen[i])"
   ]
  },
  {
   "cell_type": "code",
   "execution_count": 66,
   "metadata": {},
   "outputs": [
    {
     "name": "stdout",
     "output_type": "stream",
     "text": [
      "['Barcelona', 'Paris', 'Canarias', 'Roma']\n"
     ]
    }
   ],
   "source": [
    "#Imprimir las colecciones ORDENADAS de lista_examen y sino el tipo \n",
    "#Colecciones ordenadas: listas,sets\n",
    "for x in lista_examen:\n",
    "    if type(x)==list or type(x)==set:\n",
    "        print(x)"
   ]
  },
  {
   "cell_type": "code",
   "execution_count": 68,
   "metadata": {},
   "outputs": [
    {
     "data": {
      "text/plain": [
       "[25,\n",
       " 'Zeberio',\n",
       " 1.59,\n",
       " False,\n",
       " None,\n",
       " ['Barcelona', 'Paris', 'Canarias', 'Roma'],\n",
       " ('agua', 'botiquin', 'comida'),\n",
       " {'marca': 'apple', 'ram': '32Gb', 's_operativo': [False, True, True]}]"
      ]
     },
     "execution_count": 68,
     "metadata": {},
     "output_type": "execute_result"
    }
   ],
   "source": [
    "lista_examen"
   ]
  },
  {
   "cell_type": "code",
   "execution_count": 69,
   "metadata": {},
   "outputs": [
    {
     "name": "stdout",
     "output_type": "stream",
     "text": [
      "[25, 'Zeberio', 1.59, False, None, ['Barcelona', 'Paris', 'Canarias'], ('agua', 'botiquin', 'comida'), {'marca': 'apple', 'ram': '32Gb', 's_operativo': [False, True, True]}]\n",
      "['Roma']\n"
     ]
    }
   ],
   "source": [
    "#Borrar destisnos hasta tener 3, y guardar los borrados en destinos_borrados\n",
    "destino_borrado=[]\n",
    "while len(lista_examen[5])>3:\n",
    "    destino_borrado.append(lista_examen[5].pop(-1))\n",
    "\n",
    "print (lista_examen)\n",
    "print(destino_borrado)"
   ]
  },
  {
   "attachments": {},
   "cell_type": "markdown",
   "metadata": {},
   "source": [
    "### Ejercicio 3\n",
    "\n",
    "#### Crear un programa que calcule la cuota de una hipoteca\n",
    "\n",
    "Las cuotas hipotecarias se calculan utilizando la fórmula del interés francés. \n",
    "\n",
    "La fórmula del interés frances es la siguiente:\n",
    "\\begin{align*}\n",
    "C=V \\frac{(1+i)^n i}{(1+i)^n -1}\n",
    "\\end{align*}\n",
    "\n",
    "\n",
    "    C = cuota a pagar (mensual)\n",
    "    V = volumen del préstamo hipotecario\n",
    "    i = tipo de interés del período (mensual)\n",
    "    n = número de cuotas (mensuales)\n",
    "\n",
    "1. Crea un programa que solicite al usuario los datos de su hipoteca mediante input() los datos (volumen, interés **anual**, y plazo en **años**) y le devuelva la cuota **mensual** a pagar. No es necesario encapsularlo en funciones.\n",
    "\n",
    "2. Crea una función `calcular_hip` que realiza el cálculo y cuyos argumentos de entrada sean `volumen`, `interes_anual` y `años`, devolviendo la couta mensual(float). El argumento de `años` deberá de tener un valor por defecto de 30.\n",
    "3. Calcula la cuota y guárdala en la variable `res_cuota` si la cantidad de la hipoteca son 350000 euros, el interés anual es del 5% y la quiere pagar en 20 años a partir de la función `calcular_hip`.\n",
    "4. Crea una función `gasto_vivienda`, con dos argumentos de entrada `ingreso` y `lista_hip`. Esta lista tendrá los 3 valores de los argumentos de entrada de `calcular_hip`, siendo esta una función que deberá ser utilizada dentro de `gasto_vivienda`. Tiene que devolver el valor del porcentaje de gasto en la hipoteca respecto a los ingresos. (Entre 0 y 1, es decir 0.5 si es del 50%)\n",
    "5. Calcula el porcentaje de gasto en la hipoteca si el ingreso es de 1700 euros y guárdalo en la variable `res_porcentaje`.\n",
    "6. Documenta ambas funciones con el estilo de Google.\n"
   ]
  },
  {
   "cell_type": "code",
   "execution_count": null,
   "metadata": {},
   "outputs": [],
   "source": []
  },
  {
   "attachments": {},
   "cell_type": "markdown",
   "metadata": {},
   "source": [
    "### Ejercicio 4 \n",
    "\n",
    "1. Crea una clase `Cliente` que tenga 1 atributo general `mamífero`(bool True) y 6 atributos en el constructor: `ojos`(int default 2), `altura`(float), `edad`(int), `ahorros`(float), `target`(bool default True) y `nombre`(str). Además, debe contar con dos métodos: \n",
    "\n",
    "- `cumplir_edad()`: al llamar a este método se debe sumar 1 al atributo edad del cliente y que retorne \"Felices x años!\" con la edad actualizada. Si cumple 80, su altura pasará a ser el 90% de su altura original.\n",
    "- `comprar()` que recibe el argumento de `volumen_gasto`(list): este método debe actualizar el atributo de ahorros, restándole el volumen del gasto total, retornando esos ahorros actualizados. Si el cliente tiene 0 ahorros o menos, deberá de cambiar el atributo `target` a False.\n",
    "\n",
    "2. (a partir de la variable **`lista_examen`**) Crea un cliente instanciandolo en el objeto `cliente_1` llamado \"Manuel\" que tiene el doble de tu de edad y mide 10 centímetros menos que tu altura. Tiene unos ahorros de 3000 euros, y al ser un cliente con capacidad de gasto en nuestro negocio, queremos fidelizarlo en nuestra campaña, el valor `target` será True el resto de atributos puedes elegir un valor.\n",
    "\n",
    "3. (a partir de la variable **`lista_examen`**) Crea un cliente instanciandolo en el objeto `cliente_2` llamada \"Laura\" con la mitad de tu edad y la altura de Manuel. Tiene unos ahorros de 2000 euros y al ser un cliente con capacidad de gasto en nuestro negocio, queremos fidelizarlo en nuestra campaña, el valor `target` será True el resto de atributos puedes elegir un valor.\n",
    "\n",
    "4. Haz que cumplan años tus dos clientes. Les quieres fidelizar, por lo que les mandas una oferta comercial de productos. Manuel compra 3 productos de 1000, 400 y 2000 euros mientras que Laura compra solo 1 producto de 1000. Comprueba el valor de los atributos `edad` , `ahorros` y `target` de ambos clientes.\n",
    "\n",
    "5. Documenta la clase con el estilo de Google\n"
   ]
  },
  {
   "cell_type": "code",
   "execution_count": null,
   "metadata": {},
   "outputs": [],
   "source": []
  }
 ],
 "metadata": {
  "kernelspec": {
   "display_name": "Python 3",
   "language": "python",
   "name": "python3"
  },
  "language_info": {
   "codemirror_mode": {
    "name": "ipython",
    "version": 3
   },
   "file_extension": ".py",
   "mimetype": "text/x-python",
   "name": "python",
   "nbconvert_exporter": "python",
   "pygments_lexer": "ipython3",
   "version": "3.11.5"
  },
  "orig_nbformat": 4,
  "vscode": {
   "interpreter": {
    "hash": "abc9fc88bc0e5c548c5da0f33af674c000293e7a58ee42428ace4cfa52bc0e99"
   }
  }
 },
 "nbformat": 4,
 "nbformat_minor": 2
}
